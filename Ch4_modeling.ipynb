{
  "cells": [
    {
      "cell_type": "markdown",
      "id": "acdab431",
      "metadata": {
        "id": "acdab431"
      },
      "source": [
        "## 1. 데이터 확인"
      ]
    },
    {
      "cell_type": "markdown",
      "id": "2b8341e8",
      "metadata": {
        "id": "2b8341e8"
      },
      "source": [
        "### 필수 라이브러리"
      ]
    },
    {
      "cell_type": "code",
      "execution_count": 2,
      "id": "a315cc58",
      "metadata": {
        "id": "a315cc58"
      },
      "outputs": [],
      "source": [
        "import pandas as pd\n",
        "import numpy as np\n",
        "\n",
        "import matplotlib.pyplot as plt\n",
        "import seaborn as sns\n",
        "\n",
        "import warnings\n",
        "warnings.filterwarnings('ignore') # 경고 메세지 무시"
      ]
    },
    {
      "cell_type": "code",
      "execution_count": 3,
      "id": "38ccd6b1",
      "metadata": {},
      "outputs": [],
      "source": [
        "df_train_origin = pd.read_csv(\"./data/train.csv\") # 학습용 데이터\n",
        "df_test_origin = pd.read_csv(\"./data/submission.csv\") # 테스트 데이터(제출파일의 데이터)"
      ]
    },
    {
      "cell_type": "code",
      "execution_count": 4,
      "id": "0b323c11",
      "metadata": {},
      "outputs": [
        {
          "name": "stdout",
          "output_type": "stream",
          "text": [
            "<class 'pandas.core.frame.DataFrame'>\n",
            "RangeIndex: 59299 entries, 0 to 59298\n",
            "Data columns (total 29 columns):\n",
            " #   Column                   Non-Null Count  Dtype  \n",
            "---  ------                   --------------  -----  \n",
            " 0   bant_submit              59299 non-null  float64\n",
            " 1   customer_country         58317 non-null  object \n",
            " 2   business_unit            59299 non-null  object \n",
            " 3   com_reg_ver_win_rate     14568 non-null  float64\n",
            " 4   customer_idx             59299 non-null  int64  \n",
            " 5   customer_type            15338 non-null  object \n",
            " 6   enterprise               59299 non-null  object \n",
            " 7   historical_existing_cnt  13756 non-null  float64\n",
            " 8   id_strategic_ver         3444 non-null   float64\n",
            " 9   it_strategic_ver         1121 non-null   float64\n",
            " 10  idit_strategic_ver       4565 non-null   float64\n",
            " 11  customer_job             40566 non-null  object \n",
            " 12  lead_desc_length         59299 non-null  int64  \n",
            " 13  inquiry_type             58358 non-null  object \n",
            " 14  product_category         39925 non-null  object \n",
            " 15  product_subcategory      9235 non-null   object \n",
            " 16  product_modelname        9229 non-null   object \n",
            " 17  customer_country.1       58317 non-null  object \n",
            " 18  customer_position        59299 non-null  object \n",
            " 19  response_corporate       59299 non-null  object \n",
            " 20  expected_timeline        28436 non-null  object \n",
            " 21  ver_cus                  59299 non-null  int64  \n",
            " 22  ver_pro                  59299 non-null  int64  \n",
            " 23  ver_win_rate_x           18417 non-null  float64\n",
            " 24  ver_win_ratio_per_bu     15304 non-null  float64\n",
            " 25  business_area            18417 non-null  object \n",
            " 26  business_subarea         5526 non-null   object \n",
            " 27  lead_owner               59299 non-null  int64  \n",
            " 28  is_converted             59299 non-null  bool   \n",
            "dtypes: bool(1), float64(8), int64(5), object(15)\n",
            "memory usage: 12.7+ MB\n"
          ]
        }
      ],
      "source": [
        "df_train_origin.info()"
      ]
    },
    {
      "cell_type": "markdown",
      "id": "af526c13",
      "metadata": {
        "id": "af526c13"
      },
      "source": [
        "## 2. 데이터 전처리"
      ]
    },
    {
      "cell_type": "markdown",
      "id": "2cc30f10",
      "metadata": {
        "id": "2cc30f10"
      },
      "source": [
        "### 각 변수별 확인"
      ]
    },
    {
      "cell_type": "code",
      "execution_count": 5,
      "id": "596c0909",
      "metadata": {},
      "outputs": [],
      "source": [
        "df_train_process = pd.read_csv('./data/Ch2/df_train.csv')\n",
        "df_test_process = pd.read_csv('./data/Ch2/df_test.csv')"
      ]
    },
    {
      "cell_type": "code",
      "execution_count": 6,
      "id": "e0437e17",
      "metadata": {},
      "outputs": [
        {
          "name": "stdout",
          "output_type": "stream",
          "text": [
            "<class 'pandas.core.frame.DataFrame'>\n",
            "RangeIndex: 59299 entries, 0 to 59298\n",
            "Data columns (total 36 columns):\n",
            " #   Column                   Non-Null Count  Dtype  \n",
            "---  ------                   --------------  -----  \n",
            " 0   bant_submit              59299 non-null  float64\n",
            " 1   customer_country         59299 non-null  object \n",
            " 2   business_unit            59299 non-null  object \n",
            " 3   com_reg_ver_win_rate     14568 non-null  float64\n",
            " 4   customer_idx             59299 non-null  int64  \n",
            " 5   customer_type            59299 non-null  object \n",
            " 6   enterprise               59299 non-null  object \n",
            " 7   historical_existing_cnt  59299 non-null  float64\n",
            " 8   id_strategic_ver         59299 non-null  float64\n",
            " 9   it_strategic_ver         59299 non-null  float64\n",
            " 10  idit_strategic_ver       59299 non-null  float64\n",
            " 11  customer_job             59299 non-null  object \n",
            " 12  lead_desc_length         59299 non-null  float64\n",
            " 13  inquiry_type             59299 non-null  object \n",
            " 14  product_category         59299 non-null  object \n",
            " 15  product_subcategory      59299 non-null  object \n",
            " 16  product_modelname        59299 non-null  object \n",
            " 17  customer_country.1       59299 non-null  object \n",
            " 18  customer_position        59299 non-null  object \n",
            " 19  response_corporate       59299 non-null  object \n",
            " 20  expected_timeline        59299 non-null  object \n",
            " 21  ver_cus                  59299 non-null  int64  \n",
            " 22  ver_pro                  59299 non-null  int64  \n",
            " 23  ver_win_rate_x           59299 non-null  float64\n",
            " 24  ver_win_ratio_per_bu     59299 non-null  float64\n",
            " 25  business_area            59299 non-null  object \n",
            " 26  business_subarea         59299 non-null  object \n",
            " 27  lead_owner               59299 non-null  int64  \n",
            " 28  is_converted             59299 non-null  bool   \n",
            " 29  customer_idx_99          59299 non-null  int64  \n",
            " 30  customer_idx_001         59299 non-null  int64  \n",
            " 31  lead_owner_09            59299 non-null  int64  \n",
            " 32  lead_owner_07            59299 non-null  int64  \n",
            " 33  lead_owner_05            59299 non-null  int64  \n",
            " 34  lead_owner_03            59299 non-null  int64  \n",
            " 35  lead_owner_00            59299 non-null  int64  \n",
            "dtypes: bool(1), float64(9), int64(11), object(15)\n",
            "memory usage: 15.9+ MB\n"
          ]
        }
      ],
      "source": [
        "df_train_process.info()"
      ]
    },
    {
      "cell_type": "markdown",
      "id": "08efd9a3",
      "metadata": {},
      "source": [
        "## 3. 피처엔지니어링"
      ]
    },
    {
      "cell_type": "markdown",
      "id": "4bd47e00",
      "metadata": {
        "id": "4bd47e00"
      },
      "source": [
        "### 레이블 인코딩"
      ]
    },
    {
      "cell_type": "code",
      "execution_count": 7,
      "id": "b53d4d09",
      "metadata": {},
      "outputs": [],
      "source": [
        "df_train_encoded = pd.read_csv('./data/Ch3/df_train_encoded.csv')\n",
        "df_test_encoded = pd.read_csv('./data/Ch3/df_test_encoded.csv')"
      ]
    },
    {
      "cell_type": "code",
      "execution_count": 8,
      "id": "ca62d87e",
      "metadata": {},
      "outputs": [
        {
          "name": "stdout",
          "output_type": "stream",
          "text": [
            "<class 'pandas.core.frame.DataFrame'>\n",
            "RangeIndex: 59299 entries, 0 to 59298\n",
            "Data columns (total 34 columns):\n",
            " #   Column                   Non-Null Count  Dtype  \n",
            "---  ------                   --------------  -----  \n",
            " 0   bant_submit              59299 non-null  float64\n",
            " 1   business_unit            59299 non-null  float64\n",
            " 2   com_reg_ver_win_rate     59299 non-null  float64\n",
            " 3   customer_idx             59299 non-null  float64\n",
            " 4   customer_type            59299 non-null  float64\n",
            " 5   enterprise               59299 non-null  float64\n",
            " 6   historical_existing_cnt  59299 non-null  float64\n",
            " 7   id_strategic_ver         59299 non-null  float64\n",
            " 8   it_strategic_ver         59299 non-null  float64\n",
            " 9   idit_strategic_ver       59299 non-null  float64\n",
            " 10  customer_job             59299 non-null  float64\n",
            " 11  lead_desc_length         59299 non-null  float64\n",
            " 12  inquiry_type             59299 non-null  float64\n",
            " 13  product_category         59299 non-null  float64\n",
            " 14  product_subcategory      59299 non-null  float64\n",
            " 15  customer_country.1       59299 non-null  float64\n",
            " 16  customer_position        59299 non-null  float64\n",
            " 17  response_corporate       59299 non-null  float64\n",
            " 18  expected_timeline        59299 non-null  float64\n",
            " 19  ver_cus                  59299 non-null  int64  \n",
            " 20  ver_pro                  59299 non-null  int64  \n",
            " 21  ver_win_rate_x           59299 non-null  float64\n",
            " 22  ver_win_ratio_per_bu     59299 non-null  float64\n",
            " 23  business_area            59299 non-null  float64\n",
            " 24  business_subarea         59299 non-null  float64\n",
            " 25  lead_owner               59299 non-null  float64\n",
            " 26  is_converted             59299 non-null  bool   \n",
            " 27  customer_idx_99          59299 non-null  int64  \n",
            " 28  customer_idx_001         59299 non-null  int64  \n",
            " 29  lead_owner_09            59299 non-null  int64  \n",
            " 30  lead_owner_07            59299 non-null  int64  \n",
            " 31  lead_owner_05            59299 non-null  int64  \n",
            " 32  lead_owner_03            59299 non-null  int64  \n",
            " 33  lead_owner_00            59299 non-null  int64  \n",
            "dtypes: bool(1), float64(24), int64(9)\n",
            "memory usage: 15.0 MB\n"
          ]
        }
      ],
      "source": [
        "df_train_encoded.info()"
      ]
    },
    {
      "cell_type": "markdown",
      "id": "79ecfa9b",
      "metadata": {
        "id": "79ecfa9b"
      },
      "source": [
        "## 4. 모델링"
      ]
    },
    {
      "cell_type": "markdown",
      "id": "549e5839",
      "metadata": {},
      "source": [
        "### 데이터 분할"
      ]
    },
    {
      "cell_type": "markdown",
      "id": "260c49ec",
      "metadata": {},
      "source": [
        "학습, 검증 데이터 분리"
      ]
    },
    {
      "cell_type": "code",
      "execution_count": 9,
      "id": "49d3e487",
      "metadata": {},
      "outputs": [],
      "source": [
        "# !pip install imblearn"
      ]
    },
    {
      "cell_type": "code",
      "execution_count": 10,
      "id": "ce1a9711",
      "metadata": {},
      "outputs": [],
      "source": [
        "from sklearn.model_selection import train_test_split\n",
        "\n",
        "df_train_encoded.loc[df_train_encoded['is_converted'] == True, 'is_converted'] = 1\n",
        "df_train_encoded.loc[df_train_encoded['is_converted'] == False, 'is_converted'] = 0\n",
        "\n",
        "df_train_encoded['is_converted'] = df_train_encoded['is_converted'].astype(float)\n",
        "\n",
        "X = df_train_encoded[df_train_encoded.columns.drop('is_converted')]\n",
        "Y = df_train_encoded['is_converted']\n",
        "\n",
        "# X와 Y로 나누기\n",
        "x_train, x_val, y_train, y_val = train_test_split(X, Y, test_size=0.2, random_state=0, shuffle=True)\n",
        "\n",
        "# 예측에 필요한 데이터 분리\n",
        "x_test = df_test_encoded.drop([\"is_converted\"], axis=1)"
      ]
    },
    {
      "cell_type": "markdown",
      "id": "abfd7a07",
      "metadata": {},
      "source": [
        "### 오버샘플링 & 언더샘플링"
      ]
    },
    {
      "cell_type": "code",
      "execution_count": 11,
      "id": "77b2e47a",
      "metadata": {},
      "outputs": [],
      "source": [
        "from imblearn.over_sampling import SMOTE\n",
        "from imblearn.under_sampling import RandomUnderSampler\n",
        "from imblearn.pipeline import Pipeline\n",
        "\n",
        "# SMOTE와 RandomUnderSampler를 파이프라인으로 결합\n",
        "resample = Pipeline([('SMOTE', SMOTE(random_state=0)), \n",
        "                     ('RandomUnderSampler', RandomUnderSampler(random_state=0))])\n",
        "\n",
        "# 데이터에 오버샘플링과 언더샘플링 적용\n",
        "x_train, y_train = resample.fit_resample(x_train, y_train)\n"
      ]
    },
    {
      "cell_type": "markdown",
      "id": "6877b8db",
      "metadata": {},
      "source": [
        "### 모델 성능 보기"
      ]
    },
    {
      "cell_type": "code",
      "execution_count": 12,
      "id": "7c2d6c42",
      "metadata": {},
      "outputs": [],
      "source": [
        "from sklearn.metrics import (\n",
        "    accuracy_score,\n",
        "    confusion_matrix,\n",
        "    f1_score,\n",
        "    precision_score,\n",
        "    recall_score,\n",
        ")\n",
        "\n",
        "def get_clf_eval(y_test, y_pred=None):\n",
        "    confusion = confusion_matrix(y_test, y_pred, labels=[True, False])\n",
        "    accuracy = accuracy_score(y_test, y_pred)\n",
        "    precision = precision_score(y_test, y_pred, labels=[True, False])\n",
        "    recall = recall_score(y_test, y_pred)\n",
        "    F1 = f1_score(y_test, y_pred, labels=[True, False])\n",
        "    weighted_F1 = f1_score(y_test, y_pred, average='weighted')\n",
        "\n",
        "    metrics = pd.DataFrame({\n",
        "        '정확도': [accuracy],\n",
        "        '정밀도': [precision],\n",
        "        '재현율': [recall],\n",
        "        'F1 Score': [F1],\n",
        "        'Weighted F1': [weighted_F1]\n",
        "    })\n",
        "\n",
        "    confusion_df = pd.DataFrame(confusion, index=['True', 'False'], columns=['True', 'False'])\n",
        "\n",
        "    print(\"\\n오차행렬:\")\n",
        "    display(confusion_df)\n",
        "    print(\"평가 지표:\")\n",
        "    display(metrics)\n"
      ]
    },
    {
      "cell_type": "markdown",
      "id": "295c9479",
      "metadata": {
        "id": "295c9479"
      },
      "source": [
        "### 모델 라이브러리"
      ]
    },
    {
      "cell_type": "markdown",
      "id": "2b97e189",
      "metadata": {
        "id": "2b97e189"
      },
      "source": [
        "단일모델 기준으로 사용할수 있는 모델들의 라이브러리를 불러오는 코드에 작성"
      ]
    },
    {
      "cell_type": "code",
      "execution_count": 13,
      "id": "b5be751e",
      "metadata": {
        "id": "b5be751e"
      },
      "outputs": [],
      "source": [
        "# 모델 라이브러리\n",
        "from lightgbm import LGBMClassifier\n",
        "from xgboost import XGBClassifier\n",
        "from sklearn.ensemble import RandomForestClassifier, ExtraTreesClassifier\n",
        "\n",
        "# 보팅\n",
        "from sklearn.ensemble import VotingClassifier"
      ]
    },
    {
      "cell_type": "markdown",
      "id": "3caf257b",
      "metadata": {
        "id": "3caf257b"
      },
      "source": [
        "### 최적 하이퍼 파라미터 찾기"
      ]
    },
    {
      "cell_type": "markdown",
      "id": "c9bd19c1",
      "metadata": {
        "id": "c9bd19c1"
      },
      "source": [
        "optuna를 통한 최적의 파라미터 찾기"
      ]
    },
    {
      "cell_type": "code",
      "execution_count": 14,
      "id": "478def87",
      "metadata": {},
      "outputs": [],
      "source": [
        "## 파라미터 찾는 과정.. ##"
      ]
    },
    {
      "cell_type": "markdown",
      "id": "9793459e",
      "metadata": {
        "id": "9793459e"
      },
      "source": [
        "다시한번 optuna를 통한 최적의 파라미터 찾는과정"
      ]
    },
    {
      "cell_type": "markdown",
      "id": "3401ec15",
      "metadata": {
        "id": "3401ec15"
      },
      "source": [
        "### 모델 정의"
      ]
    },
    {
      "cell_type": "markdown",
      "id": "6b2257be",
      "metadata": {},
      "source": [
        "#### 단일 모델"
      ]
    },
    {
      "cell_type": "code",
      "execution_count": 15,
      "id": "9193fac9",
      "metadata": {
        "id": "9193fac9"
      },
      "outputs": [],
      "source": [
        "# RandomForest\n",
        "rf_model = RandomForestClassifier(\n",
        "    n_estimators=1935\n",
        "    , max_depth=32\n",
        "    , min_samples_split=2\n",
        "    , min_samples_leaf=1   \n",
        "    , bootstrap=True\n",
        "    , criterion='entropy'\n",
        "    , class_weight='balanced'\n",
        "    , random_state=0\n",
        ")\n",
        "\n",
        "# LightGBM_dart\n",
        "lgbm_dart_model = LGBMClassifier(\n",
        "    n_estimators=1029\n",
        "    , num_leaves=167\n",
        "    , max_depth=30\n",
        "    , learning_rate=0.05767571715999541\n",
        "    , min_child_samples=25\n",
        "    , verbose=-1\n",
        "    , boosting='dart'  # dart 사용\n",
        "    , random_state=0\n",
        ")\n",
        "\n",
        "# XGBoost \n",
        "xgb_model = XGBClassifier(\n",
        "    n_estimators=414\n",
        "    , learning_rate=0.20046808426888615\n",
        "    , max_depth=11\n",
        "    , alpha=0.004365542651458743\n",
        "    , gamma=0.00025712949731685885\n",
        "    , reg_alpha=0.17168922089033928\n",
        "    , reg_lambda=0.03881395024846057\n",
        "    , colsample_bytree=0.32031741412326675\n",
        "    , subsample=0.6269215430592496\n",
        "    , objective='binary:logistic'  # 이진 분류\n",
        "    , tree_method=\"exact\"        \n",
        "    , random_state=0\n",
        ")\n",
        "\n",
        "# ExtraTrees\n",
        "et_model = ExtraTreesClassifier(\n",
        "    n_estimators=100\n",
        "    , max_depth=48\n",
        "    , min_samples_split=3\n",
        "\t, min_samples_leaf=1\n",
        "\t, criterion='gini'\n",
        "\t, random_state=0\n",
        ")"
      ]
    },
    {
      "cell_type": "markdown",
      "id": "cacd5ed8",
      "metadata": {
        "id": "cacd5ed8"
      },
      "source": [
        "### 모델 학습"
      ]
    },
    {
      "cell_type": "code",
      "execution_count": 16,
      "id": "9df5f040",
      "metadata": {
        "colab": {
          "base_uri": "https://localhost:8080/",
          "height": 110
        },
        "id": "9df5f040",
        "outputId": "a8b64c9c-5378-4f4b-d555-1213436c7e99"
      },
      "outputs": [],
      "source": [
        "### 보팅 분류기 생성 ###\n",
        "model = VotingClassifier(\n",
        "    estimators=[\n",
        "        ('lgb_dart',lgbm_dart_model),\n",
        "        ('xgb', xgb_model),\n",
        "        ('rf', rf_model),\n",
        "        ('et', et_model)\n",
        "    ],\n",
        "    voting='soft'  # 'hard'는 다수결 투표, 'soft'는 확률 평균\n",
        ")"
      ]
    },
    {
      "cell_type": "code",
      "execution_count": 17,
      "id": "a4bcfecf",
      "metadata": {},
      "outputs": [
        {
          "data": {
            "text/html": [
              "<style>#sk-container-id-1 {color: black;}#sk-container-id-1 pre{padding: 0;}#sk-container-id-1 div.sk-toggleable {background-color: white;}#sk-container-id-1 label.sk-toggleable__label {cursor: pointer;display: block;width: 100%;margin-bottom: 0;padding: 0.3em;box-sizing: border-box;text-align: center;}#sk-container-id-1 label.sk-toggleable__label-arrow:before {content: \"▸\";float: left;margin-right: 0.25em;color: #696969;}#sk-container-id-1 label.sk-toggleable__label-arrow:hover:before {color: black;}#sk-container-id-1 div.sk-estimator:hover label.sk-toggleable__label-arrow:before {color: black;}#sk-container-id-1 div.sk-toggleable__content {max-height: 0;max-width: 0;overflow: hidden;text-align: left;background-color: #f0f8ff;}#sk-container-id-1 div.sk-toggleable__content pre {margin: 0.2em;color: black;border-radius: 0.25em;background-color: #f0f8ff;}#sk-container-id-1 input.sk-toggleable__control:checked~div.sk-toggleable__content {max-height: 200px;max-width: 100%;overflow: auto;}#sk-container-id-1 input.sk-toggleable__control:checked~label.sk-toggleable__label-arrow:before {content: \"▾\";}#sk-container-id-1 div.sk-estimator input.sk-toggleable__control:checked~label.sk-toggleable__label {background-color: #d4ebff;}#sk-container-id-1 div.sk-label input.sk-toggleable__control:checked~label.sk-toggleable__label {background-color: #d4ebff;}#sk-container-id-1 input.sk-hidden--visually {border: 0;clip: rect(1px 1px 1px 1px);clip: rect(1px, 1px, 1px, 1px);height: 1px;margin: -1px;overflow: hidden;padding: 0;position: absolute;width: 1px;}#sk-container-id-1 div.sk-estimator {font-family: monospace;background-color: #f0f8ff;border: 1px dotted black;border-radius: 0.25em;box-sizing: border-box;margin-bottom: 0.5em;}#sk-container-id-1 div.sk-estimator:hover {background-color: #d4ebff;}#sk-container-id-1 div.sk-parallel-item::after {content: \"\";width: 100%;border-bottom: 1px solid gray;flex-grow: 1;}#sk-container-id-1 div.sk-label:hover label.sk-toggleable__label {background-color: #d4ebff;}#sk-container-id-1 div.sk-serial::before {content: \"\";position: absolute;border-left: 1px solid gray;box-sizing: border-box;top: 0;bottom: 0;left: 50%;z-index: 0;}#sk-container-id-1 div.sk-serial {display: flex;flex-direction: column;align-items: center;background-color: white;padding-right: 0.2em;padding-left: 0.2em;position: relative;}#sk-container-id-1 div.sk-item {position: relative;z-index: 1;}#sk-container-id-1 div.sk-parallel {display: flex;align-items: stretch;justify-content: center;background-color: white;position: relative;}#sk-container-id-1 div.sk-item::before, #sk-container-id-1 div.sk-parallel-item::before {content: \"\";position: absolute;border-left: 1px solid gray;box-sizing: border-box;top: 0;bottom: 0;left: 50%;z-index: -1;}#sk-container-id-1 div.sk-parallel-item {display: flex;flex-direction: column;z-index: 1;position: relative;background-color: white;}#sk-container-id-1 div.sk-parallel-item:first-child::after {align-self: flex-end;width: 50%;}#sk-container-id-1 div.sk-parallel-item:last-child::after {align-self: flex-start;width: 50%;}#sk-container-id-1 div.sk-parallel-item:only-child::after {width: 0;}#sk-container-id-1 div.sk-dashed-wrapped {border: 1px dashed gray;margin: 0 0.4em 0.5em 0.4em;box-sizing: border-box;padding-bottom: 0.4em;background-color: white;}#sk-container-id-1 div.sk-label label {font-family: monospace;font-weight: bold;display: inline-block;line-height: 1.2em;}#sk-container-id-1 div.sk-label-container {text-align: center;}#sk-container-id-1 div.sk-container {/* jupyter's `normalize.less` sets `[hidden] { display: none; }` but bootstrap.min.css set `[hidden] { display: none !important; }` so we also need the `!important` here to be able to override the default hidden behavior on the sphinx rendered scikit-learn.org. See: https://github.com/scikit-learn/scikit-learn/issues/21755 */display: inline-block !important;position: relative;}#sk-container-id-1 div.sk-text-repr-fallback {display: none;}</style><div id=\"sk-container-id-1\" class=\"sk-top-container\"><div class=\"sk-text-repr-fallback\"><pre>VotingClassifier(estimators=[(&#x27;lgb_dart&#x27;,\n",
              "                              LGBMClassifier(boosting=&#x27;dart&#x27;,\n",
              "                                             learning_rate=0.05767571715999541,\n",
              "                                             max_depth=30, min_child_samples=25,\n",
              "                                             n_estimators=1029, num_leaves=167,\n",
              "                                             random_state=0, verbose=-1)),\n",
              "                             (&#x27;xgb&#x27;,\n",
              "                              XGBClassifier(alpha=0.004365542651458743,\n",
              "                                            base_score=None, booster=None,\n",
              "                                            callbacks=None,\n",
              "                                            colsample_bylevel=None,\n",
              "                                            colsample_bynode=None,\n",
              "                                            colsample_by...\n",
              "                                            min_child_weight=None, missing=nan,\n",
              "                                            monotone_constraints=None,\n",
              "                                            multi_strategy=None,\n",
              "                                            n_estimators=414, n_jobs=None,\n",
              "                                            num_parallel_tree=None, ...)),\n",
              "                             (&#x27;rf&#x27;,\n",
              "                              RandomForestClassifier(class_weight=&#x27;balanced&#x27;,\n",
              "                                                     criterion=&#x27;entropy&#x27;,\n",
              "                                                     max_depth=32,\n",
              "                                                     n_estimators=1935,\n",
              "                                                     random_state=0)),\n",
              "                             (&#x27;et&#x27;,\n",
              "                              ExtraTreesClassifier(max_depth=48,\n",
              "                                                   min_samples_split=3,\n",
              "                                                   random_state=0))],\n",
              "                 voting=&#x27;soft&#x27;)</pre><b>In a Jupyter environment, please rerun this cell to show the HTML representation or trust the notebook. <br />On GitHub, the HTML representation is unable to render, please try loading this page with nbviewer.org.</b></div><div class=\"sk-container\" hidden><div class=\"sk-item sk-dashed-wrapped\"><div class=\"sk-label-container\"><div class=\"sk-label sk-toggleable\"><input class=\"sk-toggleable__control sk-hidden--visually\" id=\"sk-estimator-id-1\" type=\"checkbox\" ><label for=\"sk-estimator-id-1\" class=\"sk-toggleable__label sk-toggleable__label-arrow\">VotingClassifier</label><div class=\"sk-toggleable__content\"><pre>VotingClassifier(estimators=[(&#x27;lgb_dart&#x27;,\n",
              "                              LGBMClassifier(boosting=&#x27;dart&#x27;,\n",
              "                                             learning_rate=0.05767571715999541,\n",
              "                                             max_depth=30, min_child_samples=25,\n",
              "                                             n_estimators=1029, num_leaves=167,\n",
              "                                             random_state=0, verbose=-1)),\n",
              "                             (&#x27;xgb&#x27;,\n",
              "                              XGBClassifier(alpha=0.004365542651458743,\n",
              "                                            base_score=None, booster=None,\n",
              "                                            callbacks=None,\n",
              "                                            colsample_bylevel=None,\n",
              "                                            colsample_bynode=None,\n",
              "                                            colsample_by...\n",
              "                                            min_child_weight=None, missing=nan,\n",
              "                                            monotone_constraints=None,\n",
              "                                            multi_strategy=None,\n",
              "                                            n_estimators=414, n_jobs=None,\n",
              "                                            num_parallel_tree=None, ...)),\n",
              "                             (&#x27;rf&#x27;,\n",
              "                              RandomForestClassifier(class_weight=&#x27;balanced&#x27;,\n",
              "                                                     criterion=&#x27;entropy&#x27;,\n",
              "                                                     max_depth=32,\n",
              "                                                     n_estimators=1935,\n",
              "                                                     random_state=0)),\n",
              "                             (&#x27;et&#x27;,\n",
              "                              ExtraTreesClassifier(max_depth=48,\n",
              "                                                   min_samples_split=3,\n",
              "                                                   random_state=0))],\n",
              "                 voting=&#x27;soft&#x27;)</pre></div></div></div><div class=\"sk-parallel\"><div class=\"sk-parallel-item\"><div class=\"sk-item\"><div class=\"sk-label-container\"><div class=\"sk-label sk-toggleable\"><label>lgb_dart</label></div></div><div class=\"sk-serial\"><div class=\"sk-item\"><div class=\"sk-estimator sk-toggleable\"><input class=\"sk-toggleable__control sk-hidden--visually\" id=\"sk-estimator-id-2\" type=\"checkbox\" ><label for=\"sk-estimator-id-2\" class=\"sk-toggleable__label sk-toggleable__label-arrow\">LGBMClassifier</label><div class=\"sk-toggleable__content\"><pre>LGBMClassifier(boosting=&#x27;dart&#x27;, learning_rate=0.05767571715999541, max_depth=30,\n",
              "               min_child_samples=25, n_estimators=1029, num_leaves=167,\n",
              "               random_state=0, verbose=-1)</pre></div></div></div></div></div></div><div class=\"sk-parallel-item\"><div class=\"sk-item\"><div class=\"sk-label-container\"><div class=\"sk-label sk-toggleable\"><label>xgb</label></div></div><div class=\"sk-serial\"><div class=\"sk-item\"><div class=\"sk-estimator sk-toggleable\"><input class=\"sk-toggleable__control sk-hidden--visually\" id=\"sk-estimator-id-3\" type=\"checkbox\" ><label for=\"sk-estimator-id-3\" class=\"sk-toggleable__label sk-toggleable__label-arrow\">XGBClassifier</label><div class=\"sk-toggleable__content\"><pre>XGBClassifier(alpha=0.004365542651458743, base_score=None, booster=None,\n",
              "              callbacks=None, colsample_bylevel=None, colsample_bynode=None,\n",
              "              colsample_bytree=0.32031741412326675, device=None,\n",
              "              early_stopping_rounds=None, enable_categorical=False,\n",
              "              eval_metric=None, feature_types=None,\n",
              "              gamma=0.00025712949731685885, grow_policy=None,\n",
              "              importance_type=None, interaction_constraints=None,\n",
              "              learning_rate=0.20046808426888615, max_bin=None,\n",
              "              max_cat_threshold=None, max_cat_to_onehot=None,\n",
              "              max_delta_step=None, max_depth=11, max_leaves=None,\n",
              "              min_child_weight=None, missing=nan, monotone_constraints=None,\n",
              "              multi_strategy=None, n_estimators=414, n_jobs=None,\n",
              "              num_parallel_tree=None, ...)</pre></div></div></div></div></div></div><div class=\"sk-parallel-item\"><div class=\"sk-item\"><div class=\"sk-label-container\"><div class=\"sk-label sk-toggleable\"><label>rf</label></div></div><div class=\"sk-serial\"><div class=\"sk-item\"><div class=\"sk-estimator sk-toggleable\"><input class=\"sk-toggleable__control sk-hidden--visually\" id=\"sk-estimator-id-4\" type=\"checkbox\" ><label for=\"sk-estimator-id-4\" class=\"sk-toggleable__label sk-toggleable__label-arrow\">RandomForestClassifier</label><div class=\"sk-toggleable__content\"><pre>RandomForestClassifier(class_weight=&#x27;balanced&#x27;, criterion=&#x27;entropy&#x27;,\n",
              "                       max_depth=32, n_estimators=1935, random_state=0)</pre></div></div></div></div></div></div><div class=\"sk-parallel-item\"><div class=\"sk-item\"><div class=\"sk-label-container\"><div class=\"sk-label sk-toggleable\"><label>et</label></div></div><div class=\"sk-serial\"><div class=\"sk-item\"><div class=\"sk-estimator sk-toggleable\"><input class=\"sk-toggleable__control sk-hidden--visually\" id=\"sk-estimator-id-5\" type=\"checkbox\" ><label for=\"sk-estimator-id-5\" class=\"sk-toggleable__label sk-toggleable__label-arrow\">ExtraTreesClassifier</label><div class=\"sk-toggleable__content\"><pre>ExtraTreesClassifier(max_depth=48, min_samples_split=3, random_state=0)</pre></div></div></div></div></div></div></div></div></div></div>"
            ],
            "text/plain": [
              "VotingClassifier(estimators=[('lgb_dart',\n",
              "                              LGBMClassifier(boosting='dart',\n",
              "                                             learning_rate=0.05767571715999541,\n",
              "                                             max_depth=30, min_child_samples=25,\n",
              "                                             n_estimators=1029, num_leaves=167,\n",
              "                                             random_state=0, verbose=-1)),\n",
              "                             ('xgb',\n",
              "                              XGBClassifier(alpha=0.004365542651458743,\n",
              "                                            base_score=None, booster=None,\n",
              "                                            callbacks=None,\n",
              "                                            colsample_bylevel=None,\n",
              "                                            colsample_bynode=None,\n",
              "                                            colsample_by...\n",
              "                                            min_child_weight=None, missing=nan,\n",
              "                                            monotone_constraints=None,\n",
              "                                            multi_strategy=None,\n",
              "                                            n_estimators=414, n_jobs=None,\n",
              "                                            num_parallel_tree=None, ...)),\n",
              "                             ('rf',\n",
              "                              RandomForestClassifier(class_weight='balanced',\n",
              "                                                     criterion='entropy',\n",
              "                                                     max_depth=32,\n",
              "                                                     n_estimators=1935,\n",
              "                                                     random_state=0)),\n",
              "                             ('et',\n",
              "                              ExtraTreesClassifier(max_depth=48,\n",
              "                                                   min_samples_split=3,\n",
              "                                                   random_state=0))],\n",
              "                 voting='soft')"
            ]
          },
          "execution_count": 17,
          "metadata": {},
          "output_type": "execute_result"
        }
      ],
      "source": [
        "model.fit(x_train, y_train)"
      ]
    },
    {
      "cell_type": "code",
      "execution_count": 18,
      "id": "56a86373",
      "metadata": {
        "colab": {
          "base_uri": "https://localhost:8080/",
          "height": 231
        },
        "id": "56a86373",
        "outputId": "b0c0f95b-f5c0-4530-fdb2-a0ecc2b31b5a"
      },
      "outputs": [
        {
          "name": "stdout",
          "output_type": "stream",
          "text": [
            "\n",
            "오차행렬:\n"
          ]
        },
        {
          "data": {
            "text/html": [
              "<div>\n",
              "<style scoped>\n",
              "    .dataframe tbody tr th:only-of-type {\n",
              "        vertical-align: middle;\n",
              "    }\n",
              "\n",
              "    .dataframe tbody tr th {\n",
              "        vertical-align: top;\n",
              "    }\n",
              "\n",
              "    .dataframe thead th {\n",
              "        text-align: right;\n",
              "    }\n",
              "</style>\n",
              "<table border=\"1\" class=\"dataframe\">\n",
              "  <thead>\n",
              "    <tr style=\"text-align: right;\">\n",
              "      <th></th>\n",
              "      <th>True</th>\n",
              "      <th>False</th>\n",
              "    </tr>\n",
              "  </thead>\n",
              "  <tbody>\n",
              "    <tr>\n",
              "      <th>True</th>\n",
              "      <td>949</td>\n",
              "      <td>45</td>\n",
              "    </tr>\n",
              "    <tr>\n",
              "      <th>False</th>\n",
              "      <td>523</td>\n",
              "      <td>10343</td>\n",
              "    </tr>\n",
              "  </tbody>\n",
              "</table>\n",
              "</div>"
            ],
            "text/plain": [
              "       True  False\n",
              "True    949     45\n",
              "False   523  10343"
            ]
          },
          "metadata": {},
          "output_type": "display_data"
        },
        {
          "name": "stdout",
          "output_type": "stream",
          "text": [
            "평가 지표:\n"
          ]
        },
        {
          "data": {
            "text/html": [
              "<div>\n",
              "<style scoped>\n",
              "    .dataframe tbody tr th:only-of-type {\n",
              "        vertical-align: middle;\n",
              "    }\n",
              "\n",
              "    .dataframe tbody tr th {\n",
              "        vertical-align: top;\n",
              "    }\n",
              "\n",
              "    .dataframe thead th {\n",
              "        text-align: right;\n",
              "    }\n",
              "</style>\n",
              "<table border=\"1\" class=\"dataframe\">\n",
              "  <thead>\n",
              "    <tr style=\"text-align: right;\">\n",
              "      <th></th>\n",
              "      <th>정확도</th>\n",
              "      <th>정밀도</th>\n",
              "      <th>재현율</th>\n",
              "      <th>F1 Score</th>\n",
              "      <th>Weighted F1</th>\n",
              "    </tr>\n",
              "  </thead>\n",
              "  <tbody>\n",
              "    <tr>\n",
              "      <th>0</th>\n",
              "      <td>0.952108</td>\n",
              "      <td>0.644701</td>\n",
              "      <td>0.954728</td>\n",
              "      <td>0.769667</td>\n",
              "      <td>0.956211</td>\n",
              "    </tr>\n",
              "  </tbody>\n",
              "</table>\n",
              "</div>"
            ],
            "text/plain": [
              "        정확도       정밀도       재현율  F1 Score  Weighted F1\n",
              "0  0.952108  0.644701  0.954728  0.769667     0.956211"
            ]
          },
          "metadata": {},
          "output_type": "display_data"
        }
      ],
      "source": [
        "# 확률 예측\n",
        "soft_voting_probs = model.predict_proba(x_val)[:, 1]\n",
        "\n",
        "# 스레시홀드 0.12 적용\n",
        "soft_voting_preds = [1 if prob > 0.12 else 0 for prob in soft_voting_probs]\n",
        "\n",
        "# 평가\n",
        "get_clf_eval(y_val, soft_voting_preds)"
      ]
    },
    {
      "cell_type": "code",
      "execution_count": 19,
      "id": "6c90e818",
      "metadata": {},
      "outputs": [
        {
          "data": {
            "text/plain": [
              "1986"
            ]
          },
          "execution_count": 19,
          "metadata": {},
          "output_type": "execute_result"
        }
      ],
      "source": [
        "# 예측에 필요한 데이터 분리\n",
        "x_test = df_test_encoded.drop([\"is_converted\", \"id\"], axis=1)\n",
        "\n",
        "# 변경된 스레시홀드 0.12을 적용하여 테스트 데이터에 대한 예측\n",
        "soft_voting_probs = model.predict_proba(x_test)[:, 1]\n",
        "soft_voting_preds = [1 if prob > 0.12 else 0 for prob in soft_voting_probs]\n",
        "\n",
        "# 테스트 데이터에서 True로 예측된 개수 출력\n",
        "sum(soft_voting_preds)"
      ]
    },
    {
      "cell_type": "markdown",
      "id": "47f18e6a",
      "metadata": {
        "id": "47f18e6a"
      },
      "source": [
        "### 제출 파일 작성"
      ]
    },
    {
      "cell_type": "code",
      "execution_count": 83,
      "id": "3128a458",
      "metadata": {
        "id": "3128a458"
      },
      "outputs": [],
      "source": [
        "# 제출 데이터 읽어오기 (df_test는 전처리된 데이터가 저장됨)\n",
        "df_sub = pd.read_csv(\"./data/submission.csv\")\n",
        "df_sub[\"is_converted\"] = soft_voting_preds\n",
        "\n",
        "# 제출 파일 저장\n",
        "df_sub.to_csv(\"submission_0.76077.csv\", index=False)"
      ]
    },
    {
      "cell_type": "markdown",
      "id": "413b3cb9",
      "metadata": {},
      "source": [
        "."
      ]
    }
  ],
  "metadata": {
    "colab": {
      "provenance": []
    },
    "kernelspec": {
      "display_name": "Python 3 (ipykernel)",
      "language": "python",
      "name": "python3"
    },
    "language_info": {
      "codemirror_mode": {
        "name": "ipython",
        "version": 3
      },
      "file_extension": ".py",
      "mimetype": "text/x-python",
      "name": "python",
      "nbconvert_exporter": "python",
      "pygments_lexer": "ipython3",
      "version": "3.10.4"
    }
  },
  "nbformat": 4,
  "nbformat_minor": 5
}
