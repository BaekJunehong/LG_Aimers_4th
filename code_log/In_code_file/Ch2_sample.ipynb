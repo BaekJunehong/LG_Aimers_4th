{
  "cells": [
    {
      "cell_type": "markdown",
      "id": "acdab431",
      "metadata": {
        "id": "acdab431"
      },
      "source": [
        "## 1. 데이터 확인"
      ]
    },
    {
      "cell_type": "markdown",
      "id": "2b8341e8",
      "metadata": {
        "id": "2b8341e8"
      },
      "source": [
        "### 필수 라이브러리"
      ]
    },
    {
      "cell_type": "code",
      "execution_count": 3,
      "id": "a315cc58",
      "metadata": {
        "id": "a315cc58"
      },
      "outputs": [],
      "source": [
        "import pandas as pd\n",
        "import numpy as np\n",
        "\n",
        "import matplotlib.pyplot as plt\n",
        "import seaborn as sns\n",
        "\n",
        "import warnings\n",
        "warnings.filterwarnings('ignore') # 경고 메세지 무시"
      ]
    },
    {
      "cell_type": "markdown",
      "id": "412f98cc",
      "metadata": {
        "id": "412f98cc"
      },
      "source": [
        "### 데이터 셋 읽어오기"
      ]
    },
    {
      "cell_type": "code",
      "execution_count": 4,
      "id": "7ada941e",
      "metadata": {
        "id": "7ada941e"
      },
      "outputs": [],
      "source": [
        "df_train = pd.read_csv(\"data/train.csv\") # 학습용 데이터\n",
        "df_test = pd.read_csv(\"data/submission.csv\") # 테스트 데이터(제출파일의 데이터)"
      ]
    },
    {
      "cell_type": "markdown",
      "id": "af526c13",
      "metadata": {
        "id": "af526c13"
      },
      "source": [
        "## 2. 데이터 전처리"
      ]
    },
    {
      "cell_type": "markdown",
      "id": "2cc30f10",
      "metadata": {
        "id": "2cc30f10"
      },
      "source": [
        "### 각 변수별 확인"
      ]
    },
    {
      "cell_type": "markdown",
      "id": "706f1874",
      "metadata": {
        "id": "706f1874"
      },
      "source": [
        "#### 1. bant_submit"
      ]
    },
    {
      "cell_type": "markdown",
      "id": "b0e9ae80",
      "metadata": {
        "id": "b0e9ae80"
      },
      "source": [
        "MQL 구성 요소들 중  \n",
        "[1] Budget(예산)  \n",
        "[2] Title(고객의 직책/직급)  \n",
        "[3] Needs(요구사항)  \n",
        "[4] Timeline(희망 납기일)  \n",
        "4가지 항목에 대해서 작성된 값의 비율"
      ]
    },
    {
      "cell_type": "code",
      "execution_count": 5,
      "id": "b8d7e758",
      "metadata": {
        "colab": {
          "base_uri": "https://localhost:8080/"
        },
        "id": "b8d7e758",
        "outputId": "d7a2d62a-1610-4c9d-966e-c4a1c31f8343"
      },
      "outputs": [
        {
          "data": {
            "text/plain": [
              "bant_submit\n",
              "0.50    17192\n",
              "1.00    17061\n",
              "0.25    12852\n",
              "0.75    11681\n",
              "0.00      513\n",
              "Name: count, dtype: int64"
            ]
          },
          "execution_count": 5,
          "metadata": {},
          "output_type": "execute_result"
        }
      ],
      "source": [
        "df_train['bant_submit'].value_counts()"
      ]
    },
    {
      "cell_type": "markdown",
      "id": "c820d6b1",
      "metadata": {
        "id": "c820d6b1"
      },
      "source": [
        "결측지 확인"
      ]
    },
    {
      "cell_type": "code",
      "execution_count": 6,
      "id": "f3089a8a",
      "metadata": {
        "colab": {
          "base_uri": "https://localhost:8080/"
        },
        "id": "f3089a8a",
        "outputId": "b7b59a2e-2b02-4f5b-a81d-c8b0529d9931"
      },
      "outputs": [
        {
          "name": "stdout",
          "output_type": "stream",
          "text": [
            "0\n"
          ]
        }
      ],
      "source": [
        "print(df_train['bant_submit'].isnull().sum())"
      ]
    },
    {
      "cell_type": "markdown",
      "id": "ee6bec0d",
      "metadata": {
        "id": "ee6bec0d"
      },
      "source": [
        "#### 2. customer_country"
      ]
    },
    {
      "cell_type": "markdown",
      "id": "70ab71fc",
      "metadata": {
        "id": "70ab71fc"
      },
      "source": [
        "고객의 국적"
      ]
    },
    {
      "cell_type": "code",
      "execution_count": 7,
      "id": "f9de72de",
      "metadata": {
        "colab": {
          "base_uri": "https://localhost:8080/"
        },
        "id": "f9de72de",
        "outputId": "5844cb4a-7041-4fd3-f173-d00a79ad33cf"
      },
      "outputs": [
        {
          "data": {
            "text/plain": [
              "customer_country\n",
              "//India                                   3037\n",
              "/São Paulo/Brazil                         1344\n",
              "//United States                            962\n",
              "//United Kingdom                           805\n",
              "//Saudi Arabia                             718\n",
              "                                          ... \n",
              "/Hydrated/India                              1\n",
              "/Tirurangadi, Malappuram, Kerala/India       1\n",
              "/Canoinhas / SC/Brazil                       1\n",
              "/Tupã/SP/Brazil                              1\n",
              "/paris/France                                1\n",
              "Name: count, Length: 15399, dtype: int64"
            ]
          },
          "execution_count": 7,
          "metadata": {},
          "output_type": "execute_result"
        }
      ],
      "source": [
        "df_train['customer_country'].value_counts()"
      ]
    },
    {
      "cell_type": "markdown",
      "id": "4688d0f3",
      "metadata": {},
      "source": [
        "값을 ' / ' 와 ' , ' 의 기준으로 분할 및 마지막 단어를 값으로서 저장"
      ]
    },
    {
      "cell_type": "code",
      "execution_count": 8,
      "id": "6bbd78de",
      "metadata": {
        "id": "6bbd78de"
      },
      "outputs": [],
      "source": [
        "def process_customer_country_tokenized(df, column_name):\n",
        "    for i, entry in enumerate(df[column_name]):\n",
        "        if isinstance(entry, str):\n",
        "            tokens = [token.strip() for token in entry.replace('/', ',').split(',') if token.strip() != '']\n",
        "            if tokens:\n",
        "                df.at[i, column_name] = tokens[-1]\n",
        "            else:\n",
        "                df.at[i, column_name] = np.nan\n",
        "        else:\n",
        "            df.at[i, column_name] = np.nan\n",
        "    return df"
      ]
    },
    {
      "cell_type": "code",
      "execution_count": 9,
      "id": "b1b385dc",
      "metadata": {
        "id": "b1b385dc"
      },
      "outputs": [],
      "source": [
        "df_train = process_customer_country_tokenized(df_train, 'customer_country')\n",
        "df_test = process_customer_country_tokenized(df_test, 'customer_country')"
      ]
    },
    {
      "cell_type": "code",
      "execution_count": 10,
      "id": "ed90d98a",
      "metadata": {},
      "outputs": [
        {
          "data": {
            "text/plain": [
              "customer_country\n",
              "India                  16851\n",
              "Brazil                  8739\n",
              "United States           3839\n",
              "Mexico                  2753\n",
              "Philippines             2570\n",
              "                       ...  \n",
              "Basin                      1\n",
              "PIERMONT                   1\n",
              "College Place              1\n",
              "Houlton                    1\n",
              "37-450 Stalowa Wola        1\n",
              "Name: count, Length: 1361, dtype: int64"
            ]
          },
          "execution_count": 10,
          "metadata": {},
          "output_type": "execute_result"
        }
      ],
      "source": [
        "df_train['customer_country'].value_counts()"
      ]
    },
    {
      "cell_type": "markdown",
      "id": "4c8b618c",
      "metadata": {},
      "source": [
        "Lg 상품판매와 관련된 홈페이지에서 지정한 리스트의 형태에 맞추어 값을 분류함"
      ]
    },
    {
      "cell_type": "code",
      "execution_count": 11,
      "id": "8ff993b3",
      "metadata": {},
      "outputs": [],
      "source": [
        "# 미국 주 이름 카테고리화\n",
        "us_states = ['AL', 'AK', 'AZ', 'AR', 'CA', 'CO', 'CT', 'DE', 'DC', 'FL', 'GA', 'HI', 'ID', 'IL', 'IN', 'IA', 'KS', 'KY', 'LA', 'ME', 'MD', 'MA', 'MI', 'MN', 'MS', 'MO', 'MT', 'NE', 'NV', 'NH', 'NJ', 'NM', 'NY', 'NC', 'ND', 'OH', 'OK', 'OR', 'PA', 'RI', 'SC', 'SD', 'TN', 'TX', 'UT', 'VT', 'VA', 'WA', 'WV', 'WI', 'WY']\n",
        "\n",
        "df_train['customer_country'] = df_train['customer_country'].replace(us_states, 'United States')\n",
        "df_test['customer_country'] = df_test['customer_country'].replace(us_states, 'United States')"
      ]
    },
    {
      "cell_type": "markdown",
      "id": "bf44ed40",
      "metadata": {},
      "source": [
        "리스트에 포함되면 값을 그대로 출력  \n",
        "포함하지 않으면 'Unknown' 값으로 변환"
      ]
    },
    {
      "cell_type": "code",
      "execution_count": 12,
      "id": "ee47e6e9",
      "metadata": {},
      "outputs": [],
      "source": [
        "def update_country(country):\n",
        "    #Lg list 값 \n",
        "    asia = ['Australia', 'Bangladesh', 'Brunei', 'Cambodia', 'China', 'Fiji', 'Hong Kong', 'India', 'Indonesia', 'Laos', 'Malaysia', 'Maldives', 'Myanmar', 'Nepal', 'New Zealand', 'Papula New Guinea', 'Philippines', 'Singapore', 'Sri Lanka', 'Taiwan', 'Thailand', 'Vietnam', 'Japan', 'South Korea']\n",
        "    cis = ['Belarus', 'Kazakhstan', 'Mongolia', 'Russia', 'Turkmenistan', 'Ukraine', 'Uzbekistan']\n",
        "    europe = ['Albania', 'Austria', 'Belgium', 'Bosnia and Herzegovina', 'Bulgaria', 'Croatia', 'Cyprus', 'Czech', 'Denmark', 'Estonia', 'Finland', 'France', 'Germany', 'Greece', 'Hungary', 'Iceland', 'Ireland', 'Italy', 'Kosovo', 'Latvia', 'Lithuania', 'Luxembourg', 'Macedonia', 'Montenegro', 'Netherlands', 'Norway', 'Poland', 'Portugal', 'Romania', 'Serbia', 'Slovakia', 'Slovenia', 'Spain', 'Sweden', 'Switzerland', 'United Kingdom', 'Isle of Man', 'Malta']\n",
        "    latin_america_and_the_caribbean = ['Anguilla', 'Antigua', 'Argentina', 'Aruba', 'Bahamas', 'Barbados', 'Belize', 'Bermuda', 'Bolivia', 'Brazil', 'British Virgin Islands', 'Cayman Islands', 'Chile', 'Colombia', 'COLOMBIA', 'Costa Rica', 'Cuba', 'Curacao', 'Dominican Republic', 'Ecuador', 'El Salvador', 'Grenada', 'Guatemala', 'Guyana Haiti', 'Honduras', 'Jamaica', 'Mexico', 'Netherlands Antilles', 'Nicaragua', 'Panama', 'Paraguay', 'Peru', 'Puerto Rico', 'Saint Lucia', 'St Kitts', 'St Maarten', 'St Vincent', 'Suriname', 'Trinidad and Tobago', 'Turks and Caicos Islands', 'Uruguay', 'US Virgin Islands', 'Venezuela', 'Antigua and Barbuda', 'Saint Kitts and Nevis']\n",
        "    middle_east_and_africa = ['Afghanistan', 'Algeria', 'Angola', 'Armenia', 'Azerbaijan', 'Bahrain', 'Benin', 'Botswana', 'Burkina Faso Cameroon', 'Central African Republic', 'Congo', \"Cote d'Ivoire\", 'Democratic Republic of the Congo', 'Djibouti', 'Egypt', 'EGYPT', 'Equatorial Guinea', 'Ethiopia', 'Gabon', 'Gambia', 'Georgia', 'Ghana', 'Guinea Iran', 'Iraq', 'Israel', 'Ivory Coast', 'Jordan', 'Kenya', 'Kuwait', 'Lebanon', 'Liberia', 'Mali', 'Mauritania', 'Mauritius', 'Morocco', 'Mozambique', 'Namibia', 'Nigeria', 'Oman', 'Pakistan', 'Palestine', 'Qatar', 'Rwanda', 'Sao Tome and Principe', 'Saudi Arabia', 'Senegal', 'Sierra Leone', 'Somalia', 'South Africa', 'Sudan', 'Swaziland', 'Syria', 'Togo', 'Tunisia', 'Türkiye', 'Turkey', 'U.A.E', 'Uganda', 'United Republic of Tanzania', 'Yemen', 'Zambia', 'Eritrea', 'Libya Malawi', 'Zimbabwe']\n",
        "    north_america = ['Canada', 'United States', 'UNITED STATES']\n",
        "\n",
        "    if country in asia:\n",
        "        return country\n",
        "    elif country in cis:\n",
        "        return country\n",
        "    elif country in europe:\n",
        "        return country\n",
        "    elif country in latin_america_and_the_caribbean:\n",
        "        return country\n",
        "    elif country in middle_east_and_africa:\n",
        "        return country\n",
        "    elif country in north_america:\n",
        "        return country\n",
        "    else:\n",
        "        return 'Unknown'\n",
        "\n",
        "df_train['customer_country'] = df_train['customer_country'].apply(update_country)\n",
        "df_test['customer_country'] = df_test['customer_country'].apply(update_country)\n"
      ]
    },
    {
      "cell_type": "code",
      "execution_count": 13,
      "id": "P4EHCZkgioGG",
      "metadata": {
        "colab": {
          "base_uri": "https://localhost:8080/"
        },
        "id": "P4EHCZkgioGG",
        "outputId": "e75087c6-aa58-4bb6-fbfe-ea14aef00f23"
      },
      "outputs": [
        {
          "data": {
            "text/plain": [
              "customer_country\n",
              "India            16851\n",
              "Brazil            8739\n",
              "United States     3850\n",
              "Unknown           3480\n",
              "Mexico            2753\n",
              "                 ...  \n",
              "St Maarten           1\n",
              "Montenegro           1\n",
              "Mongolia             1\n",
              "Isle of Man          1\n",
              "Swaziland            1\n",
              "Name: count, Length: 167, dtype: int64"
            ]
          },
          "execution_count": 13,
          "metadata": {},
          "output_type": "execute_result"
        }
      ],
      "source": [
        "df_train['customer_country'].value_counts()"
      ]
    },
    {
      "cell_type": "code",
      "execution_count": 14,
      "id": "eqx1APxidT5E",
      "metadata": {
        "colab": {
          "base_uri": "https://localhost:8080/"
        },
        "id": "eqx1APxidT5E",
        "outputId": "ebecc031-b277-4321-9bb7-756f596a2b17"
      },
      "outputs": [
        {
          "data": {
            "text/plain": [
              "customer_country\n",
              "Brazil                    1045\n",
              "India                      906\n",
              "United States              777\n",
              "Philippines                289\n",
              "Unknown                    227\n",
              "                          ... \n",
              "Somalia                      1\n",
              "Tunisia                      1\n",
              "Israel                       1\n",
              "Bosnia and Herzegovina       1\n",
              "Pakistan                     1\n",
              "Name: count, Length: 88, dtype: int64"
            ]
          },
          "execution_count": 14,
          "metadata": {},
          "output_type": "execute_result"
        }
      ],
      "source": [
        "df_test['customer_country'].value_counts()"
      ]
    },
    {
      "cell_type": "code",
      "execution_count": 15,
      "id": "9f8c4d77",
      "metadata": {
        "colab": {
          "base_uri": "https://localhost:8080/"
        },
        "id": "9f8c4d77",
        "outputId": "856fb834-6edd-4006-a745-7b1ba08f6346"
      },
      "outputs": [
        {
          "name": "stdout",
          "output_type": "stream",
          "text": [
            "0\n"
          ]
        }
      ],
      "source": [
        "print(df_train['customer_country'].isnull().sum())"
      ]
    },
    {
      "cell_type": "code",
      "execution_count": 16,
      "id": "B9F6mfjHVHK-",
      "metadata": {
        "colab": {
          "base_uri": "https://localhost:8080/"
        },
        "id": "B9F6mfjHVHK-",
        "outputId": "1c5fa372-a17b-4f98-967f-0a0ecc592836"
      },
      "outputs": [
        {
          "name": "stdout",
          "output_type": "stream",
          "text": [
            "0\n"
          ]
        }
      ],
      "source": [
        "print(df_test['customer_country'].isnull().sum())"
      ]
    },
    {
      "cell_type": "markdown",
      "id": "430d28ea",
      "metadata": {
        "id": "430d28ea"
      },
      "source": [
        "#### 3. business_unit"
      ]
    },
    {
      "cell_type": "markdown",
      "id": "e888578b",
      "metadata": {
        "id": "e888578b"
      },
      "source": [
        "MQL 요청 상품에 대응되는 사업부"
      ]
    },
    {
      "cell_type": "code",
      "execution_count": 17,
      "id": "HuyYZgQceqv7",
      "metadata": {
        "colab": {
          "base_uri": "https://localhost:8080/"
        },
        "id": "HuyYZgQceqv7",
        "outputId": "c97f5367-18e9-4d71-80a2-2c137e8ea101"
      },
      "outputs": [
        {
          "data": {
            "text/plain": [
              "business_unit\n",
              "ID          25563\n",
              "AS          24774\n",
              "IT           8664\n",
              "Solution      296\n",
              "CM              2\n",
              "Name: count, dtype: int64"
            ]
          },
          "execution_count": 17,
          "metadata": {},
          "output_type": "execute_result"
        }
      ],
      "source": [
        "df_train['business_unit'].value_counts()"
      ]
    },
    {
      "cell_type": "code",
      "execution_count": 18,
      "id": "2xyaUZpQo7yI",
      "metadata": {
        "colab": {
          "base_uri": "https://localhost:8080/"
        },
        "id": "2xyaUZpQo7yI",
        "outputId": "6662f042-4105-4f64-81da-6e9b308fa461"
      },
      "outputs": [
        {
          "data": {
            "text/plain": [
              "business_unit\n",
              "AS    2410\n",
              "ID    2342\n",
              "IT     519\n",
              "Name: count, dtype: int64"
            ]
          },
          "execution_count": 18,
          "metadata": {},
          "output_type": "execute_result"
        }
      ],
      "source": [
        "df_test['business_unit'].value_counts()"
      ]
    },
    {
      "cell_type": "markdown",
      "id": "a703d5c6",
      "metadata": {},
      "source": [
        "df_test에서는 'Solution', 'CM' 에 해당하는 값이 없음을 확인할수 있음"
      ]
    },
    {
      "cell_type": "code",
      "execution_count": 19,
      "id": "71382490",
      "metadata": {
        "colab": {
          "base_uri": "https://localhost:8080/"
        },
        "id": "71382490",
        "outputId": "44afeec2-ea6c-47fa-c833-65f7f1492e09"
      },
      "outputs": [
        {
          "name": "stdout",
          "output_type": "stream",
          "text": [
            "       bant_submit customer_country business_unit  com_reg_ver_win_rate  \\\n",
            "52519          0.5           Brazil            CM                   NaN   \n",
            "52520          0.5           Brazil            CM                   NaN   \n",
            "\n",
            "       customer_idx customer_type  enterprise  historical_existing_cnt  \\\n",
            "52519         24728           NaN  Enterprise                      NaN   \n",
            "52520         24728           NaN  Enterprise                      NaN   \n",
            "\n",
            "       id_strategic_ver  it_strategic_ver  ...  response_corporate  \\\n",
            "52519               NaN               NaN  ...               LGESP   \n",
            "52520               NaN               NaN  ...               LGESP   \n",
            "\n",
            "      expected_timeline  ver_cus ver_pro ver_win_rate_x ver_win_ratio_per_bu  \\\n",
            "52519               NaN        0       0            NaN                  NaN   \n",
            "52520               NaN        0       0            NaN                  NaN   \n",
            "\n",
            "      business_area business_subarea lead_owner is_converted  \n",
            "52519           NaN              NaN        389        False  \n",
            "52520           NaN              NaN        389        False  \n",
            "\n",
            "[2 rows x 29 columns]\n"
          ]
        }
      ],
      "source": [
        "cm_data = df_train[df_train['business_unit'] == 'CM']\n",
        "print(cm_data)"
      ]
    },
    {
      "cell_type": "markdown",
      "id": "b0edc810",
      "metadata": {
        "id": "b0edc810"
      },
      "source": [
        "business_unit의 값아 CM 데이터를 제거하기에는 타겟변수(is_converted)에서 모두 False라는 값을 도출해 냄과 동시에  \n",
        "다른 변수에서 NaN 값으로 대부분 채워져있는것을 보면 CM일수록 is_converted일 가능성이 높다고 판단  \n",
        "따라서 drop하지않고 그대로 유지(물론 test 데이터에는 CM값이 있지는 않음)"
      ]
    },
    {
      "cell_type": "code",
      "execution_count": 20,
      "id": "cff9373b",
      "metadata": {
        "colab": {
          "base_uri": "https://localhost:8080/"
        },
        "id": "cff9373b",
        "outputId": "9ecb5f4d-16db-46b9-adcf-987be9c16402"
      },
      "outputs": [
        {
          "name": "stdout",
          "output_type": "stream",
          "text": [
            "0\n"
          ]
        }
      ],
      "source": [
        "print(df_train['business_unit'].isnull().sum())"
      ]
    },
    {
      "cell_type": "markdown",
      "id": "da936df4",
      "metadata": {
        "id": "da936df4"
      },
      "source": [
        "#### 4. com_reg_ver_win_rate"
      ]
    },
    {
      "cell_type": "markdown",
      "id": "263d710c",
      "metadata": {
        "id": "263d710c"
      },
      "source": [
        "[1] Vertical Level 1  \n",
        "[2] business unit  \n",
        "[3] region  \n",
        "3가지 값을 기준으로 oppty 비율을 계산"
      ]
    },
    {
      "cell_type": "code",
      "execution_count": 21,
      "id": "7918c215",
      "metadata": {
        "colab": {
          "base_uri": "https://localhost:8080/"
        },
        "id": "7918c215",
        "outputId": "ff8fcb72-efbc-46c1-86f8-9bd3c9c0b123"
      },
      "outputs": [
        {
          "data": {
            "text/plain": [
              "com_reg_ver_win_rate\n",
              "0.074949    1130\n",
              "0.003937     803\n",
              "0.073248     791\n",
              "0.642857     782\n",
              "0.003788     713\n",
              "            ... \n",
              "0.363636      13\n",
              "0.444444      12\n",
              "0.400000      12\n",
              "1.000000      10\n",
              "0.200000       5\n",
              "Name: count, Length: 80, dtype: int64"
            ]
          },
          "execution_count": 21,
          "metadata": {},
          "output_type": "execute_result"
        }
      ],
      "source": [
        "df_train['com_reg_ver_win_rate'].value_counts()"
      ]
    },
    {
      "cell_type": "code",
      "execution_count": 22,
      "id": "59453da6",
      "metadata": {
        "colab": {
          "base_uri": "https://localhost:8080/"
        },
        "id": "59453da6",
        "outputId": "8c27595b-a234-422a-8f1b-8d296bc46e06"
      },
      "outputs": [
        {
          "data": {
            "text/plain": [
              "14568"
            ]
          },
          "execution_count": 22,
          "metadata": {},
          "output_type": "execute_result"
        }
      ],
      "source": [
        "df_train['com_reg_ver_win_rate'].value_counts().sum()"
      ]
    },
    {
      "cell_type": "markdown",
      "id": "61a45119",
      "metadata": {
        "id": "61a45119"
      },
      "source": [
        "결측치 갯수 확인"
      ]
    },
    {
      "cell_type": "code",
      "execution_count": 23,
      "id": "mp0PV1pBZS78",
      "metadata": {
        "colab": {
          "base_uri": "https://localhost:8080/"
        },
        "id": "mp0PV1pBZS78",
        "outputId": "8d044095-7e6b-4e5d-b8ed-3dc23967e522"
      },
      "outputs": [
        {
          "name": "stdout",
          "output_type": "stream",
          "text": [
            "44731\n"
          ]
        }
      ],
      "source": [
        "print(df_train['com_reg_ver_win_rate'].isnull().sum())"
      ]
    },
    {
      "cell_type": "markdown",
      "id": "2ff9c3c7",
      "metadata": {
        "id": "2ff9c3c7"
      },
      "source": [
        "결측치에 대해서 값을 계산해서 넣어줄수 있으면 좋음"
      ]
    },
    {
      "cell_type": "markdown",
      "id": "f751db2e",
      "metadata": {
        "id": "f751db2e"
      },
      "source": [
        "'business_area’, ‘business_unit’,'customer_country.1’ 각각이 [1],[2],[3]에 해당"
      ]
    },
    {
      "cell_type": "code",
      "execution_count": 24,
      "id": "a09c40b7",
      "metadata": {},
      "outputs": [],
      "source": [
        "# 그룹화 과정의 느낌을 보기 위해 customer_country.1 대신 customer_country 을 이용함\n",
        "grouped = df_test.groupby([\"customer_country\", \"business_unit\", \"business_area\"])"
      ]
    },
    {
      "cell_type": "markdown",
      "id": "bfe52438",
      "metadata": {},
      "source": [
        "이후 과정에서 'customer_country.1' 의 데이터값을 대륙정보로 변환하여  \n",
        "'com_reg_ver_win_rate' 의 값을 모델을 이용하여 예측을 통한 결측치 대체를 진행"
      ]
    },
    {
      "cell_type": "code",
      "execution_count": 25,
      "id": "a9c94094",
      "metadata": {},
      "outputs": [
        {
          "name": "stdout",
          "output_type": "stream",
          "text": [
            "customer_country  business_unit  business_area                 \n",
            "Afghanistan       ID             corporate / office                             [0.075]\n",
            "                                 power plant / renewable energy                   [nan]\n",
            "Algeria           AS             retail                            [0.0196078431372549]\n",
            "Argentina         AS             residential (home)                [0.0037878787878787]\n",
            "                                 special purpose                   [0.0118577075098814]\n",
            "                                                                           ...         \n",
            "Vietnam           ID             factory                           [0.1818181818181818]\n",
            "                                 hospital & health care                           [nan]\n",
            "                                 hotel & accommodation                            [nan]\n",
            "                                 residential (home)                               [nan]\n",
            "                                 retail                            [0.1184210526315789]\n",
            "Name: com_reg_ver_win_rate, Length: 407, dtype: object\n"
          ]
        }
      ],
      "source": [
        "# 'com_reg_ver_win_rate' 열의 모든 값의 종류를 출력\n",
        "print(grouped['com_reg_ver_win_rate'].apply(lambda x: x.unique()))\n"
      ]
    },
    {
      "cell_type": "code",
      "execution_count": 26,
      "id": "c6ac220c",
      "metadata": {},
      "outputs": [
        {
          "data": {
            "text/plain": [
              "customer_country  business_unit  business_area                   com_reg_ver_win_rate\n",
              "Afghanistan       ID             corporate / office              0.075000                 1\n",
              "Algeria           AS             retail                          0.019608                 1\n",
              "Argentina         AS             residential (home)              0.003788                 2\n",
              "                                 special purpose                 0.011858                 1\n",
              "                  ID             corporate / office              0.074949                15\n",
              "                                                                                         ..\n",
              "Vietnam           AS             power plant / renewable energy  1.000000                 1\n",
              "                  ID             corporate / office              0.084337                 6\n",
              "                                 education                       0.214286                 9\n",
              "                                 factory                         0.181818                 2\n",
              "                                 retail                          0.118421                 3\n",
              "Name: count, Length: 279, dtype: int64"
            ]
          },
          "execution_count": 26,
          "metadata": {},
          "output_type": "execute_result"
        }
      ],
      "source": [
        "grouped['com_reg_ver_win_rate'].value_counts()"
      ]
    },
    {
      "cell_type": "markdown",
      "id": "f7d9db48",
      "metadata": {
        "id": "f7d9db48"
      },
      "source": [
        "랜포 회귀모형을 이용한 값 예측 및 결측값 대체  \n",
        "(개별변수 처리 작업이후 라벨인코딩 진행후에 예측값으로 결측치 대체)"
      ]
    },
    {
      "cell_type": "code",
      "execution_count": 27,
      "id": "4d8378ae",
      "metadata": {
        "colab": {
          "base_uri": "https://localhost:8080/"
        },
        "id": "4d8378ae",
        "outputId": "d17da3f0-c2c6-4660-ea8c-6f03324f6c8e"
      },
      "outputs": [
        {
          "name": "stdout",
          "output_type": "stream",
          "text": [
            "44731\n"
          ]
        }
      ],
      "source": [
        "print(df_train['com_reg_ver_win_rate'].isnull().sum())"
      ]
    },
    {
      "cell_type": "markdown",
      "id": "7d54f3f0",
      "metadata": {
        "id": "7d54f3f0"
      },
      "source": [
        "#### 5. customer_idx"
      ]
    },
    {
      "cell_type": "markdown",
      "id": "9834be65",
      "metadata": {
        "id": "9834be65"
      },
      "source": [
        "고객의 회사명"
      ]
    },
    {
      "cell_type": "code",
      "execution_count": 28,
      "id": "d9f6b21b",
      "metadata": {
        "colab": {
          "base_uri": "https://localhost:8080/"
        },
        "id": "d9f6b21b",
        "outputId": "49798587-22b0-4ba3-e92a-d72c6f2d7bb5"
      },
      "outputs": [
        {
          "data": {
            "text/plain": [
              "customer_idx\n",
              "47466    7686\n",
              "25096    2421\n",
              "37680     367\n",
              "18030     331\n",
              "21321     162\n",
              "         ... \n",
              "39487       1\n",
              "41241       1\n",
              "39422       1\n",
              "22515       1\n",
              "30268       1\n",
              "Name: count, Length: 35112, dtype: int64"
            ]
          },
          "execution_count": 28,
          "metadata": {},
          "output_type": "execute_result"
        }
      ],
      "source": [
        "df_train['customer_idx'].value_counts()"
      ]
    },
    {
      "cell_type": "code",
      "execution_count": 29,
      "id": "5620e6de",
      "metadata": {
        "colab": {
          "base_uri": "https://localhost:8080/"
        },
        "id": "5620e6de",
        "outputId": "18721a9d-9d7d-4459-f68f-d7520807dbc4"
      },
      "outputs": [
        {
          "name": "stdout",
          "output_type": "stream",
          "text": [
            "0\n"
          ]
        }
      ],
      "source": [
        "print(df_train['customer_idx'].isnull().sum())"
      ]
    },
    {
      "cell_type": "markdown",
      "id": "641cb083",
      "metadata": {
        "id": "641cb083"
      },
      "source": [
        "#### 6. customer_type"
      ]
    },
    {
      "cell_type": "markdown",
      "id": "a1a2b668",
      "metadata": {
        "id": "a1a2b668"
      },
      "source": [
        "고객 유형"
      ]
    },
    {
      "cell_type": "code",
      "execution_count": 30,
      "id": "cc88ea74",
      "metadata": {
        "colab": {
          "base_uri": "https://localhost:8080/"
        },
        "id": "cc88ea74",
        "outputId": "1a53405e-92aa-453e-e84f-08fcda432458"
      },
      "outputs": [
        {
          "data": {
            "text/plain": [
              "customer_type\n",
              "End-Customer                    6647\n",
              "End Customer                    3996\n",
              "Specifier/ Influencer           2525\n",
              "Channel Partner                 1368\n",
              "Service Partner                  349\n",
              "Solution Eco-Partner             146\n",
              "Installer/Contractor              52\n",
              "Specifier / Influencer            43\n",
              "Corporate                         31\n",
              "HVAC Engineer                     23\n",
              "Engineer                          20\n",
              "Developer                         17\n",
              "Technician                        16\n",
              "Consultant                        15\n",
              "Other                             10\n",
              "Home Owner                        10\n",
              "End-user                           8\n",
              "Manager / Director                 8\n",
              "Software/Solution Provider         7\n",
              "Etc.                               6\n",
              "Architect/Consultant               5\n",
              "Homeowner                          5\n",
              "Reseller                           5\n",
              "Installer                          5\n",
              "Interior Designer                  5\n",
              "Distributor                        4\n",
              "Others                             4\n",
              "Dealer/Distributor                 2\n",
              "System Integrator                  2\n",
              "Software / Solution Provider       1\n",
              "Technical Assistant                1\n",
              "Commercial end-user                1\n",
              "Administrator                      1\n",
              "Name: count, dtype: int64"
            ]
          },
          "execution_count": 30,
          "metadata": {},
          "output_type": "execute_result"
        }
      ],
      "source": [
        "df_train['customer_type'].value_counts()"
      ]
    },
    {
      "cell_type": "code",
      "execution_count": 31,
      "id": "8759fee3",
      "metadata": {},
      "outputs": [
        {
          "data": {
            "text/plain": [
              "customer_type\n",
              "End Customer             2453\n",
              "Specifier/ Influencer     788\n",
              "Channel Partner           327\n",
              "Solution Eco-Partner      146\n",
              "Service Partner            98\n",
              "Developer                   1\n",
              "End-Customer                1\n",
              "Name: count, dtype: int64"
            ]
          },
          "execution_count": 31,
          "metadata": {},
          "output_type": "execute_result"
        }
      ],
      "source": [
        "df_test['customer_type'].value_counts()"
      ]
    },
    {
      "cell_type": "code",
      "execution_count": 32,
      "id": "365fe394",
      "metadata": {
        "id": "365fe394"
      },
      "outputs": [],
      "source": [
        "# 카테고리 재할당\n",
        "df_train['customer_type'] = df_train['customer_type'].replace({\n",
        "    'Others': 'Other',\n",
        "    'Etc.': 'Other',\n",
        "    'Software / Solution Provider': 'Software/Solution Provider',\n",
        "    'Specifier/ Influencer': 'Specifier/Influencer',\n",
        "    'Specifier / Influencer': 'Specifier/Influencer',\n",
        "    'Distributor': 'Dealer/Distributor',\n",
        "    'Homeowner': 'Home Owner',\n",
        "    'Manager / Director' : 'Manager/Director',\n",
        "    'Commercial end-user': 'End-user',\n",
        "    'End-Customer': 'End Customer',\n",
        "    'Consultant': 'Architect/Consultant',\n",
        "    'Installer': 'Specifier/Influencer',\n",
        "    'Installer/Contractor': 'Specifier/Influencer',\n",
        "    \n",
        "    # LG 카테고리 참고함\n",
        "    'Corporate' : 'End Customer',\n",
        "    'Dealer/Distributor' : 'Channel Partner',\n",
        "    'Reseller' : 'Channel Partner',\n",
        "    'Technician': 'Specifier/Influencer',\n",
        "    'Architect/Consultant': 'Specifier/Influencer',\n",
        "    'Developer': 'End Customer',  \n",
        "})\n",
        "\n",
        "df_test['customer_type'] = df_test['customer_type'].replace({\n",
        "    'Specifier/ Influencer': 'Specifier/Influencer',\n",
        "    'End-Customer': 'End Customer',\n",
        "\n",
        "    # LG 카테고리 참고함\n",
        "    'Developer': 'End Customer',\n",
        "})"
      ]
    },
    {
      "cell_type": "code",
      "execution_count": 33,
      "id": "f3188781",
      "metadata": {
        "colab": {
          "base_uri": "https://localhost:8080/"
        },
        "id": "f3188781",
        "outputId": "ca8c810c-09ac-463e-a742-6d80c6e46ac2"
      },
      "outputs": [
        {
          "name": "stdout",
          "output_type": "stream",
          "text": [
            "customer_type\n",
            "End Customer                  10691\n",
            "Specifier/Influencer           2646\n",
            "Channel Partner                1375\n",
            "Service Partner                 349\n",
            "Solution Eco-Partner            146\n",
            "HVAC Engineer                    23\n",
            "Other                            20\n",
            "Engineer                         20\n",
            "Home Owner                       15\n",
            "Architect/Consultant             15\n",
            "End-user                          9\n",
            "Manager/Director                  8\n",
            "Software/Solution Provider        8\n",
            "Interior Designer                 5\n",
            "Dealer/Distributor                4\n",
            "System Integrator                 2\n",
            "Technical Assistant               1\n",
            "Administrator                     1\n",
            "Name: count, dtype: int64\n"
          ]
        }
      ],
      "source": [
        "print(df_train['customer_type'].value_counts())"
      ]
    },
    {
      "cell_type": "code",
      "execution_count": 34,
      "id": "548f40f0",
      "metadata": {
        "colab": {
          "base_uri": "https://localhost:8080/"
        },
        "id": "548f40f0",
        "outputId": "244f5056-dfd8-4b18-af29-d546bc689601"
      },
      "outputs": [
        {
          "name": "stdout",
          "output_type": "stream",
          "text": [
            "customer_type\n",
            "End Customer            2455\n",
            "Specifier/Influencer     788\n",
            "Channel Partner          327\n",
            "Solution Eco-Partner     146\n",
            "Service Partner           98\n",
            "Name: count, dtype: int64\n"
          ]
        }
      ],
      "source": [
        "print(df_test['customer_type'].value_counts())"
      ]
    },
    {
      "cell_type": "code",
      "execution_count": 35,
      "id": "25ed1a54",
      "metadata": {
        "colab": {
          "base_uri": "https://localhost:8080/"
        },
        "id": "25ed1a54",
        "outputId": "d669c630-abbd-46da-8a8e-1a8073f800a3"
      },
      "outputs": [
        {
          "name": "stdout",
          "output_type": "stream",
          "text": [
            "43961\n"
          ]
        }
      ],
      "source": [
        "print(df_train['customer_type'].isnull().sum())"
      ]
    },
    {
      "cell_type": "code",
      "execution_count": 36,
      "id": "f6a74267",
      "metadata": {
        "id": "f6a74267"
      },
      "outputs": [
        {
          "name": "stdout",
          "output_type": "stream",
          "text": [
            "0\n"
          ]
        }
      ],
      "source": [
        "# 'customer_type' 변수에서 NaN 값을 'Unknown' 으로 대체\n",
        "df_train['customer_type'] = df_train['customer_type'].fillna('Unknown')\n",
        "df_test['customer_type'] = df_test['customer_type'].fillna('Unknown')\n",
        "\n",
        "print(df_train['customer_type'].isnull().sum())"
      ]
    },
    {
      "cell_type": "code",
      "execution_count": 37,
      "id": "bbf30bd2",
      "metadata": {},
      "outputs": [
        {
          "name": "stdout",
          "output_type": "stream",
          "text": [
            "customer_type\n",
            "Unknown                       43961\n",
            "End Customer                  10691\n",
            "Specifier/Influencer           2646\n",
            "Channel Partner                1375\n",
            "Service Partner                 349\n",
            "Solution Eco-Partner            146\n",
            "HVAC Engineer                    23\n",
            "Other                            20\n",
            "Engineer                         20\n",
            "Home Owner                       15\n",
            "Architect/Consultant             15\n",
            "End-user                          9\n",
            "Manager/Director                  8\n",
            "Software/Solution Provider        8\n",
            "Interior Designer                 5\n",
            "Dealer/Distributor                4\n",
            "System Integrator                 2\n",
            "Technical Assistant               1\n",
            "Administrator                     1\n",
            "Name: count, dtype: int64\n"
          ]
        }
      ],
      "source": [
        "print(df_train['customer_type'].value_counts())"
      ]
    },
    {
      "cell_type": "code",
      "execution_count": 38,
      "id": "62528a1f",
      "metadata": {},
      "outputs": [
        {
          "name": "stdout",
          "output_type": "stream",
          "text": [
            "customer_type\n",
            "End Customer            2455\n",
            "Unknown                 1457\n",
            "Specifier/Influencer     788\n",
            "Channel Partner          327\n",
            "Solution Eco-Partner     146\n",
            "Service Partner           98\n",
            "Name: count, dtype: int64\n"
          ]
        }
      ],
      "source": [
        "print(df_test['customer_type'].value_counts())"
      ]
    },
    {
      "cell_type": "markdown",
      "id": "f064c781",
      "metadata": {
        "id": "f064c781"
      },
      "source": [
        "#### 7. enterprise"
      ]
    },
    {
      "cell_type": "markdown",
      "id": "432aed3a",
      "metadata": {
        "id": "432aed3a"
      },
      "source": [
        "[1] Global 기업인지  \n",
        "[2] Small/Medium 규모의 기업인지"
      ]
    },
    {
      "cell_type": "code",
      "execution_count": 39,
      "id": "6e50994a",
      "metadata": {
        "colab": {
          "base_uri": "https://localhost:8080/"
        },
        "id": "6e50994a",
        "outputId": "29af9da4-ce16-49e1-d4fb-51d99eebb9f2"
      },
      "outputs": [
        {
          "data": {
            "text/plain": [
              "enterprise\n",
              "Enterprise    37783\n",
              "SMB           21516\n",
              "Name: count, dtype: int64"
            ]
          },
          "execution_count": 39,
          "metadata": {},
          "output_type": "execute_result"
        }
      ],
      "source": [
        "df_train['enterprise'].value_counts()"
      ]
    },
    {
      "cell_type": "code",
      "execution_count": 40,
      "id": "249f6e3d",
      "metadata": {
        "colab": {
          "base_uri": "https://localhost:8080/"
        },
        "id": "249f6e3d",
        "outputId": "fa6f997d-d490-416f-d402-074d55ad66fd"
      },
      "outputs": [
        {
          "name": "stdout",
          "output_type": "stream",
          "text": [
            "0\n"
          ]
        }
      ],
      "source": [
        "print(df_train['enterprise'].isnull().sum())"
      ]
    },
    {
      "cell_type": "markdown",
      "id": "e7e388cf",
      "metadata": {
        "id": "e7e388cf"
      },
      "source": [
        "#### 8. historical_existing_cnt"
      ]
    },
    {
      "cell_type": "markdown",
      "id": "f00734ba",
      "metadata": {
        "id": "f00734ba"
      },
      "source": [
        "이전에 Converted(영업 전환) 되었던 횟수"
      ]
    },
    {
      "cell_type": "code",
      "execution_count": 41,
      "id": "a1161671",
      "metadata": {
        "colab": {
          "base_uri": "https://localhost:8080/"
        },
        "id": "a1161671",
        "outputId": "228489c2-35df-4405-f8d1-1087f1615fa3"
      },
      "outputs": [
        {
          "data": {
            "text/plain": [
              "historical_existing_cnt\n",
              "4.0       2957\n",
              "0.0       1973\n",
              "1.0       1967\n",
              "19.0      1441\n",
              "16.0      1132\n",
              "          ... \n",
              "404.0        1\n",
              "145.0        1\n",
              "1394.0       1\n",
              "199.0        1\n",
              "108.0        1\n",
              "Name: count, Length: 136, dtype: int64"
            ]
          },
          "execution_count": 41,
          "metadata": {},
          "output_type": "execute_result"
        }
      ],
      "source": [
        "df_train['historical_existing_cnt'].value_counts()"
      ]
    },
    {
      "cell_type": "markdown",
      "id": "9302c49b",
      "metadata": {
        "id": "9302c49b"
      },
      "source": [
        "결측치 갯수 확인"
      ]
    },
    {
      "cell_type": "code",
      "execution_count": 42,
      "id": "69cfad07",
      "metadata": {
        "colab": {
          "base_uri": "https://localhost:8080/"
        },
        "id": "69cfad07",
        "outputId": "3b24dd9c-545f-4d41-b12a-672dc46dd989"
      },
      "outputs": [
        {
          "name": "stdout",
          "output_type": "stream",
          "text": [
            "45543\n"
          ]
        }
      ],
      "source": [
        "print(df_train['historical_existing_cnt'].isnull().sum())"
      ]
    },
    {
      "cell_type": "code",
      "execution_count": 43,
      "id": "2b59a6f4",
      "metadata": {
        "colab": {
          "base_uri": "https://localhost:8080/"
        },
        "id": "2b59a6f4",
        "outputId": "1e0bed78-b62d-481e-f066-31c63bdb881f"
      },
      "outputs": [
        {
          "name": "stdout",
          "output_type": "stream",
          "text": [
            "0\n"
          ]
        }
      ],
      "source": [
        "df_train['historical_existing_cnt'] = df_train['historical_existing_cnt'].fillna(0)\n",
        "df_test['historical_existing_cnt'] = df_test['historical_existing_cnt'].fillna(0)\n",
        "\n",
        "print(df_train['historical_existing_cnt'].isnull().sum())"
      ]
    },
    {
      "cell_type": "markdown",
      "id": "48797628",
      "metadata": {
        "id": "48797628"
      },
      "source": [
        "#### 9. id_strategic_ver"
      ]
    },
    {
      "cell_type": "markdown",
      "id": "db03febb",
      "metadata": {
        "id": "db03febb"
      },
      "source": [
        "(도메인 지식) 특정 사업부(Business Unit),  \n",
        "특정 사업 영역(Vertical Level1)에 대해  \n",
        "가중치를 부여"
      ]
    },
    {
      "cell_type": "markdown",
      "id": "972d651c",
      "metadata": {
        "id": "972d651c"
      },
      "source": [
        "business_unit 에서 ID 사업부에 대한 변수"
      ]
    },
    {
      "cell_type": "code",
      "execution_count": 44,
      "id": "08c4e870",
      "metadata": {
        "colab": {
          "base_uri": "https://localhost:8080/"
        },
        "id": "08c4e870",
        "outputId": "d4e6e1ee-7053-4cf8-85ec-9bb5f15b4c78"
      },
      "outputs": [
        {
          "data": {
            "text/plain": [
              "id_strategic_ver\n",
              "1.0    3444\n",
              "Name: count, dtype: int64"
            ]
          },
          "execution_count": 44,
          "metadata": {},
          "output_type": "execute_result"
        }
      ],
      "source": [
        "df_train['id_strategic_ver'].value_counts()"
      ]
    },
    {
      "cell_type": "markdown",
      "id": "c1a681c3",
      "metadata": {
        "id": "c1a681c3"
      },
      "source": [
        "business_unit의 값을 확인하였을때  \n",
        "ID 사업부의 갯수는 25563개 비해 id_strategic_ver의 1의 값이 3444개인것을 보면  \n",
        "ID 사업부 중에서도 특별히 가중치를 주는 이유가 존재할것으로 보임"
      ]
    },
    {
      "cell_type": "code",
      "execution_count": 45,
      "id": "54ea5c3f",
      "metadata": {
        "id": "54ea5c3f"
      },
      "outputs": [
        {
          "data": {
            "text/plain": [
              "id_strategic_ver\n",
              "0.0    55855\n",
              "1.0     3444\n",
              "Name: count, dtype: int64"
            ]
          },
          "execution_count": 45,
          "metadata": {},
          "output_type": "execute_result"
        }
      ],
      "source": [
        "# 누락된 값을 0으로 채우기\n",
        "df_train['id_strategic_ver'].fillna(0, inplace=True)\n",
        "df_test['id_strategic_ver'].fillna(0, inplace=True)\n",
        "\n",
        "df_train['id_strategic_ver'].value_counts()"
      ]
    },
    {
      "cell_type": "code",
      "execution_count": 46,
      "id": "af8f4cbd",
      "metadata": {
        "colab": {
          "base_uri": "https://localhost:8080/",
          "height": 607
        },
        "id": "af8f4cbd",
        "outputId": "d0d3a054-c236-42e9-c9b1-501c466ce18e"
      },
      "outputs": [
        {
          "data": {
            "image/png": "[encoded data removed]",
            "text/plain": [
              "<Figure size 800x600 with 2 Axes>"
            ]
          },
          "metadata": {},
          "output_type": "display_data"
        }
      ],
      "source": [
        "# seaborn 스타일 설정\n",
        "sns.set_style(\"whitegrid\")\n",
        "\n",
        "# business_unit이 'ID'인 데이터만 선택\n",
        "df_train_id = df_train[df_train['business_unit'] == 'ID']\n",
        "\n",
        "# id_strategic_ver 값에 따라 데이터를 분리\n",
        "df_train_id_strategic_1 = df_train_id[df_train_id['id_strategic_ver'] == 1]\n",
        "df_train_id_strategic_0 = df_train_id[df_train_id['id_strategic_ver'] == 0]\n",
        "\n",
        "# business_area별로 id_strategic_ver 개수를 세어 저장\n",
        "count_id_strategic_1 = df_train_id_strategic_1['business_area'].value_counts()\n",
        "count_id_strategic_0 = df_train_id_strategic_0['business_area'].value_counts()\n",
        "\n",
        "# 그래프\n",
        "plt.figure(figsize=(8, 6))\n",
        "\n",
        "plt.subplot(1, 2, 1)\n",
        "sns.barplot(x=count_id_strategic_1.index, y=count_id_strategic_1.values, palette=\"Blues_d\")\n",
        "plt.title('id_strategic_ver = 1')\n",
        "plt.xlabel('business_area')\n",
        "plt.ylabel('Count')\n",
        "plt.xticks(rotation=90)\n",
        "\n",
        "plt.subplot(1, 2, 2)\n",
        "sns.barplot(x=count_id_strategic_0.index, y=count_id_strategic_0.values, palette=\"Reds_d\")\n",
        "plt.title('id_strategic_ver = 0')\n",
        "plt.xlabel('business_area')\n",
        "plt.ylabel('Count')\n",
        "plt.xticks(rotation=90)\n",
        "\n",
        "plt.tight_layout()\n",
        "plt.show()\n"
      ]
    },
    {
      "cell_type": "markdown",
      "id": "cb0a3e9f",
      "metadata": {
        "id": "cb0a3e9f"
      },
      "source": [
        "business_subarea (고객의 세부 사업 영역) 부분에서는 유의미한 차이가 보이지않음"
      ]
    },
    {
      "cell_type": "markdown",
      "id": "d1a4e377",
      "metadata": {
        "id": "d1a4e377"
      },
      "source": [
        "id_strategic_ver 는 결국 business_unit이 'ID'이면서,  \n",
        "business_area가 'corporate / office' 또는 'hotel & accommodation'인 값에 대해서  \n",
        "가중치를 주는 변수임을 확인가능"
      ]
    },
    {
      "cell_type": "markdown",
      "id": "bafd7db2",
      "metadata": {
        "id": "bafd7db2"
      },
      "source": [
        "#### 10. it_strategic_ver"
      ]
    },
    {
      "cell_type": "markdown",
      "id": "c3846f3f",
      "metadata": {
        "id": "c3846f3f"
      },
      "source": [
        "(도메인 지식)   \n",
        "특정 사업부(Business Unit),  \n",
        "특정 사업 영역(Vertical Level1)에 대해  \n",
        "가중치를 부여"
      ]
    },
    {
      "cell_type": "markdown",
      "id": "6b7d493a",
      "metadata": {
        "id": "6b7d493a"
      },
      "source": [
        "business_unit 에서 It 사업부에 대한 변수"
      ]
    },
    {
      "cell_type": "code",
      "execution_count": 47,
      "id": "38433309",
      "metadata": {
        "colab": {
          "base_uri": "https://localhost:8080/"
        },
        "id": "38433309",
        "outputId": "b87eca19-b388-4719-976f-7b83b74d07e4"
      },
      "outputs": [
        {
          "data": {
            "text/plain": [
              "it_strategic_ver\n",
              "1.0    1121\n",
              "Name: count, dtype: int64"
            ]
          },
          "execution_count": 47,
          "metadata": {},
          "output_type": "execute_result"
        }
      ],
      "source": [
        "df_train['it_strategic_ver'].value_counts()"
      ]
    },
    {
      "cell_type": "code",
      "execution_count": 48,
      "id": "09a9a222",
      "metadata": {
        "id": "09a9a222"
      },
      "outputs": [
        {
          "data": {
            "text/plain": [
              "it_strategic_ver\n",
              "0.0    58178\n",
              "1.0     1121\n",
              "Name: count, dtype: int64"
            ]
          },
          "execution_count": 48,
          "metadata": {},
          "output_type": "execute_result"
        }
      ],
      "source": [
        "# 누락된 값을 0으로 채우기\n",
        "df_train['it_strategic_ver'].fillna(0, inplace=True)\n",
        "df_test['it_strategic_ver'].fillna(0, inplace=True)\n",
        "\n",
        "df_train['it_strategic_ver'].value_counts()"
      ]
    },
    {
      "cell_type": "code",
      "execution_count": 49,
      "id": "7f1b65a4",
      "metadata": {
        "colab": {
          "base_uri": "https://localhost:8080/",
          "height": 607
        },
        "id": "7f1b65a4",
        "outputId": "b3f59cdc-d15f-4eef-d4ec-b4596269b511"
      },
      "outputs": [
        {
          "data": {
            "image/png": "[encoded data removed]",
            "text/plain": [
              "<Figure size 800x600 with 2 Axes>"
            ]
          },
          "metadata": {},
          "output_type": "display_data"
        }
      ],
      "source": [
        "# seaborn 스타일 설정\n",
        "sns.set_style(\"whitegrid\")\n",
        "\n",
        "# business_unit이 'ID'인 데이터만 선택\n",
        "df_train_id = df_train[df_train['business_unit'] == 'IT']\n",
        "\n",
        "# id_strategic_ver 값에 따라 데이터를 분리\n",
        "df_train_id_strategic_1 = df_train_id[df_train_id['it_strategic_ver'] == 1]\n",
        "df_train_id_strategic_0 = df_train_id[df_train_id['it_strategic_ver'] == 0]\n",
        "\n",
        "# business_area별로 id_strategic_ver 개수를 세어 저장\n",
        "count_id_strategic_1 = df_train_id_strategic_1['business_area'].value_counts()\n",
        "count_id_strategic_0 = df_train_id_strategic_0['business_area'].value_counts()\n",
        "\n",
        "# 그래프\n",
        "plt.figure(figsize=(8, 6))\n",
        "\n",
        "plt.subplot(1, 2, 1)\n",
        "sns.barplot(x=count_id_strategic_1.index, y=count_id_strategic_1.values, palette=\"Blues_d\")\n",
        "plt.title('it_strategic_ver = 1')\n",
        "plt.xlabel('business_area')\n",
        "plt.ylabel('Count')\n",
        "plt.xticks(rotation=90)\n",
        "\n",
        "plt.subplot(1, 2, 2)\n",
        "sns.barplot(x=count_id_strategic_0.index, y=count_id_strategic_0.values, palette=\"Reds_d\")\n",
        "plt.title('it_strategic_ver = 0')\n",
        "plt.xlabel('business_area')\n",
        "plt.ylabel('Count')\n",
        "plt.xticks(rotation=90)\n",
        "\n",
        "plt.tight_layout()\n",
        "plt.show()\n"
      ]
    },
    {
      "cell_type": "markdown",
      "id": "30a3e5c7",
      "metadata": {
        "id": "30a3e5c7"
      },
      "source": [
        "it_strategic_ver 는 business_unit이 'It'이면서,  \n",
        "고객의 사업영역은 ID 사업부에서의 가중치와 동일하게  \n",
        "business_area가 'corporate / office' 또는 'hotel & accommodation'인 값에 대해서  \n",
        "가중치를 주는 변수임을 확인가능"
      ]
    },
    {
      "cell_type": "code",
      "execution_count": 50,
      "id": "c3cd1295",
      "metadata": {},
      "outputs": [],
      "source": [
        "# business_unit이 'IT'인 데이터만 선택\n",
        "df_train_it = df_train[df_train['business_unit'] == 'IT']\n",
        "df_train_it_no = df_train[df_train['business_unit'] != 'IT']\n",
        "\n",
        "# business_unit이 'IT'인 데이터중에서도 it_strategic_ver = 1 인 값을 business_area 별로 나눔\n",
        "df_train_it_ho = df_train_it[df_train_it['business_area'] == 'hotel & accommodation']\n",
        "df_train_it_co = df_train_it[df_train_it['business_area'] == 'corporate / office']"
      ]
    },
    {
      "cell_type": "code",
      "execution_count": 51,
      "id": "d1f216c3",
      "metadata": {},
      "outputs": [
        {
          "name": "stdout",
          "output_type": "stream",
          "text": [
            "business_unit  business_area          business_subarea\n",
            "IT             hotel & accommodation  Cruise              [1.0]\n",
            "Name: it_strategic_ver, dtype: object\n"
          ]
        },
        {
          "data": {
            "text/plain": [
              "business_unit  business_area          business_subarea  it_strategic_ver\n",
              "IT             hotel & accommodation  Cruise            1.0                 1\n",
              "Name: count, dtype: int64"
            ]
          },
          "execution_count": 51,
          "metadata": {},
          "output_type": "execute_result"
        }
      ],
      "source": [
        "grouped = df_train_it_ho.groupby([\"business_unit\", \"business_area\", \"business_subarea\"])\n",
        "\n",
        "# 'com_reg_ver_win_rate' 열의 모든 값의 종류를 출력\n",
        "print(grouped['it_strategic_ver'].apply(lambda x: x.unique()))\n",
        "\n",
        "grouped['it_strategic_ver'].value_counts()"
      ]
    },
    {
      "cell_type": "code",
      "execution_count": 52,
      "id": "a3f6a8fe",
      "metadata": {},
      "outputs": [
        {
          "name": "stdout",
          "output_type": "stream",
          "text": [
            "business_unit  business_area       business_subarea    \n",
            "IT             corporate / office  Advertising             [1.0]\n",
            "                                   Banking                 [1.0]\n",
            "                                   Broadcasting & Media    [1.0]\n",
            "                                   Construction            [1.0]\n",
            "                                   Consulting              [1.0]\n",
            "                                   Developer/Property      [1.0]\n",
            "                                   Engineering             [1.0]\n",
            "                                   Finance                 [1.0]\n",
            "                                   Healthcare              [1.0]\n",
            "                                   IT/Software             [1.0]\n",
            "                                   Insurance               [1.0]\n",
            "                                   Law Firm                [1.0]\n",
            "                                   Manufacturing           [1.0]\n",
            "                                   Others                  [1.0]\n",
            "Name: it_strategic_ver, dtype: object\n"
          ]
        },
        {
          "data": {
            "text/plain": [
              "business_unit  business_area       business_subarea      it_strategic_ver\n",
              "IT             corporate / office  Advertising           1.0                  5\n",
              "                                   Banking               1.0                  1\n",
              "                                   Broadcasting & Media  1.0                  3\n",
              "                                   Construction          1.0                  6\n",
              "                                   Consulting            1.0                  9\n",
              "                                   Developer/Property    1.0                  1\n",
              "                                   Engineering           1.0                  6\n",
              "                                   Finance               1.0                  4\n",
              "                                   Healthcare            1.0                  4\n",
              "                                   IT/Software           1.0                 27\n",
              "                                   Insurance             1.0                  1\n",
              "                                   Law Firm              1.0                  1\n",
              "                                   Manufacturing         1.0                 10\n",
              "                                   Others                1.0                  4\n",
              "Name: count, dtype: int64"
            ]
          },
          "execution_count": 52,
          "metadata": {},
          "output_type": "execute_result"
        }
      ],
      "source": [
        "grouped = df_train_it_co.groupby([\"business_unit\", \"business_area\", \"business_subarea\"])\n",
        "\n",
        "# 'com_reg_ver_win_rate' 열의 모든 값의 종류를 출력\n",
        "print(grouped['it_strategic_ver'].apply(lambda x: x.unique()))\n",
        "\n",
        "grouped['it_strategic_ver'].value_counts()"
      ]
    },
    {
      "cell_type": "markdown",
      "id": "ad4e6fe0",
      "metadata": {
        "id": "ad4e6fe0"
      },
      "source": [
        "#### 11. idit_strategic_ver"
      ]
    },
    {
      "cell_type": "markdown",
      "id": "b0b19a28",
      "metadata": {
        "id": "b0b19a28"
      },
      "source": [
        "Id_strategic_ver이나 it_strategic_ver 값 중   \n",
        "하나라도 1의 값을 가지면 1 값으로 표현"
      ]
    },
    {
      "cell_type": "code",
      "execution_count": 53,
      "id": "1a599fd0",
      "metadata": {
        "colab": {
          "base_uri": "https://localhost:8080/"
        },
        "id": "1a599fd0",
        "outputId": "48bd8418-d508-4185-9682-de5b20848085"
      },
      "outputs": [
        {
          "data": {
            "text/plain": [
              "idit_strategic_ver\n",
              "1.0    4565\n",
              "Name: count, dtype: int64"
            ]
          },
          "execution_count": 53,
          "metadata": {},
          "output_type": "execute_result"
        }
      ],
      "source": [
        "df_train['idit_strategic_ver'].value_counts()"
      ]
    },
    {
      "cell_type": "code",
      "execution_count": 54,
      "id": "fb038281",
      "metadata": {
        "id": "fb038281"
      },
      "outputs": [
        {
          "data": {
            "text/plain": [
              "idit_strategic_ver\n",
              "0.0    54734\n",
              "1.0     4565\n",
              "Name: count, dtype: int64"
            ]
          },
          "execution_count": 54,
          "metadata": {},
          "output_type": "execute_result"
        }
      ],
      "source": [
        "# 누락된 값을 0으로 채우기\n",
        "df_train['idit_strategic_ver'].fillna(0, inplace=True)\n",
        "df_test['idit_strategic_ver'].fillna(0, inplace=True)\n",
        "\n",
        "df_train['idit_strategic_ver'].value_counts()"
      ]
    },
    {
      "cell_type": "markdown",
      "id": "0a8f3de0",
      "metadata": {
        "id": "0a8f3de0"
      },
      "source": [
        "#### 12. customer_job"
      ]
    },
    {
      "cell_type": "markdown",
      "id": "e0dfb1ae",
      "metadata": {
        "id": "e0dfb1ae"
      },
      "source": [
        "고객의 직업군"
      ]
    },
    {
      "cell_type": "code",
      "execution_count": 55,
      "id": "47f94320",
      "metadata": {
        "colab": {
          "base_uri": "https://localhost:8080/"
        },
        "id": "47f94320",
        "outputId": "122851d2-0905-42c4-ea4d-9df91e0bb416"
      },
      "outputs": [
        {
          "data": {
            "text/plain": [
              "customer_job\n",
              "engineering                       6342\n",
              "other                             4852\n",
              "administrative                    3359\n",
              "education                         2287\n",
              "sales                             2218\n",
              "                                  ... \n",
              "appliance specialist                 1\n",
              "av estimator                         1\n",
              "purchasers                           1\n",
              "pricing                              1\n",
              "exhibition / convention center       1\n",
              "Name: count, Length: 560, dtype: int64"
            ]
          },
          "execution_count": 55,
          "metadata": {},
          "output_type": "execute_result"
        }
      ],
      "source": [
        "df_train['customer_job'].value_counts()"
      ]
    },
    {
      "cell_type": "code",
      "execution_count": 56,
      "id": "75adcdae",
      "metadata": {},
      "outputs": [
        {
          "data": {
            "text/plain": [
              "customer_job\n",
              "engineering                         728\n",
              "others                              482\n",
              "education                           408\n",
              "administrative                      307\n",
              "information technology              231\n",
              "operations                          195\n",
              "purchasing                          180\n",
              "consulting                          166\n",
              "business development                164\n",
              "sales                               162\n",
              "entrepreneurship                    119\n",
              "arts and design                     102\n",
              "program and project management       96\n",
              "marketing                            94\n",
              "media and communication              48\n",
              "support                              47\n",
              "healthcare services                  44\n",
              "finance                              42\n",
              "product management                   36\n",
              "accounting                           34\n",
              "real estate                          26\n",
              "other                                24\n",
              "community and social services        22\n",
              "legal                                17\n",
              "human resources                      14\n",
              "research                              9\n",
              "military and protective services      7\n",
              "quality assurance                     5\n",
              "radiology professional                4\n",
              "curation                              3\n",
              "medical imaging specialist            3\n",
              "3d/vfx art                            2\n",
              "healthcare                            2\n",
              "film production                       2\n",
              "clinical specialist                   1\n",
              "electronics & telco                   1\n",
              "pathologist                           1\n",
              "surgery professional                  1\n",
              "k12 school                            1\n",
              "media and communications              1\n",
              "medical solution provider             1\n",
              "Name: count, dtype: int64"
            ]
          },
          "execution_count": 56,
          "metadata": {},
          "output_type": "execute_result"
        }
      ],
      "source": [
        "df_test['customer_job'].value_counts()"
      ]
    },
    {
      "cell_type": "code",
      "execution_count": 57,
      "id": "3e72f8eb",
      "metadata": {},
      "outputs": [],
      "source": [
        "def search_job(customer_job):\n",
        "    # LG list 참고\n",
        "    job = ['accounting','administrative','arts and design','business development','community and social services','consulting','curation','education','engineering', 'entrepreneurship','finance','healthcare services','human resources','information technology','legal','marketing','media and communication','military and protective services operations','product management', 'program and project management','purchasing','quality assurance','real estate','research','sales','support','others']\n",
        "\n",
        "    # 'media and communications'를 'media and communication'으로 변환\n",
        "    if customer_job == 'media and communications':\n",
        "        customer_job = 'media and communication'\n",
        "    \n",
        "    if not customer_job:\n",
        "        return 'others'\n",
        "    elif customer_job in job:\n",
        "        return customer_job\n",
        "    else:\n",
        "        return 'unknown'\n",
        "\n",
        "df_train['customer_job'] = df_train['customer_job'].apply(search_job)\n",
        "df_test['customer_job'] = df_test['customer_job'].apply(search_job)"
      ]
    },
    {
      "cell_type": "code",
      "execution_count": 58,
      "id": "afc6ef86",
      "metadata": {},
      "outputs": [
        {
          "data": {
            "text/plain": [
              "customer_job\n",
              "unknown                           28683\n",
              "engineering                        6342\n",
              "administrative                     3359\n",
              "education                          2287\n",
              "sales                              2218\n",
              "purchasing                         1938\n",
              "information technology             1937\n",
              "business development               1801\n",
              "consulting                         1349\n",
              "arts and design                    1276\n",
              "entrepreneurship                   1192\n",
              "marketing                          1161\n",
              "program and project management      948\n",
              "others                              763\n",
              "media and communication             710\n",
              "healthcare services                 632\n",
              "product management                  573\n",
              "finance                             463\n",
              "accounting                          396\n",
              "support                             358\n",
              "real estate                         295\n",
              "legal                               155\n",
              "community and social services       137\n",
              "research                            134\n",
              "human resources                     111\n",
              "curation                             42\n",
              "quality assurance                    39\n",
              "Name: count, dtype: int64"
            ]
          },
          "execution_count": 58,
          "metadata": {},
          "output_type": "execute_result"
        }
      ],
      "source": [
        "df_train['customer_job'].value_counts()"
      ]
    },
    {
      "cell_type": "code",
      "execution_count": 59,
      "id": "b5651999",
      "metadata": {
        "colab": {
          "base_uri": "https://localhost:8080/"
        },
        "id": "b5651999",
        "outputId": "60625412-f311-4453-b729-81932e244f6e"
      },
      "outputs": [
        {
          "data": {
            "text/plain": [
              "customer_job\n",
              "unknown                           1684\n",
              "engineering                        728\n",
              "others                             482\n",
              "education                          408\n",
              "administrative                     307\n",
              "information technology             231\n",
              "purchasing                         180\n",
              "consulting                         166\n",
              "business development               164\n",
              "sales                              162\n",
              "entrepreneurship                   119\n",
              "arts and design                    102\n",
              "program and project management      96\n",
              "marketing                           94\n",
              "media and communication             49\n",
              "support                             47\n",
              "healthcare services                 44\n",
              "finance                             42\n",
              "product management                  36\n",
              "accounting                          34\n",
              "real estate                         26\n",
              "community and social services       22\n",
              "legal                               17\n",
              "human resources                     14\n",
              "research                             9\n",
              "quality assurance                    5\n",
              "curation                             3\n",
              "Name: count, dtype: int64"
            ]
          },
          "execution_count": 59,
          "metadata": {},
          "output_type": "execute_result"
        }
      ],
      "source": [
        "df_test['customer_job'].value_counts()"
      ]
    },
    {
      "cell_type": "code",
      "execution_count": 60,
      "id": "dc2e4567",
      "metadata": {
        "colab": {
          "base_uri": "https://localhost:8080/"
        },
        "id": "dc2e4567",
        "outputId": "55aa8bf0-9ed5-4194-cc6d-dab66011cc2c"
      },
      "outputs": [
        {
          "name": "stdout",
          "output_type": "stream",
          "text": [
            "0\n"
          ]
        }
      ],
      "source": [
        "print(df_train['customer_job'].isnull().sum())"
      ]
    },
    {
      "cell_type": "markdown",
      "id": "850c3b9b",
      "metadata": {
        "id": "850c3b9b"
      },
      "source": [
        "#### 13. lead_desc_length"
      ]
    },
    {
      "cell_type": "markdown",
      "id": "1bf75149",
      "metadata": {
        "id": "1bf75149"
      },
      "source": [
        "고객이 작성한 Lead Descriptoin 텍스트 총 길이"
      ]
    },
    {
      "cell_type": "code",
      "execution_count": 61,
      "id": "12ffedcd",
      "metadata": {
        "colab": {
          "base_uri": "https://localhost:8080/"
        },
        "id": "12ffedcd",
        "outputId": "36633731-3548-4fe8-ee91-227a8444d5dc"
      },
      "outputs": [
        {
          "data": {
            "text/plain": [
              "lead_desc_length\n",
              "3      10378\n",
              "14      3180\n",
              "2        934\n",
              "10       891\n",
              "4        884\n",
              "       ...  \n",
              "824        1\n",
              "559        1\n",
              "676        1\n",
              "907        1\n",
              "726        1\n",
              "Name: count, Length: 909, dtype: int64"
            ]
          },
          "execution_count": 61,
          "metadata": {},
          "output_type": "execute_result"
        }
      ],
      "source": [
        "df_train['lead_desc_length'].value_counts()"
      ]
    },
    {
      "cell_type": "code",
      "execution_count": 62,
      "id": "f0783cad",
      "metadata": {
        "colab": {
          "base_uri": "https://localhost:8080/"
        },
        "id": "f0783cad",
        "outputId": "195dc36e-f978-47c2-f6b0-9c1c991dd278"
      },
      "outputs": [
        {
          "name": "stdout",
          "output_type": "stream",
          "text": [
            "0\n"
          ]
        }
      ],
      "source": [
        "print(df_train['lead_desc_length'].isnull().sum())"
      ]
    },
    {
      "cell_type": "code",
      "execution_count": 63,
      "id": "2d1f19b5",
      "metadata": {},
      "outputs": [
        {
          "name": "stdout",
          "output_type": "stream",
          "text": [
            "0\n"
          ]
        }
      ],
      "source": [
        "# 누락된 값을 0으로 채우기\n",
        "df_train['lead_desc_length'].fillna('0')\n",
        "df_test['lead_desc_length'].fillna('0')\n",
        "\n",
        "print(df_train['lead_desc_length'].isnull().sum())"
      ]
    },
    {
      "cell_type": "markdown",
      "id": "041f4de1",
      "metadata": {
        "id": "041f4de1"
      },
      "source": [
        "#### 14. inquiry_type"
      ]
    },
    {
      "cell_type": "markdown",
      "id": "ddf7ba0b",
      "metadata": {
        "id": "ddf7ba0b"
      },
      "source": [
        "고객의 문의 유형"
      ]
    },
    {
      "cell_type": "code",
      "execution_count": 64,
      "id": "6c1fe0f1",
      "metadata": {
        "colab": {
          "base_uri": "https://localhost:8080/"
        },
        "id": "6c1fe0f1",
        "outputId": "d9eb00f4-f2fc-4a60-807c-69b58f017271"
      },
      "outputs": [
        {
          "data": {
            "text/plain": [
              "inquiry_type\n",
              "Quotation or purchase consultation                                                                                     23274\n",
              "Quotation or Purchase Consultation                                                                                     18766\n",
              "Sales Inquiry                                                                                                           9977\n",
              "Product Information                                                                                                     1237\n",
              "Other                                                                                                                    929\n",
              "                                                                                                                       ...  \n",
              "quotation_                                                                                                                 1\n",
              "display product                                                                                                            1\n",
              "first Info and pricing                                                                                                     1\n",
              "estoy buscando para Ecuador este producto LG MAGNIT micro LED, para un cliente de 138 pulgadas, con envió marítimo.        1\n",
              "Evento_SdelEstero                                                                                                          1\n",
              "Name: count, Length: 71, dtype: int64"
            ]
          },
          "execution_count": 64,
          "metadata": {},
          "output_type": "execute_result"
        }
      ],
      "source": [
        "df_train['inquiry_type'].value_counts()"
      ]
    },
    {
      "cell_type": "code",
      "execution_count": 65,
      "id": "46d6e810",
      "metadata": {},
      "outputs": [
        {
          "data": {
            "text/plain": [
              "inquiry_type\n",
              "Quotation or Purchase Consultation    3465\n",
              "Technical Consultation                 135\n",
              "Others                                 110\n",
              "Product Information                     68\n",
              "Request for Partnership                 63\n",
              "Usage or Technical Consultation         52\n",
              "Services                                34\n",
              "Trainings                               21\n",
              "Request a Demo                           9\n",
              "Other                                    9\n",
              "Customer Suggestions                     4\n",
              "OEM/ODM Request                          3\n",
              "other_                                   3\n",
              "Media Inquiry                            2\n",
              "Request for Distributorship              1\n",
              "Name: count, dtype: int64"
            ]
          },
          "execution_count": 65,
          "metadata": {},
          "output_type": "execute_result"
        }
      ],
      "source": [
        "df_test['inquiry_type'].value_counts()"
      ]
    },
    {
      "cell_type": "code",
      "execution_count": 66,
      "id": "74a763d5",
      "metadata": {
        "id": "74a763d5"
      },
      "outputs": [],
      "source": [
        "# 'inquiry_type' 열의 철자오류에 대해 일관된 값으로 변환\n",
        "## Ctrl + Shift + [ : 현재 영역 접기\n",
        "df_train['inquiry_type'] = df_train['inquiry_type'].replace({\n",
        "\n",
        "    'Quotation or purchase consultation': 'Quotation or Purchase Consultation',\n",
        "    'Request for quotation or purchase': 'Quotation or Purchase Consultation',\n",
        "    'quotation_or_purchase_consultation': 'Quotation or Purchase Consultation',\n",
        "    'quotation_': 'Quotation or Purchase Consultation',\n",
        "    'Purchase or Quotation': 'Quotation or Purchase Consultation',\n",
        "    'Quotation or Purchase consultation': 'Quotation or Purchase Consultation',\n",
        "    'Purchase': 'Quotation or Purchase Consultation',\n",
        "    'quotation_or_purchase_consultation': 'Quotation or Purchase Consultation',\n",
        "    'quotation_': 'Quotation or Purchase Consultation',\n",
        "    'quotation_': 'Quotation or Purchase Consultation',\n",
        "\n",
        "    'Usage or technical consultation': 'Usage or Technical Consultation',\n",
        "    'Technical Consultation': 'Usage or Technical Consultation',\n",
        "    'usage or technical consultation': 'Usage or Technical Consultation',\n",
        "    'usage_or_technical_consultation': 'Usage or Technical Consultation',\n",
        "    'Request for technical consulting': 'Usage or Technical Consultation',\n",
        "    'technical_consultation': 'Usage or Technical Consultation',\n",
        "    'technical': 'Usage or Technical Consultation',\n",
        "\n",
        "    'sales':'Sales Inquiry',\n",
        "    'Sales inquiry':'Sales Inquiry',\n",
        "\n",
        "    'other': 'Other',\n",
        "    'other_': 'Other',\n",
        "    'others': 'Other',\n",
        "    'Others' : 'Other',\n",
        "    'Etc.': 'Other',\n",
        "    'ETC.': 'Other'\n",
        "\n",
        "})\n",
        "\n",
        "df_test['inquiry_type'] = df_test['inquiry_type'].replace({\n",
        "\n",
        "    'Technical Consultation': 'Usage or Technical Consultation',\n",
        "\n",
        "    'other_': 'Other',\n",
        "    'Others' : 'Other',\n",
        "\n",
        "})\n"
      ]
    },
    {
      "cell_type": "code",
      "execution_count": 67,
      "id": "ee3777c3",
      "metadata": {
        "colab": {
          "base_uri": "https://localhost:8080/"
        },
        "id": "ee3777c3",
        "outputId": "9b4b807e-4219-480c-e181-9ebccd55dafc"
      },
      "outputs": [
        {
          "data": {
            "text/plain": [
              "inquiry_type\n",
              "Quotation or Purchase Consultation                                                                                     42384\n",
              "Sales Inquiry                                                                                                          10081\n",
              "Usage or Technical Consultation                                                                                         1668\n",
              "Other                                                                                                                   1401\n",
              "Product Information                                                                                                     1237\n",
              "Trainings                                                                                                                434\n",
              "Services                                                                                                                 415\n",
              "Request for Partnership                                                                                                  297\n",
              "Request a Demo                                                                                                           184\n",
              "Technical Support                                                                                                        110\n",
              "Request for Distributorship                                                                                               75\n",
              "Customer Suggestions                                                                                                      12\n",
              "IDB                                                                                                                       10\n",
              "Event Inquiry                                                                                                              5\n",
              "OEM/ODM Request                                                                                                            5\n",
              "Media Inquiry                                                                                                              2\n",
              "Video Wall                                                                                                                 2\n",
              "tôi cần tham khảo giá và giải pháp từ LG                                                                                   2\n",
              "Probeam precio                                                                                                             2\n",
              "Vui lòng báo giá giúp mình sản phẩm đo thân nhiệt Xin cảm ơn                                                               2\n",
              "Toi muon tim hieu thong tin ky thuat, gia ca cua sp de su dung                                                             2\n",
              "Standalone                                                                                                                 1\n",
              "LED Signage                                                                                                                1\n",
              "for school                                                                                                                 1\n",
              "Not specified                                                                                                              1\n",
              "VRF                                                                                                                        1\n",
              "Intégrateur historique du George V                                                                                         1\n",
              "Solicito apoyo para realizar cotizacion de los dispositivos que ofrecen en la solución One Quick:                          1\n",
              "Pantallas Interactivas para Clinicas                                                                                       1\n",
              "Hotel TV products                                                                                                          1\n",
              "Preciso de um monitor médico para radiografia convencional e tomogrtafia.                                                  1\n",
              "Display Textbook and photos                                                                                                1\n",
              "window facing product                                                                                                      1\n",
              "EDUCATIONAL EQUIPMENTS                                                                                                     1\n",
              "(Select ID_Needs)                                                                                                          1\n",
              "One Quick:Flex                                                                                                             1\n",
              "AIO                                                                                                                        1\n",
              "Needs                                                                                                                      1\n",
              "Hospital TV                                                                                                                1\n",
              "i want to know the details about it                                                                                        1\n",
              "Digital platform                                                                                                           1\n",
              "Hola me pueden cotizar 19 pantallas interactivas de 100 pulgadas entregadas en Guayaquil -Ecuador.                         1\n",
              "TV interactive                                                                                                             1\n",
              "teach                                                                                                                      1\n",
              "High inch 86 / 98 or 110                                                                                                   1\n",
              "display product                                                                                                            1\n",
              "first Info and pricing                                                                                                     1\n",
              "estoy buscando para Ecuador este producto LG MAGNIT micro LED, para un cliente de 138 pulgadas, con envió marítimo.        1\n",
              "Evento_SdelEstero                                                                                                          1\n",
              "Name: count, dtype: int64"
            ]
          },
          "execution_count": 67,
          "metadata": {},
          "output_type": "execute_result"
        }
      ],
      "source": [
        "df_train['inquiry_type'].value_counts()"
      ]
    },
    {
      "cell_type": "code",
      "execution_count": 68,
      "id": "d03600b0",
      "metadata": {},
      "outputs": [
        {
          "data": {
            "text/plain": [
              "inquiry_type\n",
              "Quotation or Purchase Consultation    3465\n",
              "Usage or Technical Consultation        187\n",
              "Other                                  122\n",
              "Product Information                     68\n",
              "Request for Partnership                 63\n",
              "Services                                34\n",
              "Trainings                               21\n",
              "Request a Demo                           9\n",
              "Customer Suggestions                     4\n",
              "OEM/ODM Request                          3\n",
              "Media Inquiry                            2\n",
              "Request for Distributorship              1\n",
              "Name: count, dtype: int64"
            ]
          },
          "execution_count": 68,
          "metadata": {},
          "output_type": "execute_result"
        }
      ],
      "source": [
        "df_test['inquiry_type'].value_counts()"
      ]
    },
    {
      "cell_type": "code",
      "execution_count": 69,
      "id": "8b1d3578",
      "metadata": {
        "id": "8b1d3578"
      },
      "outputs": [
        {
          "data": {
            "text/plain": [
              "inquiry_type\n",
              "Quotation or Purchase Consultation    42384\n",
              "Sales Inquiry                         10081\n",
              "Usage or Technical Consultation        1668\n",
              "Other                                  1441\n",
              "Product Information                    1237\n",
              "Trainings                               434\n",
              "Services                                415\n",
              "Request for Partnership                 297\n",
              "Request a Demo                          184\n",
              "Technical Support                       110\n",
              "Request for Distributorship              75\n",
              "Customer Suggestions                     12\n",
              "IDB                                      10\n",
              "Event Inquiry                             5\n",
              "OEM/ODM Request                           5\n",
              "Name: count, dtype: int64"
            ]
          },
          "execution_count": 69,
          "metadata": {},
          "output_type": "execute_result"
        }
      ],
      "source": [
        "# 'inquiry_type' 열의 값별 개수를 계산합니다.\n",
        "value_counts = df_train['inquiry_type'].value_counts()\n",
        "\n",
        "# 2개 이하인 값들의 리스트를 만듭니다.\n",
        "to_replace = value_counts[value_counts <= 2].index\n",
        "\n",
        "# 2개 이하인 값들을 'Other'로 업데이트합니다.\n",
        "df_train['inquiry_type'] = df_train['inquiry_type'].replace(to_replace, 'Other')\n",
        "\n",
        "df_train['inquiry_type'].value_counts()"
      ]
    },
    {
      "cell_type": "markdown",
      "id": "e1a122a0",
      "metadata": {},
      "source": [
        "df_test 데이터에는 따로 처리 x"
      ]
    },
    {
      "cell_type": "code",
      "execution_count": 70,
      "id": "0fed7548",
      "metadata": {
        "colab": {
          "base_uri": "https://localhost:8080/"
        },
        "id": "0fed7548",
        "outputId": "d89428f5-3633-4b12-932c-53cc8b447403"
      },
      "outputs": [
        {
          "data": {
            "text/plain": [
              "inquiry_type\n",
              "Quotation or Purchase Consultation    3465\n",
              "Usage or Technical Consultation        187\n",
              "Other                                  122\n",
              "Product Information                     68\n",
              "Request for Partnership                 63\n",
              "Services                                34\n",
              "Trainings                               21\n",
              "Request a Demo                           9\n",
              "Customer Suggestions                     4\n",
              "OEM/ODM Request                          3\n",
              "Media Inquiry                            2\n",
              "Request for Distributorship              1\n",
              "Name: count, dtype: int64"
            ]
          },
          "execution_count": 70,
          "metadata": {},
          "output_type": "execute_result"
        }
      ],
      "source": [
        "df_test['inquiry_type'].value_counts()"
      ]
    },
    {
      "cell_type": "code",
      "execution_count": 71,
      "id": "9e9d961f",
      "metadata": {
        "colab": {
          "base_uri": "https://localhost:8080/"
        },
        "id": "9e9d961f",
        "outputId": "f4284ff0-0574-44c5-c2db-c14929689c80"
      },
      "outputs": [
        {
          "name": "stdout",
          "output_type": "stream",
          "text": [
            "941\n"
          ]
        }
      ],
      "source": [
        "print(df_train['inquiry_type'].isnull().sum())"
      ]
    },
    {
      "cell_type": "code",
      "execution_count": 72,
      "id": "64a285c8",
      "metadata": {
        "id": "64a285c8"
      },
      "outputs": [
        {
          "name": "stdout",
          "output_type": "stream",
          "text": [
            "0\n"
          ]
        }
      ],
      "source": [
        "# 'inquiry_type' 변수에서 NaN 값을 'Unknown' 으로 대체\n",
        "df_train['inquiry_type'] = df_train['inquiry_type'].fillna('Unknown')\n",
        "df_test['inquiry_type'] = df_test['inquiry_type'].fillna('Unknown')\n",
        "\n",
        "print(df_train['inquiry_type'].isnull().sum())"
      ]
    },
    {
      "cell_type": "code",
      "execution_count": 73,
      "id": "aaa4b2e4",
      "metadata": {},
      "outputs": [
        {
          "data": {
            "text/plain": [
              "inquiry_type\n",
              "Quotation or Purchase Consultation    42384\n",
              "Sales Inquiry                         10081\n",
              "Usage or Technical Consultation        1668\n",
              "Other                                  1441\n",
              "Product Information                    1237\n",
              "Unknown                                 941\n",
              "Trainings                               434\n",
              "Services                                415\n",
              "Request for Partnership                 297\n",
              "Request a Demo                          184\n",
              "Technical Support                       110\n",
              "Request for Distributorship              75\n",
              "Customer Suggestions                     12\n",
              "IDB                                      10\n",
              "Event Inquiry                             5\n",
              "OEM/ODM Request                           5\n",
              "Name: count, dtype: int64"
            ]
          },
          "execution_count": 73,
          "metadata": {},
          "output_type": "execute_result"
        }
      ],
      "source": [
        "df_train['inquiry_type'].value_counts()"
      ]
    },
    {
      "cell_type": "code",
      "execution_count": 74,
      "id": "b657c02f",
      "metadata": {},
      "outputs": [
        {
          "data": {
            "text/plain": [
              "inquiry_type\n",
              "Quotation or Purchase Consultation    3465\n",
              "Unknown                               1292\n",
              "Usage or Technical Consultation        187\n",
              "Other                                  122\n",
              "Product Information                     68\n",
              "Request for Partnership                 63\n",
              "Services                                34\n",
              "Trainings                               21\n",
              "Request a Demo                           9\n",
              "Customer Suggestions                     4\n",
              "OEM/ODM Request                          3\n",
              "Media Inquiry                            2\n",
              "Request for Distributorship              1\n",
              "Name: count, dtype: int64"
            ]
          },
          "execution_count": 74,
          "metadata": {},
          "output_type": "execute_result"
        }
      ],
      "source": [
        "df_test['inquiry_type'].value_counts()"
      ]
    },
    {
      "cell_type": "markdown",
      "id": "674afeba",
      "metadata": {
        "id": "674afeba"
      },
      "source": [
        "#### 15. product_category"
      ]
    },
    {
      "cell_type": "markdown",
      "id": "5d3ede04",
      "metadata": {
        "id": "5d3ede04"
      },
      "source": [
        "요청 제품 카테고리"
      ]
    },
    {
      "cell_type": "code",
      "execution_count": 75,
      "id": "0190562c",
      "metadata": {
        "colab": {
          "base_uri": "https://localhost:8080/"
        },
        "id": "0190562c",
        "outputId": "af5efee0-515a-4c2d-fa57-74230dd0d1c7"
      },
      "outputs": [
        {
          "data": {
            "text/plain": [
              "product_category\n",
              "interactive digital board                     6154\n",
              "vrf                                           5640\n",
              "multi-split                                   3674\n",
              "video wall signage                            2029\n",
              "etc.                                          2018\n",
              "                                              ... \n",
              "system ac                                        1\n",
              "sac                                              1\n",
              "gscd046                                          1\n",
              "43uh5f-h.awzm                                    1\n",
              "monior/monitor tv,refrigerator,audio/video       1\n",
              "Name: count, Length: 357, dtype: int64"
            ]
          },
          "execution_count": 75,
          "metadata": {},
          "output_type": "execute_result"
        }
      ],
      "source": [
        "df_train['product_category'].value_counts()"
      ]
    },
    {
      "cell_type": "code",
      "execution_count": 76,
      "id": "34fc6690",
      "metadata": {},
      "outputs": [
        {
          "data": {
            "text/plain": [
              "product_category\n",
              "vrf                          726\n",
              "multi-split                  544\n",
              "interactive signage          400\n",
              "led signage                  289\n",
              "etc.                         202\n",
              "single-split                 179\n",
              "video wall signage           167\n",
              "hotel tv                     134\n",
              "standard signage             118\n",
              "oled signage                 104\n",
              "chiller                       99\n",
              "interactive digital board     74\n",
              "heating                       67\n",
              "monitor                       58\n",
              "high brightness signage       40\n",
              "medical display               32\n",
              "ventilation                   31\n",
              "one:quick series              22\n",
              "cloud device                  18\n",
              "webos                         14\n",
              "laptop                        13\n",
              "control                       13\n",
              "projector                     12\n",
              "software solution             11\n",
              "pro:centric                   10\n",
              "hospital tv                   10\n",
              "special signage                9\n",
              "accessories                    6\n",
              "ess                            4\n",
              "others                         3\n",
              "other                          2\n",
              "signage care solution          1\n",
              "notebook                       1\n",
              "Name: count, dtype: int64"
            ]
          },
          "execution_count": 76,
          "metadata": {},
          "output_type": "execute_result"
        }
      ],
      "source": [
        "df_test['product_category'].value_counts()"
      ]
    },
    {
      "cell_type": "code",
      "execution_count": 77,
      "id": "f4d6527b",
      "metadata": {
        "colab": {
          "base_uri": "https://localhost:8080/"
        },
        "id": "f4d6527b",
        "outputId": "82000e50-23f3-4eb4-c68f-ca03fe31cdb7"
      },
      "outputs": [
        {
          "name": "stdout",
          "output_type": "stream",
          "text": [
            "product_category\n",
            "interactive digital board                     6154\n",
            "vrf                                           5640\n",
            "multi-split                                   3674\n",
            "video wall signage                            2029\n",
            "etc.                                          2018\n",
            "                                              ... \n",
            "32 / 43 pol                                      1\n",
            "videowall signage                                1\n",
            "43uq751c0sb.bwz                                  1\n",
            "49uh / 49xf                                      1\n",
            "monior/monitor tv,refrigerator,audio/video       1\n",
            "Name: count, Length: 355, dtype: int64\n"
          ]
        }
      ],
      "source": [
        "df_train['product_category'] = df_train['product_category'].replace({\n",
        "    'notebook': 'laptop',\n",
        "    'others': 'other',\n",
        "    'ess': 'other',\n",
        "    'signage care solution': 'other',\n",
        "})\n",
        "\n",
        "print(df_train['product_category'].value_counts())"
      ]
    },
    {
      "cell_type": "code",
      "execution_count": 78,
      "id": "d32ed2fb",
      "metadata": {},
      "outputs": [
        {
          "name": "stdout",
          "output_type": "stream",
          "text": [
            "product_category\n",
            "vrf                          726\n",
            "multi-split                  544\n",
            "interactive signage          400\n",
            "led signage                  289\n",
            "etc.                         202\n",
            "single-split                 179\n",
            "video wall signage           167\n",
            "hotel tv                     134\n",
            "standard signage             118\n",
            "oled signage                 104\n",
            "chiller                       99\n",
            "interactive digital board     74\n",
            "heating                       67\n",
            "monitor                       58\n",
            "high brightness signage       40\n",
            "medical display               32\n",
            "ventilation                   31\n",
            "one:quick series              22\n",
            "cloud device                  18\n",
            "webos                         14\n",
            "laptop                        14\n",
            "control                       13\n",
            "projector                     12\n",
            "software solution             11\n",
            "hospital tv                   10\n",
            "pro:centric                   10\n",
            "other                         10\n",
            "special signage                9\n",
            "accessories                    6\n",
            "Name: count, dtype: int64\n"
          ]
        }
      ],
      "source": [
        "df_test['product_category'] = df_test['product_category'].replace({\n",
        "    'notebook': 'laptop',\n",
        "    'others': 'other',\n",
        "    'ess': 'other',\n",
        "    'signage care solution': 'other',\n",
        "})\n",
        "\n",
        "print(df_test['product_category'].value_counts())"
      ]
    },
    {
      "cell_type": "code",
      "execution_count": 79,
      "id": "8739691f",
      "metadata": {},
      "outputs": [],
      "source": [
        "# 'product_category'의 빈도 계산\n",
        "counts_train = df_train['product_category'].value_counts()\n",
        "\n",
        "# 빈도가 특정수치 이하인 product_category 를 찾음\n",
        "find_count_train = counts_train[counts_train <= 15].index\n",
        "\n",
        "# 빈도가 특정수치 이하값 \n",
        "df_train.loc[df_train['product_category'].isin(find_count_train), 'product_category'] = 'other'"
      ]
    },
    {
      "cell_type": "code",
      "execution_count": 80,
      "id": "778cee5c",
      "metadata": {
        "colab": {
          "base_uri": "https://localhost:8080/"
        },
        "id": "778cee5c",
        "outputId": "abe0d5c7-51e4-4b12-9b26-213a1f79613f"
      },
      "outputs": [
        {
          "name": "stdout",
          "output_type": "stream",
          "text": [
            "product_category\n",
            "interactive digital board         6154\n",
            "vrf                               5640\n",
            "multi-split                       3674\n",
            "video wall signage                2029\n",
            "etc.                              2018\n",
            "                                  ... \n",
            "services                            20\n",
            "monitor & pc                        19\n",
            "commercial tv,tv                    19\n",
            "aire acondicionado residencial      18\n",
            "onequick series                     16\n",
            "Name: count, Length: 64, dtype: int64\n"
          ]
        }
      ],
      "source": [
        "print(df_train['product_category'].value_counts())"
      ]
    },
    {
      "cell_type": "code",
      "execution_count": 81,
      "id": "0ccc16d8",
      "metadata": {
        "colab": {
          "base_uri": "https://localhost:8080/"
        },
        "id": "0ccc16d8",
        "outputId": "18ff51b9-f265-43e6-c213-0be992646c98"
      },
      "outputs": [
        {
          "name": "stdout",
          "output_type": "stream",
          "text": [
            "product_category\n",
            "vrf                          726\n",
            "multi-split                  544\n",
            "interactive signage          400\n",
            "led signage                  289\n",
            "etc.                         202\n",
            "single-split                 179\n",
            "video wall signage           167\n",
            "hotel tv                     134\n",
            "standard signage             118\n",
            "oled signage                 104\n",
            "chiller                       99\n",
            "interactive digital board     74\n",
            "heating                       67\n",
            "monitor                       58\n",
            "high brightness signage       40\n",
            "medical display               32\n",
            "ventilation                   31\n",
            "one:quick series              22\n",
            "cloud device                  18\n",
            "webos                         14\n",
            "laptop                        14\n",
            "control                       13\n",
            "projector                     12\n",
            "software solution             11\n",
            "hospital tv                   10\n",
            "pro:centric                   10\n",
            "other                         10\n",
            "special signage                9\n",
            "accessories                    6\n",
            "Name: count, dtype: int64\n"
          ]
        }
      ],
      "source": [
        "print(df_test['product_category'].value_counts())"
      ]
    },
    {
      "cell_type": "code",
      "execution_count": 82,
      "id": "353237bf",
      "metadata": {
        "colab": {
          "base_uri": "https://localhost:8080/"
        },
        "id": "353237bf",
        "outputId": "988ecc22-5449-4762-e898-9e33967fd13f"
      },
      "outputs": [
        {
          "name": "stdout",
          "output_type": "stream",
          "text": [
            "19374\n"
          ]
        }
      ],
      "source": [
        "print(df_train['product_category'].isnull().sum())"
      ]
    },
    {
      "cell_type": "code",
      "execution_count": 83,
      "id": "75b11aa5",
      "metadata": {
        "id": "75b11aa5"
      },
      "outputs": [
        {
          "name": "stdout",
          "output_type": "stream",
          "text": [
            "0\n"
          ]
        }
      ],
      "source": [
        "# 'product_category' 변수에서 NaN 값을 'Unknown' 으로 대체\n",
        "df_train['product_category'] = df_train['product_category'].fillna('unknown')\n",
        "df_test['product_category'] = df_test['product_category'].fillna('unknown')\n",
        "\n",
        "print(df_train['product_category'].isnull().sum())"
      ]
    },
    {
      "cell_type": "markdown",
      "id": "6900dece",
      "metadata": {
        "id": "6900dece"
      },
      "source": [
        "#### 16. product_subcategory"
      ]
    },
    {
      "cell_type": "markdown",
      "id": "b3c570cd",
      "metadata": {
        "id": "b3c570cd"
      },
      "source": [
        "요청 제품 하위 카테고리"
      ]
    },
    {
      "cell_type": "code",
      "execution_count": 84,
      "id": "431b86d6",
      "metadata": {
        "colab": {
          "base_uri": "https://localhost:8080/"
        },
        "id": "431b86d6",
        "outputId": "126d5e34-eff4-469a-f678-81ab067a7739"
      },
      "outputs": [
        {
          "data": {
            "text/plain": [
              "product_subcategory\n",
              "All Medical Displays         446\n",
              "Interactive Digital Board    417\n",
              "TR3BF Series                 374\n",
              "Transparent OLED Signage     288\n",
              "Diagnostic Monitors          284\n",
              "                            ... \n",
              "49VL5J                         1\n",
              "Versatile                      1\n",
              "UM3F Series                    1\n",
              "All Monitors &PCs              1\n",
              "EVR                            1\n",
              "Name: count, Length: 330, dtype: int64"
            ]
          },
          "execution_count": 84,
          "metadata": {},
          "output_type": "execute_result"
        }
      ],
      "source": [
        "df_train['product_subcategory'].value_counts()"
      ]
    },
    {
      "cell_type": "code",
      "execution_count": 85,
      "id": "62f5b267",
      "metadata": {
        "colab": {
          "base_uri": "https://localhost:8080/"
        },
        "id": "62f5b267",
        "outputId": "8f09e869-0967-4e74-e418-d651212be401"
      },
      "outputs": [
        {
          "data": {
            "text/plain": [
              "product_subcategory\n",
              "Digital Signage or Commercial TVs                                                                       86\n",
              "Transparent LED Film                                                                                    52\n",
              "TR3DJ Series                                                                                            32\n",
              "Interactive Digital Board                                                                               29\n",
              "Curvable OLED Signage                                                                                   24\n",
              "                                                                                                        ..\n",
              "Energy storage, Home automation, PV modules, Solar & water, Solar heating and cooling, hot water, po     1\n",
              "IDB                                                                                                      1\n",
              "Curved Series                                                                                            1\n",
              "LV35A Series                                                                                             1\n",
              "ProBeam                                                                                                  1\n",
              "Name: count, Length: 150, dtype: int64"
            ]
          },
          "execution_count": 85,
          "metadata": {},
          "output_type": "execute_result"
        }
      ],
      "source": [
        "df_test['product_subcategory'].value_counts()"
      ]
    },
    {
      "cell_type": "code",
      "execution_count": 86,
      "id": "d15fa107",
      "metadata": {
        "colab": {
          "base_uri": "https://localhost:8080/"
        },
        "id": "d15fa107",
        "outputId": "4f6b4180-b944-441e-b791-192f9721376d"
      },
      "outputs": [
        {
          "name": "stdout",
          "output_type": "stream",
          "text": [
            "50064\n"
          ]
        }
      ],
      "source": [
        "print(df_train['product_subcategory'].isnull().sum())"
      ]
    },
    {
      "cell_type": "code",
      "execution_count": 87,
      "id": "8b8113ba",
      "metadata": {
        "id": "8b8113ba"
      },
      "outputs": [
        {
          "name": "stdout",
          "output_type": "stream",
          "text": [
            "0\n"
          ]
        }
      ],
      "source": [
        "# 'product_subcategory' 변수에서 NaN 값을 'Unknown' 으로 대체\n",
        "df_train['product_subcategory'] = df_train['product_subcategory'].fillna('Unknown')\n",
        "df_test['product_subcategory'] = df_test['product_subcategory'].fillna('Unknown')\n",
        "\n",
        "print(df_train['product_subcategory'].isnull().sum())"
      ]
    },
    {
      "cell_type": "markdown",
      "id": "caa42790",
      "metadata": {
        "id": "caa42790"
      },
      "source": [
        "#### 17. product_modelname"
      ]
    },
    {
      "cell_type": "markdown",
      "id": "9b4af5ad",
      "metadata": {
        "id": "9b4af5ad"
      },
      "source": [
        "요청 제품 모델명"
      ]
    },
    {
      "cell_type": "code",
      "execution_count": 88,
      "id": "768b4852",
      "metadata": {
        "colab": {
          "base_uri": "https://localhost:8080/"
        },
        "id": "768b4852",
        "outputId": "18268c29-e66a-4158-91bd-c123a0076621"
      },
      "outputs": [
        {
          "data": {
            "text/plain": [
              "product_modelname\n",
              "UltraFine Ergo(32UN880)    523\n",
              "28MQ780                    479\n",
              "All Medical Displays       350\n",
              "43HT3WJ                    290\n",
              "55CT5WJ                    261\n",
              "                          ... \n",
              "55EJ5E-B                     1\n",
              "43UT662M (MEA)               1\n",
              "43UM3DG                      1\n",
              "32LT340C (EU)                1\n",
              "55US660H (SCA)               1\n",
              "Name: count, Length: 665, dtype: int64"
            ]
          },
          "execution_count": 88,
          "metadata": {},
          "output_type": "execute_result"
        }
      ],
      "source": [
        "df_train['product_modelname'].value_counts()"
      ]
    },
    {
      "cell_type": "code",
      "execution_count": 89,
      "id": "056135ae",
      "metadata": {
        "colab": {
          "base_uri": "https://localhost:8080/"
        },
        "id": "056135ae",
        "outputId": "5f300bbb-5b7f-48dc-d873-2a0bc34e4afe"
      },
      "outputs": [
        {
          "name": "stdout",
          "output_type": "stream",
          "text": [
            "50070\n"
          ]
        }
      ],
      "source": [
        "print(df_train['product_modelname'].isnull().sum())"
      ]
    },
    {
      "cell_type": "code",
      "execution_count": 90,
      "id": "110253be",
      "metadata": {
        "id": "110253be"
      },
      "outputs": [
        {
          "name": "stdout",
          "output_type": "stream",
          "text": [
            "0\n"
          ]
        }
      ],
      "source": [
        "# 'product_modelname' 변수에서 NaN 값을 'Unknown' 으로 대체\n",
        "df_train['product_modelname'] = df_train['product_modelname'].fillna('Unknown')\n",
        "df_test['product_modelname'] = df_test['product_modelname'].fillna('Unknown')\n",
        "\n",
        "print(df_train['product_modelname'].isnull().sum())"
      ]
    },
    {
      "cell_type": "markdown",
      "id": "bf23171e",
      "metadata": {
        "id": "bf23171e"
      },
      "source": [
        "#### 18. customer_country.1"
      ]
    },
    {
      "cell_type": "markdown",
      "id": "85836c9d",
      "metadata": {
        "id": "85836c9d"
      },
      "source": [
        "담당 자사 법인명 기반의 지역 정보(대륙)"
      ]
    },
    {
      "cell_type": "code",
      "execution_count": 91,
      "id": "3587bfa9",
      "metadata": {
        "colab": {
          "base_uri": "https://localhost:8080/"
        },
        "id": "3587bfa9",
        "outputId": "b6b14825-920c-428b-9eee-f388b30909d8"
      },
      "outputs": [
        {
          "data": {
            "text/plain": [
              "customer_country.1\n",
              "/  / Peru                           184\n",
              "//United States                     160\n",
              "Corporate /  /                      135\n",
              "/  / Brazil                         132\n",
              "/  / India                          116\n",
              "                                   ... \n",
              "/ São Paulo/ Guarujá / Brazil         1\n",
              "/ New York  / United States           1\n",
              "/ Cortes / Honduras                   1\n",
              "1233 20th St NW   / Washington /      1\n",
              "/ Ongole  / India                     1\n",
              "Name: count, Length: 2467, dtype: int64"
            ]
          },
          "execution_count": 91,
          "metadata": {},
          "output_type": "execute_result"
        }
      ],
      "source": [
        "df_test['customer_country.1'].value_counts()"
      ]
    },
    {
      "cell_type": "code",
      "execution_count": 92,
      "id": "b13bc5ad",
      "metadata": {
        "id": "b13bc5ad"
      },
      "outputs": [],
      "source": [
        "def process_customer_country_tokenized(df, column_name):\n",
        "    for i, entry in enumerate(df[column_name]):\n",
        "        if isinstance(entry, str):\n",
        "            tokens = [token.strip() for token in entry.replace('/', ',').split(',') if token.strip() != '']\n",
        "            if tokens:\n",
        "                df.at[i, column_name] = tokens[-1]\n",
        "            else:\n",
        "                df.at[i, column_name] = np.nan\n",
        "        else:\n",
        "            df.at[i, column_name] = np.nan\n",
        "    return df"
      ]
    },
    {
      "cell_type": "code",
      "execution_count": 93,
      "id": "8c0b2eb8",
      "metadata": {
        "id": "8c0b2eb8"
      },
      "outputs": [],
      "source": [
        "df_train = process_customer_country_tokenized(df_train, 'customer_country.1')\n",
        "df_test = process_customer_country_tokenized(df_test, 'customer_country.1')"
      ]
    },
    {
      "cell_type": "code",
      "execution_count": 94,
      "id": "B2fdHVed1-8-",
      "metadata": {
        "colab": {
          "base_uri": "https://localhost:8080/"
        },
        "id": "B2fdHVed1-8-",
        "outputId": "c152428e-e284-4f6f-cac5-f397a3f4901c"
      },
      "outputs": [
        {
          "data": {
            "text/plain": [
              "customer_country.1\n",
              "Brazil           1045\n",
              "India             906\n",
              "United States     769\n",
              "Philippines       289\n",
              "Peru              211\n",
              "                 ... \n",
              "Kimberly            1\n",
              "CO                  1\n",
              "Kent                1\n",
              "Jamaica             1\n",
              "Birmingham          1\n",
              "Name: count, Length: 149, dtype: int64"
            ]
          },
          "execution_count": 94,
          "metadata": {},
          "output_type": "execute_result"
        }
      ],
      "source": [
        "df_test['customer_country.1'].value_counts()"
      ]
    },
    {
      "cell_type": "code",
      "execution_count": 95,
      "id": "o6w2Ptdk1_Ug",
      "metadata": {
        "colab": {
          "base_uri": "https://localhost:8080/"
        },
        "id": "o6w2Ptdk1_Ug",
        "outputId": "773b5b89-0615-4d5d-a3e8-103625c2f5ca"
      },
      "outputs": [
        {
          "data": {
            "text/plain": [
              "customer_country.1\n",
              "Brazil           1045\n",
              "India             906\n",
              "United States     769\n",
              "Philippines       289\n",
              "Peru              211\n",
              "                 ... \n",
              "Kimberly            1\n",
              "CO                  1\n",
              "Kent                1\n",
              "Jamaica             1\n",
              "Birmingham          1\n",
              "Name: count, Length: 149, dtype: int64"
            ]
          },
          "execution_count": 95,
          "metadata": {},
          "output_type": "execute_result"
        }
      ],
      "source": [
        "df_test['customer_country.1'].value_counts()"
      ]
    },
    {
      "cell_type": "markdown",
      "id": "43635daa",
      "metadata": {},
      "source": [
        "LG의 대륙 입력값들을 참고하여 해당하는 국가의 이름을 리스트값으로 생성하고  \n",
        "해당하는 대륙에 대하여 매핑하는 작업"
      ]
    },
    {
      "cell_type": "code",
      "execution_count": 96,
      "id": "bc6c1f6f",
      "metadata": {},
      "outputs": [],
      "source": [
        "# 미국 주 이름 카테고리화\n",
        "us_states = ['AL', 'AK', 'AZ', 'AR', 'CA', 'CO', 'CT', 'DE', 'DC', 'FL', 'GA', 'HI', 'ID', 'IL', 'IN', 'IA', 'KS', 'KY', 'LA', 'ME', 'MD', 'MA', 'MI', 'MN', 'MS', 'MO', 'MT', 'NE', 'NV', 'NH', 'NJ', 'NM', 'NY', 'NC', 'ND', 'OH', 'OK', 'OR', 'PA', 'RI', 'SC', 'SD', 'TN', 'TX', 'UT', 'VT', 'VA', 'WA', 'WV', 'WI', 'WY']\n",
        "\n",
        "df_train['customer_country.1'] = df_train['customer_country.1'].replace(us_states, 'United States')\n",
        "df_test['customer_country.1'] = df_test['customer_country.1'].replace(us_states, 'United States')"
      ]
    },
    {
      "cell_type": "code",
      "execution_count": 97,
      "id": "WrYFXurA10BR",
      "metadata": {
        "id": "WrYFXurA10BR"
      },
      "outputs": [],
      "source": [
        "asia = ['Australia', 'Bangladesh', 'Brunei', 'Cambodia', 'China', 'Fiji', 'Hong Kong', 'India', 'Indonesia', 'Laos', 'Malaysia', 'Maldives', 'Myanmar', 'Nepal', 'New Zealand', 'Papula New Guinea', 'Philippines', 'Singapore', 'Sri Lanka', 'Taiwan', 'Thailand', 'Vietnam', 'Japan', 'South Korea']\n",
        "cis = ['Belarus', 'Kazakhstan', 'Mongolia', 'Russia', 'Turkmenistan', 'Ukraine', 'Uzbekistan']\n",
        "europe = ['Albania', 'Austria', 'Belgium', 'Bosnia and Herzegovina', 'Bulgaria', 'Croatia', 'Cyprus', 'Czech', 'Denmark', 'Estonia', 'Finland', 'France', 'Germany', 'Greece', 'Hungary', 'Iceland', 'Ireland', 'Italy', 'Kosovo', 'Latvia', 'Lithuania', 'Luxembourg', 'Macedonia', 'Montenegro', 'Netherlands', 'Norway', 'Poland', 'Portugal', 'Romania', 'Serbia', 'Slovakia', 'Slovenia', 'Spain', 'Sweden', 'Switzerland', 'United Kingdom', 'Isle of Man', 'Malta']\n",
        "latin_america_and_the_caribbean = ['Anguilla', 'Antigua', 'Argentina', 'Aruba', 'Bahamas', 'Barbados', 'Belize', 'Bermuda', 'Bolivia', 'Brazil', 'British Virgin Islands', 'Cayman Islands', 'Chile', 'Colombia', 'COLOMBIA', 'Costa Rica', 'Cuba', 'Curacao', 'Dominican Republic', 'Ecuador', 'El Salvador', 'Grenada', 'Guatemala', 'Guyana Haiti', 'Honduras', 'Jamaica', 'Mexico', 'Netherlands Antilles', 'Nicaragua', 'Panama', 'Paraguay', 'Peru', 'Puerto Rico', 'Saint Lucia', 'St Kitts', 'St Maarten', 'St Vincent', 'Suriname', 'Trinidad and Tobago', 'Turks and Caicos Islands', 'Uruguay', 'US Virgin Islands', 'Venezuela', 'Antigua and Barbuda', 'Saint Kitts and Nevis']\n",
        "middle_east_and_africa = ['Afghanistan', 'Algeria', 'Angola', 'Armenia', 'Azerbaijan', 'Bahrain', 'Benin', 'Botswana', 'Burkina Faso Cameroon', 'Central African Republic', 'Congo', \"Cote d'Ivoire\", 'Democratic Republic of the Congo', 'Djibouti', 'Egypt', 'EGYPT', 'Equatorial Guinea', 'Ethiopia', 'Egypt', 'Gabon', 'Gambia', 'Georgia', 'Ghana', 'Guinea Iran', 'Iraq', 'Israel', 'Ivory Coast', 'Jordan', 'Kenya', 'Kuwait', 'Lebanon', 'Liberia', 'Mali', 'Mauritania', 'Mauritius', 'Morocco', 'Mozambique', 'Namibia', 'Nigeria', 'Oman', 'Pakistan', 'Palestine', 'Qatar', 'Rwanda', 'Sao Tome and Principe', 'Saudi Arabia', 'Senegal', 'Sierra Leone', 'Somalia', 'South Africa', 'Sudan', 'Swaziland', 'Syria', 'Togo', 'Tunisia', 'Türkiye', 'Turkey', 'U.A.E', 'Uganda', 'United Republic of Tanzania', 'Yemen', 'Zambia', 'Eritrea', 'Libya Malawi', 'Zimbabwe']\n",
        "north_america = ['Canada', 'United States', 'UNITED STATES']\n",
        "# Corporate ->  특정 국가나 지역을 나타내는 것이 아니라, 보통 기업이나 조직을 나타내는 용어\n",
        "\n",
        "continent_dict = {country: 'Asia' for country in asia}\n",
        "continent_dict.update({country: 'CIS' for country in cis})\n",
        "continent_dict.update({country: 'Europe' for country in europe})\n",
        "continent_dict.update({country: 'Latin America and the Caribbean' for country in latin_america_and_the_caribbean})\n",
        "continent_dict.update({country: 'Middle East & Africa' for country in middle_east_and_africa})\n",
        "continent_dict.update({country: 'North America' for country in north_america})\n",
        "\n",
        "df_train['customer_country.1'] = df_train['customer_country.1'].replace(continent_dict)\n",
        "df_test['customer_country.1'] = df_test['customer_country.1'].replace(continent_dict)\n"
      ]
    },
    {
      "cell_type": "code",
      "execution_count": 98,
      "id": "PnswVHN2181Q",
      "metadata": {
        "colab": {
          "base_uri": "https://localhost:8080/"
        },
        "id": "PnswVHN2181Q",
        "outputId": "565dc401-bca1-4dfa-82b3-d5ba8feeb5dc"
      },
      "outputs": [
        {
          "data": {
            "text/plain": [
              "customer_country.1\n",
              "Asia                               21911\n",
              "Latin America and the Caribbean    17717\n",
              "Europe                              6161\n",
              "Middle East & Africa                5867\n",
              "North America                       4137\n",
              "                                   ...  \n",
              "Basin                                  1\n",
              "PIERMONT                               1\n",
              "College Place                          1\n",
              "Houlton                                1\n",
              "37-450 Stalowa Wola                    1\n",
              "Name: count, Length: 1193, dtype: int64"
            ]
          },
          "execution_count": 98,
          "metadata": {},
          "output_type": "execute_result"
        }
      ],
      "source": [
        "df_train['customer_country.1'].value_counts()"
      ]
    },
    {
      "cell_type": "code",
      "execution_count": 99,
      "id": "BNikQ89819su",
      "metadata": {
        "colab": {
          "base_uri": "https://localhost:8080/"
        },
        "id": "BNikQ89819su",
        "outputId": "d2629b79-98ba-4ab7-aeda-f52d120a2e5e"
      },
      "outputs": [
        {
          "data": {
            "text/plain": [
              "customer_country.1\n",
              "Latin America and the Caribbean              1831\n",
              "Asia                                         1566\n",
              "North America                                 807\n",
              "Middle East & Africa                          448\n",
              "Europe                                        392\n",
              "Corporate                                     135\n",
              "Wheaton                                         2\n",
              "Moffett Field                                   2\n",
              "Los Angeles                                     2\n",
              "POMPANO BEACH                                   2\n",
              "FT HUACHUCA                                     2\n",
              "New Castle                                      2\n",
              "San Antonio                                     1\n",
              "San Juan                                        1\n",
              "Shelbyville                                     1\n",
              "Bothell                                         1\n",
              "montclair                                       1\n",
              "Sterling Heights                                1\n",
              "W126 N7449 Flint Drive Menomonee Falls VA       1\n",
              "233 South Beaudry Avenue  Los Angeles CA        1\n",
              "Dubai                                           1\n",
              "Broken Arrow                                    1\n",
              "QURUM                                           1\n",
              "Herdwangen-Schönach                             1\n",
              "Burkina Faso                                    1\n",
              "Youngstown                                      1\n",
              "MA 02108                                        1\n",
              "Curaçao                                         1\n",
              "Roseville                                       1\n",
              "Rajkot                                          1\n",
              "Piscataway                                      1\n",
              "Battle Mountain                                 1\n",
              "603 Heritage Drive  Mount Juliet                1\n",
              "Almodhaibi                                      1\n",
              "Qatif                                           1\n",
              "Weikersheim                                     1\n",
              "Acworth                                         1\n",
              "Palm Springs                                    1\n",
              "Homestead                                       1\n",
              "Novi                                            1\n",
              "Sandford                                        1\n",
              "BLOOMSBURY                                      1\n",
              "Ashland                                         1\n",
              "Cincinnati                                      1\n",
              "Hunt Valley                                     1\n",
              "Melbourne                                       1\n",
              "5003 Lady Of The Lake Dr  Raleigh NC            1\n",
              "shenzhen                                        1\n",
              "Washington                                      1\n",
              "South San Francisco                             1\n",
              "houston                                         1\n",
              "Nellis AFB                                      1\n",
              "Lakewood                                        1\n",
              "New York City                                   1\n",
              "Kent                                            1\n",
              "Kimberly                                        1\n",
              "Raleigh                                         1\n",
              "Mountain Lakes                                  1\n",
              "Lacey                                           1\n",
              "Birmingham                                      1\n",
              "Name: count, dtype: int64"
            ]
          },
          "execution_count": 99,
          "metadata": {},
          "output_type": "execute_result"
        }
      ],
      "source": [
        "df_test['customer_country.1'].value_counts()"
      ]
    },
    {
      "cell_type": "code",
      "execution_count": 100,
      "id": "aef087d9",
      "metadata": {
        "id": "aef087d9"
      },
      "outputs": [],
      "source": [
        "# 'customer_country.1'의 빈도 계산\n",
        "counts_train = df_train['customer_country.1'].value_counts()\n",
        "counts_test = df_test['customer_country.1'].value_counts()\n",
        "\n",
        "# 일정 빈도 이하 unknown 처리\n",
        "find_count_train = counts_train[counts_train <= 30].index\n",
        "find_count_test = counts_test[counts_test <= 2].index\n",
        "\n",
        "# 일정 빈도 이하인 국가를 'Unknown'으로 설정\n",
        "df_train.loc[df_train['customer_country.1'].isin(find_count_train), 'customer_country.1'] = 'Unknown'\n",
        "df_test.loc[df_test['customer_country.1'].isin(find_count_test), 'customer_country.1'] = 'Unknown'"
      ]
    },
    {
      "cell_type": "code",
      "execution_count": 101,
      "id": "d4cbe920",
      "metadata": {
        "colab": {
          "base_uri": "https://localhost:8080/"
        },
        "id": "d4cbe920",
        "outputId": "8261d177-bb04-48e5-d340-bce9b2ba6b9c"
      },
      "outputs": [
        {
          "name": "stdout",
          "output_type": "stream",
          "text": [
            "1651\n"
          ]
        }
      ],
      "source": [
        "print(df_train['customer_country.1'].isnull().sum())"
      ]
    },
    {
      "cell_type": "code",
      "execution_count": 102,
      "id": "26e892e0",
      "metadata": {
        "id": "26e892e0"
      },
      "outputs": [],
      "source": [
        "df_train['customer_country.1'] = df_train['customer_country.1'].fillna('Unknown')\n",
        "df_test['customer_country.1'] = df_test['customer_country.1'].fillna('Unknown')"
      ]
    },
    {
      "cell_type": "code",
      "execution_count": 103,
      "id": "h7m-JgGS2XSC",
      "metadata": {
        "colab": {
          "base_uri": "https://localhost:8080/"
        },
        "id": "h7m-JgGS2XSC",
        "outputId": "dc52fc44-ddff-402f-bcc8-102ade84620c"
      },
      "outputs": [
        {
          "data": {
            "text/plain": [
              "customer_country.1\n",
              "Asia                               21911\n",
              "Latin America and the Caribbean    17717\n",
              "Europe                              6161\n",
              "Middle East & Africa                5867\n",
              "North America                       4137\n",
              "Unknown                             3506\n",
              "Name: count, dtype: int64"
            ]
          },
          "execution_count": 103,
          "metadata": {},
          "output_type": "execute_result"
        }
      ],
      "source": [
        "df_train['customer_country.1'].value_counts()"
      ]
    },
    {
      "cell_type": "code",
      "execution_count": 104,
      "id": "U8jf5Wmd2U0t",
      "metadata": {
        "colab": {
          "base_uri": "https://localhost:8080/"
        },
        "id": "U8jf5Wmd2U0t",
        "outputId": "a2662ba1-c1e9-42e6-8816-6904507207d1"
      },
      "outputs": [
        {
          "data": {
            "text/plain": [
              "customer_country.1\n",
              "Latin America and the Caribbean    1831\n",
              "Asia                               1566\n",
              "North America                       807\n",
              "Middle East & Africa                448\n",
              "Europe                              392\n",
              "Corporate                           135\n",
              "Unknown                              92\n",
              "Name: count, dtype: int64"
            ]
          },
          "execution_count": 104,
          "metadata": {},
          "output_type": "execute_result"
        }
      ],
      "source": [
        "df_test['customer_country.1'].value_counts()"
      ]
    },
    {
      "cell_type": "code",
      "execution_count": 105,
      "id": "736e0f04",
      "metadata": {
        "colab": {
          "base_uri": "https://localhost:8080/"
        },
        "id": "736e0f04",
        "outputId": "44a9f256-f8bc-4201-ae9f-a87aa254ea2d"
      },
      "outputs": [
        {
          "name": "stdout",
          "output_type": "stream",
          "text": [
            "0\n"
          ]
        }
      ],
      "source": [
        "print(df_train['customer_country.1'].isnull().sum())"
      ]
    },
    {
      "cell_type": "markdown",
      "id": "ea3fc1d9",
      "metadata": {
        "id": "ea3fc1d9"
      },
      "source": [
        "#### 19. customer_position"
      ]
    },
    {
      "cell_type": "markdown",
      "id": "735f157b",
      "metadata": {
        "id": "735f157b"
      },
      "source": [
        "고객의 회사 직책"
      ]
    },
    {
      "cell_type": "code",
      "execution_count": 106,
      "id": "16a3d822",
      "metadata": {
        "colab": {
          "base_uri": "https://localhost:8080/"
        },
        "id": "16a3d822",
        "outputId": "f75405d1-bb08-434c-8c0b-8ea3324cb2d7"
      },
      "outputs": [
        {
          "data": {
            "text/plain": [
              "customer_position\n",
              "none                      19680\n",
              "manager                    8217\n",
              "ceo/founder                7984\n",
              "other                      6499\n",
              "director                   4843\n",
              "                          ...  \n",
              "chairman                      1\n",
              "pgt physics                   1\n",
              "education professional        1\n",
              "chemistry teacher             1\n",
              "radiology professional        1\n",
              "Name: count, Length: 117, dtype: int64"
            ]
          },
          "execution_count": 106,
          "metadata": {},
          "output_type": "execute_result"
        }
      ],
      "source": [
        "df_train['customer_position'].value_counts()"
      ]
    },
    {
      "cell_type": "code",
      "execution_count": 107,
      "id": "62316aca",
      "metadata": {},
      "outputs": [
        {
          "data": {
            "text/plain": [
              "customer_position\n",
              "none                                                                                      1957\n",
              "manager                                                                                    726\n",
              "others                                                                                     639\n",
              "ceo/founder                                                                                593\n",
              "director                                                                                   343\n",
              "associate/analyst                                                                          279\n",
              "entry level                                                                                225\n",
              "partner                                                                                    224\n",
              "c-level executive                                                                           85\n",
              "intern                                                                                      60\n",
              "vice president                                                                              54\n",
              "trainee                                                                                     49\n",
              "other                                                                                       25\n",
              "educator                                                                                     2\n",
              "customer                                                                                     2\n",
              "academic coordinator/ post graduate teacher (accountancy, business studies)/ tgt (ict)       1\n",
              "assistant professor                                                                          1\n",
              "math and physics teacher                                                                     1\n",
              "pgt chemistry                                                                                1\n",
              "director cum faculty at gaining apex coaching centre                                         1\n",
              "professor                                                                                    1\n",
              "co-founder                                                                                   1\n",
              "asst prof.                                                                                   1\n",
              "Name: count, dtype: int64"
            ]
          },
          "execution_count": 107,
          "metadata": {},
          "output_type": "execute_result"
        }
      ],
      "source": [
        "df_test['customer_position'].value_counts()"
      ]
    },
    {
      "cell_type": "code",
      "execution_count": 108,
      "id": "61b3be3d",
      "metadata": {
        "id": "61b3be3d"
      },
      "outputs": [],
      "source": [
        "df_train['customer_position'] = df_train['customer_position'].replace({\n",
        "    'vicepresident': 'vice president',\n",
        "    'vp': 'vice president',\n",
        "    'entrylevel': 'entry level',\n",
        "    'c-levelexecutive': 'c-level executive',\n",
        "    'founder': 'ceo/founder',\n",
        "    'ceo/fundador': 'ceo/founder',\n",
        "    'commercial consultant': 'consultant',\n",
        "    'architect/consultant': 'consultant',\n",
        "    'architecture/consult': 'consultant',\n",
        "    'business unit director': 'director',\n",
        "    'no influence': 'none',\n",
        "    'not applicable': 'none',\n",
        "    'commercial end-user': 'end-user',\n",
        "    'exhibitiontv': 'exhibition',\n",
        "    'decision-influencer': 'decision influencer',\n",
        "    'sales': 'business development/sales',\n",
        "    'subsidiary sales (ise)': 'business development/sales',\n",
        "    'business development': 'business development/sales',\n",
        "    'medical device manufacturer': 'manufacturer',\n",
        "    'assistant professor of enlish': 'assistant professor',\n",
        "    'asst prof.': 'assistant professor',\n",
        "    'prof.': 'professor',\n",
        "    'professor of mathematics': 'professor',\n",
        "    'principal & director': 'director',\n",
        "    'others': 'other',\n",
        "    'decision-maker': 'decision maker',\n",
        "})\n",
        "\n",
        "df_test['customer_position'] = df_test['customer_position'].replace({\n",
        "    'vicepresident': 'vice president',\n",
        "    'vp': 'vice president',\n",
        "    'entrylevel': 'entry level',\n",
        "    'c-levelexecutive': 'c-level executive',\n",
        "    'founder': 'ceo/founder',\n",
        "    'ceo/fundador': 'ceo/founder',\n",
        "    'commercial consultant': 'consultant',\n",
        "    'architect/consultant': 'consultant',\n",
        "    'architecture/consult': 'consultant',\n",
        "    'business unit director': 'director',\n",
        "    'no influence': 'none',\n",
        "    'not applicable': 'none',\n",
        "    'commercial end-user': 'end-user',\n",
        "    'exhibitiontv': 'exhibition',\n",
        "    'decision-influencer': 'decision influencer',\n",
        "    'sales': 'business development/sales',\n",
        "    'subsidiary sales (ise)': 'business development/sales',\n",
        "    'business development': 'business development/sales',\n",
        "    'medical device manufacturer': 'manufacturer',\n",
        "    'assistant professor of enlish': 'assistant professor',\n",
        "    'asst prof.': 'assistant professor',\n",
        "    'prof.': 'professor',\n",
        "    'professor of mathematics': 'professor',\n",
        "    'principal & director': 'director',\n",
        "    'others': 'other'\n",
        "})\n",
        "\n",
        "# 데이터프레임 생성\n",
        "table_df = pd.DataFrame(df_train['customer_position'].unique(), columns=['customer_position'])\n",
        "counts = df_train['customer_position'].value_counts()\n",
        "table_df['count'] = counts.reset_index(drop=True)\n",
        "# 테이블 출력\n",
        "# table_df"
      ]
    },
    {
      "cell_type": "code",
      "execution_count": 109,
      "id": "659c66f0",
      "metadata": {
        "colab": {
          "base_uri": "https://localhost:8080/"
        },
        "id": "659c66f0",
        "outputId": "147b6102-dd78-4383-ae45-e35701b45048"
      },
      "outputs": [
        {
          "data": {
            "text/plain": [
              "customer_position\n",
              "none                                                                                      1957\n",
              "manager                                                                                    726\n",
              "other                                                                                      664\n",
              "ceo/founder                                                                                593\n",
              "director                                                                                   343\n",
              "associate/analyst                                                                          279\n",
              "entry level                                                                                225\n",
              "partner                                                                                    224\n",
              "c-level executive                                                                           85\n",
              "intern                                                                                      60\n",
              "vice president                                                                              54\n",
              "trainee                                                                                     49\n",
              "educator                                                                                     2\n",
              "customer                                                                                     2\n",
              "assistant professor                                                                          2\n",
              "academic coordinator/ post graduate teacher (accountancy, business studies)/ tgt (ict)       1\n",
              "math and physics teacher                                                                     1\n",
              "pgt chemistry                                                                                1\n",
              "director cum faculty at gaining apex coaching centre                                         1\n",
              "professor                                                                                    1\n",
              "co-founder                                                                                   1\n",
              "Name: count, dtype: int64"
            ]
          },
          "execution_count": 109,
          "metadata": {},
          "output_type": "execute_result"
        }
      ],
      "source": [
        "df_test['customer_position'].value_counts()"
      ]
    },
    {
      "cell_type": "code",
      "execution_count": 110,
      "id": "b20177ca",
      "metadata": {
        "id": "b20177ca"
      },
      "outputs": [],
      "source": [
        "## train\n",
        "# 'inquiry_type' 열의 값별 개수 계산\n",
        "counts_train = df_train['customer_position'].value_counts()\n",
        "counts_test = df_test['customer_position'].value_counts()\n",
        "\n",
        "# 특정수 이하인 값들의 리스트로 만듬\n",
        "replace_train = counts_train[counts_train <= 40].index\n",
        "replace_test = counts_test[counts_test <= 2].index\n",
        "\n",
        "# 특정수 이하인 값들을 'other'로 업데이트\n",
        "df_train['customer_position'] = df_train['customer_position'].replace(replace_train, 'other')\n",
        "df_test['customer_position'] = df_test['customer_position'].replace(replace_test, 'other')"
      ]
    },
    {
      "cell_type": "code",
      "execution_count": 111,
      "id": "8c67bdb4",
      "metadata": {},
      "outputs": [
        {
          "data": {
            "text/plain": [
              "customer_position\n",
              "none                 19690\n",
              "manager               8217\n",
              "ceo/founder           7988\n",
              "other                 7841\n",
              "director              4846\n",
              "associate/analyst     2597\n",
              "partner               2536\n",
              "entry level           2219\n",
              "c-level executive      857\n",
              "trainee                849\n",
              "vice president         521\n",
              "intern                 446\n",
              "end-user               431\n",
              "hospital               201\n",
              "installer               60\n",
              "Name: count, dtype: int64"
            ]
          },
          "execution_count": 111,
          "metadata": {},
          "output_type": "execute_result"
        }
      ],
      "source": [
        "df_train['customer_position'].value_counts()"
      ]
    },
    {
      "cell_type": "code",
      "execution_count": 112,
      "id": "d82086f7",
      "metadata": {
        "colab": {
          "base_uri": "https://localhost:8080/"
        },
        "id": "d82086f7",
        "outputId": "eb1d51fa-f6bc-4a82-d977-9d8647ab6ce5"
      },
      "outputs": [
        {
          "data": {
            "text/plain": [
              "customer_position\n",
              "none                 1957\n",
              "manager               726\n",
              "other                 676\n",
              "ceo/founder           593\n",
              "director              343\n",
              "associate/analyst     279\n",
              "entry level           225\n",
              "partner               224\n",
              "c-level executive      85\n",
              "intern                 60\n",
              "vice president         54\n",
              "trainee                49\n",
              "Name: count, dtype: int64"
            ]
          },
          "execution_count": 112,
          "metadata": {},
          "output_type": "execute_result"
        }
      ],
      "source": [
        "df_test['customer_position'].value_counts()"
      ]
    },
    {
      "cell_type": "code",
      "execution_count": 113,
      "id": "62190e8c",
      "metadata": {
        "colab": {
          "base_uri": "https://localhost:8080/"
        },
        "id": "62190e8c",
        "outputId": "9e7f8519-576d-4ce1-a5ae-9c63e8dc0a29"
      },
      "outputs": [
        {
          "name": "stdout",
          "output_type": "stream",
          "text": [
            "0\n"
          ]
        }
      ],
      "source": [
        "print(df_train['customer_position'].isnull().sum())"
      ]
    },
    {
      "cell_type": "markdown",
      "id": "9974b2b1",
      "metadata": {
        "id": "9974b2b1"
      },
      "source": [
        "#### 20. response_corporate"
      ]
    },
    {
      "cell_type": "markdown",
      "id": "5955d67d",
      "metadata": {
        "id": "5955d67d"
      },
      "source": [
        "담당 자사 법인명"
      ]
    },
    {
      "cell_type": "code",
      "execution_count": 114,
      "id": "0c8e3a92",
      "metadata": {
        "colab": {
          "base_uri": "https://localhost:8080/"
        },
        "id": "0c8e3a92",
        "outputId": "b4dc072c-d6c2-452f-c65b-729a28778ef8"
      },
      "outputs": [
        {
          "data": {
            "text/plain": [
              "response_corporate\n",
              "LGEIL    16908\n",
              "LGESP     9311\n",
              "LGEUS     5955\n",
              "LGEMS     2768\n",
              "LGEPH     2651\n",
              "LGEGF     2149\n",
              "LGECB     2079\n",
              "LGEUK     1651\n",
              "LGESJ     1469\n",
              "LGECL     1339\n",
              "LGEPS     1252\n",
              "LGEIS     1146\n",
              "LGEPR     1131\n",
              "LGEDG     1051\n",
              "LGEPL      850\n",
              "LGEEG      704\n",
              "LGEVH      614\n",
              "LGEES      592\n",
              "LGETK      541\n",
              "LGEAR      491\n",
              "LGEKR      433\n",
              "LGEHK      383\n",
              "LGEAP      366\n",
              "LGESL      348\n",
              "LGEMK      331\n",
              "LGEFS      302\n",
              "LGEAF      288\n",
              "LGEIN      281\n",
              "LGELF      274\n",
              "LGESA      268\n",
              "LGECI      263\n",
              "LGETH      185\n",
              "LGEEF      159\n",
              "LGEPT      111\n",
              "LGEML      110\n",
              "LGEBN       99\n",
              "LGEYK       78\n",
              "LGECH       65\n",
              "LGEHS       51\n",
              "LGETT       47\n",
              "LGEJP       41\n",
              "LGEAS       33\n",
              "LGESW       31\n",
              "LGEMC       30\n",
              "LGERO       29\n",
              "LGEEB       13\n",
              "LGEAG        8\n",
              "LGERA        8\n",
              "LGECZ        7\n",
              "LGELA        2\n",
              "LGEUR        1\n",
              "LGEIR        1\n",
              "LGEBT        1\n",
              "Name: count, dtype: int64"
            ]
          },
          "execution_count": 114,
          "metadata": {},
          "output_type": "execute_result"
        }
      ],
      "source": [
        "df_train['response_corporate'].value_counts()"
      ]
    },
    {
      "cell_type": "code",
      "execution_count": 115,
      "id": "23175c2d",
      "metadata": {
        "colab": {
          "base_uri": "https://localhost:8080/"
        },
        "id": "23175c2d",
        "outputId": "fdc3e5fd-0168-4497-a86c-93a7cc87e07f"
      },
      "outputs": [
        {
          "name": "stdout",
          "output_type": "stream",
          "text": [
            "0\n"
          ]
        }
      ],
      "source": [
        "print(df_train['response_corporate'].isnull().sum())"
      ]
    },
    {
      "cell_type": "markdown",
      "id": "74e484c0",
      "metadata": {
        "id": "74e484c0"
      },
      "source": [
        "#### 21. expected_timeline"
      ]
    },
    {
      "cell_type": "markdown",
      "id": "cb95b536",
      "metadata": {
        "id": "cb95b536"
      },
      "source": [
        "고객의 요청한 처리 일정"
      ]
    },
    {
      "cell_type": "code",
      "execution_count": 116,
      "id": "e3688e67",
      "metadata": {
        "colab": {
          "base_uri": "https://localhost:8080/"
        },
        "id": "e3688e67",
        "outputId": "0927ca61-f07d-434d-b856-46b4c5a7382c"
      },
      "outputs": [
        {
          "data": {
            "text/plain": [
              "expected_timeline\n",
              "less than 3 months                                                                                                            17250\n",
              "3 months ~ 6 months                                                                                                            5026\n",
              "more than a year                                                                                                               3023\n",
              "9 months ~ 1 year                                                                                                              1101\n",
              "6 months ~ 9 months                                                                                                            1098\n",
              "                                                                                                                              ...  \n",
              "no requirement of this time                                                                                                       1\n",
              "not reachable , lead shared with partner                                                                                          1\n",
              "discussed with client. details mailed to client. no budgets for now wont buy hence closing in the system                          1\n",
              "our partner, vis networks is working on this inquiry and client is cross-checking the prices. hence closing in the system.        1\n",
              "up to december                                                                                                                    1\n",
              "Name: count, Length: 449, dtype: int64"
            ]
          },
          "execution_count": 116,
          "metadata": {},
          "output_type": "execute_result"
        }
      ],
      "source": [
        "df_train['expected_timeline'].value_counts()"
      ]
    },
    {
      "cell_type": "code",
      "execution_count": 117,
      "id": "9c063c07",
      "metadata": {
        "id": "9c063c07"
      },
      "outputs": [],
      "source": [
        "import numpy as np\n",
        "\n",
        "# 'months' , 'year'를 포함하지 않는 데이터를 'etc.'로 변경\n",
        "df_train['expected_timeline'] = np.where(df_train['expected_timeline'].str.contains('months|year', na=False), df_train['expected_timeline'], 'etc.')\n",
        "df_test['expected_timeline'] = np.where(df_test['expected_timeline'].str.contains('months|year', na=False), df_test['expected_timeline'], 'etc.')"
      ]
    },
    {
      "cell_type": "code",
      "execution_count": 118,
      "id": "cf770258",
      "metadata": {
        "colab": {
          "base_uri": "https://localhost:8080/"
        },
        "id": "cf770258",
        "outputId": "08b284e2-a1eb-475a-b1e4-f3c481eb7a39"
      },
      "outputs": [
        {
          "data": {
            "text/plain": [
              "expected_timeline\n",
              "etc.                                                                                                                                                                                                                                                        31574\n",
              "less than 3 months                                                                                                                                                                                                                                          17250\n",
              "3 months ~ 6 months                                                                                                                                                                                                                                          5026\n",
              "more than a year                                                                                                                                                                                                                                             3023\n",
              "9 months ~ 1 year                                                                                                                                                                                                                                            1101\n",
              "6 months ~ 9 months                                                                                                                                                                                                                                          1098\n",
              "less than 6 months                                                                                                                                                                                                                                            108\n",
              "less_than_3_months                                                                                                                                                                                                                                             76\n",
              "3_months_~_6_months                                                                                                                                                                                                                                             9\n",
              "9_months_~_1_year                                                                                                                                                                                                                                               6\n",
              "more_than_a_year                                                                                                                                                                                                                                                4\n",
              "6_months_~_9_months                                                                                                                                                                                                                                             4\n",
              "less than 5 months                                                                                                                                                                                                                                              2\n",
              "more then 3 months                                                                                                                                                                                                                                              2\n",
              "less then 6 months                                                                                                                                                                                                                                              2\n",
              "4/8 months                                                                                                                                                                                                                                                      1\n",
              "duplicate lead - il220100042906. less than 3 months                                                                                                                                                                                                             1\n",
              "very abrupt customer. said the inquiry was made months ago and was rude enough. closing in the system as the client behaviour has no scope to discuss on requirement. need marketing team to check if the case was received in dec or jan as per client.        1\n",
              "we are already in touch with this cutsomer from last 2 years, he has never purchased any product till date. i called him up twice but no reponse.                                                                                                               1\n",
              "less than 3 months. customer not answered . to call back                                                                                                                                                                                                        1\n",
              "needs hotel tv after 4 months, will call us.                                                                                                                                                                                                                    1\n",
              "quote shared with customer, he will confirm after 2 months. lead shared with partner.                                                                                                                                                                           1\n",
              "quotation sent – 75tr3dj , work in progress, he will buy after 2 months. he has not even seen the quote yet.                                                                                                                                                    1\n",
              "less than 3 months- outdoor led requiment                                                                                                                                                                                                                       1\n",
              "3 months                                                                                                                                                                                                                                                        1\n",
              "less than 3 months ,meeting with the customer for the more details and tentative boq will ne 32 and 43                                                                                                                                                          1\n",
              "purchase planning after 3 months                                                                                                                                                                                                                                1\n",
              "need to discuss with client in next two months. they need to check the product and accridngly proceed for personal use.                                                                                                                                         1\n",
              "9 months - 1 year                                                                                                                                                                                                                                               1\n",
              "Name: count, dtype: int64"
            ]
          },
          "execution_count": 118,
          "metadata": {},
          "output_type": "execute_result"
        }
      ],
      "source": [
        "df_train['expected_timeline'].value_counts()"
      ]
    },
    {
      "cell_type": "code",
      "execution_count": 119,
      "id": "6ece802e",
      "metadata": {
        "colab": {
          "base_uri": "https://localhost:8080/"
        },
        "id": "6ece802e",
        "outputId": "067fb5ed-fb44-4fe8-acf8-f47c9f7b83c6"
      },
      "outputs": [
        {
          "data": {
            "text/plain": [
              "expected_timeline\n",
              "etc.                   2408\n",
              "less than 3 months     1734\n",
              "3 months ~ 6 months     426\n",
              "more than a year        272\n",
              "9 months ~ 1 year       264\n",
              "6 months ~ 9 months     167\n",
              "Name: count, dtype: int64"
            ]
          },
          "execution_count": 119,
          "metadata": {},
          "output_type": "execute_result"
        }
      ],
      "source": [
        "df_test['expected_timeline'].value_counts()"
      ]
    },
    {
      "cell_type": "code",
      "execution_count": 120,
      "id": "73386491",
      "metadata": {
        "id": "73386491"
      },
      "outputs": [],
      "source": [
        "df_train['expected_timeline'] = df_train['expected_timeline'].replace({\n",
        "    'less_than_3_months': 'less than 3 months',\n",
        "    '3_months_~_6_months': '3 months ~ 6 months',\n",
        "    '9_months_~_1_year': '9 months ~ 1 year',\n",
        "    'more_than_a_year': 'more than a year',\n",
        "    '6_months_~_9_months': '6 months ~ 9 months',\n",
        "    '9 months - 1 year': '9 months ~ 1 year',\n",
        "    'duplicate lead - il220100042906. less than 3 months': 'less than 3 months',\n",
        "    'less than 3 months ,meeting with the customer for the more details and tentative boq will ne 32 and 43': 'less than 3 months',\n",
        "\n",
        "    'less_than_3_months': 'less than 3 months',\n",
        "    'less than 3 months- outdoor led requiment': 'less than 3 months',\n",
        "    'need to discuss with client in next two months. they need to check the product and accridngly proceed for personal use.': 'less than 3 months',\n",
        "    'quotation sent – 75tr3dj , work in progress, he will buy after 2 months. he has not even seen the quote yet.': 'less than 3 months',\n",
        "    'quote shared with customer, he will confirm after 2 months. lead shared with partner.': 'less than 3 months',\n",
        "    'less than 3 months- outdoor led requiment': 'less than 3 months',\n",
        "    'less than 3 months. customer not answered . to call back': 'less than 3 months',\n",
        "\n",
        "    'purchase planning after 3 months': '3 months ~ 6 months',\n",
        "    'needs hotel tv after 4 months, will call us.': '3 months ~ 6 months',\n",
        "\n",
        "    'we are already in touch with this cutsomer from last 2 years, he has never purchased any product till date. i called him up twice but no reponse.' : 'etc.',\n",
        "    'very abrupt customer. said the inquiry was made months ago and was rude enough. closing in the system as the client behaviour has no scope to discuss on requirement. need marketing team to check if the case was received in dec or jan as per client.' : 'etc.',\n",
        "\n",
        "    # 아래 값들은 근사 기간으로 넣어줌\n",
        "    'more then 3 months': '3 months ~ 6 months',\n",
        "    'less than 5 months': '3 months ~ 6 months',\n",
        "    'less than 6 months': '3 months ~ 6 months',\n",
        "    'less then 6 months': '3 months ~ 6 months',\n",
        "    '3 months': '3 months ~ 6 months',\n",
        "    '4/8 months': '3 months ~ 6 months',\n",
        "\n",
        "})\n",
        "df_test['customer_position'] = df_test['customer_position'].replace({\n",
        "    'less_than_3_months': 'less than 3 months',\n",
        "    '3_months_~_6_months': '3 months ~ 6 months',\n",
        "    '9_months_~_1_year': '9 months ~ 1 year',\n",
        "    'more_than_a_year': 'more than a year',\n",
        "    '6_months_~_9_months': '6 months ~ 9 months'\n",
        "})\n"
      ]
    },
    {
      "cell_type": "code",
      "execution_count": 121,
      "id": "ab5d71b5",
      "metadata": {
        "colab": {
          "base_uri": "https://localhost:8080/"
        },
        "id": "ab5d71b5",
        "outputId": "7a7e4a05-8595-44af-8a3f-47efa360df60"
      },
      "outputs": [
        {
          "data": {
            "text/plain": [
              "expected_timeline\n",
              "etc.                   31576\n",
              "less than 3 months     17333\n",
              "3 months ~ 6 months     5153\n",
              "more than a year        3027\n",
              "9 months ~ 1 year       1108\n",
              "6 months ~ 9 months     1102\n",
              "Name: count, dtype: int64"
            ]
          },
          "execution_count": 121,
          "metadata": {},
          "output_type": "execute_result"
        }
      ],
      "source": [
        "df_train['expected_timeline'].value_counts()"
      ]
    },
    {
      "cell_type": "code",
      "execution_count": 122,
      "id": "a665c765",
      "metadata": {
        "colab": {
          "base_uri": "https://localhost:8080/"
        },
        "id": "a665c765",
        "outputId": "07a6dc05-cc77-419f-b60b-bf83f293fa32"
      },
      "outputs": [
        {
          "data": {
            "text/plain": [
              "expected_timeline\n",
              "etc.                   2408\n",
              "less than 3 months     1734\n",
              "3 months ~ 6 months     426\n",
              "more than a year        272\n",
              "9 months ~ 1 year       264\n",
              "6 months ~ 9 months     167\n",
              "Name: count, dtype: int64"
            ]
          },
          "execution_count": 122,
          "metadata": {},
          "output_type": "execute_result"
        }
      ],
      "source": [
        "df_test['expected_timeline'].value_counts()"
      ]
    },
    {
      "cell_type": "code",
      "execution_count": 123,
      "id": "727dacb2",
      "metadata": {
        "colab": {
          "base_uri": "https://localhost:8080/"
        },
        "id": "727dacb2",
        "outputId": "ed19b6ff-d85c-4d1d-f839-26ba945254d2"
      },
      "outputs": [
        {
          "name": "stdout",
          "output_type": "stream",
          "text": [
            "0\n"
          ]
        }
      ],
      "source": [
        "print(df_train['expected_timeline'].isnull().sum())"
      ]
    },
    {
      "cell_type": "markdown",
      "id": "dfadb3d1",
      "metadata": {
        "id": "dfadb3d1"
      },
      "source": [
        "#### 22. ver_cus"
      ]
    },
    {
      "cell_type": "markdown",
      "id": "55c48597",
      "metadata": {
        "id": "55c48597"
      },
      "source": [
        "특정 Vertical Level 1(사업영역) 이면서  \n",
        "Customer_type(고객 유형)이 소비자(End-user)인  \n",
        "경우에 대한 가중치"
      ]
    },
    {
      "cell_type": "code",
      "execution_count": 124,
      "id": "82c88fe0",
      "metadata": {
        "colab": {
          "base_uri": "https://localhost:8080/"
        },
        "id": "82c88fe0",
        "outputId": "b129ce61-1fe9-44bf-fdcc-64df92989ad9"
      },
      "outputs": [
        {
          "data": {
            "text/plain": [
              "ver_cus\n",
              "0    56832\n",
              "1     2467\n",
              "Name: count, dtype: int64"
            ]
          },
          "execution_count": 124,
          "metadata": {},
          "output_type": "execute_result"
        }
      ],
      "source": [
        "df_train['ver_cus'].value_counts()"
      ]
    },
    {
      "cell_type": "code",
      "execution_count": 125,
      "id": "2cff5d61",
      "metadata": {
        "colab": {
          "base_uri": "https://localhost:8080/"
        },
        "id": "2cff5d61",
        "outputId": "653b0048-397e-4a66-e837-0bfdad3de648"
      },
      "outputs": [
        {
          "data": {
            "text/plain": [
              "customer_type\n",
              "End Customer    2463\n",
              "End-user           4\n",
              "Name: count, dtype: int64"
            ]
          },
          "execution_count": 125,
          "metadata": {},
          "output_type": "execute_result"
        }
      ],
      "source": [
        "ss = df_train[df_train['ver_cus'] == 1]\n",
        "ss['customer_type'].value_counts()"
      ]
    },
    {
      "cell_type": "code",
      "execution_count": 126,
      "id": "_tsEi1Q-WVbs",
      "metadata": {
        "colab": {
          "base_uri": "https://localhost:8080/"
        },
        "id": "_tsEi1Q-WVbs",
        "outputId": "8392dee5-c959-4dc4-b118-16ae2c86c22e"
      },
      "outputs": [
        {
          "data": {
            "text/plain": [
              "customer_type\n",
              "End Customer    774\n",
              "Name: count, dtype: int64"
            ]
          },
          "execution_count": 126,
          "metadata": {},
          "output_type": "execute_result"
        }
      ],
      "source": [
        "ss = df_test[df_test['ver_cus'] == 1]\n",
        "ss['customer_type'].value_counts()"
      ]
    },
    {
      "cell_type": "markdown",
      "id": "d00f42ac",
      "metadata": {
        "id": "d00f42ac"
      },
      "source": [
        "End Customer가 End-user에 해당한다는것을 알수 있음으로 값을 바꿔준다"
      ]
    },
    {
      "cell_type": "code",
      "execution_count": 127,
      "id": "79ee1aea",
      "metadata": {
        "id": "79ee1aea"
      },
      "outputs": [],
      "source": [
        "# 카테고리 재할당\n",
        "df_train['customer_type'] = df_train['customer_type'].replace({\n",
        "    'End Customer': 'End-user'\n",
        "})\n",
        "df_test['customer_type'] = df_test['customer_type'].replace({\n",
        "    'End Customer': 'End-user'\n",
        "})"
      ]
    },
    {
      "cell_type": "code",
      "execution_count": 128,
      "id": "a72b4057",
      "metadata": {
        "colab": {
          "base_uri": "https://localhost:8080/"
        },
        "id": "a72b4057",
        "outputId": "5afbee0c-b6e4-4132-c3ee-33c1024a78e1"
      },
      "outputs": [
        {
          "data": {
            "text/plain": [
              "customer_type\n",
              "End-user    2467\n",
              "Name: count, dtype: int64"
            ]
          },
          "execution_count": 128,
          "metadata": {},
          "output_type": "execute_result"
        }
      ],
      "source": [
        "find_ver_cus = df_train[df_train['ver_cus'] == 1]\n",
        "find_ver_cus['customer_type'].value_counts()"
      ]
    },
    {
      "cell_type": "markdown",
      "id": "7554221a",
      "metadata": {},
      "source": [
        "'ver_cus' 의 값이 1에 해당하는 'business_area'가 무엇이 있는지 확인하는 작업 진행"
      ]
    },
    {
      "cell_type": "code",
      "execution_count": 129,
      "id": "504397b8",
      "metadata": {
        "colab": {
          "base_uri": "https://localhost:8080/"
        },
        "id": "504397b8",
        "outputId": "70a294c6-ed21-431e-ae8e-de9096dd7eaa"
      },
      "outputs": [
        {
          "data": {
            "text/plain": [
              "business_area\n",
              "corporate / office       1113\n",
              "retail                    765\n",
              "education                 472\n",
              "hotel & accommodation     117\n",
              "Name: count, dtype: int64"
            ]
          },
          "execution_count": 129,
          "metadata": {},
          "output_type": "execute_result"
        }
      ],
      "source": [
        "find_ver_cus = df_train[df_train['ver_cus'] == 1]\n",
        "find_ver_cus['business_area'].value_counts()"
      ]
    },
    {
      "cell_type": "code",
      "execution_count": 130,
      "id": "NuCERFB5cQha",
      "metadata": {
        "colab": {
          "base_uri": "https://localhost:8080/"
        },
        "id": "NuCERFB5cQha",
        "outputId": "dae3f8c2-a1af-4a3a-9582-7eeabd916982"
      },
      "outputs": [
        {
          "data": {
            "text/plain": [
              "business_area\n",
              "corporate / office       382\n",
              "retail                   168\n",
              "hotel & accommodation    131\n",
              "education                 93\n",
              "Name: count, dtype: int64"
            ]
          },
          "execution_count": 130,
          "metadata": {},
          "output_type": "execute_result"
        }
      ],
      "source": [
        "find_ver_cus = df_test[df_test['ver_cus'] == 1]\n",
        "find_ver_cus['business_area'].value_counts()"
      ]
    },
    {
      "cell_type": "markdown",
      "id": "000888bd",
      "metadata": {
        "id": "000888bd"
      },
      "source": [
        "business_area에 대해서는  \n",
        "'corporate / office', 'retail', 'education', 'hotel & accommodation'   \n",
        "다음의 Vertical Level 1(사업영역)에 해당함을 확인할수 있음"
      ]
    },
    {
      "cell_type": "markdown",
      "id": "c86e3ff5",
      "metadata": {
        "id": "c86e3ff5"
      },
      "source": [
        "시각화를 해보면 아래와 같음"
      ]
    },
    {
      "cell_type": "code",
      "execution_count": 131,
      "id": "a5e1da7b",
      "metadata": {
        "colab": {
          "base_uri": "https://localhost:8080/",
          "height": 607
        },
        "id": "a5e1da7b",
        "outputId": "8f5f62ea-2279-4607-ad32-4091819a3b36"
      },
      "outputs": [
        {
          "data": {
            "image/png": "[encoded data removed]",
            "text/plain": [
              "<Figure size 800x600 with 2 Axes>"
            ]
          },
          "metadata": {},
          "output_type": "display_data"
        }
      ],
      "source": [
        "# seaborn 스타일 설정\n",
        "sns.set_style(\"whitegrid\")\n",
        "\n",
        "# business_unit이 'ID'인 데이터만 선택\n",
        "df_train_id = df_train[df_train['customer_type'] == 'End-user']\n",
        "\n",
        "# id_strategic_ver 값에 따라 데이터를 분리\n",
        "df_train_ver_cus_1 = df_train_id[df_train_id['ver_cus'] == 1]\n",
        "df_train_ver_cus_0 = df_train_id[df_train_id['ver_cus'] == 0]\n",
        "\n",
        "# business_area별로 id_strategic_ver 개수를 세어 저장\n",
        "count_ver_cus_1 = df_train_ver_cus_1['business_area'].value_counts()\n",
        "count_ver_cus_0 = df_train_ver_cus_0['business_area'].value_counts()\n",
        "\n",
        "# 그래프\n",
        "plt.figure(figsize=(8, 6))\n",
        "\n",
        "plt.subplot(1, 2, 1)\n",
        "sns.barplot(x=count_ver_cus_1.index, y=count_ver_cus_1.values, palette=\"Blues_d\")\n",
        "plt.title('id_strategic_ver = 1')\n",
        "plt.xlabel('business_area')\n",
        "plt.ylabel('Count')\n",
        "plt.xticks(rotation=90)\n",
        "\n",
        "plt.subplot(1, 2, 2)\n",
        "sns.barplot(x=count_ver_cus_0.index, y=count_ver_cus_0.values, palette=\"Reds_d\")\n",
        "plt.title('id_strategic_ver = 0')\n",
        "plt.xlabel('business_area')\n",
        "plt.ylabel('Count')\n",
        "plt.xticks(rotation=90)\n",
        "\n",
        "plt.tight_layout()\n",
        "plt.show()\n"
      ]
    },
    {
      "cell_type": "code",
      "execution_count": 132,
      "id": "d5b46910",
      "metadata": {
        "colab": {
          "base_uri": "https://localhost:8080/"
        },
        "id": "d5b46910",
        "outputId": "b7058df5-6ab5-43a4-d990-e326bbb5dfca"
      },
      "outputs": [
        {
          "name": "stdout",
          "output_type": "stream",
          "text": [
            "0\n"
          ]
        }
      ],
      "source": [
        "print(df_train['ver_cus'].isnull().sum())"
      ]
    },
    {
      "cell_type": "markdown",
      "id": "f5ed17a5",
      "metadata": {
        "id": "f5ed17a5"
      },
      "source": [
        "#### 23. ver_pro"
      ]
    },
    {
      "cell_type": "markdown",
      "id": "93298db1",
      "metadata": {
        "id": "93298db1"
      },
      "source": [
        "특정 Vertical Level 1(사업영역) 이면서   \n",
        "특정 Product Category(제품 유형)인   \n",
        "경우에 대한 가중치"
      ]
    },
    {
      "cell_type": "code",
      "execution_count": 133,
      "id": "dacfb2f0",
      "metadata": {
        "colab": {
          "base_uri": "https://localhost:8080/"
        },
        "id": "dacfb2f0",
        "outputId": "af6b5dba-896d-49f7-9aa6-9d2d8471fb63"
      },
      "outputs": [
        {
          "data": {
            "text/plain": [
              "ver_pro\n",
              "0    56286\n",
              "1     3013\n",
              "Name: count, dtype: int64"
            ]
          },
          "execution_count": 133,
          "metadata": {},
          "output_type": "execute_result"
        }
      ],
      "source": [
        "df_train['ver_pro'].value_counts()"
      ]
    },
    {
      "cell_type": "code",
      "execution_count": 134,
      "id": "f0c507e5",
      "metadata": {
        "colab": {
          "base_uri": "https://localhost:8080/"
        },
        "id": "f0c507e5",
        "outputId": "b1b62f91-c40a-48da-ac4e-597b719d4e1d"
      },
      "outputs": [
        {
          "data": {
            "text/plain": [
              "product_category\n",
              "unknown                      1858\n",
              "vrf                           726\n",
              "multi-split                   544\n",
              "interactive signage           400\n",
              "led signage                   289\n",
              "etc.                          202\n",
              "single-split                  179\n",
              "video wall signage            167\n",
              "hotel tv                      134\n",
              "standard signage              118\n",
              "oled signage                  104\n",
              "chiller                        99\n",
              "interactive digital board      74\n",
              "heating                        67\n",
              "monitor                        58\n",
              "high brightness signage        40\n",
              "medical display                32\n",
              "ventilation                    31\n",
              "one:quick series               22\n",
              "cloud device                   18\n",
              "laptop                         14\n",
              "webos                          14\n",
              "control                        13\n",
              "projector                      12\n",
              "software solution              11\n",
              "hospital tv                    10\n",
              "other                          10\n",
              "pro:centric                    10\n",
              "special signage                 9\n",
              "accessories                     6\n",
              "Name: count, dtype: int64"
            ]
          },
          "execution_count": 134,
          "metadata": {},
          "output_type": "execute_result"
        }
      ],
      "source": [
        "df_test['product_category'].value_counts()"
      ]
    },
    {
      "cell_type": "code",
      "execution_count": 135,
      "id": "MHJkPEArk88r",
      "metadata": {
        "colab": {
          "base_uri": "https://localhost:8080/"
        },
        "id": "MHJkPEArk88r",
        "outputId": "f31513de-59f5-4fbe-e46e-16da6c6032d9"
      },
      "outputs": [
        {
          "data": {
            "text/plain": [
              "product_category\n",
              "video wall signage                   667\n",
              "led signage                          641\n",
              "interactive signage                  406\n",
              "oled signage                         390\n",
              "standard signage                     325\n",
              "hotel tv                             259\n",
              "high brightness signage              205\n",
              "special signage                       47\n",
              "other                                 36\n",
              "monitor signage,monior/monitor tv     11\n",
              "smart tv signage                      10\n",
              "uhd signage                            9\n",
              "digital signage                        7\n",
              "Name: count, dtype: int64"
            ]
          },
          "execution_count": 135,
          "metadata": {},
          "output_type": "execute_result"
        }
      ],
      "source": [
        "find_ver_cus = df_train[df_train['ver_pro'] == 1]\n",
        "find_ver_cus['product_category'].value_counts()"
      ]
    },
    {
      "cell_type": "code",
      "execution_count": 136,
      "id": "b8P-87Cgk969",
      "metadata": {
        "colab": {
          "base_uri": "https://localhost:8080/"
        },
        "id": "b8P-87Cgk969",
        "outputId": "9d255771-0c9b-465e-95c0-fdb2d14e47fd"
      },
      "outputs": [
        {
          "data": {
            "text/plain": [
              "business_area\n",
              "corporate / office       1566\n",
              "retail                   1188\n",
              "hotel & accommodation     259\n",
              "Name: count, dtype: int64"
            ]
          },
          "execution_count": 136,
          "metadata": {},
          "output_type": "execute_result"
        }
      ],
      "source": [
        "find_ver_cus = df_train[df_train['ver_pro'] == 1]\n",
        "find_ver_cus['business_area'].value_counts()"
      ]
    },
    {
      "cell_type": "code",
      "execution_count": 137,
      "id": "tWAIiNrjWzF0",
      "metadata": {
        "colab": {
          "base_uri": "https://localhost:8080/"
        },
        "id": "tWAIiNrjWzF0",
        "outputId": "c10cb39b-c51b-4da1-9d4c-e282420144ca"
      },
      "outputs": [
        {
          "data": {
            "text/plain": [
              "product_category\n",
              "led signage                114\n",
              "hotel tv                    95\n",
              "standard signage            65\n",
              "video wall signage          62\n",
              "interactive signage         47\n",
              "oled signage                29\n",
              "high brightness signage     12\n",
              "special signage              5\n",
              "Name: count, dtype: int64"
            ]
          },
          "execution_count": 137,
          "metadata": {},
          "output_type": "execute_result"
        }
      ],
      "source": [
        "find_ver_cus = df_test[df_test['ver_pro'] == 1]\n",
        "find_ver_cus['product_category'].value_counts()"
      ]
    },
    {
      "cell_type": "code",
      "execution_count": 138,
      "id": "IHQD5giak3kj",
      "metadata": {
        "colab": {
          "base_uri": "https://localhost:8080/"
        },
        "id": "IHQD5giak3kj",
        "outputId": "2c1eceae-4e62-48c9-9f7b-6ad0a832c563"
      },
      "outputs": [
        {
          "data": {
            "text/plain": [
              "business_area\n",
              "corporate / office       201\n",
              "retail                   133\n",
              "hotel & accommodation     95\n",
              "Name: count, dtype: int64"
            ]
          },
          "execution_count": 138,
          "metadata": {},
          "output_type": "execute_result"
        }
      ],
      "source": [
        "find_ver_cus = df_test[df_test['ver_pro'] == 1]\n",
        "find_ver_cus['business_area'].value_counts()"
      ]
    },
    {
      "cell_type": "code",
      "execution_count": 139,
      "id": "62d704a3",
      "metadata": {
        "colab": {
          "base_uri": "https://localhost:8080/"
        },
        "id": "62d704a3",
        "outputId": "7f17609e-5309-4e62-df33-8c0b20b6a679"
      },
      "outputs": [
        {
          "name": "stdout",
          "output_type": "stream",
          "text": [
            "0\n"
          ]
        }
      ],
      "source": [
        "print(df_train['ver_pro'].isnull().sum())"
      ]
    },
    {
      "cell_type": "markdown",
      "id": "c271d300",
      "metadata": {
        "id": "c271d300"
      },
      "source": [
        "#### 24. ver_win_rate_x"
      ]
    },
    {
      "cell_type": "markdown",
      "id": "3dea8dea",
      "metadata": {
        "id": "3dea8dea"
      },
      "source": [
        "전체 Lead 중에서 Vertical을 기준으로  \n",
        "[a] Vertical 수 비율  \n",
        "[b] Vertical 별 Lead 수 대비 영업 전환 성공 비율 값  \n",
        "[a] , [b] 를 곱한 값"
      ]
    },
    {
      "cell_type": "code",
      "execution_count": 140,
      "id": "212e9860",
      "metadata": {
        "colab": {
          "base_uri": "https://localhost:8080/"
        },
        "id": "212e9860",
        "outputId": "76660671-4671-4337-9238-dae442f71f03"
      },
      "outputs": [
        {
          "data": {
            "text/plain": [
              "ver_win_rate_x\n",
              "0.003079    4097\n",
              "0.001183    3011\n",
              "0.000717    2013\n",
              "0.000543    1929\n",
              "0.000298    1818\n",
              "0.000572    1727\n",
              "0.000060    1199\n",
              "0.000215    1035\n",
              "0.000097     650\n",
              "0.000026     519\n",
              "0.000013     306\n",
              "0.000002     113\n",
              "Name: count, dtype: int64"
            ]
          },
          "execution_count": 140,
          "metadata": {},
          "output_type": "execute_result"
        }
      ],
      "source": [
        "df_train['ver_win_rate_x'].value_counts()"
      ]
    },
    {
      "cell_type": "code",
      "execution_count": 141,
      "id": "1048651b",
      "metadata": {
        "colab": {
          "base_uri": "https://localhost:8080/"
        },
        "id": "1048651b",
        "outputId": "2e674abe-ae93-4292-fced-de3c14040764"
      },
      "outputs": [
        {
          "data": {
            "text/plain": [
              "18417"
            ]
          },
          "execution_count": 141,
          "metadata": {},
          "output_type": "execute_result"
        }
      ],
      "source": [
        "df_train['ver_win_rate_x'].value_counts().sum()"
      ]
    },
    {
      "cell_type": "markdown",
      "id": "34f53f8c",
      "metadata": {
        "id": "34f53f8c"
      },
      "source": [
        "결측치 확인"
      ]
    },
    {
      "cell_type": "code",
      "execution_count": 142,
      "id": "3598d9c3",
      "metadata": {
        "colab": {
          "base_uri": "https://localhost:8080/"
        },
        "id": "3598d9c3",
        "outputId": "0a0b2145-96d1-4096-ec5d-530aeb164a43"
      },
      "outputs": [
        {
          "name": "stdout",
          "output_type": "stream",
          "text": [
            "40882\n"
          ]
        }
      ],
      "source": [
        "print(df_train['ver_win_rate_x'].isnull().sum())"
      ]
    },
    {
      "cell_type": "code",
      "execution_count": 143,
      "id": "BHtDios4rEHL",
      "metadata": {
        "colab": {
          "base_uri": "https://localhost:8080/"
        },
        "id": "BHtDios4rEHL",
        "outputId": "060da3c7-be8b-4e34-c23c-f6f629c358fe"
      },
      "outputs": [
        {
          "data": {
            "text/plain": [
              "40882"
            ]
          },
          "execution_count": 143,
          "metadata": {},
          "output_type": "execute_result"
        }
      ],
      "source": [
        "sd = df_train[df_train['business_area'].isnull()]\n",
        "total_count = sd['business_unit'].size\n",
        "total_count"
      ]
    },
    {
      "cell_type": "markdown",
      "id": "EZeSgUMXrHyD",
      "metadata": {
        "id": "EZeSgUMXrHyD"
      },
      "source": [
        "결측값 동일 -> 구할수 없는 값에 대해서는 그냥 빈값으로 두어서 제공된 형태라 따로 계산할 필요 없어 보임"
      ]
    },
    {
      "cell_type": "code",
      "execution_count": 144,
      "id": "2f9acf0c",
      "metadata": {
        "id": "2f9acf0c"
      },
      "outputs": [
        {
          "name": "stdout",
          "output_type": "stream",
          "text": [
            "0\n"
          ]
        }
      ],
      "source": [
        "# 'ver_win_rate_x' 변수에서 NaN 값을 0으로 대체\n",
        "df_train['ver_win_rate_x'] = df_train['ver_win_rate_x'].fillna(0)\n",
        "df_test['ver_win_rate_x'] = df_test['ver_win_rate_x'].fillna(0)\n",
        "\n",
        "print(df_train['ver_win_rate_x'].isnull().sum())"
      ]
    },
    {
      "cell_type": "markdown",
      "id": "69864f58",
      "metadata": {
        "id": "69864f58"
      },
      "source": [
        "#### 25. ver_win_ratio_per_bu"
      ]
    },
    {
      "cell_type": "markdown",
      "id": "27344f28",
      "metadata": {
        "id": "27344f28"
      },
      "source": [
        "특정 Vertical Level1의 Business Unit 별 샘플 수 대비 영업 전환된 샘플 수의 비율을 계산"
      ]
    },
    {
      "cell_type": "code",
      "execution_count": 145,
      "id": "b87bc63e",
      "metadata": {
        "colab": {
          "base_uri": "https://localhost:8080/"
        },
        "id": "b87bc63e",
        "outputId": "7e4c9d8e-fb66-42d8-d75b-874aead36cd2"
      },
      "outputs": [
        {
          "data": {
            "text/plain": [
              "ver_win_ratio_per_bu\n",
              "0.064566    2460\n",
              "0.049840    2028\n",
              "0.020121    1365\n",
              "0.048630    1356\n",
              "0.026846    1278\n",
              "0.064070    1075\n",
              "0.071345     984\n",
              "0.011583     788\n",
              "0.022634     713\n",
              "0.060924     540\n",
              "0.079412     421\n",
              "0.036913     403\n",
              "0.035484     385\n",
              "0.031579     271\n",
              "0.053571     216\n",
              "0.051471     210\n",
              "0.028777     200\n",
              "0.022727     173\n",
              "0.128571     156\n",
              "0.131148     148\n",
              "0.227273      62\n",
              "0.285714      43\n",
              "0.034483      29\n",
              "Name: count, dtype: int64"
            ]
          },
          "execution_count": 145,
          "metadata": {},
          "output_type": "execute_result"
        }
      ],
      "source": [
        "df_train['ver_win_ratio_per_bu'].value_counts()"
      ]
    },
    {
      "cell_type": "markdown",
      "id": "50f7c659",
      "metadata": {
        "id": "50f7c659"
      },
      "source": [
        "결측값 확인"
      ]
    },
    {
      "cell_type": "code",
      "execution_count": 146,
      "id": "423530fa",
      "metadata": {
        "colab": {
          "base_uri": "https://localhost:8080/"
        },
        "id": "423530fa",
        "outputId": "85b20461-7c66-49eb-e3ed-ce54547fac89"
      },
      "outputs": [
        {
          "name": "stdout",
          "output_type": "stream",
          "text": [
            "43995\n"
          ]
        }
      ],
      "source": [
        "print(df_train['ver_win_ratio_per_bu'].isnull().sum())"
      ]
    },
    {
      "cell_type": "markdown",
      "id": "8604596d",
      "metadata": {},
      "source": [
        "해당하는 그룹에서 'ver_win_ratio_per_bu'의 값 출력"
      ]
    },
    {
      "cell_type": "code",
      "execution_count": 147,
      "id": "f7817c73",
      "metadata": {},
      "outputs": [
        {
          "name": "stdout",
          "output_type": "stream",
          "text": [
            "business_area                   business_unit\n",
            "corporate / office              AS               [0.0268456375838926]\n",
            "                                ID               [0.0645661157024793]\n",
            "                                IT                              [nan]\n",
            "                                Solution         [0.0344827586206896]\n",
            "education                       AS               [0.0514705882352941]\n",
            "                                ID                [0.048629531388152]\n",
            "                                IT                              [nan]\n",
            "                                Solution                        [nan]\n",
            "factory                         AS               [0.0369127516778523]\n",
            "                                ID               [0.0609243697478991]\n",
            "                                IT                              [nan]\n",
            "                                Solution                        [nan]\n",
            "government department           AS               [0.0227272727272727]\n",
            "                                ID               [0.0794117647058823]\n",
            "                                IT                              [nan]\n",
            "                                Solution                        [nan]\n",
            "hospital & health care          AS               [0.1285714285714285]\n",
            "                                ID               [0.1311475409836065]\n",
            "                                IT                              [nan]\n",
            "hotel & accommodation           AS                              [nan]\n",
            "                                ID                [0.071345029239766]\n",
            "                                IT                              [nan]\n",
            "                                Solution                        [nan]\n",
            "power plant / renewable energy  AS               [0.2272727272727272]\n",
            "                                ID               [0.2857142857142857]\n",
            "                                IT                              [nan]\n",
            "public facility                 AS               [0.0287769784172661]\n",
            "                                ID                [0.031578947368421]\n",
            "                                IT                              [nan]\n",
            "                                Solution                        [nan]\n",
            "residential (home)              AS               [0.0201207243460764]\n",
            "                                ID               [0.0354838709677419]\n",
            "                                IT                              [nan]\n",
            "                                Solution                        [nan]\n",
            "retail                          AS               [0.0115830115830115]\n",
            "                                ID               [0.0498402555910543]\n",
            "                                IT                              [nan]\n",
            "                                Solution                        [nan]\n",
            "special purpose                 AS                [0.022633744855967]\n",
            "                                ID               [0.0640703517587939]\n",
            "                                IT                              [nan]\n",
            "                                Solution                        [nan]\n",
            "transportation                  AS                              [nan]\n",
            "                                ID               [0.0535714285714285]\n",
            "                                IT                              [nan]\n",
            "                                Solution                        [nan]\n",
            "Name: ver_win_ratio_per_bu, dtype: object\n"
          ]
        }
      ],
      "source": [
        "grouped = df_train.groupby([\"business_area\",\"business_unit\"])\n",
        "\n",
        "# 'ver_win_ratio_per_bu' 열의 모든 값의 종류를 출력\n",
        "print(grouped['ver_win_ratio_per_bu'].apply(lambda x: x.unique()))"
      ]
    },
    {
      "cell_type": "code",
      "execution_count": 148,
      "id": "90110ec9",
      "metadata": {},
      "outputs": [
        {
          "data": {
            "text/plain": [
              "business_area                   business_unit  ver_win_ratio_per_bu\n",
              "corporate / office              AS             0.026846                1278\n",
              "                                ID             0.064566                2460\n",
              "                                Solution       0.034483                  29\n",
              "education                       AS             0.051471                 210\n",
              "                                ID             0.048630                1356\n",
              "factory                         AS             0.036913                 403\n",
              "                                ID             0.060924                 540\n",
              "government department           AS             0.022727                 173\n",
              "                                ID             0.079412                 421\n",
              "hospital & health care          AS             0.128571                 156\n",
              "                                ID             0.131148                 148\n",
              "hotel & accommodation           ID             0.071345                 984\n",
              "power plant / renewable energy  AS             0.227273                  62\n",
              "                                ID             0.285714                  43\n",
              "public facility                 AS             0.028777                 200\n",
              "                                ID             0.031579                 271\n",
              "residential (home)              AS             0.020121                1365\n",
              "                                ID             0.035484                 385\n",
              "retail                          AS             0.011583                 788\n",
              "                                ID             0.049840                2028\n",
              "special purpose                 AS             0.022634                 713\n",
              "                                ID             0.064070                1075\n",
              "transportation                  ID             0.053571                 216\n",
              "Name: count, dtype: int64"
            ]
          },
          "execution_count": 148,
          "metadata": {},
          "output_type": "execute_result"
        }
      ],
      "source": [
        "grouped['ver_win_ratio_per_bu'].value_counts()"
      ]
    },
    {
      "cell_type": "code",
      "execution_count": 149,
      "id": "bc4b88ca",
      "metadata": {},
      "outputs": [
        {
          "name": "stdout",
          "output_type": "stream",
          "text": [
            "43995\n"
          ]
        }
      ],
      "source": [
        "print(df_train['ver_win_ratio_per_bu'].isnull().sum())"
      ]
    },
    {
      "cell_type": "markdown",
      "id": "d4647946",
      "metadata": {},
      "source": [
        "해당하는 그룹에서 'ver_win_ratio_per_bu' 의 결측값에 대한 예측"
      ]
    },
    {
      "cell_type": "code",
      "execution_count": 150,
      "id": "00d2200c",
      "metadata": {},
      "outputs": [
        {
          "name": "stdout",
          "output_type": "stream",
          "text": [
            "business_area                   business_unit\n",
            "corporate / office              AS               0.029734\n",
            "                                ID               0.088618\n",
            "                                IT               0.033333\n",
            "                                Solution         0.034483\n",
            "education                       AS               0.066667\n",
            "                                ID               0.064897\n",
            "                                IT               0.046667\n",
            "                                Solution              NaN\n",
            "factory                         AS               0.059553\n",
            "                                ID               0.068519\n",
            "                                IT               0.337349\n",
            "                                Solution              NaN\n",
            "government department           AS               0.040462\n",
            "                                ID               0.076010\n",
            "                                IT                    NaN\n",
            "                                Solution              NaN\n",
            "hospital & health care          AS               0.096154\n",
            "                                ID               0.128378\n",
            "                                IT               0.378771\n",
            "hotel & accommodation           AS               0.004831\n",
            "                                ID               0.118902\n",
            "                                IT               0.002528\n",
            "                                Solution              NaN\n",
            "power plant / renewable energy  AS               0.129032\n",
            "                                ID               0.279070\n",
            "                                IT                    NaN\n",
            "public facility                 AS               0.030000\n",
            "                                ID               0.099631\n",
            "                                IT               0.025000\n",
            "                                Solution              NaN\n",
            "residential (home)              AS               0.017582\n",
            "                                ID               0.038961\n",
            "                                IT               0.142857\n",
            "                                Solution              NaN\n",
            "retail                          AS               0.026650\n",
            "                                ID               0.061637\n",
            "                                IT               0.073620\n",
            "                                Solution              NaN\n",
            "special purpose                 AS               0.028050\n",
            "                                ID               0.070698\n",
            "                                IT               0.046296\n",
            "                                Solution              NaN\n",
            "transportation                  AS               0.037736\n",
            "                                ID               0.064815\n",
            "                                IT               0.060606\n",
            "                                Solution              NaN\n",
            "dtype: float64\n"
          ]
        }
      ],
      "source": [
        "# business_area, business_unit 그룹화하여 샘플 수 계산\n",
        "grouped_counts = df_train.groupby(['business_area', 'business_unit']).size()\n",
        "\n",
        "# business_area, business_unit, is_converted 그룹화하여 영업 전환된(is_converted) 샘플 수 계산\n",
        "converted_counts = df_train[df_train['is_converted']].groupby(['business_area', 'business_unit']).size()\n",
        "\n",
        "# business_area, business_unit별 샘플 수 대비 영업 전환된(is_converted) 샘플 수의 비율 계산\n",
        "conversion_rates = converted_counts / grouped_counts\n",
        "\n",
        "# 결과 출력\n",
        "print(conversion_rates)"
      ]
    },
    {
      "cell_type": "code",
      "execution_count": 151,
      "id": "7556adb1",
      "metadata": {},
      "outputs": [],
      "source": [
        "# 그룹별 값을 딕셔너리로 정의\n",
        "group_values = {\n",
        "    ('corporate / office', 'AS'): 0.029734,\n",
        "    ('corporate / office', 'ID'): 0.088618,\n",
        "    ('corporate / office', 'IT'): 0.033333,\n",
        "    ('corporate / office', 'Solution'): 0.034483,\n",
        "    ('education', 'AS'): 0.066667,\n",
        "    ('education', 'ID'): 0.064897,\n",
        "    ('education', 'IT'): 0.046667,\n",
        "    ('education', 'Solution'): None,\n",
        "    ('factory', 'AS'): 0.059553,\n",
        "    ('factory', 'ID'): 0.068519,\n",
        "    ('factory', 'IT'): 0.337349,\n",
        "    ('factory', 'Solution'): None,\n",
        "    ('government department', 'AS'): 0.040462,\n",
        "    ('government department', 'ID'): 0.076010,\n",
        "    ('government department', 'IT'): None,\n",
        "    ('government department', 'Solution'): None,\n",
        "    ('hospital & health care', 'AS'): 0.096154,\n",
        "    ('hospital & health care', 'ID'): 0.128378,\n",
        "    ('hospital & health care', 'IT'): 0.378771,\n",
        "    ('hotel & accommodation', 'AS'): 0.004831,\n",
        "    ('hotel & accommodation', 'ID'): 0.118902,\n",
        "    ('hotel & accommodation', 'IT'): 0.002528,\n",
        "    ('hotel & accommodation', 'Solution'): None,\n",
        "    ('power plant / renewable energy', 'AS'): 0.129032,\n",
        "    ('power plant / renewable energy', 'ID'): 0.279070,\n",
        "    ('power plant / renewable energy', 'IT'): None,\n",
        "    ('public facility', 'AS'): 0.030000,\n",
        "    ('public facility', 'ID'): 0.099631,\n",
        "    ('public facility', 'IT'): 0.025000,\n",
        "    ('public facility', 'Solution'): None,\n",
        "    ('residential (home)', 'AS'): 0.017582,\n",
        "    ('residential (home)', 'ID'): 0.038961,\n",
        "    ('residential (home)', 'IT'): 0.142857,\n",
        "    ('residential (home)', 'Solution'): None,\n",
        "    ('retail', 'AS'): 0.026650,\n",
        "    ('retail', 'ID'): 0.061637,\n",
        "    ('retail', 'IT'): 0.073620,\n",
        "    ('retail', 'Solution'): None,\n",
        "    ('special purpose', 'AS'): 0.028050,\n",
        "    ('special purpose', 'ID'): 0.070698,\n",
        "    ('special purpose', 'IT'): 0.046296,\n",
        "    ('special purpose', 'Solution'): None,\n",
        "    ('transportation', 'AS'): 0.037736,\n",
        "    ('transportation', 'ID'): 0.064815,\n",
        "    ('transportation', 'IT'): 0.060606,\n",
        "    ('transportation', 'Solution'): None,\n",
        "}\n",
        "\n",
        "# 'business_area'와 'business_unit'에 해당하는 그룹별 값을 'ver_win_ratio_per_bu' 변수에 적용\n",
        "df_train['ver_win_ratio_per_bu'] = df_train.apply(lambda row: group_values.get((row['business_area'], row['business_unit'])), axis=1)\n",
        "df_test['ver_win_ratio_per_bu'] = df_test.apply(lambda row: group_values.get((row['business_area'], row['business_unit'])), axis=1)"
      ]
    },
    {
      "cell_type": "code",
      "execution_count": 152,
      "id": "b0e40c59",
      "metadata": {},
      "outputs": [
        {
          "name": "stdout",
          "output_type": "stream",
          "text": [
            "business_area                   business_unit\n",
            "corporate / office              AS               [0.029734]\n",
            "                                ID               [0.088618]\n",
            "                                IT               [0.033333]\n",
            "                                Solution         [0.034483]\n",
            "education                       AS               [0.066667]\n",
            "                                ID               [0.064897]\n",
            "                                IT               [0.046667]\n",
            "                                Solution              [nan]\n",
            "factory                         AS               [0.059553]\n",
            "                                ID               [0.068519]\n",
            "                                IT               [0.337349]\n",
            "                                Solution              [nan]\n",
            "government department           AS               [0.040462]\n",
            "                                ID                [0.07601]\n",
            "                                IT                    [nan]\n",
            "                                Solution              [nan]\n",
            "hospital & health care          AS               [0.096154]\n",
            "                                ID               [0.128378]\n",
            "                                IT               [0.378771]\n",
            "hotel & accommodation           AS               [0.004831]\n",
            "                                ID               [0.118902]\n",
            "                                IT               [0.002528]\n",
            "                                Solution              [nan]\n",
            "power plant / renewable energy  AS               [0.129032]\n",
            "                                ID                [0.27907]\n",
            "                                IT                    [nan]\n",
            "public facility                 AS                   [0.03]\n",
            "                                ID               [0.099631]\n",
            "                                IT                  [0.025]\n",
            "                                Solution              [nan]\n",
            "residential (home)              AS               [0.017582]\n",
            "                                ID               [0.038961]\n",
            "                                IT               [0.142857]\n",
            "                                Solution              [nan]\n",
            "retail                          AS                [0.02665]\n",
            "                                ID               [0.061637]\n",
            "                                IT                [0.07362]\n",
            "                                Solution              [nan]\n",
            "special purpose                 AS                [0.02805]\n",
            "                                ID               [0.070698]\n",
            "                                IT               [0.046296]\n",
            "                                Solution              [nan]\n",
            "transportation                  AS               [0.037736]\n",
            "                                ID               [0.064815]\n",
            "                                IT               [0.060606]\n",
            "                                Solution              [nan]\n",
            "Name: ver_win_ratio_per_bu, dtype: object\n"
          ]
        }
      ],
      "source": [
        "grouped = df_train.groupby([\"business_area\",\"business_unit\"])\n",
        "\n",
        "# 'ver_win_ratio_per_bu' 열의 모든 값의 종류를 출력\n",
        "print(grouped['ver_win_ratio_per_bu'].apply(lambda x: x.unique()))\n"
      ]
    },
    {
      "cell_type": "code",
      "execution_count": 153,
      "id": "0e09bb17",
      "metadata": {},
      "outputs": [
        {
          "name": "stdout",
          "output_type": "stream",
          "text": [
            "business_area                   business_unit\n",
            "corporate / office              AS               [0.029734]\n",
            "                                ID               [0.088618]\n",
            "                                IT               [0.033333]\n",
            "education                       AS               [0.066667]\n",
            "                                ID               [0.064897]\n",
            "                                IT               [0.046667]\n",
            "factory                         AS               [0.059553]\n",
            "                                ID               [0.068519]\n",
            "                                IT               [0.337349]\n",
            "government department           AS               [0.040462]\n",
            "                                ID                [0.07601]\n",
            "                                IT                    [nan]\n",
            "hospital & health care          AS               [0.096154]\n",
            "                                ID               [0.128378]\n",
            "                                IT               [0.378771]\n",
            "hotel & accommodation           AS               [0.004831]\n",
            "                                ID               [0.118902]\n",
            "                                IT               [0.002528]\n",
            "power plant / renewable energy  AS               [0.129032]\n",
            "                                ID                [0.27907]\n",
            "public facility                 AS                   [0.03]\n",
            "                                ID               [0.099631]\n",
            "                                IT                  [0.025]\n",
            "residential (home)              AS               [0.017582]\n",
            "                                ID               [0.038961]\n",
            "                                IT               [0.142857]\n",
            "retail                          AS                [0.02665]\n",
            "                                ID               [0.061637]\n",
            "                                IT                [0.07362]\n",
            "special purpose                 AS                [0.02805]\n",
            "                                ID               [0.070698]\n",
            "                                IT               [0.046296]\n",
            "transportation                  AS               [0.037736]\n",
            "                                ID               [0.064815]\n",
            "                                IT               [0.060606]\n",
            "Name: ver_win_ratio_per_bu, dtype: object\n"
          ]
        }
      ],
      "source": [
        "grouped = df_test.groupby([\"business_area\",\"business_unit\"])\n",
        "\n",
        "# 'ver_win_ratio_per_bu' 열의 모든 값의 종류를 출력\n",
        "print(grouped['ver_win_ratio_per_bu'].apply(lambda x: x.unique()))\n"
      ]
    },
    {
      "cell_type": "code",
      "execution_count": 154,
      "id": "0f1c5b09",
      "metadata": {},
      "outputs": [
        {
          "name": "stdout",
          "output_type": "stream",
          "text": [
            "41100\n"
          ]
        }
      ],
      "source": [
        "print(df_train['ver_win_ratio_per_bu'].isnull().sum())"
      ]
    },
    {
      "cell_type": "code",
      "execution_count": 155,
      "id": "61111c71",
      "metadata": {},
      "outputs": [
        {
          "name": "stdout",
          "output_type": "stream",
          "text": [
            "2902\n"
          ]
        }
      ],
      "source": [
        "print(df_test['ver_win_ratio_per_bu'].isnull().sum())"
      ]
    },
    {
      "cell_type": "code",
      "execution_count": 156,
      "id": "5eca4dee",
      "metadata": {
        "colab": {
          "base_uri": "https://localhost:8080/"
        },
        "id": "5eca4dee",
        "outputId": "549ded86-0d60-4851-e291-354effbf087e"
      },
      "outputs": [
        {
          "name": "stdout",
          "output_type": "stream",
          "text": [
            "0\n"
          ]
        }
      ],
      "source": [
        "# 결측값 0값으로 대체\n",
        "df_train['ver_win_ratio_per_bu'].fillna(0, inplace=True)\n",
        "df_test['ver_win_ratio_per_bu'].fillna(0, inplace=True)\n",
        "\n",
        "print(df_train['ver_win_ratio_per_bu'].isnull().sum())"
      ]
    },
    {
      "cell_type": "markdown",
      "id": "f3b9e6d5",
      "metadata": {
        "id": "f3b9e6d5"
      },
      "source": [
        "#### 26. business_area"
      ]
    },
    {
      "cell_type": "markdown",
      "id": "59251185",
      "metadata": {
        "id": "59251185"
      },
      "source": [
        "고객의 사업 영역"
      ]
    },
    {
      "cell_type": "code",
      "execution_count": 157,
      "id": "c29b0b17",
      "metadata": {
        "colab": {
          "base_uri": "https://localhost:8080/"
        },
        "id": "c29b0b17",
        "outputId": "23e41c63-e03e-484f-c2de-9337c41a8973"
      },
      "outputs": [
        {
          "data": {
            "text/plain": [
              "business_area\n",
              "corporate / office                4097\n",
              "retail                            3011\n",
              "hotel & accommodation             2013\n",
              "special purpose                   1929\n",
              "residential (home)                1818\n",
              "education                         1727\n",
              "hospital & health care            1199\n",
              "factory                           1035\n",
              "government department              650\n",
              "public facility                    519\n",
              "transportation                     306\n",
              "power plant / renewable energy     113\n",
              "Name: count, dtype: int64"
            ]
          },
          "execution_count": 157,
          "metadata": {},
          "output_type": "execute_result"
        }
      ],
      "source": [
        "df_train['business_area'].value_counts()"
      ]
    },
    {
      "cell_type": "code",
      "execution_count": 158,
      "id": "15dc77fc",
      "metadata": {
        "colab": {
          "base_uri": "https://localhost:8080/"
        },
        "id": "15dc77fc",
        "outputId": "4df74019-5713-4bd1-987f-2747510bbda0"
      },
      "outputs": [
        {
          "name": "stdout",
          "output_type": "stream",
          "text": [
            "40882\n"
          ]
        }
      ],
      "source": [
        "print(df_train['business_area'].isnull().sum())"
      ]
    },
    {
      "cell_type": "code",
      "execution_count": 159,
      "id": "d489b1a3",
      "metadata": {
        "colab": {
          "base_uri": "https://localhost:8080/"
        },
        "id": "d489b1a3",
        "outputId": "cbd21662-196b-4289-8544-aef9c9589937"
      },
      "outputs": [
        {
          "name": "stdout",
          "output_type": "stream",
          "text": [
            "0\n"
          ]
        }
      ],
      "source": [
        "# 결측값 'unknown' 값으로 대체\n",
        "df_train['business_area'].fillna('unknown', inplace=True)\n",
        "df_test['business_area'].fillna('unknown', inplace=True)\n",
        "\n",
        "print(df_train['business_area'].isnull().sum())"
      ]
    },
    {
      "cell_type": "markdown",
      "id": "ffa58d59",
      "metadata": {
        "id": "ffa58d59"
      },
      "source": [
        "#### 27. business_subarea"
      ]
    },
    {
      "cell_type": "markdown",
      "id": "d2e99a25",
      "metadata": {
        "id": "d2e99a25"
      },
      "source": [
        "고객의 세부 사업 영역"
      ]
    },
    {
      "cell_type": "code",
      "execution_count": 160,
      "id": "a651eb6a",
      "metadata": {
        "colab": {
          "base_uri": "https://localhost:8080/"
        },
        "id": "a651eb6a",
        "outputId": "a20426e1-868f-4b8e-c1d3-002fcbff4839"
      },
      "outputs": [
        {
          "data": {
            "text/plain": [
              "business_subarea\n",
              "Others                           1740\n",
              "Other Stores                      280\n",
              "Hospital                          267\n",
              "Manufacturing Factory / Plant     196\n",
              "Construction                      191\n",
              "                                 ... \n",
              "Duty Free Shop                      2\n",
              "Dormitory                           1\n",
              "Casino Resort                       1\n",
              "Holdings                            1\n",
              "Travel Agency                       1\n",
              "Name: count, Length: 86, dtype: int64"
            ]
          },
          "execution_count": 160,
          "metadata": {},
          "output_type": "execute_result"
        }
      ],
      "source": [
        "df_train['business_subarea'].value_counts()"
      ]
    },
    {
      "cell_type": "code",
      "execution_count": 161,
      "id": "6dcc22f6",
      "metadata": {},
      "outputs": [
        {
          "data": {
            "text/plain": [
              "business_subarea\n",
              "Others                                     667\n",
              "Hotel                                      123\n",
              "Higher Education (College & University)    111\n",
              "Other Stores                                82\n",
              "K12 Kindergarten & Schools                  80\n",
              "                                          ... \n",
              "Travel Agency                                1\n",
              "Aerospace                                    1\n",
              "Botanical Garden / Green House               1\n",
              "Sea Passenger Terminal / Port                1\n",
              "Bus Terminal                                 1\n",
              "Name: count, Length: 80, dtype: int64"
            ]
          },
          "execution_count": 161,
          "metadata": {},
          "output_type": "execute_result"
        }
      ],
      "source": [
        "df_test['business_subarea'].value_counts()"
      ]
    },
    {
      "cell_type": "code",
      "execution_count": 162,
      "id": "93f00012",
      "metadata": {
        "colab": {
          "base_uri": "https://localhost:8080/"
        },
        "id": "93f00012",
        "outputId": "85cec731-5581-4e11-a24a-ee8b2edaa9a8"
      },
      "outputs": [
        {
          "name": "stdout",
          "output_type": "stream",
          "text": [
            "53773\n"
          ]
        }
      ],
      "source": [
        "print(df_train['business_subarea'].isnull().sum())"
      ]
    },
    {
      "cell_type": "code",
      "execution_count": 163,
      "id": "780ec52e",
      "metadata": {
        "colab": {
          "base_uri": "https://localhost:8080/"
        },
        "id": "780ec52e",
        "outputId": "323bdb80-2c0d-43a8-95c7-4098f521d202"
      },
      "outputs": [
        {
          "name": "stdout",
          "output_type": "stream",
          "text": [
            "0\n"
          ]
        }
      ],
      "source": [
        "# 결측값 'Unknown' 값으로 대체\n",
        "df_train['business_subarea'].fillna('Unknown', inplace=True)\n",
        "df_test['business_subarea'].fillna('Unknown', inplace=True)\n",
        "\n",
        "print(df_train['business_subarea'].isnull().sum())"
      ]
    },
    {
      "cell_type": "markdown",
      "id": "18650ac7",
      "metadata": {
        "id": "18650ac7"
      },
      "source": [
        "#### 28. lead_owner"
      ]
    },
    {
      "cell_type": "markdown",
      "id": "2d2c256f",
      "metadata": {
        "id": "2d2c256f"
      },
      "source": [
        "영업 담당자 이름"
      ]
    },
    {
      "cell_type": "code",
      "execution_count": 164,
      "id": "3bbcb0bc",
      "metadata": {
        "colab": {
          "base_uri": "https://localhost:8080/"
        },
        "id": "3bbcb0bc",
        "outputId": "be9b6912-a61d-413d-cf8a-e2999e9a9df6"
      },
      "outputs": [
        {
          "data": {
            "text/plain": [
              "lead_owner\n",
              "174    4627\n",
              "175    4120\n",
              "97     2499\n",
              "23     2453\n",
              "194    2208\n",
              "       ... \n",
              "481       1\n",
              "909       1\n",
              "979       1\n",
              "111       1\n",
              "756       1\n",
              "Name: count, Length: 984, dtype: int64"
            ]
          },
          "execution_count": 164,
          "metadata": {},
          "output_type": "execute_result"
        }
      ],
      "source": [
        "df_train['lead_owner'].value_counts()"
      ]
    },
    {
      "cell_type": "code",
      "execution_count": 165,
      "id": "8aff61b7",
      "metadata": {
        "colab": {
          "base_uri": "https://localhost:8080/"
        },
        "id": "8aff61b7",
        "outputId": "f6aeb607-bf7f-43eb-d230-8e3171e599a7"
      },
      "outputs": [
        {
          "name": "stdout",
          "output_type": "stream",
          "text": [
            "0\n"
          ]
        }
      ],
      "source": [
        "print(df_train['lead_owner'].isnull().sum())"
      ]
    },
    {
      "cell_type": "markdown",
      "id": "05924a32",
      "metadata": {
        "id": "05924a32"
      },
      "source": [
        "#### 29. is_converted (Target)"
      ]
    },
    {
      "cell_type": "markdown",
      "id": "c2dd5e93",
      "metadata": {
        "id": "c2dd5e93"
      },
      "source": [
        "영업 성공 여부\n",
        "True일 시 성공 (True or False 값을 가짐)"
      ]
    },
    {
      "cell_type": "code",
      "execution_count": 166,
      "id": "c00973af",
      "metadata": {
        "colab": {
          "base_uri": "https://localhost:8080/"
        },
        "id": "c00973af",
        "outputId": "8bb87984-8b07-4595-b50f-0777e1c9d121"
      },
      "outputs": [
        {
          "data": {
            "text/plain": [
              "is_converted\n",
              "False    54449\n",
              "True      4850\n",
              "Name: count, dtype: int64"
            ]
          },
          "execution_count": 166,
          "metadata": {},
          "output_type": "execute_result"
        }
      ],
      "source": [
        "df_train['is_converted'].value_counts()"
      ]
    },
    {
      "cell_type": "code",
      "execution_count": 167,
      "id": "eef2d63f",
      "metadata": {},
      "outputs": [
        {
          "name": "stdout",
          "output_type": "stream",
          "text": [
            "<class 'pandas.core.frame.DataFrame'>\n",
            "RangeIndex: 59299 entries, 0 to 59298\n",
            "Data columns (total 29 columns):\n",
            " #   Column                   Non-Null Count  Dtype  \n",
            "---  ------                   --------------  -----  \n",
            " 0   bant_submit              59299 non-null  float64\n",
            " 1   customer_country         59299 non-null  object \n",
            " 2   business_unit            59299 non-null  object \n",
            " 3   com_reg_ver_win_rate     14568 non-null  float64\n",
            " 4   customer_idx             59299 non-null  int64  \n",
            " 5   customer_type            59299 non-null  object \n",
            " 6   enterprise               59299 non-null  object \n",
            " 7   historical_existing_cnt  59299 non-null  float64\n",
            " 8   id_strategic_ver         59299 non-null  float64\n",
            " 9   it_strategic_ver         59299 non-null  float64\n",
            " 10  idit_strategic_ver       59299 non-null  float64\n",
            " 11  customer_job             59299 non-null  object \n",
            " 12  lead_desc_length         59299 non-null  int64  \n",
            " 13  inquiry_type             59299 non-null  object \n",
            " 14  product_category         59299 non-null  object \n",
            " 15  product_subcategory      59299 non-null  object \n",
            " 16  product_modelname        59299 non-null  object \n",
            " 17  customer_country.1       59299 non-null  object \n",
            " 18  customer_position        59299 non-null  object \n",
            " 19  response_corporate       59299 non-null  object \n",
            " 20  expected_timeline        59299 non-null  object \n",
            " 21  ver_cus                  59299 non-null  int64  \n",
            " 22  ver_pro                  59299 non-null  int64  \n",
            " 23  ver_win_rate_x           59299 non-null  float64\n",
            " 24  ver_win_ratio_per_bu     59299 non-null  float64\n",
            " 25  business_area            59299 non-null  object \n",
            " 26  business_subarea         59299 non-null  object \n",
            " 27  lead_owner               59299 non-null  int64  \n",
            " 28  is_converted             59299 non-null  bool   \n",
            "dtypes: bool(1), float64(8), int64(5), object(15)\n",
            "memory usage: 12.7+ MB\n"
          ]
        }
      ],
      "source": [
        "df_train.info()"
      ]
    },
    {
      "cell_type": "code",
      "execution_count": 168,
      "id": "c1ad1f36",
      "metadata": {},
      "outputs": [
        {
          "name": "stdout",
          "output_type": "stream",
          "text": [
            "<class 'pandas.core.frame.DataFrame'>\n",
            "RangeIndex: 5271 entries, 0 to 5270\n",
            "Data columns (total 30 columns):\n",
            " #   Column                   Non-Null Count  Dtype  \n",
            "---  ------                   --------------  -----  \n",
            " 0   id                       5271 non-null   int64  \n",
            " 1   bant_submit              5271 non-null   float64\n",
            " 2   customer_country         5271 non-null   object \n",
            " 3   business_unit            5271 non-null   object \n",
            " 4   com_reg_ver_win_rate     1788 non-null   float64\n",
            " 5   customer_idx             5271 non-null   int64  \n",
            " 6   customer_type            5271 non-null   object \n",
            " 7   enterprise               5271 non-null   object \n",
            " 8   historical_existing_cnt  5271 non-null   float64\n",
            " 9   id_strategic_ver         5271 non-null   float64\n",
            " 10  it_strategic_ver         5271 non-null   float64\n",
            " 11  idit_strategic_ver       5271 non-null   float64\n",
            " 12  customer_job             5271 non-null   object \n",
            " 13  lead_desc_length         5271 non-null   int64  \n",
            " 14  inquiry_type             5271 non-null   object \n",
            " 15  product_category         5271 non-null   object \n",
            " 16  product_subcategory      5271 non-null   object \n",
            " 17  product_modelname        5271 non-null   object \n",
            " 18  customer_country.1       5271 non-null   object \n",
            " 19  customer_position        5271 non-null   object \n",
            " 20  response_corporate       5271 non-null   object \n",
            " 21  expected_timeline        5271 non-null   object \n",
            " 22  ver_cus                  5271 non-null   int64  \n",
            " 23  ver_pro                  5271 non-null   int64  \n",
            " 24  ver_win_rate_x           5271 non-null   float64\n",
            " 25  ver_win_ratio_per_bu     5271 non-null   float64\n",
            " 26  business_area            5271 non-null   object \n",
            " 27  business_subarea         5271 non-null   object \n",
            " 28  lead_owner               5271 non-null   int64  \n",
            " 29  is_converted             5271 non-null   bool   \n",
            "dtypes: bool(1), float64(8), int64(6), object(15)\n",
            "memory usage: 1.2+ MB\n"
          ]
        }
      ],
      "source": [
        "df_test.info()"
      ]
    },
    {
      "cell_type": "code",
      "execution_count": 169,
      "id": "c5f980f7",
      "metadata": {},
      "outputs": [],
      "source": [
        "df_train.to_csv('data/Ch2/df_train.csv', index=False)\n",
        "df_test.to_csv('data/Ch2/df_test.csv', index=False)"
      ]
    },
    {
      "cell_type": "markdown",
      "id": "73e15069",
      "metadata": {},
      "source": [
        "."
      ]
    }
  ],
  "metadata": {
    "colab": {
      "provenance": []
    },
    "kernelspec": {
      "display_name": "Python 3 (ipykernel)",
      "language": "python",
      "name": "python3"
    },
    "language_info": {
      "codemirror_mode": {
        "name": "ipython",
        "version": 3
      },
      "file_extension": ".py",
      "mimetype": "text/x-python",
      "name": "python",
      "nbconvert_exporter": "python",
      "pygments_lexer": "ipython3",
      "version": "3.10.4"
    }
  },
  "nbformat": 4,
  "nbformat_minor": 5
}
