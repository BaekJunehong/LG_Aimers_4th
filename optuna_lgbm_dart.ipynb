{
 "cells": [
  {
   "cell_type": "markdown",
   "metadata": {},
   "source": [
    "## 1. 데이터 확인"
   ]
  },
  {
   "cell_type": "markdown",
   "metadata": {},
   "source": [
    "설치안되어있는경우 설치 필요"
   ]
  },
  {
   "cell_type": "code",
   "execution_count": 2,
   "metadata": {},
   "outputs": [],
   "source": [
    "# %pip install category_encoders"
   ]
  },
  {
   "cell_type": "markdown",
   "metadata": {},
   "source": [
    "라이브러리 불러오기"
   ]
  },
  {
   "cell_type": "code",
   "execution_count": 3,
   "metadata": {},
   "outputs": [],
   "source": [
    "import pandas as pd\n",
    "import numpy as np\n",
    "\n",
    "import warnings\n",
    "warnings.filterwarnings('ignore') # 경고 메세지 무시"
   ]
  },
  {
   "cell_type": "markdown",
   "metadata": {},
   "source": [
    "데이터 불러오기"
   ]
  },
  {
   "cell_type": "code",
   "execution_count": 4,
   "metadata": {},
   "outputs": [],
   "source": [
    "df_train = pd.read_csv(\"./data/train.csv\") # 학습용 데이터\n",
    "df_test = pd.read_csv(\"./data/submission.csv\") # 테스트 데이터(제출파일의 데이터)"
   ]
  },
  {
   "cell_type": "code",
   "execution_count": 5,
   "metadata": {},
   "outputs": [
    {
     "name": "stdout",
     "output_type": "stream",
     "text": [
      "<class 'pandas.core.frame.DataFrame'>\n",
      "RangeIndex: 59299 entries, 0 to 59298\n",
      "Data columns (total 29 columns):\n",
      " #   Column                   Non-Null Count  Dtype  \n",
      "---  ------                   --------------  -----  \n",
      " 0   bant_submit              59299 non-null  float64\n",
      " 1   customer_country         58317 non-null  object \n",
      " 2   business_unit            59299 non-null  object \n",
      " 3   com_reg_ver_win_rate     14568 non-null  float64\n",
      " 4   customer_idx             59299 non-null  int64  \n",
      " 5   customer_type            15338 non-null  object \n",
      " 6   enterprise               59299 non-null  object \n",
      " 7   historical_existing_cnt  13756 non-null  float64\n",
      " 8   id_strategic_ver         3444 non-null   float64\n",
      " 9   it_strategic_ver         1121 non-null   float64\n",
      " 10  idit_strategic_ver       4565 non-null   float64\n",
      " 11  customer_job             40566 non-null  object \n",
      " 12  lead_desc_length         59299 non-null  int64  \n",
      " 13  inquiry_type             58358 non-null  object \n",
      " 14  product_category         39925 non-null  object \n",
      " 15  product_subcategory      9235 non-null   object \n",
      " 16  product_modelname        9229 non-null   object \n",
      " 17  customer_country.1       58317 non-null  object \n",
      " 18  customer_position        59299 non-null  object \n",
      " 19  response_corporate       59299 non-null  object \n",
      " 20  expected_timeline        28436 non-null  object \n",
      " 21  ver_cus                  59299 non-null  int64  \n",
      " 22  ver_pro                  59299 non-null  int64  \n",
      " 23  ver_win_rate_x           18417 non-null  float64\n",
      " 24  ver_win_ratio_per_bu     15304 non-null  float64\n",
      " 25  business_area            18417 non-null  object \n",
      " 26  business_subarea         5526 non-null   object \n",
      " 27  lead_owner               59299 non-null  int64  \n",
      " 28  is_converted             59299 non-null  bool   \n",
      "dtypes: bool(1), float64(8), int64(5), object(15)\n",
      "memory usage: 12.7+ MB\n"
     ]
    }
   ],
   "source": [
    "df_train.info()"
   ]
  },
  {
   "cell_type": "markdown",
   "metadata": {},
   "source": [
    "## 2. 데이터 전처리"
   ]
  },
  {
   "cell_type": "markdown",
   "metadata": {},
   "source": [
    "### bant_submit, business_unit, enterprise 변수"
   ]
  },
  {
   "cell_type": "markdown",
   "metadata": {},
   "source": [
    "따로 처리한 부분 없음"
   ]
  },
  {
   "cell_type": "markdown",
   "metadata": {},
   "source": [
    "### customer_country, customer_country.1 변수"
   ]
  },
  {
   "cell_type": "code",
   "execution_count": 6,
   "metadata": {},
   "outputs": [],
   "source": [
    "def process_customer_country_tokenized(df, column_name):\n",
    "    for i, entry in enumerate(df[column_name]):\n",
    "        if isinstance(entry, str):\n",
    "            tokens = [token.strip() for token in entry.replace('/', ',').split(',') if token.strip() != '']\n",
    "            if tokens:\n",
    "                df.at[i, column_name] = tokens[-1]\n",
    "            else:\n",
    "                df.at[i, column_name] = np.nan\n",
    "        else:\n",
    "            df.at[i, column_name] = np.nan\n",
    "    return df"
   ]
  },
  {
   "cell_type": "markdown",
   "metadata": {},
   "source": [
    "customer_country, customer_country.1 값을 토큰화 하여 말단 단어 추출"
   ]
  },
  {
   "cell_type": "code",
   "execution_count": 7,
   "metadata": {},
   "outputs": [],
   "source": [
    "df_train = process_customer_country_tokenized(df_train, 'customer_country')\n",
    "df_train = process_customer_country_tokenized(df_train, 'customer_country.1')\n",
    "\n",
    "df_test = process_customer_country_tokenized(df_test, 'customer_country')\n",
    "df_test = process_customer_country_tokenized(df_test, 'customer_country.1')"
   ]
  },
  {
   "cell_type": "code",
   "execution_count": 8,
   "metadata": {},
   "outputs": [],
   "source": [
    "# 미국 주 이름 카테고리화\n",
    "us_states = ['AL', 'AK', 'AZ', 'AR', 'CA', 'CO', 'CT', 'DE', 'DC', 'FL', 'GA', 'HI', 'ID', 'IL', 'IN', 'IA', 'KS', 'KY', 'LA', 'ME', 'MD', 'MA', 'MI', 'MN', 'MS', 'MO', 'MT', 'NE', 'NV', 'NH', 'NJ', 'NM', 'NY', 'NC', 'ND', 'OH', 'OK', 'OR', 'PA', 'RI', 'SC', 'SD', 'TN', 'TX', 'UT', 'VT', 'VA', 'WA', 'WV', 'WI', 'WY']\n",
    "\n",
    "df_train['customer_country'] = df_train['customer_country'].replace(us_states, 'United States')\n",
    "df_train['customer_country.1'] = df_train['customer_country.1'].replace(us_states, 'United States')\n",
    "\n",
    "df_test['customer_country'] = df_test['customer_country'].replace(us_states, 'United States')\n",
    "df_test['customer_country.1'] = df_test['customer_country.1'].replace(us_states, 'United States')"
   ]
  },
  {
   "cell_type": "markdown",
   "metadata": {},
   "source": [
    "LG 사이트에서 작성된 나라정보를 리스트화"
   ]
  },
  {
   "cell_type": "markdown",
   "metadata": {},
   "source": [
    "이때 Test데이터셋 값중 Corporate은 특정 국가나 지역을 나타내는 것이 아니라,  \n",
    "보통 기업이나 조직을 나타내는 용어로 국가 리스트에 따로 포함시키지 않음"
   ]
  },
  {
   "cell_type": "code",
   "execution_count": 9,
   "metadata": {},
   "outputs": [],
   "source": [
    "asia = ['Australia', 'Bangladesh', 'Brunei', 'Cambodia', 'China', 'Fiji', 'Hong Kong', 'India', 'Indonesia', 'Laos', 'Malaysia', 'Maldives', 'Myanmar', 'Nepal', 'New Zealand', 'Papula New Guinea', 'Philippines', 'Singapore', 'Sri Lanka', 'Taiwan', 'Thailand', 'Vietnam', 'Japan', 'South Korea']\n",
    "cis = ['Belarus', 'Kazakhstan', 'Mongolia', 'Russia', 'Turkmenistan', 'Ukraine', 'Uzbekistan']\n",
    "europe = ['Albania', 'Austria', 'Belgium', 'Bosnia and Herzegovina', 'Bulgaria', 'Croatia', 'Cyprus', 'Czech', 'Denmark', 'Estonia', 'Finland', 'France', 'Germany', 'Greece', 'Hungary', 'Iceland', 'Ireland', 'Italy', 'Kosovo', 'Latvia', 'Lithuania', 'Luxembourg', 'Macedonia', 'Montenegro', 'Netherlands', 'Norway', 'Poland', 'Portugal', 'Romania', 'Serbia', 'Slovakia', 'Slovenia', 'Spain', 'Sweden', 'Switzerland', 'United Kingdom', 'Isle of Man', 'Malta']\n",
    "latin_america_and_the_caribbean = ['Anguilla', 'Antigua', 'Argentina', 'Aruba', 'Bahamas', 'Barbados', 'Belize', 'Bermuda', 'Bolivia', 'Brazil', 'British Virgin Islands', 'Cayman Islands', 'Chile', 'Colombia', 'COLOMBIA', 'Costa Rica', 'Cuba', 'Curacao', 'Dominican Republic', 'Ecuador', 'El Salvador', 'Grenada', 'Guatemala', 'Guyana Haiti', 'Honduras', 'Jamaica', 'Mexico', 'Netherlands Antilles', 'Nicaragua', 'Panama', 'Paraguay', 'Peru', 'Puerto Rico', 'Saint Lucia', 'St Kitts', 'St Maarten', 'St Vincent', 'Suriname', 'Trinidad and Tobago', 'Turks and Caicos Islands', 'Uruguay', 'US Virgin Islands', 'Venezuela', 'Antigua and Barbuda', 'Saint Kitts and Nevis']\n",
    "middle_east_and_africa = ['Afghanistan', 'Algeria', 'Angola', 'Armenia', 'Azerbaijan', 'Bahrain', 'Benin', 'Botswana', 'Burkina Faso Cameroon', 'Central African Republic', 'Congo', \"Cote d'Ivoire\", 'Democratic Republic of the Congo', 'Djibouti', 'Egypt', 'EGYPT', 'Equatorial Guinea', 'Ethiopia', 'Gabon', 'Gambia', 'Georgia', 'Ghana', 'Guinea Iran', 'Iraq', 'Israel', 'Ivory Coast', 'Jordan', 'Kenya', 'Kuwait', 'Lebanon', 'Liberia', 'Mali', 'Mauritania', 'Mauritius', 'Morocco', 'Mozambique', 'Namibia', 'Nigeria', 'Oman', 'Pakistan', 'Palestine', 'Qatar', 'Rwanda', 'Sao Tome and Principe', 'Saudi Arabia', 'Senegal', 'Sierra Leone', 'Somalia', 'South Africa', 'Sudan', 'Swaziland', 'Syria', 'Togo', 'Tunisia', 'Türkiye', 'Turkey', 'U.A.E', 'Uganda', 'United Republic of Tanzania', 'Yemen', 'Zambia', 'Eritrea', 'Libya Malawi', 'Zimbabwe']\n",
    "north_america = ['Canada', 'United States', 'UNITED STATES']"
   ]
  },
  {
   "cell_type": "code",
   "execution_count": 10,
   "metadata": {},
   "outputs": [],
   "source": [
    "def update_country(country):\n",
    "    if country in asia:\n",
    "        return country\n",
    "    elif country in cis:\n",
    "        return country\n",
    "    elif country in europe:\n",
    "        return country\n",
    "    elif country in latin_america_and_the_caribbean:\n",
    "        return country\n",
    "    elif country in middle_east_and_africa:\n",
    "        return country\n",
    "    elif country in north_america:\n",
    "        return country\n",
    "    else:\n",
    "        return 'Unknown'\n",
    "\n",
    "df_train['customer_country'] = df_train['customer_country'].apply(update_country)\n",
    "df_test['customer_country'] = df_test['customer_country'].apply(update_country)"
   ]
  },
  {
   "cell_type": "code",
   "execution_count": 11,
   "metadata": {},
   "outputs": [],
   "source": [
    "continent_dict = {country: 'Asia' for country in asia}\n",
    "continent_dict.update({country: 'CIS' for country in cis})\n",
    "continent_dict.update({country: 'Europe' for country in europe})\n",
    "continent_dict.update({country: 'Latin America and the Caribbean' for country in latin_america_and_the_caribbean})\n",
    "continent_dict.update({country: 'Middle East & Africa' for country in middle_east_and_africa})\n",
    "continent_dict.update({country: 'North America' for country in north_america})\n",
    "\n",
    "df_train['customer_country.1'] = df_train['customer_country.1'].replace(continent_dict)\n",
    "df_test['customer_country.1'] = df_test['customer_country.1'].replace(continent_dict)"
   ]
  },
  {
   "cell_type": "markdown",
   "metadata": {},
   "source": [
    "customer_country.1 빈도수이하값 및 결측값에 대한 처리"
   ]
  },
  {
   "cell_type": "code",
   "execution_count": 12,
   "metadata": {},
   "outputs": [],
   "source": [
    "# 'customer_country.1'의 빈도 계산\n",
    "counts_train = df_train['customer_country.1'].value_counts()\n",
    "counts_test = df_test['customer_country.1'].value_counts()\n",
    "\n",
    "# 일정 빈도 이하 unknown 처리\n",
    "find_count_train = counts_train[counts_train <= 30].index\n",
    "find_count_test = counts_test[counts_test <= 2].index\n",
    "\n",
    "# 일정 빈도 이하인 국가를 'Unknown'으로 설정\n",
    "df_train.loc[df_train['customer_country.1'].isin(find_count_train), 'customer_country.1'] = 'Other'\n",
    "df_test.loc[df_test['customer_country.1'].isin(find_count_test), 'customer_country.1'] = 'Other'\n",
    "\n",
    "# 결측값에 대한 처리\n",
    "df_train['customer_country.1'] = df_train['customer_country.1'].fillna('Unknown')\n",
    "df_test['customer_country.1'] = df_test['customer_country.1'].fillna('Unknown')"
   ]
  },
  {
   "cell_type": "code",
   "execution_count": 13,
   "metadata": {},
   "outputs": [],
   "source": [
    "# train 데이터셋에 없는 test 데이터셋에 대한 처리\n",
    "## {'Corporate'} 값이 test 데이터셋에는 존재하는 반면 train 데이터셋에는 없음\n",
    "def replace_unknown_values(row, unique):\n",
    "    if row not in unique:\n",
    "        return 'Other'\n",
    "    else:\n",
    "        return row\n",
    "\n",
    "unique_train_values = df_train['customer_country.1'].unique()\n",
    "df_test['customer_country.1'] = df_test['customer_country.1'].apply(lambda x: replace_unknown_values(x, unique_train_values))"
   ]
  },
  {
   "cell_type": "markdown",
   "metadata": {},
   "source": [
    "### customer_idx 변수"
   ]
  },
  {
   "cell_type": "markdown",
   "metadata": {},
   "source": [
    "특정값에 대한 처리"
   ]
  },
  {
   "cell_type": "code",
   "execution_count": 14,
   "metadata": {},
   "outputs": [],
   "source": [
    "# 'customer_idx'의 빈도 계산\n",
    "counts_train = df_train['customer_idx'].value_counts()\n",
    "\n",
    "# 일정 빈도 이하 처리\n",
    "find_count_train = counts_train[counts_train <= 10].index\n",
    "\n",
    "# 일정 빈도 이하인 customer_idx를 '-1'으로 설정\n",
    "df_train.loc[df_train['customer_idx'].isin(find_count_train), 'customer_idx'] = -1"
   ]
  },
  {
   "cell_type": "code",
   "execution_count": 15,
   "metadata": {},
   "outputs": [],
   "source": [
    "# train 데이터셋에 없는 test 데이터셋에 대한 처리\n",
    "def replace_unknown_values(row, unique):\n",
    "    if row not in unique:\n",
    "        return -1\n",
    "    else:\n",
    "        return row\n",
    "\n",
    "unique_train_values = df_train['customer_idx'].unique()\n",
    "df_test['customer_idx'] = df_test['customer_idx'].apply(lambda x: replace_unknown_values(x, unique_train_values))"
   ]
  },
  {
   "cell_type": "markdown",
   "metadata": {},
   "source": [
    "customer_idx의 값에 대해서 is_converted에 대한 비율 계산"
   ]
  },
  {
   "cell_type": "code",
   "execution_count": 16,
   "metadata": {},
   "outputs": [],
   "source": [
    "# 'customer_idx' 카테고리별로 'is_converted'의 평균과 갯수를 계산\n",
    "idx_target = df_train.groupby('customer_idx')['is_converted'].agg(['mean', 'count']).sort_values(by='mean', ascending=False)"
   ]
  },
  {
   "cell_type": "markdown",
   "metadata": {},
   "source": [
    "계산한 비율에 대해서 customer_idx 값을 특정범위에 대한 범주화"
   ]
  },
  {
   "cell_type": "code",
   "execution_count": 17,
   "metadata": {},
   "outputs": [],
   "source": [
    "# 'mean' 값이 0.9보다 크면 1, 아니면 0을 부여\n",
    "idx_target['label'] = ((idx_target['mean'] > 0.99) & (idx_target['count'] >= 10)).astype(int)\n",
    "\n",
    "# 'idx_target'를 기준으로 'label' 값을 매핑\n",
    "idx_map = idx_target['label'].to_dict()\n",
    "\n",
    "# 'customer_idx' 열을 업데이트\n",
    "df_train['customer_idx_99'] = df_train['customer_idx'].map(idx_map)\n",
    "df_test['customer_idx_99'] = df_test['customer_idx'].map(idx_map)"
   ]
  },
  {
   "cell_type": "code",
   "execution_count": 18,
   "metadata": {},
   "outputs": [],
   "source": [
    "# 'mean' 값이 0.01보다 작으면 1, 아니면 0을 부여\n",
    "idx_target['label'] = ((idx_target['mean'] < 0.01)& (idx_target['count'] >= 10)).astype(int)\n",
    "\n",
    "# 'idx_target'를 기준으로 'label' 값을 매핑\n",
    "idx_map = idx_target['label'].to_dict()\n",
    "\n",
    "# 'customer_idx' 열을 업데이트\n",
    "df_train['customer_idx_001'] = df_train['customer_idx'].map(idx_map)\n",
    "df_test['customer_idx_001'] = df_test['customer_idx'].map(idx_map)"
   ]
  },
  {
   "cell_type": "markdown",
   "metadata": {},
   "source": [
    "### customer_type 변수"
   ]
  },
  {
   "cell_type": "markdown",
   "metadata": {},
   "source": [
    "오타나 연관 단어에 대해서 관련 값으로 변환"
   ]
  },
  {
   "cell_type": "code",
   "execution_count": 19,
   "metadata": {},
   "outputs": [],
   "source": [
    "# 카테고리 재할당\n",
    "df_train['customer_type'] = df_train['customer_type'].replace({\n",
    "    'Others': 'Other',\n",
    "    'Etc.': 'Other',\n",
    "    'Software / Solution Provider': 'Software/Solution Provider',\n",
    "    'Specifier/ Influencer': 'Specifier/Influencer',\n",
    "    'Specifier / Influencer': 'Specifier/Influencer',\n",
    "    'Distributor': 'Dealer/Distributor',\n",
    "    'Homeowner': 'Home Owner',\n",
    "    'Manager / Director' : 'Manager/Director',\n",
    "    'Commercial end-user': 'End-user',\n",
    "    'End-Customer': 'End Customer',\n",
    "    'Consultant': 'Architect/Consultant',\n",
    "    'Installer': 'Specifier/Influencer',\n",
    "    'Installer/Contractor': 'Specifier/Influencer',\n",
    "    \n",
    "    # LG 카테고리 참고함\n",
    "    'Corporate' : 'End Customer',\n",
    "    'Dealer/Distributor' : 'Channel Partner',\n",
    "    'Reseller' : 'Channel Partner',\n",
    "    'Technician': 'Specifier/Influencer',\n",
    "    'Architect/Consultant': 'Specifier/Influencer',\n",
    "    'Developer': 'End Customer',  \n",
    "})\n",
    "\n",
    "df_test['customer_type'] = df_test['customer_type'].replace({\n",
    "    'Specifier/ Influencer': 'Specifier/Influencer',\n",
    "    'End-Customer': 'End Customer',\n",
    "\n",
    "    # LG 카테고리 참고함\n",
    "    'Developer': 'End Customer',\n",
    "})"
   ]
  },
  {
   "cell_type": "markdown",
   "metadata": {},
   "source": [
    "결측값 대체"
   ]
  },
  {
   "cell_type": "code",
   "execution_count": 20,
   "metadata": {},
   "outputs": [],
   "source": [
    "# 'customer_type' 변수에서 NaN 값을 'Unknown' 으로 대체\n",
    "df_train['customer_type'] = df_train['customer_type'].fillna('Unknown')\n",
    "df_test['customer_type'] = df_test['customer_type'].fillna('Unknown')"
   ]
  },
  {
   "cell_type": "markdown",
   "metadata": {},
   "source": [
    "이때 customer_type 값을 처리하는 과정에서  \n",
    "End Customer가 End-user에 해당한다는것을 알수 있음으로 값을 바꿔줌"
   ]
  },
  {
   "cell_type": "code",
   "execution_count": 21,
   "metadata": {},
   "outputs": [],
   "source": [
    "# 카테고리 재할당\n",
    "df_train['customer_type'] = df_train['customer_type'].replace({\n",
    "    'End Customer': 'End-user'\n",
    "})\n",
    "df_test['customer_type'] = df_test['customer_type'].replace({\n",
    "    'End Customer': 'End-user'\n",
    "})"
   ]
  },
  {
   "cell_type": "markdown",
   "metadata": {},
   "source": [
    "### historical_existing_cnt 변수"
   ]
  },
  {
   "cell_type": "markdown",
   "metadata": {},
   "source": [
    "결측값 대체"
   ]
  },
  {
   "cell_type": "code",
   "execution_count": 22,
   "metadata": {},
   "outputs": [],
   "source": [
    "# median 값으로 대체(이때 median값은 4)\n",
    "cnt_train_med = df_train['historical_existing_cnt'].median()\n",
    "cnt_test_med = df_test['historical_existing_cnt'].median()\n",
    "\n",
    "# median 값으로 결측값 대체\n",
    "df_train['historical_existing_cnt'] = df_train['historical_existing_cnt'].fillna(cnt_train_med)\n",
    "df_test['historical_existing_cnt'] = df_test['historical_existing_cnt'].fillna(cnt_test_med)"
   ]
  },
  {
   "cell_type": "markdown",
   "metadata": {},
   "source": [
    "Min-Max 스케일링"
   ]
  },
  {
   "cell_type": "code",
   "execution_count": 23,
   "metadata": {},
   "outputs": [],
   "source": [
    "# Min-Max 스케일링 \n",
    "min_value = df_train['historical_existing_cnt'].min()\n",
    "max_value = df_train['historical_existing_cnt'].max()\n",
    "\n",
    "\n",
    "df_train['historical_existing_cnt'] = (df_train['historical_existing_cnt'] - min_value) / (max_value - min_value)\n",
    "df_test['historical_existing_cnt'] = (df_test['historical_existing_cnt'] - min_value) / (max_value - min_value)\n"
   ]
  },
  {
   "cell_type": "markdown",
   "metadata": {},
   "source": [
    "### id_strategic_ver, it_strategic_ver, idit_strategic_ver 변수"
   ]
  },
  {
   "cell_type": "markdown",
   "metadata": {},
   "source": [
    "결측값 대체"
   ]
  },
  {
   "cell_type": "code",
   "execution_count": 24,
   "metadata": {},
   "outputs": [],
   "source": [
    "# 누락된 값을 0으로 채우기\n",
    "df_train['id_strategic_ver'].fillna(0, inplace=True)\n",
    "df_train['it_strategic_ver'].fillna(0, inplace=True)\n",
    "df_train['idit_strategic_ver'].fillna(0, inplace=True)\n",
    "\n",
    "df_test['id_strategic_ver'].fillna(0, inplace=True)\n",
    "df_test['it_strategic_ver'].fillna(0, inplace=True)\n",
    "df_test['idit_strategic_ver'].fillna(0, inplace=True)"
   ]
  },
  {
   "cell_type": "markdown",
   "metadata": {},
   "source": [
    "### customer_job 변수"
   ]
  },
  {
   "cell_type": "markdown",
   "metadata": {},
   "source": [
    "오타관련 값에 대한 변환  \n",
    "LG 홈페이지에서 제공된 job 리스트에 해당 안되는 값에 대한 변환"
   ]
  },
  {
   "cell_type": "code",
   "execution_count": 25,
   "metadata": {},
   "outputs": [],
   "source": [
    "def search_job(customer_job):\n",
    "    # LG list 참고\n",
    "    job = ['accounting','administrative','arts and design','business development','community and social services','consulting','curation','education','engineering', 'entrepreneurship','finance','healthcare services','human resources','information technology','legal','marketing','media and communication','military and protective services operations','product management', 'program and project management','purchasing','quality assurance','real estate','research','sales','support','others']\n",
    "\n",
    "    # (오타변환)'media and communications'를 'media and communication'으로 변환\n",
    "    if customer_job == 'media and communications':\n",
    "        customer_job = 'media and communication'\n",
    "    \n",
    "    if not customer_job:\n",
    "        return 'others'\n",
    "    elif customer_job in job:\n",
    "        return customer_job\n",
    "    else:\n",
    "        return 'unknown'\n",
    "\n",
    "df_train['customer_job'] = df_train['customer_job'].apply(search_job)\n",
    "df_test['customer_job'] = df_test['customer_job'].apply(search_job)"
   ]
  },
  {
   "cell_type": "markdown",
   "metadata": {},
   "source": [
    "### lead_desc_length 변수"
   ]
  },
  {
   "cell_type": "markdown",
   "metadata": {},
   "source": [
    "Min-Max 스케일링"
   ]
  },
  {
   "cell_type": "code",
   "execution_count": 26,
   "metadata": {},
   "outputs": [],
   "source": [
    "# Min-Max 스케일링 \n",
    "min_value = df_train['lead_desc_length'].min()\n",
    "max_value = df_train['lead_desc_length'].max()\n",
    "\n",
    "df_train['lead_desc_length'] = (df_train['lead_desc_length'] - min_value) / (max_value - min_value)\n",
    "df_test['lead_desc_length'] = (df_test['lead_desc_length'] - min_value) / (max_value - min_value)"
   ]
  },
  {
   "cell_type": "markdown",
   "metadata": {},
   "source": [
    "결측값 대체"
   ]
  },
  {
   "cell_type": "code",
   "execution_count": 27,
   "metadata": {},
   "outputs": [],
   "source": [
    "# 누락된 값을 0으로 채우기\n",
    "df_train['lead_desc_length'].fillna(0, inplace=True)\n",
    "df_test['lead_desc_length'].fillna(0, inplace=True)"
   ]
  },
  {
   "cell_type": "markdown",
   "metadata": {},
   "source": [
    "### inquiry_type 변수"
   ]
  },
  {
   "cell_type": "markdown",
   "metadata": {},
   "source": [
    "오타나 연관 단어에 대해서 관련 값으로 변환"
   ]
  },
  {
   "cell_type": "code",
   "execution_count": 28,
   "metadata": {},
   "outputs": [],
   "source": [
    "# 'inquiry_type' 열의 철자오류에 대해 일관된 값으로 변환\n",
    "df_train['inquiry_type'] = df_train['inquiry_type'].replace({\n",
    "\n",
    "    'Quotation or purchase consultation': 'Quotation or Purchase Consultation',\n",
    "    'Request for quotation or purchase': 'Quotation or Purchase Consultation',\n",
    "    'quotation_or_purchase_consultation': 'Quotation or Purchase Consultation',\n",
    "    'quotation_': 'Quotation or Purchase Consultation',\n",
    "    'Purchase or Quotation': 'Quotation or Purchase Consultation',\n",
    "    'Quotation or Purchase consultation': 'Quotation or Purchase Consultation',\n",
    "    'Purchase': 'Quotation or Purchase Consultation',\n",
    "    'quotation_or_purchase_consultation': 'Quotation or Purchase Consultation',\n",
    "    'quotation_': 'Quotation or Purchase Consultation',\n",
    "    'quotation_': 'Quotation or Purchase Consultation',\n",
    "\n",
    "    'Usage or technical consultation': 'Usage or Technical Consultation',\n",
    "    'Technical Consultation': 'Usage or Technical Consultation',\n",
    "    'usage or technical consultation': 'Usage or Technical Consultation',\n",
    "    'usage_or_technical_consultation': 'Usage or Technical Consultation',\n",
    "    'Request for technical consulting': 'Usage or Technical Consultation',\n",
    "    'technical_consultation': 'Usage or Technical Consultation',\n",
    "    'technical': 'Usage or Technical Consultation',\n",
    "\n",
    "    'sales':'Sales Inquiry',\n",
    "    'Sales inquiry':'Sales Inquiry',\n",
    "\n",
    "    'other': 'Other',\n",
    "    'other_': 'Other',\n",
    "    'others': 'Other',\n",
    "    'Others' : 'Other',\n",
    "    'Etc.': 'Other',\n",
    "    'ETC.': 'Other'\n",
    "\n",
    "})\n",
    "\n",
    "df_test['inquiry_type'] = df_test['inquiry_type'].replace({\n",
    "\n",
    "    'Technical Consultation': 'Usage or Technical Consultation',\n",
    "\n",
    "    'other_': 'Other',\n",
    "    'Others' : 'Other',\n",
    "\n",
    "})"
   ]
  },
  {
   "cell_type": "markdown",
   "metadata": {},
   "source": [
    "특정값에 대한 처리('Other' 값으로 변환)"
   ]
  },
  {
   "cell_type": "code",
   "execution_count": 29,
   "metadata": {},
   "outputs": [],
   "source": [
    "# 'inquiry_type' 열의 값별 개수를 계산합니다.\n",
    "value_counts = df_train['inquiry_type'].value_counts()\n",
    "\n",
    "# 2개 이하인 값들의 리스트를 만듭니다.\n",
    "to_replace = value_counts[value_counts <= 2].index\n",
    "\n",
    "# 2개 이하인 값들을 'Other'로 업데이트합니다.\n",
    "df_train['inquiry_type'] = df_train['inquiry_type'].replace(to_replace, 'Other')"
   ]
  },
  {
   "cell_type": "code",
   "execution_count": 30,
   "metadata": {},
   "outputs": [],
   "source": [
    "# train 데이터셋에 없는 test 데이터셋에 대한 처리\n",
    "## test 데이터셋 값중 {'Media Inquiry'} 값에 대한 처리\n",
    "def replace_unknown_values(row, unique):\n",
    "    if row not in unique:\n",
    "        return 'Other'\n",
    "    else:\n",
    "        return row\n",
    "\n",
    "unique_train_values = df_train['inquiry_type'].unique()\n",
    "df_test['inquiry_type'] = df_test['inquiry_type'].apply(lambda x: replace_unknown_values(x, unique_train_values))"
   ]
  },
  {
   "cell_type": "markdown",
   "metadata": {},
   "source": [
    "결측값 대체('Unknown' 값으로 변환)"
   ]
  },
  {
   "cell_type": "code",
   "execution_count": 31,
   "metadata": {},
   "outputs": [],
   "source": [
    "# 'inquiry_type' 변수에서 NaN 값을 'Unknown' 으로 대체\n",
    "df_train['inquiry_type'] = df_train['inquiry_type'].fillna('Unknown')\n",
    "df_test['inquiry_type'] = df_test['inquiry_type'].fillna('Unknown')"
   ]
  },
  {
   "cell_type": "markdown",
   "metadata": {},
   "source": [
    "### product_category 변수"
   ]
  },
  {
   "cell_type": "markdown",
   "metadata": {},
   "source": [
    "특정값에 대해서 관련 값으로 변환"
   ]
  },
  {
   "cell_type": "code",
   "execution_count": 32,
   "metadata": {},
   "outputs": [],
   "source": [
    "df_train['product_category'] = df_train['product_category'].replace({\n",
    "    'notebook': 'laptop',\n",
    "    'others': 'other',\n",
    "    'ess': 'other',\n",
    "    'signage care solution': 'other',\n",
    "})\n",
    "\n",
    "df_test['product_category'] = df_test['product_category'].replace({\n",
    "    'notebook': 'laptop',\n",
    "    'others': 'other',\n",
    "    'ess': 'other',\n",
    "    'signage care solution': 'other',\n",
    "})"
   ]
  },
  {
   "cell_type": "markdown",
   "metadata": {},
   "source": [
    "특정 빈도수 이하 값대체"
   ]
  },
  {
   "cell_type": "code",
   "execution_count": 33,
   "metadata": {},
   "outputs": [],
   "source": [
    "# 'product_category'의 빈도 계산\n",
    "counts_train = df_train['product_category'].value_counts()\n",
    "\n",
    "# 빈도가 특정수치 이하인 product_category 를 찾음\n",
    "find_count_train = counts_train[counts_train <= 15].index\n",
    "\n",
    "# 빈도가 특정수치 이하값 \n",
    "df_train.loc[df_train['product_category'].isin(find_count_train), 'product_category'] = 'other'"
   ]
  },
  {
   "cell_type": "markdown",
   "metadata": {},
   "source": [
    "결측값 대체"
   ]
  },
  {
   "cell_type": "code",
   "execution_count": 34,
   "metadata": {},
   "outputs": [],
   "source": [
    "# 'product_category' 변수에서 NaN 값을 'Unknown' 으로 대체\n",
    "df_train['product_category'] = df_train['product_category'].fillna('unknown')\n",
    "df_test['product_category'] = df_test['product_category'].fillna('unknown')"
   ]
  },
  {
   "cell_type": "markdown",
   "metadata": {},
   "source": [
    "### product_subcategory, product_modelname 변수"
   ]
  },
  {
   "cell_type": "markdown",
   "metadata": {},
   "source": [
    "train 데이터셋에 없는 데이터에 대한 처리"
   ]
  },
  {
   "cell_type": "code",
   "execution_count": 35,
   "metadata": {},
   "outputs": [],
   "source": [
    "# train 데이터셋에 없는 test 데이터셋에 대한 처리\n",
    "def replace_unknown(row, unique):\n",
    "    if row not in unique:\n",
    "        return 'Unknown'\n",
    "    else:\n",
    "        return row\n",
    "\n",
    "# product_subcategory 결측값 대체\n",
    "unique_subcategory = df_train['product_subcategory'].unique()\n",
    "df_test['product_subcategory'] = df_test['product_subcategory'].apply(lambda x: replace_unknown(x, unique_subcategory))\n",
    "\n",
    "# product_modelname 결측값 대체\n",
    "unique_modelname = df_train['product_modelname'].unique()\n",
    "df_test['product_modelname'] = df_test['product_modelname'].apply(lambda x: replace_unknown(x, unique_modelname))"
   ]
  },
  {
   "cell_type": "markdown",
   "metadata": {},
   "source": [
    "결측값 대체"
   ]
  },
  {
   "cell_type": "code",
   "execution_count": 36,
   "metadata": {},
   "outputs": [],
   "source": [
    "# 'product_subcategory' 변수에서 NaN 값을 'Unknown' 으로 대체\n",
    "df_train['product_subcategory'] = df_train['product_subcategory'].fillna('Unknown')\n",
    "df_test['product_subcategory'] = df_test['product_subcategory'].fillna('Unknown')\n",
    "\n",
    "# 'product_modelname' 변수에서 NaN 값을 'Unknown' 으로 대체\n",
    "df_train['product_modelname'] = df_train['product_modelname'].fillna('Unknown')\n",
    "df_test['product_modelname'] = df_test['product_modelname'].fillna('Unknown')"
   ]
  },
  {
   "cell_type": "markdown",
   "metadata": {},
   "source": [
    "### customer_position 변수"
   ]
  },
  {
   "cell_type": "markdown",
   "metadata": {},
   "source": [
    "오타에 대한 값이나 관련값으로 대체가능한 값에 대한 처리"
   ]
  },
  {
   "cell_type": "code",
   "execution_count": 37,
   "metadata": {},
   "outputs": [],
   "source": [
    "df_train['customer_position'] = df_train['customer_position'].replace({\n",
    "    'vicepresident': 'vice president',\n",
    "    'vp': 'vice president',\n",
    "    'entrylevel': 'entry level',\n",
    "    'c-levelexecutive': 'c-level executive',\n",
    "    'founder': 'ceo/founder',\n",
    "    'ceo/fundador': 'ceo/founder',\n",
    "    'commercial consultant': 'consultant',\n",
    "    'architect/consultant': 'consultant',\n",
    "    'architecture/consult': 'consultant',\n",
    "    'business unit director': 'director',\n",
    "    'no influence': 'none',\n",
    "    'not applicable': 'none',\n",
    "    'commercial end-user': 'end-user',\n",
    "    'exhibitiontv': 'exhibition',\n",
    "    'decision-influencer': 'decision influencer',\n",
    "    'sales': 'business development/sales',\n",
    "    'subsidiary sales (ise)': 'business development/sales',\n",
    "    'business development': 'business development/sales',\n",
    "    'medical device manufacturer': 'manufacturer',\n",
    "    'assistant professor of enlish': 'assistant professor',\n",
    "    'asst prof.': 'assistant professor',\n",
    "    'prof.': 'professor',\n",
    "    'professor of mathematics': 'professor',\n",
    "    'principal & director': 'director',\n",
    "    'others': 'other',\n",
    "    'decision-maker': 'decision maker',\n",
    "})\n",
    "\n",
    "df_test['customer_position'] = df_test['customer_position'].replace({\n",
    "    'vicepresident': 'vice president',\n",
    "    'vp': 'vice president',\n",
    "    'entrylevel': 'entry level',\n",
    "    'c-levelexecutive': 'c-level executive',\n",
    "    'founder': 'ceo/founder',\n",
    "    'ceo/fundador': 'ceo/founder',\n",
    "    'commercial consultant': 'consultant',\n",
    "    'architect/consultant': 'consultant',\n",
    "    'architecture/consult': 'consultant',\n",
    "    'business unit director': 'director',\n",
    "    'no influence': 'none',\n",
    "    'not applicable': 'none',\n",
    "    'commercial end-user': 'end-user',\n",
    "    'exhibitiontv': 'exhibition',\n",
    "    'decision-influencer': 'decision influencer',\n",
    "    'sales': 'business development/sales',\n",
    "    'subsidiary sales (ise)': 'business development/sales',\n",
    "    'business development': 'business development/sales',\n",
    "    'medical device manufacturer': 'manufacturer',\n",
    "    'assistant professor of enlish': 'assistant professor',\n",
    "    'asst prof.': 'assistant professor',\n",
    "    'prof.': 'professor',\n",
    "    'professor of mathematics': 'professor',\n",
    "    'principal & director': 'director',\n",
    "    'others': 'other'\n",
    "})"
   ]
  },
  {
   "cell_type": "markdown",
   "metadata": {},
   "source": [
    "특정 범주이하의 값에 대한 처리"
   ]
  },
  {
   "cell_type": "code",
   "execution_count": 38,
   "metadata": {},
   "outputs": [],
   "source": [
    "## train\n",
    "# 'inquiry_type' 열의 값별 개수 계산\n",
    "counts_train = df_train['customer_position'].value_counts()\n",
    "counts_test = df_test['customer_position'].value_counts()\n",
    "\n",
    "# 특정수 이하인 값들의 리스트로 만듬\n",
    "replace_train = counts_train[counts_train <= 40].index\n",
    "replace_test = counts_test[counts_test <= 2].index\n",
    "\n",
    "# 특정수 이하인 값들을 'other'로 업데이트\n",
    "df_train['customer_position'] = df_train['customer_position'].replace(replace_train, 'other')\n",
    "df_test['customer_position'] = df_test['customer_position'].replace(replace_test, 'other')"
   ]
  },
  {
   "cell_type": "markdown",
   "metadata": {},
   "source": [
    "### response_corporate 변수"
   ]
  },
  {
   "cell_type": "markdown",
   "metadata": {},
   "source": [
    "특정 범주이하 값 처리"
   ]
  },
  {
   "cell_type": "code",
   "execution_count": 39,
   "metadata": {},
   "outputs": [],
   "source": [
    "# 'response_corporate'의 빈도 계산\n",
    "counts_train = df_train['response_corporate'].value_counts()\n",
    "\n",
    "# 빈도가 특정수치 이하인 product_category 를 찾음\n",
    "find_count_train = counts_train[counts_train <= 5].index\n",
    "\n",
    "# 빈도가 특정수치 이하값 \n",
    "df_train.loc[df_train['response_corporate'].isin(find_count_train), 'response_corporate'] = 'other'"
   ]
  },
  {
   "cell_type": "markdown",
   "metadata": {},
   "source": [
    "train 데이터셋에 없는 값에 대한 처리"
   ]
  },
  {
   "cell_type": "code",
   "execution_count": 40,
   "metadata": {},
   "outputs": [],
   "source": [
    "# train 데이터셋에 없는 test 데이터셋에 대한 처리\n",
    "def replace_unknown_values(row, unique):\n",
    "    if row not in unique:\n",
    "        return 'other'\n",
    "    else:\n",
    "        return row\n",
    "\n",
    "unique_train_values = df_train['response_corporate'].unique()\n",
    "df_test['response_corporate'] = df_test['response_corporate'].apply(lambda x: replace_unknown_values(x, unique_train_values))"
   ]
  },
  {
   "cell_type": "markdown",
   "metadata": {},
   "source": [
    "### expected_timeline 변수"
   ]
  },
  {
   "cell_type": "markdown",
   "metadata": {},
   "source": [
    "'months' , 'year'를 포함하는 값을 추출  \n",
    "(이때 해당안되는 값에 대해서는 etc 값으로 변환)"
   ]
  },
  {
   "cell_type": "code",
   "execution_count": 41,
   "metadata": {},
   "outputs": [],
   "source": [
    "# 'months' , 'year' 포함하는 값 추출(아닌경우 'etc' 값으로 변환)\n",
    "df_train['expected_timeline'] = np.where(df_train['expected_timeline'].str.contains('months|year', na=False), df_train['expected_timeline'], 'etc.')\n",
    "df_test['expected_timeline'] = np.where(df_test['expected_timeline'].str.contains('months|year', na=False), df_test['expected_timeline'], 'etc.')"
   ]
  },
  {
   "cell_type": "markdown",
   "metadata": {},
   "source": [
    "추출한 값에 대해서 관련 값으로 변환"
   ]
  },
  {
   "cell_type": "code",
   "execution_count": 42,
   "metadata": {},
   "outputs": [],
   "source": [
    "df_train['expected_timeline'] = df_train['expected_timeline'].replace({\n",
    "    'less_than_3_months': 'less than 3 months',\n",
    "    '3_months_~_6_months': '3 months ~ 6 months',\n",
    "    '9_months_~_1_year': '9 months ~ 1 year',\n",
    "    'more_than_a_year': 'more than a year',\n",
    "    '6_months_~_9_months': '6 months ~ 9 months',\n",
    "    '9 months - 1 year': '9 months ~ 1 year',\n",
    "    'duplicate lead - il220100042906. less than 3 months': 'less than 3 months',\n",
    "    'less than 3 months ,meeting with the customer for the more details and tentative boq will ne 32 and 43': 'less than 3 months',\n",
    "\n",
    "    'less_than_3_months': 'less than 3 months',\n",
    "    'less than 3 months- outdoor led requiment': 'less than 3 months',\n",
    "    'need to discuss with client in next two months. they need to check the product and accridngly proceed for personal use.': 'less than 3 months',\n",
    "    'quotation sent – 75tr3dj , work in progress, he will buy after 2 months. he has not even seen the quote yet.': 'less than 3 months',\n",
    "    'quote shared with customer, he will confirm after 2 months. lead shared with partner.': 'less than 3 months',\n",
    "    'less than 3 months- outdoor led requiment': 'less than 3 months',\n",
    "    'less than 3 months. customer not answered . to call back': 'less than 3 months',\n",
    "\n",
    "    'purchase planning after 3 months': '3 months ~ 6 months',\n",
    "    'needs hotel tv after 4 months, will call us.': '3 months ~ 6 months',\n",
    "\n",
    "    'we are already in touch with this cutsomer from last 2 years, he has never purchased any product till date. i called him up twice but no reponse.' : 'etc.',\n",
    "    'very abrupt customer. said the inquiry was made months ago and was rude enough. closing in the system as the client behaviour has no scope to discuss on requirement. need marketing team to check if the case was received in dec or jan as per client.' : 'etc.',\n",
    "\n",
    "    # 아래 값들은 근사 기간으로 넣어줌\n",
    "    'more then 3 months': '3 months ~ 6 months',\n",
    "    'less than 5 months': '3 months ~ 6 months',\n",
    "    'less than 6 months': '3 months ~ 6 months',\n",
    "    'less then 6 months': '3 months ~ 6 months',\n",
    "    '3 months': '3 months ~ 6 months',\n",
    "    '4/8 months': '3 months ~ 6 months',\n",
    "\n",
    "})\n",
    "df_test['customer_position'] = df_test['customer_position'].replace({\n",
    "    'less_than_3_months': 'less than 3 months',\n",
    "    '3_months_~_6_months': '3 months ~ 6 months',\n",
    "    '9_months_~_1_year': '9 months ~ 1 year',\n",
    "    'more_than_a_year': 'more than a year',\n",
    "    '6_months_~_9_months': '6 months ~ 9 months'\n",
    "})\n"
   ]
  },
  {
   "cell_type": "markdown",
   "metadata": {},
   "source": [
    "### ver_cus, ver_pro 변수"
   ]
  },
  {
   "cell_type": "markdown",
   "metadata": {},
   "source": [
    "따로처리할 부분 없음"
   ]
  },
  {
   "cell_type": "markdown",
   "metadata": {},
   "source": [
    "### ver_win_rate_x 변수"
   ]
  },
  {
   "cell_type": "markdown",
   "metadata": {},
   "source": [
    "결측값 대체"
   ]
  },
  {
   "cell_type": "code",
   "execution_count": 43,
   "metadata": {},
   "outputs": [],
   "source": [
    "# 'ver_win_rate_x' 변수에서 NaN 값을 0으로 대체\n",
    "df_train['ver_win_rate_x'] = df_train['ver_win_rate_x'].fillna(0)\n",
    "df_test['ver_win_rate_x'] = df_test['ver_win_rate_x'].fillna(0)"
   ]
  },
  {
   "cell_type": "markdown",
   "metadata": {},
   "source": [
    "### ver_win_ratio_per_bu 변수"
   ]
  },
  {
   "cell_type": "markdown",
   "metadata": {},
   "source": [
    "business_area, business_unit 의 변수로 그룹화 진행  \n",
    "해당하는 그룹에서 'ver_win_ratio_per_bu' 의 결측값에 대한 예측"
   ]
  },
  {
   "cell_type": "code",
   "execution_count": 44,
   "metadata": {},
   "outputs": [],
   "source": [
    "grouped = df_train.groupby([\"business_area\",\"business_unit\"])\n",
    "\n",
    "# business_area, business_unit 그룹화하여 샘플 수 계산\n",
    "grouped_counts = df_train.groupby(['business_area', 'business_unit']).size()\n",
    "\n",
    "# business_area, business_unit, is_converted 그룹화하여 영업 전환된(is_converted) 샘플 수 계산\n",
    "converted_counts = df_train[df_train['is_converted']].groupby(['business_area', 'business_unit']).size()\n",
    "\n",
    "# business_area, business_unit별 샘플 수 대비 영업 전환된(is_converted) 샘플 수의 비율 계산\n",
    "conversion_rates = converted_counts / grouped_counts"
   ]
  },
  {
   "cell_type": "markdown",
   "metadata": {},
   "source": [
    "위의 코드를 통해 구한 값에 대해서 해당하는 부분의 값이 결측값인 경우 값대체"
   ]
  },
  {
   "cell_type": "code",
   "execution_count": 45,
   "metadata": {},
   "outputs": [],
   "source": [
    "# 그룹별 값을 딕셔너리로 정의\n",
    "group_values = {\n",
    "    ('corporate / office', 'AS'): 0.029734,\n",
    "    ('corporate / office', 'ID'): 0.088618,\n",
    "    ('corporate / office', 'IT'): 0.033333,\n",
    "    ('corporate / office', 'Solution'): 0.034483,\n",
    "    ('education', 'AS'): 0.066667,\n",
    "    ('education', 'ID'): 0.064897,\n",
    "    ('education', 'IT'): 0.046667,\n",
    "    ('education', 'Solution'): None,\n",
    "    ('factory', 'AS'): 0.059553,\n",
    "    ('factory', 'ID'): 0.068519,\n",
    "    ('factory', 'IT'): 0.337349,\n",
    "    ('factory', 'Solution'): None,\n",
    "    ('government department', 'AS'): 0.040462,\n",
    "    ('government department', 'ID'): 0.076010,\n",
    "    ('government department', 'IT'): None,\n",
    "    ('government department', 'Solution'): None,\n",
    "    ('hospital & health care', 'AS'): 0.096154,\n",
    "    ('hospital & health care', 'ID'): 0.128378,\n",
    "    ('hospital & health care', 'IT'): 0.378771,\n",
    "    ('hotel & accommodation', 'AS'): 0.004831,\n",
    "    ('hotel & accommodation', 'ID'): 0.118902,\n",
    "    ('hotel & accommodation', 'IT'): 0.002528,\n",
    "    ('hotel & accommodation', 'Solution'): None,\n",
    "    ('power plant / renewable energy', 'AS'): 0.129032,\n",
    "    ('power plant / renewable energy', 'ID'): 0.279070,\n",
    "    ('power plant / renewable energy', 'IT'): None,\n",
    "    ('public facility', 'AS'): 0.030000,\n",
    "    ('public facility', 'ID'): 0.099631,\n",
    "    ('public facility', 'IT'): 0.025000,\n",
    "    ('public facility', 'Solution'): None,\n",
    "    ('residential (home)', 'AS'): 0.017582,\n",
    "    ('residential (home)', 'ID'): 0.038961,\n",
    "    ('residential (home)', 'IT'): 0.142857,\n",
    "    ('residential (home)', 'Solution'): None,\n",
    "    ('retail', 'AS'): 0.026650,\n",
    "    ('retail', 'ID'): 0.061637,\n",
    "    ('retail', 'IT'): 0.073620,\n",
    "    ('retail', 'Solution'): None,\n",
    "    ('special purpose', 'AS'): 0.028050,\n",
    "    ('special purpose', 'ID'): 0.070698,\n",
    "    ('special purpose', 'IT'): 0.046296,\n",
    "    ('special purpose', 'Solution'): None,\n",
    "    ('transportation', 'AS'): 0.037736,\n",
    "    ('transportation', 'ID'): 0.064815,\n",
    "    ('transportation', 'IT'): 0.060606,\n",
    "    ('transportation', 'Solution'): None,\n",
    "}\n",
    "\n",
    "# 'business_area'와 'business_unit'에 해당하는 그룹별 값을 'ver_win_ratio_per_bu' 변수에 적용\n",
    "df_train['ver_win_ratio_per_bu'] = df_train.apply(lambda row: group_values.get((row['business_area'], row['business_unit'])), axis=1)\n",
    "df_test['ver_win_ratio_per_bu'] = df_test.apply(lambda row: group_values.get((row['business_area'], row['business_unit'])), axis=1)"
   ]
  },
  {
   "cell_type": "markdown",
   "metadata": {},
   "source": [
    "결측값 대체"
   ]
  },
  {
   "cell_type": "code",
   "execution_count": 46,
   "metadata": {},
   "outputs": [],
   "source": [
    "# 결측값 0값으로 대체\n",
    "df_train['ver_win_ratio_per_bu'].fillna(0, inplace=True)\n",
    "df_test['ver_win_ratio_per_bu'].fillna(0, inplace=True)"
   ]
  },
  {
   "cell_type": "markdown",
   "metadata": {},
   "source": [
    "### business_area, business_subarea 변수"
   ]
  },
  {
   "cell_type": "markdown",
   "metadata": {},
   "source": [
    "결측값 대체"
   ]
  },
  {
   "cell_type": "code",
   "execution_count": 47,
   "metadata": {},
   "outputs": [],
   "source": [
    "# 결측값 'unknown' 값으로 대체\n",
    "df_train['business_area'].fillna('unknown', inplace=True)\n",
    "df_test['business_area'].fillna('unknown', inplace=True)\n",
    "\n",
    "# 결측값 'Unknown' 값으로 대체\n",
    "df_train['business_subarea'].fillna('Unknown', inplace=True)\n",
    "df_test['business_subarea'].fillna('Unknown', inplace=True)"
   ]
  },
  {
   "cell_type": "markdown",
   "metadata": {},
   "source": [
    "### lead_owner 변수"
   ]
  },
  {
   "cell_type": "markdown",
   "metadata": {},
   "source": [
    "특정 빈도수 이하 값에 대한 처리"
   ]
  },
  {
   "cell_type": "code",
   "execution_count": 48,
   "metadata": {},
   "outputs": [],
   "source": [
    "# 'lead_owner'의 빈도 계산\n",
    "counts_train = df_train['lead_owner'].value_counts()\n",
    "\n",
    "# 빈도가 특정수치 이하인 lead_owner 를 찾음\n",
    "find_count_train = counts_train[counts_train <= 10].index\n",
    "\n",
    "# 빈도가 특정수치 이하값 \n",
    "df_train.loc[df_train['lead_owner'].isin(find_count_train), 'lead_owner'] = -1"
   ]
  },
  {
   "cell_type": "markdown",
   "metadata": {},
   "source": [
    "결측값 대체"
   ]
  },
  {
   "cell_type": "code",
   "execution_count": 49,
   "metadata": {},
   "outputs": [],
   "source": [
    "# train 데이터셋에 없는 test 데이터셋에 대한 처리\n",
    "def replace_unknown_values(row, unique):\n",
    "    if row not in unique:\n",
    "        return -1\n",
    "    else:\n",
    "        return row\n",
    "\n",
    "unique_train_values = df_train['lead_owner'].unique()\n",
    "df_test['lead_owner'] = df_test['lead_owner'].apply(lambda x: replace_unknown_values(x, unique_train_values))"
   ]
  },
  {
   "cell_type": "markdown",
   "metadata": {},
   "source": [
    "lead_owner에 대하여 카테고리화하여 is_converted의 비율을 계산  \n",
    "계산한 값에대해서 특정 비율에 해당하는 값에대해서 범주화 진행"
   ]
  },
  {
   "cell_type": "code",
   "execution_count": 50,
   "metadata": {},
   "outputs": [],
   "source": [
    "# 'customer_idx' 카테고리별로 'is_converted'의 평균과 갯수를 계산\n",
    "owner_target = df_train.groupby('lead_owner')['is_converted'].agg(['mean', 'count']).sort_values(by='mean', ascending=False)\n",
    "\n",
    "# 'mean' 값이 특정 값보다 크면 1, 아니면 0을 부여\n",
    "owner_target['label_09'] = (owner_target['mean'] > 0.9).astype(int)\n",
    "owner_target['label_07'] = ((0.9 >= owner_target['mean']) & (owner_target['mean'] > 0.7)).astype(int)\n",
    "owner_target['label_05'] = ((0.7 >= owner_target['mean']) & (owner_target['mean'] > 0.5)).astype(int)\n",
    "owner_target['label_03'] = ((0.5 >= owner_target['mean']) & (owner_target['mean'] > 0.3)).astype(int)\n",
    "owner_target['label_00'] = ((0.001 >= owner_target['mean']) & (owner_target['count'] <= 100)).astype(int)\n",
    "\n",
    "\n",
    "# 'owner_target'를 기준으로 'label' 값을 매핑\n",
    "label_map_09 = owner_target['label_09'].to_dict()\n",
    "label_map_07 = owner_target['label_07'].to_dict()\n",
    "label_map_05 = owner_target['label_05'].to_dict()\n",
    "label_map_03 = owner_target['label_03'].to_dict()\n",
    "label_map_00 = owner_target['label_00'].to_dict()\n",
    "\n",
    "\n",
    "# 'lead_owner' 열을 업데이트\n",
    "df_train['lead_owner_09'] = df_train['lead_owner'].map(label_map_09)\n",
    "df_train['lead_owner_07'] = df_train['lead_owner'].map(label_map_07)\n",
    "df_train['lead_owner_05'] = df_train['lead_owner'].map(label_map_05)\n",
    "df_train['lead_owner_03'] = df_train['lead_owner'].map(label_map_03)\n",
    "df_train['lead_owner_00'] = df_train['lead_owner'].map(label_map_00)\n",
    "\n",
    "df_test['lead_owner_09'] = df_test['lead_owner'].map(label_map_09)\n",
    "df_test['lead_owner_07'] = df_test['lead_owner'].map(label_map_07)\n",
    "df_test['lead_owner_05'] = df_test['lead_owner'].map(label_map_05)\n",
    "df_test['lead_owner_03'] = df_test['lead_owner'].map(label_map_03)\n",
    "df_test['lead_owner_00'] = df_test['lead_owner'].map(label_map_00)"
   ]
  },
  {
   "cell_type": "markdown",
   "metadata": {},
   "source": [
    "## 3. 레이블 인코딩"
   ]
  },
  {
   "cell_type": "code",
   "execution_count": 51,
   "metadata": {},
   "outputs": [],
   "source": [
    "# 인코딩할 컬럼 목록\n",
    "columns_to_encode = [\"customer_country\",\n",
    "                     \"business_subarea\",\n",
    "                     \"business_area\",\n",
    "                     \"business_unit\",\n",
    "                     \"customer_type\",\n",
    "                     \"enterprise\",\n",
    "                     \"customer_job\",\n",
    "                     \"inquiry_type\",\n",
    "                     \"product_category\",\n",
    "                     \"product_subcategory\",\n",
    "                     \"product_modelname\",\n",
    "                     \"customer_country.1\",\n",
    "                     \"customer_position\",\n",
    "                     \"response_corporate\",\n",
    "                     \"expected_timeline\",\n",
    "                     \"customer_idx\",\n",
    "                     \"lead_owner\"\n",
    "                     ]\n",
    "\n",
    "df_train_encoded = df_train.copy()\n",
    "df_test_encoded = df_test.copy()\n",
    "\n",
    "for col in columns_to_encode:\n",
    "    df_train_encoded[col] = df_train_encoded[col].astype('category')\n",
    "    df_test_encoded[col] = df_test_encoded[col].astype('category')"
   ]
  },
  {
   "cell_type": "markdown",
   "metadata": {},
   "source": [
    "타겟인코딩을 통해 범주형 변수들 수치형으로 변환"
   ]
  },
  {
   "cell_type": "code",
   "execution_count": 52,
   "metadata": {},
   "outputs": [],
   "source": [
    "from category_encoders import TargetEncoder\n",
    "\n",
    "smoothing1_list = ['enterprise','response_corporate','business_unit','business_area', 'customer_country.1']\n",
    "smoothing2_list = ['lead_owner', 'customer_idx', 'customer_country']\n",
    "smoothing3_list = [item for item in columns_to_encode if item not in smoothing1_list + smoothing2_list]\n",
    "\n",
    "for col in smoothing1_list:\n",
    "    encoders = {col: TargetEncoder(smoothing=1) for col in smoothing1_list}\n",
    "    df_train_encoded[col] = encoders[col].fit_transform(df_train_encoded[col], df_train['is_converted'])\n",
    "    df_test_encoded[col] = encoders[col].transform(df_test_encoded[col])\n",
    "\n",
    "for col in smoothing2_list:\n",
    "    encoders = {col: TargetEncoder(smoothing=5) for col in smoothing2_list}\n",
    "    df_train_encoded[col] = encoders[col].fit_transform(df_train_encoded[col], df_train['is_converted'])\n",
    "    df_test_encoded[col] = encoders[col].transform(df_test_encoded[col])\n",
    "\n",
    "for col in smoothing3_list:\n",
    "    encoders = {col: TargetEncoder(smoothing=10) for col in smoothing3_list}\n",
    "    df_train_encoded[col] = encoders[col].fit_transform(df_train_encoded[col], df_train['is_converted'])\n",
    "    df_test_encoded[col] = encoders[col].transform(df_test_encoded[col])\n"
   ]
  },
  {
   "cell_type": "markdown",
   "metadata": {},
   "source": [
    "### com_reg_ver_win_rate 변수"
   ]
  },
  {
   "cell_type": "markdown",
   "metadata": {},
   "source": [
    "범주형 데이터에 대해서 수치형으로 변환을 함  \n",
    "이에 com_reg_ver_win_rate 결측값에 대한 예측이 가능해짐"
   ]
  },
  {
   "cell_type": "markdown",
   "metadata": {},
   "source": [
    "랜덤포레스트의 회귀모델을 이용하여 결측값을 예측하여 결측값 대체"
   ]
  },
  {
   "cell_type": "code",
   "execution_count": 53,
   "metadata": {},
   "outputs": [],
   "source": [
    "from sklearn.ensemble import RandomForestRegressor\n",
    "\n",
    "def fill_missing_values(df):\n",
    "    # 데이터에서 결측치가 없는 행과 결측치가 있는 행 분리\n",
    "    train_data = df[df['com_reg_ver_win_rate'].notna()]\n",
    "    test_data = df[df['com_reg_ver_win_rate'].isna()]\n",
    "\n",
    "    # 'com_reg_ver_win_rate'를 예측하는 데 사용할 피처 선택\n",
    "    features = ['business_area', 'business_unit', 'customer_country.1']   \n",
    "\n",
    "    # 훈련 데이터와 테스트 데이터 준비\n",
    "    X_train = train_data[features]\n",
    "    y_train = train_data['com_reg_ver_win_rate']\n",
    "    X_test = test_data[features]\n",
    "\n",
    "    # 랜덤 포레스트 모델 생성 및 훈련\n",
    "    model = RandomForestRegressor(random_state=0)\n",
    "    model.fit(X_train, y_train)\n",
    "\n",
    "    # 모델을 사용해 결측치 예측\n",
    "    predicted_values = model.predict(X_test)\n",
    "\n",
    "    # 예측값으로 결측치 대체\n",
    "    df.loc[df['com_reg_ver_win_rate'].isna(), 'com_reg_ver_win_rate'] = predicted_values\n",
    "\n",
    "\n",
    "# df_train_encoded에 대한 데이터 처리\n",
    "fill_missing_values(df_train_encoded)\n",
    "\n",
    "# df_test_encoded에 대한 데이터 처리\n",
    "fill_missing_values(df_test_encoded)"
   ]
  },
  {
   "cell_type": "markdown",
   "metadata": {},
   "source": [
    "상관관계와 다중공산성을 판단하여 결측값이 많은 product_modelname 변수와  \n",
    "의미없는 변수라고 생각되는 customer_country 변수에 대해서 drop을 진행"
   ]
  },
  {
   "cell_type": "code",
   "execution_count": 54,
   "metadata": {},
   "outputs": [],
   "source": [
    "df_train_encoded = df_train_encoded.drop(['customer_country','product_modelname'], axis=1)\n",
    "df_test_encoded = df_test_encoded.drop(['customer_country','product_modelname'], axis=1) "
   ]
  },
  {
   "cell_type": "code",
   "execution_count": 55,
   "metadata": {},
   "outputs": [
    {
     "name": "stdout",
     "output_type": "stream",
     "text": [
      "<class 'pandas.core.frame.DataFrame'>\n",
      "RangeIndex: 59299 entries, 0 to 59298\n",
      "Data columns (total 34 columns):\n",
      " #   Column                   Non-Null Count  Dtype  \n",
      "---  ------                   --------------  -----  \n",
      " 0   bant_submit              59299 non-null  float64\n",
      " 1   business_unit            59299 non-null  float64\n",
      " 2   com_reg_ver_win_rate     59299 non-null  float64\n",
      " 3   customer_idx             59299 non-null  float64\n",
      " 4   customer_type            59299 non-null  float64\n",
      " 5   enterprise               59299 non-null  float64\n",
      " 6   historical_existing_cnt  59299 non-null  float64\n",
      " 7   id_strategic_ver         59299 non-null  float64\n",
      " 8   it_strategic_ver         59299 non-null  float64\n",
      " 9   idit_strategic_ver       59299 non-null  float64\n",
      " 10  customer_job             59299 non-null  float64\n",
      " 11  lead_desc_length         59299 non-null  float64\n",
      " 12  inquiry_type             59299 non-null  float64\n",
      " 13  product_category         59299 non-null  float64\n",
      " 14  product_subcategory      59299 non-null  float64\n",
      " 15  customer_country.1       59299 non-null  float64\n",
      " 16  customer_position        59299 non-null  float64\n",
      " 17  response_corporate       59299 non-null  float64\n",
      " 18  expected_timeline        59299 non-null  float64\n",
      " 19  ver_cus                  59299 non-null  int64  \n",
      " 20  ver_pro                  59299 non-null  int64  \n",
      " 21  ver_win_rate_x           59299 non-null  float64\n",
      " 22  ver_win_ratio_per_bu     59299 non-null  float64\n",
      " 23  business_area            59299 non-null  float64\n",
      " 24  business_subarea         59299 non-null  float64\n",
      " 25  lead_owner               59299 non-null  float64\n",
      " 26  is_converted             59299 non-null  bool   \n",
      " 27  customer_idx_99          59299 non-null  int64  \n",
      " 28  customer_idx_001         59299 non-null  int64  \n",
      " 29  lead_owner_09            59299 non-null  int64  \n",
      " 30  lead_owner_07            59299 non-null  int64  \n",
      " 31  lead_owner_05            59299 non-null  int64  \n",
      " 32  lead_owner_03            59299 non-null  int64  \n",
      " 33  lead_owner_00            59299 non-null  int64  \n",
      "dtypes: bool(1), float64(24), int64(9)\n",
      "memory usage: 15.0 MB\n"
     ]
    }
   ],
   "source": [
    "df_train_encoded.info()"
   ]
  },
  {
   "cell_type": "markdown",
   "metadata": {},
   "source": [
    "## 4. 모델링"
   ]
  },
  {
   "cell_type": "markdown",
   "metadata": {},
   "source": [
    "### 오버샘플링 및 언더샘플링"
   ]
  },
  {
   "cell_type": "markdown",
   "metadata": {},
   "source": [
    "타겟변수에 대한 값을 변환  \n",
    "(데이터의 오버샘플링과 언더샘플링을 적용하기 위함)"
   ]
  },
  {
   "cell_type": "code",
   "execution_count": 56,
   "metadata": {},
   "outputs": [],
   "source": [
    "from sklearn.model_selection import train_test_split\n",
    "\n",
    "# 타겟변수에 대한 값 변환\n",
    "df_train_encoded.loc[df_train_encoded['is_converted'] == True, 'is_converted'] = 1\n",
    "df_train_encoded.loc[df_train_encoded['is_converted'] == False, 'is_converted'] = 0\n",
    "\n",
    "df_train_encoded['is_converted'] = df_train_encoded['is_converted'].astype(float)\n",
    "\n",
    "X = df_train_encoded[df_train_encoded.columns.drop('is_converted')]\n",
    "Y = df_train_encoded['is_converted']\n",
    "\n",
    "# X와 Y로 나누기\n",
    "x_train, x_val, y_train, y_val = train_test_split(X, Y, test_size=0.2, random_state=0, shuffle=True)\n",
    "\n",
    "# 예측에 필요한 데이터 분리\n",
    "x_test = df_test_encoded.drop([\"is_converted\"], axis=1)"
   ]
  },
  {
   "cell_type": "code",
   "execution_count": 57,
   "metadata": {},
   "outputs": [],
   "source": [
    "from imblearn.over_sampling import SMOTE\n",
    "from imblearn.under_sampling import RandomUnderSampler\n",
    "from imblearn.pipeline import Pipeline\n",
    "\n",
    "# 오버샘플링과 언더샘플링\n",
    "# SMOTE와 RandomUnderSampler를 파이프라인으로 결합\n",
    "resample = Pipeline([('SMOTE', SMOTE(random_state=0)), \n",
    "                     ('RandomUnderSampler', RandomUnderSampler(random_state=0))])\n",
    "\n",
    "# 데이터에 오버샘플링과 언더샘플링 적용\n",
    "x_train, y_train = resample.fit_resample(x_train, y_train)"
   ]
  },
  {
   "cell_type": "markdown",
   "metadata": {},
   "source": [
    "### 모델 라이브러리"
   ]
  },
  {
   "cell_type": "code",
   "execution_count": 58,
   "metadata": {},
   "outputs": [],
   "source": [
    "# 모델 라이브러리\n",
    "from lightgbm import LGBMClassifier\n",
    "from catboost import CatBoostClassifier\n",
    "from xgboost import XGBClassifier\n",
    "from sklearn.tree import DecisionTreeClassifier\n",
    "from sklearn.ensemble import RandomForestClassifier, ExtraTreesClassifier, GradientBoostingClassifier, AdaBoostClassifier\n",
    "\n",
    "# 보팅\n",
    "from sklearn.ensemble import VotingClassifier\n",
    "\n",
    "# 스테킹\n",
    "from sklearn.ensemble import StackingClassifier"
   ]
  },
  {
   "cell_type": "code",
   "execution_count": 60,
   "metadata": {},
   "outputs": [
    {
     "name": "stderr",
     "output_type": "stream",
     "text": [
      "[I 2024-02-22 14:02:00,573] A new study created in memory with name: no-name-b99bb6da-8049-4343-a594-423122e0e85d\n"
     ]
    },
    {
     "name": "stderr",
     "output_type": "stream",
     "text": [
      "[I 2024-02-22 14:02:44,515] Trial 0 finished with value: 0.8262331838565021 and parameters: {'num_leaves': 297, 'max_depth': 15, 'n_estimators': 643, 'learning_rate': 0.05494343511669279, 'min_child_samples': 45}. Best is trial 0 with value: 0.8262331838565021.\n",
      "[I 2024-02-22 14:03:30,296] Trial 1 finished with value: 0.8354856822010106 and parameters: {'num_leaves': 341, 'max_depth': 10, 'n_estimators': 903, 'learning_rate': 0.09640261328960191, 'min_child_samples': 41}. Best is trial 1 with value: 0.8354856822010106.\n",
      "[I 2024-02-22 14:04:07,656] Trial 2 finished with value: 0.8338028169014085 and parameters: {'num_leaves': 407, 'max_depth': 12, 'n_estimators': 611, 'learning_rate': 0.09263406719097345, 'min_child_samples': 11}. Best is trial 1 with value: 0.8354856822010106.\n",
      "[I 2024-02-22 14:04:15,082] Trial 3 finished with value: 0.7742331288343558 and parameters: {'num_leaves': 89, 'max_depth': 2, 'n_estimators': 850, 'learning_rate': 0.0780375183440352, 'min_child_samples': 88}. Best is trial 1 with value: 0.8354856822010106.\n",
      "[I 2024-02-22 14:04:45,889] Trial 4 finished with value: 0.8431703204047217 and parameters: {'num_leaves': 491, 'max_depth': 17, 'n_estimators': 515, 'learning_rate': 0.07827238845235909, 'min_child_samples': 16}. Best is trial 4 with value: 0.8431703204047217.\n",
      "[I 2024-02-22 14:05:03,206] Trial 5 finished with value: 0.7921146953405018 and parameters: {'num_leaves': 338, 'max_depth': 4, 'n_estimators': 951, 'learning_rate': 0.0526629838532571, 'min_child_samples': 44}. Best is trial 4 with value: 0.8431703204047217.\n",
      "[I 2024-02-22 14:05:17,867] Trial 6 finished with value: 0.8369195922989807 and parameters: {'num_leaves': 169, 'max_depth': 16, 'n_estimators': 510, 'learning_rate': 0.05727496093799621, 'min_child_samples': 6}. Best is trial 4 with value: 0.8431703204047217.\n",
      "[I 2024-02-22 14:05:53,793] Trial 7 finished with value: 0.8202816901408452 and parameters: {'num_leaves': 328, 'max_depth': 13, 'n_estimators': 655, 'learning_rate': 0.0944310597729478, 'min_child_samples': 70}. Best is trial 4 with value: 0.8431703204047217.\n",
      "[I 2024-02-22 14:06:23,808] Trial 8 finished with value: 0.7983293556085918 and parameters: {'num_leaves': 212, 'max_depth': 10, 'n_estimators': 728, 'learning_rate': 0.006962321691297714, 'min_child_samples': 69}. Best is trial 4 with value: 0.8431703204047217.\n",
      "[I 2024-02-22 14:06:25,686] Trial 9 finished with value: 0.7759361571516267 and parameters: {'num_leaves': 352, 'max_depth': 5, 'n_estimators': 216, 'learning_rate': 0.032227406741494206, 'min_child_samples': 39}. Best is trial 4 with value: 0.8431703204047217.\n",
      "[I 2024-02-22 14:06:45,993] Trial 10 finished with value: 0.8391061452513966 and parameters: {'num_leaves': 485, 'max_depth': 20, 'n_estimators': 374, 'learning_rate': 0.07278910547291863, 'min_child_samples': 23}. Best is trial 4 with value: 0.8431703204047217.\n",
      "[I 2024-02-22 14:07:07,720] Trial 11 finished with value: 0.8309938236945535 and parameters: {'num_leaves': 498, 'max_depth': 20, 'n_estimators': 384, 'learning_rate': 0.07606793746735914, 'min_child_samples': 22}. Best is trial 4 with value: 0.8431703204047217.\n",
      "[I 2024-02-22 14:07:28,653] Trial 12 finished with value: 0.8324022346368716 and parameters: {'num_leaves': 489, 'max_depth': 20, 'n_estimators': 370, 'learning_rate': 0.06831454916325562, 'min_child_samples': 24}. Best is trial 4 with value: 0.8431703204047217.\n",
      "[I 2024-02-22 14:07:31,768] Trial 13 finished with value: 0.799062683069713 and parameters: {'num_leaves': 410, 'max_depth': 18, 'n_estimators': 105, 'learning_rate': 0.03470406895393711, 'min_child_samples': 25}. Best is trial 4 with value: 0.8431703204047217.\n",
      "[I 2024-02-22 14:07:56,123] Trial 14 finished with value: 0.8331466965285553 and parameters: {'num_leaves': 443, 'max_depth': 17, 'n_estimators': 440, 'learning_rate': 0.07935335171169991, 'min_child_samples': 18}. Best is trial 4 with value: 0.8431703204047217.\n",
      "[I 2024-02-22 14:08:06,037] Trial 15 finished with value: 0.8007013442431328 and parameters: {'num_leaves': 241, 'max_depth': 14, 'n_estimators': 306, 'learning_rate': 0.03700608812684266, 'min_child_samples': 31}. Best is trial 4 with value: 0.8431703204047217.\n",
      "[I 2024-02-22 14:08:38,713] Trial 16 finished with value: 0.8255748738081885 and parameters: {'num_leaves': 438, 'max_depth': 18, 'n_estimators': 527, 'learning_rate': 0.06662569041667074, 'min_child_samples': 61}. Best is trial 4 with value: 0.8431703204047217.\n",
      "[I 2024-02-22 14:08:41,308] Trial 17 finished with value: 0.809830310122879 and parameters: {'num_leaves': 51, 'max_depth': 20, 'n_estimators': 243, 'learning_rate': 0.06708717446881593, 'min_child_samples': 6}. Best is trial 4 with value: 0.8431703204047217.\n",
      "[I 2024-02-22 14:09:05,421] Trial 18 finished with value: 0.8096607245543416 and parameters: {'num_leaves': 384, 'max_depth': 7, 'n_estimators': 785, 'learning_rate': 0.08146909756551092, 'min_child_samples': 99}. Best is trial 4 with value: 0.8431703204047217.\n",
      "[I 2024-02-22 14:09:37,661] Trial 19 finished with value: 0.8163729391699829 and parameters: {'num_leaves': 464, 'max_depth': 18, 'n_estimators': 477, 'learning_rate': 0.04356194993117352, 'min_child_samples': 33}. Best is trial 4 with value: 0.8431703204047217.\n",
      "[I 2024-02-22 14:09:40,995] Trial 20 finished with value: 0.7864897466827503 and parameters: {'num_leaves': 135, 'max_depth': 8, 'n_estimators': 199, 'learning_rate': 0.01798790317519114, 'min_child_samples': 52}. Best is trial 4 with value: 0.8431703204047217.\n",
      "[I 2024-02-22 14:10:00,947] Trial 21 finished with value: 0.8329571106094807 and parameters: {'num_leaves': 183, 'max_depth': 16, 'n_estimators': 559, 'learning_rate': 0.05946525625490478, 'min_child_samples': 13}. Best is trial 4 with value: 0.8431703204047217.\n",
      "[I 2024-02-22 14:10:12,650] Trial 22 finished with value: 0.8340807174887893 and parameters: {'num_leaves': 165, 'max_depth': 16, 'n_estimators': 442, 'learning_rate': 0.08562474477373913, 'min_child_samples': 6}. Best is trial 4 with value: 0.8431703204047217.\n",
      "[I 2024-02-22 14:10:19,559] Trial 23 finished with value: 0.8181818181818182 and parameters: {'num_leaves': 126, 'max_depth': 14, 'n_estimators': 334, 'learning_rate': 0.0601793036427245, 'min_child_samples': 16}. Best is trial 4 with value: 0.8431703204047217.\n",
      "[I 2024-02-22 14:10:47,060] Trial 24 finished with value: 0.826890756302521 and parameters: {'num_leaves': 264, 'max_depth': 19, 'n_estimators': 530, 'learning_rate': 0.04809511521902262, 'min_child_samples': 29}. Best is trial 4 with value: 0.8431703204047217.\n",
      "[I 2024-02-22 14:11:11,609] Trial 25 finished with value: 0.8356860530773574 and parameters: {'num_leaves': 461, 'max_depth': 16, 'n_estimators': 469, 'learning_rate': 0.07195712820006718, 'min_child_samples': 6}. Best is trial 4 with value: 0.8431703204047217.\n",
      "[I 2024-02-22 14:11:20,932] Trial 26 finished with value: 0.8362213527110117 and parameters: {'num_leaves': 293, 'max_depth': 17, 'n_estimators': 280, 'learning_rate': 0.08692726632297712, 'min_child_samples': 16}. Best is trial 4 with value: 0.8431703204047217.\n",
      "[I 2024-02-22 14:11:54,711] Trial 27 finished with value: 0.8253968253968254 and parameters: {'num_leaves': 387, 'max_depth': 12, 'n_estimators': 574, 'learning_rate': 0.06241854303363975, 'min_child_samples': 35}. Best is trial 4 with value: 0.8431703204047217.\n",
      "[I 2024-02-22 14:12:05,741] Trial 28 finished with value: 0.8262591963780418 and parameters: {'num_leaves': 207, 'max_depth': 19, 'n_estimators': 397, 'learning_rate': 0.044007313171708175, 'min_child_samples': 20}. Best is trial 4 with value: 0.8431703204047217.\n",
      "[I 2024-02-22 14:12:55,347] Trial 29 finished with value: 0.8265765765765766 and parameters: {'num_leaves': 267, 'max_depth': 15, 'n_estimators': 634, 'learning_rate': 0.055194134787028254, 'min_child_samples': 52}. Best is trial 4 with value: 0.8431703204047217.\n",
      "[I 2024-02-22 14:14:01,487] Trial 30 finished with value: 0.832579185520362 and parameters: {'num_leaves': 435, 'max_depth': 15, 'n_estimators': 678, 'learning_rate': 0.0246378964903176, 'min_child_samples': 10}. Best is trial 4 with value: 0.8431703204047217.\n",
      "[I 2024-02-22 14:14:16,812] Trial 31 finished with value: 0.8325842696629214 and parameters: {'num_leaves': 282, 'max_depth': 17, 'n_estimators': 294, 'learning_rate': 0.08744082619406925, 'min_child_samples': 21}. Best is trial 4 with value: 0.8431703204047217.\n",
      "[I 2024-02-22 14:14:30,851] Trial 32 finished with value: 0.8343627175743964 and parameters: {'num_leaves': 305, 'max_depth': 17, 'n_estimators': 264, 'learning_rate': 0.08576876883285979, 'min_child_samples': 15}. Best is trial 4 with value: 0.8431703204047217.\n",
      "[I 2024-02-22 14:14:39,382] Trial 33 finished with value: 0.8358543417366947 and parameters: {'num_leaves': 473, 'max_depth': 19, 'n_estimators': 132, 'learning_rate': 0.09769598040157879, 'min_child_samples': 11}. Best is trial 4 with value: 0.8431703204047217.\n",
      "[I 2024-02-22 14:14:41,836] Trial 34 finished with value: 0.8087810514153668 and parameters: {'num_leaves': 89, 'max_depth': 14, 'n_estimators': 175, 'learning_rate': 0.07279655280535922, 'min_child_samples': 28}. Best is trial 4 with value: 0.8431703204047217.\n",
      "[I 2024-02-22 14:14:55,628] Trial 35 finished with value: 0.8380520951302378 and parameters: {'num_leaves': 363, 'max_depth': 12, 'n_estimators': 350, 'learning_rate': 0.09122292427157977, 'min_child_samples': 5}. Best is trial 4 with value: 0.8431703204047217.\n",
      "[I 2024-02-22 14:15:11,129] Trial 36 finished with value: 0.8362606232294618 and parameters: {'num_leaves': 367, 'max_depth': 11, 'n_estimators': 362, 'learning_rate': 0.09979706839946681, 'min_child_samples': 6}. Best is trial 4 with value: 0.8431703204047217.\n",
      "[I 2024-02-22 14:15:31,388] Trial 37 finished with value: 0.8327645051194539 and parameters: {'num_leaves': 426, 'max_depth': 9, 'n_estimators': 514, 'learning_rate': 0.0916415174109117, 'min_child_samples': 11}. Best is trial 4 with value: 0.8431703204047217.\n",
      "[I 2024-02-22 14:15:53,900] Trial 38 finished with value: 0.8369994359842077 and parameters: {'num_leaves': 321, 'max_depth': 12, 'n_estimators': 417, 'learning_rate': 0.08106710531052057, 'min_child_samples': 5}. Best is trial 4 with value: 0.8431703204047217.\n",
      "[I 2024-02-22 14:16:17,583] Trial 39 finished with value: 0.8233957978421351 and parameters: {'num_leaves': 407, 'max_depth': 12, 'n_estimators': 410, 'learning_rate': 0.09049849390261866, 'min_child_samples': 40}. Best is trial 4 with value: 0.8431703204047217.\n",
      "[I 2024-02-22 14:16:51,812] Trial 40 finished with value: 0.822589845978323 and parameters: {'num_leaves': 315, 'max_depth': 11, 'n_estimators': 610, 'learning_rate': 0.08154654156069305, 'min_child_samples': 81}. Best is trial 4 with value: 0.8431703204047217.\n",
      "[I 2024-02-22 14:17:19,866] Trial 41 finished with value: 0.8347433728144388 and parameters: {'num_leaves': 352, 'max_depth': 13, 'n_estimators': 495, 'learning_rate': 0.07420715412522645, 'min_child_samples': 11}. Best is trial 4 with value: 0.8431703204047217.\n",
      "[I 2024-02-22 14:17:32,068] Trial 42 finished with value: 0.8188073394495413 and parameters: {'num_leaves': 241, 'max_depth': 10, 'n_estimators': 332, 'learning_rate': 0.0776954588626091, 'min_child_samples': 5}. Best is trial 4 with value: 0.8431703204047217.\n",
      "[I 2024-02-22 14:17:59,392] Trial 43 finished with value: 0.8247305728871243 and parameters: {'num_leaves': 500, 'max_depth': 13, 'n_estimators': 432, 'learning_rate': 0.06958720541336497, 'min_child_samples': 23}. Best is trial 4 with value: 0.8431703204047217.\n",
      "[I 2024-02-22 14:18:01,578] Trial 44 finished with value: 0.7578274760383387 and parameters: {'num_leaves': 327, 'max_depth': 2, 'n_estimators': 349, 'learning_rate': 0.054847966915837765, 'min_child_samples': 18}. Best is trial 4 with value: 0.8431703204047217.\n",
      "[I 2024-02-22 14:18:15,462] Trial 45 finished with value: 0.7992895204262876 and parameters: {'num_leaves': 483, 'max_depth': 5, 'n_estimators': 594, 'learning_rate': 0.094558677683535, 'min_child_samples': 26}. Best is trial 4 with value: 0.8431703204047217.\n",
      "[I 2024-02-22 14:18:38,579] Trial 46 finished with value: 0.8170310701956272 and parameters: {'num_leaves': 375, 'max_depth': 10, 'n_estimators': 463, 'learning_rate': 0.06404344828500871, 'min_child_samples': 9}. Best is trial 4 with value: 0.8431703204047217.\n",
      "[I 2024-02-22 14:19:51,088] Trial 47 finished with value: 0.8305949008498582 and parameters: {'num_leaves': 403, 'max_depth': 20, 'n_estimators': 943, 'learning_rate': 0.08100707351254366, 'min_child_samples': 14}. Best is trial 4 with value: 0.8431703204047217.\n",
      "[I 2024-02-22 14:20:42,157] Trial 48 finished with value: 0.8399098083427282 and parameters: {'num_leaves': 452, 'max_depth': 12, 'n_estimators': 696, 'learning_rate': 0.0784098549496368, 'min_child_samples': 19}. Best is trial 4 with value: 0.8431703204047217.\n",
      "[I 2024-02-22 14:21:43,572] Trial 49 finished with value: 0.835201793721973 and parameters: {'num_leaves': 453, 'max_depth': 12, 'n_estimators': 829, 'learning_rate': 0.07630454290340047, 'min_child_samples': 36}. Best is trial 4 with value: 0.8431703204047217.\n",
      "[I 2024-02-22 14:22:14,755] Trial 50 finished with value: 0.8334280841387152 and parameters: {'num_leaves': 418, 'max_depth': 8, 'n_estimators': 708, 'learning_rate': 0.09019532813589232, 'min_child_samples': 20}. Best is trial 4 with value: 0.8431703204047217.\n",
      "[I 2024-02-22 14:23:27,498] Trial 51 finished with value: 0.8369195922989807 and parameters: {'num_leaves': 478, 'max_depth': 15, 'n_estimators': 783, 'learning_rate': 0.08226172720636817, 'min_child_samples': 9}. Best is trial 4 with value: 0.8431703204047217.\n",
      "[I 2024-02-22 14:23:53,724] Trial 52 finished with value: 0.8233295583238958 and parameters: {'num_leaves': 341, 'max_depth': 13, 'n_estimators': 414, 'learning_rate': 0.0761214504135359, 'min_child_samples': 46}. Best is trial 4 with value: 0.8431703204047217.\n",
      "[I 2024-02-22 14:24:33,633] Trial 53 finished with value: 0.831537152580828 and parameters: {'num_leaves': 451, 'max_depth': 11, 'n_estimators': 561, 'learning_rate': 0.08402504492216281, 'min_child_samples': 14}. Best is trial 4 with value: 0.8431703204047217.\n",
      "[I 2024-02-22 14:25:06,362] Trial 54 finished with value: 0.8289920724801811 and parameters: {'num_leaves': 485, 'max_depth': 14, 'n_estimators': 385, 'learning_rate': 0.07049885598090191, 'min_child_samples': 18}. Best is trial 4 with value: 0.8431703204047217.\n",
      "[I 2024-02-22 14:25:33,161] Trial 55 finished with value: 0.8126801152737754 and parameters: {'num_leaves': 239, 'max_depth': 10, 'n_estimators': 505, 'learning_rate': 0.06578046308865544, 'min_child_samples': 26}. Best is trial 4 with value: 0.8431703204047217.\n",
      "[I 2024-02-22 14:26:19,302] Trial 56 finished with value: 0.8312570781426953 and parameters: {'num_leaves': 356, 'max_depth': 18, 'n_estimators': 661, 'learning_rate': 0.09507537456259638, 'min_child_samples': 5}. Best is trial 4 with value: 0.8431703204047217.\n",
      "[I 2024-02-22 14:26:37,807] Trial 57 finished with value: 0.8109965635738832 and parameters: {'num_leaves': 397, 'max_depth': 16, 'n_estimators': 316, 'learning_rate': 0.0605785372941492, 'min_child_samples': 65}. Best is trial 4 with value: 0.8431703204047217.\n",
      "[I 2024-02-22 14:26:45,599] Trial 58 finished with value: 0.8103651354534747 and parameters: {'num_leaves': 468, 'max_depth': 9, 'n_estimators': 234, 'learning_rate': 0.07767475181608041, 'min_child_samples': 9}. Best is trial 4 with value: 0.8431703204047217.\n",
      "[I 2024-02-22 14:27:13,895] Trial 59 finished with value: 0.8180242634315424 and parameters: {'num_leaves': 429, 'max_depth': 12, 'n_estimators': 453, 'learning_rate': 0.04891109297557286, 'min_child_samples': 31}. Best is trial 4 with value: 0.8431703204047217.\n",
      "[I 2024-02-22 14:27:45,016] Trial 60 finished with value: 0.82579185520362 and parameters: {'num_leaves': 500, 'max_depth': 19, 'n_estimators': 379, 'learning_rate': 0.07334119233898707, 'min_child_samples': 44}. Best is trial 4 with value: 0.8431703204047217.\n",
      "[I 2024-02-22 14:28:54,837] Trial 61 finished with value: 0.8369994359842077 and parameters: {'num_leaves': 475, 'max_depth': 14, 'n_estimators': 764, 'learning_rate': 0.0842211287214237, 'min_child_samples': 9}. Best is trial 4 with value: 0.8431703204047217.\n",
      "[I 2024-02-22 14:30:01,843] Trial 62 finished with value: 0.8346545866364666 and parameters: {'num_leaves': 455, 'max_depth': 15, 'n_estimators': 759, 'learning_rate': 0.08824500359587675, 'min_child_samples': 13}. Best is trial 4 with value: 0.8431703204047217.\n",
      "[I 2024-02-22 14:31:19,791] Trial 63 finished with value: 0.7955215085444902 and parameters: {'num_leaves': 445, 'max_depth': 14, 'n_estimators': 907, 'learning_rate': 0.006062643127683093, 'min_child_samples': 16}. Best is trial 4 with value: 0.8431703204047217.\n",
      "[I 2024-02-22 14:32:40,858] Trial 64 finished with value: 0.8398860398860399 and parameters: {'num_leaves': 472, 'max_depth': 13, 'n_estimators': 861, 'learning_rate': 0.08457309605939106, 'min_child_samples': 8}. Best is trial 4 with value: 0.8431703204047217.\n",
      "[I 2024-02-22 14:33:52,866] Trial 65 finished with value: 0.8335220838052096 and parameters: {'num_leaves': 487, 'max_depth': 11, 'n_estimators': 857, 'learning_rate': 0.08386391873982856, 'min_child_samples': 8}. Best is trial 4 with value: 0.8431703204047217.\n",
      "[I 2024-02-22 14:35:12,232] Trial 66 finished with value: 0.8388545760808535 and parameters: {'num_leaves': 460, 'max_depth': 13, 'n_estimators': 856, 'learning_rate': 0.0795058256546062, 'min_child_samples': 23}. Best is trial 4 with value: 0.8431703204047217.\n",
      "[I 2024-02-22 14:36:48,037] Trial 67 finished with value: 0.8333333333333333 and parameters: {'num_leaves': 437, 'max_depth': 13, 'n_estimators': 992, 'learning_rate': 0.07852553618801383, 'min_child_samples': 23}. Best is trial 4 with value: 0.8431703204047217.\n",
      "[I 2024-02-22 14:38:09,560] Trial 68 finished with value: 0.8365276211950395 and parameters: {'num_leaves': 467, 'max_depth': 13, 'n_estimators': 841, 'learning_rate': 0.08913866584176822, 'min_child_samples': 18}. Best is trial 4 with value: 0.8431703204047217.\n",
      "[I 2024-02-22 14:39:27,078] Trial 69 finished with value: 0.8369994359842077 and parameters: {'num_leaves': 424, 'max_depth': 12, 'n_estimators': 867, 'learning_rate': 0.0927628559266628, 'min_child_samples': 30}. Best is trial 4 with value: 0.8431703204047217.\n",
      "[I 2024-02-22 14:40:37,906] Trial 70 finished with value: 0.8431703204047217 and parameters: {'num_leaves': 383, 'max_depth': 11, 'n_estimators': 886, 'learning_rate': 0.07957613104281801, 'min_child_samples': 21}. Best is trial 4 with value: 0.8431703204047217.\n",
      "[I 2024-02-22 14:41:48,673] Trial 71 finished with value: 0.8359550561797753 and parameters: {'num_leaves': 383, 'max_depth': 11, 'n_estimators': 900, 'learning_rate': 0.08006898332850466, 'min_child_samples': 21}. Best is trial 4 with value: 0.8431703204047217.\n",
      "[I 2024-02-22 14:43:01,201] Trial 72 finished with value: 0.8338028169014085 and parameters: {'num_leaves': 332, 'max_depth': 12, 'n_estimators': 819, 'learning_rate': 0.07414470981267045, 'min_child_samples': 27}. Best is trial 4 with value: 0.8431703204047217.\n",
      "[I 2024-02-22 14:43:55,368] Trial 73 finished with value: 0.8411531938948558 and parameters: {'num_leaves': 369, 'max_depth': 9, 'n_estimators': 893, 'learning_rate': 0.08695134104228691, 'min_child_samples': 14}. Best is trial 4 with value: 0.8431703204047217.\n",
      "[I 2024-02-22 14:44:46,254] Trial 74 finished with value: 0.786764705882353 and parameters: {'num_leaves': 396, 'max_depth': 9, 'n_estimators': 941, 'learning_rate': 0.0021987736275548703, 'min_child_samples': 13}. Best is trial 4 with value: 0.8431703204047217.\n",
      "[I 2024-02-22 14:45:16,999] Trial 75 finished with value: 0.8154555940023067 and parameters: {'num_leaves': 417, 'max_depth': 6, 'n_estimators': 901, 'learning_rate': 0.08647943272772644, 'min_child_samples': 24}. Best is trial 4 with value: 0.8431703204047217.\n",
      "[I 2024-02-22 14:46:05,326] Trial 76 finished with value: 0.8327683615819208 and parameters: {'num_leaves': 365, 'max_depth': 8, 'n_estimators': 998, 'learning_rate': 0.09843616419892456, 'min_child_samples': 34}. Best is trial 4 with value: 0.8431703204047217.\n",
      "[I 2024-02-22 14:47:13,241] Trial 77 finished with value: 0.8380202474690663 and parameters: {'num_leaves': 461, 'max_depth': 10, 'n_estimators': 968, 'learning_rate': 0.09280474195586498, 'min_child_samples': 17}. Best is trial 4 with value: 0.8431703204047217.\n",
      "[I 2024-02-22 14:47:47,213] Trial 78 finished with value: 0.8208955223880597 and parameters: {'num_leaves': 443, 'max_depth': 7, 'n_estimators': 807, 'learning_rate': 0.06777795819316447, 'min_child_samples': 20}. Best is trial 4 with value: 0.8431703204047217.\n",
      "[I 2024-02-22 14:48:41,826] Trial 79 finished with value: 0.8409090909090909 and parameters: {'num_leaves': 490, 'max_depth': 9, 'n_estimators': 877, 'learning_rate': 0.08351358848688387, 'min_child_samples': 13}. Best is trial 4 with value: 0.8431703204047217.\n",
      "[I 2024-02-22 14:49:25,294] Trial 80 finished with value: 0.8176100628930817 and parameters: {'num_leaves': 491, 'max_depth': 8, 'n_estimators': 884, 'learning_rate': 0.07043374849718192, 'min_child_samples': 57}. Best is trial 4 with value: 0.8431703204047217.\n",
      "[I 2024-02-22 14:50:02,085] Trial 81 finished with value: 0.8253250423968344 and parameters: {'num_leaves': 476, 'max_depth': 9, 'n_estimators': 724, 'learning_rate': 0.08374857071685105, 'min_child_samples': 76}. Best is trial 4 with value: 0.8431703204047217.\n",
      "[I 2024-02-22 14:50:40,191] Trial 82 finished with value: 0.8280982295830954 and parameters: {'num_leaves': 492, 'max_depth': 7, 'n_estimators': 870, 'learning_rate': 0.0876230510599842, 'min_child_samples': 15}. Best is trial 4 with value: 0.8431703204047217.\n",
      "[I 2024-02-22 14:50:56,145] Trial 83 finished with value: 0.7901678657074341 and parameters: {'num_leaves': 464, 'max_depth': 3, 'n_estimators': 931, 'learning_rate': 0.07884263125853179, 'min_child_samples': 12}. Best is trial 4 with value: 0.8431703204047217.\n",
      "[I 2024-02-22 14:51:39,149] Trial 84 finished with value: 0.8354143019296254 and parameters: {'num_leaves': 452, 'max_depth': 9, 'n_estimators': 791, 'learning_rate': 0.07604178965161838, 'min_child_samples': 20}. Best is trial 4 with value: 0.8431703204047217.\n",
      "[I 2024-02-22 14:52:40,770] Trial 85 finished with value: 0.8370786516853932 and parameters: {'num_leaves': 479, 'max_depth': 11, 'n_estimators': 967, 'learning_rate': 0.09579316048985023, 'min_child_samples': 23}. Best is trial 4 with value: 0.8431703204047217.\n",
      "[I 2024-02-22 14:53:35,156] Trial 86 finished with value: 0.838127467569092 and parameters: {'num_leaves': 500, 'max_depth': 10, 'n_estimators': 839, 'learning_rate': 0.09050786983905076, 'min_child_samples': 8}. Best is trial 4 with value: 0.8431703204047217.\n",
      "[I 2024-02-22 14:54:27,709] Trial 87 finished with value: 0.8373937677053824 and parameters: {'num_leaves': 494, 'max_depth': 10, 'n_estimators': 917, 'learning_rate': 0.0852790650156777, 'min_child_samples': 12}. Best is trial 4 with value: 0.8431703204047217.\n",
      "[I 2024-02-22 14:55:08,281] Trial 88 finished with value: 0.8309779536461278 and parameters: {'num_leaves': 500, 'max_depth': 10, 'n_estimators': 847, 'learning_rate': 0.08212372840421572, 'min_child_samples': 96}. Best is trial 4 with value: 0.8431703204047217.\n",
      "[I 2024-02-22 14:55:51,765] Trial 89 finished with value: 0.8275862068965517 and parameters: {'num_leaves': 469, 'max_depth': 9, 'n_estimators': 891, 'learning_rate': 0.07198979747452922, 'min_child_samples': 37}. Best is trial 4 with value: 0.8431703204047217.\n",
      "[I 2024-02-22 14:56:37,981] Trial 90 finished with value: 0.831908831908832 and parameters: {'num_leaves': 485, 'max_depth': 18, 'n_estimators': 701, 'learning_rate': 0.08871453079862598, 'min_child_samples': 7}. Best is trial 4 with value: 0.8431703204047217.\n",
      "[I 2024-02-22 14:57:31,353] Trial 91 finished with value: 0.8370244179443498 and parameters: {'num_leaves': 431, 'max_depth': 11, 'n_estimators': 820, 'learning_rate': 0.09099113871126464, 'min_child_samples': 11}. Best is trial 4 with value: 0.8431703204047217.\n",
      "[I 2024-02-22 14:58:33,531] Trial 92 finished with value: 0.8355855855855856 and parameters: {'num_leaves': 443, 'max_depth': 12, 'n_estimators': 878, 'learning_rate': 0.09358593332321503, 'min_child_samples': 16}. Best is trial 4 with value: 0.8431703204047217.\n",
      "[I 2024-02-22 14:59:23,543] Trial 93 finished with value: 0.8304891922639364 and parameters: {'num_leaves': 456, 'max_depth': 20, 'n_estimators': 742, 'learning_rate': 0.08063276853932326, 'min_child_samples': 7}. Best is trial 4 with value: 0.8431703204047217.\n",
      "[I 2024-02-22 15:00:40,290] Trial 94 finished with value: 0.83248730964467 and parameters: {'num_leaves': 478, 'max_depth': 17, 'n_estimators': 920, 'learning_rate': 0.09705945365078988, 'min_child_samples': 18}. Best is trial 4 with value: 0.8431703204047217.\n",
      "[I 2024-02-22 15:01:32,111] Trial 95 finished with value: 0.8340857787810383 and parameters: {'num_leaves': 413, 'max_depth': 11, 'n_estimators': 803, 'learning_rate': 0.07522057580621096, 'min_child_samples': 14}. Best is trial 4 with value: 0.8431703204047217.\n",
      "[I 2024-02-22 15:02:04,217] Trial 96 finished with value: 0.8277430358158044 and parameters: {'num_leaves': 345, 'max_depth': 10, 'n_estimators': 641, 'learning_rate': 0.09042683968302026, 'min_child_samples': 25}. Best is trial 4 with value: 0.8431703204047217.\n",
      "[I 2024-02-22 15:03:02,956] Trial 97 finished with value: 0.8375491849353569 and parameters: {'num_leaves': 373, 'max_depth': 13, 'n_estimators': 833, 'learning_rate': 0.08618034749595971, 'min_child_samples': 10}. Best is trial 4 with value: 0.8431703204047217.\n",
      "[I 2024-02-22 15:03:25,818] Trial 98 finished with value: 0.8344519015659956 and parameters: {'num_leaves': 297, 'max_depth': 19, 'n_estimators': 486, 'learning_rate': 0.0830539657485365, 'min_child_samples': 21}. Best is trial 4 with value: 0.8431703204047217.\n",
      "[I 2024-02-22 15:04:02,208] Trial 99 finished with value: 0.8343767785998861 and parameters: {'num_leaves': 462, 'max_depth': 8, 'n_estimators': 856, 'learning_rate': 0.07881172608557013, 'min_child_samples': 8}. Best is trial 4 with value: 0.8431703204047217.\n",
      "[I 2024-02-22 15:05:15,860] Trial 100 finished with value: 0.8423423423423424 and parameters: {'num_leaves': 489, 'max_depth': 13, 'n_estimators': 964, 'learning_rate': 0.08630656505697216, 'min_child_samples': 18}. Best is trial 4 with value: 0.8431703204047217.\n",
      "[I 2024-02-22 15:06:28,908] Trial 101 finished with value: 0.8342728297632468 and parameters: {'num_leaves': 487, 'max_depth': 13, 'n_estimators': 950, 'learning_rate': 0.08618091439304648, 'min_child_samples': 18}. Best is trial 4 with value: 0.8431703204047217.\n",
      "[I 2024-02-22 15:07:36,081] Trial 102 finished with value: 0.838127467569092 and parameters: {'num_leaves': 473, 'max_depth': 12, 'n_estimators': 980, 'learning_rate': 0.07711719693150677, 'min_child_samples': 28}. Best is trial 4 with value: 0.8431703204047217.\n",
      "[I 2024-02-22 15:08:37,216] Trial 103 finished with value: 0.8383838383838385 and parameters: {'num_leaves': 470, 'max_depth': 12, 'n_estimators': 965, 'learning_rate': 0.0771846613245181, 'min_child_samples': 32}. Best is trial 4 with value: 0.8431703204047217.\n",
      "[I 2024-02-22 15:09:50,970] Trial 104 finished with value: 0.8365867261572782 and parameters: {'num_leaves': 450, 'max_depth': 14, 'n_estimators': 962, 'learning_rate': 0.07957387656571521, 'min_child_samples': 33}. Best is trial 4 with value: 0.8431703204047217.\n",
      "[I 2024-02-22 15:11:08,494] Trial 105 finished with value: 0.8366086468276249 and parameters: {'num_leaves': 493, 'max_depth': 15, 'n_estimators': 928, 'learning_rate': 0.08245523340586412, 'min_child_samples': 23}. Best is trial 4 with value: 0.8431703204047217.\n",
      "[I 2024-02-22 15:12:06,113] Trial 106 finished with value: 0.8336153412295544 and parameters: {'num_leaves': 500, 'max_depth': 11, 'n_estimators': 901, 'learning_rate': 0.07388729490351911, 'min_child_samples': 15}. Best is trial 4 with value: 0.8431703204047217.\n",
      "[I 2024-02-22 15:13:12,753] Trial 107 finished with value: 0.8194842406876791 and parameters: {'num_leaves': 484, 'max_depth': 13, 'n_estimators': 871, 'learning_rate': 0.020347795073943273, 'min_child_samples': 19}. Best is trial 4 with value: 0.8431703204047217.\n",
      "[I 2024-02-22 15:13:41,530] Trial 108 finished with value: 0.8201928530913216 and parameters: {'num_leaves': 466, 'max_depth': 12, 'n_estimators': 538, 'learning_rate': 0.06478672174615488, 'min_child_samples': 29}. Best is trial 4 with value: 0.8431703204047217.\n",
      "[I 2024-02-22 15:14:43,299] Trial 109 finished with value: 0.8273137697516929 and parameters: {'num_leaves': 460, 'max_depth': 14, 'n_estimators': 764, 'learning_rate': 0.040819240468525156, 'min_child_samples': 22}. Best is trial 4 with value: 0.8431703204047217.\n",
      "[I 2024-02-22 15:15:13,085] Trial 110 finished with value: 0.822589845978323 and parameters: {'num_leaves': 434, 'max_depth': 10, 'n_estimators': 619, 'learning_rate': 0.06954722746470984, 'min_child_samples': 25}. Best is trial 4 with value: 0.8431703204047217.\n",
      "[I 2024-02-22 15:16:18,900] Trial 111 finished with value: 0.838127467569092 and parameters: {'num_leaves': 474, 'max_depth': 12, 'n_estimators': 975, 'learning_rate': 0.0771205104494296, 'min_child_samples': 28}. Best is trial 4 with value: 0.8431703204047217.\n",
      "[I 2024-02-22 15:17:18,779] Trial 112 finished with value: 0.8397976391231029 and parameters: {'num_leaves': 474, 'max_depth': 11, 'n_estimators': 978, 'learning_rate': 0.08125813448035447, 'min_child_samples': 27}. Best is trial 4 with value: 0.8431703204047217.\n",
      "[I 2024-02-22 15:18:14,687] Trial 113 finished with value: 0.836815358554489 and parameters: {'num_leaves': 484, 'max_depth': 11, 'n_estimators': 952, 'learning_rate': 0.08482341240319415, 'min_child_samples': 31}. Best is trial 4 with value: 0.8431703204047217.\n",
      "[I 2024-02-22 15:19:02,028] Trial 114 finished with value: 0.8294617563739376 and parameters: {'num_leaves': 470, 'max_depth': 9, 'n_estimators': 917, 'learning_rate': 0.08160279648547453, 'min_child_samples': 17}. Best is trial 4 with value: 0.8431703204047217.\n",
      "[I 2024-02-22 15:19:56,200] Trial 115 finished with value: 0.8396860986547086 and parameters: {'num_leaves': 444, 'max_depth': 10, 'n_estimators': 988, 'learning_rate': 0.08873382405947194, 'min_child_samples': 26}. Best is trial 4 with value: 0.8431703204047217.\n",
      "[I 2024-02-22 15:20:54,477] Trial 116 finished with value: 0.8317495807713806 and parameters: {'num_leaves': 444, 'max_depth': 11, 'n_estimators': 988, 'learning_rate': 0.07255019921464645, 'min_child_samples': 48}. Best is trial 4 with value: 0.8431703204047217.\n",
      "[I 2024-02-22 15:22:04,190] Trial 117 finished with value: 0.8400900900900901 and parameters: {'num_leaves': 456, 'max_depth': 13, 'n_estimators': 937, 'learning_rate': 0.08042887966541634, 'min_child_samples': 25}. Best is trial 4 with value: 0.8431703204047217.\n",
      "[I 2024-02-22 15:23:22,711] Trial 118 finished with value: 0.839035333707235 and parameters: {'num_leaves': 451, 'max_depth': 13, 'n_estimators': 999, 'learning_rate': 0.07988216172386182, 'min_child_samples': 25}. Best is trial 4 with value: 0.8431703204047217.\n",
      "[I 2024-02-22 15:24:32,363] Trial 119 finished with value: 0.8338945005611672 and parameters: {'num_leaves': 420, 'max_depth': 13, 'n_estimators': 935, 'learning_rate': 0.08798180291039585, 'min_child_samples': 26}. Best is trial 4 with value: 0.8431703204047217.\n",
      "[I 2024-02-22 15:25:54,218] Trial 120 finished with value: 0.8321085358959865 and parameters: {'num_leaves': 438, 'max_depth': 15, 'n_estimators': 986, 'learning_rate': 0.030671360250643515, 'min_child_samples': 22}. Best is trial 4 with value: 0.8431703204047217.\n",
      "[I 2024-02-22 15:27:12,517] Trial 121 finished with value: 0.8390739695087521 and parameters: {'num_leaves': 451, 'max_depth': 13, 'n_estimators': 996, 'learning_rate': 0.08045229646843792, 'min_child_samples': 25}. Best is trial 4 with value: 0.8431703204047217.\n",
      "[I 2024-02-22 15:28:31,612] Trial 122 finished with value: 0.8332391181458451 and parameters: {'num_leaves': 449, 'max_depth': 14, 'n_estimators': 955, 'learning_rate': 0.08382892929015591, 'min_child_samples': 27}. Best is trial 4 with value: 0.8431703204047217.\n",
      "[I 2024-02-22 15:29:49,127] Trial 123 finished with value: 0.8408071748878924 and parameters: {'num_leaves': 403, 'max_depth': 14, 'n_estimators': 994, 'learning_rate': 0.07983016767035948, 'min_child_samples': 20}. Best is trial 4 with value: 0.8431703204047217.\n",
      "[I 2024-02-22 15:30:58,164] Trial 124 finished with value: 0.8346456692913385 and parameters: {'num_leaves': 396, 'max_depth': 17, 'n_estimators': 939, 'learning_rate': 0.08168133580219167, 'min_child_samples': 19}. Best is trial 4 with value: 0.8431703204047217.\n",
      "[I 2024-02-22 15:32:07,781] Trial 125 finished with value: 0.832579185520362 and parameters: {'num_leaves': 411, 'max_depth': 16, 'n_estimators': 981, 'learning_rate': 0.07496616311261317, 'min_child_samples': 13}. Best is trial 4 with value: 0.8431703204047217.\n",
      "[I 2024-02-22 15:33:19,148] Trial 126 finished with value: 0.836815358554489 and parameters: {'num_leaves': 389, 'max_depth': 14, 'n_estimators': 914, 'learning_rate': 0.08724531276917, 'min_child_samples': 21}. Best is trial 4 with value: 0.8431703204047217.\n",
      "[I 2024-02-22 15:34:25,734] Trial 127 finished with value: 0.8408577878103837 and parameters: {'num_leaves': 404, 'max_depth': 13, 'n_estimators': 887, 'learning_rate': 0.08522088308622473, 'min_child_samples': 16}. Best is trial 4 with value: 0.8431703204047217.\n",
      "[I 2024-02-22 15:35:33,690] Trial 128 finished with value: 0.839617332583005 and parameters: {'num_leaves': 407, 'max_depth': 14, 'n_estimators': 892, 'learning_rate': 0.08517280980533448, 'min_child_samples': 17}. Best is trial 4 with value: 0.8431703204047217.\n",
      "[I 2024-02-22 15:36:40,205] Trial 129 finished with value: 0.8386004514672686 and parameters: {'num_leaves': 406, 'max_depth': 14, 'n_estimators': 887, 'learning_rate': 0.08932385122116426, 'min_child_samples': 15}. Best is trial 4 with value: 0.8431703204047217.\n",
      "[I 2024-02-22 15:37:40,835] Trial 130 finished with value: 0.8354002254791432 and parameters: {'num_leaves': 378, 'max_depth': 12, 'n_estimators': 891, 'learning_rate': 0.08525576344154343, 'min_child_samples': 17}. Best is trial 4 with value: 0.8431703204047217.\n",
      "[I 2024-02-22 15:38:54,006] Trial 131 finished with value: 0.8373663477771525 and parameters: {'num_leaves': 425, 'max_depth': 15, 'n_estimators': 944, 'learning_rate': 0.08389780891343182, 'min_child_samples': 19}. Best is trial 4 with value: 0.8431703204047217.\n",
      "[I 2024-02-22 15:39:31,216] Trial 132 finished with value: 0.833052276559865 and parameters: {'num_leaves': 394, 'max_depth': 18, 'n_estimators': 580, 'learning_rate': 0.08624328950426281, 'min_child_samples': 16}. Best is trial 4 with value: 0.8431703204047217.\n",
      "[I 2024-02-22 15:40:36,826] Trial 133 finished with value: 0.8331454340473508 and parameters: {'num_leaves': 403, 'max_depth': 13, 'n_estimators': 926, 'learning_rate': 0.0880883090217469, 'min_child_samples': 12}. Best is trial 4 with value: 0.8431703204047217.\n",
      "[I 2024-02-22 15:41:44,391] Trial 134 finished with value: 0.832579185520362 and parameters: {'num_leaves': 433, 'max_depth': 19, 'n_estimators': 908, 'learning_rate': 0.08257287510725504, 'min_child_samples': 14}. Best is trial 4 with value: 0.8431703204047217.\n",
      "[I 2024-02-22 15:42:26,361] Trial 135 finished with value: 0.8318284424379232 and parameters: {'num_leaves': 386, 'max_depth': 9, 'n_estimators': 870, 'learning_rate': 0.09258597258629689, 'min_child_samples': 22}. Best is trial 4 with value: 0.8431703204047217.\n",
      "[I 2024-02-22 15:43:19,602] Trial 136 finished with value: 0.8363431151241536 and parameters: {'num_leaves': 361, 'max_depth': 10, 'n_estimators': 963, 'learning_rate': 0.07851948617907534, 'min_child_samples': 20}. Best is trial 4 with value: 0.8431703204047217.\n",
      "[I 2024-02-22 15:44:05,685] Trial 137 finished with value: 0.8378378378378378 and parameters: {'num_leaves': 416, 'max_depth': 16, 'n_estimators': 673, 'learning_rate': 0.08534251882012578, 'min_child_samples': 11}. Best is trial 4 with value: 0.8431703204047217.\n",
      "[I 2024-02-22 15:45:15,908] Trial 138 finished with value: 0.829954954954955 and parameters: {'num_leaves': 478, 'max_depth': 20, 'n_estimators': 890, 'learning_rate': 0.08270795923326223, 'min_child_samples': 17}. Best is trial 4 with value: 0.8431703204047217.\n",
      "[I 2024-02-22 15:46:26,503] Trial 139 finished with value: 0.8376550169109357 and parameters: {'num_leaves': 375, 'max_depth': 12, 'n_estimators': 934, 'learning_rate': 0.07583365765466109, 'min_child_samples': 14}. Best is trial 4 with value: 0.8431703204047217.\n",
      "[I 2024-02-22 15:47:35,111] Trial 140 finished with value: 0.8422234699606962 and parameters: {'num_leaves': 488, 'max_depth': 14, 'n_estimators': 853, 'learning_rate': 0.08025896261066685, 'min_child_samples': 24}. Best is trial 4 with value: 0.8431703204047217.\n",
      "[I 2024-02-22 15:48:47,277] Trial 141 finished with value: 0.8415730337078651 and parameters: {'num_leaves': 490, 'max_depth': 14, 'n_estimators': 854, 'learning_rate': 0.08090621423120033, 'min_child_samples': 24}. Best is trial 4 with value: 0.8431703204047217.\n",
      "[I 2024-02-22 15:50:02,376] Trial 142 finished with value: 0.8392156862745098 and parameters: {'num_leaves': 490, 'max_depth': 14, 'n_estimators': 847, 'learning_rate': 0.08067476028391503, 'min_child_samples': 20}. Best is trial 4 with value: 0.8431703204047217.\n",
      "[I 2024-02-22 15:51:17,623] Trial 143 finished with value: 0.8370786516853932 and parameters: {'num_leaves': 480, 'max_depth': 15, 'n_estimators': 869, 'learning_rate': 0.07818941251269795, 'min_child_samples': 22}. Best is trial 4 with value: 0.8431703204047217.\n",
      "[I 2024-02-22 15:52:20,604] Trial 144 finished with value: 0.8386004514672686 and parameters: {'num_leaves': 489, 'max_depth': 13, 'n_estimators': 818, 'learning_rate': 0.08413760854158066, 'min_child_samples': 24}. Best is trial 4 with value: 0.8431703204047217.\n",
      "[I 2024-02-22 15:53:34,051] Trial 145 finished with value: 0.8319280494659921 and parameters: {'num_leaves': 463, 'max_depth': 14, 'n_estimators': 902, 'learning_rate': 0.08861942636090504, 'min_child_samples': 27}. Best is trial 4 with value: 0.8431703204047217.\n",
      "[I 2024-02-22 15:54:38,832] Trial 146 finished with value: 0.8377316114542392 and parameters: {'num_leaves': 459, 'max_depth': 14, 'n_estimators': 786, 'learning_rate': 0.08689505660585684, 'min_child_samples': 17}. Best is trial 4 with value: 0.8431703204047217.\n",
      "[I 2024-02-22 15:55:42,071] Trial 147 finished with value: 0.8383838383838385 and parameters: {'num_leaves': 493, 'max_depth': 13, 'n_estimators': 836, 'learning_rate': 0.09150968778735467, 'min_child_samples': 30}. Best is trial 4 with value: 0.8431703204047217.\n",
      "[I 2024-02-22 15:56:38,675] Trial 148 finished with value: 0.8372615039281706 and parameters: {'num_leaves': 425, 'max_depth': 11, 'n_estimators': 877, 'learning_rate': 0.08081045987397745, 'min_child_samples': 19}. Best is trial 4 with value: 0.8431703204047217.\n",
      "[I 2024-02-22 15:57:53,237] Trial 149 finished with value: 0.8363431151241536 and parameters: {'num_leaves': 478, 'max_depth': 14, 'n_estimators': 857, 'learning_rate': 0.09498768558690282, 'min_child_samples': 24}. Best is trial 4 with value: 0.8431703204047217.\n",
      "[I 2024-02-22 15:59:04,989] Trial 150 finished with value: 0.8387096774193549 and parameters: {'num_leaves': 403, 'max_depth': 13, 'n_estimators': 956, 'learning_rate': 0.08288866819334109, 'min_child_samples': 10}. Best is trial 4 with value: 0.8431703204047217.\n",
      "[I 2024-02-22 16:00:22,534] Trial 151 finished with value: 0.8383098591549297 and parameters: {'num_leaves': 494, 'max_depth': 15, 'n_estimators': 848, 'learning_rate': 0.07975534050281573, 'min_child_samples': 20}. Best is trial 4 with value: 0.8431703204047217.\n",
      "[I 2024-02-22 16:01:26,493] Trial 152 finished with value: 0.8322072072072071 and parameters: {'num_leaves': 486, 'max_depth': 14, 'n_estimators': 812, 'learning_rate': 0.08113363340453936, 'min_child_samples': 15}. Best is trial 4 with value: 0.8431703204047217.\n",
      "[I 2024-02-22 16:02:39,345] Trial 153 finished with value: 0.8357705286839145 and parameters: {'num_leaves': 470, 'max_depth': 14, 'n_estimators': 922, 'learning_rate': 0.07749806321163495, 'min_child_samples': 21}. Best is trial 4 with value: 0.8431703204047217.\n",
      "[I 2024-02-22 16:03:48,529] Trial 154 finished with value: 0.8380202474690663 and parameters: {'num_leaves': 488, 'max_depth': 13, 'n_estimators': 889, 'learning_rate': 0.0849780243796622, 'min_child_samples': 18}. Best is trial 4 with value: 0.8431703204047217.\n",
      "[I 2024-02-22 16:04:52,475] Trial 155 finished with value: 0.8409734012450482 and parameters: {'num_leaves': 440, 'max_depth': 15, 'n_estimators': 852, 'learning_rate': 0.07463385066285322, 'min_child_samples': 13}. Best is trial 4 with value: 0.8431703204047217.\n",
      "[I 2024-02-22 16:06:00,157] Trial 156 finished with value: 0.8421645997745209 and parameters: {'num_leaves': 440, 'max_depth': 15, 'n_estimators': 908, 'learning_rate': 0.0754642717602974, 'min_child_samples': 12}. Best is trial 4 with value: 0.8431703204047217.\n",
      "[I 2024-02-22 16:07:15,183] Trial 157 finished with value: 0.8390022675736962 and parameters: {'num_leaves': 444, 'max_depth': 16, 'n_estimators': 973, 'learning_rate': 0.07143691230525978, 'min_child_samples': 12}. Best is trial 4 with value: 0.8431703204047217.\n",
      "[I 2024-02-22 16:08:24,168] Trial 158 finished with value: 0.8337104072398189 and parameters: {'num_leaves': 438, 'max_depth': 15, 'n_estimators': 913, 'learning_rate': 0.07339180015295398, 'min_child_samples': 8}. Best is trial 4 with value: 0.8431703204047217.\n",
      "[I 2024-02-22 16:08:58,135] Trial 159 finished with value: 0.835214446952596 and parameters: {'num_leaves': 458, 'max_depth': 15, 'n_estimators': 518, 'learning_rate': 0.07584765568387451, 'min_child_samples': 13}. Best is trial 4 with value: 0.8431703204047217.\n",
      "[I 2024-02-22 16:09:59,854] Trial 160 finished with value: 0.8396860986547086 and parameters: {'num_leaves': 469, 'max_depth': 12, 'n_estimators': 831, 'learning_rate': 0.07869898762344703, 'min_child_samples': 15}. Best is trial 4 with value: 0.8431703204047217.\n",
      "[I 2024-02-22 16:10:44,034] Trial 161 finished with value: 0.8418683173888576 and parameters: {'num_leaves': 470, 'max_depth': 12, 'n_estimators': 860, 'learning_rate': 0.07850056139866544, 'min_child_samples': 15}. Best is trial 4 with value: 0.8431703204047217.\n",
      "[I 2024-02-22 16:11:25,198] Trial 162 finished with value: 0.8362408553742262 and parameters: {'num_leaves': 477, 'max_depth': 12, 'n_estimators': 861, 'learning_rate': 0.07442293619471832, 'min_child_samples': 11}. Best is trial 4 with value: 0.8431703204047217.\n",
      "[I 2024-02-22 16:12:13,132] Trial 163 finished with value: 0.8305949008498582 and parameters: {'num_leaves': 457, 'max_depth': 13, 'n_estimators': 953, 'learning_rate': 0.07680393334176606, 'min_child_samples': 14}. Best is trial 4 with value: 0.8431703204047217.\n",
      "[I 2024-02-22 16:12:42,001] Trial 164 finished with value: 0.8374717832957111 and parameters: {'num_leaves': 442, 'max_depth': 9, 'n_estimators': 876, 'learning_rate': 0.08232090247652495, 'min_child_samples': 10}. Best is trial 4 with value: 0.8431703204047217.\n",
      "[I 2024-02-22 16:12:59,466] Trial 165 finished with value: 0.8338060124787295 and parameters: {'num_leaves': 53, 'max_depth': 8, 'n_estimators': 932, 'learning_rate': 0.07910981050119194, 'min_child_samples': 6}. Best is trial 4 with value: 0.8431703204047217.\n",
      "[I 2024-02-22 16:13:40,552] Trial 166 finished with value: 0.8415730337078651 and parameters: {'num_leaves': 430, 'max_depth': 11, 'n_estimators': 974, 'learning_rate': 0.06851559885302543, 'min_child_samples': 16}. Best is trial 4 with value: 0.8431703204047217.\n",
      "[I 2024-02-22 16:14:15,567] Trial 167 finished with value: 0.8398415393322015 and parameters: {'num_leaves': 252, 'max_depth': 11, 'n_estimators': 910, 'learning_rate': 0.076432797244812, 'min_child_samples': 16}. Best is trial 4 with value: 0.8431703204047217.\n",
      "[I 2024-02-22 16:14:41,999] Trial 168 finished with value: 0.8406285072951739 and parameters: {'num_leaves': 217, 'max_depth': 12, 'n_estimators': 800, 'learning_rate': 0.07477092489081885, 'min_child_samples': 16}. Best is trial 4 with value: 0.8431703204047217.\n",
      "[I 2024-02-22 16:15:03,752] Trial 169 finished with value: 0.8354856822010106 and parameters: {'num_leaves': 152, 'max_depth': 12, 'n_estimators': 828, 'learning_rate': 0.06791806440767048, 'min_child_samples': 13}. Best is trial 4 with value: 0.8431703204047217.\n",
      "[I 2024-02-22 16:15:44,681] Trial 170 finished with value: 0.8407428249859314 and parameters: {'num_leaves': 431, 'max_depth': 13, 'n_estimators': 854, 'learning_rate': 0.07113115240754844, 'min_child_samples': 9}. Best is trial 4 with value: 0.8431703204047217.\n",
      "[I 2024-02-22 16:16:14,891] Trial 171 finished with value: 0.8377614471452798 and parameters: {'num_leaves': 276, 'max_depth': 13, 'n_estimators': 852, 'learning_rate': 0.06980935982416858, 'min_child_samples': 9}. Best is trial 4 with value: 0.8431703204047217.\n",
      "[I 2024-02-22 16:16:44,771] Trial 172 finished with value: 0.8388545760808535 and parameters: {'num_leaves': 230, 'max_depth': 12, 'n_estimators': 874, 'learning_rate': 0.07162841992688924, 'min_child_samples': 12}. Best is trial 4 with value: 0.8431703204047217.\n",
      "[I 2024-02-22 16:17:09,695] Trial 173 finished with value: 0.8365061590145576 and parameters: {'num_leaves': 213, 'max_depth': 13, 'n_estimators': 800, 'learning_rate': 0.07293287786179568, 'min_child_samples': 16}. Best is trial 4 with value: 0.8431703204047217.\n",
      "[I 2024-02-22 16:17:48,847] Trial 174 finished with value: 0.8397291196388262 and parameters: {'num_leaves': 428, 'max_depth': 13, 'n_estimators': 846, 'learning_rate': 0.07482949852365736, 'min_child_samples': 10}. Best is trial 4 with value: 0.8431703204047217.\n",
      "[I 2024-02-22 16:18:01,119] Trial 175 finished with value: 0.8339943342776204 and parameters: {'num_leaves': 199, 'max_depth': 12, 'n_estimators': 554, 'learning_rate': 0.07770139826422054, 'min_child_samples': 7}. Best is trial 4 with value: 0.8431703204047217.\n",
      "[I 2024-02-22 16:18:42,788] Trial 176 finished with value: 0.8387096774193549 and parameters: {'num_leaves': 416, 'max_depth': 12, 'n_estimators': 897, 'learning_rate': 0.07469760759176276, 'min_child_samples': 14}. Best is trial 4 with value: 0.8431703204047217.\n",
      "[I 2024-02-22 16:19:16,671] Trial 177 finished with value: 0.8368953880764904 and parameters: {'num_leaves': 310, 'max_depth': 15, 'n_estimators': 828, 'learning_rate': 0.06862494471756465, 'min_child_samples': 18}. Best is trial 4 with value: 0.8431703204047217.\n",
      "[I 2024-02-22 16:19:51,125] Trial 178 finished with value: 0.8354002254791432 and parameters: {'num_leaves': 425, 'max_depth': 14, 'n_estimators': 767, 'learning_rate': 0.0634431559618482, 'min_child_samples': 12}. Best is trial 4 with value: 0.8431703204047217.\n",
      "[I 2024-02-22 16:20:35,538] Trial 179 finished with value: 0.8418683173888576 and parameters: {'num_leaves': 436, 'max_depth': 13, 'n_estimators': 862, 'learning_rate': 0.06631968804448596, 'min_child_samples': 16}. Best is trial 4 with value: 0.8431703204047217.\n",
      "[I 2024-02-22 16:21:21,553] Trial 180 finished with value: 0.8369195922989807 and parameters: {'num_leaves': 431, 'max_depth': 13, 'n_estimators': 881, 'learning_rate': 0.06680353555621123, 'min_child_samples': 19}. Best is trial 4 with value: 0.8431703204047217.\n",
      "[I 2024-02-22 16:22:03,262] Trial 181 finished with value: 0.8346456692913385 and parameters: {'num_leaves': 437, 'max_depth': 13, 'n_estimators': 810, 'learning_rate': 0.05720076907463227, 'min_child_samples': 16}. Best is trial 4 with value: 0.8431703204047217.\n",
      "[I 2024-02-22 16:22:43,796] Trial 182 finished with value: 0.8393665158371041 and parameters: {'num_leaves': 452, 'max_depth': 12, 'n_estimators': 862, 'learning_rate': 0.07313569172860429, 'min_child_samples': 15}. Best is trial 4 with value: 0.8431703204047217.\n",
      "[I 2024-02-22 16:23:06,272] Trial 183 finished with value: 0.8306133933595948 and parameters: {'num_leaves': 110, 'max_depth': 13, 'n_estimators': 840, 'learning_rate': 0.07114579993596384, 'min_child_samples': 56}. Best is trial 4 with value: 0.8431703204047217.\n",
      "[I 2024-02-22 16:23:31,430] Trial 184 finished with value: 0.8382352941176471 and parameters: {'num_leaves': 177, 'max_depth': 14, 'n_estimators': 859, 'learning_rate': 0.07925689545415024, 'min_child_samples': 13}. Best is trial 4 with value: 0.8431703204047217.\n",
      "[I 2024-02-22 16:24:10,660] Trial 185 finished with value: 0.8360563380281689 and parameters: {'num_leaves': 500, 'max_depth': 11, 'n_estimators': 901, 'learning_rate': 0.07712896273960161, 'min_child_samples': 18}. Best is trial 4 with value: 0.8431703204047217.\n",
      "[I 2024-02-22 16:24:51,826] Trial 186 finished with value: 0.8358714043993233 and parameters: {'num_leaves': 415, 'max_depth': 13, 'n_estimators': 884, 'learning_rate': 0.050880792429168785, 'min_child_samples': 9}. Best is trial 4 with value: 0.8431703204047217.\n",
      "[I 2024-02-22 16:25:35,883] Trial 187 finished with value: 0.8329571106094807 and parameters: {'num_leaves': 465, 'max_depth': 12, 'n_estimators': 916, 'learning_rate': 0.061809930819682286, 'min_child_samples': 22}. Best is trial 4 with value: 0.8431703204047217.\n",
      "[I 2024-02-22 16:26:19,274] Trial 188 finished with value: 0.8413325804630152 and parameters: {'num_leaves': 393, 'max_depth': 14, 'n_estimators': 866, 'learning_rate': 0.08317270860971344, 'min_child_samples': 20}. Best is trial 4 with value: 0.8431703204047217.\n",
      "[I 2024-02-22 16:27:05,991] Trial 189 finished with value: 0.8400900900900901 and parameters: {'num_leaves': 393, 'max_depth': 14, 'n_estimators': 935, 'learning_rate': 0.08017039239941554, 'min_child_samples': 20}. Best is trial 4 with value: 0.8431703204047217.\n",
      "[I 2024-02-22 16:27:53,795] Trial 190 finished with value: 0.8397976391231029 and parameters: {'num_leaves': 391, 'max_depth': 15, 'n_estimators': 940, 'learning_rate': 0.08066466801102665, 'min_child_samples': 20}. Best is trial 4 with value: 0.8431703204047217.\n",
      "[I 2024-02-22 16:28:13,975] Trial 191 finished with value: 0.8357705286839145 and parameters: {'num_leaves': 405, 'max_depth': 14, 'n_estimators': 500, 'learning_rate': 0.08231957862406691, 'min_child_samples': 23}. Best is trial 4 with value: 0.8431703204047217.\n",
      "[I 2024-02-22 16:28:54,736] Trial 192 finished with value: 0.8383098591549297 and parameters: {'num_leaves': 382, 'max_depth': 14, 'n_estimators': 875, 'learning_rate': 0.07604759613089777, 'min_child_samples': 17}. Best is trial 4 with value: 0.8431703204047217.\n",
      "[I 2024-02-22 16:29:39,363] Trial 193 finished with value: 0.8371830985915493 and parameters: {'num_leaves': 400, 'max_depth': 14, 'n_estimators': 901, 'learning_rate': 0.07927643826385486, 'min_child_samples': 20}. Best is trial 4 with value: 0.8431703204047217.\n"
     ]
    }
   ],
   "source": [
    "import optuna\n",
    "from lightgbm import LGBMClassifier\n",
    "from sklearn.model_selection import train_test_split\n",
    "from sklearn.metrics import f1_score\n",
    "\n",
    "def objectiveLGBM_dart(trial, x_tr, y_tr, x_val, y_val):\n",
    "    param = {\n",
    "        'num_leaves': trial.suggest_int('num_leaves', 50, 500)\n",
    "        , 'max_depth': trial.suggest_int('max_depth', 2, 20)\n",
    "        , 'n_estimators': trial.suggest_int('n_estimators', 100, 1000)\n",
    "        , 'learning_rate': trial.suggest_float('learning_rate', 0.001, 0.1)\n",
    "        , 'min_child_samples': trial.suggest_int('min_child_samples', 5, 100)\n",
    "        , 'boosting' : 'binary'\n",
    "        , 'boosting' : 'dart' # dart 사용\n",
    "        , 'random_state': 0\n",
    "        , 'verbose' : -1\n",
    "    }\n",
    "    \n",
    "    model = LGBMClassifier(**param)\n",
    "    model.fit(x_tr, y_tr)\n",
    "    pred = model.predict(x_val)\n",
    "    score = f1_score(y_val, pred, average=\"binary\")\n",
    "    \n",
    "    return score\n",
    "\n",
    "# 데이터셋 분할\n",
    "x_train, x_val, y_train, y_val = train_test_split(\n",
    "    df_train_encoded.drop(\"is_converted\", axis=1),\n",
    "    df_train_encoded[\"is_converted\"].astype(int),\n",
    "    test_size=0.2,\n",
    "    shuffle=True,\n",
    "    random_state=400,\n",
    ")\n",
    "\n",
    "# 하이퍼 파라미터 튜닝\n",
    "study = optuna.create_study(direction='maximize', sampler=optuna.samplers.TPESampler(seed=0))\n",
    "study.optimize(lambda trial: objectiveLGBM_dart(trial, x_train, y_train, x_val, y_val), n_trials=400)\n",
    "\n",
    "print('Best trial: score {}, \\nparams {}'.format(study.best_trial.value, study.best_trial.params))"
   ]
  },
  {
   "cell_type": "markdown",
   "metadata": {},
   "source": [
    "### 모델 성능확인"
   ]
  },
  {
   "cell_type": "code",
   "execution_count": 823,
   "metadata": {},
   "outputs": [],
   "source": [
    "from sklearn.metrics import (\n",
    "    accuracy_score,\n",
    "    confusion_matrix,\n",
    "    f1_score,\n",
    "    precision_score,\n",
    "    recall_score,\n",
    ")\n",
    "\n",
    "def get_clf_eval(y_test, y_pred=None):\n",
    "    confusion = confusion_matrix(y_test, y_pred, labels=[True, False])\n",
    "    accuracy = accuracy_score(y_test, y_pred)\n",
    "    precision = precision_score(y_test, y_pred, labels=[True, False])\n",
    "    recall = recall_score(y_test, y_pred)\n",
    "    F1 = f1_score(y_test, y_pred, labels=[True, False])\n",
    "    weighted_F1 = f1_score(y_test, y_pred, average='weighted')\n",
    "\n",
    "    metrics = pd.DataFrame({\n",
    "        '정확도': [accuracy],\n",
    "        '정밀도': [precision],\n",
    "        '재현율': [recall],\n",
    "        'F1 Score': [F1],\n",
    "        'Weighted F1': [weighted_F1]\n",
    "    })\n",
    "\n",
    "    confusion_df = pd.DataFrame(confusion, index=['True', 'False'], columns=['True', 'False'])\n",
    "\n",
    "    print(\"\\n오차행렬:\")\n",
    "    display(confusion_df)\n",
    "    print(\"평가 지표:\")\n",
    "    display(metrics)"
   ]
  },
  {
   "cell_type": "markdown",
   "metadata": {},
   "source": [
    "### 모델 정의"
   ]
  },
  {
   "cell_type": "markdown",
   "metadata": {},
   "source": [
    "Optuna를 이용하여 파라미터를 구함"
   ]
  },
  {
   "cell_type": "code",
   "execution_count": 824,
   "metadata": {},
   "outputs": [],
   "source": [
    "# 단일모델\n",
    "from lightgbm import LGBMClassifier\n",
    "\n",
    "# LightGBM_dart\n",
    "model = LGBMClassifier(\n",
    "    n_estimators=1029\n",
    "    , num_leaves=167\n",
    "    , max_depth=30\n",
    "    , learning_rate=0.05767571715999541\n",
    "    , min_child_samples=25\n",
    "    , verbose=-1\n",
    "    , boosting='dart'  # dart 사용\n",
    "    , random_state=0\n",
    ")"
   ]
  },
  {
   "cell_type": "markdown",
   "metadata": {},
   "source": [
    "### 모델 학습"
   ]
  },
  {
   "cell_type": "code",
   "execution_count": 825,
   "metadata": {},
   "outputs": [
    {
     "data": {
      "text/html": [
       "<style>#sk-container-id-9 {color: black;}#sk-container-id-9 pre{padding: 0;}#sk-container-id-9 div.sk-toggleable {background-color: white;}#sk-container-id-9 label.sk-toggleable__label {cursor: pointer;display: block;width: 100%;margin-bottom: 0;padding: 0.3em;box-sizing: border-box;text-align: center;}#sk-container-id-9 label.sk-toggleable__label-arrow:before {content: \"▸\";float: left;margin-right: 0.25em;color: #696969;}#sk-container-id-9 label.sk-toggleable__label-arrow:hover:before {color: black;}#sk-container-id-9 div.sk-estimator:hover label.sk-toggleable__label-arrow:before {color: black;}#sk-container-id-9 div.sk-toggleable__content {max-height: 0;max-width: 0;overflow: hidden;text-align: left;background-color: #f0f8ff;}#sk-container-id-9 div.sk-toggleable__content pre {margin: 0.2em;color: black;border-radius: 0.25em;background-color: #f0f8ff;}#sk-container-id-9 input.sk-toggleable__control:checked~div.sk-toggleable__content {max-height: 200px;max-width: 100%;overflow: auto;}#sk-container-id-9 input.sk-toggleable__control:checked~label.sk-toggleable__label-arrow:before {content: \"▾\";}#sk-container-id-9 div.sk-estimator input.sk-toggleable__control:checked~label.sk-toggleable__label {background-color: #d4ebff;}#sk-container-id-9 div.sk-label input.sk-toggleable__control:checked~label.sk-toggleable__label {background-color: #d4ebff;}#sk-container-id-9 input.sk-hidden--visually {border: 0;clip: rect(1px 1px 1px 1px);clip: rect(1px, 1px, 1px, 1px);height: 1px;margin: -1px;overflow: hidden;padding: 0;position: absolute;width: 1px;}#sk-container-id-9 div.sk-estimator {font-family: monospace;background-color: #f0f8ff;border: 1px dotted black;border-radius: 0.25em;box-sizing: border-box;margin-bottom: 0.5em;}#sk-container-id-9 div.sk-estimator:hover {background-color: #d4ebff;}#sk-container-id-9 div.sk-parallel-item::after {content: \"\";width: 100%;border-bottom: 1px solid gray;flex-grow: 1;}#sk-container-id-9 div.sk-label:hover label.sk-toggleable__label {background-color: #d4ebff;}#sk-container-id-9 div.sk-serial::before {content: \"\";position: absolute;border-left: 1px solid gray;box-sizing: border-box;top: 0;bottom: 0;left: 50%;z-index: 0;}#sk-container-id-9 div.sk-serial {display: flex;flex-direction: column;align-items: center;background-color: white;padding-right: 0.2em;padding-left: 0.2em;position: relative;}#sk-container-id-9 div.sk-item {position: relative;z-index: 1;}#sk-container-id-9 div.sk-parallel {display: flex;align-items: stretch;justify-content: center;background-color: white;position: relative;}#sk-container-id-9 div.sk-item::before, #sk-container-id-9 div.sk-parallel-item::before {content: \"\";position: absolute;border-left: 1px solid gray;box-sizing: border-box;top: 0;bottom: 0;left: 50%;z-index: -1;}#sk-container-id-9 div.sk-parallel-item {display: flex;flex-direction: column;z-index: 1;position: relative;background-color: white;}#sk-container-id-9 div.sk-parallel-item:first-child::after {align-self: flex-end;width: 50%;}#sk-container-id-9 div.sk-parallel-item:last-child::after {align-self: flex-start;width: 50%;}#sk-container-id-9 div.sk-parallel-item:only-child::after {width: 0;}#sk-container-id-9 div.sk-dashed-wrapped {border: 1px dashed gray;margin: 0 0.4em 0.5em 0.4em;box-sizing: border-box;padding-bottom: 0.4em;background-color: white;}#sk-container-id-9 div.sk-label label {font-family: monospace;font-weight: bold;display: inline-block;line-height: 1.2em;}#sk-container-id-9 div.sk-label-container {text-align: center;}#sk-container-id-9 div.sk-container {/* jupyter's `normalize.less` sets `[hidden] { display: none; }` but bootstrap.min.css set `[hidden] { display: none !important; }` so we also need the `!important` here to be able to override the default hidden behavior on the sphinx rendered scikit-learn.org. See: https://github.com/scikit-learn/scikit-learn/issues/21755 */display: inline-block !important;position: relative;}#sk-container-id-9 div.sk-text-repr-fallback {display: none;}</style><div id=\"sk-container-id-9\" class=\"sk-top-container\"><div class=\"sk-text-repr-fallback\"><pre>LGBMClassifier(boosting=&#x27;dart&#x27;, learning_rate=0.05767571715999541, max_depth=30,\n",
       "               min_child_samples=25, n_estimators=1029, num_leaves=167,\n",
       "               random_state=0, verbose=-1)</pre><b>In a Jupyter environment, please rerun this cell to show the HTML representation or trust the notebook. <br />On GitHub, the HTML representation is unable to render, please try loading this page with nbviewer.org.</b></div><div class=\"sk-container\" hidden><div class=\"sk-item\"><div class=\"sk-estimator sk-toggleable\"><input class=\"sk-toggleable__control sk-hidden--visually\" id=\"sk-estimator-id-9\" type=\"checkbox\" checked><label for=\"sk-estimator-id-9\" class=\"sk-toggleable__label sk-toggleable__label-arrow\">LGBMClassifier</label><div class=\"sk-toggleable__content\"><pre>LGBMClassifier(boosting=&#x27;dart&#x27;, learning_rate=0.05767571715999541, max_depth=30,\n",
       "               min_child_samples=25, n_estimators=1029, num_leaves=167,\n",
       "               random_state=0, verbose=-1)</pre></div></div></div></div></div>"
      ],
      "text/plain": [
       "LGBMClassifier(boosting='dart', learning_rate=0.05767571715999541, max_depth=30,\n",
       "               min_child_samples=25, n_estimators=1029, num_leaves=167,\n",
       "               random_state=0, verbose=-1)"
      ]
     },
     "execution_count": 825,
     "metadata": {},
     "output_type": "execute_result"
    }
   ],
   "source": [
    "model.fit(x_train, y_train)"
   ]
  },
  {
   "cell_type": "code",
   "execution_count": 826,
   "metadata": {},
   "outputs": [
    {
     "name": "stdout",
     "output_type": "stream",
     "text": [
      "\n",
      "오차행렬:\n"
     ]
    },
    {
     "data": {
      "text/html": [
       "<div>\n",
       "<style scoped>\n",
       "    .dataframe tbody tr th:only-of-type {\n",
       "        vertical-align: middle;\n",
       "    }\n",
       "\n",
       "    .dataframe tbody tr th {\n",
       "        vertical-align: top;\n",
       "    }\n",
       "\n",
       "    .dataframe thead th {\n",
       "        text-align: right;\n",
       "    }\n",
       "</style>\n",
       "<table border=\"1\" class=\"dataframe\">\n",
       "  <thead>\n",
       "    <tr style=\"text-align: right;\">\n",
       "      <th></th>\n",
       "      <th>True</th>\n",
       "      <th>False</th>\n",
       "    </tr>\n",
       "  </thead>\n",
       "  <tbody>\n",
       "    <tr>\n",
       "      <th>True</th>\n",
       "      <td>830</td>\n",
       "      <td>164</td>\n",
       "    </tr>\n",
       "    <tr>\n",
       "      <th>False</th>\n",
       "      <td>154</td>\n",
       "      <td>10712</td>\n",
       "    </tr>\n",
       "  </tbody>\n",
       "</table>\n",
       "</div>"
      ],
      "text/plain": [
       "       True  False\n",
       "True    830    164\n",
       "False   154  10712"
      ]
     },
     "metadata": {},
     "output_type": "display_data"
    },
    {
     "name": "stdout",
     "output_type": "stream",
     "text": [
      "평가 지표:\n"
     ]
    },
    {
     "data": {
      "text/html": [
       "<div>\n",
       "<style scoped>\n",
       "    .dataframe tbody tr th:only-of-type {\n",
       "        vertical-align: middle;\n",
       "    }\n",
       "\n",
       "    .dataframe tbody tr th {\n",
       "        vertical-align: top;\n",
       "    }\n",
       "\n",
       "    .dataframe thead th {\n",
       "        text-align: right;\n",
       "    }\n",
       "</style>\n",
       "<table border=\"1\" class=\"dataframe\">\n",
       "  <thead>\n",
       "    <tr style=\"text-align: right;\">\n",
       "      <th></th>\n",
       "      <th>정확도</th>\n",
       "      <th>정밀도</th>\n",
       "      <th>재현율</th>\n",
       "      <th>F1 Score</th>\n",
       "      <th>Weighted F1</th>\n",
       "    </tr>\n",
       "  </thead>\n",
       "  <tbody>\n",
       "    <tr>\n",
       "      <th>0</th>\n",
       "      <td>0.973187</td>\n",
       "      <td>0.843496</td>\n",
       "      <td>0.83501</td>\n",
       "      <td>0.839232</td>\n",
       "      <td>0.973126</td>\n",
       "    </tr>\n",
       "  </tbody>\n",
       "</table>\n",
       "</div>"
      ],
      "text/plain": [
       "        정확도       정밀도      재현율  F1 Score  Weighted F1\n",
       "0  0.973187  0.843496  0.83501  0.839232     0.973126"
      ]
     },
     "metadata": {},
     "output_type": "display_data"
    }
   ],
   "source": [
    "pred = model.predict(x_val)\n",
    "get_clf_eval(y_val, pred)"
   ]
  },
  {
   "cell_type": "code",
   "execution_count": 827,
   "metadata": {},
   "outputs": [
    {
     "data": {
      "text/plain": [
       "799.0"
      ]
     },
     "execution_count": 827,
     "metadata": {},
     "output_type": "execute_result"
    }
   ],
   "source": [
    "# 예측에 필요한 데이터 분리\n",
    "x_test = df_test_encoded.drop([\"is_converted\", \"id\"], axis=1)\n",
    "\n",
    "test_pred = model.predict(x_test)\n",
    "sum(test_pred) # True로 예측된 개수"
   ]
  },
  {
   "cell_type": "markdown",
   "metadata": {},
   "source": [
    "### 제출파일 생성"
   ]
  },
  {
   "cell_type": "code",
   "execution_count": 828,
   "metadata": {},
   "outputs": [],
   "source": [
    "# 제출 데이터 읽어오기 (df_test는 전처리된 데이터가 저장됨)\n",
    "df_sub = pd.read_csv(\"./data/submission.csv\")\n",
    "df_sub[\"is_converted\"] = test_pred\n",
    "\n",
    "# 제출 파일 저장\n",
    "df_sub.to_csv(\"submission_1gbm_dart_optuna.csv\", index=False)"
   ]
  },
  {
   "cell_type": "markdown",
   "metadata": {},
   "source": [
    "."
   ]
  }
 ],
 "metadata": {
  "kernelspec": {
   "display_name": "Python 3",
   "language": "python",
   "name": "python3"
  },
  "language_info": {
   "codemirror_mode": {
    "name": "ipython",
    "version": 3
   },
   "file_extension": ".py",
   "mimetype": "text/x-python",
   "name": "python",
   "nbconvert_exporter": "python",
   "pygments_lexer": "ipython3",
   "version": "3.10.4"
  }
 },
 "nbformat": 4,
 "nbformat_minor": 2
}
