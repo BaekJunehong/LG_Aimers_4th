{
 "cells": [
  {
   "cell_type": "markdown",
   "metadata": {},
   "source": [
    "## 1. 데이터 확인"
   ]
  },
  {
   "cell_type": "markdown",
   "metadata": {},
   "source": [
    "설치안되어있는경우 설치 필요"
   ]
  },
  {
   "cell_type": "code",
   "execution_count": 5,
   "metadata": {},
   "outputs": [],
   "source": [
    "# %pip install category_encoders"
   ]
  },
  {
   "cell_type": "markdown",
   "metadata": {},
   "source": [
    "라이브러리 불러오기"
   ]
  },
  {
   "cell_type": "code",
   "execution_count": 6,
   "metadata": {},
   "outputs": [],
   "source": [
    "import pandas as pd\n",
    "import numpy as np\n",
    "\n",
    "import warnings\n",
    "warnings.filterwarnings('ignore') # 경고 메세지 무시"
   ]
  },
  {
   "cell_type": "markdown",
   "metadata": {},
   "source": [
    "데이터 불러오기"
   ]
  },
  {
   "cell_type": "code",
   "execution_count": 7,
   "metadata": {},
   "outputs": [],
   "source": [
    "df_train = pd.read_csv(\"./data/train.csv\") # 학습용 데이터\n",
    "df_test = pd.read_csv(\"./data/submission.csv\") # 테스트 데이터(제출파일의 데이터)"
   ]
  },
  {
   "cell_type": "code",
   "execution_count": 8,
   "metadata": {},
   "outputs": [
    {
     "name": "stdout",
     "output_type": "stream",
     "text": [
      "<class 'pandas.core.frame.DataFrame'>\n",
      "RangeIndex: 59299 entries, 0 to 59298\n",
      "Data columns (total 29 columns):\n",
      " #   Column                   Non-Null Count  Dtype  \n",
      "---  ------                   --------------  -----  \n",
      " 0   bant_submit              59299 non-null  float64\n",
      " 1   customer_country         58317 non-null  object \n",
      " 2   business_unit            59299 non-null  object \n",
      " 3   com_reg_ver_win_rate     14568 non-null  float64\n",
      " 4   customer_idx             59299 non-null  int64  \n",
      " 5   customer_type            15338 non-null  object \n",
      " 6   enterprise               59299 non-null  object \n",
      " 7   historical_existing_cnt  13756 non-null  float64\n",
      " 8   id_strategic_ver         3444 non-null   float64\n",
      " 9   it_strategic_ver         1121 non-null   float64\n",
      " 10  idit_strategic_ver       4565 non-null   float64\n",
      " 11  customer_job             40566 non-null  object \n",
      " 12  lead_desc_length         59299 non-null  int64  \n",
      " 13  inquiry_type             58358 non-null  object \n",
      " 14  product_category         39925 non-null  object \n",
      " 15  product_subcategory      9235 non-null   object \n",
      " 16  product_modelname        9229 non-null   object \n",
      " 17  customer_country.1       58317 non-null  object \n",
      " 18  customer_position        59299 non-null  object \n",
      " 19  response_corporate       59299 non-null  object \n",
      " 20  expected_timeline        28436 non-null  object \n",
      " 21  ver_cus                  59299 non-null  int64  \n",
      " 22  ver_pro                  59299 non-null  int64  \n",
      " 23  ver_win_rate_x           18417 non-null  float64\n",
      " 24  ver_win_ratio_per_bu     15304 non-null  float64\n",
      " 25  business_area            18417 non-null  object \n",
      " 26  business_subarea         5526 non-null   object \n",
      " 27  lead_owner               59299 non-null  int64  \n",
      " 28  is_converted             59299 non-null  bool   \n",
      "dtypes: bool(1), float64(8), int64(5), object(15)\n",
      "memory usage: 12.7+ MB\n"
     ]
    }
   ],
   "source": [
    "df_train.info()"
   ]
  },
  {
   "cell_type": "markdown",
   "metadata": {},
   "source": [
    "## 2. 데이터 전처리"
   ]
  },
  {
   "cell_type": "markdown",
   "metadata": {},
   "source": [
    "### bant_submit, business_unit, enterprise 변수"
   ]
  },
  {
   "cell_type": "markdown",
   "metadata": {},
   "source": [
    "따로 처리한 부분 없음"
   ]
  },
  {
   "cell_type": "markdown",
   "metadata": {},
   "source": [
    "### customer_country, customer_country.1 변수"
   ]
  },
  {
   "cell_type": "code",
   "execution_count": 9,
   "metadata": {},
   "outputs": [],
   "source": [
    "def process_customer_country_tokenized(df, column_name):\n",
    "    for i, entry in enumerate(df[column_name]):\n",
    "        if isinstance(entry, str):\n",
    "            tokens = [token.strip() for token in entry.replace('/', ',').split(',') if token.strip() != '']\n",
    "            if tokens:\n",
    "                df.at[i, column_name] = tokens[-1]\n",
    "            else:\n",
    "                df.at[i, column_name] = np.nan\n",
    "        else:\n",
    "            df.at[i, column_name] = np.nan\n",
    "    return df"
   ]
  },
  {
   "cell_type": "markdown",
   "metadata": {},
   "source": [
    "customer_country, customer_country.1 값을 토큰화 하여 말단 단어 추출"
   ]
  },
  {
   "cell_type": "code",
   "execution_count": 10,
   "metadata": {},
   "outputs": [],
   "source": [
    "df_train = process_customer_country_tokenized(df_train, 'customer_country')\n",
    "df_train = process_customer_country_tokenized(df_train, 'customer_country.1')\n",
    "\n",
    "df_test = process_customer_country_tokenized(df_test, 'customer_country')\n",
    "df_test = process_customer_country_tokenized(df_test, 'customer_country.1')"
   ]
  },
  {
   "cell_type": "code",
   "execution_count": 11,
   "metadata": {},
   "outputs": [],
   "source": [
    "# 미국 주 이름 카테고리화\n",
    "us_states = ['AL', 'AK', 'AZ', 'AR', 'CA', 'CO', 'CT', 'DE', 'DC', 'FL', 'GA', 'HI', 'ID', 'IL', 'IN', 'IA', 'KS', 'KY', 'LA', 'ME', 'MD', 'MA', 'MI', 'MN', 'MS', 'MO', 'MT', 'NE', 'NV', 'NH', 'NJ', 'NM', 'NY', 'NC', 'ND', 'OH', 'OK', 'OR', 'PA', 'RI', 'SC', 'SD', 'TN', 'TX', 'UT', 'VT', 'VA', 'WA', 'WV', 'WI', 'WY']\n",
    "\n",
    "df_train['customer_country'] = df_train['customer_country'].replace(us_states, 'United States')\n",
    "df_train['customer_country.1'] = df_train['customer_country.1'].replace(us_states, 'United States')\n",
    "\n",
    "df_test['customer_country'] = df_test['customer_country'].replace(us_states, 'United States')\n",
    "df_test['customer_country.1'] = df_test['customer_country.1'].replace(us_states, 'United States')"
   ]
  },
  {
   "cell_type": "markdown",
   "metadata": {},
   "source": [
    "LG 사이트에서 작성된 나라정보를 리스트화"
   ]
  },
  {
   "cell_type": "markdown",
   "metadata": {},
   "source": [
    "이때 Test데이터셋 값중 Corporate은 특정 국가나 지역을 나타내는 것이 아니라,  \n",
    "보통 기업이나 조직을 나타내는 용어로 국가 리스트에 따로 포함시키지 않음"
   ]
  },
  {
   "cell_type": "code",
   "execution_count": 12,
   "metadata": {},
   "outputs": [],
   "source": [
    "asia = ['Australia', 'Bangladesh', 'Brunei', 'Cambodia', 'China', 'Fiji', 'Hong Kong', 'India', 'Indonesia', 'Laos', 'Malaysia', 'Maldives', 'Myanmar', 'Nepal', 'New Zealand', 'Papula New Guinea', 'Philippines', 'Singapore', 'Sri Lanka', 'Taiwan', 'Thailand', 'Vietnam', 'Japan', 'South Korea']\n",
    "cis = ['Belarus', 'Kazakhstan', 'Mongolia', 'Russia', 'Turkmenistan', 'Ukraine', 'Uzbekistan']\n",
    "europe = ['Albania', 'Austria', 'Belgium', 'Bosnia and Herzegovina', 'Bulgaria', 'Croatia', 'Cyprus', 'Czech', 'Denmark', 'Estonia', 'Finland', 'France', 'Germany', 'Greece', 'Hungary', 'Iceland', 'Ireland', 'Italy', 'Kosovo', 'Latvia', 'Lithuania', 'Luxembourg', 'Macedonia', 'Montenegro', 'Netherlands', 'Norway', 'Poland', 'Portugal', 'Romania', 'Serbia', 'Slovakia', 'Slovenia', 'Spain', 'Sweden', 'Switzerland', 'United Kingdom', 'Isle of Man', 'Malta']\n",
    "latin_america_and_the_caribbean = ['Anguilla', 'Antigua', 'Argentina', 'Aruba', 'Bahamas', 'Barbados', 'Belize', 'Bermuda', 'Bolivia', 'Brazil', 'British Virgin Islands', 'Cayman Islands', 'Chile', 'Colombia', 'COLOMBIA', 'Costa Rica', 'Cuba', 'Curacao', 'Dominican Republic', 'Ecuador', 'El Salvador', 'Grenada', 'Guatemala', 'Guyana Haiti', 'Honduras', 'Jamaica', 'Mexico', 'Netherlands Antilles', 'Nicaragua', 'Panama', 'Paraguay', 'Peru', 'Puerto Rico', 'Saint Lucia', 'St Kitts', 'St Maarten', 'St Vincent', 'Suriname', 'Trinidad and Tobago', 'Turks and Caicos Islands', 'Uruguay', 'US Virgin Islands', 'Venezuela', 'Antigua and Barbuda', 'Saint Kitts and Nevis']\n",
    "middle_east_and_africa = ['Afghanistan', 'Algeria', 'Angola', 'Armenia', 'Azerbaijan', 'Bahrain', 'Benin', 'Botswana', 'Burkina Faso Cameroon', 'Central African Republic', 'Congo', \"Cote d'Ivoire\", 'Democratic Republic of the Congo', 'Djibouti', 'Egypt', 'EGYPT', 'Equatorial Guinea', 'Ethiopia', 'Gabon', 'Gambia', 'Georgia', 'Ghana', 'Guinea Iran', 'Iraq', 'Israel', 'Ivory Coast', 'Jordan', 'Kenya', 'Kuwait', 'Lebanon', 'Liberia', 'Mali', 'Mauritania', 'Mauritius', 'Morocco', 'Mozambique', 'Namibia', 'Nigeria', 'Oman', 'Pakistan', 'Palestine', 'Qatar', 'Rwanda', 'Sao Tome and Principe', 'Saudi Arabia', 'Senegal', 'Sierra Leone', 'Somalia', 'South Africa', 'Sudan', 'Swaziland', 'Syria', 'Togo', 'Tunisia', 'Türkiye', 'Turkey', 'U.A.E', 'Uganda', 'United Republic of Tanzania', 'Yemen', 'Zambia', 'Eritrea', 'Libya Malawi', 'Zimbabwe']\n",
    "north_america = ['Canada', 'United States', 'UNITED STATES']"
   ]
  },
  {
   "cell_type": "code",
   "execution_count": 13,
   "metadata": {},
   "outputs": [],
   "source": [
    "def update_country(country):\n",
    "    if country in asia:\n",
    "        return country\n",
    "    elif country in cis:\n",
    "        return country\n",
    "    elif country in europe:\n",
    "        return country\n",
    "    elif country in latin_america_and_the_caribbean:\n",
    "        return country\n",
    "    elif country in middle_east_and_africa:\n",
    "        return country\n",
    "    elif country in north_america:\n",
    "        return country\n",
    "    else:\n",
    "        return 'Unknown'\n",
    "\n",
    "df_train['customer_country'] = df_train['customer_country'].apply(update_country)\n",
    "df_test['customer_country'] = df_test['customer_country'].apply(update_country)"
   ]
  },
  {
   "cell_type": "code",
   "execution_count": 14,
   "metadata": {},
   "outputs": [],
   "source": [
    "continent_dict = {country: 'Asia' for country in asia}\n",
    "continent_dict.update({country: 'CIS' for country in cis})\n",
    "continent_dict.update({country: 'Europe' for country in europe})\n",
    "continent_dict.update({country: 'Latin America and the Caribbean' for country in latin_america_and_the_caribbean})\n",
    "continent_dict.update({country: 'Middle East & Africa' for country in middle_east_and_africa})\n",
    "continent_dict.update({country: 'North America' for country in north_america})\n",
    "\n",
    "df_train['customer_country.1'] = df_train['customer_country.1'].replace(continent_dict)\n",
    "df_test['customer_country.1'] = df_test['customer_country.1'].replace(continent_dict)"
   ]
  },
  {
   "cell_type": "markdown",
   "metadata": {},
   "source": [
    "customer_country.1 빈도수이하값 및 결측값에 대한 처리"
   ]
  },
  {
   "cell_type": "code",
   "execution_count": 15,
   "metadata": {},
   "outputs": [],
   "source": [
    "# 'customer_country.1'의 빈도 계산\n",
    "counts_train = df_train['customer_country.1'].value_counts()\n",
    "counts_test = df_test['customer_country.1'].value_counts()\n",
    "\n",
    "# 일정 빈도 이하 unknown 처리\n",
    "find_count_train = counts_train[counts_train <= 30].index\n",
    "find_count_test = counts_test[counts_test <= 2].index\n",
    "\n",
    "# 일정 빈도 이하인 국가를 'Unknown'으로 설정\n",
    "df_train.loc[df_train['customer_country.1'].isin(find_count_train), 'customer_country.1'] = 'Other'\n",
    "df_test.loc[df_test['customer_country.1'].isin(find_count_test), 'customer_country.1'] = 'Other'\n",
    "\n",
    "# 결측값에 대한 처리\n",
    "df_train['customer_country.1'] = df_train['customer_country.1'].fillna('Unknown')\n",
    "df_test['customer_country.1'] = df_test['customer_country.1'].fillna('Unknown')"
   ]
  },
  {
   "cell_type": "code",
   "execution_count": 16,
   "metadata": {},
   "outputs": [],
   "source": [
    "# train 데이터셋에 없는 test 데이터셋에 대한 처리\n",
    "## {'Corporate'} 값이 test 데이터셋에는 존재하는 반면 train 데이터셋에는 없음\n",
    "def replace_unknown_values(row, unique):\n",
    "    if row not in unique:\n",
    "        return 'Other'\n",
    "    else:\n",
    "        return row\n",
    "\n",
    "unique_train_values = df_train['customer_country.1'].unique()\n",
    "df_test['customer_country.1'] = df_test['customer_country.1'].apply(lambda x: replace_unknown_values(x, unique_train_values))"
   ]
  },
  {
   "cell_type": "markdown",
   "metadata": {},
   "source": [
    "### customer_idx 변수"
   ]
  },
  {
   "cell_type": "markdown",
   "metadata": {},
   "source": [
    "특정값에 대한 처리"
   ]
  },
  {
   "cell_type": "code",
   "execution_count": 17,
   "metadata": {},
   "outputs": [],
   "source": [
    "# 'customer_idx'의 빈도 계산\n",
    "counts_train = df_train['customer_idx'].value_counts()\n",
    "\n",
    "# 일정 빈도 이하 처리\n",
    "find_count_train = counts_train[counts_train <= 10].index\n",
    "\n",
    "# 일정 빈도 이하인 customer_idx를 '-1'으로 설정\n",
    "df_train.loc[df_train['customer_idx'].isin(find_count_train), 'customer_idx'] = -1"
   ]
  },
  {
   "cell_type": "code",
   "execution_count": 18,
   "metadata": {},
   "outputs": [],
   "source": [
    "# train 데이터셋에 없는 test 데이터셋에 대한 처리\n",
    "def replace_unknown_values(row, unique):\n",
    "    if row not in unique:\n",
    "        return -1\n",
    "    else:\n",
    "        return row\n",
    "\n",
    "unique_train_values = df_train['customer_idx'].unique()\n",
    "df_test['customer_idx'] = df_test['customer_idx'].apply(lambda x: replace_unknown_values(x, unique_train_values))"
   ]
  },
  {
   "cell_type": "markdown",
   "metadata": {},
   "source": [
    "customer_idx의 값에 대해서 is_converted에 대한 비율 계산"
   ]
  },
  {
   "cell_type": "code",
   "execution_count": 19,
   "metadata": {},
   "outputs": [],
   "source": [
    "# 'customer_idx' 카테고리별로 'is_converted'의 평균과 갯수를 계산\n",
    "idx_target = df_train.groupby('customer_idx')['is_converted'].agg(['mean', 'count']).sort_values(by='mean', ascending=False)"
   ]
  },
  {
   "cell_type": "markdown",
   "metadata": {},
   "source": [
    "계산한 비율에 대해서 customer_idx 값을 특정범위에 대한 범주화"
   ]
  },
  {
   "cell_type": "code",
   "execution_count": 20,
   "metadata": {},
   "outputs": [],
   "source": [
    "# 'mean' 값이 0.9보다 크면 1, 아니면 0을 부여\n",
    "idx_target['label'] = ((idx_target['mean'] > 0.99) & (idx_target['count'] >= 10)).astype(int)\n",
    "\n",
    "# 'idx_target'를 기준으로 'label' 값을 매핑\n",
    "idx_map = idx_target['label'].to_dict()\n",
    "\n",
    "# 'customer_idx' 열을 업데이트\n",
    "df_train['customer_idx_99'] = df_train['customer_idx'].map(idx_map)\n",
    "df_test['customer_idx_99'] = df_test['customer_idx'].map(idx_map)"
   ]
  },
  {
   "cell_type": "code",
   "execution_count": 21,
   "metadata": {},
   "outputs": [],
   "source": [
    "# 'mean' 값이 0.01보다 작으면 1, 아니면 0을 부여\n",
    "idx_target['label'] = ((idx_target['mean'] < 0.01)& (idx_target['count'] >= 10)).astype(int)\n",
    "\n",
    "# 'idx_target'를 기준으로 'label' 값을 매핑\n",
    "idx_map = idx_target['label'].to_dict()\n",
    "\n",
    "# 'customer_idx' 열을 업데이트\n",
    "df_train['customer_idx_001'] = df_train['customer_idx'].map(idx_map)\n",
    "df_test['customer_idx_001'] = df_test['customer_idx'].map(idx_map)"
   ]
  },
  {
   "cell_type": "markdown",
   "metadata": {},
   "source": [
    "### customer_type 변수"
   ]
  },
  {
   "cell_type": "markdown",
   "metadata": {},
   "source": [
    "오타나 연관 단어에 대해서 관련 값으로 변환"
   ]
  },
  {
   "cell_type": "code",
   "execution_count": 22,
   "metadata": {},
   "outputs": [],
   "source": [
    "# 카테고리 재할당\n",
    "df_train['customer_type'] = df_train['customer_type'].replace({\n",
    "    'Others': 'Other',\n",
    "    'Etc.': 'Other',\n",
    "    'Software / Solution Provider': 'Software/Solution Provider',\n",
    "    'Specifier/ Influencer': 'Specifier/Influencer',\n",
    "    'Specifier / Influencer': 'Specifier/Influencer',\n",
    "    'Distributor': 'Dealer/Distributor',\n",
    "    'Homeowner': 'Home Owner',\n",
    "    'Manager / Director' : 'Manager/Director',\n",
    "    'Commercial end-user': 'End-user',\n",
    "    'End-Customer': 'End Customer',\n",
    "    'Consultant': 'Architect/Consultant',\n",
    "    'Installer': 'Specifier/Influencer',\n",
    "    'Installer/Contractor': 'Specifier/Influencer',\n",
    "    \n",
    "    # LG 카테고리 참고함\n",
    "    'Corporate' : 'End Customer',\n",
    "    'Dealer/Distributor' : 'Channel Partner',\n",
    "    'Reseller' : 'Channel Partner',\n",
    "    'Technician': 'Specifier/Influencer',\n",
    "    'Architect/Consultant': 'Specifier/Influencer',\n",
    "    'Developer': 'End Customer',  \n",
    "})\n",
    "\n",
    "df_test['customer_type'] = df_test['customer_type'].replace({\n",
    "    'Specifier/ Influencer': 'Specifier/Influencer',\n",
    "    'End-Customer': 'End Customer',\n",
    "\n",
    "    # LG 카테고리 참고함\n",
    "    'Developer': 'End Customer',\n",
    "})"
   ]
  },
  {
   "cell_type": "markdown",
   "metadata": {},
   "source": [
    "결측값 대체"
   ]
  },
  {
   "cell_type": "code",
   "execution_count": 23,
   "metadata": {},
   "outputs": [],
   "source": [
    "# 'customer_type' 변수에서 NaN 값을 'Unknown' 으로 대체\n",
    "df_train['customer_type'] = df_train['customer_type'].fillna('Unknown')\n",
    "df_test['customer_type'] = df_test['customer_type'].fillna('Unknown')"
   ]
  },
  {
   "cell_type": "markdown",
   "metadata": {},
   "source": [
    "이때 customer_type 값을 처리하는 과정에서  \n",
    "End Customer가 End-user에 해당한다는것을 알수 있음으로 값을 바꿔줌"
   ]
  },
  {
   "cell_type": "code",
   "execution_count": 24,
   "metadata": {},
   "outputs": [],
   "source": [
    "# 카테고리 재할당\n",
    "df_train['customer_type'] = df_train['customer_type'].replace({\n",
    "    'End Customer': 'End-user'\n",
    "})\n",
    "df_test['customer_type'] = df_test['customer_type'].replace({\n",
    "    'End Customer': 'End-user'\n",
    "})"
   ]
  },
  {
   "cell_type": "markdown",
   "metadata": {},
   "source": [
    "### historical_existing_cnt 변수"
   ]
  },
  {
   "cell_type": "markdown",
   "metadata": {},
   "source": [
    "결측값 대체"
   ]
  },
  {
   "cell_type": "code",
   "execution_count": 25,
   "metadata": {},
   "outputs": [],
   "source": [
    "# median 값으로 대체(이때 median값은 4)\n",
    "cnt_train_med = df_train['historical_existing_cnt'].median()\n",
    "cnt_test_med = df_test['historical_existing_cnt'].median()\n",
    "\n",
    "# median 값으로 결측값 대체\n",
    "df_train['historical_existing_cnt'] = df_train['historical_existing_cnt'].fillna(cnt_train_med)\n",
    "df_test['historical_existing_cnt'] = df_test['historical_existing_cnt'].fillna(cnt_test_med)"
   ]
  },
  {
   "cell_type": "markdown",
   "metadata": {},
   "source": [
    "Min-Max 스케일링"
   ]
  },
  {
   "cell_type": "code",
   "execution_count": 26,
   "metadata": {},
   "outputs": [],
   "source": [
    "# Min-Max 스케일링 \n",
    "min_value = df_train['historical_existing_cnt'].min()\n",
    "max_value = df_train['historical_existing_cnt'].max()\n",
    "\n",
    "\n",
    "df_train['historical_existing_cnt'] = (df_train['historical_existing_cnt'] - min_value) / (max_value - min_value)\n",
    "df_test['historical_existing_cnt'] = (df_test['historical_existing_cnt'] - min_value) / (max_value - min_value)\n"
   ]
  },
  {
   "cell_type": "markdown",
   "metadata": {},
   "source": [
    "### id_strategic_ver, it_strategic_ver, idit_strategic_ver 변수"
   ]
  },
  {
   "cell_type": "markdown",
   "metadata": {},
   "source": [
    "결측값 대체"
   ]
  },
  {
   "cell_type": "code",
   "execution_count": 27,
   "metadata": {},
   "outputs": [],
   "source": [
    "# 누락된 값을 0으로 채우기\n",
    "df_train['id_strategic_ver'].fillna(0, inplace=True)\n",
    "df_train['it_strategic_ver'].fillna(0, inplace=True)\n",
    "df_train['idit_strategic_ver'].fillna(0, inplace=True)\n",
    "\n",
    "df_test['id_strategic_ver'].fillna(0, inplace=True)\n",
    "df_test['it_strategic_ver'].fillna(0, inplace=True)\n",
    "df_test['idit_strategic_ver'].fillna(0, inplace=True)"
   ]
  },
  {
   "cell_type": "markdown",
   "metadata": {},
   "source": [
    "### customer_job 변수"
   ]
  },
  {
   "cell_type": "markdown",
   "metadata": {},
   "source": [
    "오타관련 값에 대한 변환  \n",
    "LG 홈페이지에서 제공된 job 리스트에 해당 안되는 값에 대한 변환"
   ]
  },
  {
   "cell_type": "code",
   "execution_count": 28,
   "metadata": {},
   "outputs": [],
   "source": [
    "def search_job(customer_job):\n",
    "    # LG list 참고\n",
    "    job = ['accounting','administrative','arts and design','business development','community and social services','consulting','curation','education','engineering', 'entrepreneurship','finance','healthcare services','human resources','information technology','legal','marketing','media and communication','military and protective services operations','product management', 'program and project management','purchasing','quality assurance','real estate','research','sales','support','others']\n",
    "\n",
    "    # (오타변환)'media and communications'를 'media and communication'으로 변환\n",
    "    if customer_job == 'media and communications':\n",
    "        customer_job = 'media and communication'\n",
    "    \n",
    "    if not customer_job:\n",
    "        return 'others'\n",
    "    elif customer_job in job:\n",
    "        return customer_job\n",
    "    else:\n",
    "        return 'unknown'\n",
    "\n",
    "df_train['customer_job'] = df_train['customer_job'].apply(search_job)\n",
    "df_test['customer_job'] = df_test['customer_job'].apply(search_job)"
   ]
  },
  {
   "cell_type": "markdown",
   "metadata": {},
   "source": [
    "### lead_desc_length 변수"
   ]
  },
  {
   "cell_type": "markdown",
   "metadata": {},
   "source": [
    "Min-Max 스케일링"
   ]
  },
  {
   "cell_type": "code",
   "execution_count": 29,
   "metadata": {},
   "outputs": [],
   "source": [
    "# Min-Max 스케일링 \n",
    "min_value = df_train['lead_desc_length'].min()\n",
    "max_value = df_train['lead_desc_length'].max()\n",
    "\n",
    "df_train['lead_desc_length'] = (df_train['lead_desc_length'] - min_value) / (max_value - min_value)\n",
    "df_test['lead_desc_length'] = (df_test['lead_desc_length'] - min_value) / (max_value - min_value)"
   ]
  },
  {
   "cell_type": "markdown",
   "metadata": {},
   "source": [
    "결측값 대체"
   ]
  },
  {
   "cell_type": "code",
   "execution_count": 30,
   "metadata": {},
   "outputs": [],
   "source": [
    "# 누락된 값을 0으로 채우기\n",
    "df_train['lead_desc_length'].fillna(0, inplace=True)\n",
    "df_test['lead_desc_length'].fillna(0, inplace=True)"
   ]
  },
  {
   "cell_type": "markdown",
   "metadata": {},
   "source": [
    "### inquiry_type 변수"
   ]
  },
  {
   "cell_type": "markdown",
   "metadata": {},
   "source": [
    "오타나 연관 단어에 대해서 관련 값으로 변환"
   ]
  },
  {
   "cell_type": "code",
   "execution_count": 31,
   "metadata": {},
   "outputs": [],
   "source": [
    "# 'inquiry_type' 열의 철자오류에 대해 일관된 값으로 변환\n",
    "df_train['inquiry_type'] = df_train['inquiry_type'].replace({\n",
    "\n",
    "    'Quotation or purchase consultation': 'Quotation or Purchase Consultation',\n",
    "    'Request for quotation or purchase': 'Quotation or Purchase Consultation',\n",
    "    'quotation_or_purchase_consultation': 'Quotation or Purchase Consultation',\n",
    "    'quotation_': 'Quotation or Purchase Consultation',\n",
    "    'Purchase or Quotation': 'Quotation or Purchase Consultation',\n",
    "    'Quotation or Purchase consultation': 'Quotation or Purchase Consultation',\n",
    "    'Purchase': 'Quotation or Purchase Consultation',\n",
    "    'quotation_or_purchase_consultation': 'Quotation or Purchase Consultation',\n",
    "    'quotation_': 'Quotation or Purchase Consultation',\n",
    "    'quotation_': 'Quotation or Purchase Consultation',\n",
    "\n",
    "    'Usage or technical consultation': 'Usage or Technical Consultation',\n",
    "    'Technical Consultation': 'Usage or Technical Consultation',\n",
    "    'usage or technical consultation': 'Usage or Technical Consultation',\n",
    "    'usage_or_technical_consultation': 'Usage or Technical Consultation',\n",
    "    'Request for technical consulting': 'Usage or Technical Consultation',\n",
    "    'technical_consultation': 'Usage or Technical Consultation',\n",
    "    'technical': 'Usage or Technical Consultation',\n",
    "\n",
    "    'sales':'Sales Inquiry',\n",
    "    'Sales inquiry':'Sales Inquiry',\n",
    "\n",
    "    'other': 'Other',\n",
    "    'other_': 'Other',\n",
    "    'others': 'Other',\n",
    "    'Others' : 'Other',\n",
    "    'Etc.': 'Other',\n",
    "    'ETC.': 'Other'\n",
    "\n",
    "})\n",
    "\n",
    "df_test['inquiry_type'] = df_test['inquiry_type'].replace({\n",
    "\n",
    "    'Technical Consultation': 'Usage or Technical Consultation',\n",
    "\n",
    "    'other_': 'Other',\n",
    "    'Others' : 'Other',\n",
    "\n",
    "})"
   ]
  },
  {
   "cell_type": "markdown",
   "metadata": {},
   "source": [
    "특정값에 대한 처리('Other' 값으로 변환)"
   ]
  },
  {
   "cell_type": "code",
   "execution_count": 32,
   "metadata": {},
   "outputs": [],
   "source": [
    "# 'inquiry_type' 열의 값별 개수를 계산합니다.\n",
    "value_counts = df_train['inquiry_type'].value_counts()\n",
    "\n",
    "# 2개 이하인 값들의 리스트를 만듭니다.\n",
    "to_replace = value_counts[value_counts <= 2].index\n",
    "\n",
    "# 2개 이하인 값들을 'Other'로 업데이트합니다.\n",
    "df_train['inquiry_type'] = df_train['inquiry_type'].replace(to_replace, 'Other')"
   ]
  },
  {
   "cell_type": "code",
   "execution_count": 33,
   "metadata": {},
   "outputs": [],
   "source": [
    "# train 데이터셋에 없는 test 데이터셋에 대한 처리\n",
    "## test 데이터셋 값중 {'Media Inquiry'} 값에 대한 처리\n",
    "def replace_unknown_values(row, unique):\n",
    "    if row not in unique:\n",
    "        return 'Other'\n",
    "    else:\n",
    "        return row\n",
    "\n",
    "unique_train_values = df_train['inquiry_type'].unique()\n",
    "df_test['inquiry_type'] = df_test['inquiry_type'].apply(lambda x: replace_unknown_values(x, unique_train_values))"
   ]
  },
  {
   "cell_type": "markdown",
   "metadata": {},
   "source": [
    "결측값 대체('Unknown' 값으로 변환)"
   ]
  },
  {
   "cell_type": "code",
   "execution_count": 34,
   "metadata": {},
   "outputs": [],
   "source": [
    "# 'inquiry_type' 변수에서 NaN 값을 'Unknown' 으로 대체\n",
    "df_train['inquiry_type'] = df_train['inquiry_type'].fillna('Unknown')\n",
    "df_test['inquiry_type'] = df_test['inquiry_type'].fillna('Unknown')"
   ]
  },
  {
   "cell_type": "markdown",
   "metadata": {},
   "source": [
    "### product_category 변수"
   ]
  },
  {
   "cell_type": "markdown",
   "metadata": {},
   "source": [
    "특정값에 대해서 관련 값으로 변환"
   ]
  },
  {
   "cell_type": "code",
   "execution_count": 35,
   "metadata": {},
   "outputs": [],
   "source": [
    "df_train['product_category'] = df_train['product_category'].replace({\n",
    "    'notebook': 'laptop',\n",
    "    'others': 'other',\n",
    "    'ess': 'other',\n",
    "    'signage care solution': 'other',\n",
    "})\n",
    "\n",
    "df_test['product_category'] = df_test['product_category'].replace({\n",
    "    'notebook': 'laptop',\n",
    "    'others': 'other',\n",
    "    'ess': 'other',\n",
    "    'signage care solution': 'other',\n",
    "})"
   ]
  },
  {
   "cell_type": "markdown",
   "metadata": {},
   "source": [
    "특정 빈도수 이하 값대체"
   ]
  },
  {
   "cell_type": "code",
   "execution_count": 36,
   "metadata": {},
   "outputs": [],
   "source": [
    "# 'product_category'의 빈도 계산\n",
    "counts_train = df_train['product_category'].value_counts()\n",
    "\n",
    "# 빈도가 특정수치 이하인 product_category 를 찾음\n",
    "find_count_train = counts_train[counts_train <= 15].index\n",
    "\n",
    "# 빈도가 특정수치 이하값 \n",
    "df_train.loc[df_train['product_category'].isin(find_count_train), 'product_category'] = 'other'"
   ]
  },
  {
   "cell_type": "markdown",
   "metadata": {},
   "source": [
    "결측값 대체"
   ]
  },
  {
   "cell_type": "code",
   "execution_count": 37,
   "metadata": {},
   "outputs": [],
   "source": [
    "# 'product_category' 변수에서 NaN 값을 'Unknown' 으로 대체\n",
    "df_train['product_category'] = df_train['product_category'].fillna('unknown')\n",
    "df_test['product_category'] = df_test['product_category'].fillna('unknown')"
   ]
  },
  {
   "cell_type": "markdown",
   "metadata": {},
   "source": [
    "### product_subcategory, product_modelname 변수"
   ]
  },
  {
   "cell_type": "markdown",
   "metadata": {},
   "source": [
    "train 데이터셋에 없는 데이터에 대한 처리"
   ]
  },
  {
   "cell_type": "code",
   "execution_count": 38,
   "metadata": {},
   "outputs": [],
   "source": [
    "# train 데이터셋에 없는 test 데이터셋에 대한 처리\n",
    "def replace_unknown(row, unique):\n",
    "    if row not in unique:\n",
    "        return 'Unknown'\n",
    "    else:\n",
    "        return row\n",
    "\n",
    "# product_subcategory 결측값 대체\n",
    "unique_subcategory = df_train['product_subcategory'].unique()\n",
    "df_test['product_subcategory'] = df_test['product_subcategory'].apply(lambda x: replace_unknown(x, unique_subcategory))\n",
    "\n",
    "# product_modelname 결측값 대체\n",
    "unique_modelname = df_train['product_modelname'].unique()\n",
    "df_test['product_modelname'] = df_test['product_modelname'].apply(lambda x: replace_unknown(x, unique_modelname))"
   ]
  },
  {
   "cell_type": "markdown",
   "metadata": {},
   "source": [
    "결측값 대체"
   ]
  },
  {
   "cell_type": "code",
   "execution_count": 39,
   "metadata": {},
   "outputs": [],
   "source": [
    "# 'product_subcategory' 변수에서 NaN 값을 'Unknown' 으로 대체\n",
    "df_train['product_subcategory'] = df_train['product_subcategory'].fillna('Unknown')\n",
    "df_test['product_subcategory'] = df_test['product_subcategory'].fillna('Unknown')\n",
    "\n",
    "# 'product_modelname' 변수에서 NaN 값을 'Unknown' 으로 대체\n",
    "df_train['product_modelname'] = df_train['product_modelname'].fillna('Unknown')\n",
    "df_test['product_modelname'] = df_test['product_modelname'].fillna('Unknown')"
   ]
  },
  {
   "cell_type": "markdown",
   "metadata": {},
   "source": [
    "### customer_position 변수"
   ]
  },
  {
   "cell_type": "markdown",
   "metadata": {},
   "source": [
    "오타에 대한 값이나 관련값으로 대체가능한 값에 대한 처리"
   ]
  },
  {
   "cell_type": "code",
   "execution_count": 40,
   "metadata": {},
   "outputs": [],
   "source": [
    "df_train['customer_position'] = df_train['customer_position'].replace({\n",
    "    'vicepresident': 'vice president',\n",
    "    'vp': 'vice president',\n",
    "    'entrylevel': 'entry level',\n",
    "    'c-levelexecutive': 'c-level executive',\n",
    "    'founder': 'ceo/founder',\n",
    "    'ceo/fundador': 'ceo/founder',\n",
    "    'commercial consultant': 'consultant',\n",
    "    'architect/consultant': 'consultant',\n",
    "    'architecture/consult': 'consultant',\n",
    "    'business unit director': 'director',\n",
    "    'no influence': 'none',\n",
    "    'not applicable': 'none',\n",
    "    'commercial end-user': 'end-user',\n",
    "    'exhibitiontv': 'exhibition',\n",
    "    'decision-influencer': 'decision influencer',\n",
    "    'sales': 'business development/sales',\n",
    "    'subsidiary sales (ise)': 'business development/sales',\n",
    "    'business development': 'business development/sales',\n",
    "    'medical device manufacturer': 'manufacturer',\n",
    "    'assistant professor of enlish': 'assistant professor',\n",
    "    'asst prof.': 'assistant professor',\n",
    "    'prof.': 'professor',\n",
    "    'professor of mathematics': 'professor',\n",
    "    'principal & director': 'director',\n",
    "    'others': 'other',\n",
    "    'decision-maker': 'decision maker',\n",
    "})\n",
    "\n",
    "df_test['customer_position'] = df_test['customer_position'].replace({\n",
    "    'vicepresident': 'vice president',\n",
    "    'vp': 'vice president',\n",
    "    'entrylevel': 'entry level',\n",
    "    'c-levelexecutive': 'c-level executive',\n",
    "    'founder': 'ceo/founder',\n",
    "    'ceo/fundador': 'ceo/founder',\n",
    "    'commercial consultant': 'consultant',\n",
    "    'architect/consultant': 'consultant',\n",
    "    'architecture/consult': 'consultant',\n",
    "    'business unit director': 'director',\n",
    "    'no influence': 'none',\n",
    "    'not applicable': 'none',\n",
    "    'commercial end-user': 'end-user',\n",
    "    'exhibitiontv': 'exhibition',\n",
    "    'decision-influencer': 'decision influencer',\n",
    "    'sales': 'business development/sales',\n",
    "    'subsidiary sales (ise)': 'business development/sales',\n",
    "    'business development': 'business development/sales',\n",
    "    'medical device manufacturer': 'manufacturer',\n",
    "    'assistant professor of enlish': 'assistant professor',\n",
    "    'asst prof.': 'assistant professor',\n",
    "    'prof.': 'professor',\n",
    "    'professor of mathematics': 'professor',\n",
    "    'principal & director': 'director',\n",
    "    'others': 'other'\n",
    "})"
   ]
  },
  {
   "cell_type": "markdown",
   "metadata": {},
   "source": [
    "특정 범주이하의 값에 대한 처리"
   ]
  },
  {
   "cell_type": "code",
   "execution_count": 41,
   "metadata": {},
   "outputs": [],
   "source": [
    "## train\n",
    "# 'inquiry_type' 열의 값별 개수 계산\n",
    "counts_train = df_train['customer_position'].value_counts()\n",
    "counts_test = df_test['customer_position'].value_counts()\n",
    "\n",
    "# 특정수 이하인 값들의 리스트로 만듬\n",
    "replace_train = counts_train[counts_train <= 40].index\n",
    "replace_test = counts_test[counts_test <= 2].index\n",
    "\n",
    "# 특정수 이하인 값들을 'other'로 업데이트\n",
    "df_train['customer_position'] = df_train['customer_position'].replace(replace_train, 'other')\n",
    "df_test['customer_position'] = df_test['customer_position'].replace(replace_test, 'other')"
   ]
  },
  {
   "cell_type": "markdown",
   "metadata": {},
   "source": [
    "### response_corporate 변수"
   ]
  },
  {
   "cell_type": "markdown",
   "metadata": {},
   "source": [
    "특정 범주이하 값 처리"
   ]
  },
  {
   "cell_type": "code",
   "execution_count": 42,
   "metadata": {},
   "outputs": [],
   "source": [
    "# 'response_corporate'의 빈도 계산\n",
    "counts_train = df_train['response_corporate'].value_counts()\n",
    "\n",
    "# 빈도가 특정수치 이하인 product_category 를 찾음\n",
    "find_count_train = counts_train[counts_train <= 5].index\n",
    "\n",
    "# 빈도가 특정수치 이하값 \n",
    "df_train.loc[df_train['response_corporate'].isin(find_count_train), 'response_corporate'] = 'other'"
   ]
  },
  {
   "cell_type": "markdown",
   "metadata": {},
   "source": [
    "train 데이터셋에 없는 값에 대한 처리"
   ]
  },
  {
   "cell_type": "code",
   "execution_count": 43,
   "metadata": {},
   "outputs": [],
   "source": [
    "# train 데이터셋에 없는 test 데이터셋에 대한 처리\n",
    "def replace_unknown_values(row, unique):\n",
    "    if row not in unique:\n",
    "        return 'other'\n",
    "    else:\n",
    "        return row\n",
    "\n",
    "unique_train_values = df_train['response_corporate'].unique()\n",
    "df_test['response_corporate'] = df_test['response_corporate'].apply(lambda x: replace_unknown_values(x, unique_train_values))"
   ]
  },
  {
   "cell_type": "markdown",
   "metadata": {},
   "source": [
    "### expected_timeline 변수"
   ]
  },
  {
   "cell_type": "markdown",
   "metadata": {},
   "source": [
    "'months' , 'year'를 포함하는 값을 추출  \n",
    "(이때 해당안되는 값에 대해서는 etc 값으로 변환)"
   ]
  },
  {
   "cell_type": "code",
   "execution_count": 44,
   "metadata": {},
   "outputs": [],
   "source": [
    "# 'months' , 'year' 포함하는 값 추출(아닌경우 'etc' 값으로 변환)\n",
    "df_train['expected_timeline'] = np.where(df_train['expected_timeline'].str.contains('months|year', na=False), df_train['expected_timeline'], 'etc.')\n",
    "df_test['expected_timeline'] = np.where(df_test['expected_timeline'].str.contains('months|year', na=False), df_test['expected_timeline'], 'etc.')"
   ]
  },
  {
   "cell_type": "markdown",
   "metadata": {},
   "source": [
    "추출한 값에 대해서 관련 값으로 변환"
   ]
  },
  {
   "cell_type": "code",
   "execution_count": 45,
   "metadata": {},
   "outputs": [],
   "source": [
    "df_train['expected_timeline'] = df_train['expected_timeline'].replace({\n",
    "    'less_than_3_months': 'less than 3 months',\n",
    "    '3_months_~_6_months': '3 months ~ 6 months',\n",
    "    '9_months_~_1_year': '9 months ~ 1 year',\n",
    "    'more_than_a_year': 'more than a year',\n",
    "    '6_months_~_9_months': '6 months ~ 9 months',\n",
    "    '9 months - 1 year': '9 months ~ 1 year',\n",
    "    'duplicate lead - il220100042906. less than 3 months': 'less than 3 months',\n",
    "    'less than 3 months ,meeting with the customer for the more details and tentative boq will ne 32 and 43': 'less than 3 months',\n",
    "\n",
    "    'less_than_3_months': 'less than 3 months',\n",
    "    'less than 3 months- outdoor led requiment': 'less than 3 months',\n",
    "    'need to discuss with client in next two months. they need to check the product and accridngly proceed for personal use.': 'less than 3 months',\n",
    "    'quotation sent – 75tr3dj , work in progress, he will buy after 2 months. he has not even seen the quote yet.': 'less than 3 months',\n",
    "    'quote shared with customer, he will confirm after 2 months. lead shared with partner.': 'less than 3 months',\n",
    "    'less than 3 months- outdoor led requiment': 'less than 3 months',\n",
    "    'less than 3 months. customer not answered . to call back': 'less than 3 months',\n",
    "\n",
    "    'purchase planning after 3 months': '3 months ~ 6 months',\n",
    "    'needs hotel tv after 4 months, will call us.': '3 months ~ 6 months',\n",
    "\n",
    "    'we are already in touch with this cutsomer from last 2 years, he has never purchased any product till date. i called him up twice but no reponse.' : 'etc.',\n",
    "    'very abrupt customer. said the inquiry was made months ago and was rude enough. closing in the system as the client behaviour has no scope to discuss on requirement. need marketing team to check if the case was received in dec or jan as per client.' : 'etc.',\n",
    "\n",
    "    # 아래 값들은 근사 기간으로 넣어줌\n",
    "    'more then 3 months': '3 months ~ 6 months',\n",
    "    'less than 5 months': '3 months ~ 6 months',\n",
    "    'less than 6 months': '3 months ~ 6 months',\n",
    "    'less then 6 months': '3 months ~ 6 months',\n",
    "    '3 months': '3 months ~ 6 months',\n",
    "    '4/8 months': '3 months ~ 6 months',\n",
    "\n",
    "})\n",
    "df_test['customer_position'] = df_test['customer_position'].replace({\n",
    "    'less_than_3_months': 'less than 3 months',\n",
    "    '3_months_~_6_months': '3 months ~ 6 months',\n",
    "    '9_months_~_1_year': '9 months ~ 1 year',\n",
    "    'more_than_a_year': 'more than a year',\n",
    "    '6_months_~_9_months': '6 months ~ 9 months'\n",
    "})\n"
   ]
  },
  {
   "cell_type": "markdown",
   "metadata": {},
   "source": [
    "### ver_cus, ver_pro 변수"
   ]
  },
  {
   "cell_type": "markdown",
   "metadata": {},
   "source": [
    "따로처리할 부분 없음"
   ]
  },
  {
   "cell_type": "markdown",
   "metadata": {},
   "source": [
    "### ver_win_rate_x 변수"
   ]
  },
  {
   "cell_type": "markdown",
   "metadata": {},
   "source": [
    "결측값 대체"
   ]
  },
  {
   "cell_type": "code",
   "execution_count": 46,
   "metadata": {},
   "outputs": [],
   "source": [
    "# 'ver_win_rate_x' 변수에서 NaN 값을 0으로 대체\n",
    "df_train['ver_win_rate_x'] = df_train['ver_win_rate_x'].fillna(0)\n",
    "df_test['ver_win_rate_x'] = df_test['ver_win_rate_x'].fillna(0)"
   ]
  },
  {
   "cell_type": "markdown",
   "metadata": {},
   "source": [
    "### ver_win_ratio_per_bu 변수"
   ]
  },
  {
   "cell_type": "markdown",
   "metadata": {},
   "source": [
    "business_area, business_unit 의 변수로 그룹화 진행  \n",
    "해당하는 그룹에서 'ver_win_ratio_per_bu' 의 결측값에 대한 예측"
   ]
  },
  {
   "cell_type": "code",
   "execution_count": 47,
   "metadata": {},
   "outputs": [],
   "source": [
    "grouped = df_train.groupby([\"business_area\",\"business_unit\"])\n",
    "\n",
    "# business_area, business_unit 그룹화하여 샘플 수 계산\n",
    "grouped_counts = df_train.groupby(['business_area', 'business_unit']).size()\n",
    "\n",
    "# business_area, business_unit, is_converted 그룹화하여 영업 전환된(is_converted) 샘플 수 계산\n",
    "converted_counts = df_train[df_train['is_converted']].groupby(['business_area', 'business_unit']).size()\n",
    "\n",
    "# business_area, business_unit별 샘플 수 대비 영업 전환된(is_converted) 샘플 수의 비율 계산\n",
    "conversion_rates = converted_counts / grouped_counts"
   ]
  },
  {
   "cell_type": "markdown",
   "metadata": {},
   "source": [
    "위의 코드를 통해 구한 값에 대해서 해당하는 부분의 값이 결측값인 경우 값대체"
   ]
  },
  {
   "cell_type": "code",
   "execution_count": 48,
   "metadata": {},
   "outputs": [],
   "source": [
    "# 그룹별 값을 딕셔너리로 정의\n",
    "group_values = {\n",
    "    ('corporate / office', 'AS'): 0.029734,\n",
    "    ('corporate / office', 'ID'): 0.088618,\n",
    "    ('corporate / office', 'IT'): 0.033333,\n",
    "    ('corporate / office', 'Solution'): 0.034483,\n",
    "    ('education', 'AS'): 0.066667,\n",
    "    ('education', 'ID'): 0.064897,\n",
    "    ('education', 'IT'): 0.046667,\n",
    "    ('education', 'Solution'): None,\n",
    "    ('factory', 'AS'): 0.059553,\n",
    "    ('factory', 'ID'): 0.068519,\n",
    "    ('factory', 'IT'): 0.337349,\n",
    "    ('factory', 'Solution'): None,\n",
    "    ('government department', 'AS'): 0.040462,\n",
    "    ('government department', 'ID'): 0.076010,\n",
    "    ('government department', 'IT'): None,\n",
    "    ('government department', 'Solution'): None,\n",
    "    ('hospital & health care', 'AS'): 0.096154,\n",
    "    ('hospital & health care', 'ID'): 0.128378,\n",
    "    ('hospital & health care', 'IT'): 0.378771,\n",
    "    ('hotel & accommodation', 'AS'): 0.004831,\n",
    "    ('hotel & accommodation', 'ID'): 0.118902,\n",
    "    ('hotel & accommodation', 'IT'): 0.002528,\n",
    "    ('hotel & accommodation', 'Solution'): None,\n",
    "    ('power plant / renewable energy', 'AS'): 0.129032,\n",
    "    ('power plant / renewable energy', 'ID'): 0.279070,\n",
    "    ('power plant / renewable energy', 'IT'): None,\n",
    "    ('public facility', 'AS'): 0.030000,\n",
    "    ('public facility', 'ID'): 0.099631,\n",
    "    ('public facility', 'IT'): 0.025000,\n",
    "    ('public facility', 'Solution'): None,\n",
    "    ('residential (home)', 'AS'): 0.017582,\n",
    "    ('residential (home)', 'ID'): 0.038961,\n",
    "    ('residential (home)', 'IT'): 0.142857,\n",
    "    ('residential (home)', 'Solution'): None,\n",
    "    ('retail', 'AS'): 0.026650,\n",
    "    ('retail', 'ID'): 0.061637,\n",
    "    ('retail', 'IT'): 0.073620,\n",
    "    ('retail', 'Solution'): None,\n",
    "    ('special purpose', 'AS'): 0.028050,\n",
    "    ('special purpose', 'ID'): 0.070698,\n",
    "    ('special purpose', 'IT'): 0.046296,\n",
    "    ('special purpose', 'Solution'): None,\n",
    "    ('transportation', 'AS'): 0.037736,\n",
    "    ('transportation', 'ID'): 0.064815,\n",
    "    ('transportation', 'IT'): 0.060606,\n",
    "    ('transportation', 'Solution'): None,\n",
    "}\n",
    "\n",
    "# 'business_area'와 'business_unit'에 해당하는 그룹별 값을 'ver_win_ratio_per_bu' 변수에 적용\n",
    "df_train['ver_win_ratio_per_bu'] = df_train.apply(lambda row: group_values.get((row['business_area'], row['business_unit'])), axis=1)\n",
    "df_test['ver_win_ratio_per_bu'] = df_test.apply(lambda row: group_values.get((row['business_area'], row['business_unit'])), axis=1)"
   ]
  },
  {
   "cell_type": "markdown",
   "metadata": {},
   "source": [
    "결측값 대체"
   ]
  },
  {
   "cell_type": "code",
   "execution_count": 49,
   "metadata": {},
   "outputs": [],
   "source": [
    "# 결측값 0값으로 대체\n",
    "df_train['ver_win_ratio_per_bu'].fillna(0, inplace=True)\n",
    "df_test['ver_win_ratio_per_bu'].fillna(0, inplace=True)"
   ]
  },
  {
   "cell_type": "markdown",
   "metadata": {},
   "source": [
    "### business_area, business_subarea 변수"
   ]
  },
  {
   "cell_type": "markdown",
   "metadata": {},
   "source": [
    "결측값 대체"
   ]
  },
  {
   "cell_type": "code",
   "execution_count": 50,
   "metadata": {},
   "outputs": [],
   "source": [
    "# 결측값 'unknown' 값으로 대체\n",
    "df_train['business_area'].fillna('unknown', inplace=True)\n",
    "df_test['business_area'].fillna('unknown', inplace=True)\n",
    "\n",
    "# 결측값 'Unknown' 값으로 대체\n",
    "df_train['business_subarea'].fillna('Unknown', inplace=True)\n",
    "df_test['business_subarea'].fillna('Unknown', inplace=True)"
   ]
  },
  {
   "cell_type": "markdown",
   "metadata": {},
   "source": [
    "### lead_owner 변수"
   ]
  },
  {
   "cell_type": "markdown",
   "metadata": {},
   "source": [
    "특정 빈도수 이하 값에 대한 처리"
   ]
  },
  {
   "cell_type": "code",
   "execution_count": 51,
   "metadata": {},
   "outputs": [],
   "source": [
    "# 'lead_owner'의 빈도 계산\n",
    "counts_train = df_train['lead_owner'].value_counts()\n",
    "\n",
    "# 빈도가 특정수치 이하인 lead_owner 를 찾음\n",
    "find_count_train = counts_train[counts_train <= 10].index\n",
    "\n",
    "# 빈도가 특정수치 이하값 \n",
    "df_train.loc[df_train['lead_owner'].isin(find_count_train), 'lead_owner'] = -1"
   ]
  },
  {
   "cell_type": "markdown",
   "metadata": {},
   "source": [
    "결측값 대체"
   ]
  },
  {
   "cell_type": "code",
   "execution_count": 52,
   "metadata": {},
   "outputs": [],
   "source": [
    "# train 데이터셋에 없는 test 데이터셋에 대한 처리\n",
    "def replace_unknown_values(row, unique):\n",
    "    if row not in unique:\n",
    "        return -1\n",
    "    else:\n",
    "        return row\n",
    "\n",
    "unique_train_values = df_train['lead_owner'].unique()\n",
    "df_test['lead_owner'] = df_test['lead_owner'].apply(lambda x: replace_unknown_values(x, unique_train_values))"
   ]
  },
  {
   "cell_type": "markdown",
   "metadata": {},
   "source": [
    "lead_owner에 대하여 카테고리화하여 is_converted의 비율을 계산  \n",
    "계산한 값에대해서 특정 비율에 해당하는 값에대해서 범주화 진행"
   ]
  },
  {
   "cell_type": "code",
   "execution_count": 53,
   "metadata": {},
   "outputs": [],
   "source": [
    "# 'customer_idx' 카테고리별로 'is_converted'의 평균과 갯수를 계산\n",
    "owner_target = df_train.groupby('lead_owner')['is_converted'].agg(['mean', 'count']).sort_values(by='mean', ascending=False)\n",
    "\n",
    "# 'mean' 값이 특정 값보다 크면 1, 아니면 0을 부여\n",
    "owner_target['label_09'] = (owner_target['mean'] > 0.9).astype(int)\n",
    "owner_target['label_07'] = ((0.9 >= owner_target['mean']) & (owner_target['mean'] > 0.7)).astype(int)\n",
    "owner_target['label_05'] = ((0.7 >= owner_target['mean']) & (owner_target['mean'] > 0.5)).astype(int)\n",
    "owner_target['label_03'] = ((0.5 >= owner_target['mean']) & (owner_target['mean'] > 0.3)).astype(int)\n",
    "owner_target['label_00'] = ((0.001 >= owner_target['mean']) & (owner_target['count'] <= 100)).astype(int)\n",
    "\n",
    "\n",
    "# 'owner_target'를 기준으로 'label' 값을 매핑\n",
    "label_map_09 = owner_target['label_09'].to_dict()\n",
    "label_map_07 = owner_target['label_07'].to_dict()\n",
    "label_map_05 = owner_target['label_05'].to_dict()\n",
    "label_map_03 = owner_target['label_03'].to_dict()\n",
    "label_map_00 = owner_target['label_00'].to_dict()\n",
    "\n",
    "\n",
    "# 'lead_owner' 열을 업데이트\n",
    "df_train['lead_owner_09'] = df_train['lead_owner'].map(label_map_09)\n",
    "df_train['lead_owner_07'] = df_train['lead_owner'].map(label_map_07)\n",
    "df_train['lead_owner_05'] = df_train['lead_owner'].map(label_map_05)\n",
    "df_train['lead_owner_03'] = df_train['lead_owner'].map(label_map_03)\n",
    "df_train['lead_owner_00'] = df_train['lead_owner'].map(label_map_00)\n",
    "\n",
    "df_test['lead_owner_09'] = df_test['lead_owner'].map(label_map_09)\n",
    "df_test['lead_owner_07'] = df_test['lead_owner'].map(label_map_07)\n",
    "df_test['lead_owner_05'] = df_test['lead_owner'].map(label_map_05)\n",
    "df_test['lead_owner_03'] = df_test['lead_owner'].map(label_map_03)\n",
    "df_test['lead_owner_00'] = df_test['lead_owner'].map(label_map_00)"
   ]
  },
  {
   "cell_type": "markdown",
   "metadata": {},
   "source": [
    "## 3. 레이블 인코딩"
   ]
  },
  {
   "cell_type": "code",
   "execution_count": 54,
   "metadata": {},
   "outputs": [],
   "source": [
    "# 인코딩할 컬럼 목록\n",
    "columns_to_encode = [\"customer_country\",\n",
    "                     \"business_subarea\",\n",
    "                     \"business_area\",\n",
    "                     \"business_unit\",\n",
    "                     \"customer_type\",\n",
    "                     \"enterprise\",\n",
    "                     \"customer_job\",\n",
    "                     \"inquiry_type\",\n",
    "                     \"product_category\",\n",
    "                     \"product_subcategory\",\n",
    "                     \"product_modelname\",\n",
    "                     \"customer_country.1\",\n",
    "                     \"customer_position\",\n",
    "                     \"response_corporate\",\n",
    "                     \"expected_timeline\",\n",
    "                     \"customer_idx\",\n",
    "                     \"lead_owner\"\n",
    "                     ]\n",
    "\n",
    "df_train_encoded = df_train.copy()\n",
    "df_test_encoded = df_test.copy()\n",
    "\n",
    "for col in columns_to_encode:\n",
    "    df_train_encoded[col] = df_train_encoded[col].astype('category')\n",
    "    df_test_encoded[col] = df_test_encoded[col].astype('category')"
   ]
  },
  {
   "cell_type": "markdown",
   "metadata": {},
   "source": [
    "타겟인코딩을 통해 범주형 변수들 수치형으로 변환"
   ]
  },
  {
   "cell_type": "code",
   "execution_count": 55,
   "metadata": {},
   "outputs": [],
   "source": [
    "from category_encoders import TargetEncoder\n",
    "\n",
    "smoothing1_list = ['enterprise','response_corporate','business_unit','business_area', 'customer_country.1']\n",
    "smoothing2_list = ['lead_owner', 'customer_idx', 'customer_country']\n",
    "smoothing3_list = [item for item in columns_to_encode if item not in smoothing1_list + smoothing2_list]\n",
    "\n",
    "for col in smoothing1_list:\n",
    "    encoders = {col: TargetEncoder(smoothing=1) for col in smoothing1_list}\n",
    "    df_train_encoded[col] = encoders[col].fit_transform(df_train_encoded[col], df_train['is_converted'])\n",
    "    df_test_encoded[col] = encoders[col].transform(df_test_encoded[col])\n",
    "\n",
    "for col in smoothing2_list:\n",
    "    encoders = {col: TargetEncoder(smoothing=5) for col in smoothing2_list}\n",
    "    df_train_encoded[col] = encoders[col].fit_transform(df_train_encoded[col], df_train['is_converted'])\n",
    "    df_test_encoded[col] = encoders[col].transform(df_test_encoded[col])\n",
    "\n",
    "for col in smoothing3_list:\n",
    "    encoders = {col: TargetEncoder(smoothing=10) for col in smoothing3_list}\n",
    "    df_train_encoded[col] = encoders[col].fit_transform(df_train_encoded[col], df_train['is_converted'])\n",
    "    df_test_encoded[col] = encoders[col].transform(df_test_encoded[col])\n"
   ]
  },
  {
   "cell_type": "markdown",
   "metadata": {},
   "source": [
    "### com_reg_ver_win_rate 변수"
   ]
  },
  {
   "cell_type": "markdown",
   "metadata": {},
   "source": [
    "범주형 데이터에 대해서 수치형으로 변환을 함  \n",
    "이에 com_reg_ver_win_rate 결측값에 대한 예측이 가능해짐"
   ]
  },
  {
   "cell_type": "markdown",
   "metadata": {},
   "source": [
    "랜덤포레스트의 회귀모델을 이용하여 결측값을 예측하여 결측값 대체"
   ]
  },
  {
   "cell_type": "code",
   "execution_count": 56,
   "metadata": {},
   "outputs": [],
   "source": [
    "from sklearn.ensemble import RandomForestRegressor\n",
    "\n",
    "def fill_missing_values(df):\n",
    "    # 데이터에서 결측치가 없는 행과 결측치가 있는 행 분리\n",
    "    train_data = df[df['com_reg_ver_win_rate'].notna()]\n",
    "    test_data = df[df['com_reg_ver_win_rate'].isna()]\n",
    "\n",
    "    # 'com_reg_ver_win_rate'를 예측하는 데 사용할 피처 선택\n",
    "    features = ['business_area', 'business_unit', 'customer_country.1']   \n",
    "\n",
    "    # 훈련 데이터와 테스트 데이터 준비\n",
    "    X_train = train_data[features]\n",
    "    y_train = train_data['com_reg_ver_win_rate']\n",
    "    X_test = test_data[features]\n",
    "\n",
    "    # 랜덤 포레스트 모델 생성 및 훈련\n",
    "    model = RandomForestRegressor(random_state=0)\n",
    "    model.fit(X_train, y_train)\n",
    "\n",
    "    # 모델을 사용해 결측치 예측\n",
    "    predicted_values = model.predict(X_test)\n",
    "\n",
    "    # 예측값으로 결측치 대체\n",
    "    df.loc[df['com_reg_ver_win_rate'].isna(), 'com_reg_ver_win_rate'] = predicted_values\n",
    "\n",
    "\n",
    "# df_train_encoded에 대한 데이터 처리\n",
    "fill_missing_values(df_train_encoded)\n",
    "\n",
    "# df_test_encoded에 대한 데이터 처리\n",
    "fill_missing_values(df_test_encoded)"
   ]
  },
  {
   "cell_type": "markdown",
   "metadata": {},
   "source": [
    "상관관계와 다중공산성을 판단하여 결측값이 많은 product_modelname 변수와  \n",
    "의미없는 변수라고 생각되는 customer_country 변수에 대해서 drop을 진행"
   ]
  },
  {
   "cell_type": "code",
   "execution_count": 57,
   "metadata": {},
   "outputs": [],
   "source": [
    "df_train_encoded = df_train_encoded.drop(['customer_country','product_modelname'], axis=1)\n",
    "df_test_encoded = df_test_encoded.drop(['customer_country','product_modelname'], axis=1) "
   ]
  },
  {
   "cell_type": "code",
   "execution_count": 58,
   "metadata": {},
   "outputs": [
    {
     "name": "stdout",
     "output_type": "stream",
     "text": [
      "<class 'pandas.core.frame.DataFrame'>\n",
      "RangeIndex: 59299 entries, 0 to 59298\n",
      "Data columns (total 34 columns):\n",
      " #   Column                   Non-Null Count  Dtype  \n",
      "---  ------                   --------------  -----  \n",
      " 0   bant_submit              59299 non-null  float64\n",
      " 1   business_unit            59299 non-null  float64\n",
      " 2   com_reg_ver_win_rate     59299 non-null  float64\n",
      " 3   customer_idx             59299 non-null  float64\n",
      " 4   customer_type            59299 non-null  float64\n",
      " 5   enterprise               59299 non-null  float64\n",
      " 6   historical_existing_cnt  59299 non-null  float64\n",
      " 7   id_strategic_ver         59299 non-null  float64\n",
      " 8   it_strategic_ver         59299 non-null  float64\n",
      " 9   idit_strategic_ver       59299 non-null  float64\n",
      " 10  customer_job             59299 non-null  float64\n",
      " 11  lead_desc_length         59299 non-null  float64\n",
      " 12  inquiry_type             59299 non-null  float64\n",
      " 13  product_category         59299 non-null  float64\n",
      " 14  product_subcategory      59299 non-null  float64\n",
      " 15  customer_country.1       59299 non-null  float64\n",
      " 16  customer_position        59299 non-null  float64\n",
      " 17  response_corporate       59299 non-null  float64\n",
      " 18  expected_timeline        59299 non-null  float64\n",
      " 19  ver_cus                  59299 non-null  int64  \n",
      " 20  ver_pro                  59299 non-null  int64  \n",
      " 21  ver_win_rate_x           59299 non-null  float64\n",
      " 22  ver_win_ratio_per_bu     59299 non-null  float64\n",
      " 23  business_area            59299 non-null  float64\n",
      " 24  business_subarea         59299 non-null  float64\n",
      " 25  lead_owner               59299 non-null  float64\n",
      " 26  is_converted             59299 non-null  bool   \n",
      " 27  customer_idx_99          59299 non-null  int64  \n",
      " 28  customer_idx_001         59299 non-null  int64  \n",
      " 29  lead_owner_09            59299 non-null  int64  \n",
      " 30  lead_owner_07            59299 non-null  int64  \n",
      " 31  lead_owner_05            59299 non-null  int64  \n",
      " 32  lead_owner_03            59299 non-null  int64  \n",
      " 33  lead_owner_00            59299 non-null  int64  \n",
      "dtypes: bool(1), float64(24), int64(9)\n",
      "memory usage: 15.0 MB\n"
     ]
    }
   ],
   "source": [
    "df_train_encoded.info()"
   ]
  },
  {
   "cell_type": "markdown",
   "metadata": {},
   "source": [
    "## 4. 모델링"
   ]
  },
  {
   "cell_type": "markdown",
   "metadata": {},
   "source": [
    "### 오버샘플링 및 언더샘플링"
   ]
  },
  {
   "cell_type": "markdown",
   "metadata": {},
   "source": [
    "타겟변수에 대한 값을 변환  \n",
    "(데이터의 오버샘플링과 언더샘플링을 적용하기 위함)"
   ]
  },
  {
   "cell_type": "code",
   "execution_count": 59,
   "metadata": {},
   "outputs": [],
   "source": [
    "from sklearn.model_selection import train_test_split\n",
    "\n",
    "# 타겟변수에 대한 값 변환\n",
    "df_train_encoded.loc[df_train_encoded['is_converted'] == True, 'is_converted'] = 1\n",
    "df_train_encoded.loc[df_train_encoded['is_converted'] == False, 'is_converted'] = 0\n",
    "\n",
    "df_train_encoded['is_converted'] = df_train_encoded['is_converted'].astype(float)\n",
    "\n",
    "X = df_train_encoded[df_train_encoded.columns.drop('is_converted')]\n",
    "Y = df_train_encoded['is_converted']\n",
    "\n",
    "# X와 Y로 나누기\n",
    "x_train, x_val, y_train, y_val = train_test_split(X, Y, test_size=0.2, random_state=0, shuffle=True)\n",
    "\n",
    "# 예측에 필요한 데이터 분리\n",
    "x_test = df_test_encoded.drop([\"is_converted\"], axis=1)"
   ]
  },
  {
   "cell_type": "code",
   "execution_count": 60,
   "metadata": {},
   "outputs": [],
   "source": [
    "from imblearn.over_sampling import SMOTE\n",
    "from imblearn.under_sampling import RandomUnderSampler\n",
    "from imblearn.pipeline import Pipeline\n",
    "\n",
    "# 오버샘플링과 언더샘플링\n",
    "# SMOTE와 RandomUnderSampler를 파이프라인으로 결합\n",
    "resample = Pipeline([('SMOTE', SMOTE(random_state=0)), \n",
    "                     ('RandomUnderSampler', RandomUnderSampler(random_state=0))])\n",
    "\n",
    "# 데이터에 오버샘플링과 언더샘플링 적용\n",
    "x_train, y_train = resample.fit_resample(x_train, y_train)"
   ]
  },
  {
   "cell_type": "markdown",
   "metadata": {},
   "source": [
    "### 모델 라이브러리"
   ]
  },
  {
   "cell_type": "code",
   "execution_count": 61,
   "metadata": {},
   "outputs": [],
   "source": [
    "# 모델 라이브러리\n",
    "from lightgbm import LGBMClassifier\n",
    "from catboost import CatBoostClassifier\n",
    "from xgboost import XGBClassifier\n",
    "from sklearn.tree import DecisionTreeClassifier\n",
    "from sklearn.ensemble import RandomForestClassifier, ExtraTreesClassifier, GradientBoostingClassifier, AdaBoostClassifier\n",
    "\n",
    "# 보팅\n",
    "from sklearn.ensemble import VotingClassifier\n",
    "\n",
    "# 스테킹\n",
    "from sklearn.ensemble import StackingClassifier"
   ]
  },
  {
   "cell_type": "code",
   "execution_count": 830,
   "metadata": {},
   "outputs": [
    {
     "name": "stderr",
     "output_type": "stream",
     "text": [
      "[I 2024-02-22 13:43:50,799] A new study created in memory with name: no-name-ce754483-70da-4a64-8051-3bb6420c3bca\n"
     ]
    },
    {
     "name": "stderr",
     "output_type": "stream",
     "text": [
      "[I 2024-02-22 13:43:58,782] Trial 0 finished with value: 0.8371317398554753 and parameters: {'n_estimators': 594, 'learning_rate': 0.35901873635434767, 'max_depth': 13, 'alpha': 0.001229607110732572, 'gamma': 0.0007035737028722148, 'reg_alpha': 0.6813047017599905, 'reg_lambda': 0.04938284901364233, 'colsample_bytree': 0.9025957007038717, 'subsample': 0.9672964844509263}. Best is trial 0 with value: 0.8371317398554753.\n",
      "[I 2024-02-22 13:44:01,759] Trial 1 finished with value: 0.8330541596873255 and parameters: {'n_estimators': 445, 'learning_rate': 0.39690389385091895, 'max_depth': 12, 'alpha': 0.001368009527972693, 'gamma': 0.007098936257405904, 'reg_alpha': 0.16393245237809825, 'reg_lambda': 0.017841636973138664, 'colsample_bytree': 0.11819655769629316, 'subsample': 0.8493578609931441}. Best is trial 0 with value: 0.8371317398554753.\n",
      "[I 2024-02-22 13:44:09,745] Trial 2 finished with value: 0.8179871520342612 and parameters: {'n_estimators': 801, 'learning_rate': 0.43565601338217547, 'max_depth': 20, 'alpha': 0.00396567508177101, 'gamma': 0.0008374496868436813, 'reg_alpha': 0.8024762586578099, 'reg_lambda': 0.02064469832820399, 'colsample_bytree': 0.6759289191947714, 'subsample': 0.22901795866814179}. Best is trial 0 with value: 0.8371317398554753.\n",
      "[I 2024-02-22 13:44:16,269] Trial 3 finished with value: 0.8353726362625139 and parameters: {'n_estimators': 951, 'learning_rate': 0.2633149192662855, 'max_depth': 10, 'alpha': 0.0003381514267820292, 'gamma': 0.003535634629148813, 'reg_alpha': 0.5105352989948937, 'reg_lambda': 0.061159055398178376, 'colsample_bytree': 0.11691082039271963, 'subsample': 0.6558719473682894}. Best is trial 0 with value: 0.8371317398554753.\n",
      "[I 2024-02-22 13:44:21,751] Trial 4 finished with value: 0.8337053571428571 and parameters: {'n_estimators': 651, 'learning_rate': 0.3103823284530047, 'max_depth': 19, 'alpha': 0.0023101522250182378, 'gamma': 0.0005236194873419149, 'reg_alpha': 0.4933287584194074, 'reg_lambda': 0.07278680763345384, 'colsample_bytree': 0.15420292446634287, 'subsample': 0.7000900439011009}. Best is trial 0 with value: 0.8371317398554753.\n",
      "[I 2024-02-22 13:44:26,628] Trial 5 finished with value: 0.8180300500834724 and parameters: {'n_estimators': 704, 'learning_rate': 0.10913936773155125, 'max_depth': 5, 'alpha': 0.0004274218324036844, 'gamma': 0.0005338528208876639, 'reg_alpha': 0.6131770933760917, 'reg_lambda': 0.049474136211608837, 'colsample_bytree': 0.9895364542533036, 'subsample': 0.19184032967322528}. Best is trial 0 with value: 0.8371317398554753.\n",
      "[I 2024-02-22 13:44:29,935] Trial 6 finished with value: 0.8343767785998861 and parameters: {'n_estimators': 288, 'learning_rate': 0.08484821135307315, 'max_depth': 14, 'alpha': 0.00032105778495503974, 'gamma': 0.000856291327881824, 'reg_alpha': 0.31998303280144247, 'reg_lambda': 0.024307262528096778, 'colsample_bytree': 0.1993376270478746, 'subsample': 0.6906966305187461}. Best is trial 0 with value: 0.8371317398554753.\n",
      "[I 2024-02-22 13:44:33,401] Trial 7 finished with value: 0.8249158249158249 and parameters: {'n_estimators': 224, 'learning_rate': 0.10230826903162649, 'max_depth': 9, 'alpha': 0.004385170256085124, 'gamma': 0.00015638768526427812, 'reg_alpha': 0.8541504167489236, 'reg_lambda': 0.018648856710456678, 'colsample_bytree': 0.9788135185120562, 'subsample': 0.5217860814829315}. Best is trial 0 with value: 0.8371317398554753.\n",
      "[I 2024-02-22 13:44:43,195] Trial 8 finished with value: 0.834165280088741 and parameters: {'n_estimators': 980, 'learning_rate': 0.30439853227379776, 'max_depth': 16, 'alpha': 0.00011977759384712295, 'gamma': 0.00036780186337684095, 'reg_alpha': 0.20817690509185202, 'reg_lambda': 0.036652617776993045, 'colsample_bytree': 0.20685494705881965, 'subsample': 0.3861848614545784}. Best is trial 0 with value: 0.8371317398554753.\n",
      "[I 2024-02-22 13:44:53,456] Trial 9 finished with value: 0.8382022471910112 and parameters: {'n_estimators': 473, 'learning_rate': 0.036753010692648254, 'max_depth': 15, 'alpha': 0.0013589482177682008, 'gamma': 0.0003394524768362832, 'reg_alpha': 0.5709232481200297, 'reg_lambda': 0.018454645968259752, 'colsample_bytree': 0.6183518460005614, 'subsample': 0.9363665778185927}. Best is trial 9 with value: 0.8382022471910112.\n",
      "[I 2024-02-22 13:44:55,415] Trial 10 finished with value: 0.7712177121771219 and parameters: {'n_estimators': 408, 'learning_rate': 0.0165843653607438, 'max_depth': 3, 'alpha': 0.007232371232294039, 'gamma': 0.0001136175412079932, 'reg_alpha': 0.9781018325552087, 'reg_lambda': 0.08679599221687419, 'colsample_bytree': 0.48025849723701647, 'subsample': 0.9947906214373379}. Best is trial 9 with value: 0.8382022471910112.\n",
      "[I 2024-02-22 13:45:05,366] Trial 11 finished with value: 0.8283499446290143 and parameters: {'n_estimators': 522, 'learning_rate': 0.18025130119445057, 'max_depth': 16, 'alpha': 0.0008980186310942165, 'gamma': 0.002140440236789666, 'reg_alpha': 0.6377872542682691, 'reg_lambda': 0.04320252974330168, 'colsample_bytree': 0.7598268175789475, 'subsample': 0.9757627625705749}. Best is trial 9 with value: 0.8382022471910112.\n",
      "[I 2024-02-22 13:45:11,998] Trial 12 finished with value: 0.8354430379746834 and parameters: {'n_estimators': 587, 'learning_rate': 0.4872274472092514, 'max_depth': 13, 'alpha': 0.0009306986754151394, 'gamma': 0.00023260636133269738, 'reg_alpha': 0.7294937935038435, 'reg_lambda': 0.06255270736444637, 'colsample_bytree': 0.48502751163155255, 'subsample': 0.8532763233449612}. Best is trial 9 with value: 0.8382022471910112.\n",
      "[I 2024-02-22 13:45:13,834] Trial 13 finished with value: 0.8264462809917354 and parameters: {'n_estimators': 113, 'learning_rate': 0.36127088680011626, 'max_depth': 8, 'alpha': 0.001883665943075825, 'gamma': 0.0015044096763265184, 'reg_alpha': 0.4015689279556631, 'reg_lambda': 0.09744155197637704, 'colsample_bytree': 0.7954407816376612, 'subsample': 0.81061974951762}. Best is trial 9 with value: 0.8382022471910112.\n",
      "[I 2024-02-22 13:45:26,505] Trial 14 finished with value: 0.8348978464936498 and parameters: {'n_estimators': 756, 'learning_rate': 0.19705756523158843, 'max_depth': 17, 'alpha': 0.0006077244572668862, 'gamma': 0.00026934826803276307, 'reg_alpha': 0.6927384851127457, 'reg_lambda': 0.033503189163031216, 'colsample_bytree': 0.6055986336931789, 'subsample': 0.9090419039228861}. Best is trial 9 with value: 0.8382022471910112.\n",
      "[I 2024-02-22 13:45:33,786] Trial 15 finished with value: 0.7914373088685015 and parameters: {'n_estimators': 411, 'learning_rate': 0.007953951568388351, 'max_depth': 14, 'alpha': 0.0025316213498052316, 'gamma': 0.0014392805255532821, 'reg_alpha': 0.37285655251889105, 'reg_lambda': 0.011189546318590522, 'colsample_bytree': 0.38794906272589036, 'subsample': 0.5105833040734414}. Best is trial 9 with value: 0.8382022471910112.\n",
      "[I 2024-02-22 13:45:43,372] Trial 16 finished with value: 0.8367234744365035 and parameters: {'n_estimators': 549, 'learning_rate': 0.2142620493378305, 'max_depth': 11, 'alpha': 0.000173024433089208, 'gamma': 0.0004973504201918087, 'reg_alpha': 0.5556221987426475, 'reg_lambda': 0.07612128762375964, 'colsample_bytree': 0.8579767293284724, 'subsample': 0.7577334652850005}. Best is trial 9 with value: 0.8382022471910112.\n",
      "[I 2024-02-22 13:45:46,432] Trial 17 finished with value: 0.8432671081677704 and parameters: {'n_estimators': 353, 'learning_rate': 0.34520795024291706, 'max_depth': 7, 'alpha': 0.0013434986637605453, 'gamma': 0.003100347043634421, 'reg_alpha': 0.8974936905194705, 'reg_lambda': 0.03361255451699396, 'colsample_bytree': 0.3427367143598389, 'subsample': 0.6110451729775066}. Best is trial 17 with value: 0.8432671081677704.\n",
      "[I 2024-02-22 13:45:48,987] Trial 18 finished with value: 0.8290269378779549 and parameters: {'n_estimators': 290, 'learning_rate': 0.26229522934196725, 'max_depth': 7, 'alpha': 0.0005562162116669765, 'gamma': 0.009728475251760913, 'reg_alpha': 0.9057500305454788, 'reg_lambda': 0.030137459430980805, 'colsample_bytree': 0.40188248131153104, 'subsample': 0.40473378537944776}. Best is trial 17 with value: 0.8432671081677704.\n",
      "[I 2024-02-22 13:45:49,908] Trial 19 finished with value: 0.8106543138390273 and parameters: {'n_estimators': 113, 'learning_rate': 0.14350363149738019, 'max_depth': 6, 'alpha': 0.003710119822234012, 'gamma': 0.004448955975742325, 'reg_alpha': 0.776435279231613, 'reg_lambda': 0.038570059209834785, 'colsample_bytree': 0.2982514952969315, 'subsample': 0.6157236473399941}. Best is trial 17 with value: 0.8432671081677704.\n",
      "[I 2024-02-22 13:45:51,769] Trial 20 finished with value: 0.8082267926625903 and parameters: {'n_estimators': 324, 'learning_rate': 0.4580724511739137, 'max_depth': 3, 'alpha': 0.006817024192895739, 'gamma': 0.0029138806779441906, 'reg_alpha': 0.961979045965353, 'reg_lambda': 0.010203873011072936, 'colsample_bytree': 0.590833998525073, 'subsample': 0.3218729459065939}. Best is trial 17 with value: 0.8432671081677704.\n",
      "[I 2024-02-22 13:46:00,524] Trial 21 finished with value: 0.8403547671840356 and parameters: {'n_estimators': 469, 'learning_rate': 0.357170849925188, 'max_depth': 15, 'alpha': 0.001414098695164099, 'gamma': 0.0011419962702052214, 'reg_alpha': 0.6610103292058634, 'reg_lambda': 0.04948631916755493, 'colsample_bytree': 0.8860272163594544, 'subsample': 0.9137046293294792}. Best is trial 17 with value: 0.8432671081677704.\n",
      "[I 2024-02-22 13:46:08,520] Trial 22 finished with value: 0.8332403792526493 and parameters: {'n_estimators': 488, 'learning_rate': 0.32905111165455286, 'max_depth': 17, 'alpha': 0.0015936911174153474, 'gamma': 0.0015375105163351007, 'reg_alpha': 0.5845195688191642, 'reg_lambda': 0.028199329664390215, 'colsample_bytree': 0.715423186196123, 'subsample': 0.7665308197821114}. Best is trial 17 with value: 0.8432671081677704.\n",
      "[I 2024-02-22 13:46:12,733] Trial 23 finished with value: 0.8350799779371207 and parameters: {'n_estimators': 337, 'learning_rate': 0.4057883816104548, 'max_depth': 15, 'alpha': 0.0007920595853590389, 'gamma': 0.0011920844767241293, 'reg_alpha': 0.46431118713495867, 'reg_lambda': 0.04496140729748779, 'colsample_bytree': 0.35981874324501406, 'subsample': 0.9143154247845594}. Best is trial 17 with value: 0.8432671081677704.\n",
      "[I 2024-02-22 13:46:18,107] Trial 24 finished with value: 0.838781163434903 and parameters: {'n_estimators': 400, 'learning_rate': 0.3719007904635746, 'max_depth': 18, 'alpha': 0.002800495438382048, 'gamma': 0.0024721949047110236, 'reg_alpha': 0.8507877656417527, 'reg_lambda': 0.053144592705170884, 'colsample_bytree': 0.49493752299839805, 'subsample': 0.8956974476916301}. Best is trial 17 with value: 0.8432671081677704.\n",
      "[I 2024-02-22 13:46:19,850] Trial 25 finished with value: 0.7634237107921319 and parameters: {'n_estimators': 198, 'learning_rate': 0.3738902196468543, 'max_depth': 18, 'alpha': 0.0028960200304834764, 'gamma': 0.0023442098475155585, 'reg_alpha': 0.8939434069311395, 'reg_lambda': 0.057686277010271236, 'colsample_bytree': 0.29074810567997306, 'subsample': 0.10399657570694437}. Best is trial 17 with value: 0.8432671081677704.\n",
      "[I 2024-02-22 13:46:24,383] Trial 26 finished with value: 0.8319649698960043 and parameters: {'n_estimators': 372, 'learning_rate': 0.4254270943439146, 'max_depth': 11, 'alpha': 0.0021698339270365997, 'gamma': 0.004552404008135995, 'reg_alpha': 0.8220874905811343, 'reg_lambda': 0.06977604961356607, 'colsample_bytree': 0.5052429501818558, 'subsample': 0.5857303343804297}. Best is trial 17 with value: 0.8432671081677704.\n",
      "[I 2024-02-22 13:46:27,945] Trial 27 finished with value: 0.839355197331851 and parameters: {'n_estimators': 180, 'learning_rate': 0.2906003008455554, 'max_depth': 20, 'alpha': 0.00978861428109055, 'gamma': 0.001972416645180014, 'reg_alpha': 0.7722310248439264, 'reg_lambda': 0.051950574051436715, 'colsample_bytree': 0.5372138419167085, 'subsample': 0.7622361860043048}. Best is trial 17 with value: 0.8432671081677704.\n",
      "[I 2024-02-22 13:46:32,272] Trial 28 finished with value: 0.8363028953229399 and parameters: {'n_estimators': 218, 'learning_rate': 0.2850518458734924, 'max_depth': 20, 'alpha': 0.009796471516410036, 'gamma': 0.00580439586671356, 'reg_alpha': 0.7425229978728008, 'reg_lambda': 0.06548504868984278, 'colsample_bytree': 0.6735035261371347, 'subsample': 0.768247491564664}. Best is trial 17 with value: 0.8432671081677704.\n",
      "[I 2024-02-22 13:46:34,041] Trial 29 finished with value: 0.8287292817679557 and parameters: {'n_estimators': 179, 'learning_rate': 0.3297561990432008, 'max_depth': 5, 'alpha': 0.0002179727816814789, 'gamma': 0.0018267561991425598, 'reg_alpha': 0.6667751546372849, 'reg_lambda': 0.04497494888004109, 'colsample_bytree': 0.8905534944830226, 'subsample': 0.4511583605775254}. Best is trial 17 with value: 0.8432671081677704.\n",
      "[I 2024-02-22 13:46:36,919] Trial 30 finished with value: 0.82808181315644 and parameters: {'n_estimators': 272, 'learning_rate': 0.22776724510809493, 'max_depth': 8, 'alpha': 0.0058687026740256165, 'gamma': 0.0010622712517744113, 'reg_alpha': 0.9203153468418096, 'reg_lambda': 0.05283081618286037, 'colsample_bytree': 0.4273417926798716, 'subsample': 0.6538570772525839}. Best is trial 17 with value: 0.8432671081677704.\n",
      "[I 2024-02-22 13:46:43,509] Trial 31 finished with value: 0.8356391809629221 and parameters: {'n_estimators': 382, 'learning_rate': 0.3408155666467134, 'max_depth': 18, 'alpha': 0.0011641997435063696, 'gamma': 0.003289087207874553, 'reg_alpha': 0.8492103094824095, 'reg_lambda': 0.05548740583584376, 'colsample_bytree': 0.5554166525941429, 'subsample': 0.8527138745832988}. Best is trial 17 with value: 0.8432671081677704.\n",
      "[I 2024-02-22 13:46:48,480] Trial 32 finished with value: 0.8339811215991114 and parameters: {'n_estimators': 451, 'learning_rate': 0.38739821507891387, 'max_depth': 19, 'alpha': 0.0031274855342207078, 'gamma': 0.002589591121812058, 'reg_alpha': 0.7113981052179099, 'reg_lambda': 0.05036562962265816, 'colsample_bytree': 0.3113019747668835, 'subsample': 0.8845357256041375}. Best is trial 17 with value: 0.8432671081677704.\n",
      "[I 2024-02-22 13:46:57,534] Trial 33 finished with value: 0.8313985627418463 and parameters: {'n_estimators': 615, 'learning_rate': 0.35090276297677614, 'max_depth': 20, 'alpha': 0.005019992333023213, 'gamma': 0.004665177231394812, 'reg_alpha': 0.7817365662092504, 'reg_lambda': 0.04127985883189283, 'colsample_bytree': 0.5265855677224258, 'subsample': 0.8113522207555777}. Best is trial 17 with value: 0.8432671081677704.\n",
      "[I 2024-02-22 13:47:02,195] Trial 34 finished with value: 0.8303769401330376 and parameters: {'n_estimators': 342, 'learning_rate': 0.28812033555131805, 'max_depth': 18, 'alpha': 0.001798409558563781, 'gamma': 0.0007046397024505678, 'reg_alpha': 0.8829535540393815, 'reg_lambda': 0.05777691565350647, 'colsample_bytree': 0.4468193672015598, 'subsample': 0.7379655770146781}. Best is trial 17 with value: 0.8432671081677704.\n",
      "[I 2024-02-22 13:47:09,692] Trial 35 finished with value: 0.8327832783278327 and parameters: {'n_estimators': 509, 'learning_rate': 0.40934091791849425, 'max_depth': 12, 'alpha': 0.009058433479548577, 'gamma': 0.002020623822174488, 'reg_alpha': 0.7895617164093969, 'reg_lambda': 0.0798903847875316, 'colsample_bytree': 0.6583080925588073, 'subsample': 0.8178279918220269}. Best is trial 17 with value: 0.8432671081677704.\n",
      "[I 2024-02-22 13:47:17,963] Trial 36 finished with value: 0.8344444444444444 and parameters: {'n_estimators': 873, 'learning_rate': 0.4650854087137597, 'max_depth': 19, 'alpha': 0.001246631579236707, 'gamma': 0.0072292689694295215, 'reg_alpha': 0.9488341913444155, 'reg_lambda': 0.04721218434190892, 'colsample_bytree': 0.34587755888004024, 'subsample': 0.9439946249811505}. Best is trial 17 with value: 0.8432671081677704.\n",
      "[I 2024-02-22 13:47:23,248] Trial 37 finished with value: 0.8367688022284123 and parameters: {'n_estimators': 444, 'learning_rate': 0.24222322105159189, 'max_depth': 17, 'alpha': 0.0006714512580370885, 'gamma': 0.0010953765362930197, 'reg_alpha': 0.8352316017609728, 'reg_lambda': 0.06642321504372428, 'colsample_bytree': 0.23544723886437013, 'subsample': 0.7166179682628631}. Best is trial 17 with value: 0.8432671081677704.\n",
      "[I 2024-02-22 13:47:28,160] Trial 38 finished with value: 0.8293760353395914 and parameters: {'n_estimators': 277, 'learning_rate': 0.30717334081409153, 'max_depth': 13, 'alpha': 0.0036267437576590457, 'gamma': 0.0036371117990967546, 'reg_alpha': 0.6508910002485448, 'reg_lambda': 0.034093187320137414, 'colsample_bytree': 0.5524519182129393, 'subsample': 0.6687794066038106}. Best is trial 17 with value: 0.8432671081677704.\n",
      "[I 2024-02-22 13:47:35,450] Trial 39 finished with value: 0.8310249307479225 and parameters: {'n_estimators': 675, 'learning_rate': 0.38744366623685755, 'max_depth': 10, 'alpha': 0.00043073752116312415, 'gamma': 0.001796600183603684, 'reg_alpha': 0.7650391354690256, 'reg_lambda': 0.05160749191792605, 'colsample_bytree': 0.44339850811273174, 'subsample': 0.622758595557594}. Best is trial 17 with value: 0.8432671081677704.\n",
      "[I 2024-02-22 13:47:39,167] Trial 40 finished with value: 0.8231368186874305 and parameters: {'n_estimators': 154, 'learning_rate': 0.27605067655640836, 'max_depth': 16, 'alpha': 0.0010882560363141332, 'gamma': 0.0008435991086462864, 'reg_alpha': 0.993910318668753, 'reg_lambda': 0.02376523576230386, 'colsample_bytree': 0.9368268494628478, 'subsample': 0.5703905965539049}. Best is trial 17 with value: 0.8432671081677704.\n",
      "[I 2024-02-22 13:47:48,933] Trial 41 finished with value: 0.8360380526021265 and parameters: {'n_estimators': 467, 'learning_rate': 0.05358695301565815, 'max_depth': 15, 'alpha': 0.0014673603704189622, 'gamma': 0.0006349370837828994, 'reg_alpha': 0.5172511152107183, 'reg_lambda': 0.017120031428520654, 'colsample_bytree': 0.6165540443965244, 'subsample': 0.9309739333955676}. Best is trial 17 with value: 0.8432671081677704.\n",
      "[I 2024-02-22 13:47:57,625] Trial 42 finished with value: 0.835103409726104 and parameters: {'n_estimators': 558, 'learning_rate': 0.3240706453898999, 'max_depth': 14, 'alpha': 0.0021280033234985733, 'gamma': 0.0013371093109287382, 'reg_alpha': 0.5945598525523503, 'reg_lambda': 0.03999491770538469, 'colsample_bytree': 0.7976971578979852, 'subsample': 0.8755913146525125}. Best is trial 17 with value: 0.8432671081677704.\n",
      "[I 2024-02-22 13:48:05,583] Trial 43 finished with value: 0.8277777777777778 and parameters: {'n_estimators': 417, 'learning_rate': 0.16798868964103417, 'max_depth': 19, 'alpha': 0.0015164524197155845, 'gamma': 0.00038570179728692833, 'reg_alpha': 0.6976555795685243, 'reg_lambda': 0.02927990247264324, 'colsample_bytree': 0.7401899190837871, 'subsample': 0.9963974533360904}. Best is trial 17 with value: 0.8432671081677704.\n",
      "[I 2024-02-22 13:48:09,860] Trial 44 finished with value: 0.8336115748469672 and parameters: {'n_estimators': 248, 'learning_rate': 0.36795742534946974, 'max_depth': 15, 'alpha': 0.0008211557950278732, 'gamma': 0.0024589238517140994, 'reg_alpha': 0.13242526067006788, 'reg_lambda': 0.06151148991614668, 'colsample_bytree': 0.6292420696041487, 'subsample': 0.9406399667807825}. Best is trial 17 with value: 0.8432671081677704.\n",
      "[I 2024-02-22 13:48:18,868] Trial 45 finished with value: 0.8344298245614036 and parameters: {'n_estimators': 616, 'learning_rate': 0.4379064672901879, 'max_depth': 13, 'alpha': 0.004848512377937359, 'gamma': 0.00013645416011433593, 'reg_alpha': 0.6229061824755169, 'reg_lambda': 0.022316436703766783, 'colsample_bytree': 0.5681901069440798, 'subsample': 0.8078950875214035}. Best is trial 17 with value: 0.8432671081677704.\n",
      "[I 2024-02-22 13:48:25,517] Trial 46 finished with value: 0.8334255672385169 and parameters: {'n_estimators': 363, 'learning_rate': 0.302792440712056, 'max_depth': 20, 'alpha': 0.002679534295546407, 'gamma': 0.00019900460609243166, 'reg_alpha': 0.4620163881879339, 'reg_lambda': 0.01498188121151517, 'colsample_bytree': 0.8343276742119838, 'subsample': 0.891039226496186}. Best is trial 17 with value: 0.8432671081677704.\n",
      "[I 2024-02-22 13:48:31,031] Trial 47 finished with value: 0.8327721661054995 and parameters: {'n_estimators': 510, 'learning_rate': 0.35397296883613977, 'max_depth': 16, 'alpha': 0.001024006958298252, 'gamma': 0.003387410620544172, 'reg_alpha': 0.8670597750798013, 'reg_lambda': 0.04734531250102815, 'colsample_bytree': 0.25506577727047264, 'subsample': 0.8452932564617924}. Best is trial 17 with value: 0.8432671081677704.\n",
      "[I 2024-02-22 13:48:35,088] Trial 48 finished with value: 0.8035820895522389 and parameters: {'n_estimators': 309, 'learning_rate': 0.05024016112395063, 'max_depth': 17, 'alpha': 0.0018853636333476921, 'gamma': 0.00031984309436504843, 'reg_alpha': 0.8207545463221971, 'reg_lambda': 0.026273700885471853, 'colsample_bytree': 0.12219348610918634, 'subsample': 0.9559237181182112}. Best is trial 17 with value: 0.8432671081677704.\n",
      "[I 2024-02-22 13:48:38,436] Trial 49 finished with value: 0.8132118451025055 and parameters: {'n_estimators': 418, 'learning_rate': 0.14595598452329483, 'max_depth': 4, 'alpha': 0.0013948756352721388, 'gamma': 0.0009099609735816531, 'reg_alpha': 0.5420367201136927, 'reg_lambda': 0.03301640802219471, 'colsample_bytree': 0.4735390483049542, 'subsample': 0.486859325224665}. Best is trial 17 with value: 0.8432671081677704.\n",
      "[I 2024-02-22 13:48:50,249] Trial 50 finished with value: 0.8315847598012148 and parameters: {'n_estimators': 556, 'learning_rate': 0.24868935641118822, 'max_depth': 10, 'alpha': 0.0007588793808887275, 'gamma': 0.0007217749885220015, 'reg_alpha': 0.9324622357711203, 'reg_lambda': 0.03686292084156436, 'colsample_bytree': 0.9726591148147354, 'subsample': 0.6956209879944212}. Best is trial 17 with value: 0.8432671081677704.\n",
      "[I 2024-02-22 13:49:04,337] Trial 51 finished with value: 0.8359201773835921 and parameters: {'n_estimators': 691, 'learning_rate': 0.37903667208164904, 'max_depth': 14, 'alpha': 0.0012246740749589312, 'gamma': 0.00045381956195499203, 'reg_alpha': 0.6800186613114663, 'reg_lambda': 0.055198494712622045, 'colsample_bytree': 0.9084157631194438, 'subsample': 0.9713627559814998}. Best is trial 17 with value: 0.8432671081677704.\n",
      "[I 2024-02-22 13:49:15,129] Trial 52 finished with value: 0.8303769401330376 and parameters: {'n_estimators': 472, 'learning_rate': 0.32119885598404396, 'max_depth': 12, 'alpha': 0.0005084588168440023, 'gamma': 0.000609085015047364, 'reg_alpha': 0.7301083641440713, 'reg_lambda': 0.04873070921285929, 'colsample_bytree': 0.9501907523737192, 'subsample': 0.9977156510139217}. Best is trial 17 with value: 0.8432671081677704.\n",
      "[I 2024-02-22 13:49:28,924] Trial 53 finished with value: 0.8357380688124306 and parameters: {'n_estimators': 614, 'learning_rate': 0.3512581809297005, 'max_depth': 13, 'alpha': 0.0009947314622955462, 'gamma': 0.0027445237523476156, 'reg_alpha': 0.6205442641653504, 'reg_lambda': 0.05812124234192047, 'colsample_bytree': 0.6973739927503183, 'subsample': 0.92265522463291}. Best is trial 17 with value: 0.8432671081677704.\n",
      "[I 2024-02-22 13:49:46,695] Trial 54 finished with value: 0.8259198242723779 and parameters: {'n_estimators': 778, 'learning_rate': 0.41732556784237873, 'max_depth': 15, 'alpha': 0.0017296374225783146, 'gamma': 0.0012891099083237017, 'reg_alpha': 0.20718469198518052, 'reg_lambda': 0.04239563424936392, 'colsample_bytree': 0.8597783088998143, 'subsample': 0.8418401074825526}. Best is trial 17 with value: 0.8432671081677704.\n",
      "[I 2024-02-22 13:49:58,688] Trial 55 finished with value: 0.8259911894273128 and parameters: {'n_estimators': 538, 'learning_rate': 0.3978252623062999, 'max_depth': 14, 'alpha': 0.0022099077306588525, 'gamma': 0.0017386057744587175, 'reg_alpha': 0.7381315046186733, 'reg_lambda': 0.019049003741176455, 'colsample_bytree': 0.7965488037777373, 'subsample': 0.7904990147138012}. Best is trial 17 with value: 0.8432671081677704.\n",
      "[I 2024-02-22 13:50:07,378] Trial 56 finished with value: 0.8337934842628381 and parameters: {'n_estimators': 391, 'learning_rate': 0.2944217465007521, 'max_depth': 11, 'alpha': 0.003202103014515545, 'gamma': 0.002213259937274533, 'reg_alpha': 0.5690596525483326, 'reg_lambda': 0.06440607488080405, 'colsample_bytree': 0.5190811639062303, 'subsample': 0.8875237400396927}. Best is trial 17 with value: 0.8432671081677704.\n",
      "[I 2024-02-22 13:50:18,416] Trial 57 finished with value: 0.8325991189427313 and parameters: {'n_estimators': 719, 'learning_rate': 0.4535248700017329, 'max_depth': 9, 'alpha': 0.007737662904482358, 'gamma': 0.00022348121569818716, 'reg_alpha': 0.8072301302119933, 'reg_lambda': 0.05293425495615579, 'colsample_bytree': 0.4073847393961288, 'subsample': 0.9666546139406991}. Best is trial 17 with value: 0.8432671081677704.\n",
      "[I 2024-02-22 13:50:27,701] Trial 58 finished with value: 0.8175895765472313 and parameters: {'n_estimators': 576, 'learning_rate': 0.49846246149716467, 'max_depth': 18, 'alpha': 0.0024838035872356704, 'gamma': 0.0015781387930613527, 'reg_alpha': 0.6572193679513008, 'reg_lambda': 0.0983132115955509, 'colsample_bytree': 0.3607428801145995, 'subsample': 0.2884850910862699}. Best is trial 17 with value: 0.8432671081677704.\n",
      "[I 2024-02-22 13:50:36,657] Trial 59 finished with value: 0.8406285072951739 and parameters: {'n_estimators': 499, 'learning_rate': 0.275608024391132, 'max_depth': 16, 'alpha': 0.0003322870214289538, 'gamma': 0.003854327322376091, 'reg_alpha': 0.315587570475641, 'reg_lambda': 0.04455237874124901, 'colsample_bytree': 0.18950789965258014, 'subsample': 0.7268276810179196}. Best is trial 17 with value: 0.8432671081677704.\n",
      "[I 2024-02-22 13:50:42,604] Trial 60 finished with value: 0.8332403792526493 and parameters: {'n_estimators': 498, 'learning_rate': 0.2645468897978958, 'max_depth': 16, 'alpha': 0.00010313433500454542, 'gamma': 0.005857114527117466, 'reg_alpha': 0.2714533762729932, 'reg_lambda': 0.045348942191357294, 'colsample_bytree': 0.1970033402392069, 'subsample': 0.7337274304064244}. Best is trial 17 with value: 0.8432671081677704.\n",
      "[I 2024-02-22 13:50:51,523] Trial 61 finished with value: 0.8381057268722466 and parameters: {'n_estimators': 437, 'learning_rate': 0.20982134206119882, 'max_depth': 16, 'alpha': 0.000691454130681714, 'gamma': 0.003920583386544097, 'reg_alpha': 0.4400139163627954, 'reg_lambda': 0.03904584583953358, 'colsample_bytree': 0.9965167239220751, 'subsample': 0.6319594860396319}. Best is trial 17 with value: 0.8432671081677704.\n",
      "[I 2024-02-22 13:50:57,149] Trial 62 finished with value: 0.8354712771890686 and parameters: {'n_estimators': 445, 'learning_rate': 0.21264071360341158, 'max_depth': 17, 'alpha': 0.00029903919771679814, 'gamma': 0.003740353850830969, 'reg_alpha': 0.40102020479463485, 'reg_lambda': 0.03692390983402405, 'colsample_bytree': 0.33107123105079206, 'subsample': 0.6161336417717653}. Best is trial 17 with value: 0.8432671081677704.\n",
      "[I 2024-02-22 13:51:01,543] Trial 63 finished with value: 0.8381374722838136 and parameters: {'n_estimators': 435, 'learning_rate': 0.3428272958257867, 'max_depth': 16, 'alpha': 0.0002240388896546333, 'gamma': 0.003121753805417884, 'reg_alpha': 0.2866490960801217, 'reg_lambda': 0.04079627067406413, 'colsample_bytree': 0.1432558187629151, 'subsample': 0.5453802102800952}. Best is trial 17 with value: 0.8432671081677704.\n",
      "[I 2024-02-22 13:51:05,494] Trial 64 finished with value: 0.8299168975069253 and parameters: {'n_estimators': 364, 'learning_rate': 0.3378821646292696, 'max_depth': 19, 'alpha': 0.00015194174346583745, 'gamma': 0.005477314250186173, 'reg_alpha': 0.30958159783977884, 'reg_lambda': 0.032525932191865364, 'colsample_bytree': 0.16629358422291982, 'subsample': 0.5692186579579553}. Best is trial 17 with value: 0.8432671081677704.\n",
      "[I 2024-02-22 13:51:07,060] Trial 65 finished with value: 0.8250712250712251 and parameters: {'n_estimators': 148, 'learning_rate': 0.27190544994093074, 'max_depth': 18, 'alpha': 0.00022013702497298686, 'gamma': 0.0020440049302274054, 'reg_alpha': 0.22017364935637312, 'reg_lambda': 0.042367379548498826, 'colsample_bytree': 0.1010313088511211, 'subsample': 0.5361481828340642}. Best is trial 17 with value: 0.8432671081677704.\n",
      "[I 2024-02-22 13:51:11,843] Trial 66 finished with value: 0.8343490304709141 and parameters: {'n_estimators': 476, 'learning_rate': 0.31605723275189157, 'max_depth': 15, 'alpha': 0.00034006227426166684, 'gamma': 0.0030736716758837028, 'reg_alpha': 0.3040892854909498, 'reg_lambda': 0.05939211038414739, 'colsample_bytree': 0.15448318470128755, 'subsample': 0.6784495762307862}. Best is trial 17 with value: 0.8432671081677704.\n",
      "[I 2024-02-22 13:51:17,468] Trial 67 finished with value: 0.8397115917914586 and parameters: {'n_estimators': 528, 'learning_rate': 0.34048824813005174, 'max_depth': 17, 'alpha': 0.00020328094679819767, 'gamma': 0.002840451694032566, 'reg_alpha': 0.3502256308957394, 'reg_lambda': 0.048793549402378, 'colsample_bytree': 0.2687130831344904, 'subsample': 0.7678915354615189}. Best is trial 17 with value: 0.8432671081677704.\n",
      "[I 2024-02-22 13:51:22,177] Trial 68 finished with value: 0.8396436525612473 and parameters: {'n_estimators': 399, 'learning_rate': 0.2374772647832077, 'max_depth': 17, 'alpha': 0.00014928664360498739, 'gamma': 0.004194298091604598, 'reg_alpha': 0.5322606833607059, 'reg_lambda': 0.05001758206812518, 'colsample_bytree': 0.2524059176778226, 'subsample': 0.7727068206424567}. Best is trial 17 with value: 0.8432671081677704.\n",
      "[I 2024-02-22 13:51:26,241] Trial 69 finished with value: 0.8320180383314543 and parameters: {'n_estimators': 322, 'learning_rate': 0.22824172353300515, 'max_depth': 17, 'alpha': 0.00017084681617116637, 'gamma': 0.007265248298136775, 'reg_alpha': 0.34819361184547387, 'reg_lambda': 0.054311378945646395, 'colsample_bytree': 0.27026373381344887, 'subsample': 0.7686218098495194}. Best is trial 17 with value: 0.8432671081677704.\n",
      "[I 2024-02-22 13:51:32,316] Trial 70 finished with value: 0.8405148293228876 and parameters: {'n_estimators': 527, 'learning_rate': 0.24085852446380632, 'max_depth': 19, 'alpha': 0.0001367322942116697, 'gamma': 0.0028231279394667686, 'reg_alpha': 0.24598273138583934, 'reg_lambda': 0.0506126567524124, 'colsample_bytree': 0.22935250226191395, 'subsample': 0.7194321529403684}. Best is trial 17 with value: 0.8432671081677704.\n",
      "[I 2024-02-22 13:51:38,275] Trial 71 finished with value: 0.8345485137408861 and parameters: {'n_estimators': 517, 'learning_rate': 0.23582181659066886, 'max_depth': 20, 'alpha': 0.00013819451889139655, 'gamma': 0.004272384675600882, 'reg_alpha': 0.21858643464315147, 'reg_lambda': 0.04961879160511821, 'colsample_bytree': 0.2255274565487143, 'subsample': 0.7458117664994536}. Best is trial 17 with value: 0.8432671081677704.\n",
      "[I 2024-02-22 13:51:44,048] Trial 72 finished with value: 0.8356702187324734 and parameters: {'n_estimators': 534, 'learning_rate': 0.19130544517423656, 'max_depth': 19, 'alpha': 0.00011859427345221086, 'gamma': 0.0027652543890662076, 'reg_alpha': 0.363452431649553, 'reg_lambda': 0.04591103726639294, 'colsample_bytree': 0.18151856524979645, 'subsample': 0.7106484118163336}. Best is trial 17 with value: 0.8432671081677704.\n",
      "[I 2024-02-22 13:51:51,361] Trial 73 finished with value: 0.8332403792526493 and parameters: {'n_estimators': 651, 'learning_rate': 0.26453872238056186, 'max_depth': 18, 'alpha': 0.00017967428443478643, 'gamma': 0.0024193503514380725, 'reg_alpha': 0.27430996188200374, 'reg_lambda': 0.05594638864198043, 'colsample_bytree': 0.2751344961961131, 'subsample': 0.7788139797201848}. Best is trial 17 with value: 0.8432671081677704.\n",
      "[I 2024-02-22 13:51:56,655] Trial 74 finished with value: 0.8390677025527192 and parameters: {'n_estimators': 400, 'learning_rate': 0.2871297551569201, 'max_depth': 20, 'alpha': 0.0002608496448611358, 'gamma': 0.00498890022591776, 'reg_alpha': 0.24343253307109042, 'reg_lambda': 0.04793207867434505, 'colsample_bytree': 0.24346575830424877, 'subsample': 0.6450166921671414}. Best is trial 17 with value: 0.8432671081677704.\n",
      "[I 2024-02-22 13:52:00,013] Trial 75 finished with value: 0.8339898705683737 and parameters: {'n_estimators': 249, 'learning_rate': 0.25349189928533095, 'max_depth': 20, 'alpha': 0.00028972276768367636, 'gamma': 0.005344262210217531, 'reg_alpha': 0.249648816104888, 'reg_lambda': 0.05043133035734648, 'colsample_bytree': 0.20571438288113086, 'subsample': 0.648790525689543}. Best is trial 17 with value: 0.8432671081677704.\n",
      "[I 2024-02-22 13:52:06,850] Trial 76 finished with value: 0.8373126041088284 and parameters: {'n_estimators': 576, 'learning_rate': 0.2901323706112047, 'max_depth': 19, 'alpha': 0.0002519961879047651, 'gamma': 0.008609259311448892, 'reg_alpha': 0.15696508905423995, 'reg_lambda': 0.04414616571935777, 'colsample_bytree': 0.22942636015592596, 'subsample': 0.7277874727170759}. Best is trial 17 with value: 0.8432671081677704.\n",
      "[I 2024-02-22 13:52:11,516] Trial 77 finished with value: 0.8380634390651086 and parameters: {'n_estimators': 355, 'learning_rate': 0.2796360889714606, 'max_depth': 20, 'alpha': 0.00019204854710411863, 'gamma': 0.004959878336978351, 'reg_alpha': 0.24325171592521236, 'reg_lambda': 0.04818430713200026, 'colsample_bytree': 0.2567077585255293, 'subsample': 0.589121978812127}. Best is trial 17 with value: 0.8432671081677704.\n",
      "[I 2024-02-22 13:52:14,497] Trial 78 finished with value: 0.8335183129855716 and parameters: {'n_estimators': 395, 'learning_rate': 0.3045671052819436, 'max_depth': 6, 'alpha': 0.00034965691653949713, 'gamma': 0.004093357657644849, 'reg_alpha': 0.1680441378358799, 'reg_lambda': 0.046606979732949104, 'colsample_bytree': 0.300619869052733, 'subsample': 0.6733903653149214}. Best is trial 17 with value: 0.8432671081677704.\n",
      "[I 2024-02-22 13:52:21,135] Trial 79 finished with value: 0.8384572386808273 and parameters: {'n_estimators': 495, 'learning_rate': 0.24676503208163406, 'max_depth': 17, 'alpha': 0.0001242960252449824, 'gamma': 0.0059823851660029, 'reg_alpha': 0.3430644790610795, 'reg_lambda': 0.05089563405686854, 'colsample_bytree': 0.24556362466964837, 'subsample': 0.7970809612675483}. Best is trial 17 with value: 0.8432671081677704.\n",
      "[I 2024-02-22 13:52:26,623] Trial 80 finished with value: 0.8318584070796461 and parameters: {'n_estimators': 460, 'learning_rate': 0.29520661547070703, 'max_depth': 19, 'alpha': 0.00026098601269864996, 'gamma': 0.003496869737975686, 'reg_alpha': 0.4079367272262349, 'reg_lambda': 0.06001361293583443, 'colsample_bytree': 0.32804387371311367, 'subsample': 0.7005507773340434}. Best is trial 17 with value: 0.8432671081677704.\n",
      "[I 2024-02-22 13:52:31,595] Trial 81 finished with value: 0.8326804700615557 and parameters: {'n_estimators': 415, 'learning_rate': 0.37699626472623293, 'max_depth': 18, 'alpha': 0.00039359650063638274, 'gamma': 0.002834604117798126, 'reg_alpha': 0.17679967006750344, 'reg_lambda': 0.054036551365284645, 'colsample_bytree': 0.2830565210149768, 'subsample': 0.8400534901005586}. Best is trial 17 with value: 0.8432671081677704.\n",
      "[I 2024-02-22 13:52:35,748] Trial 82 finished with value: 0.8353726362625139 and parameters: {'n_estimators': 400, 'learning_rate': 0.3649336030267356, 'max_depth': 18, 'alpha': 0.00015182017794841007, 'gamma': 0.006413135534402765, 'reg_alpha': 0.8986406994498048, 'reg_lambda': 0.052563800578316486, 'colsample_bytree': 0.18228781416662243, 'subsample': 0.6557927120539435}. Best is trial 17 with value: 0.8432671081677704.\n",
      "[I 2024-02-22 13:52:40,607] Trial 83 finished with value: 0.8318385650224216 and parameters: {'n_estimators': 308, 'learning_rate': 0.32981567821986313, 'max_depth': 17, 'alpha': 0.00019652775367301012, 'gamma': 0.0019476507877029107, 'reg_alpha': 0.8671071140298494, 'reg_lambda': 0.05666650411172291, 'colsample_bytree': 0.3634973130797764, 'subsample': 0.7538837406267449}. Best is trial 17 with value: 0.8432671081677704.\n",
      "[I 2024-02-22 13:52:46,967] Trial 84 finished with value: 0.8334255672385169 and parameters: {'n_estimators': 336, 'learning_rate': 0.2241114428919731, 'max_depth': 19, 'alpha': 0.00015623228788814046, 'gamma': 0.0046853639833221924, 'reg_alpha': 0.11165509195440085, 'reg_lambda': 0.06281667491536849, 'colsample_bytree': 0.5920295889602989, 'subsample': 0.8196430124818679}. Best is trial 17 with value: 0.8432671081677704.\n",
      "[I 2024-02-22 13:52:52,033] Trial 85 finished with value: 0.8324929971988795 and parameters: {'n_estimators': 478, 'learning_rate': 0.2582727760156931, 'max_depth': 20, 'alpha': 0.0060222619506028864, 'gamma': 0.0032112846516394486, 'reg_alpha': 0.7620649915178125, 'reg_lambda': 0.042997907822961166, 'colsample_bytree': 0.22840336278068238, 'subsample': 0.8657472218048096}. Best is trial 17 with value: 0.8432671081677704.\n",
      "[I 2024-02-22 13:52:56,716] Trial 86 finished with value: 0.8364042434394193 and parameters: {'n_estimators': 381, 'learning_rate': 0.3138130819629866, 'max_depth': 18, 'alpha': 0.00011620238398596847, 'gamma': 0.0023074819972171263, 'reg_alpha': 0.5013914001685557, 'reg_lambda': 0.048747494703966845, 'colsample_bytree': 0.3179241738309528, 'subsample': 0.7198381193536162}. Best is trial 17 with value: 0.8432671081677704.\n",
      "[I 2024-02-22 13:53:04,521] Trial 87 finished with value: 0.835820895522388 and parameters: {'n_estimators': 594, 'learning_rate': 0.33755814439543286, 'max_depth': 16, 'alpha': 0.00010066028608623031, 'gamma': 0.0016910880616253184, 'reg_alpha': 0.24424162268978122, 'reg_lambda': 0.0353487931854814, 'colsample_bytree': 0.4627640210223324, 'subsample': 0.6357499074479345}. Best is trial 17 with value: 0.8432671081677704.\n",
      "[I 2024-02-22 13:53:10,483] Trial 88 finished with value: 0.8301051466519093 and parameters: {'n_estimators': 526, 'learning_rate': 0.3601423162767989, 'max_depth': 20, 'alpha': 0.00024108674591366143, 'gamma': 0.0037350639334887774, 'reg_alpha': 0.8461112199511954, 'reg_lambda': 0.06857029216128271, 'colsample_bytree': 0.3874084532452303, 'subsample': 0.904999547773462}. Best is trial 17 with value: 0.8432671081677704.\n",
      "[I 2024-02-22 13:53:17,392] Trial 89 finished with value: 0.8407224958949097 and parameters: {'n_estimators': 420, 'learning_rate': 0.394275111235946, 'max_depth': 17, 'alpha': 0.000475507820826144, 'gamma': 0.0026428752214620634, 'reg_alpha': 0.3264793619184373, 'reg_lambda': 0.051462199003187346, 'colsample_bytree': 0.6388821050594314, 'subsample': 0.5972952372464595}. Best is trial 17 with value: 0.8432671081677704.\n",
      "[I 2024-02-22 13:53:18,718] Trial 90 finished with value: 0.8227424749163879 and parameters: {'n_estimators': 101, 'learning_rate': 0.38587745151607256, 'max_depth': 17, 'alpha': 0.0003842520483204993, 'gamma': 0.0025754181366925808, 'reg_alpha': 0.3311638664310705, 'reg_lambda': 0.03841991384690904, 'colsample_bytree': 0.13132358282107975, 'subsample': 0.6038072274681323}. Best is trial 17 with value: 0.8432671081677704.\n",
      "[I 2024-02-22 13:53:24,195] Trial 91 finished with value: 0.8378229796591534 and parameters: {'n_estimators': 425, 'learning_rate': 0.40723991968313755, 'max_depth': 17, 'alpha': 0.0004713932435086375, 'gamma': 0.003015223348214271, 'reg_alpha': 0.3697141104707601, 'reg_lambda': 0.05108326488168251, 'colsample_bytree': 0.5002310367778657, 'subsample': 0.6772137580765458}. Best is trial 17 with value: 0.8432671081677704.\n",
      "[I 2024-02-22 13:53:30,261] Trial 92 finished with value: 0.8346281908990011 and parameters: {'n_estimators': 560, 'learning_rate': 0.3951863231760717, 'max_depth': 18, 'alpha': 0.0005620909628075698, 'gamma': 0.0021707405899138266, 'reg_alpha': 0.29231787598211406, 'reg_lambda': 0.05248948459412623, 'colsample_bytree': 0.2653383379949399, 'subsample': 0.5112070503494879}. Best is trial 17 with value: 0.8432671081677704.\n",
      "[I 2024-02-22 13:53:35,093] Trial 93 finished with value: 0.8321329639889196 and parameters: {'n_estimators': 455, 'learning_rate': 0.43113391132040363, 'max_depth': 19, 'alpha': 0.00027280722731803415, 'gamma': 0.004226555519826974, 'reg_alpha': 0.19386040982987454, 'reg_lambda': 0.04696153679949785, 'colsample_bytree': 0.20647204478748402, 'subsample': 0.7831541862851473}. Best is trial 17 with value: 0.8432671081677704.\n",
      "[I 2024-02-22 13:53:42,846] Trial 94 finished with value: 0.8381374722838136 and parameters: {'n_estimators': 499, 'learning_rate': 0.37315762462110047, 'max_depth': 19, 'alpha': 0.0001339910804410894, 'gamma': 0.0019052801025024042, 'reg_alpha': 0.38903016099902443, 'reg_lambda': 0.04481989274645918, 'colsample_bytree': 0.6310123494090873, 'subsample': 0.8303680755145266}. Best is trial 17 with value: 0.8432671081677704.\n",
      "[I 2024-02-22 13:53:53,699] Trial 95 finished with value: 0.8268279274326553 and parameters: {'n_estimators': 884, 'learning_rate': 0.27429379716917573, 'max_depth': 8, 'alpha': 0.0003093502941907136, 'gamma': 0.003442755627189387, 'reg_alpha': 0.43656761310204295, 'reg_lambda': 0.057281133504699995, 'colsample_bytree': 0.5737634657421263, 'subsample': 0.6945457254632802}. Best is trial 17 with value: 0.8432671081677704.\n",
      "[I 2024-02-22 13:53:56,950] Trial 96 finished with value: 0.8337996642417459 and parameters: {'n_estimators': 295, 'learning_rate': 0.20186382888027454, 'max_depth': 15, 'alpha': 0.0008754298820432257, 'gamma': 0.0026541708434784247, 'reg_alpha': 0.9241780201346405, 'reg_lambda': 0.054554449998207195, 'colsample_bytree': 0.17947219969732436, 'subsample': 0.5928278028129611}. Best is trial 17 with value: 0.8432671081677704.\n",
      "[I 2024-02-22 13:54:03,020] Trial 97 finished with value: 0.8277008310249307 and parameters: {'n_estimators': 350, 'learning_rate': 0.34798320192821275, 'max_depth': 18, 'alpha': 0.00019952157983398413, 'gamma': 0.001451478767649993, 'reg_alpha': 0.32542833783916764, 'reg_lambda': 0.05970731612301759, 'colsample_bytree': 0.6583194715114502, 'subsample': 0.7521530909184106}. Best is trial 17 with value: 0.8432671081677704.\n",
      "[I 2024-02-22 13:54:06,296] Trial 98 finished with value: 0.825082508250825 and parameters: {'n_estimators': 408, 'learning_rate': 0.3254399432101856, 'max_depth': 4, 'alpha': 0.003914740148498547, 'gamma': 0.004984531458013298, 'reg_alpha': 0.2510771711880374, 'reg_lambda': 0.04941679634911448, 'colsample_bytree': 0.7643146359964655, 'subsample': 0.5739528520498598}. Best is trial 17 with value: 0.8432671081677704.\n",
      "[I 2024-02-22 13:54:12,070] Trial 99 finished with value: 0.8339811215991114 and parameters: {'n_estimators': 370, 'learning_rate': 0.2390377536007622, 'max_depth': 16, 'alpha': 0.008419434191514247, 'gamma': 0.003908945911674732, 'reg_alpha': 0.5970258641985067, 'reg_lambda': 0.0414157241546296, 'colsample_bytree': 0.42932957946161193, 'subsample': 0.6572104883619586}. Best is trial 17 with value: 0.8432671081677704.\n",
      "[I 2024-02-22 13:54:17,441] Trial 100 finished with value: 0.8344444444444444 and parameters: {'n_estimators': 436, 'learning_rate': 0.2997651945470212, 'max_depth': 16, 'alpha': 0.0016496380482840377, 'gamma': 0.0011734301541255186, 'reg_alpha': 0.8032194110938778, 'reg_lambda': 0.03153589989171188, 'colsample_bytree': 0.3828035423401491, 'subsample': 0.8705810337408632}. Best is trial 17 with value: 0.8432671081677704.\n",
      "[I 2024-02-22 13:54:23,006] Trial 101 finished with value: 0.8361204013377926 and parameters: {'n_estimators': 487, 'learning_rate': 0.24824561347982438, 'max_depth': 17, 'alpha': 0.0001695191179292729, 'gamma': 0.0024353679499236596, 'reg_alpha': 0.33810624383978527, 'reg_lambda': 0.05162457760808678, 'colsample_bytree': 0.23073373814849854, 'subsample': 0.7841852344911151}. Best is trial 17 with value: 0.8432671081677704.\n",
      "[I 2024-02-22 13:54:28,537] Trial 102 finished with value: 0.8363838047698281 and parameters: {'n_estimators': 497, 'learning_rate': 0.26663611111555746, 'max_depth': 17, 'alpha': 0.0013371646982653352, 'gamma': 0.006556483026830661, 'reg_alpha': 0.9586449635648432, 'reg_lambda': 0.0504538241498672, 'colsample_bytree': 0.23970245483546226, 'subsample': 0.7994591334011845}. Best is trial 17 with value: 0.8432671081677704.\n",
      "[I 2024-02-22 13:54:37,111] Trial 103 finished with value: 0.8360200111172874 and parameters: {'n_estimators': 544, 'learning_rate': 0.2884520403592625, 'max_depth': 18, 'alpha': 0.00012449459157277986, 'gamma': 0.0079346173398425, 'reg_alpha': 0.3458765458658588, 'reg_lambda': 0.08993742750014251, 'colsample_bytree': 0.5435942595143776, 'subsample': 0.4792161876256888}. Best is trial 17 with value: 0.8432671081677704.\n",
      "[I 2024-02-22 13:54:42,796] Trial 104 finished with value: 0.8359550561797753 and parameters: {'n_estimators': 466, 'learning_rate': 0.22410301244530278, 'max_depth': 17, 'alpha': 0.0001336069744065721, 'gamma': 0.005747081780272835, 'reg_alpha': 0.2942662988249499, 'reg_lambda': 0.047798938942762735, 'colsample_bytree': 0.24778693008689176, 'subsample': 0.7347740328829199}. Best is trial 17 with value: 0.8432671081677704.\n",
      "[I 2024-02-22 13:54:49,549] Trial 105 finished with value: 0.8365061590145576 and parameters: {'n_estimators': 519, 'learning_rate': 0.17265104805695727, 'max_depth': 20, 'alpha': 0.0019548225928932017, 'gamma': 0.0030040690643476525, 'reg_alpha': 0.5368116209464745, 'reg_lambda': 0.05376289523555851, 'colsample_bytree': 0.3044810010445149, 'subsample': 0.7119962155613102}. Best is trial 17 with value: 0.8432671081677704.\n",
      "[I 2024-02-22 13:54:54,492] Trial 106 finished with value: 0.8315612758813655 and parameters: {'n_estimators': 382, 'learning_rate': 0.31111104089066643, 'max_depth': 16, 'alpha': 0.00010984834267512369, 'gamma': 0.004532984465742451, 'reg_alpha': 0.31373851820827425, 'reg_lambda': 0.04422885638561433, 'colsample_bytree': 0.21523969362299025, 'subsample': 0.8034893378120032}. Best is trial 17 with value: 0.8432671081677704.\n",
      "[I 2024-02-22 13:54:57,027] Trial 107 finished with value: 0.8266373142542652 and parameters: {'n_estimators': 204, 'learning_rate': 0.41842775080108535, 'max_depth': 15, 'alpha': 0.0002338090199711719, 'gamma': 0.0009383512395737562, 'reg_alpha': 0.7087862063723566, 'reg_lambda': 0.05155107452553797, 'colsample_bytree': 0.2891298352989125, 'subsample': 0.6410350867993604}. Best is trial 17 with value: 0.8432671081677704.\n",
      "[I 2024-02-22 13:55:01,706] Trial 108 finished with value: 0.8364042434394193 and parameters: {'n_estimators': 453, 'learning_rate': 0.2800595638895318, 'max_depth': 19, 'alpha': 0.00020607350309578612, 'gamma': 0.0032943030123937967, 'reg_alpha': 0.264871699618119, 'reg_lambda': 0.05610758771752885, 'colsample_bytree': 0.1628092967103571, 'subsample': 0.9011613800322308}. Best is trial 17 with value: 0.8432671081677704.\n",
      "[I 2024-02-22 13:55:05,719] Trial 109 finished with value: 0.8339854667411962 and parameters: {'n_estimators': 428, 'learning_rate': 0.24951168159052187, 'max_depth': 9, 'alpha': 0.001115549346263498, 'gamma': 0.00641705976852104, 'reg_alpha': 0.4265977095247049, 'reg_lambda': 0.046365988484645834, 'colsample_bytree': 0.2514256239863482, 'subsample': 0.7644614952887557}. Best is trial 17 with value: 0.8432671081677704.\n",
      "[I 2024-02-22 13:55:11,756] Trial 110 finished with value: 0.8375690607734807 and parameters: {'n_estimators': 600, 'learning_rate': 0.3601250575208118, 'max_depth': 18, 'alpha': 0.0001438292396205017, 'gamma': 0.0016266778486140518, 'reg_alpha': 0.643647638784727, 'reg_lambda': 0.058304359374618094, 'colsample_bytree': 0.1979517810425227, 'subsample': 0.6056753027192499}. Best is trial 17 with value: 0.8432671081677704.\n",
      "[I 2024-02-22 13:55:21,246] Trial 111 finished with value: 0.8300000000000001 and parameters: {'n_estimators': 487, 'learning_rate': 0.08645517097388457, 'max_depth': 14, 'alpha': 0.0014116855440905705, 'gamma': 0.00017905596392479964, 'reg_alpha': 0.5268393213036414, 'reg_lambda': 0.04897523190604936, 'colsample_bytree': 0.7032822640264214, 'subsample': 0.8606142380067653}. Best is trial 17 with value: 0.8432671081677704.\n",
      "[I 2024-02-22 13:55:30,110] Trial 112 finished with value: 0.841111111111111 and parameters: {'n_estimators': 513, 'learning_rate': 0.11843909467441589, 'max_depth': 15, 'alpha': 0.004526773604675667, 'gamma': 0.00011408254815041146, 'reg_alpha': 0.5747167322019339, 'reg_lambda': 0.01134094374685839, 'colsample_bytree': 0.5262349984163962, 'subsample': 0.956096633925888}. Best is trial 17 with value: 0.8432671081677704.\n",
      "[I 2024-02-22 13:55:38,625] Trial 113 finished with value: 0.8331479421579533 and parameters: {'n_estimators': 511, 'learning_rate': 0.16061560041072115, 'max_depth': 17, 'alpha': 0.005085806943276917, 'gamma': 0.0007531708139077439, 'reg_alpha': 0.678453850142978, 'reg_lambda': 0.016682831816276535, 'colsample_bytree': 0.5204445887483227, 'subsample': 0.9288510025514127}. Best is trial 17 with value: 0.8432671081677704.\n",
      "[I 2024-02-22 13:55:46,078] Trial 114 finished with value: 0.8380634390651086 and parameters: {'n_estimators': 531, 'learning_rate': 0.13448809728164457, 'max_depth': 15, 'alpha': 0.006388835534575224, 'gamma': 0.005059080343959813, 'reg_alpha': 0.5641682875952998, 'reg_lambda': 0.053091850083267604, 'colsample_bytree': 0.4865133256829249, 'subsample': 0.9708838576850285}. Best is trial 17 with value: 0.8432671081677704.\n",
      "[I 2024-02-22 13:55:54,922] Trial 115 finished with value: 0.8311258278145696 and parameters: {'n_estimators': 639, 'learning_rate': 0.3943806927465133, 'max_depth': 14, 'alpha': 0.003105905419942215, 'gamma': 0.00011878054228826167, 'reg_alpha': 0.3600629816201811, 'reg_lambda': 0.014074218686730384, 'colsample_bytree': 0.5484782320369127, 'subsample': 0.9524232447790902}. Best is trial 17 with value: 0.8432671081677704.\n",
      "[I 2024-02-22 13:56:04,912] Trial 116 finished with value: 0.8342857142857144 and parameters: {'n_estimators': 573, 'learning_rate': 0.022216321825288723, 'max_depth': 16, 'alpha': 0.004290481695951819, 'gamma': 0.0021501107232580123, 'reg_alpha': 0.23039906024888543, 'reg_lambda': 0.062058672573033866, 'colsample_bytree': 0.34669099292150124, 'subsample': 0.8262431397674445}. Best is trial 17 with value: 0.8432671081677704.\n",
      "[I 2024-02-22 13:56:08,285] Trial 117 finished with value: 0.8375973303670745 and parameters: {'n_estimators': 246, 'learning_rate': 0.333998061689878, 'max_depth': 20, 'alpha': 0.0001668594663716822, 'gamma': 0.0028740196188972705, 'reg_alpha': 0.46445130956529046, 'reg_lambda': 0.02466269177293783, 'colsample_bytree': 0.2757234633614326, 'subsample': 0.5583389731372892}. Best is trial 17 with value: 0.8432671081677704.\n",
      "[I 2024-02-22 13:56:13,524] Trial 118 finished with value: 0.8363838047698281 and parameters: {'n_estimators': 408, 'learning_rate': 0.3472947691771482, 'max_depth': 17, 'alpha': 0.0034360002409219424, 'gamma': 0.003774387697916955, 'reg_alpha': 0.8869912051945077, 'reg_lambda': 0.05530314037845984, 'colsample_bytree': 0.4526867946335492, 'subsample': 0.6866627642995151}. Best is trial 17 with value: 0.8432671081677704.\n",
      "[I 2024-02-22 13:56:23,810] Trial 119 finished with value: 0.8311977715877438 and parameters: {'n_estimators': 475, 'learning_rate': 0.11924779995438196, 'max_depth': 19, 'alpha': 0.007165491119251674, 'gamma': 0.002528134866564238, 'reg_alpha': 0.8256496058793694, 'reg_lambda': 0.050361292892409634, 'colsample_bytree': 0.5750192573600791, 'subsample': 0.7450084915674253}. Best is trial 17 with value: 0.8432671081677704.\n",
      "[I 2024-02-22 13:56:26,769] Trial 120 finished with value: 0.8393956351426972 and parameters: {'n_estimators': 138, 'learning_rate': 0.23186093160107502, 'max_depth': 18, 'alpha': 0.002750409611979619, 'gamma': 0.004217094247043635, 'reg_alpha': 0.49249275807575593, 'reg_lambda': 0.04400677796625307, 'colsample_bytree': 0.4954174391430357, 'subsample': 0.9161500881362207}. Best is trial 17 with value: 0.8432671081677704.\n",
      "[I 2024-02-22 13:56:28,605] Trial 121 finished with value: 0.8351893095768375 and parameters: {'n_estimators': 147, 'learning_rate': 0.2590305616263307, 'max_depth': 7, 'alpha': 0.002679824651737762, 'gamma': 0.004183012641318308, 'reg_alpha': 0.4846740721149377, 'reg_lambda': 0.045743330113099355, 'colsample_bytree': 0.5310575269588977, 'subsample': 0.9833541108196676}. Best is trial 17 with value: 0.8432671081677704.\n",
      "[I 2024-02-22 13:56:37,903] Trial 122 finished with value: 0.8335195530726257 and parameters: {'n_estimators': 447, 'learning_rate': 0.1889231920166059, 'max_depth': 18, 'alpha': 0.002402582070328037, 'gamma': 0.0032301645724700603, 'reg_alpha': 0.5909594804567492, 'reg_lambda': 0.04355510609363705, 'colsample_bytree': 0.8328617400064495, 'subsample': 0.9056936203808504}. Best is trial 17 with value: 0.8432671081677704.\n",
      "[I 2024-02-22 13:56:40,835] Trial 123 finished with value: 0.8405797101449275 and parameters: {'n_estimators': 171, 'learning_rate': 0.23479568131141076, 'max_depth': 17, 'alpha': 0.001994601781943555, 'gamma': 0.003452571272321932, 'reg_alpha': 0.553058672420197, 'reg_lambda': 0.048257031397774715, 'colsample_bytree': 0.4954194500936069, 'subsample': 0.923711611191055}. Best is trial 17 with value: 0.8432671081677704.\n",
      "[I 2024-02-22 13:56:43,992] Trial 124 finished with value: 0.8353726362625139 and parameters: {'n_estimators': 173, 'learning_rate': 0.22880886597624714, 'max_depth': 19, 'alpha': 0.0027787601283388646, 'gamma': 0.003380103561391839, 'reg_alpha': 0.5557637149282372, 'reg_lambda': 0.04759405536005279, 'colsample_bytree': 0.47787823517057054, 'subsample': 0.9244692295888625}. Best is trial 17 with value: 0.8432671081677704.\n",
      "[I 2024-02-22 13:56:46,618] Trial 125 finished with value: 0.8371317398554753 and parameters: {'n_estimators': 145, 'learning_rate': 0.23720160670266585, 'max_depth': 16, 'alpha': 0.0020180443233984175, 'gamma': 0.0035995978137827816, 'reg_alpha': 0.6168986157154027, 'reg_lambda': 0.04091910299873421, 'colsample_bytree': 0.4978224968997932, 'subsample': 0.9430163447379646}. Best is trial 17 with value: 0.8432671081677704.\n",
      "[I 2024-02-22 13:56:50,308] Trial 126 finished with value: 0.8339854667411962 and parameters: {'n_estimators': 171, 'learning_rate': 0.2173137280515273, 'max_depth': 18, 'alpha': 0.001612293188966232, 'gamma': 0.0027082359257711353, 'reg_alpha': 0.5202309965075188, 'reg_lambda': 0.03833923065281182, 'colsample_bytree': 0.5926721998694103, 'subsample': 0.8899867974003628}. Best is trial 17 with value: 0.8432671081677704.\n",
      "[I 2024-02-22 13:56:53,187] Trial 127 finished with value: 0.8321839080459771 and parameters: {'n_estimators': 124, 'learning_rate': 0.06433102527710693, 'max_depth': 20, 'alpha': 0.0018116212491262435, 'gamma': 0.004321591204334118, 'reg_alpha': 0.5772916446683856, 'reg_lambda': 0.027521038024642112, 'colsample_bytree': 0.42945111231896027, 'subsample': 0.9605405379344819}. Best is trial 17 with value: 0.8432671081677704.\n",
      "[I 2024-02-22 13:56:56,686] Trial 128 finished with value: 0.8277777777777778 and parameters: {'n_estimators': 226, 'learning_rate': 0.3830958064730431, 'max_depth': 17, 'alpha': 0.0022733609859551993, 'gamma': 0.0023057401050775366, 'reg_alpha': 0.5041394779955538, 'reg_lambda': 0.04293468970408464, 'colsample_bytree': 0.5126398954443905, 'subsample': 0.9174461102298967}. Best is trial 17 with value: 0.8432671081677704.\n",
      "[I 2024-02-22 13:57:00,692] Trial 129 finished with value: 0.8379578246392898 and parameters: {'n_estimators': 197, 'learning_rate': 0.20582397806691782, 'max_depth': 15, 'alpha': 0.0012451127842728388, 'gamma': 0.004640733213395994, 'reg_alpha': 0.7563917463580296, 'reg_lambda': 0.04812759305720497, 'colsample_bytree': 0.5324230031175531, 'subsample': 0.6239547610672947}. Best is trial 17 with value: 0.8432671081677704.\n",
      "[I 2024-02-22 13:57:02,737] Trial 130 finished with value: 0.8388176240936978 and parameters: {'n_estimators': 114, 'learning_rate': 0.3679966395428299, 'max_depth': 16, 'alpha': 0.0055451562723033455, 'gamma': 0.001848973088282906, 'reg_alpha': 0.48086948042885264, 'reg_lambda': 0.035312660237299634, 'colsample_bytree': 0.46684906095681417, 'subsample': 0.879812307448398}. Best is trial 17 with value: 0.8432671081677704.\n",
      "[I 2024-02-22 13:57:04,740] Trial 131 finished with value: 0.8325842696629214 and parameters: {'n_estimators': 115, 'learning_rate': 0.36214057346468936, 'max_depth': 16, 'alpha': 0.005277236231742055, 'gamma': 0.0018307140722935687, 'reg_alpha': 0.46852262543091433, 'reg_lambda': 0.02156900748272613, 'colsample_bytree': 0.409418053280661, 'subsample': 0.8827342644306646}. Best is trial 17 with value: 0.8432671081677704.\n",
      "[I 2024-02-22 13:57:07,480] Trial 132 finished with value: 0.8285873813512006 and parameters: {'n_estimators': 161, 'learning_rate': 0.3692481115775874, 'max_depth': 17, 'alpha': 0.004555117320214128, 'gamma': 0.0013005703183118298, 'reg_alpha': 0.4862876769210674, 'reg_lambda': 0.04494034615375983, 'colsample_bytree': 0.46688646233707687, 'subsample': 0.8567586986047933}. Best is trial 17 with value: 0.8432671081677704.\n",
      "[I 2024-02-22 13:57:09,306] Trial 133 finished with value: 0.7707006369426752 and parameters: {'n_estimators': 125, 'learning_rate': 0.35553225056735077, 'max_depth': 16, 'alpha': 0.009796221326106073, 'gamma': 0.0020241104464637006, 'reg_alpha': 0.5446401941922763, 'reg_lambda': 0.03464829528471502, 'colsample_bytree': 0.5637292960679036, 'subsample': 0.14674374837848198}. Best is trial 17 with value: 0.8432671081677704.\n",
      "[I 2024-02-22 13:57:12,621] Trial 134 finished with value: 0.8337965536409115 and parameters: {'n_estimators': 193, 'learning_rate': 0.3199829050749194, 'max_depth': 18, 'alpha': 0.0034183899526971217, 'gamma': 0.0029970271077927393, 'reg_alpha': 0.8673405763821752, 'reg_lambda': 0.039451185936036956, 'colsample_bytree': 0.5032117159528701, 'subsample': 0.9899245300976498}. Best is trial 17 with value: 0.8432671081677704.\n",
      "[I 2024-02-22 13:57:14,811] Trial 135 finished with value: 0.8342602892102337 and parameters: {'n_estimators': 124, 'learning_rate': 0.4009311508862055, 'max_depth': 15, 'alpha': 0.005612980432024247, 'gamma': 0.004017438079396882, 'reg_alpha': 0.7858874385196836, 'reg_lambda': 0.05168733890147603, 'colsample_bytree': 0.49137169477177955, 'subsample': 0.9435777010218999}. Best is trial 17 with value: 0.8432671081677704.\n",
      "[I 2024-02-22 13:57:18,102] Trial 136 finished with value: 0.8324145534729879 and parameters: {'n_estimators': 220, 'learning_rate': 0.37841244085299497, 'max_depth': 17, 'alpha': 0.00824941435345369, 'gamma': 0.0023674051786091873, 'reg_alpha': 0.6296230693933794, 'reg_lambda': 0.03106204683513828, 'colsample_bytree': 0.4486105745438495, 'subsample': 0.9077068057556944}. Best is trial 17 with value: 0.8432671081677704.\n",
      "[I 2024-02-22 13:57:24,019] Trial 137 finished with value: 0.8386740331491712 and parameters: {'n_estimators': 329, 'learning_rate': 0.27217836017856506, 'max_depth': 18, 'alpha': 0.0015285647340187289, 'gamma': 0.0010375149911600475, 'reg_alpha': 0.3921036334937974, 'reg_lambda': 0.049082132691013566, 'colsample_bytree': 0.5323637307610222, 'subsample': 0.8341570964842762}. Best is trial 17 with value: 0.8432671081677704.\n",
      "[I 2024-02-22 13:57:26,521] Trial 138 finished with value: 0.8423973362930078 and parameters: {'n_estimators': 105, 'learning_rate': 0.3445007162728525, 'max_depth': 19, 'alpha': 0.0009767402567051157, 'gamma': 0.0027060295832720986, 'reg_alpha': 0.6080871276502922, 'reg_lambda': 0.046279950845333, 'colsample_bytree': 0.6081887654448709, 'subsample': 0.6607898809321856}. Best is trial 17 with value: 0.8432671081677704.\n",
      "[I 2024-02-22 13:57:29,456] Trial 139 finished with value: 0.8362021099389227 and parameters: {'n_estimators': 137, 'learning_rate': 0.3442235237682414, 'max_depth': 19, 'alpha': 0.0009522045235877471, 'gamma': 0.003755547485572666, 'reg_alpha': 0.6037116651276547, 'reg_lambda': 0.046193286278414444, 'colsample_bytree': 0.6150531525389437, 'subsample': 0.6655337649397188}. Best is trial 17 with value: 0.8432671081677704.\n",
      "[I 2024-02-22 13:57:33,370] Trial 140 finished with value: 0.8308374930671104 and parameters: {'n_estimators': 180, 'learning_rate': 0.30602352520591725, 'max_depth': 19, 'alpha': 0.00045036670383679414, 'gamma': 0.0026582305945661204, 'reg_alpha': 0.6603566542039127, 'reg_lambda': 0.03643476428831953, 'colsample_bytree': 0.6421634529596449, 'subsample': 0.7055265569413406}. Best is trial 17 with value: 0.8432671081677704.\n",
      "[I 2024-02-22 13:57:35,790] Trial 141 finished with value: 0.8354570637119114 and parameters: {'n_estimators': 105, 'learning_rate': 0.3316709933991268, 'max_depth': 20, 'alpha': 0.002972296217994989, 'gamma': 0.0028868556253782355, 'reg_alpha': 0.5817648983242604, 'reg_lambda': 0.04990676242031515, 'colsample_bytree': 0.5834003887650976, 'subsample': 0.7322969645868834}. Best is trial 17 with value: 0.8432671081677704.\n",
      "[I 2024-02-22 13:57:38,552] Trial 142 finished with value: 0.8380634390651086 and parameters: {'n_estimators': 160, 'learning_rate': 0.3684591565698237, 'max_depth': 18, 'alpha': 0.003983742754467097, 'gamma': 0.0002901682341664989, 'reg_alpha': 0.5348749028633966, 'reg_lambda': 0.04746539953528112, 'colsample_bytree': 0.4806385869815486, 'subsample': 0.6409491443516178}. Best is trial 17 with value: 0.8432671081677704.\n",
      "[I 2024-02-22 13:57:41,368] Trial 143 finished with value: 0.827318156579678 and parameters: {'n_estimators': 137, 'learning_rate': 0.38667971058661377, 'max_depth': 19, 'alpha': 0.00018531367258691088, 'gamma': 0.002141292274698346, 'reg_alpha': 0.5545641488242258, 'reg_lambda': 0.04230141298089307, 'colsample_bytree': 0.5558729186094294, 'subsample': 0.7744021107924683}. Best is trial 17 with value: 0.8432671081677704.\n",
      "[I 2024-02-22 13:57:50,761] Trial 144 finished with value: 0.8331491712707182 and parameters: {'n_estimators': 550, 'learning_rate': 0.25617388999695206, 'max_depth': 16, 'alpha': 0.00037031125567088096, 'gamma': 0.0034056720318381218, 'reg_alpha': 0.27636446045482266, 'reg_lambda': 0.053339144373638396, 'colsample_bytree': 0.5980269849533035, 'subsample': 0.6087630349483583}. Best is trial 17 with value: 0.8432671081677704.\n",
      "[I 2024-02-22 13:57:52,827] Trial 145 finished with value: 0.835201793721973 and parameters: {'n_estimators': 103, 'learning_rate': 0.2861189597497252, 'max_depth': 20, 'alpha': 0.00028287101990032945, 'gamma': 0.0025605797203045086, 'reg_alpha': 0.41653698589058497, 'reg_lambda': 0.04443434651137007, 'colsample_bytree': 0.512205921708645, 'subsample': 0.9283983453829667}. Best is trial 17 with value: 0.8432671081677704.\n",
      "[I 2024-02-22 13:57:58,052] Trial 146 finished with value: 0.8359375 and parameters: {'n_estimators': 426, 'learning_rate': 0.3539354569997848, 'max_depth': 16, 'alpha': 0.0021387574103057176, 'gamma': 0.0031765047249590395, 'reg_alpha': 0.5158483354640263, 'reg_lambda': 0.011240027328856692, 'colsample_bytree': 0.18636009991690564, 'subsample': 0.7214050964145218}. Best is trial 17 with value: 0.8432671081677704.\n",
      "[I 2024-02-22 13:58:06,128] Trial 147 finished with value: 0.8285077951002228 and parameters: {'n_estimators': 507, 'learning_rate': 0.2411258943725761, 'max_depth': 17, 'alpha': 0.0003139572952047935, 'gamma': 0.00047411626153238447, 'reg_alpha': 0.4479112805952139, 'reg_lambda': 0.05482801286615356, 'colsample_bytree': 0.5392451308609273, 'subsample': 0.8752549186882305}. Best is trial 17 with value: 0.8432671081677704.\n",
      "[I 2024-02-22 13:58:13,208] Trial 148 finished with value: 0.8368479467258602 and parameters: {'n_estimators': 392, 'learning_rate': 0.2947326530527146, 'max_depth': 18, 'alpha': 0.002501085806810374, 'gamma': 0.0014787314487106848, 'reg_alpha': 0.9394900994397729, 'reg_lambda': 0.05140861052232093, 'colsample_bytree': 0.6775135110096808, 'subsample': 0.680842366254862}. Best is trial 17 with value: 0.8432671081677704.\n",
      "[I 2024-02-22 13:58:17,918] Trial 149 finished with value: 0.8341765036537381 and parameters: {'n_estimators': 352, 'learning_rate': 0.2193323321628888, 'max_depth': 17, 'alpha': 0.0017074897069519447, 'gamma': 0.0019200254995827355, 'reg_alpha': 0.20064238643171164, 'reg_lambda': 0.049064263839159614, 'colsample_bytree': 0.21792690768889703, 'subsample': 0.5784377920660926}. Best is trial 17 with value: 0.8432671081677704.\n",
      "[I 2024-02-22 13:58:22,730] Trial 150 finished with value: 0.8287785833798104 and parameters: {'n_estimators': 372, 'learning_rate': 0.3386389871120395, 'max_depth': 19, 'alpha': 0.0006936725464004869, 'gamma': 0.005256583546393114, 'reg_alpha': 0.9136165261294988, 'reg_lambda': 0.07611459606095755, 'colsample_bytree': 0.46651074100753454, 'subsample': 0.7583776279213705}. Best is trial 17 with value: 0.8432671081677704.\n",
      "[I 2024-02-22 13:58:28,458] Trial 151 finished with value: 0.8408839779005526 and parameters: {'n_estimators': 333, 'learning_rate': 0.2695316399734113, 'max_depth': 18, 'alpha': 0.001052907568434563, 'gamma': 0.0009568198508493174, 'reg_alpha': 0.3893529193530286, 'reg_lambda': 0.048431918344562334, 'colsample_bytree': 0.516926176806628, 'subsample': 0.8458428508101461}. Best is trial 17 with value: 0.8432671081677704.\n",
      "[I 2024-02-22 13:58:33,687] Trial 152 finished with value: 0.8365650969529087 and parameters: {'n_estimators': 310, 'learning_rate': 0.2809445952245536, 'max_depth': 18, 'alpha': 0.0010132105265553187, 'gamma': 0.0028833707668232096, 'reg_alpha': 0.5741794162612504, 'reg_lambda': 0.0469247091439096, 'colsample_bytree': 0.5209333417475362, 'subsample': 0.8525795814255204}. Best is trial 17 with value: 0.8432671081677704.\n",
      "[I 2024-02-22 13:58:40,430] Trial 153 finished with value: 0.831946755407654 and parameters: {'n_estimators': 404, 'learning_rate': 0.23114802635447818, 'max_depth': 17, 'alpha': 0.00025424174119541054, 'gamma': 0.00224572037985413, 'reg_alpha': 0.3882950087887451, 'reg_lambda': 0.05277222578481577, 'colsample_bytree': 0.5545183033753877, 'subsample': 0.8921249283088483}. Best is trial 17 with value: 0.8432671081677704.\n",
      "[I 2024-02-22 13:58:48,858] Trial 154 finished with value: 0.8311258278145696 and parameters: {'n_estimators': 463, 'learning_rate': 0.31829294164321886, 'max_depth': 19, 'alpha': 0.0013521960591917175, 'gamma': 0.000556600088789787, 'reg_alpha': 0.31849959039106335, 'reg_lambda': 0.045650897225692585, 'colsample_bytree': 0.7377073977371551, 'subsample': 0.820459420327014}. Best is trial 17 with value: 0.8432671081677704.\n",
      "[I 2024-02-22 13:58:55,535] Trial 155 finished with value: 0.8327796234772978 and parameters: {'n_estimators': 387, 'learning_rate': 0.2543689837987578, 'max_depth': 11, 'alpha': 0.00115384277413282, 'gamma': 0.0036050429656506516, 'reg_alpha': 0.3758732450192455, 'reg_lambda': 0.050138100176313816, 'colsample_bytree': 0.8995438164991785, 'subsample': 0.9532758318527896}. Best is trial 17 with value: 0.8432671081677704.\n",
      "[I 2024-02-22 13:59:02,988] Trial 156 finished with value: 0.8326848249027238 and parameters: {'n_estimators': 526, 'learning_rate': 0.36724919862607247, 'max_depth': 20, 'alpha': 0.0008893984396978518, 'gamma': 0.001715603880098665, 'reg_alpha': 0.9729931729190053, 'reg_lambda': 0.048173317779044926, 'colsample_bytree': 0.495684252262519, 'subsample': 0.869470131614168}. Best is trial 17 with value: 0.8432671081677704.\n",
      "[I 2024-02-22 13:59:05,061] Trial 157 finished with value: 0.8306133933595948 and parameters: {'n_estimators': 133, 'learning_rate': 0.26771745683861614, 'max_depth': 19, 'alpha': 0.0005592068040485552, 'gamma': 0.004718232493051916, 'reg_alpha': 0.4787088601355068, 'reg_lambda': 0.05720570428271681, 'colsample_bytree': 0.2677534557413326, 'subsample': 0.906520659013754}. Best is trial 17 with value: 0.8432671081677704.\n",
      "[I 2024-02-22 13:59:08,271] Trial 158 finished with value: 0.8372093023255814 and parameters: {'n_estimators': 274, 'learning_rate': 0.24163549003597207, 'max_depth': 10, 'alpha': 0.001251496386684949, 'gamma': 0.0024898950731125323, 'reg_alpha': 0.3553776488442945, 'reg_lambda': 0.04363776355379236, 'colsample_bytree': 0.43953375091141755, 'subsample': 0.8018075422122799}. Best is trial 17 with value: 0.8432671081677704.\n",
      "[I 2024-02-22 13:59:13,052] Trial 159 finished with value: 0.8348115299334813 and parameters: {'n_estimators': 344, 'learning_rate': 0.3503181644598399, 'max_depth': 18, 'alpha': 0.004190538155405129, 'gamma': 0.001153588563301768, 'reg_alpha': 0.49675764089958013, 'reg_lambda': 0.05399218658596537, 'colsample_bytree': 0.3206504739410594, 'subsample': 0.535403336816236}. Best is trial 17 with value: 0.8432671081677704.\n",
      "[I 2024-02-22 13:59:18,671] Trial 160 finished with value: 0.840021990104453 and parameters: {'n_estimators': 444, 'learning_rate': 0.39030381942518644, 'max_depth': 16, 'alpha': 0.0007743472815199141, 'gamma': 0.0007956455394553774, 'reg_alpha': 0.602139240896691, 'reg_lambda': 0.04028598961618144, 'colsample_bytree': 0.46007502732046934, 'subsample': 0.6254224781037049}. Best is trial 17 with value: 0.8432671081677704.\n",
      "[I 2024-02-22 13:59:23,985] Trial 161 finished with value: 0.8325991189427313 and parameters: {'n_estimators': 432, 'learning_rate': 0.4149408543334119, 'max_depth': 16, 'alpha': 0.0008264183367605348, 'gamma': 0.0007632643152506936, 'reg_alpha': 0.6362974556038145, 'reg_lambda': 0.041038588848612965, 'colsample_bytree': 0.4573273149455433, 'subsample': 0.6309616681207587}. Best is trial 17 with value: 0.8432671081677704.\n",
      "[I 2024-02-22 13:59:28,721] Trial 162 finished with value: 0.8373893805309734 and parameters: {'n_estimators': 368, 'learning_rate': 0.4004984150871245, 'max_depth': 17, 'alpha': 0.0005070139353906443, 'gamma': 0.000985281611674111, 'reg_alpha': 0.6090366203701635, 'reg_lambda': 0.037632822227920665, 'colsample_bytree': 0.49046885652160394, 'subsample': 0.6012773943637173}. Best is trial 17 with value: 0.8432671081677704.\n",
      "[I 2024-02-22 13:59:34,653] Trial 163 finished with value: 0.8350799779371207 and parameters: {'n_estimators': 481, 'learning_rate': 0.38594586571282247, 'max_depth': 15, 'alpha': 0.0002137116507544723, 'gamma': 0.00043574063988249687, 'reg_alpha': 0.2998876175303533, 'reg_lambda': 0.04049879853947564, 'colsample_bytree': 0.4738496690083061, 'subsample': 0.6621150006548214}. Best is trial 17 with value: 0.8432671081677704.\n",
      "[I 2024-02-22 13:59:41,321] Trial 164 finished with value: 0.8413566739606126 and parameters: {'n_estimators': 446, 'learning_rate': 0.3941140073947523, 'max_depth': 16, 'alpha': 0.0010762871967134966, 'gamma': 0.0009183089567488491, 'reg_alpha': 0.5605354118485866, 'reg_lambda': 0.045279338502377045, 'colsample_bytree': 0.5264492334912091, 'subsample': 0.7003103001248008}. Best is trial 17 with value: 0.8432671081677704.\n",
      "[I 2024-02-22 13:59:46,544] Trial 165 finished with value: 0.8303964757709251 and parameters: {'n_estimators': 452, 'learning_rate': 0.3904650345763192, 'max_depth': 15, 'alpha': 0.0010409431413947014, 'gamma': 0.0008406927910267342, 'reg_alpha': 0.5596743616834281, 'reg_lambda': 0.042291291842737604, 'colsample_bytree': 0.40578570377776274, 'subsample': 0.6927627815099684}. Best is trial 17 with value: 0.8432671081677704.\n",
      "[I 2024-02-22 13:59:52,840] Trial 166 finished with value: 0.8395604395604396 and parameters: {'n_estimators': 419, 'learning_rate': 0.4113740615753871, 'max_depth': 16, 'alpha': 0.0006211911396589274, 'gamma': 0.0009055214626537857, 'reg_alpha': 0.5800009706229937, 'reg_lambda': 0.04551878575347966, 'colsample_bytree': 0.5218434042710443, 'subsample': 0.6495952040863257}. Best is trial 17 with value: 0.8432671081677704.\n",
      "[I 2024-02-22 13:59:58,947] Trial 167 finished with value: 0.8367234744365035 and parameters: {'n_estimators': 413, 'learning_rate': 0.4490378830818966, 'max_depth': 12, 'alpha': 0.0008380207345521953, 'gamma': 0.0008632855153991377, 'reg_alpha': 0.5908542459837302, 'reg_lambda': 0.04642959823358145, 'colsample_bytree': 0.5659684198557519, 'subsample': 0.656093669425542}. Best is trial 17 with value: 0.8432671081677704.\n",
      "[I 2024-02-22 14:00:04,805] Trial 168 finished with value: 0.8283828382838283 and parameters: {'n_estimators': 491, 'learning_rate': 0.4270891984138859, 'max_depth': 16, 'alpha': 0.0006300761366034572, 'gamma': 0.0009257002229578629, 'reg_alpha': 0.5671570765542007, 'reg_lambda': 0.04505087049859173, 'colsample_bytree': 0.5124536291710282, 'subsample': 0.620441298096477}. Best is trial 17 with value: 0.8432671081677704.\n",
      "[I 2024-02-22 14:00:11,519] Trial 169 finished with value: 0.8313985627418463 and parameters: {'n_estimators': 461, 'learning_rate': 0.40686651764371606, 'max_depth': 15, 'alpha': 0.0009389233159195875, 'gamma': 0.001119265370927007, 'reg_alpha': 0.6079830685035619, 'reg_lambda': 0.049031901681547065, 'colsample_bytree': 0.5390838468738393, 'subsample': 0.7103511763278029}. Best is trial 17 with value: 0.8432671081677704.\n",
      "[I 2024-02-22 14:00:18,039] Trial 170 finished with value: 0.835886214442013 and parameters: {'n_estimators': 440, 'learning_rate': 0.4227728951273561, 'max_depth': 14, 'alpha': 0.0007459404956504354, 'gamma': 0.0006869678804712041, 'reg_alpha': 0.5406803504085346, 'reg_lambda': 0.04423908255613675, 'colsample_bytree': 0.51695804246401, 'subsample': 0.6428521398082422}. Best is trial 17 with value: 0.8432671081677704.\n",
      "[I 2024-02-22 14:00:25,509] Trial 171 finished with value: 0.8393839383938393 and parameters: {'n_estimators': 515, 'learning_rate': 0.44259341848339634, 'max_depth': 16, 'alpha': 0.0011171037494330587, 'gamma': 0.0012790882760164602, 'reg_alpha': 0.5299928125438859, 'reg_lambda': 0.03954281861247221, 'colsample_bytree': 0.5379367695259347, 'subsample': 0.682003586171433}. Best is trial 17 with value: 0.8432671081677704.\n",
      "[I 2024-02-22 14:00:32,969] Trial 172 finished with value: 0.8280044101433296 and parameters: {'n_estimators': 516, 'learning_rate': 0.47467539303261996, 'max_depth': 16, 'alpha': 0.0011118037866429027, 'gamma': 0.0012968841923177029, 'reg_alpha': 0.5321034531215424, 'reg_lambda': 0.04697730416204166, 'colsample_bytree': 0.5412834209670655, 'subsample': 0.6729173574745391}. Best is trial 17 with value: 0.8432671081677704.\n",
      "[I 2024-02-22 14:00:41,724] Trial 173 finished with value: 0.8371837183718371 and parameters: {'n_estimators': 564, 'learning_rate': 0.27529230562989443, 'max_depth': 17, 'alpha': 0.0006045214079139764, 'gamma': 0.000990748998445251, 'reg_alpha': 0.5853612033211063, 'reg_lambda': 0.03965077332766077, 'colsample_bytree': 0.5747448678594245, 'subsample': 0.6876000238931205}. Best is trial 17 with value: 0.8432671081677704.\n",
      "[I 2024-02-22 14:00:49,611] Trial 174 finished with value: 0.8354430379746834 and parameters: {'n_estimators': 541, 'learning_rate': 0.43713793229005726, 'max_depth': 16, 'alpha': 0.0007622003602614688, 'gamma': 0.000870856762284572, 'reg_alpha': 0.6194511302344728, 'reg_lambda': 0.04260205559593434, 'colsample_bytree': 0.5258571102485284, 'subsample': 0.7187629400700372}. Best is trial 17 with value: 0.8432671081677704.\n",
      "[I 2024-02-22 14:00:55,151] Trial 175 finished with value: 0.8353726362625139 and parameters: {'n_estimators': 475, 'learning_rate': 0.4478953985283646, 'max_depth': 17, 'alpha': 0.0010370273577517684, 'gamma': 0.0007743659006030647, 'reg_alpha': 0.5535823210475945, 'reg_lambda': 0.050992171783398765, 'colsample_bytree': 0.24473553061575087, 'subsample': 0.7417377418951354}. Best is trial 17 with value: 0.8432671081677704.\n",
      "[I 2024-02-22 14:01:03,007] Trial 176 finished with value: 0.8360022087244616 and parameters: {'n_estimators': 503, 'learning_rate': 0.4411052417117865, 'max_depth': 15, 'alpha': 0.001175717736739078, 'gamma': 0.0012943074284367695, 'reg_alpha': 0.6472385686037687, 'reg_lambda': 0.04772170825272299, 'colsample_bytree': 0.5554523508747791, 'subsample': 0.648201873083881}. Best is trial 17 with value: 0.8432671081677704.\n",
      "[I 2024-02-22 14:01:08,277] Trial 177 finished with value: 0.8299168975069253 and parameters: {'n_estimators': 431, 'learning_rate': 0.4096665235846775, 'max_depth': 16, 'alpha': 0.0009499405291012602, 'gamma': 0.001006903155684568, 'reg_alpha': 0.5186271286181482, 'reg_lambda': 0.04552873281523317, 'colsample_bytree': 0.2951315024794455, 'subsample': 0.6223333758326909}. Best is trial 17 with value: 0.8432671081677704.\n",
      "[I 2024-02-22 14:01:11,893] Trial 178 finished with value: 0.8296703296703296 and parameters: {'n_estimators': 419, 'learning_rate': 0.2629990837496423, 'max_depth': 5, 'alpha': 0.001365521113625474, 'gamma': 0.0011410104213720226, 'reg_alpha': 0.5730897410670762, 'reg_lambda': 0.04347158235573428, 'colsample_bytree': 0.6056534081238993, 'subsample': 0.7045929711260318}. Best is trial 17 with value: 0.8432671081677704.\n",
      "[I 2024-02-22 14:01:17,123] Trial 179 finished with value: 0.8309392265193372 and parameters: {'n_estimators': 393, 'learning_rate': 0.2991497361592325, 'max_depth': 13, 'alpha': 0.0012599360356809722, 'gamma': 0.00015717034791366626, 'reg_alpha': 0.2620256702083891, 'reg_lambda': 0.050127543540687707, 'colsample_bytree': 0.5054782394570781, 'subsample': 0.7626711515126008}. Best is trial 17 with value: 0.8432671081677704.\n",
      "[I 2024-02-22 14:01:22,122] Trial 180 finished with value: 0.8360022087244616 and parameters: {'n_estimators': 450, 'learning_rate': 0.37810809893989145, 'max_depth': 16, 'alpha': 0.00040700584451754053, 'gamma': 0.0043650809713582876, 'reg_alpha': 0.5966327851479845, 'reg_lambda': 0.05218342445692565, 'colsample_bytree': 0.22041713053088752, 'subsample': 0.5918169888566299}. Best is trial 17 with value: 0.8432671081677704.\n",
      "[I 2024-02-22 14:01:24,461] Trial 181 finished with value: 0.8356239692138537 and parameters: {'n_estimators': 151, 'learning_rate': 0.396584906044106, 'max_depth': 16, 'alpha': 0.0006752686574047219, 'gamma': 0.0015607393869285805, 'reg_alpha': 0.5076683799017602, 'reg_lambda': 0.035634149709073075, 'colsample_bytree': 0.4818601101440993, 'subsample': 0.6684912546124335}. Best is trial 17 with value: 0.8432671081677704.\n",
      "[I 2024-02-22 14:01:26,472] Trial 182 finished with value: 0.8340707964601769 and parameters: {'n_estimators': 116, 'learning_rate': 0.47279034572629186, 'max_depth': 16, 'alpha': 0.0014563633554653976, 'gamma': 0.00024426635447798406, 'reg_alpha': 0.2303582977191867, 'reg_lambda': 0.03861986530465376, 'colsample_bytree': 0.505515799136622, 'subsample': 0.6925394333395722}. Best is trial 17 with value: 0.8432671081677704.\n",
      "[I 2024-02-22 14:01:31,787] Trial 183 finished with value: 0.8389972144846797 and parameters: {'n_estimators': 532, 'learning_rate': 0.3563512888070787, 'max_depth': 15, 'alpha': 0.00649856685142711, 'gamma': 0.001207085994734322, 'reg_alpha': 0.5459144580020657, 'reg_lambda': 0.034220106234273594, 'colsample_bytree': 0.1962331982343713, 'subsample': 0.7439143691943672}. Best is trial 17 with value: 0.8432671081677704.\n",
      "[I 2024-02-22 14:01:37,459] Trial 184 finished with value: 0.8431044109436069 and parameters: {'n_estimators': 498, 'learning_rate': 0.2488902440851605, 'max_depth': 15, 'alpha': 0.0067770463128552505, 'gamma': 0.0013877249929556436, 'reg_alpha': 0.5555037883384933, 'reg_lambda': 0.04135020330068338, 'colsample_bytree': 0.20070670905680577, 'subsample': 0.7313320879536338}. Best is trial 17 with value: 0.8432671081677704.\n",
      "[I 2024-02-22 14:01:42,329] Trial 185 finished with value: 0.8318485523385301 and parameters: {'n_estimators': 496, 'learning_rate': 0.24807795847982173, 'max_depth': 15, 'alpha': 0.009025217034753957, 'gamma': 0.0013880621044376046, 'reg_alpha': 0.7187402414698493, 'reg_lambda': 0.04137091947415937, 'colsample_bytree': 0.1483411460054437, 'subsample': 0.727817256292605}. Best is trial 17 with value: 0.8432671081677704.\n",
      "[I 2024-02-22 14:01:47,599] Trial 186 finished with value: 0.8408710217755444 and parameters: {'n_estimators': 479, 'learning_rate': 0.23214902419739505, 'max_depth': 14, 'alpha': 0.0004901699854733812, 'gamma': 0.0010663933802515153, 'reg_alpha': 0.33409775947099, 'reg_lambda': 0.048129464819026406, 'colsample_bytree': 0.16748111801271076, 'subsample': 0.7827631933587882}. Best is trial 17 with value: 0.8432671081677704.\n",
      "[I 2024-02-22 14:01:53,188] Trial 187 finished with value: 0.8324929971988795 and parameters: {'n_estimators': 475, 'learning_rate': 0.23219939508312246, 'max_depth': 14, 'alpha': 0.0004883949873638325, 'gamma': 0.00010565406178770413, 'reg_alpha': 0.3321441916341047, 'reg_lambda': 0.04506352113198377, 'colsample_bytree': 0.20148496790357712, 'subsample': 0.768459296594048}. Best is trial 17 with value: 0.8432671081677704.\n",
      "[I 2024-02-22 14:01:58,771] Trial 188 finished with value: 0.8341765036537381 and parameters: {'n_estimators': 517, 'learning_rate': 0.20734028897508022, 'max_depth': 15, 'alpha': 0.007223436146423905, 'gamma': 0.0010903883071472452, 'reg_alpha': 0.5620739245337837, 'reg_lambda': 0.04895670338538349, 'colsample_bytree': 0.16798376377873597, 'subsample': 0.7512520067017279}. Best is trial 17 with value: 0.8432671081677704.\n",
      "[I 2024-02-22 14:02:12,437] Trial 189 finished with value: 0.8317601332593003 and parameters: {'n_estimators': 546, 'learning_rate': 0.24026433920360873, 'max_depth': 14, 'alpha': 0.000430464618851432, 'gamma': 0.0012285152141777132, 'reg_alpha': 0.3192246447327187, 'reg_lambda': 0.047096233551785174, 'colsample_bytree': 0.9490467592600577, 'subsample': 0.7852198178174316}. Best is trial 17 with value: 0.8432671081677704.\n",
      "[I 2024-02-22 14:02:19,838] Trial 190 finished with value: 0.8339854667411962 and parameters: {'n_estimators': 469, 'learning_rate': 0.2256078898626355, 'max_depth': 17, 'alpha': 0.0006247194442560061, 'gamma': 0.0009489951113022827, 'reg_alpha': 0.5305347839142477, 'reg_lambda': 0.04318128590852614, 'colsample_bytree': 0.13860078145071936, 'subsample': 0.7290226026043394}. Best is trial 17 with value: 0.8432671081677704.\n",
      "[I 2024-02-22 14:02:28,266] Trial 191 finished with value: 0.835287548855388 and parameters: {'n_estimators': 492, 'learning_rate': 0.2584389075271944, 'max_depth': 16, 'alpha': 0.000543916730315753, 'gamma': 0.0007962761689180325, 'reg_alpha': 0.5823092379022009, 'reg_lambda': 0.0485254674857686, 'colsample_bytree': 0.1730459466737572, 'subsample': 0.7889677332772776}. Best is trial 17 with value: 0.8432671081677704.\n",
      "[I 2024-02-22 14:02:36,737] Trial 192 finished with value: 0.8452579034941764 and parameters: {'n_estimators': 446, 'learning_rate': 0.21722079233921965, 'max_depth': 13, 'alpha': 0.0010708402889736523, 'gamma': 0.0010656055733298537, 'reg_alpha': 0.2814965454227949, 'reg_lambda': 0.04569466408223651, 'colsample_bytree': 0.25657756109665, 'subsample': 0.640533151557158}. Best is trial 192 with value: 0.8452579034941764.\n",
      "[I 2024-02-22 14:02:45,204] Trial 193 finished with value: 0.8315730961645359 and parameters: {'n_estimators': 451, 'learning_rate': 0.24802667215196228, 'max_depth': 14, 'alpha': 0.0010961645651688162, 'gamma': 0.0010258438124176976, 'reg_alpha': 0.28219004013138976, 'reg_lambda': 0.045968630322467424, 'colsample_bytree': 0.25780996040878135, 'subsample': 0.710557885380336}. Best is trial 192 with value: 0.8452579034941764.\n",
      "[I 2024-02-22 14:02:55,437] Trial 194 finished with value: 0.8398891966759002 and parameters: {'n_estimators': 510, 'learning_rate': 0.21545472996016146, 'max_depth': 15, 'alpha': 0.0009364574568784557, 'gamma': 0.0010902515646899157, 'reg_alpha': 0.6927361697724779, 'reg_lambda': 0.0405038612130675, 'colsample_bytree': 0.2171951224940501, 'subsample': 0.6280897574521289}. Best is trial 192 with value: 0.8452579034941764.\n",
      "[I 2024-02-22 14:03:03,095] Trial 195 finished with value: 0.8235955056179776 and parameters: {'n_estimators': 520, 'learning_rate': 0.21522532432222638, 'max_depth': 13, 'alpha': 0.0008570380801876178, 'gamma': 0.0010953202544445482, 'reg_alpha': 0.3024368605983628, 'reg_lambda': 0.03983177064833522, 'colsample_bytree': 0.11477082617778439, 'subsample': 0.6202503903260648}. Best is trial 192 with value: 0.8452579034941764.\n",
      "[I 2024-02-22 14:03:11,151] Trial 196 finished with value: 0.8421052631578948 and parameters: {'n_estimators': 501, 'learning_rate': 0.19255794915005794, 'max_depth': 12, 'alpha': 0.000984235045942046, 'gamma': 0.0008981253528770329, 'reg_alpha': 0.676006595425601, 'reg_lambda': 0.04252294398447603, 'colsample_bytree': 0.21101703113269576, 'subsample': 0.38457979143224025}. Best is trial 192 with value: 0.8452579034941764.\n",
      "[I 2024-02-22 14:03:18,822] Trial 197 finished with value: 0.8367459878251244 and parameters: {'n_estimators': 480, 'learning_rate': 0.2127499252909257, 'max_depth': 13, 'alpha': 0.0007401376539326052, 'gamma': 0.000638650166372594, 'reg_alpha': 0.6594495600613675, 'reg_lambda': 0.04164470620583679, 'colsample_bytree': 0.2168365946476599, 'subsample': 0.3662177494911498}. Best is trial 192 with value: 0.8452579034941764.\n",
      "[I 2024-02-22 14:03:28,460] Trial 198 finished with value: 0.8344444444444444 and parameters: {'n_estimators': 500, 'learning_rate': 0.18565292497237576, 'max_depth': 14, 'alpha': 0.0009155456838126648, 'gamma': 0.0008844406498497351, 'reg_alpha': 0.3446031484373595, 'reg_lambda': 0.044233092605647735, 'colsample_bytree': 0.20586414035633865, 'subsample': 0.5660644924943729}. Best is trial 192 with value: 0.8452579034941764.\n",
      "[I 2024-02-22 14:03:34,635] Trial 199 finished with value: 0.8235942668136714 and parameters: {'n_estimators': 441, 'learning_rate': 0.2219604950370869, 'max_depth': 12, 'alpha': 0.0009926894514277382, 'gamma': 0.0009157404061242025, 'reg_alpha': 0.6776392715249505, 'reg_lambda': 0.04254279704711594, 'colsample_bytree': 0.18672772167308843, 'subsample': 0.3104916013430526}. Best is trial 192 with value: 0.8452579034941764.\n",
      "[I 2024-02-22 14:03:41,996] Trial 200 finished with value: 0.8410485220301172 and parameters: {'n_estimators': 469, 'learning_rate': 0.17543296584743528, 'max_depth': 12, 'alpha': 0.0008019903150176579, 'gamma': 0.0008205981309938601, 'reg_alpha': 0.6895908616354387, 'reg_lambda': 0.04590084526080269, 'colsample_bytree': 0.23495414655371244, 'subsample': 0.635050310047622}. Best is trial 192 with value: 0.8452579034941764.\n",
      "[I 2024-02-22 14:03:48,464] Trial 201 finished with value: 0.8305647840531561 and parameters: {'n_estimators': 491, 'learning_rate': 0.17830648810342864, 'max_depth': 12, 'alpha': 0.0007601180961311504, 'gamma': 0.000822698361691668, 'reg_alpha': 0.6397023416318228, 'reg_lambda': 0.0453829740763602, 'colsample_bytree': 0.23133895561743734, 'subsample': 0.20777178160494536}. Best is trial 192 with value: 0.8452579034941764.\n",
      "[I 2024-02-22 14:03:57,283] Trial 202 finished with value: 0.8364042434394193 and parameters: {'n_estimators': 469, 'learning_rate': 0.20534882700302515, 'max_depth': 13, 'alpha': 0.0009669136106622079, 'gamma': 0.0009391299319585852, 'reg_alpha': 0.6936625760469242, 'reg_lambda': 0.04404119648951873, 'colsample_bytree': 0.24396830341229786, 'subsample': 0.5930391154327163}. Best is trial 192 with value: 0.8452579034941764.\n",
      "[I 2024-02-22 14:04:04,771] Trial 203 finished with value: 0.8363838047698281 and parameters: {'n_estimators': 424, 'learning_rate': 0.19633529289231386, 'max_depth': 12, 'alpha': 0.0008393269586088873, 'gamma': 0.0006874304964913986, 'reg_alpha': 0.7098975790721973, 'reg_lambda': 0.046586508864538495, 'colsample_bytree': 0.26836520865434765, 'subsample': 0.6322355041360391}. Best is trial 192 with value: 0.8452579034941764.\n",
      "[I 2024-02-22 14:04:11,643] Trial 204 finished with value: 0.8406440866185453 and parameters: {'n_estimators': 459, 'learning_rate': 0.16020935792391194, 'max_depth': 11, 'alpha': 0.0012225347735725983, 'gamma': 0.0010047905830701139, 'reg_alpha': 0.67371440949038, 'reg_lambda': 0.01940969088757097, 'colsample_bytree': 0.19850940809264644, 'subsample': 0.615109348321383}. Best is trial 192 with value: 0.8452579034941764.\n",
      "[I 2024-02-22 14:04:16,079] Trial 205 finished with value: 0.8233295583238958 and parameters: {'n_estimators': 452, 'learning_rate': 0.16024639509386182, 'max_depth': 6, 'alpha': 0.0012220477323722015, 'gamma': 0.001005882250742266, 'reg_alpha': 0.6874718368734098, 'reg_lambda': 0.011313609532817107, 'colsample_bytree': 0.15907542889215315, 'subsample': 0.6090762781044604}. Best is trial 192 with value: 0.8452579034941764.\n",
      "[I 2024-02-22 14:04:22,603] Trial 206 finished with value: 0.8384918401800788 and parameters: {'n_estimators': 459, 'learning_rate': 0.1441652013701284, 'max_depth': 11, 'alpha': 0.0010532938183375744, 'gamma': 0.001064416082169333, 'reg_alpha': 0.675106529953147, 'reg_lambda': 0.020556240229705695, 'colsample_bytree': 0.225553602551177, 'subsample': 0.6483007719314885}. Best is trial 192 with value: 0.8452579034941764.\n",
      "[I 2024-02-22 14:04:31,949] Trial 207 finished with value: 0.8317388857625211 and parameters: {'n_estimators': 479, 'learning_rate': 0.10880816248400152, 'max_depth': 13, 'alpha': 0.0008938413478401569, 'gamma': 0.0007850750200622926, 'reg_alpha': 0.660897045533944, 'reg_lambda': 0.015576124972956303, 'colsample_bytree': 0.19082556899720574, 'subsample': 0.5781009754709472}. Best is trial 192 with value: 0.8452579034941764.\n",
      "[I 2024-02-22 14:04:40,989] Trial 208 finished with value: 0.8353863381858901 and parameters: {'n_estimators': 528, 'learning_rate': 0.12484507097272778, 'max_depth': 12, 'alpha': 0.0006850063855610042, 'gamma': 0.0008715604508312733, 'reg_alpha': 0.6192543154501496, 'reg_lambda': 0.029585309728586553, 'colsample_bytree': 0.21495473199271173, 'subsample': 0.607542241296807}. Best is trial 192 with value: 0.8452579034941764.\n",
      "[I 2024-02-22 14:04:47,877] Trial 209 finished with value: 0.8342602892102337 and parameters: {'n_estimators': 507, 'learning_rate': 0.16194836949928626, 'max_depth': 7, 'alpha': 0.001297306212366111, 'gamma': 0.001168716960494267, 'reg_alpha': 0.7174123168928532, 'reg_lambda': 0.049639827448912065, 'colsample_bytree': 0.17998383239512444, 'subsample': 0.6281574450772123}. Best is trial 192 with value: 0.8452579034941764.\n",
      "[I 2024-02-22 14:04:57,541] Trial 210 finished with value: 0.8362213527110117 and parameters: {'n_estimators': 431, 'learning_rate': 0.09501241205032543, 'max_depth': 14, 'alpha': 0.0008133770455534202, 'gamma': 0.0007214456995318758, 'reg_alpha': 0.7372357315562199, 'reg_lambda': 0.012396022892235495, 'colsample_bytree': 0.2812583137542023, 'subsample': 0.5551504406245618}. Best is trial 192 with value: 0.8452579034941764.\n",
      "[I 2024-02-22 14:05:03,017] Trial 211 finished with value: 0.8297520661157024 and parameters: {'n_estimators': 408, 'learning_rate': 0.19822692221902272, 'max_depth': 11, 'alpha': 0.0010318243905900505, 'gamma': 0.001043007947739972, 'reg_alpha': 0.6970016280481217, 'reg_lambda': 0.04782998446760475, 'colsample_bytree': 0.20337832719306145, 'subsample': 0.25038898205928284}. Best is trial 192 with value: 0.8452579034941764.\n",
      "[I 2024-02-22 14:05:09,478] Trial 212 finished with value: 0.8319374651032942 and parameters: {'n_estimators': 461, 'learning_rate': 0.2332652801087919, 'max_depth': 9, 'alpha': 0.0011793025921528867, 'gamma': 0.0009701509497962235, 'reg_alpha': 0.6343094100245706, 'reg_lambda': 0.04165256955431333, 'colsample_bytree': 0.2275430163506095, 'subsample': 0.6546011477084035}. Best is trial 192 with value: 0.8452579034941764.\n",
      "[I 2024-02-22 14:05:12,445] Trial 213 finished with value: 0.8137931034482758 and parameters: {'n_estimators': 486, 'learning_rate': 0.1787051586892782, 'max_depth': 3, 'alpha': 0.001513276648992143, 'gamma': 0.003169130533135159, 'reg_alpha': 0.32708122873407747, 'reg_lambda': 0.024684086155734537, 'colsample_bytree': 0.25373681585988955, 'subsample': 0.6666394181483678}. Best is trial 192 with value: 0.8452579034941764.\n",
      "[I 2024-02-22 14:05:21,154] Trial 214 finished with value: 0.8422818791946309 and parameters: {'n_estimators': 538, 'learning_rate': 0.1938809100092551, 'max_depth': 15, 'alpha': 0.0001297779507925218, 'gamma': 0.0008411136066663617, 'reg_alpha': 0.3653723369896745, 'reg_lambda': 0.018101684005063075, 'colsample_bytree': 0.23968126698996123, 'subsample': 0.6337981409819562}. Best is trial 192 with value: 0.8452579034941764.\n",
      "[I 2024-02-22 14:05:33,881] Trial 215 finished with value: 0.8395751816657351 and parameters: {'n_estimators': 541, 'learning_rate': 0.15406167692042572, 'max_depth': 15, 'alpha': 0.00010978703917122767, 'gamma': 0.0008684912774047219, 'reg_alpha': 0.35962614744852317, 'reg_lambda': 0.013000940312990799, 'colsample_bytree': 0.2447952785795673, 'subsample': 0.6238977321711624}. Best is trial 192 with value: 0.8452579034941764.\n",
      "[I 2024-02-22 14:05:44,437] Trial 216 finished with value: 0.8361204013377926 and parameters: {'n_estimators': 550, 'learning_rate': 0.1655637696387662, 'max_depth': 15, 'alpha': 0.00010982497010789114, 'gamma': 0.0008558843721586932, 'reg_alpha': 0.34551793199240444, 'reg_lambda': 0.01358437184439999, 'colsample_bytree': 0.24453839534320496, 'subsample': 0.5996804781442391}. Best is trial 192 with value: 0.8452579034941764.\n",
      "[I 2024-02-22 14:05:56,270] Trial 217 finished with value: 0.8403361344537815 and parameters: {'n_estimators': 569, 'learning_rate': 0.15249843757040588, 'max_depth': 15, 'alpha': 0.00012389584008229887, 'gamma': 0.0007353826900354022, 'reg_alpha': 0.3759531128339821, 'reg_lambda': 0.016747101139350785, 'colsample_bytree': 0.2625583124782693, 'subsample': 0.6295642196576092}. Best is trial 192 with value: 0.8452579034941764.\n",
      "[I 2024-02-22 14:06:08,718] Trial 218 finished with value: 0.838888888888889 and parameters: {'n_estimators': 558, 'learning_rate': 0.15069465104106394, 'max_depth': 15, 'alpha': 0.00012638999075461545, 'gamma': 0.0007721300496507262, 'reg_alpha': 0.3953868086425679, 'reg_lambda': 0.01869051321119456, 'colsample_bytree': 0.26009641121587385, 'subsample': 0.6337660399965317}. Best is trial 192 with value: 0.8452579034941764.\n",
      "[I 2024-02-22 14:06:20,070] Trial 219 finished with value: 0.8401775804661488 and parameters: {'n_estimators': 566, 'learning_rate': 0.18944646773219032, 'max_depth': 14, 'alpha': 0.0001365744890088701, 'gamma': 0.0005722173933758602, 'reg_alpha': 0.38137625577756507, 'reg_lambda': 0.01971962271079673, 'colsample_bytree': 0.28544677523396744, 'subsample': 0.42729372727493586}. Best is trial 192 with value: 0.8452579034941764.\n",
      "[I 2024-02-22 14:06:29,799] Trial 220 finished with value: 0.8344444444444444 and parameters: {'n_estimators': 582, 'learning_rate': 0.18955423021591228, 'max_depth': 14, 'alpha': 0.00016116629718165498, 'gamma': 0.0006523633189690466, 'reg_alpha': 0.37570132877797613, 'reg_lambda': 0.016484102300860167, 'colsample_bytree': 0.29480033344272233, 'subsample': 0.39272326321773665}. Best is trial 192 with value: 0.8452579034941764.\n",
      "[I 2024-02-22 14:06:39,155] Trial 221 finished with value: 0.8416988416988417 and parameters: {'n_estimators': 608, 'learning_rate': 0.19608065063337227, 'max_depth': 14, 'alpha': 0.00014770398139874345, 'gamma': 0.0008126400806159607, 'reg_alpha': 0.36775079443064507, 'reg_lambda': 0.01666392202039321, 'colsample_bytree': 0.23071637017063468, 'subsample': 0.36368089596025294}. Best is trial 192 with value: 0.8452579034941764.\n",
      "[I 2024-02-22 14:06:49,388] Trial 222 finished with value: 0.8386740331491712 and parameters: {'n_estimators': 594, 'learning_rate': 0.18177815407918108, 'max_depth': 14, 'alpha': 0.00013862784754442556, 'gamma': 0.0007406226043227646, 'reg_alpha': 0.36829091776941725, 'reg_lambda': 0.020131357958480145, 'colsample_bytree': 0.28339390938627623, 'subsample': 0.3704579225628645}. Best is trial 192 with value: 0.8452579034941764.\n",
      "[I 2024-02-22 14:06:58,936] Trial 223 finished with value: 0.8391061452513966 and parameters: {'n_estimators': 653, 'learning_rate': 0.19745405729550733, 'max_depth': 15, 'alpha': 0.00014315279001748366, 'gamma': 0.0005407361939845828, 'reg_alpha': 0.38126098617638765, 'reg_lambda': 0.018148250326094243, 'colsample_bytree': 0.23315338598293447, 'subsample': 0.37087474762033584}. Best is trial 192 with value: 0.8452579034941764.\n",
      "[I 2024-02-22 14:07:08,517] Trial 224 finished with value: 0.8303571428571428 and parameters: {'n_estimators': 582, 'learning_rate': 0.17235170958482665, 'max_depth': 14, 'alpha': 0.0001194747381768069, 'gamma': 0.0006037231811441777, 'reg_alpha': 0.4078550850036977, 'reg_lambda': 0.014879334466410689, 'colsample_bytree': 0.21152496238438404, 'subsample': 0.42139126315271913}. Best is trial 192 with value: 0.8452579034941764.\n",
      "[I 2024-02-22 14:07:17,965] Trial 225 finished with value: 0.8448371065709552 and parameters: {'n_estimators': 620, 'learning_rate': 0.18916816456823138, 'max_depth': 13, 'alpha': 0.00015588716461604313, 'gamma': 0.0003760939956155577, 'reg_alpha': 0.3554042292764503, 'reg_lambda': 0.022758882668537067, 'colsample_bytree': 0.2654158532416747, 'subsample': 0.4344124390738246}. Best is trial 192 with value: 0.8452579034941764.\n",
      "[I 2024-02-22 14:07:27,214] Trial 226 finished with value: 0.8360200111172874 and parameters: {'n_estimators': 632, 'learning_rate': 0.19739086127007593, 'max_depth': 13, 'alpha': 0.00013440660034509503, 'gamma': 0.0009504746997639254, 'reg_alpha': 0.36414454593285284, 'reg_lambda': 0.022332994709697965, 'colsample_bytree': 0.2031794840485615, 'subsample': 0.44953228758729424}. Best is trial 192 with value: 0.8452579034941764.\n",
      "[I 2024-02-22 14:07:35,857] Trial 227 finished with value: 0.8449612403100775 and parameters: {'n_estimators': 619, 'learning_rate': 0.1845107228741276, 'max_depth': 13, 'alpha': 0.00012199371559104835, 'gamma': 0.0007060803630523574, 'reg_alpha': 0.31155875859854504, 'reg_lambda': 0.018026388013799643, 'colsample_bytree': 0.2286882139520933, 'subsample': 0.4330028814732843}. Best is trial 192 with value: 0.8452579034941764.\n",
      "[I 2024-02-22 14:07:45,805] Trial 228 finished with value: 0.8395335924486397 and parameters: {'n_estimators': 612, 'learning_rate': 0.18430624413094718, 'max_depth': 12, 'alpha': 0.00012752545091965228, 'gamma': 0.0007054060385195817, 'reg_alpha': 0.31897502385977083, 'reg_lambda': 0.02001116421118997, 'colsample_bytree': 0.3097904081255749, 'subsample': 0.4340127874644326}. Best is trial 192 with value: 0.8452579034941764.\n",
      "[I 2024-02-22 14:07:56,001] Trial 229 finished with value: 0.8362021099389227 and parameters: {'n_estimators': 613, 'learning_rate': 0.1302943254830645, 'max_depth': 13, 'alpha': 0.00011622675369404256, 'gamma': 0.0008136098074447668, 'reg_alpha': 0.2895068107436514, 'reg_lambda': 0.018197371067941264, 'colsample_bytree': 0.2655513877238815, 'subsample': 0.360821685492865}. Best is trial 192 with value: 0.8452579034941764.\n",
      "[I 2024-02-22 14:08:05,364] Trial 230 finished with value: 0.8355408388520972 and parameters: {'n_estimators': 624, 'learning_rate': 0.17170907862141485, 'max_depth': 13, 'alpha': 0.00014851851783931672, 'gamma': 0.0005953750402191211, 'reg_alpha': 0.33442650571621035, 'reg_lambda': 0.01682829215960901, 'colsample_bytree': 0.23215882982328429, 'subsample': 0.34561259251873777}. Best is trial 192 with value: 0.8452579034941764.\n",
      "[I 2024-02-22 14:08:14,939] Trial 231 finished with value: 0.8373126041088284 and parameters: {'n_estimators': 653, 'learning_rate': 0.18792943022853925, 'max_depth': 14, 'alpha': 0.0001552883914985009, 'gamma': 0.0006635224335928958, 'reg_alpha': 0.31121966384751787, 'reg_lambda': 0.018686449006122333, 'colsample_bytree': 0.21846572012836685, 'subsample': 0.3991887889984314}. Best is trial 192 with value: 0.8452579034941764.\n",
      "[I 2024-02-22 14:08:24,455] Trial 232 finished with value: 0.8401976935749588 and parameters: {'n_estimators': 605, 'learning_rate': 0.20445103138969972, 'max_depth': 14, 'alpha': 0.00012726430761729932, 'gamma': 0.0008209994008026674, 'reg_alpha': 0.38273516095944343, 'reg_lambda': 0.021654627467129248, 'colsample_bytree': 0.18060262209510247, 'subsample': 0.4645076194549267}. Best is trial 192 with value: 0.8452579034941764.\n",
      "[I 2024-02-22 14:08:35,956] Trial 233 finished with value: 0.8344444444444444 and parameters: {'n_estimators': 604, 'learning_rate': 0.20496605877928453, 'max_depth': 13, 'alpha': 0.00012958458071863255, 'gamma': 0.0003361836088158322, 'reg_alpha': 0.42323519535013027, 'reg_lambda': 0.020245693302751035, 'colsample_bytree': 0.16311037662356587, 'subsample': 0.47540471379721333}. Best is trial 192 with value: 0.8452579034941764.\n",
      "[I 2024-02-22 14:08:45,432] Trial 234 finished with value: 0.8460686600221484 and parameters: {'n_estimators': 574, 'learning_rate': 0.19221012782938104, 'max_depth': 14, 'alpha': 0.00010371680361702584, 'gamma': 0.0008000438597958178, 'reg_alpha': 0.37944043326911125, 'reg_lambda': 0.023546254648628518, 'colsample_bytree': 0.18912087917564535, 'subsample': 0.4142240566263582}. Best is trial 234 with value: 0.8460686600221484.\n",
      "[I 2024-02-22 14:08:55,341] Trial 235 finished with value: 0.8356391809629221 and parameters: {'n_estimators': 573, 'learning_rate': 0.19199919816596214, 'max_depth': 14, 'alpha': 0.00010077029513452389, 'gamma': 0.0003864877161709715, 'reg_alpha': 0.38303787527039007, 'reg_lambda': 0.022160975436838308, 'colsample_bytree': 0.18866412826558587, 'subsample': 0.4186583701192806}. Best is trial 234 with value: 0.8460686600221484.\n",
      "[I 2024-02-22 14:09:05,353] Trial 236 finished with value: 0.8324986087924319 and parameters: {'n_estimators': 592, 'learning_rate': 0.17747215931034063, 'max_depth': 14, 'alpha': 0.00010904227922277197, 'gamma': 0.0007650887317032671, 'reg_alpha': 0.3966440988107336, 'reg_lambda': 0.022709013461524614, 'colsample_bytree': 0.17975146491264815, 'subsample': 0.4522717659521104}. Best is trial 234 with value: 0.8460686600221484.\n",
      "[I 2024-02-22 14:09:14,382] Trial 237 finished with value: 0.8308539944903581 and parameters: {'n_estimators': 639, 'learning_rate': 0.20048834428527068, 'max_depth': 14, 'alpha': 0.00012411195918524676, 'gamma': 0.0007232951817846003, 'reg_alpha': 0.35748314066546416, 'reg_lambda': 0.026524442143953924, 'colsample_bytree': 0.1583292622107073, 'subsample': 0.3322392932286584}. Best is trial 234 with value: 0.8460686600221484.\n",
      "[I 2024-02-22 14:09:25,245] Trial 238 finished with value: 0.8328706274292059 and parameters: {'n_estimators': 668, 'learning_rate': 0.171228757009675, 'max_depth': 13, 'alpha': 0.00013792177962479988, 'gamma': 0.00083076977028747, 'reg_alpha': 0.37234239838088895, 'reg_lambda': 0.02501288128121186, 'colsample_bytree': 0.19367365786333712, 'subsample': 0.3886195343312015}. Best is trial 234 with value: 0.8460686600221484.\n",
      "[I 2024-02-22 14:09:35,262] Trial 239 finished with value: 0.8371317398554753 and parameters: {'n_estimators': 560, 'learning_rate': 0.18790967480899642, 'max_depth': 14, 'alpha': 0.0001139243549437691, 'gamma': 0.0009205053252897546, 'reg_alpha': 0.34095572240682076, 'reg_lambda': 0.015623245691102947, 'colsample_bytree': 0.23745343313428383, 'subsample': 0.42934960677330786}. Best is trial 234 with value: 0.8460686600221484.\n",
      "[I 2024-02-22 14:09:45,240] Trial 240 finished with value: 0.8350799779371207 and parameters: {'n_estimators': 601, 'learning_rate': 0.20817586057541956, 'max_depth': 13, 'alpha': 0.00017417502723717692, 'gamma': 0.0002070169893859966, 'reg_alpha': 0.4146619939944301, 'reg_lambda': 0.023167169515998308, 'colsample_bytree': 0.3382298509738758, 'subsample': 0.4101621534510913}. Best is trial 234 with value: 0.8460686600221484.\n",
      "[I 2024-02-22 14:09:54,700] Trial 241 finished with value: 0.8423398328690808 and parameters: {'n_estimators': 575, 'learning_rate': 0.19466420025479872, 'max_depth': 12, 'alpha': 0.00012271523390092399, 'gamma': 0.0008148603398266309, 'reg_alpha': 0.3529388559349025, 'reg_lambda': 0.02101603160310255, 'colsample_bytree': 0.20368364302206127, 'subsample': 0.49024256793670584}. Best is trial 234 with value: 0.8460686600221484.\n",
      "[I 2024-02-22 14:10:02,919] Trial 242 finished with value: 0.8353726362625139 and parameters: {'n_estimators': 572, 'learning_rate': 0.18949654976129393, 'max_depth': 12, 'alpha': 0.00012218385687169149, 'gamma': 0.0008253987899280628, 'reg_alpha': 0.3539100546798803, 'reg_lambda': 0.020644710753405016, 'colsample_bytree': 0.1711484267247299, 'subsample': 0.4764490075541177}. Best is trial 234 with value: 0.8460686600221484.\n",
      "[I 2024-02-22 14:10:11,738] Trial 243 finished with value: 0.8344444444444444 and parameters: {'n_estimators': 588, 'learning_rate': 0.17836212435796894, 'max_depth': 12, 'alpha': 0.00013788891250751613, 'gamma': 0.0007009978218333958, 'reg_alpha': 0.38519140409266406, 'reg_lambda': 0.019080878816589972, 'colsample_bytree': 0.20348908406779267, 'subsample': 0.4581434208319789}. Best is trial 234 with value: 0.8460686600221484.\n",
      "[I 2024-02-22 14:10:20,612] Trial 244 finished with value: 0.8381374722838136 and parameters: {'n_estimators': 608, 'learning_rate': 0.19829416915141837, 'max_depth': 11, 'alpha': 0.00010404711680479742, 'gamma': 0.0009708871907632771, 'reg_alpha': 0.332833454497284, 'reg_lambda': 0.017943231343075527, 'colsample_bytree': 0.18770364839299797, 'subsample': 0.49327740553331395}. Best is trial 234 with value: 0.8460686600221484.\n",
      "[I 2024-02-22 14:10:34,454] Trial 245 finished with value: 0.830188679245283 and parameters: {'n_estimators': 565, 'learning_rate': 0.13853017701354445, 'max_depth': 14, 'alpha': 0.0001461960086797857, 'gamma': 0.0001282510341816466, 'reg_alpha': 0.29987189619970345, 'reg_lambda': 0.021118866465681282, 'colsample_bytree': 0.7695434963160886, 'subsample': 0.43101708739723793}. Best is trial 234 with value: 0.8460686600221484.\n",
      "[I 2024-02-22 14:10:42,218] Trial 246 finished with value: 0.8300220750551875 and parameters: {'n_estimators': 582, 'learning_rate': 0.21367859434719097, 'max_depth': 12, 'alpha': 0.00011950871986929328, 'gamma': 0.0004207691472855101, 'reg_alpha': 0.36689818963418336, 'reg_lambda': 0.02398014707977112, 'colsample_bytree': 0.14074611702769033, 'subsample': 0.4399461585626569}. Best is trial 234 with value: 0.8460686600221484.\n",
      "[I 2024-02-22 14:10:51,906] Trial 247 finished with value: 0.8359201773835921 and parameters: {'n_estimators': 636, 'learning_rate': 0.2046015830007525, 'max_depth': 13, 'alpha': 0.00016284203266710774, 'gamma': 0.000765740414433921, 'reg_alpha': 0.4026678845630147, 'reg_lambda': 0.015935080521442754, 'colsample_bytree': 0.25818084151604576, 'subsample': 0.41563151598755427}. Best is trial 234 with value: 0.8460686600221484.\n",
      "[I 2024-02-22 14:11:02,063] Trial 248 finished with value: 0.8376731301939059 and parameters: {'n_estimators': 621, 'learning_rate': 0.15682391803057594, 'max_depth': 15, 'alpha': 0.00011437099413323914, 'gamma': 0.0008740275434536088, 'reg_alpha': 0.3487686149636814, 'reg_lambda': 0.017225762659663205, 'colsample_bytree': 0.22305693863142062, 'subsample': 0.4040928699898662}. Best is trial 234 with value: 0.8460686600221484.\n",
      "[I 2024-02-22 14:11:10,785] Trial 249 finished with value: 0.838781163434903 and parameters: {'n_estimators': 553, 'learning_rate': 0.22048537676777635, 'max_depth': 14, 'alpha': 0.0003491743418223707, 'gamma': 0.0010508332366486717, 'reg_alpha': 0.25722344066577973, 'reg_lambda': 0.021595274498587357, 'colsample_bytree': 0.20671432138699627, 'subsample': 0.49765884736898114}. Best is trial 234 with value: 0.8460686600221484.\n",
      "[I 2024-02-22 14:11:19,939] Trial 250 finished with value: 0.8409972299168975 and parameters: {'n_estimators': 539, 'learning_rate': 0.1835645541889223, 'max_depth': 15, 'alpha': 0.00012635259263567592, 'gamma': 0.0005882063240385133, 'reg_alpha': 0.31247454518515394, 'reg_lambda': 0.025464630024804192, 'colsample_bytree': 0.2753751087265192, 'subsample': 0.4402929820143969}. Best is trial 234 with value: 0.8460686600221484.\n",
      "[I 2024-02-22 14:11:32,473] Trial 251 finished with value: 0.8363028953229399 and parameters: {'n_estimators': 534, 'learning_rate': 0.16802722352783628, 'max_depth': 15, 'alpha': 0.00010168376822678925, 'gamma': 0.00028849280964921015, 'reg_alpha': 0.32476504165337916, 'reg_lambda': 0.028039776915229967, 'colsample_bytree': 0.6764535462011797, 'subsample': 0.4614944726346177}. Best is trial 234 with value: 0.8460686600221484.\n",
      "[I 2024-02-22 14:11:39,561] Trial 252 finished with value: 0.8361204013377926 and parameters: {'n_estimators': 525, 'learning_rate': 0.17765690123799482, 'max_depth': 8, 'alpha': 0.00012819898824761354, 'gamma': 0.000669149455700585, 'reg_alpha': 0.27830355017754665, 'reg_lambda': 0.010232635697852436, 'colsample_bytree': 0.24145407813572087, 'subsample': 0.5297860733524903}. Best is trial 234 with value: 0.8460686600221484.\n",
      "[I 2024-02-22 14:11:48,615] Trial 253 finished with value: 0.838888888888889 and parameters: {'n_estimators': 503, 'learning_rate': 0.19629260573321766, 'max_depth': 15, 'alpha': 0.0011549543689762128, 'gamma': 0.0009034601506148508, 'reg_alpha': 0.3111831858563156, 'reg_lambda': 0.023973222918031414, 'colsample_bytree': 0.17782171193410595, 'subsample': 0.37932343084461245}. Best is trial 234 with value: 0.8460686600221484.\n",
      "[I 2024-02-22 14:11:56,966] Trial 254 finished with value: 0.8305647840531561 and parameters: {'n_estimators': 545, 'learning_rate': 0.18395605952735894, 'max_depth': 12, 'alpha': 0.0013769272226587868, 'gamma': 0.00048716930868815644, 'reg_alpha': 0.33665279109006907, 'reg_lambda': 0.022600048456461325, 'colsample_bytree': 0.22167595972770596, 'subsample': 0.39748037745530584}. Best is trial 234 with value: 0.8460686600221484.\n",
      "[I 2024-02-22 14:12:06,175] Trial 255 finished with value: 0.8404196576477084 and parameters: {'n_estimators': 595, 'learning_rate': 0.2096017433276122, 'max_depth': 13, 'alpha': 0.00012062743940437342, 'gamma': 0.000814461450096266, 'reg_alpha': 0.29489225429372007, 'reg_lambda': 0.014219190936618619, 'colsample_bytree': 0.1930693290095606, 'subsample': 0.44790675584558703}. Best is trial 234 with value: 0.8460686600221484.\n",
      "[I 2024-02-22 14:12:28,405] Trial 256 finished with value: 0.8357221609702316 and parameters: {'n_estimators': 948, 'learning_rate': 0.22472496512929613, 'max_depth': 12, 'alpha': 0.0010911635108229367, 'gamma': 0.0009932401184084736, 'reg_alpha': 0.3037274643572372, 'reg_lambda': 0.014092798497726444, 'colsample_bytree': 0.8667914407273694, 'subsample': 0.41169501344650883}. Best is trial 234 with value: 0.8460686600221484.\n",
      "[I 2024-02-22 14:12:38,659] Trial 257 finished with value: 0.8326848249027238 and parameters: {'n_estimators': 486, 'learning_rate': 0.16564162726391662, 'max_depth': 13, 'alpha': 0.00011146416194712241, 'gamma': 0.000746048754975005, 'reg_alpha': 0.2832111373552152, 'reg_lambda': 0.013612900168186027, 'colsample_bytree': 0.20000268176167224, 'subsample': 0.44624748160411326}. Best is trial 234 with value: 0.8460686600221484.\n",
      "[I 2024-02-22 14:12:52,813] Trial 258 finished with value: 0.8325942350332595 and parameters: {'n_estimators': 513, 'learning_rate': 0.14756249085837023, 'max_depth': 11, 'alpha': 0.0012720833447066198, 'gamma': 0.0006445660019780228, 'reg_alpha': 0.2654462363623962, 'reg_lambda': 0.02602512159781617, 'colsample_bytree': 0.8131136575717349, 'subsample': 0.38228930586120813}. Best is trial 234 with value: 0.8460686600221484.\n",
      "[I 2024-02-22 14:12:59,955] Trial 259 finished with value: 0.8340757238307349 and parameters: {'n_estimators': 288, 'learning_rate': 0.21861790253150654, 'max_depth': 15, 'alpha': 0.00010996947410308748, 'gamma': 0.001122644416868997, 'reg_alpha': 0.2943526951419591, 'reg_lambda': 0.017943692925951327, 'colsample_bytree': 0.6352634472370935, 'subsample': 0.44643368598507077}. Best is trial 234 with value: 0.8460686600221484.\n",
      "[I 2024-02-22 14:13:14,418] Trial 260 finished with value: 0.8369504730105731 and parameters: {'n_estimators': 574, 'learning_rate': 0.1923955431761746, 'max_depth': 13, 'alpha': 0.00015097231072507775, 'gamma': 0.0009157952561018557, 'reg_alpha': 0.31460399422189284, 'reg_lambda': 0.012191501552019732, 'colsample_bytree': 0.25727332091566724, 'subsample': 0.5135350410347539}. Best is trial 234 with value: 0.8460686600221484.\n",
      "[I 2024-02-22 14:13:20,204] Trial 261 finished with value: 0.8344594594594594 and parameters: {'n_estimators': 260, 'learning_rate': 0.07040721895963986, 'max_depth': 12, 'alpha': 0.00012099675915954697, 'gamma': 0.000814167634193703, 'reg_alpha': 0.32770874808184497, 'reg_lambda': 0.014835491993975316, 'colsample_bytree': 0.37644417917487005, 'subsample': 0.3540663288222364}. Best is trial 234 with value: 0.8460686600221484.\n",
      "[I 2024-02-22 14:13:29,712] Trial 262 finished with value: 0.8327721661054995 and parameters: {'n_estimators': 474, 'learning_rate': 0.21022461227170786, 'max_depth': 15, 'alpha': 0.0010197287404236936, 'gamma': 0.0010000312558280436, 'reg_alpha': 0.3509780572802585, 'reg_lambda': 0.015961863527877374, 'colsample_bytree': 0.2305229718942185, 'subsample': 0.6098369675661398}. Best is trial 234 with value: 0.8460686600221484.\n",
      "[I 2024-02-22 14:13:45,846] Trial 263 finished with value: 0.8403547671840356 and parameters: {'n_estimators': 536, 'learning_rate': 0.11539689536247444, 'max_depth': 13, 'alpha': 0.0011631449384867753, 'gamma': 0.0007267617649833002, 'reg_alpha': 0.2931071161073338, 'reg_lambda': 0.01921260928729277, 'colsample_bytree': 0.7253225869577986, 'subsample': 0.9758734206803414}. Best is trial 234 with value: 0.8460686600221484.\n",
      "[I 2024-02-22 14:14:01,132] Trial 264 finished with value: 0.8326848249027238 and parameters: {'n_estimators': 532, 'learning_rate': 0.2409688612348665, 'max_depth': 13, 'alpha': 0.0011933493516953014, 'gamma': 0.0011971044947085099, 'reg_alpha': 0.27410197263467495, 'reg_lambda': 0.01922612507967554, 'colsample_bytree': 0.7152121300132972, 'subsample': 0.9895232144165875}. Best is trial 234 with value: 0.8460686600221484.\n",
      "[I 2024-02-22 14:14:14,525] Trial 265 finished with value: 0.8351893095768375 and parameters: {'n_estimators': 503, 'learning_rate': 0.12130722274621077, 'max_depth': 13, 'alpha': 0.001135855965417583, 'gamma': 0.0008568357704667494, 'reg_alpha': 0.23459390283505205, 'reg_lambda': 0.050562055045874583, 'colsample_bytree': 0.6646157383351602, 'subsample': 0.9769001731314272}. Best is trial 234 with value: 0.8460686600221484.\n",
      "[I 2024-02-22 14:14:29,122] Trial 266 finished with value: 0.8360200111172874 and parameters: {'n_estimators': 542, 'learning_rate': 0.10870529216300413, 'max_depth': 13, 'alpha': 0.0013487448565203182, 'gamma': 0.003296006210842939, 'reg_alpha': 0.2868180897738121, 'reg_lambda': 0.047129193974959294, 'colsample_bytree': 0.6896758954041434, 'subsample': 0.9698767885763828}. Best is trial 234 with value: 0.8460686600221484.\n",
      "[I 2024-02-22 14:14:40,122] Trial 267 finished with value: 0.8375690607734807 and parameters: {'n_estimators': 490, 'learning_rate': 0.23303447884296621, 'max_depth': 12, 'alpha': 0.0014740697643554732, 'gamma': 0.0030125699369768113, 'reg_alpha': 0.2966181749093318, 'reg_lambda': 0.01991697493804333, 'colsample_bytree': 0.7505598560028328, 'subsample': 0.9405649794150648}. Best is trial 234 with value: 0.8460686600221484.\n",
      "[I 2024-02-22 14:14:45,869] Trial 268 finished with value: 0.8360200111172874 and parameters: {'n_estimators': 466, 'learning_rate': 0.19732255352105715, 'max_depth': 10, 'alpha': 0.0010567583753773309, 'gamma': 0.0009093380626335614, 'reg_alpha': 0.9999514184272883, 'reg_lambda': 0.017334522857208833, 'colsample_bytree': 0.20597062662477578, 'subsample': 0.9584155929558333}. Best is trial 234 with value: 0.8460686600221484.\n",
      "[I 2024-02-22 14:14:53,272] Trial 269 finished with value: 0.8325892857142858 and parameters: {'n_estimators': 515, 'learning_rate': 0.17912188270922852, 'max_depth': 13, 'alpha': 0.0009785266325583334, 'gamma': 0.0006162569183288656, 'reg_alpha': 0.6677964389981477, 'reg_lambda': 0.0851206823972571, 'colsample_bytree': 0.15642854893914915, 'subsample': 0.42820773364270437}. Best is trial 234 with value: 0.8460686600221484.\n",
      "[I 2024-02-22 14:15:01,382] Trial 270 finished with value: 0.8380202474690663 and parameters: {'n_estimators': 537, 'learning_rate': 0.09715097865994782, 'max_depth': 12, 'alpha': 0.0012152607852324356, 'gamma': 0.0010656953156673221, 'reg_alpha': 0.2552280778937339, 'reg_lambda': 0.025866644822303053, 'colsample_bytree': 0.1904635925141854, 'subsample': 0.9331814926657697}. Best is trial 234 with value: 0.8460686600221484.\n",
      "[I 2024-02-22 14:15:12,338] Trial 271 finished with value: 0.8422818791946309 and parameters: {'n_estimators': 621, 'learning_rate': 0.11475875725547224, 'max_depth': 13, 'alpha': 0.004703824558971228, 'gamma': 0.0013799044388012802, 'reg_alpha': 0.31575663664238063, 'reg_lambda': 0.012156080174084729, 'colsample_bytree': 0.21761762335464882, 'subsample': 0.6778879205778476}. Best is trial 234 with value: 0.8460686600221484.\n",
      "[I 2024-02-22 14:15:22,480] Trial 272 finished with value: 0.8422818791946309 and parameters: {'n_estimators': 630, 'learning_rate': 0.21079564529029532, 'max_depth': 12, 'alpha': 0.005148360542591523, 'gamma': 0.0015078790138454384, 'reg_alpha': 0.31156464388689525, 'reg_lambda': 0.01348411544472151, 'colsample_bytree': 0.21564475747479261, 'subsample': 0.679153749958704}. Best is trial 234 with value: 0.8460686600221484.\n",
      "[I 2024-02-22 14:15:34,581] Trial 273 finished with value: 0.8375973303670745 and parameters: {'n_estimators': 687, 'learning_rate': 0.209897956750867, 'max_depth': 12, 'alpha': 0.004675695353292193, 'gamma': 0.0012320451723885283, 'reg_alpha': 0.320732993455472, 'reg_lambda': 0.01107319057509654, 'colsample_bytree': 0.21347610046093973, 'subsample': 0.6945228385367493}. Best is trial 234 with value: 0.8460686600221484.\n",
      "[I 2024-02-22 14:15:46,484] Trial 274 finished with value: 0.838276440962507 and parameters: {'n_estimators': 631, 'learning_rate': 0.21932093559103316, 'max_depth': 11, 'alpha': 0.005589202787393473, 'gamma': 0.0014020994093899464, 'reg_alpha': 0.31018814946042617, 'reg_lambda': 0.012376221333804331, 'colsample_bytree': 0.22720636943411587, 'subsample': 0.686949287285171}. Best is trial 234 with value: 0.8460686600221484.\n",
      "[I 2024-02-22 14:16:01,548] Trial 275 finished with value: 0.838888888888889 and parameters: {'n_estimators': 623, 'learning_rate': 0.24578922008617815, 'max_depth': 12, 'alpha': 0.005115753699432089, 'gamma': 0.0015170615355545411, 'reg_alpha': 0.33480720099692907, 'reg_lambda': 0.010092720944152802, 'colsample_bytree': 0.23883717847654776, 'subsample': 0.680255371011658}. Best is trial 234 with value: 0.8460686600221484.\n",
      "[I 2024-02-22 14:16:15,269] Trial 276 finished with value: 0.8364849833147942 and parameters: {'n_estimators': 671, 'learning_rate': 0.23057173659301314, 'max_depth': 13, 'alpha': 0.004607207488483987, 'gamma': 0.0016693094984484044, 'reg_alpha': 0.31034205325234493, 'reg_lambda': 0.014151029845062559, 'colsample_bytree': 0.1998973827485386, 'subsample': 0.6646730644567137}. Best is trial 234 with value: 0.8460686600221484.\n",
      "[I 2024-02-22 14:16:25,609] Trial 277 finished with value: 0.8396436525612473 and parameters: {'n_estimators': 650, 'learning_rate': 0.2041505084685981, 'max_depth': 11, 'alpha': 0.00668053300720061, 'gamma': 0.00016250489483216098, 'reg_alpha': 0.3461857426083448, 'reg_lambda': 0.03240349149146714, 'colsample_bytree': 0.169885915099073, 'subsample': 0.7227617926966183}. Best is trial 234 with value: 0.8460686600221484.\n",
      "[I 2024-02-22 14:16:44,293] Trial 278 finished with value: 0.829646017699115 and parameters: {'n_estimators': 616, 'learning_rate': 0.18171193231650012, 'max_depth': 13, 'alpha': 0.007519751393886933, 'gamma': 0.0013871997211505772, 'reg_alpha': 0.3265477904662324, 'reg_lambda': 0.012907321702723844, 'colsample_bytree': 0.6389990214589675, 'subsample': 0.7032019433825027}. Best is trial 234 with value: 0.8460686600221484.\n",
      "[I 2024-02-22 14:16:55,201] Trial 279 finished with value: 0.8368715083798883 and parameters: {'n_estimators': 588, 'learning_rate': 0.21013511858127265, 'max_depth': 12, 'alpha': 0.004303675408878662, 'gamma': 0.0008390377663145774, 'reg_alpha': 0.5646361462623436, 'reg_lambda': 0.012209361977896103, 'colsample_bytree': 0.21164341611303555, 'subsample': 0.6493846572510671}. Best is trial 234 with value: 0.8460686600221484.\n",
      "[I 2024-02-22 14:17:01,238] Trial 280 finished with value: 0.8244444444444444 and parameters: {'n_estimators': 605, 'learning_rate': 0.18836077103680338, 'max_depth': 5, 'alpha': 0.00014241575827735316, 'gamma': 0.0026837082062486513, 'reg_alpha': 0.35618293214241387, 'reg_lambda': 0.014663390293642236, 'colsample_bytree': 0.2503049742842996, 'subsample': 0.6647923310897005}. Best is trial 234 with value: 0.8460686600221484.\n",
      "[I 2024-02-22 14:17:13,311] Trial 281 finished with value: 0.8396436525612473 and parameters: {'n_estimators': 594, 'learning_rate': 0.2543596039929438, 'max_depth': 14, 'alpha': 0.004822408689516614, 'gamma': 0.0028266814838195484, 'reg_alpha': 0.30290059026615834, 'reg_lambda': 0.015886806948849357, 'colsample_bytree': 0.23844630813588077, 'subsample': 0.7060438401362897}. Best is trial 234 with value: 0.8460686600221484.\n",
      "[I 2024-02-22 14:17:25,547] Trial 282 finished with value: 0.8364849833147942 and parameters: {'n_estimators': 652, 'learning_rate': 0.1955695606332972, 'max_depth': 12, 'alpha': 0.0004541801392220864, 'gamma': 0.0034414885914392456, 'reg_alpha': 0.2781480936754526, 'reg_lambda': 0.02864272484797217, 'colsample_bytree': 0.18932957304617998, 'subsample': 0.6726365471520473}. Best is trial 234 with value: 0.8460686600221484.\n",
      "[I 2024-02-22 14:17:36,607] Trial 283 finished with value: 0.8336097291321173 and parameters: {'n_estimators': 613, 'learning_rate': 0.22117281263069574, 'max_depth': 13, 'alpha': 0.004037934362957396, 'gamma': 0.0009461732950245872, 'reg_alpha': 0.549609074536007, 'reg_lambda': 0.046116791007132805, 'colsample_bytree': 0.27425541142494236, 'subsample': 0.4040594827026937}. Best is trial 234 with value: 0.8460686600221484.\n",
      "[I 2024-02-22 14:17:48,412] Trial 284 finished with value: 0.8367459878251244 and parameters: {'n_estimators': 626, 'learning_rate': 0.20056163810230512, 'max_depth': 13, 'alpha': 0.00010097868595229763, 'gamma': 0.0007889383199263987, 'reg_alpha': 0.335957960643505, 'reg_lambda': 0.0133305424208497, 'colsample_bytree': 0.2159145648131322, 'subsample': 0.4710569841734885}. Best is trial 234 with value: 0.8460686600221484.\n",
      "[I 2024-02-22 14:17:59,790] Trial 285 finished with value: 0.8335183129855716 and parameters: {'n_estimators': 635, 'learning_rate': 0.26679515437847895, 'max_depth': 12, 'alpha': 0.0001588903654485219, 'gamma': 0.003687693668532992, 'reg_alpha': 0.3176460558695213, 'reg_lambda': 0.010052286231210912, 'colsample_bytree': 0.17185494508883542, 'subsample': 0.6470787348986949}. Best is trial 234 with value: 0.8460686600221484.\n",
      "[I 2024-02-22 14:18:04,582] Trial 286 finished with value: 0.81214848143982 and parameters: {'n_estimators': 585, 'learning_rate': 0.22749182426314912, 'max_depth': 4, 'alpha': 0.0062418725592781514, 'gamma': 0.0010296768542415247, 'reg_alpha': 0.21433793667811582, 'reg_lambda': 0.047870737803070884, 'colsample_bytree': 0.14537521458181057, 'subsample': 0.5921660759959928}. Best is trial 234 with value: 0.8460686600221484.\n",
      "[I 2024-02-22 14:18:18,262] Trial 287 finished with value: 0.8288387451843697 and parameters: {'n_estimators': 556, 'learning_rate': 0.18525583411081406, 'max_depth': 14, 'alpha': 0.0036234859540462804, 'gamma': 0.0011501045184190192, 'reg_alpha': 0.264386376316707, 'reg_lambda': 0.02347313783915163, 'colsample_bytree': 0.6170330002513659, 'subsample': 0.33736193340978005}. Best is trial 234 with value: 0.8460686600221484.\n",
      "[I 2024-02-22 14:18:29,328] Trial 288 finished with value: 0.8283957518166574 and parameters: {'n_estimators': 744, 'learning_rate': 0.17090553377646295, 'max_depth': 12, 'alpha': 0.00013378923029813773, 'gamma': 0.0013727792034552233, 'reg_alpha': 0.36421653841428653, 'reg_lambda': 0.0153400862434445, 'colsample_bytree': 0.12043097242938325, 'subsample': 0.44237754776926547}. Best is trial 234 with value: 0.8460686600221484.\n",
      "[I 2024-02-22 14:18:38,918] Trial 289 finished with value: 0.84 and parameters: {'n_estimators': 492, 'learning_rate': 0.2163132688607911, 'max_depth': 10, 'alpha': 0.00011560181209239033, 'gamma': 0.0008706147683220308, 'reg_alpha': 0.3390470567681641, 'reg_lambda': 0.04444757189368501, 'colsample_bytree': 0.2267313507459036, 'subsample': 0.7392523470151957}. Best is trial 234 with value: 0.8460686600221484.\n",
      "[I 2024-02-22 14:18:46,604] Trial 290 finished with value: 0.8419877163595757 and parameters: {'n_estimators': 467, 'learning_rate': 0.2359492922319694, 'max_depth': 14, 'alpha': 0.0003777943464962587, 'gamma': 0.0007736687004262129, 'reg_alpha': 0.3014548545943333, 'reg_lambda': 0.05186139560583965, 'colsample_bytree': 0.2104844866791069, 'subsample': 0.6906001160457547}. Best is trial 234 with value: 0.8460686600221484.\n",
      "[I 2024-02-22 14:18:51,543] Trial 291 finished with value: 0.8376550169109357 and parameters: {'n_estimators': 234, 'learning_rate': 0.24140162032891282, 'max_depth': 15, 'alpha': 0.00035079092811154467, 'gamma': 0.003121800243051445, 'reg_alpha': 0.3195324026530296, 'reg_lambda': 0.05230469484536683, 'colsample_bytree': 0.2369033983774499, 'subsample': 0.6910273347200802}. Best is trial 234 with value: 0.8460686600221484.\n",
      "[I 2024-02-22 14:19:04,484] Trial 292 finished with value: 0.8316610925306578 and parameters: {'n_estimators': 450, 'learning_rate': 0.24549218529922995, 'max_depth': 14, 'alpha': 0.00042300303619395536, 'gamma': 0.0015298778903798818, 'reg_alpha': 0.352968670501882, 'reg_lambda': 0.050569873981992655, 'colsample_bytree': 0.6486651943226388, 'subsample': 0.6779285597259286}. Best is trial 234 with value: 0.8460686600221484.\n",
      "[I 2024-02-22 14:19:15,074] Trial 293 finished with value: 0.8371830985915493 and parameters: {'n_estimators': 470, 'learning_rate': 0.08661526691446267, 'max_depth': 14, 'alpha': 0.0003031266411710873, 'gamma': 0.000535703814207631, 'reg_alpha': 0.5722649004166007, 'reg_lambda': 0.04954359248866856, 'colsample_bytree': 0.21400931113429733, 'subsample': 0.7200223025455842}. Best is trial 234 with value: 0.8460686600221484.\n",
      "[I 2024-02-22 14:19:23,763] Trial 294 finished with value: 0.8361204013377926 and parameters: {'n_estimators': 445, 'learning_rate': 0.2598272146099359, 'max_depth': 15, 'alpha': 0.000537584867126107, 'gamma': 0.0009678781045415049, 'reg_alpha': 0.759398971533793, 'reg_lambda': 0.04677745720576594, 'colsample_bytree': 0.2683778994889993, 'subsample': 0.7083368472531631}. Best is trial 234 with value: 0.8460686600221484.\n",
      "[I 2024-02-22 14:19:33,365] Trial 295 finished with value: 0.835820895522388 and parameters: {'n_estimators': 491, 'learning_rate': 0.23397519237890854, 'max_depth': 14, 'alpha': 0.00037066160194088927, 'gamma': 0.0006750121661324318, 'reg_alpha': 0.5505557160570822, 'reg_lambda': 0.05334956907203818, 'colsample_bytree': 0.24119305344561962, 'subsample': 0.6617489036186682}. Best is trial 234 with value: 0.8460686600221484.\n",
      "[I 2024-02-22 14:19:43,821] Trial 296 finished with value: 0.841394825646794 and parameters: {'n_estimators': 518, 'learning_rate': 0.17441666406499157, 'max_depth': 14, 'alpha': 0.0004856592569300396, 'gamma': 0.0012878716701033325, 'reg_alpha': 0.31208055735875345, 'reg_lambda': 0.048282260790606636, 'colsample_bytree': 0.21105005563525167, 'subsample': 0.6456822005170697}. Best is trial 234 with value: 0.8460686600221484.\n",
      "[I 2024-02-22 14:19:52,566] Trial 297 finished with value: 0.8396860986547086 and parameters: {'n_estimators': 464, 'learning_rate': 0.16656715480449105, 'max_depth': 14, 'alpha': 0.0004209702261245926, 'gamma': 0.00135172925899674, 'reg_alpha': 0.3117127132090494, 'reg_lambda': 0.04332162051460167, 'colsample_bytree': 0.2003731407206985, 'subsample': 0.6413848357306435}. Best is trial 234 with value: 0.8460686600221484.\n",
      "[I 2024-02-22 14:20:01,394] Trial 298 finished with value: 0.8385650224215246 and parameters: {'n_estimators': 511, 'learning_rate': 0.19115715361871466, 'max_depth': 14, 'alpha': 0.0004789018266528477, 'gamma': 0.0013184816446326964, 'reg_alpha': 0.33134688290686676, 'reg_lambda': 0.04560540937794813, 'colsample_bytree': 0.1893135450005626, 'subsample': 0.6143043607995216}. Best is trial 234 with value: 0.8460686600221484.\n",
      "[I 2024-02-22 14:20:09,333] Trial 299 finished with value: 0.8406931246506429 and parameters: {'n_estimators': 324, 'learning_rate': 0.1794937956491501, 'max_depth': 14, 'alpha': 0.0005238551136403462, 'gamma': 0.0011254129347780266, 'reg_alpha': 0.287309969029438, 'reg_lambda': 0.04855162664605844, 'colsample_bytree': 0.21685288080400067, 'subsample': 0.6472439838841779}. Best is trial 234 with value: 0.8460686600221484.\n",
      "[I 2024-02-22 14:20:17,214] Trial 300 finished with value: 0.8414565826330532 and parameters: {'n_estimators': 311, 'learning_rate': 0.1750849105610608, 'max_depth': 14, 'alpha': 0.00048031398060668305, 'gamma': 0.0011607733289242784, 'reg_alpha': 0.2833306633392079, 'reg_lambda': 0.049017413723381455, 'colsample_bytree': 0.21837167964337245, 'subsample': 0.6421842708848294}. Best is trial 234 with value: 0.8460686600221484.\n",
      "[I 2024-02-22 14:20:25,682] Trial 301 finished with value: 0.8378076062639822 and parameters: {'n_estimators': 333, 'learning_rate': 0.17215095961340524, 'max_depth': 14, 'alpha': 0.0005292607182082814, 'gamma': 0.0012208647738350307, 'reg_alpha': 0.2884500434532592, 'reg_lambda': 0.048503927411387406, 'colsample_bytree': 0.21968590670926705, 'subsample': 0.6452403944466699}. Best is trial 234 with value: 0.8460686600221484.\n",
      "[I 2024-02-22 14:20:34,920] Trial 302 finished with value: 0.8363431151241536 and parameters: {'n_estimators': 317, 'learning_rate': 0.15919705592916542, 'max_depth': 14, 'alpha': 0.00048702423591489305, 'gamma': 0.0012457617599026917, 'reg_alpha': 0.2682778109117302, 'reg_lambda': 0.051239690321140965, 'colsample_bytree': 0.2537667189247853, 'subsample': 0.6635341949862289}. Best is trial 234 with value: 0.8460686600221484.\n",
      "[I 2024-02-22 14:20:43,364] Trial 303 finished with value: 0.8348214285714286 and parameters: {'n_estimators': 339, 'learning_rate': 0.1772954103691934, 'max_depth': 14, 'alpha': 0.0004925378198734067, 'gamma': 0.001152661016144422, 'reg_alpha': 0.29826459673705363, 'reg_lambda': 0.049233587647311165, 'colsample_bytree': 0.21342428463214644, 'subsample': 0.5812969112982511}. Best is trial 234 with value: 0.8460686600221484.\n",
      "[I 2024-02-22 14:20:49,406] Trial 304 finished with value: 0.8375491849353569 and parameters: {'n_estimators': 277, 'learning_rate': 0.18343838832202325, 'max_depth': 14, 'alpha': 0.0003901558634169024, 'gamma': 0.001102927049543196, 'reg_alpha': 0.302579690753934, 'reg_lambda': 0.02157060859955079, 'colsample_bytree': 0.22975907201971954, 'subsample': 0.6381091755676483}. Best is trial 234 with value: 0.8460686600221484.\n",
      "[I 2024-02-22 14:20:59,897] Trial 305 finished with value: 0.8362408553742262 and parameters: {'n_estimators': 350, 'learning_rate': 0.16780764092497888, 'max_depth': 14, 'alpha': 0.0004481528432409679, 'gamma': 0.001046194510727143, 'reg_alpha': 0.2902771091664919, 'reg_lambda': 0.09588491751707723, 'colsample_bytree': 0.20607181955865533, 'subsample': 0.6522577889297204}. Best is trial 234 with value: 0.8460686600221484.\n",
      "[I 2024-02-22 14:21:10,932] Trial 306 finished with value: 0.8389261744966442 and parameters: {'n_estimators': 350, 'learning_rate': 0.13596432745672948, 'max_depth': 15, 'alpha': 0.0004539621476688946, 'gamma': 0.0014217975564259288, 'reg_alpha': 0.27678998489546797, 'reg_lambda': 0.047326541597821736, 'colsample_bytree': 0.2520089573774679, 'subsample': 0.6139369237270446}. Best is trial 234 with value: 0.8460686600221484.\n",
      "[I 2024-02-22 14:21:18,825] Trial 307 finished with value: 0.8344594594594594 and parameters: {'n_estimators': 317, 'learning_rate': 0.17389189498975346, 'max_depth': 13, 'alpha': 0.000573383282585896, 'gamma': 0.00127062673300502, 'reg_alpha': 0.3434927009494326, 'reg_lambda': 0.049270848092666165, 'colsample_bytree': 0.17187236089251354, 'subsample': 0.6756548629134844}. Best is trial 234 with value: 0.8460686600221484.\n",
      "[I 2024-02-22 14:21:27,147] Trial 308 finished with value: 0.8405148293228876 and parameters: {'n_estimators': 292, 'learning_rate': 0.1938350216945516, 'max_depth': 14, 'alpha': 0.0005017413138511465, 'gamma': 0.0011469672968380167, 'reg_alpha': 0.3669308575688312, 'reg_lambda': 0.017725787227201032, 'colsample_bytree': 0.28524617533167307, 'subsample': 0.6319237251103361}. Best is trial 234 with value: 0.8460686600221484.\n",
      "[I 2024-02-22 14:21:34,230] Trial 309 finished with value: 0.835103409726104 and parameters: {'n_estimators': 299, 'learning_rate': 0.1826941767897888, 'max_depth': 11, 'alpha': 0.0005579619002574316, 'gamma': 0.0016099609460645489, 'reg_alpha': 0.3222826667300142, 'reg_lambda': 0.02712074005674366, 'colsample_bytree': 0.23034637349310236, 'subsample': 0.6023890156046828}. Best is trial 234 with value: 0.8460686600221484.\n",
      "[I 2024-02-22 14:21:44,501] Trial 310 finished with value: 0.8419301164725458 and parameters: {'n_estimators': 431, 'learning_rate': 0.19564625375861405, 'max_depth': 13, 'alpha': 0.0008965197282139851, 'gamma': 0.00025149301176141214, 'reg_alpha': 0.30895984391183706, 'reg_lambda': 0.030832085664344325, 'colsample_bytree': 0.243244787918414, 'subsample': 0.6537981257700085}. Best is trial 234 with value: 0.8460686600221484.\n",
      "[I 2024-02-22 14:21:52,124] Trial 311 finished with value: 0.8404017857142858 and parameters: {'n_estimators': 328, 'learning_rate': 0.19961490976515894, 'max_depth': 13, 'alpha': 0.0006002257302495366, 'gamma': 0.00030227310239745893, 'reg_alpha': 0.3073007384060374, 'reg_lambda': 0.023436971169360887, 'colsample_bytree': 0.272179504714626, 'subsample': 0.6604162119305307}. Best is trial 234 with value: 0.8460686600221484.\n",
      "[I 2024-02-22 14:22:02,956] Trial 312 finished with value: 0.841340782122905 and parameters: {'n_estimators': 364, 'learning_rate': 0.19031272945629857, 'max_depth': 13, 'alpha': 0.0008746692932260662, 'gamma': 0.0003531499730793567, 'reg_alpha': 0.27896038195885, 'reg_lambda': 0.03299274805502491, 'colsample_bytree': 0.24938274708821406, 'subsample': 0.6838034426003927}. Best is trial 234 with value: 0.8460686600221484.\n",
      "[I 2024-02-22 14:22:13,572] Trial 313 finished with value: 0.8423398328690808 and parameters: {'n_estimators': 379, 'learning_rate': 0.1944315897590535, 'max_depth': 13, 'alpha': 0.0009041018290068883, 'gamma': 0.0002462295885200537, 'reg_alpha': 0.2586028747526898, 'reg_lambda': 0.02935632229444584, 'colsample_bytree': 0.3060599520012187, 'subsample': 0.6782464953740454}. Best is trial 234 with value: 0.8460686600221484.\n",
      "[I 2024-02-22 14:22:21,211] Trial 314 finished with value: 0.8460255697609783 and parameters: {'n_estimators': 378, 'learning_rate': 0.1977182322026353, 'max_depth': 13, 'alpha': 0.0008814875787607693, 'gamma': 0.00021599589573001536, 'reg_alpha': 0.2420156497767218, 'reg_lambda': 0.031213695453850717, 'colsample_bytree': 0.30840941878199335, 'subsample': 0.6767330460457613}. Best is trial 234 with value: 0.8460686600221484.\n",
      "[I 2024-02-22 14:22:28,746] Trial 315 finished with value: 0.8399330730619073 and parameters: {'n_estimators': 338, 'learning_rate': 0.19193885569198496, 'max_depth': 13, 'alpha': 0.000883111792679161, 'gamma': 0.00021502574880156113, 'reg_alpha': 0.2362413625497155, 'reg_lambda': 0.027825208989344083, 'colsample_bytree': 0.31342878668759927, 'subsample': 0.6848956093032534}. Best is trial 234 with value: 0.8460686600221484.\n",
      "[I 2024-02-22 14:22:36,923] Trial 316 finished with value: 0.8465845464725643 and parameters: {'n_estimators': 358, 'learning_rate': 0.20393724673977978, 'max_depth': 13, 'alpha': 0.0008425021264406062, 'gamma': 0.00025795531578718355, 'reg_alpha': 0.24704480920863264, 'reg_lambda': 0.029989234776718415, 'colsample_bytree': 0.302986632053733, 'subsample': 0.6795286835657082}. Best is trial 316 with value: 0.8465845464725643.\n",
      "[I 2024-02-22 14:22:44,934] Trial 317 finished with value: 0.8405148293228876 and parameters: {'n_estimators': 368, 'learning_rate': 0.20242837765786595, 'max_depth': 13, 'alpha': 0.0007817619351653925, 'gamma': 0.00024398209498934087, 'reg_alpha': 0.2152537423257737, 'reg_lambda': 0.030641101434330645, 'colsample_bytree': 0.2974618998841854, 'subsample': 0.6658440797326158}. Best is trial 316 with value: 0.8465845464725643.\n",
      "[I 2024-02-22 14:22:53,990] Trial 318 finished with value: 0.840223463687151 and parameters: {'n_estimators': 379, 'learning_rate': 0.19345007039321066, 'max_depth': 13, 'alpha': 0.000862912677845619, 'gamma': 0.000249989587915483, 'reg_alpha': 0.2515143756278957, 'reg_lambda': 0.03234298144656347, 'colsample_bytree': 0.31734170157163333, 'subsample': 0.6877609246945048}. Best is trial 316 with value: 0.8465845464725643.\n",
      "[I 2024-02-22 14:23:03,497] Trial 319 finished with value: 0.8360380526021265 and parameters: {'n_estimators': 393, 'learning_rate': 0.20073602223925768, 'max_depth': 13, 'alpha': 0.0008257669343690349, 'gamma': 0.00026829028418983987, 'reg_alpha': 0.24028685040500436, 'reg_lambda': 0.03070179940285841, 'colsample_bytree': 0.2983582424259389, 'subsample': 0.6945392199682346}. Best is trial 316 with value: 0.8465845464725643.\n",
      "[I 2024-02-22 14:23:13,754] Trial 320 finished with value: 0.8348519362186788 and parameters: {'n_estimators': 363, 'learning_rate': 0.0413884662485602, 'max_depth': 13, 'alpha': 0.0006866885880516813, 'gamma': 0.0001938285295051786, 'reg_alpha': 0.24991203753856536, 'reg_lambda': 0.03393619686585675, 'colsample_bytree': 0.3303133307483845, 'subsample': 0.6727834264668147}. Best is trial 316 with value: 0.8465845464725643.\n",
      "[I 2024-02-22 14:23:22,863] Trial 321 finished with value: 0.840223463687151 and parameters: {'n_estimators': 380, 'learning_rate': 0.2083569511908177, 'max_depth': 12, 'alpha': 0.0009094140274920817, 'gamma': 0.0003625985926809294, 'reg_alpha': 0.275768419862085, 'reg_lambda': 0.029734169155547704, 'colsample_bytree': 0.2885369910264937, 'subsample': 0.6855221408279448}. Best is trial 316 with value: 0.8465845464725643.\n",
      "[I 2024-02-22 14:23:30,432] Trial 322 finished with value: 0.8331479421579533 and parameters: {'n_estimators': 355, 'learning_rate': 0.18904173561977508, 'max_depth': 13, 'alpha': 0.0009427433942117355, 'gamma': 0.0002717130950954437, 'reg_alpha': 0.26023338493004566, 'reg_lambda': 0.03179150081585465, 'colsample_bytree': 0.27654999807312597, 'subsample': 0.38384147130039603}. Best is trial 316 with value: 0.8465845464725643.\n",
      "[I 2024-02-22 14:23:39,588] Trial 323 finished with value: 0.8443213296398892 and parameters: {'n_estimators': 378, 'learning_rate': 0.18570935229268182, 'max_depth': 12, 'alpha': 0.0007321183524266202, 'gamma': 0.0003194762807436479, 'reg_alpha': 0.18051627276752777, 'reg_lambda': 0.0332305096650902, 'colsample_bytree': 0.3390121449091778, 'subsample': 0.7003570951335283}. Best is trial 316 with value: 0.8465845464725643.\n",
      "[I 2024-02-22 14:23:48,266] Trial 324 finished with value: 0.8451327433628318 and parameters: {'n_estimators': 386, 'learning_rate': 0.20157147181801227, 'max_depth': 12, 'alpha': 0.000785953934505601, 'gamma': 0.0003057802145373591, 'reg_alpha': 0.18440889258449045, 'reg_lambda': 0.033221669891384774, 'colsample_bytree': 0.3598248635565461, 'subsample': 0.7045529892441598}. Best is trial 316 with value: 0.8465845464725643.\n",
      "[I 2024-02-22 14:23:56,602] Trial 325 finished with value: 0.8383500557413601 and parameters: {'n_estimators': 378, 'learning_rate': 0.19903187657436927, 'max_depth': 12, 'alpha': 0.0006985655371606855, 'gamma': 0.00032122860075066667, 'reg_alpha': 0.15752094744676506, 'reg_lambda': 0.0335595685113948, 'colsample_bytree': 0.3045739001802839, 'subsample': 0.70501473850821}. Best is trial 316 with value: 0.8465845464725643.\n",
      "[I 2024-02-22 14:24:05,202] Trial 326 finished with value: 0.8397115917914586 and parameters: {'n_estimators': 395, 'learning_rate': 0.21408436988255133, 'max_depth': 12, 'alpha': 0.0008845570250061822, 'gamma': 0.00035542497812042685, 'reg_alpha': 0.18555243917286615, 'reg_lambda': 0.03352987210476727, 'colsample_bytree': 0.34208903707304644, 'subsample': 0.7014388725262101}. Best is trial 316 with value: 0.8465845464725643.\n",
      "[I 2024-02-22 14:24:15,039] Trial 327 finished with value: 0.838888888888889 and parameters: {'n_estimators': 371, 'learning_rate': 0.2035812422033988, 'max_depth': 13, 'alpha': 0.0007193099658230215, 'gamma': 0.00030441682367629943, 'reg_alpha': 0.1972716833252664, 'reg_lambda': 0.031420027485846665, 'colsample_bytree': 0.3720579333058883, 'subsample': 0.6765432782588168}. Best is trial 316 with value: 0.8465845464725643.\n",
      "[I 2024-02-22 14:24:25,350] Trial 328 finished with value: 0.8434540389972145 and parameters: {'n_estimators': 408, 'learning_rate': 0.20938325765136687, 'max_depth': 13, 'alpha': 0.0007855307933662619, 'gamma': 0.0002790774038139059, 'reg_alpha': 0.13422176806473665, 'reg_lambda': 0.029266860067987784, 'colsample_bytree': 0.3469988746978118, 'subsample': 0.702195658806662}. Best is trial 316 with value: 0.8465845464725643.\n",
      "[I 2024-02-22 14:24:35,371] Trial 329 finished with value: 0.8340757238307349 and parameters: {'n_estimators': 401, 'learning_rate': 0.21191878627911348, 'max_depth': 13, 'alpha': 0.0007764757965631053, 'gamma': 0.0002681378075011354, 'reg_alpha': 0.1042785006873379, 'reg_lambda': 0.0363629310753384, 'colsample_bytree': 0.3619591123400287, 'subsample': 0.7095693230565986}. Best is trial 316 with value: 0.8465845464725643.\n",
      "[I 2024-02-22 14:24:43,649] Trial 330 finished with value: 0.8397115917914586 and parameters: {'n_estimators': 390, 'learning_rate': 0.19484375168809034, 'max_depth': 13, 'alpha': 0.000837818174092496, 'gamma': 0.00032489625136370576, 'reg_alpha': 0.1696402983564627, 'reg_lambda': 0.03045964860216618, 'colsample_bytree': 0.35003423546294476, 'subsample': 0.7043945709154238}. Best is trial 316 with value: 0.8465845464725643.\n",
      "[I 2024-02-22 14:24:52,384] Trial 331 finished with value: 0.8407572383073497 and parameters: {'n_estimators': 411, 'learning_rate': 0.20669411960151077, 'max_depth': 13, 'alpha': 0.0009572667420420537, 'gamma': 0.00024115324620358023, 'reg_alpha': 0.14152801052805056, 'reg_lambda': 0.03007115985460239, 'colsample_bytree': 0.34143809624539917, 'subsample': 0.7274936667043217}. Best is trial 316 with value: 0.8465845464725643.\n",
      "[I 2024-02-22 14:25:00,888] Trial 332 finished with value: 0.8394241417497231 and parameters: {'n_estimators': 368, 'learning_rate': 0.2191726866811172, 'max_depth': 12, 'alpha': 0.000763641647096368, 'gamma': 0.00022751755263523968, 'reg_alpha': 0.14065526635556602, 'reg_lambda': 0.02853572594843389, 'colsample_bytree': 0.32695941835083797, 'subsample': 0.6897525520276304}. Best is trial 316 with value: 0.8465845464725643.\n",
      "[I 2024-02-22 14:25:09,935] Trial 333 finished with value: 0.8394648829431438 and parameters: {'n_estimators': 362, 'learning_rate': 0.18877415953154045, 'max_depth': 12, 'alpha': 0.0008854508061895699, 'gamma': 0.000280598625900683, 'reg_alpha': 0.18959300283774855, 'reg_lambda': 0.03583950473625487, 'colsample_bytree': 0.325150706325393, 'subsample': 0.6702939510317171}. Best is trial 316 with value: 0.8465845464725643.\n",
      "[I 2024-02-22 14:25:20,080] Trial 334 finished with value: 0.8405956977385549 and parameters: {'n_estimators': 408, 'learning_rate': 0.20381850050631686, 'max_depth': 13, 'alpha': 0.0009852314526640623, 'gamma': 0.0002548125757160718, 'reg_alpha': 0.12349624343498428, 'reg_lambda': 0.03347488929383281, 'colsample_bytree': 0.3564888500985922, 'subsample': 0.6891170744688175}. Best is trial 316 with value: 0.8465845464725643.\n",
      "[I 2024-02-22 14:25:30,250] Trial 335 finished with value: 0.83463687150838 and parameters: {'n_estimators': 384, 'learning_rate': 0.19395197377899037, 'max_depth': 13, 'alpha': 0.0006427351092965466, 'gamma': 0.0003998317648080229, 'reg_alpha': 0.21661915944832777, 'reg_lambda': 0.03218325301805338, 'colsample_bytree': 0.401459060429794, 'subsample': 0.719804537795366}. Best is trial 316 with value: 0.8465845464725643.\n",
      "[I 2024-02-22 14:25:38,560] Trial 336 finished with value: 0.8416945373467112 and parameters: {'n_estimators': 422, 'learning_rate': 0.18595683480446895, 'max_depth': 12, 'alpha': 0.0008118023438604444, 'gamma': 0.0002339042799034531, 'reg_alpha': 0.16994459745080026, 'reg_lambda': 0.0293383046220592, 'colsample_bytree': 0.31313350205722174, 'subsample': 0.6604100206758501}. Best is trial 316 with value: 0.8465845464725643.\n",
      "[I 2024-02-22 14:25:46,817] Trial 337 finished with value: 0.841111111111111 and parameters: {'n_estimators': 413, 'learning_rate': 0.2130235591197127, 'max_depth': 12, 'alpha': 0.0008019788844209175, 'gamma': 0.00019674341219210853, 'reg_alpha': 0.15954447826566232, 'reg_lambda': 0.029018084469106465, 'colsample_bytree': 0.32714604429961974, 'subsample': 0.6576313753651973}. Best is trial 316 with value: 0.8465845464725643.\n",
      "[I 2024-02-22 14:25:56,362] Trial 338 finished with value: 0.8379578246392898 and parameters: {'n_estimators': 433, 'learning_rate': 0.1832481597952465, 'max_depth': 12, 'alpha': 0.0007734938856959231, 'gamma': 0.00023285695132558234, 'reg_alpha': 0.13332114479333249, 'reg_lambda': 0.026712502714616792, 'colsample_bytree': 0.34646297631831635, 'subsample': 0.6583112035342545}. Best is trial 316 with value: 0.8465845464725643.\n",
      "[I 2024-02-22 14:26:06,063] Trial 339 finished with value: 0.8347245409015024 and parameters: {'n_estimators': 434, 'learning_rate': 0.2214169615239759, 'max_depth': 12, 'alpha': 0.0007165984214416611, 'gamma': 0.0002137752516951658, 'reg_alpha': 0.1797487832214654, 'reg_lambda': 0.028667389428178126, 'colsample_bytree': 0.31192273591937253, 'subsample': 0.6706540426711526}. Best is trial 316 with value: 0.8465845464725643.\n",
      "[I 2024-02-22 14:26:15,106] Trial 340 finished with value: 0.8406440866185453 and parameters: {'n_estimators': 425, 'learning_rate': 0.20012231368758754, 'max_depth': 11, 'alpha': 0.0009951585792546162, 'gamma': 0.00018210076357108227, 'reg_alpha': 0.14698783579140356, 'reg_lambda': 0.030523611195495445, 'colsample_bytree': 0.3106310288351917, 'subsample': 0.7001501947334966}. Best is trial 316 with value: 0.8465845464725643.\n",
      "[I 2024-02-22 14:26:23,766] Trial 341 finished with value: 0.8471760797342193 and parameters: {'n_estimators': 416, 'learning_rate': 0.20959585805148834, 'max_depth': 12, 'alpha': 0.008226665318547264, 'gamma': 0.000284593563324206, 'reg_alpha': 0.17604444915087428, 'reg_lambda': 0.03486026368554275, 'colsample_bytree': 0.33447065971489737, 'subsample': 0.6445907159641215}. Best is trial 341 with value: 0.8471760797342193.\n",
      "[I 2024-02-22 14:26:32,909] Trial 342 finished with value: 0.8342541436464088 and parameters: {'n_estimators': 419, 'learning_rate': 0.2146285237517896, 'max_depth': 12, 'alpha': 0.006827913861586578, 'gamma': 0.0002871715319118251, 'reg_alpha': 0.1695133520300427, 'reg_lambda': 0.03532859807461984, 'colsample_bytree': 0.36577869071308244, 'subsample': 0.3168811918829085}. Best is trial 341 with value: 0.8471760797342193.\n",
      "[I 2024-02-22 14:26:41,809] Trial 343 finished with value: 0.8337965536409115 and parameters: {'n_estimators': 404, 'learning_rate': 0.20623583947903903, 'max_depth': 12, 'alpha': 0.008743009107872053, 'gamma': 0.0002558324686398905, 'reg_alpha': 0.20549443244341764, 'reg_lambda': 0.03141763545385275, 'colsample_bytree': 0.3362239122609854, 'subsample': 0.6386669860945591}. Best is trial 341 with value: 0.8471760797342193.\n",
      "[I 2024-02-22 14:26:49,953] Trial 344 finished with value: 0.8354712771890686 and parameters: {'n_estimators': 384, 'learning_rate': 0.18537722289293634, 'max_depth': 11, 'alpha': 0.0008212639237328658, 'gamma': 0.00029507957655565403, 'reg_alpha': 0.17293243865399419, 'reg_lambda': 0.036897589034699, 'colsample_bytree': 0.39125999115749277, 'subsample': 0.6426321492544012}. Best is trial 341 with value: 0.8471760797342193.\n",
      "[I 2024-02-22 14:26:59,137] Trial 345 finished with value: 0.8315612758813655 and parameters: {'n_estimators': 392, 'learning_rate': 0.22377304992255156, 'max_depth': 12, 'alpha': 0.0006939496856338078, 'gamma': 0.00021260061345607323, 'reg_alpha': 0.19126180002047638, 'reg_lambda': 0.03369386759344543, 'colsample_bytree': 0.3053288830705314, 'subsample': 0.6657148206295709}. Best is trial 341 with value: 0.8471760797342193.\n",
      "[I 2024-02-22 14:27:15,109] Trial 346 finished with value: 0.8373126041088284 and parameters: {'n_estimators': 645, 'learning_rate': 0.19979202062607737, 'max_depth': 13, 'alpha': 0.007958117861926134, 'gamma': 0.0002662437980923864, 'reg_alpha': 0.15386129236218815, 'reg_lambda': 0.035013031608658846, 'colsample_bytree': 0.34548224854870335, 'subsample': 0.6535515263018502}. Best is trial 341 with value: 0.8471760797342193.\n",
      "[I 2024-02-22 14:27:23,673] Trial 347 finished with value: 0.8421639709983268 and parameters: {'n_estimators': 412, 'learning_rate': 0.17761348369426708, 'max_depth': 12, 'alpha': 0.007873874658975917, 'gamma': 0.00031462562296834403, 'reg_alpha': 0.22916594543676522, 'reg_lambda': 0.029171548727091115, 'colsample_bytree': 0.2941823551825216, 'subsample': 0.6772919641510652}. Best is trial 341 with value: 0.8471760797342193.\n",
      "[I 2024-02-22 14:27:40,312] Trial 348 finished with value: 0.8386376326074818 and parameters: {'n_estimators': 815, 'learning_rate': 0.1950492110168892, 'max_depth': 12, 'alpha': 0.007688997093846416, 'gamma': 0.00029444560119529754, 'reg_alpha': 0.22355966201911476, 'reg_lambda': 0.028183212573080426, 'colsample_bytree': 0.3230729069709496, 'subsample': 0.6788289306827462}. Best is trial 341 with value: 0.8471760797342193.\n",
      "[I 2024-02-22 14:27:47,589] Trial 349 finished with value: 0.8417545807884509 and parameters: {'n_estimators': 403, 'learning_rate': 0.2093408939442575, 'max_depth': 9, 'alpha': 0.009731785365067932, 'gamma': 0.0002464562715246813, 'reg_alpha': 0.11780625507341319, 'reg_lambda': 0.03024373112955274, 'colsample_bytree': 0.3015378517419315, 'subsample': 0.733331541306598}. Best is trial 341 with value: 0.8471760797342193.\n",
      "[I 2024-02-22 14:27:54,389] Trial 350 finished with value: 0.8398891966759002 and parameters: {'n_estimators': 410, 'learning_rate': 0.21053878947908972, 'max_depth': 9, 'alpha': 0.009607954669629175, 'gamma': 0.00022442527854792677, 'reg_alpha': 0.19965555650762065, 'reg_lambda': 0.03024752125733121, 'colsample_bytree': 0.2966635299660317, 'subsample': 0.7357971944626974}. Best is trial 341 with value: 0.8471760797342193.\n",
      "[I 2024-02-22 14:28:00,364] Trial 351 finished with value: 0.8361831218974075 and parameters: {'n_estimators': 425, 'learning_rate': 0.22295608362227687, 'max_depth': 7, 'alpha': 0.008912605118463066, 'gamma': 0.0003283495366769634, 'reg_alpha': 0.12169690467718247, 'reg_lambda': 0.026735454726662933, 'colsample_bytree': 0.31340330759330737, 'subsample': 0.7188567346793534}. Best is trial 341 with value: 0.8471760797342193.\n",
      "[I 2024-02-22 14:28:06,500] Trial 352 finished with value: 0.841225626740947 and parameters: {'n_estimators': 390, 'learning_rate': 0.20850217976475555, 'max_depth': 8, 'alpha': 0.00822205064655346, 'gamma': 0.00023542247284591035, 'reg_alpha': 0.12246538891850595, 'reg_lambda': 0.029213231548946693, 'colsample_bytree': 0.29546529329542454, 'subsample': 0.7547648697009646}. Best is trial 341 with value: 0.8471760797342193.\n",
      "[I 2024-02-22 14:28:16,310] Trial 353 finished with value: 0.8094674556213018 and parameters: {'n_estimators': 400, 'learning_rate': 0.01991858154486989, 'max_depth': 11, 'alpha': 0.008863845849396156, 'gamma': 0.0003114335439454534, 'reg_alpha': 0.13887007185910966, 'reg_lambda': 0.03232268321601451, 'colsample_bytree': 0.2830016658217487, 'subsample': 0.35685943152050126}. Best is trial 341 with value: 0.8471760797342193.\n",
      "[I 2024-02-22 14:28:27,093] Trial 354 finished with value: 0.8365867261572782 and parameters: {'n_estimators': 424, 'learning_rate': 0.20296332071548984, 'max_depth': 12, 'alpha': 0.008084318616798522, 'gamma': 0.00026387032477007995, 'reg_alpha': 0.17987286504186625, 'reg_lambda': 0.038010053809382514, 'colsample_bytree': 0.32972853380908507, 'subsample': 0.7429597111585918}. Best is trial 341 with value: 0.8471760797342193.\n",
      "[I 2024-02-22 14:28:41,187] Trial 355 finished with value: 0.8371065709552733 and parameters: {'n_estimators': 662, 'learning_rate': 0.21549434800287723, 'max_depth': 11, 'alpha': 0.0073288265078580135, 'gamma': 0.00024643368008545757, 'reg_alpha': 0.22459859416093542, 'reg_lambda': 0.031234196315279888, 'colsample_bytree': 0.30762190947594537, 'subsample': 0.6966477131738664}. Best is trial 341 with value: 0.8471760797342193.\n",
      "[I 2024-02-22 14:28:49,179] Trial 356 finished with value: 0.8324022346368716 and parameters: {'n_estimators': 437, 'learning_rate': 0.19057249785292715, 'max_depth': 7, 'alpha': 0.006103042103846043, 'gamma': 0.00033695519846977913, 'reg_alpha': 0.11607647689134637, 'reg_lambda': 0.026952538169367705, 'colsample_bytree': 0.2864533687724293, 'subsample': 0.7162972711137277}. Best is trial 341 with value: 0.8471760797342193.\n",
      "[I 2024-02-22 14:28:57,771] Trial 357 finished with value: 0.8367234744365035 and parameters: {'n_estimators': 407, 'learning_rate': 0.22648360136719645, 'max_depth': 12, 'alpha': 0.009143264670094759, 'gamma': 0.0002810603076516657, 'reg_alpha': 0.15614949700375733, 'reg_lambda': 0.02911226961909697, 'colsample_bytree': 0.3419794847396165, 'subsample': 0.6761252839504133}. Best is trial 341 with value: 0.8471760797342193.\n",
      "[I 2024-02-22 14:29:11,888] Trial 358 finished with value: 0.839355197331851 and parameters: {'n_estimators': 708, 'learning_rate': 0.19857425759414926, 'max_depth': 12, 'alpha': 0.006930977596627872, 'gamma': 0.00022952926399350966, 'reg_alpha': 0.21447747009978813, 'reg_lambda': 0.025193823279919356, 'colsample_bytree': 0.3644966255969914, 'subsample': 0.6985628860724322}. Best is trial 341 with value: 0.8471760797342193.\n",
      "[I 2024-02-22 14:29:24,945] Trial 359 finished with value: 0.8445190156599554 and parameters: {'n_estimators': 626, 'learning_rate': 0.18434488896495585, 'max_depth': 13, 'alpha': 0.009201793736493803, 'gamma': 0.00031159641181162145, 'reg_alpha': 0.24375217055420142, 'reg_lambda': 0.034361479343692575, 'colsample_bytree': 0.2655397599901911, 'subsample': 0.7296135842217127}. Best is trial 341 with value: 0.8471760797342193.\n",
      "[I 2024-02-22 14:29:38,177] Trial 360 finished with value: 0.8336097291321173 and parameters: {'n_estimators': 613, 'learning_rate': 0.21078738494968396, 'max_depth': 13, 'alpha': 0.009614482297310649, 'gamma': 0.00031119205925403295, 'reg_alpha': 0.25032924334910617, 'reg_lambda': 0.034862330021370694, 'colsample_bytree': 0.26540308836656296, 'subsample': 0.7223118042859201}. Best is trial 341 with value: 0.8471760797342193.\n",
      "[I 2024-02-22 14:29:52,864] Trial 361 finished with value: 0.8379578246392898 and parameters: {'n_estimators': 633, 'learning_rate': 0.19582455836332488, 'max_depth': 13, 'alpha': 0.0085303472756418, 'gamma': 0.0003658907338163588, 'reg_alpha': 0.23560925176472314, 'reg_lambda': 0.033035589736363995, 'colsample_bytree': 0.2663421692897556, 'subsample': 0.7364351066755946}. Best is trial 341 with value: 0.8471760797342193.\n",
      "[I 2024-02-22 14:30:05,498] Trial 362 finished with value: 0.8401114206128134 and parameters: {'n_estimators': 619, 'learning_rate': 0.21938786026387938, 'max_depth': 13, 'alpha': 0.009751603011480238, 'gamma': 0.00027917198054487006, 'reg_alpha': 0.10628959198051063, 'reg_lambda': 0.03801790451084915, 'colsample_bytree': 0.2829013176101368, 'subsample': 0.7296969272308684}. Best is trial 341 with value: 0.8471760797342193.\n",
      "[I 2024-02-22 14:30:17,158] Trial 363 finished with value: 0.838888888888889 and parameters: {'n_estimators': 643, 'learning_rate': 0.1812965243185448, 'max_depth': 13, 'alpha': 0.007777030595975041, 'gamma': 0.0003231360760953933, 'reg_alpha': 0.23943266794423868, 'reg_lambda': 0.034399815474884694, 'colsample_bytree': 0.2550958597783394, 'subsample': 0.39304929119452797}. Best is trial 341 with value: 0.8471760797342193.\n",
      "[I 2024-02-22 14:30:30,790] Trial 364 finished with value: 0.8366666666666667 and parameters: {'n_estimators': 666, 'learning_rate': 0.20571302539360897, 'max_depth': 13, 'alpha': 0.008158859697611787, 'gamma': 0.0003826624579688489, 'reg_alpha': 0.2561405506817997, 'reg_lambda': 0.032745652009266706, 'colsample_bytree': 0.29555826758209647, 'subsample': 0.7476915870224609}. Best is trial 341 with value: 0.8471760797342193.\n",
      "[I 2024-02-22 14:30:38,816] Trial 365 finished with value: 0.8342541436464088 and parameters: {'n_estimators': 601, 'learning_rate': 0.19058021436582293, 'max_depth': 6, 'alpha': 0.009636900565952664, 'gamma': 0.00029956754266148155, 'reg_alpha': 0.2384742594808784, 'reg_lambda': 0.03233510259168148, 'colsample_bytree': 0.3770905351530828, 'subsample': 0.7119787277950697}. Best is trial 341 with value: 0.8471760797342193.\n",
      "[I 2024-02-22 14:30:46,754] Trial 366 finished with value: 0.8353863381858901 and parameters: {'n_estimators': 373, 'learning_rate': 0.20203442800741234, 'max_depth': 12, 'alpha': 0.008566916339154382, 'gamma': 0.0002679122186357987, 'reg_alpha': 0.20570397913786592, 'reg_lambda': 0.03619384272341318, 'colsample_bytree': 0.26996095314297364, 'subsample': 0.6843292206207789}. Best is trial 341 with value: 0.8471760797342193.\n",
      "[I 2024-02-22 14:30:56,082] Trial 367 finished with value: 0.8364849833147942 and parameters: {'n_estimators': 355, 'learning_rate': 0.2266191453108229, 'max_depth': 13, 'alpha': 0.0009146882832061547, 'gamma': 0.0003373117480524754, 'reg_alpha': 0.26945685902614136, 'reg_lambda': 0.030323282412337678, 'colsample_bytree': 0.32602531838131604, 'subsample': 0.5057044475001263}. Best is trial 341 with value: 0.8471760797342193.\n",
      "[I 2024-02-22 14:31:07,048] Trial 368 finished with value: 0.7728130899937068 and parameters: {'n_estimators': 382, 'learning_rate': 0.0064907727327720155, 'max_depth': 12, 'alpha': 0.007117037802859696, 'gamma': 0.0002483545944401364, 'reg_alpha': 0.2547033463582349, 'reg_lambda': 0.03457095733947439, 'colsample_bytree': 0.3542002662010062, 'subsample': 0.36958468175905484}. Best is trial 341 with value: 0.8471760797342193.\n",
      "[I 2024-02-22 14:31:20,145] Trial 369 finished with value: 0.8388157894736842 and parameters: {'n_estimators': 593, 'learning_rate': 0.21328830507642968, 'max_depth': 13, 'alpha': 0.00557211337311046, 'gamma': 0.00017601419370392543, 'reg_alpha': 0.22995822093945323, 'reg_lambda': 0.027493518549549394, 'colsample_bytree': 0.25380508296147913, 'subsample': 0.41404679089915625}. Best is trial 341 with value: 0.8471760797342193.\n",
      "[I 2024-02-22 14:31:31,249] Trial 370 finished with value: 0.8393956351426972 and parameters: {'n_estimators': 609, 'learning_rate': 0.18274865697246606, 'max_depth': 13, 'alpha': 0.009865695358668967, 'gamma': 0.00030087117025770244, 'reg_alpha': 0.21119921489336585, 'reg_lambda': 0.030792506200007282, 'colsample_bytree': 0.2926942486610269, 'subsample': 0.6995542071048233}. Best is trial 341 with value: 0.8471760797342193.\n",
      "[I 2024-02-22 14:31:42,131] Trial 371 finished with value: 0.8406931246506429 and parameters: {'n_estimators': 634, 'learning_rate': 0.19746316855428395, 'max_depth': 9, 'alpha': 0.00017730261235582753, 'gamma': 0.00020061064822490078, 'reg_alpha': 0.13782616215712967, 'reg_lambda': 0.03732452365034209, 'colsample_bytree': 0.2419265076826837, 'subsample': 0.6872559221893049}. Best is trial 341 with value: 0.8471760797342193.\n",
      "[I 2024-02-22 14:31:51,355] Trial 372 finished with value: 0.8419877163595757 and parameters: {'n_estimators': 395, 'learning_rate': 0.167236429160985, 'max_depth': 12, 'alpha': 0.006310224602753465, 'gamma': 0.0002549559422131182, 'reg_alpha': 0.2264187755201615, 'reg_lambda': 0.031496904745522455, 'colsample_bytree': 0.33055009147017544, 'subsample': 0.7152979789576835}. Best is trial 341 with value: 0.8471760797342193.\n",
      "[I 2024-02-22 14:32:00,543] Trial 373 finished with value: 0.8322072072072071 and parameters: {'n_estimators': 405, 'learning_rate': 0.17685724647124618, 'max_depth': 12, 'alpha': 0.007619282540048563, 'gamma': 0.00025976931939270095, 'reg_alpha': 0.19457043063998705, 'reg_lambda': 0.03199710187560498, 'colsample_bytree': 0.32490306081501985, 'subsample': 0.7245223065126233}. Best is trial 341 with value: 0.8471760797342193.\n",
      "[I 2024-02-22 14:32:09,465] Trial 374 finished with value: 0.8355555555555555 and parameters: {'n_estimators': 394, 'learning_rate': 0.16564099222374615, 'max_depth': 11, 'alpha': 0.005802215323970007, 'gamma': 0.0002789282563382437, 'reg_alpha': 0.2348833241283884, 'reg_lambda': 0.03454257289278344, 'colsample_bytree': 0.3556007344012704, 'subsample': 0.7423917632862594}. Best is trial 341 with value: 0.8471760797342193.\n",
      "[I 2024-02-22 14:32:17,371] Trial 375 finished with value: 0.8409343715239155 and parameters: {'n_estimators': 364, 'learning_rate': 0.16396599058371808, 'max_depth': 10, 'alpha': 0.0060906691254558245, 'gamma': 0.00021397090570527544, 'reg_alpha': 0.2267937491416537, 'reg_lambda': 0.02584226725865025, 'colsample_bytree': 0.3340329438352923, 'subsample': 0.7045275361676723}. Best is trial 341 with value: 0.8471760797342193.\n",
      "[I 2024-02-22 14:32:32,804] Trial 376 finished with value: 0.8372352285395763 and parameters: {'n_estimators': 693, 'learning_rate': 0.18215394604623422, 'max_depth': 12, 'alpha': 0.006570085311203362, 'gamma': 0.00042575207662420676, 'reg_alpha': 0.2612006400995168, 'reg_lambda': 0.029389414625871295, 'colsample_bytree': 0.3102428300848977, 'subsample': 0.7130904292076987}. Best is trial 341 with value: 0.8471760797342193.\n",
      "[I 2024-02-22 14:32:41,641] Trial 377 finished with value: 0.8453378001116694 and parameters: {'n_estimators': 382, 'learning_rate': 0.20641115950030853, 'max_depth': 12, 'alpha': 0.005222695384273189, 'gamma': 0.0002510940058315624, 'reg_alpha': 0.2157118952508302, 'reg_lambda': 0.0317135846222583, 'colsample_bytree': 0.27450884115668794, 'subsample': 0.673581196541347}. Best is trial 341 with value: 0.8471760797342193.\n",
      "[I 2024-02-22 14:32:49,029] Trial 378 finished with value: 0.8409343715239155 and parameters: {'n_estimators': 379, 'learning_rate': 0.1879468856157999, 'max_depth': 12, 'alpha': 0.006435042813243579, 'gamma': 0.0003490030794185704, 'reg_alpha': 0.20605343999251532, 'reg_lambda': 0.03239047526206453, 'colsample_bytree': 0.27963093827542024, 'subsample': 0.6634855532607811}. Best is trial 341 with value: 0.8471760797342193.\n",
      "[I 2024-02-22 14:32:56,915] Trial 379 finished with value: 0.8374439461883407 and parameters: {'n_estimators': 347, 'learning_rate': 0.17216299309350241, 'max_depth': 12, 'alpha': 0.005909144995788031, 'gamma': 0.00028559439512001257, 'reg_alpha': 0.18939574469410386, 'reg_lambda': 0.03628285347605915, 'colsample_bytree': 0.26301468299587255, 'subsample': 0.6710974081980265}. Best is trial 341 with value: 0.8471760797342193.\n",
      "[I 2024-02-22 14:33:04,917] Trial 380 finished with value: 0.8379578246392898 and parameters: {'n_estimators': 357, 'learning_rate': 0.18922923570934583, 'max_depth': 11, 'alpha': 0.005222966191757341, 'gamma': 0.00032086120967763374, 'reg_alpha': 0.2154644119804911, 'reg_lambda': 0.03325290489266958, 'colsample_bytree': 0.35223699343396625, 'subsample': 0.6819503053036857}. Best is trial 341 with value: 0.8471760797342193.\n",
      "[I 2024-02-22 14:33:14,217] Trial 381 finished with value: 0.8268279274326553 and parameters: {'n_estimators': 442, 'learning_rate': 0.4997523247799944, 'max_depth': 12, 'alpha': 0.0054269392718169504, 'gamma': 0.0002631368889449947, 'reg_alpha': 0.24973583250379452, 'reg_lambda': 0.02787451639497941, 'colsample_bytree': 0.27793961807219053, 'subsample': 0.694203341943244}. Best is trial 341 with value: 0.8471760797342193.\n",
      "[I 2024-02-22 14:33:23,584] Trial 382 finished with value: 0.8405148293228876 and parameters: {'n_estimators': 384, 'learning_rate': 0.2187618933637759, 'max_depth': 13, 'alpha': 0.00715667768265259, 'gamma': 0.00022985481744486108, 'reg_alpha': 0.20783590899815935, 'reg_lambda': 0.024870294099750723, 'colsample_bytree': 0.2522991203935111, 'subsample': 0.658733175300957}. Best is trial 341 with value: 0.8471760797342193.\n",
      "[I 2024-02-22 14:33:34,850] Trial 383 finished with value: 0.84 and parameters: {'n_estimators': 421, 'learning_rate': 0.2030214135329113, 'max_depth': 12, 'alpha': 0.0009334088776561134, 'gamma': 0.0003101478341254987, 'reg_alpha': 0.2248022326434689, 'reg_lambda': 0.03159290452562064, 'colsample_bytree': 0.37864098455605066, 'subsample': 0.6788680458864201}. Best is trial 341 with value: 0.8471760797342193.\n",
      "[I 2024-02-22 14:33:45,067] Trial 384 finished with value: 0.8405633802816901 and parameters: {'n_estimators': 370, 'learning_rate': 0.07014085914142337, 'max_depth': 12, 'alpha': 0.0010337929004078752, 'gamma': 0.0002539473442028392, 'reg_alpha': 0.18147401054292528, 'reg_lambda': 0.03930431271878464, 'colsample_bytree': 0.3324306331250765, 'subsample': 0.634574706221838}. Best is trial 341 with value: 0.8471760797342193.\n",
      "[I 2024-02-22 14:33:54,800] Trial 385 finished with value: 0.8387096774193548 and parameters: {'n_estimators': 401, 'learning_rate': 0.15565790351241687, 'max_depth': 11, 'alpha': 0.0008606472094726198, 'gamma': 0.0002879249527706192, 'reg_alpha': 0.8072148866617243, 'reg_lambda': 0.035164382241288254, 'colsample_bytree': 0.3190537258138778, 'subsample': 0.7015762796362675}. Best is trial 341 with value: 0.8471760797342193.\n",
      "[I 2024-02-22 14:34:02,877] Trial 386 finished with value: 0.8420467185761956 and parameters: {'n_estimators': 393, 'learning_rate': 0.2273489536940744, 'max_depth': 13, 'alpha': 0.006513621569221013, 'gamma': 0.00036406423501696025, 'reg_alpha': 0.2416816758102519, 'reg_lambda': 0.031224630255534874, 'colsample_bytree': 0.2922847655441909, 'subsample': 0.6724784251213756}. Best is trial 341 with value: 0.8471760797342193.\n",
      "[I 2024-02-22 14:34:13,635] Trial 387 finished with value: 0.8363028953229399 and parameters: {'n_estimators': 375, 'learning_rate': 0.23595666254201345, 'max_depth': 13, 'alpha': 0.006309862265919618, 'gamma': 0.00045016270308907404, 'reg_alpha': 0.23978859873144187, 'reg_lambda': 0.03394289142220483, 'colsample_bytree': 0.2973389988120031, 'subsample': 0.6785485328542655}. Best is trial 341 with value: 0.8471760797342193.\n",
      "[I 2024-02-22 14:34:22,554] Trial 388 finished with value: 0.838032061912659 and parameters: {'n_estimators': 345, 'learning_rate': 0.23394527074954555, 'max_depth': 12, 'alpha': 0.007062460980480378, 'gamma': 0.0003721360690253194, 'reg_alpha': 0.26593130025038325, 'reg_lambda': 0.03662554891591919, 'colsample_bytree': 0.30878386208365677, 'subsample': 0.7175022286103563}. Best is trial 341 with value: 0.8471760797342193.\n",
      "[I 2024-02-22 14:34:34,087] Trial 389 finished with value: 0.8344519015659956 and parameters: {'n_estimators': 397, 'learning_rate': 0.2149200715469661, 'max_depth': 13, 'alpha': 0.005121891193586796, 'gamma': 0.0004132501848699555, 'reg_alpha': 0.22595757954583578, 'reg_lambda': 0.028297670977711128, 'colsample_bytree': 0.28401105702479, 'subsample': 0.6953294312453561}. Best is trial 341 with value: 0.8471760797342193.\n",
      "[I 2024-02-22 14:34:44,129] Trial 390 finished with value: 0.8395335924486397 and parameters: {'n_estimators': 384, 'learning_rate': 0.22480139475003902, 'max_depth': 12, 'alpha': 0.004828415160217095, 'gamma': 0.00034723880903772287, 'reg_alpha': 0.24559175448767456, 'reg_lambda': 0.02354849260095526, 'colsample_bytree': 0.2709301522667543, 'subsample': 0.6681456257260779}. Best is trial 341 with value: 0.8471760797342193.\n",
      "[I 2024-02-22 14:34:52,714] Trial 391 finished with value: 0.8324986087924319 and parameters: {'n_estimators': 359, 'learning_rate': 0.22703949892141082, 'max_depth': 11, 'alpha': 0.0056825158793249834, 'gamma': 0.00032526397614535666, 'reg_alpha': 0.26305444425116686, 'reg_lambda': 0.0321031245515015, 'colsample_bytree': 0.3392018391245194, 'subsample': 0.5443608392883187}. Best is trial 341 with value: 0.8471760797342193.\n",
      "[I 2024-02-22 14:35:08,728] Trial 392 finished with value: 0.840223463687151 and parameters: {'n_estimators': 655, 'learning_rate': 0.17650702479559105, 'max_depth': 13, 'alpha': 0.006745702515815529, 'gamma': 0.00035782201259532733, 'reg_alpha': 0.4466029680553776, 'reg_lambda': 0.02940824686910274, 'colsample_bytree': 0.31898490012418734, 'subsample': 0.7118832420372557}. Best is trial 341 with value: 0.8471760797342193.\n",
      "[I 2024-02-22 14:35:20,362] Trial 393 finished with value: 0.8306496390893948 and parameters: {'n_estimators': 573, 'learning_rate': 0.24715060581622286, 'max_depth': 12, 'alpha': 0.007623175219996129, 'gamma': 0.0017756695260116404, 'reg_alpha': 0.20195894362266412, 'reg_lambda': 0.031367735482037425, 'colsample_bytree': 0.3605143464538427, 'subsample': 0.6829980930300821}. Best is trial 341 with value: 0.8471760797342193.\n",
      "[I 2024-02-22 14:35:28,804] Trial 394 finished with value: 0.8355408388520972 and parameters: {'n_estimators': 389, 'learning_rate': 0.3343648885934758, 'max_depth': 13, 'alpha': 0.006059722123207694, 'gamma': 0.00029858509458000873, 'reg_alpha': 0.8362382174913382, 'reg_lambda': 0.03398568998508309, 'colsample_bytree': 0.28927325516042995, 'subsample': 0.6248197987560118}. Best is trial 341 with value: 0.8471760797342193.\n",
      "[I 2024-02-22 14:35:39,354] Trial 395 finished with value: 0.8397115917914586 and parameters: {'n_estimators': 409, 'learning_rate': 0.20941456253552337, 'max_depth': 12, 'alpha': 0.006617201751638484, 'gamma': 0.000372905682610462, 'reg_alpha': 0.22347095002661516, 'reg_lambda': 0.025917982523450102, 'colsample_bytree': 0.3074598049814906, 'subsample': 0.6540073796070063}. Best is trial 341 with value: 0.8471760797342193.\n",
      "[I 2024-02-22 14:35:54,883] Trial 396 finished with value: 0.8450860632981676 and parameters: {'n_estimators': 621, 'learning_rate': 0.23383253928153272, 'max_depth': 13, 'alpha': 0.005184991335754259, 'gamma': 0.0003169958549862872, 'reg_alpha': 0.18595246094158904, 'reg_lambda': 0.038362734195010656, 'colsample_bytree': 0.3405034466672803, 'subsample': 0.6920850574539404}. Best is trial 341 with value: 0.8471760797342193.\n",
      "[I 2024-02-22 14:36:10,051] Trial 397 finished with value: 0.8380010982976387 and parameters: {'n_estimators': 679, 'learning_rate': 0.23743109140274415, 'max_depth': 13, 'alpha': 0.005326804252289888, 'gamma': 0.00032314870070308837, 'reg_alpha': 0.17621498084482187, 'reg_lambda': 0.03895216545893954, 'colsample_bytree': 0.2640879831474798, 'subsample': 0.48200102030862957}. Best is trial 341 with value: 0.8471760797342193.\n",
      "[I 2024-02-22 14:36:21,067] Trial 398 finished with value: 0.8081676518001075 and parameters: {'n_estimators': 626, 'learning_rate': 0.23952682923219681, 'max_depth': 13, 'alpha': 0.004394663087758353, 'gamma': 0.00033707259967821675, 'reg_alpha': 0.20965236456359296, 'reg_lambda': 0.03689891331633853, 'colsample_bytree': 0.3468852123368331, 'subsample': 0.12179738897029463}. Best is trial 341 with value: 0.8471760797342193.\n",
      "[I 2024-02-22 14:36:38,154] Trial 399 finished with value: 0.829728230726567 and parameters: {'n_estimators': 638, 'learning_rate': 0.25543703962213515, 'max_depth': 13, 'alpha': 0.0007439430529676209, 'gamma': 0.00039545643045101015, 'reg_alpha': 0.18478550446963674, 'reg_lambda': 0.03849629574484539, 'colsample_bytree': 0.37102494010933196, 'subsample': 0.6935269190364434}. Best is trial 341 with value: 0.8471760797342193.\n",
      "[I 2024-02-22 14:36:50,910] Trial 400 finished with value: 0.8353726362625139 and parameters: {'n_estimators': 618, 'learning_rate': 0.22922981808605444, 'max_depth': 13, 'alpha': 0.005154492616951042, 'gamma': 0.0003011516382664629, 'reg_alpha': 0.8730897009806633, 'reg_lambda': 0.03552515155909659, 'colsample_bytree': 0.29390090444498296, 'subsample': 0.6728474248686086}. Best is trial 341 with value: 0.8471760797342193.\n",
      "[I 2024-02-22 14:37:02,666] Trial 401 finished with value: 0.8417545807884509 and parameters: {'n_estimators': 593, 'learning_rate': 0.2208616097821594, 'max_depth': 13, 'alpha': 0.0001020845253951958, 'gamma': 0.0002736811575426409, 'reg_alpha': 0.15834331597238643, 'reg_lambda': 0.041038019366981426, 'colsample_bytree': 0.24958505103802192, 'subsample': 0.6529831506376422}. Best is trial 341 with value: 0.8471760797342193.\n",
      "[I 2024-02-22 14:37:16,509] Trial 402 finished with value: 0.8333333333333333 and parameters: {'n_estimators': 577, 'learning_rate': 0.24742331053280725, 'max_depth': 13, 'alpha': 0.004722229857524955, 'gamma': 0.0003474690362747734, 'reg_alpha': 0.1902992694037681, 'reg_lambda': 0.04073603701067101, 'colsample_bytree': 0.4159482495478095, 'subsample': 0.6771057190596685}. Best is trial 341 with value: 0.8471760797342193.\n",
      "[I 2024-02-22 14:37:29,067] Trial 403 finished with value: 0.8402699662542183 and parameters: {'n_estimators': 608, 'learning_rate': 0.2186608156245753, 'max_depth': 13, 'alpha': 0.0009957670394232475, 'gamma': 0.00039067743439623125, 'reg_alpha': 0.2452387322620326, 'reg_lambda': 0.0384398280005469, 'colsample_bytree': 0.19611093717292694, 'subsample': 0.6953909099469044}. Best is trial 341 with value: 0.8471760797342193.\n",
      "[I 2024-02-22 14:37:46,278] Trial 404 finished with value: 0.8418708240534521 and parameters: {'n_estimators': 650, 'learning_rate': 0.2057517054690874, 'max_depth': 12, 'alpha': 0.004029025153039684, 'gamma': 0.0005161742369204905, 'reg_alpha': 0.26936822160270263, 'reg_lambda': 0.02169814436803051, 'colsample_bytree': 0.22870511939217134, 'subsample': 0.6290476003793594}. Best is trial 341 with value: 0.8471760797342193.\n",
      "[I 2024-02-22 14:38:00,858] Trial 405 finished with value: 0.833241607044579 and parameters: {'n_estimators': 620, 'learning_rate': 0.2288687172064719, 'max_depth': 13, 'alpha': 0.008426812751861029, 'gamma': 0.00028362185171812367, 'reg_alpha': 0.18816170839341964, 'reg_lambda': 0.034723793054565966, 'colsample_bytree': 0.2742035674256433, 'subsample': 0.41693800273911497}. Best is trial 341 with value: 0.8471760797342193.\n",
      "[I 2024-02-22 14:38:13,572] Trial 406 finished with value: 0.8370535714285714 and parameters: {'n_estimators': 559, 'learning_rate': 0.19998681574159444, 'max_depth': 12, 'alpha': 0.0001093958063617885, 'gamma': 0.0001937689721730031, 'reg_alpha': 0.16875219598625116, 'reg_lambda': 0.03761585768469492, 'colsample_bytree': 0.31588450861735506, 'subsample': 0.6622836797708977}. Best is trial 341 with value: 0.8471760797342193.\n",
      "[I 2024-02-22 14:38:27,886] Trial 407 finished with value: 0.8431480462300495 and parameters: {'n_estimators': 632, 'learning_rate': 0.21282982409518478, 'max_depth': 11, 'alpha': 0.0007337431383646661, 'gamma': 0.001540028001011891, 'reg_alpha': 0.24389441129346662, 'reg_lambda': 0.033509258625976354, 'colsample_bytree': 0.34280423215286326, 'subsample': 0.6421141820199052}. Best is trial 341 with value: 0.8471760797342193.\n",
      "[I 2024-02-22 14:38:42,815] Trial 408 finished with value: 0.8411732152739347 and parameters: {'n_estimators': 666, 'learning_rate': 0.2123765985350657, 'max_depth': 11, 'alpha': 0.0007973018552503779, 'gamma': 0.0015197686575587346, 'reg_alpha': 0.24271307657270247, 'reg_lambda': 0.03287255059031661, 'colsample_bytree': 0.34408252984363463, 'subsample': 0.6427385325261711}. Best is trial 341 with value: 0.8471760797342193.\n",
      "[I 2024-02-22 14:38:58,546] Trial 409 finished with value: 0.8390677025527192 and parameters: {'n_estimators': 634, 'learning_rate': 0.2066778678354645, 'max_depth': 12, 'alpha': 0.0007260606372000598, 'gamma': 0.0020061543958322303, 'reg_alpha': 0.21181688713562377, 'reg_lambda': 0.035574060521410135, 'colsample_bytree': 0.3544605405138924, 'subsample': 0.6166476345047447}. Best is trial 341 with value: 0.8471760797342193.\n",
      "[I 2024-02-22 14:39:16,290] Trial 410 finished with value: 0.8308374930671104 and parameters: {'n_estimators': 649, 'learning_rate': 0.19282388381376717, 'max_depth': 13, 'alpha': 0.0007032788059407357, 'gamma': 0.0016558815487306658, 'reg_alpha': 0.2542621680740839, 'reg_lambda': 0.03365437301415742, 'colsample_bytree': 0.38355034163061696, 'subsample': 0.6464826438607056}. Best is trial 341 with value: 0.8471760797342193.\n",
      "[I 2024-02-22 14:39:30,702] Trial 411 finished with value: 0.8360022087244616 and parameters: {'n_estimators': 584, 'learning_rate': 0.21586735110391211, 'max_depth': 12, 'alpha': 0.0008367683914004549, 'gamma': 0.0015327018841144397, 'reg_alpha': 0.23298089162059687, 'reg_lambda': 0.03648259703794937, 'colsample_bytree': 0.3962479213875673, 'subsample': 0.6322656661725728}. Best is trial 341 with value: 0.8471760797342193.\n",
      "[I 2024-02-22 14:39:38,654] Trial 412 finished with value: 0.8247191011235955 and parameters: {'n_estimators': 990, 'learning_rate': 0.19988787819415244, 'max_depth': 3, 'alpha': 0.0006706638433368267, 'gamma': 0.00030200755077762064, 'reg_alpha': 0.21834198222964174, 'reg_lambda': 0.03059656789991234, 'colsample_bytree': 0.33062818518427045, 'subsample': 0.6675670402349431}. Best is trial 341 with value: 0.8471760797342193.\n",
      "[I 2024-02-22 14:39:53,106] Trial 413 finished with value: 0.8311977715877438 and parameters: {'n_estimators': 623, 'learning_rate': 0.18328303853859004, 'max_depth': 11, 'alpha': 0.0006282557768107262, 'gamma': 0.0017826360718430428, 'reg_alpha': 0.2693055162376696, 'reg_lambda': 0.027398887809567375, 'colsample_bytree': 0.3639520353633132, 'subsample': 0.5223829403226072}. Best is trial 341 with value: 0.8471760797342193.\n",
      "[I 2024-02-22 14:40:08,472] Trial 414 finished with value: 0.8329621380846326 and parameters: {'n_estimators': 671, 'learning_rate': 0.1906474014749176, 'max_depth': 13, 'alpha': 0.004943775512425881, 'gamma': 0.0003175167753152595, 'reg_alpha': 0.19518315789286095, 'reg_lambda': 0.0293677352582719, 'colsample_bytree': 0.29532850244666997, 'subsample': 0.39734560908425287}. Best is trial 341 with value: 0.8471760797342193.\n",
      "[I 2024-02-22 14:40:21,903] Trial 415 finished with value: 0.8369504730105731 and parameters: {'n_estimators': 596, 'learning_rate': 0.20638484718825353, 'max_depth': 13, 'alpha': 0.007786297625529764, 'gamma': 0.0014533911344784373, 'reg_alpha': 0.9654095631681574, 'reg_lambda': 0.07336759219329837, 'colsample_bytree': 0.31894885022614056, 'subsample': 0.7606550224910261}. Best is trial 341 with value: 0.8471760797342193.\n",
      "[I 2024-02-22 14:40:36,900] Trial 416 finished with value: 0.844248761695102 and parameters: {'n_estimators': 644, 'learning_rate': 0.22041735388235478, 'max_depth': 12, 'alpha': 0.003304337108390409, 'gamma': 0.0002178686799636622, 'reg_alpha': 0.15536594598730757, 'reg_lambda': 0.033555943360469395, 'colsample_bytree': 0.2998838947543611, 'subsample': 0.6168504170273647}. Best is trial 341 with value: 0.8471760797342193.\n",
      "[I 2024-02-22 14:40:49,181] Trial 417 finished with value: 0.8348978464936498 and parameters: {'n_estimators': 640, 'learning_rate': 0.21671932705895958, 'max_depth': 11, 'alpha': 0.004523887405002882, 'gamma': 0.00020801175356891294, 'reg_alpha': 0.15216899848546955, 'reg_lambda': 0.03449055308596539, 'colsample_bytree': 0.3398763025612893, 'subsample': 0.5942654122304111}. Best is trial 341 with value: 0.8471760797342193.\n",
      "[I 2024-02-22 14:41:03,627] Trial 418 finished with value: 0.8436807095343681 and parameters: {'n_estimators': 650, 'learning_rate': 0.19594227508779094, 'max_depth': 12, 'alpha': 0.002260983536365221, 'gamma': 0.000191990153755143, 'reg_alpha': 0.16508771710978087, 'reg_lambda': 0.039737513228086954, 'colsample_bytree': 0.30849642304723884, 'subsample': 0.6264746963402505}. Best is trial 341 with value: 0.8471760797342193.\n",
      "[I 2024-02-22 14:41:17,645] Trial 419 finished with value: 0.8373893805309734 and parameters: {'n_estimators': 670, 'learning_rate': 0.3416383834438617, 'max_depth': 12, 'alpha': 0.0033818248469879237, 'gamma': 0.00020292966853864604, 'reg_alpha': 0.16416334977728905, 'reg_lambda': 0.036497353136666716, 'colsample_bytree': 0.30939657280340255, 'subsample': 0.5808425311677136}. Best is trial 341 with value: 0.8471760797342193.\n",
      "[I 2024-02-22 14:41:33,115] Trial 420 finished with value: 0.8384955752212389 and parameters: {'n_estimators': 661, 'learning_rate': 0.2018705871539607, 'max_depth': 12, 'alpha': 0.002890540918285928, 'gamma': 0.00018739986002823123, 'reg_alpha': 0.16193692249492883, 'reg_lambda': 0.03791371817622265, 'colsample_bytree': 0.32697403740654246, 'subsample': 0.616349550499041}. Best is trial 341 with value: 0.8471760797342193.\n",
      "[I 2024-02-22 14:41:51,237] Trial 421 finished with value: 0.8409854423292272 and parameters: {'n_estimators': 696, 'learning_rate': 0.057582533768607835, 'max_depth': 12, 'alpha': 0.0037803541417538175, 'gamma': 0.00022232835990846825, 'reg_alpha': 0.14732180849871185, 'reg_lambda': 0.03435334828312317, 'colsample_bytree': 0.27977955674576965, 'subsample': 0.6198870701343023}. Best is trial 341 with value: 0.8471760797342193.\n",
      "[I 2024-02-22 14:42:04,583] Trial 422 finished with value: 0.8404196576477084 and parameters: {'n_estimators': 648, 'learning_rate': 0.2109808828439147, 'max_depth': 11, 'alpha': 0.0018437336567353857, 'gamma': 0.00016773609477188512, 'reg_alpha': 0.17351377548848212, 'reg_lambda': 0.03987099232947814, 'colsample_bytree': 0.3524069147857365, 'subsample': 0.5968030610248828}. Best is trial 341 with value: 0.8471760797342193.\n",
      "[I 2024-02-22 14:42:20,967] Trial 423 finished with value: 0.8370288248337029 and parameters: {'n_estimators': 624, 'learning_rate': 0.19519867931860108, 'max_depth': 12, 'alpha': 0.0022533434610350032, 'gamma': 0.00023099054961943087, 'reg_alpha': 0.1770921584419779, 'reg_lambda': 0.03291496552615491, 'colsample_bytree': 0.3062740407040686, 'subsample': 0.6318887528933542}. Best is trial 341 with value: 0.8471760797342193.\n",
      "[I 2024-02-22 14:42:38,244] Trial 424 finished with value: 0.839492553778268 and parameters: {'n_estimators': 642, 'learning_rate': 0.18394494569271747, 'max_depth': 12, 'alpha': 0.001734434183678202, 'gamma': 0.00919439030344624, 'reg_alpha': 0.13263676445073153, 'reg_lambda': 0.02422876383123966, 'colsample_bytree': 0.337778171912418, 'subsample': 0.6090248769421843}. Best is trial 341 with value: 0.8471760797342193.\n",
      "[I 2024-02-22 14:42:54,018] Trial 425 finished with value: 0.8400447427293064 and parameters: {'n_estimators': 606, 'learning_rate': 0.21927651071050838, 'max_depth': 12, 'alpha': 0.0034425028933276953, 'gamma': 0.00018610646917990514, 'reg_alpha': 0.15194144815861724, 'reg_lambda': 0.03580462677483961, 'colsample_bytree': 0.380493948518985, 'subsample': 0.6419989310028088}. Best is trial 341 with value: 0.8471760797342193.\n",
      "[I 2024-02-22 14:43:09,930] Trial 426 finished with value: 0.8402432283029297 and parameters: {'n_estimators': 685, 'learning_rate': 0.20257527860094304, 'max_depth': 11, 'alpha': 0.004420153539532318, 'gamma': 0.00021437494913694642, 'reg_alpha': 0.19993166900950532, 'reg_lambda': 0.020962419330491377, 'colsample_bytree': 0.30418312367828126, 'subsample': 0.6240034505640644}. Best is trial 341 with value: 0.8471760797342193.\n",
      "[I 2024-02-22 14:43:16,889] Trial 427 finished with value: 0.8301462317210349 and parameters: {'n_estimators': 630, 'learning_rate': 0.2121523666162467, 'max_depth': 4, 'alpha': 0.002434171263327165, 'gamma': 0.0001694950503418555, 'reg_alpha': 0.14058278295815813, 'reg_lambda': 0.03266966543825948, 'colsample_bytree': 0.26340848342288165, 'subsample': 0.5535658517084695}. Best is trial 341 with value: 0.8471760797342193.\n",
      "[I 2024-02-22 14:43:30,091] Trial 428 finished with value: 0.8383561643835618 and parameters: {'n_estimators': 622, 'learning_rate': 0.3262779212916694, 'max_depth': 10, 'alpha': 0.004086669557564421, 'gamma': 0.00023655806128732292, 'reg_alpha': 0.17650601150897638, 'reg_lambda': 0.038011313501971955, 'colsample_bytree': 0.3274617792473326, 'subsample': 0.6522000208855947}. Best is trial 341 with value: 0.8471760797342193.\n",
      "[I 2024-02-22 14:43:40,884] Trial 429 finished with value: 0.8359201773835921 and parameters: {'n_estimators': 655, 'learning_rate': 0.1910878632689536, 'max_depth': 6, 'alpha': 0.0031576762360000393, 'gamma': 0.0002641966744476819, 'reg_alpha': 0.9024059600517744, 'reg_lambda': 0.033394700386713286, 'colsample_bytree': 0.28548662769559063, 'subsample': 0.6080007387586132}. Best is trial 341 with value: 0.8471760797342193.\n",
      "[I 2024-02-22 14:43:57,199] Trial 430 finished with value: 0.8402893711741791 and parameters: {'n_estimators': 607, 'learning_rate': 0.22399457694845504, 'max_depth': 13, 'alpha': 0.0021316078820814723, 'gamma': 0.0002116903949744318, 'reg_alpha': 0.1902102925927377, 'reg_lambda': 0.01932468509506167, 'colsample_bytree': 0.3171591021731858, 'subsample': 0.6551907270164472}. Best is trial 341 with value: 0.8471760797342193.\n",
      "[I 2024-02-22 14:44:12,377] Trial 431 finished with value: 0.8430939226519336 and parameters: {'n_estimators': 644, 'learning_rate': 0.18234621662854955, 'max_depth': 12, 'alpha': 0.00011605213642783803, 'gamma': 0.0002752142594693969, 'reg_alpha': 0.1552034696444672, 'reg_lambda': 0.03511407482956564, 'colsample_bytree': 0.2610770493127318, 'subsample': 0.5657194437987301}. Best is trial 341 with value: 0.8471760797342193.\n",
      "[I 2024-02-22 14:44:29,528] Trial 432 finished with value: 0.8394241417497231 and parameters: {'n_estimators': 664, 'learning_rate': 0.20084529133369822, 'max_depth': 13, 'alpha': 0.0026780870369444635, 'gamma': 0.00024059657969547002, 'reg_alpha': 0.13279075615437652, 'reg_lambda': 0.0367844357285299, 'colsample_bytree': 0.25355155901348425, 'subsample': 0.5409207923874254}. Best is trial 341 with value: 0.8471760797342193.\n",
      "[I 2024-02-22 14:44:46,787] Trial 433 finished with value: 0.8327645051194539 and parameters: {'n_estimators': 640, 'learning_rate': 0.03147068332932933, 'max_depth': 12, 'alpha': 0.00011884478714938665, 'gamma': 0.00027268945585238877, 'reg_alpha': 0.162141749059877, 'reg_lambda': 0.039405868245843065, 'colsample_bytree': 0.2650022860040085, 'subsample': 0.5750012352932028}. Best is trial 341 with value: 0.8471760797342193.\n",
      "[I 2024-02-22 14:45:04,395] Trial 434 finished with value: 0.8386740331491712 and parameters: {'n_estimators': 716, 'learning_rate': 0.1867248218906317, 'max_depth': 13, 'alpha': 0.00011431400786308559, 'gamma': 0.000140267656783381, 'reg_alpha': 0.15010461905832664, 'reg_lambda': 0.0353022869971022, 'colsample_bytree': 0.2363707727313759, 'subsample': 0.5744255595212412}. Best is trial 341 with value: 0.8471760797342193.\n",
      "[I 2024-02-22 14:45:20,487] Trial 435 finished with value: 0.8355555555555555 and parameters: {'n_estimators': 673, 'learning_rate': 0.20696889645533117, 'max_depth': 12, 'alpha': 0.0001290769316416664, 'gamma': 0.00018740509138288807, 'reg_alpha': 0.12748655879457146, 'reg_lambda': 0.034031231204390326, 'colsample_bytree': 0.24465349221524646, 'subsample': 0.5941743691286231}. Best is trial 341 with value: 0.8471760797342193.\n",
      "[I 2024-02-22 14:45:36,468] Trial 436 finished with value: 0.8389596015495296 and parameters: {'n_estimators': 649, 'learning_rate': 0.21592473360174103, 'max_depth': 13, 'alpha': 0.00010011089126966068, 'gamma': 0.00023755759969158285, 'reg_alpha': 0.16735964407486115, 'reg_lambda': 0.0381843826798384, 'colsample_bytree': 0.366463739193423, 'subsample': 0.5606900499266463}. Best is trial 341 with value: 0.8471760797342193.\n",
      "[I 2024-02-22 14:45:51,344] Trial 437 finished with value: 0.8385674931129478 and parameters: {'n_estimators': 626, 'learning_rate': 0.1951427578648123, 'max_depth': 11, 'alpha': 0.0007357228601859, 'gamma': 0.00015341030257612408, 'reg_alpha': 0.14377293970362104, 'reg_lambda': 0.036683962777914775, 'colsample_bytree': 0.2761673922890757, 'subsample': 0.6321068508340406}. Best is trial 341 with value: 0.8471760797342193.\n",
      "[I 2024-02-22 14:46:06,486] Trial 438 finished with value: 0.8404196576477084 and parameters: {'n_estimators': 588, 'learning_rate': 0.17346246095332635, 'max_depth': 12, 'alpha': 0.00010920124431279603, 'gamma': 0.0002666590721066016, 'reg_alpha': 0.10008363675905607, 'reg_lambda': 0.02276381312921336, 'colsample_bytree': 0.3450121361424625, 'subsample': 0.4584930471817449}. Best is trial 341 with value: 0.8471760797342193.\n",
      "[I 2024-02-22 14:46:19,368] Trial 439 finished with value: 0.8422222222222222 and parameters: {'n_estimators': 635, 'learning_rate': 0.22789223414465876, 'max_depth': 13, 'alpha': 0.00011637801181756768, 'gamma': 0.00022222228733880518, 'reg_alpha': 0.17489148963490259, 'reg_lambda': 0.035032852836767825, 'colsample_bytree': 0.26053066435290145, 'subsample': 0.49793549969615336}. Best is trial 341 with value: 0.8471760797342193.\n",
      "[I 2024-02-22 14:46:35,447] Trial 440 finished with value: 0.8470066518847006 and parameters: {'n_estimators': 684, 'learning_rate': 0.20526847163763384, 'max_depth': 12, 'alpha': 0.00013358347746607487, 'gamma': 0.001676782677898385, 'reg_alpha': 0.16231869659045112, 'reg_lambda': 0.03236426617287232, 'colsample_bytree': 0.3238853323745553, 'subsample': 0.6040999447874909}. Best is trial 341 with value: 0.8471760797342193.\n",
      "[I 2024-02-22 14:46:53,424] Trial 441 finished with value: 0.8383167220376523 and parameters: {'n_estimators': 695, 'learning_rate': 0.18539062103750217, 'max_depth': 13, 'alpha': 0.0001320715482430321, 'gamma': 0.0017798481838094521, 'reg_alpha': 0.15548152213090674, 'reg_lambda': 0.03194683327777295, 'colsample_bytree': 0.3145390959265351, 'subsample': 0.588464725230195}. Best is trial 341 with value: 0.8471760797342193.\n",
      "[I 2024-02-22 14:47:10,321] Trial 442 finished with value: 0.837852794687327 and parameters: {'n_estimators': 682, 'learning_rate': 0.19666927653802985, 'max_depth': 14, 'alpha': 0.00014716293107109818, 'gamma': 0.0016244823464390229, 'reg_alpha': 0.1863772428125853, 'reg_lambda': 0.03248908809524682, 'colsample_bytree': 0.33630017137296675, 'subsample': 0.6122464341478807}. Best is trial 341 with value: 0.8471760797342193.\n",
      "[I 2024-02-22 14:47:28,103] Trial 443 finished with value: 0.8375411635565312 and parameters: {'n_estimators': 685, 'learning_rate': 0.2044569026683928, 'max_depth': 12, 'alpha': 0.0001166696782440316, 'gamma': 0.00028360491078480436, 'reg_alpha': 0.15737474037972288, 'reg_lambda': 0.03468207712079821, 'colsample_bytree': 0.35840183327282854, 'subsample': 0.5662679279378975}. Best is trial 341 with value: 0.8471760797342193.\n",
      "[I 2024-02-22 14:47:44,321] Trial 444 finished with value: 0.8303964757709251 and parameters: {'n_estimators': 665, 'learning_rate': 0.35142023770853575, 'max_depth': 13, 'alpha': 0.0001371221700688507, 'gamma': 0.0002651392407422029, 'reg_alpha': 0.19000239696792628, 'reg_lambda': 0.030603117594941477, 'colsample_bytree': 0.296607197168978, 'subsample': 0.6061648156019309}. Best is trial 341 with value: 0.8471760797342193.\n",
      "[I 2024-02-22 14:47:56,537] Trial 445 finished with value: 0.8382434685936632 and parameters: {'n_estimators': 569, 'learning_rate': 0.18027678999185406, 'max_depth': 12, 'alpha': 0.0001583945095893218, 'gamma': 0.0019213361223294938, 'reg_alpha': 0.1321070081895311, 'reg_lambda': 0.03324967517804456, 'colsample_bytree': 0.31874761985223704, 'subsample': 0.5966634670565661}. Best is trial 341 with value: 0.8471760797342193.\n",
      "[I 2024-02-22 14:48:14,514] Trial 446 finished with value: 0.8352617079889807 and parameters: {'n_estimators': 704, 'learning_rate': 0.19320456804084143, 'max_depth': 11, 'alpha': 0.00012696249640119556, 'gamma': 0.00020493431898824013, 'reg_alpha': 0.19484817886754474, 'reg_lambda': 0.040155430709124716, 'colsample_bytree': 0.3364850047574901, 'subsample': 0.6205481915954777}. Best is trial 341 with value: 0.8471760797342193.\n",
      "[I 2024-02-22 14:48:33,999] Trial 447 finished with value: 0.8379272326350607 and parameters: {'n_estimators': 723, 'learning_rate': 0.21971364965699544, 'max_depth': 13, 'alpha': 0.00010656285161470784, 'gamma': 0.00025239289968171177, 'reg_alpha': 0.16967723202607013, 'reg_lambda': 0.036132518806623534, 'colsample_bytree': 0.27733492756874917, 'subsample': 0.5793484807703692}. Best is trial 341 with value: 0.8471760797342193.\n",
      "[I 2024-02-22 14:48:44,932] Trial 448 finished with value: 0.8368479467258602 and parameters: {'n_estimators': 342, 'learning_rate': 0.2082265838570446, 'max_depth': 14, 'alpha': 0.0008342878364640419, 'gamma': 0.002279966743334456, 'reg_alpha': 0.1187223819848078, 'reg_lambda': 0.031326944188653935, 'colsample_bytree': 0.39119728921209973, 'subsample': 0.6391361228046608}. Best is trial 341 with value: 0.8471760797342193.\n",
      "[I 2024-02-22 14:49:03,237] Trial 449 finished with value: 0.8368479467258602 and parameters: {'n_estimators': 737, 'learning_rate': 0.1701129947152371, 'max_depth': 12, 'alpha': 0.0036067032660777455, 'gamma': 0.0002958907184679674, 'reg_alpha': 0.9421736312967488, 'reg_lambda': 0.03358190275682676, 'colsample_bytree': 0.30214693738403897, 'subsample': 0.6208419222809631}. Best is trial 341 with value: 0.8471760797342193.\n",
      "[I 2024-02-22 14:49:21,590] Trial 450 finished with value: 0.8423973362930078 and parameters: {'n_estimators': 654, 'learning_rate': 0.23736417922258418, 'max_depth': 13, 'alpha': 0.00013902502848592724, 'gamma': 0.0013939997171175142, 'reg_alpha': 0.14256228275941543, 'reg_lambda': 0.02828723000168003, 'colsample_bytree': 0.3708844277658257, 'subsample': 0.5953873541732078}. Best is trial 341 with value: 0.8471760797342193.\n",
      "[I 2024-02-22 14:49:37,242] Trial 451 finished with value: 0.8412874583795781 and parameters: {'n_estimators': 681, 'learning_rate': 0.23942548795791135, 'max_depth': 12, 'alpha': 0.00013372557116288807, 'gamma': 0.00021780306131597693, 'reg_alpha': 0.14455789580016448, 'reg_lambda': 0.027019315447017512, 'colsample_bytree': 0.37338755367284515, 'subsample': 0.5530349835069045}. Best is trial 341 with value: 0.8471760797342193.\n",
      "[I 2024-02-22 14:49:54,538] Trial 452 finished with value: 0.8331491712707182 and parameters: {'n_estimators': 659, 'learning_rate': 0.24816298632050143, 'max_depth': 13, 'alpha': 0.0016239930192280278, 'gamma': 0.0002936587549098377, 'reg_alpha': 0.13371467209316917, 'reg_lambda': 0.027538814529577293, 'colsample_bytree': 0.3495889262368463, 'subsample': 0.5826764999203097}. Best is trial 341 with value: 0.8471760797342193.\n",
      "[I 2024-02-22 14:50:11,771] Trial 453 finished with value: 0.8397543271915132 and parameters: {'n_estimators': 653, 'learning_rate': 0.1842373560459393, 'max_depth': 13, 'alpha': 0.0001491117509219734, 'gamma': 0.00024140325841986925, 'reg_alpha': 0.17497222210440022, 'reg_lambda': 0.029698311945456926, 'colsample_bytree': 0.37100270469918956, 'subsample': 0.5970516490881841}. Best is trial 341 with value: 0.8471760797342193.\n",
      "[I 2024-02-22 14:50:21,594] Trial 454 finished with value: 0.8394241417497231 and parameters: {'n_estimators': 366, 'learning_rate': 0.22282338127357476, 'max_depth': 12, 'alpha': 0.0019591363018779295, 'gamma': 0.00019767012187328766, 'reg_alpha': 0.1550146611984225, 'reg_lambda': 0.030033194051963853, 'colsample_bytree': 0.35697156450833967, 'subsample': 0.5737686124647994}. Best is trial 341 with value: 0.8471760797342193.\n",
      "[I 2024-02-22 14:50:39,401] Trial 455 finished with value: 0.8330560177481975 and parameters: {'n_estimators': 668, 'learning_rate': 0.23611654685444053, 'max_depth': 11, 'alpha': 0.00013463839303800798, 'gamma': 0.0014245422586345916, 'reg_alpha': 0.20798778025611467, 'reg_lambda': 0.025722946958535158, 'colsample_bytree': 0.41484160714517004, 'subsample': 0.6073478335516584}. Best is trial 341 with value: 0.8471760797342193.\n",
      "[I 2024-02-22 14:50:53,810] Trial 456 finished with value: 0.8370288248337029 and parameters: {'n_estimators': 640, 'learning_rate': 0.19589730360611993, 'max_depth': 14, 'alpha': 0.0001716817839599174, 'gamma': 0.000332817043583407, 'reg_alpha': 0.12202491850503581, 'reg_lambda': 0.028681020551118756, 'colsample_bytree': 0.3305590968134797, 'subsample': 0.5242288013648845}. Best is trial 341 with value: 0.8471760797342193.\n",
      "[I 2024-02-22 14:50:58,526] Trial 457 finished with value: 0.837883008356546 and parameters: {'n_estimators': 210, 'learning_rate': 0.2302565106071487, 'max_depth': 12, 'alpha': 0.0001239184793806822, 'gamma': 0.0002668698120017131, 'reg_alpha': 0.14615858305384524, 'reg_lambda': 0.03189151233079889, 'colsample_bytree': 0.31968416125728866, 'subsample': 0.5948048753254138}. Best is trial 341 with value: 0.8471760797342193.\n",
      "[I 2024-02-22 14:51:09,629] Trial 458 finished with value: 0.8344370860927152 and parameters: {'n_estimators': 707, 'learning_rate': 0.17582742390264303, 'max_depth': 8, 'alpha': 0.00012087312118570204, 'gamma': 0.00023687778890413552, 'reg_alpha': 0.7810729918706009, 'reg_lambda': 0.037261004730536354, 'colsample_bytree': 0.34407740660438746, 'subsample': 0.6262339161257094}. Best is trial 341 with value: 0.8471760797342193.\n",
      "[I 2024-02-22 14:51:14,255] Trial 459 finished with value: 0.8214285714285715 and parameters: {'n_estimators': 352, 'learning_rate': 0.18735706979194997, 'max_depth': 5, 'alpha': 0.0001077638269788684, 'gamma': 0.0001807013320505547, 'reg_alpha': 0.16868159151848056, 'reg_lambda': 0.03501022373805364, 'colsample_bytree': 0.38946755638579267, 'subsample': 0.6132831091884905}. Best is trial 341 with value: 0.8471760797342193.\n",
      "[I 2024-02-22 14:51:28,671] Trial 460 finished with value: 0.8326891220320265 and parameters: {'n_estimators': 601, 'learning_rate': 0.2028407614544799, 'max_depth': 13, 'alpha': 0.00014281912405085837, 'gamma': 0.00015510757682091512, 'reg_alpha': 0.19136910875470112, 'reg_lambda': 0.021054842099518942, 'colsample_bytree': 0.2892740447437737, 'subsample': 0.4357297298312745}. Best is trial 341 with value: 0.8471760797342193.\n",
      "[I 2024-02-22 14:51:40,607] Trial 461 finished with value: 0.8330560177481975 and parameters: {'n_estimators': 556, 'learning_rate': 0.25190206163645973, 'max_depth': 13, 'alpha': 0.0009069174790475827, 'gamma': 0.00029711647033223707, 'reg_alpha': 0.42684782044837855, 'reg_lambda': 0.023861046856836435, 'colsample_bytree': 0.36420033781568384, 'subsample': 0.570417587840355}. Best is trial 341 with value: 0.8471760797342193.\n",
      "[I 2024-02-22 14:51:55,834] Trial 462 finished with value: 0.8336079077429984 and parameters: {'n_estimators': 650, 'learning_rate': 0.21232403624708057, 'max_depth': 12, 'alpha': 0.0010922120124382498, 'gamma': 0.001610329837370239, 'reg_alpha': 0.10908934461499309, 'reg_lambda': 0.03296713475765091, 'colsample_bytree': 0.5895859450335471, 'subsample': 0.6335664831065895}. Best is trial 341 with value: 0.8471760797342193.\n",
      "[I 2024-02-22 14:52:11,621] Trial 463 finished with value: 0.8392461197339246 and parameters: {'n_estimators': 834, 'learning_rate': 0.16402686347051923, 'max_depth': 14, 'alpha': 0.0007699582443930992, 'gamma': 0.000218002074983191, 'reg_alpha': 0.3985939545717815, 'reg_lambda': 0.031010958661424698, 'colsample_bytree': 0.3091399563724104, 'subsample': 0.5494672995114792}. Best is trial 341 with value: 0.8471760797342193.\n",
      "[I 2024-02-22 14:52:18,491] Trial 464 finished with value: 0.8461965574680732 and parameters: {'n_estimators': 329, 'learning_rate': 0.19262408956027827, 'max_depth': 11, 'alpha': 0.0001917161549663543, 'gamma': 0.0003206927643479262, 'reg_alpha': 0.16026554117734884, 'reg_lambda': 0.04109913300225277, 'colsample_bytree': 0.32816933730474696, 'subsample': 0.7384821808032266}. Best is trial 341 with value: 0.8471760797342193.\n",
      "[I 2024-02-22 14:52:25,415] Trial 465 finished with value: 0.8441486411536329 and parameters: {'n_estimators': 334, 'learning_rate': 0.17954608631502258, 'max_depth': 10, 'alpha': 0.0001842861306107237, 'gamma': 0.00033623351653444143, 'reg_alpha': 0.14776979104608184, 'reg_lambda': 0.037845874342713005, 'colsample_bytree': 0.32982390613713947, 'subsample': 0.7572152015604516}. Best is trial 341 with value: 0.8471760797342193.\n",
      "[I 2024-02-22 14:52:31,408] Trial 466 finished with value: 0.8364849833147942 and parameters: {'n_estimators': 333, 'learning_rate': 0.17697536547742018, 'max_depth': 10, 'alpha': 0.00015332207431841352, 'gamma': 0.00034099420590960074, 'reg_alpha': 0.13863152935873263, 'reg_lambda': 0.03988544201388932, 'colsample_bytree': 0.3463572046537874, 'subsample': 0.7776331631013451}. Best is trial 341 with value: 0.8471760797342193.\n",
      "[I 2024-02-22 14:52:39,176] Trial 467 finished with value: 0.8392857142857142 and parameters: {'n_estimators': 312, 'learning_rate': 0.17268826958988015, 'max_depth': 10, 'alpha': 0.00016784893756140878, 'gamma': 0.00040074168890265696, 'reg_alpha': 0.16291401810670214, 'reg_lambda': 0.03952661414181604, 'colsample_bytree': 0.32861099849233055, 'subsample': 0.7584248589153815}. Best is trial 341 with value: 0.8471760797342193.\n",
      "[I 2024-02-22 14:52:44,283] Trial 468 finished with value: 0.8433333333333335 and parameters: {'n_estimators': 323, 'learning_rate': 0.16101064262191395, 'max_depth': 10, 'alpha': 0.00018502352704367732, 'gamma': 0.0004804088668909982, 'reg_alpha': 0.14700204568026928, 'reg_lambda': 0.042224000387684694, 'colsample_bytree': 0.37381630261153814, 'subsample': 0.7719947266066358}. Best is trial 341 with value: 0.8471760797342193.\n",
      "[I 2024-02-22 14:52:50,182] Trial 469 finished with value: 0.841225626740947 and parameters: {'n_estimators': 329, 'learning_rate': 0.15064076000977855, 'max_depth': 10, 'alpha': 0.00021676582385555214, 'gamma': 0.0003706575790886497, 'reg_alpha': 0.13368305342069928, 'reg_lambda': 0.04088371010429781, 'colsample_bytree': 0.40236702697503984, 'subsample': 0.7630809868859932}. Best is trial 341 with value: 0.8471760797342193.\n",
      "[I 2024-02-22 14:52:56,203] Trial 470 finished with value: 0.8354570637119114 and parameters: {'n_estimators': 335, 'learning_rate': 0.14615995288579248, 'max_depth': 11, 'alpha': 0.0002002521427277285, 'gamma': 0.0004369657444628285, 'reg_alpha': 0.12018171992677507, 'reg_lambda': 0.04198516954156281, 'colsample_bytree': 0.3709575962852267, 'subsample': 0.7771444462790071}. Best is trial 341 with value: 0.8471760797342193.\n",
      "[I 2024-02-22 14:53:00,766] Trial 471 finished with value: 0.8358375069560379 and parameters: {'n_estimators': 298, 'learning_rate': 0.15417546251655248, 'max_depth': 9, 'alpha': 0.000190488058480057, 'gamma': 0.0003532663888431288, 'reg_alpha': 0.1560243311045116, 'reg_lambda': 0.04363332903932078, 'colsample_bytree': 0.35617153330995793, 'subsample': 0.799078949325144}. Best is trial 341 with value: 0.8471760797342193.\n",
      "[I 2024-02-22 14:53:06,960] Trial 472 finished with value: 0.8342602892102337 and parameters: {'n_estimators': 353, 'learning_rate': 0.1720056401310544, 'max_depth': 10, 'alpha': 0.00020634575727174353, 'gamma': 0.0004118749737899668, 'reg_alpha': 0.1533182388850747, 'reg_lambda': 0.040921384679221885, 'colsample_bytree': 0.38681336580614234, 'subsample': 0.7524609650748383}. Best is trial 341 with value: 0.8471760797342193.\n",
      "[I 2024-02-22 14:53:13,221] Trial 473 finished with value: 0.8358543417366947 and parameters: {'n_estimators': 323, 'learning_rate': 0.16715015096493438, 'max_depth': 11, 'alpha': 0.00016855883907917357, 'gamma': 0.0003159454084976664, 'reg_alpha': 0.17691769698565965, 'reg_lambda': 0.042271389592173386, 'colsample_bytree': 0.33888133953550703, 'subsample': 0.7378187306176434}. Best is trial 341 with value: 0.8471760797342193.\n",
      "[I 2024-02-22 14:53:18,567] Trial 474 finished with value: 0.835820895522388 and parameters: {'n_estimators': 308, 'learning_rate': 0.23731173789699703, 'max_depth': 10, 'alpha': 0.0001779356422619226, 'gamma': 0.0003377592024522339, 'reg_alpha': 0.13857667650210698, 'reg_lambda': 0.03783590707654986, 'colsample_bytree': 0.3769113197580999, 'subsample': 0.7599537104123725}. Best is trial 341 with value: 0.8471760797342193.\n",
      "[I 2024-02-22 14:53:22,959] Trial 475 finished with value: 0.8376259798432251 and parameters: {'n_estimators': 289, 'learning_rate': 0.16145967915718118, 'max_depth': 9, 'alpha': 0.00023987126869258842, 'gamma': 0.00031302195604224404, 'reg_alpha': 0.16792929157197126, 'reg_lambda': 0.041731562135639826, 'colsample_bytree': 0.3622542579945119, 'subsample': 0.7484984862047961}. Best is trial 341 with value: 0.8471760797342193.\n",
      "[I 2024-02-22 14:53:29,248] Trial 476 finished with value: 0.8438724118634583 and parameters: {'n_estimators': 336, 'learning_rate': 0.17834211257834282, 'max_depth': 11, 'alpha': 0.00018330056178241644, 'gamma': 0.0003767851978973564, 'reg_alpha': 0.10277222209247461, 'reg_lambda': 0.037202350265507896, 'colsample_bytree': 0.3275289667044071, 'subsample': 0.734350081227405}. Best is trial 341 with value: 0.8471760797342193.\n",
      "[I 2024-02-22 14:53:35,719] Trial 477 finished with value: 0.8352745424292846 and parameters: {'n_estimators': 342, 'learning_rate': 0.1802770459037617, 'max_depth': 11, 'alpha': 0.00023365628013304404, 'gamma': 0.0004453604397993988, 'reg_alpha': 0.19723589999142882, 'reg_lambda': 0.03866522266529525, 'colsample_bytree': 0.3259592035405662, 'subsample': 0.7825946169601322}. Best is trial 341 with value: 0.8471760797342193.\n",
      "[I 2024-02-22 14:53:41,103] Trial 478 finished with value: 0.8421639709983268 and parameters: {'n_estimators': 321, 'learning_rate': 0.1836528324931298, 'max_depth': 11, 'alpha': 0.00021644099273592033, 'gamma': 0.0005256722386464736, 'reg_alpha': 0.12669859543798262, 'reg_lambda': 0.03955739208112215, 'colsample_bytree': 0.32379134506832496, 'subsample': 0.7324436306999967}. Best is trial 341 with value: 0.8471760797342193.\n",
      "[I 2024-02-22 14:53:50,054] Trial 479 finished with value: 0.8389596015495296 and parameters: {'n_estimators': 346, 'learning_rate': 0.1613936453317775, 'max_depth': 11, 'alpha': 0.00020383352023762977, 'gamma': 0.0004881463829264211, 'reg_alpha': 0.10571360552165679, 'reg_lambda': 0.03696249443126068, 'colsample_bytree': 0.3457337806810976, 'subsample': 0.7700128001742288}. Best is trial 341 with value: 0.8471760797342193.\n",
      "[I 2024-02-22 14:53:55,699] Trial 480 finished with value: 0.8430493273542602 and parameters: {'n_estimators': 337, 'learning_rate': 0.16930270530605876, 'max_depth': 10, 'alpha': 0.00017647711010030853, 'gamma': 0.00039387445946807465, 'reg_alpha': 0.10061213190366816, 'reg_lambda': 0.042015173448506804, 'colsample_bytree': 0.3084685058888833, 'subsample': 0.7400234500037584}. Best is trial 341 with value: 0.8471760797342193.\n",
      "[I 2024-02-22 14:54:00,734] Trial 481 finished with value: 0.8398656215005599 and parameters: {'n_estimators': 296, 'learning_rate': 0.15775769022841282, 'max_depth': 10, 'alpha': 0.0002010628659574026, 'gamma': 0.00046989277262757105, 'reg_alpha': 0.10089987162997842, 'reg_lambda': 0.042516161133921974, 'colsample_bytree': 0.3053688706733262, 'subsample': 0.7374861239844239}. Best is trial 341 with value: 0.8471760797342193.\n",
      "[I 2024-02-22 14:54:06,307] Trial 482 finished with value: 0.837883008356546 and parameters: {'n_estimators': 316, 'learning_rate': 0.16649007124391677, 'max_depth': 10, 'alpha': 0.00018902391516459712, 'gamma': 0.00038510639208026183, 'reg_alpha': 0.11034512561614017, 'reg_lambda': 0.038335120484081435, 'colsample_bytree': 0.3326063134904286, 'subsample': 0.8095704243155445}. Best is trial 341 with value: 0.8471760797342193.\n",
      "[I 2024-02-22 14:54:13,287] Trial 483 finished with value: 0.8389972144846797 and parameters: {'n_estimators': 333, 'learning_rate': 0.15619238416833287, 'max_depth': 10, 'alpha': 0.00018346131540609832, 'gamma': 0.0004014668142319938, 'reg_alpha': 0.11185721191676257, 'reg_lambda': 0.04076885847403856, 'colsample_bytree': 0.31475031916188223, 'subsample': 0.7494806930201606}. Best is trial 341 with value: 0.8471760797342193.\n",
      "[I 2024-02-22 14:54:19,524] Trial 484 finished with value: 0.8370786516853932 and parameters: {'n_estimators': 328, 'learning_rate': 0.17258566281746185, 'max_depth': 11, 'alpha': 0.0001697917429451767, 'gamma': 0.00036556832888907253, 'reg_alpha': 0.12465161420476059, 'reg_lambda': 0.0367923427626309, 'colsample_bytree': 0.2934404051337022, 'subsample': 0.7213253908775288}. Best is trial 341 with value: 0.8471760797342193.\n",
      "[I 2024-02-22 14:54:27,147] Trial 485 finished with value: 0.8404017857142858 and parameters: {'n_estimators': 350, 'learning_rate': 0.18047781617867098, 'max_depth': 10, 'alpha': 0.00018618470316627192, 'gamma': 0.0004177170766301129, 'reg_alpha': 0.10653888589288874, 'reg_lambda': 0.03922160207969812, 'colsample_bytree': 0.3191722978870062, 'subsample': 0.7467709477439729}. Best is trial 341 with value: 0.8471760797342193.\n",
      "[I 2024-02-22 14:54:31,296] Trial 486 finished with value: 0.8438356164383561 and parameters: {'n_estimators': 271, 'learning_rate': 0.4854774197864049, 'max_depth': 10, 'alpha': 0.00018754789913640827, 'gamma': 0.00037623259542486235, 'reg_alpha': 0.13502697963265994, 'reg_lambda': 0.03580914288680541, 'colsample_bytree': 0.3461739747687173, 'subsample': 0.7870795105159417}. Best is trial 341 with value: 0.8471760797342193.\n",
      "[I 2024-02-22 14:54:38,353] Trial 487 finished with value: 0.8398891966759002 and parameters: {'n_estimators': 367, 'learning_rate': 0.18757371742895018, 'max_depth': 11, 'alpha': 0.00016281459149530828, 'gamma': 0.00034014541145468643, 'reg_alpha': 0.15169749253210424, 'reg_lambda': 0.0361869691002398, 'colsample_bytree': 0.3496519534622169, 'subsample': 0.760936887180688}. Best is trial 341 with value: 0.8471760797342193.\n",
      "[I 2024-02-22 14:54:45,992] Trial 488 finished with value: 0.8314977973568282 and parameters: {'n_estimators': 260, 'learning_rate': 0.453383922898848, 'max_depth': 11, 'alpha': 0.00019386300352510302, 'gamma': 0.0004496435356081938, 'reg_alpha': 0.1348337269561272, 'reg_lambda': 0.035807656989506324, 'colsample_bytree': 0.3352396711405344, 'subsample': 0.7918446915051194}. Best is trial 341 with value: 0.8471760797342193.\n",
      "[I 2024-02-22 14:54:51,859] Trial 489 finished with value: 0.8369504730105731 and parameters: {'n_estimators': 307, 'learning_rate': 0.18898500217759595, 'max_depth': 9, 'alpha': 0.00016111883290256986, 'gamma': 0.0003168217067074945, 'reg_alpha': 0.17894462888698684, 'reg_lambda': 0.03467227681551654, 'colsample_bytree': 0.341919390864462, 'subsample': 0.8082121327881308}. Best is trial 341 with value: 0.8471760797342193.\n",
      "[I 2024-02-22 14:55:00,114] Trial 490 finished with value: 0.8354570637119114 and parameters: {'n_estimators': 346, 'learning_rate': 0.20576211754731893, 'max_depth': 11, 'alpha': 0.0002706456357611545, 'gamma': 0.0003671866008518991, 'reg_alpha': 0.15922970437194206, 'reg_lambda': 0.038293338550629316, 'colsample_bytree': 0.35572935543380474, 'subsample': 0.7936078894068641}. Best is trial 341 with value: 0.8471760797342193.\n",
      "[I 2024-02-22 14:55:05,072] Trial 491 finished with value: 0.8375411635565312 and parameters: {'n_estimators': 280, 'learning_rate': 0.4679534032836137, 'max_depth': 10, 'alpha': 0.00023151047906529217, 'gamma': 0.00034734755061246927, 'reg_alpha': 0.1267499091386993, 'reg_lambda': 0.035442851640926885, 'colsample_bytree': 0.3285436335475308, 'subsample': 0.7650269459989208}. Best is trial 341 with value: 0.8471760797342193.\n",
      "[I 2024-02-22 14:55:11,913] Trial 492 finished with value: 0.8381696428571428 and parameters: {'n_estimators': 365, 'learning_rate': 0.20026509665818149, 'max_depth': 9, 'alpha': 0.00021178053188688846, 'gamma': 0.00028469781649687666, 'reg_alpha': 0.18125963126783307, 'reg_lambda': 0.03751979451593179, 'colsample_bytree': 0.2826714634915818, 'subsample': 0.7308452125028156}. Best is trial 341 with value: 0.8471760797342193.\n",
      "[I 2024-02-22 14:55:18,040] Trial 493 finished with value: 0.8419877163595757 and parameters: {'n_estimators': 269, 'learning_rate': 0.14499791582676413, 'max_depth': 11, 'alpha': 0.00015789677423571995, 'gamma': 0.0003123903103358931, 'reg_alpha': 0.1453887329108393, 'reg_lambda': 0.06642998089150845, 'colsample_bytree': 0.35668290335807196, 'subsample': 0.788235781294511}. Best is trial 341 with value: 0.8471760797342193.\n",
      "[I 2024-02-22 14:55:22,126] Trial 494 finished with value: 0.8253615127919911 and parameters: {'n_estimators': 235, 'learning_rate': 0.2164543198045642, 'max_depth': 11, 'alpha': 0.00017956069448133032, 'gamma': 0.00038038081854420186, 'reg_alpha': 0.20198680863102114, 'reg_lambda': 0.033831191309686676, 'colsample_bytree': 0.30135879405884225, 'subsample': 0.26290935181186237}. Best is trial 341 with value: 0.8471760797342193.\n",
      "[I 2024-02-22 14:55:28,649] Trial 495 finished with value: 0.8370288248337029 and parameters: {'n_estimators': 362, 'learning_rate': 0.17998765377381815, 'max_depth': 10, 'alpha': 0.0006436141677260586, 'gamma': 0.0003354676250510484, 'reg_alpha': 0.16920884033903325, 'reg_lambda': 0.03650364068808389, 'colsample_bytree': 0.324514703983547, 'subsample': 0.7686564957270263}. Best is trial 341 with value: 0.8471760797342193.\n",
      "[I 2024-02-22 14:55:33,446] Trial 496 finished with value: 0.836824696802646 and parameters: {'n_estimators': 315, 'learning_rate': 0.19289166713203307, 'max_depth': 8, 'alpha': 0.0002029498696959742, 'gamma': 0.0003052087899034285, 'reg_alpha': 0.15261337622206303, 'reg_lambda': 0.03489277415190268, 'colsample_bytree': 0.3465988918577081, 'subsample': 0.7209171548075091}. Best is trial 341 with value: 0.8471760797342193.\n",
      "[I 2024-02-22 14:55:41,039] Trial 497 finished with value: 0.8349944629014396 and parameters: {'n_estimators': 372, 'learning_rate': 0.2031105249378165, 'max_depth': 11, 'alpha': 0.0026157780420329123, 'gamma': 0.00028016559826414555, 'reg_alpha': 0.2071373728154804, 'reg_lambda': 0.03982442712859519, 'colsample_bytree': 0.3826550891775823, 'subsample': 0.7269350818587598}. Best is trial 341 with value: 0.8471760797342193.\n",
      "[I 2024-02-22 14:55:48,638] Trial 498 finished with value: 0.8323187603763144 and parameters: {'n_estimators': 253, 'learning_rate': 0.21656280857056012, 'max_depth': 11, 'alpha': 0.003013063482842125, 'gamma': 0.00035531560256374297, 'reg_alpha': 0.13151815896814217, 'reg_lambda': 0.03377135226010932, 'colsample_bytree': 0.9171331031791238, 'subsample': 0.7096942739301335}. Best is trial 341 with value: 0.8471760797342193.\n",
      "[I 2024-02-22 14:55:53,794] Trial 499 finished with value: 0.8425196850393701 and parameters: {'n_estimators': 306, 'learning_rate': 0.18509705050299702, 'max_depth': 11, 'alpha': 0.002399773530121236, 'gamma': 0.00043233437663676516, 'reg_alpha': 0.17018193871168824, 'reg_lambda': 0.038241385863305, 'colsample_bytree': 0.2863861634652674, 'subsample': 0.7501056605591786}. Best is trial 341 with value: 0.8471760797342193.\n",
      "[I 2024-02-22 14:55:58,182] Trial 500 finished with value: 0.8127053669222345 and parameters: {'n_estimators': 356, 'learning_rate': 0.1953949447188093, 'max_depth': 10, 'alpha': 0.0001887837622234324, 'gamma': 0.0004886499632874989, 'reg_alpha': 0.14847850990846395, 'reg_lambda': 0.035855983349316056, 'colsample_bytree': 0.3110280178808347, 'subsample': 0.17274390136624462}. Best is trial 341 with value: 0.8471760797342193.\n",
      "[I 2024-02-22 14:56:04,860] Trial 501 finished with value: 0.8354712771890686 and parameters: {'n_estimators': 383, 'learning_rate': 0.2085423935862135, 'max_depth': 12, 'alpha': 0.0001799680215210456, 'gamma': 0.007780505320529396, 'reg_alpha': 0.18177550398480433, 'reg_lambda': 0.03300210207692302, 'colsample_bytree': 0.33640401776805195, 'subsample': 0.8178025940154113}. Best is trial 341 with value: 0.8471760797342193.\n",
      "[I 2024-02-22 14:56:10,297] Trial 502 finished with value: 0.8314113124656781 and parameters: {'n_estimators': 330, 'learning_rate': 0.4778842394362091, 'max_depth': 11, 'alpha': 0.0001620976067588367, 'gamma': 0.00029041231558580454, 'reg_alpha': 0.1265534923347231, 'reg_lambda': 0.03823728146437648, 'colsample_bytree': 0.3611474850270099, 'subsample': 0.729630710476874}. Best is trial 341 with value: 0.8471760797342193.\n",
      "[I 2024-02-22 14:56:18,042] Trial 503 finished with value: 0.8401114206128134 and parameters: {'n_estimators': 376, 'learning_rate': 0.2223286910492714, 'max_depth': 12, 'alpha': 0.0006598172543910804, 'gamma': 0.00031880509615468845, 'reg_alpha': 0.1920344079508533, 'reg_lambda': 0.0345582267498336, 'colsample_bytree': 0.29734355531937856, 'subsample': 0.7788844969808859}. Best is trial 341 with value: 0.8471760797342193.\n",
      "[I 2024-02-22 14:56:21,347] Trial 504 finished with value: 0.8287785833798104 and parameters: {'n_estimators': 282, 'learning_rate': 0.17847006813767355, 'max_depth': 7, 'alpha': 0.00014897323663760952, 'gamma': 0.0003808594647588979, 'reg_alpha': 0.16035938957287554, 'reg_lambda': 0.0405903365639626, 'colsample_bytree': 0.27353271142756264, 'subsample': 0.7726751401906822}. Best is trial 341 with value: 0.8471760797342193.\n",
      "[I 2024-02-22 14:56:27,012] Trial 505 finished with value: 0.8369028006589785 and parameters: {'n_estimators': 349, 'learning_rate': 0.4287226262723101, 'max_depth': 11, 'alpha': 0.0007911850474916309, 'gamma': 0.000260664938782221, 'reg_alpha': 0.21688785414795314, 'reg_lambda': 0.032681991042308914, 'colsample_bytree': 0.32432902596256663, 'subsample': 0.7126793833677166}. Best is trial 341 with value: 0.8471760797342193.\n",
      "[I 2024-02-22 14:56:33,462] Trial 506 finished with value: 0.8399330730619073 and parameters: {'n_estimators': 361, 'learning_rate': 0.190845907277211, 'max_depth': 10, 'alpha': 0.00019269713719768383, 'gamma': 0.0003419981433663908, 'reg_alpha': 0.1417611307363971, 'reg_lambda': 0.036346940779595376, 'colsample_bytree': 0.3381150227812803, 'subsample': 0.7439714783479006}. Best is trial 341 with value: 0.8471760797342193.\n",
      "[I 2024-02-22 14:56:39,324] Trial 507 finished with value: 0.8361391694725028 and parameters: {'n_estimators': 322, 'learning_rate': 0.20231314385805466, 'max_depth': 12, 'alpha': 0.008901541851645347, 'gamma': 0.00028417469936568607, 'reg_alpha': 0.1832518672916288, 'reg_lambda': 0.03187864189707324, 'colsample_bytree': 0.3106495296374719, 'subsample': 0.7042562900195116}. Best is trial 341 with value: 0.8471760797342193.\n",
      "[I 2024-02-22 14:56:45,191] Trial 508 finished with value: 0.8351893095768375 and parameters: {'n_estimators': 380, 'learning_rate': 0.1702901004929286, 'max_depth': 9, 'alpha': 0.00015156568823397935, 'gamma': 0.000582998559049188, 'reg_alpha': 0.12287571466883666, 'reg_lambda': 0.03757617032205133, 'colsample_bytree': 0.3692170677501061, 'subsample': 0.7587716239119195}. Best is trial 341 with value: 0.8471760797342193.\n",
      "[I 2024-02-22 14:56:51,992] Trial 509 finished with value: 0.8392857142857142 and parameters: {'n_estimators': 299, 'learning_rate': 0.22723929239584392, 'max_depth': 12, 'alpha': 0.0014896033204763218, 'gamma': 0.0003205653930850441, 'reg_alpha': 0.2053554857832053, 'reg_lambda': 0.03452133435421259, 'colsample_bytree': 0.2788666546746723, 'subsample': 0.7240881654599091}. Best is trial 341 with value: 0.8471760797342193.\n",
      "[I 2024-02-22 14:56:55,757] Trial 510 finished with value: 0.8221970554926388 and parameters: {'n_estimators': 339, 'learning_rate': 0.2151988227620777, 'max_depth': 5, 'alpha': 0.0002146350465245672, 'gamma': 0.0002694394401076084, 'reg_alpha': 0.15598188459311726, 'reg_lambda': 0.03979131978345895, 'colsample_bytree': 0.3274203604273563, 'subsample': 0.8344514239177696}. Best is trial 341 with value: 0.8471760797342193.\n",
      "[I 2024-02-22 14:57:06,850] Trial 511 finished with value: 0.8366666666666667 and parameters: {'n_estimators': 617, 'learning_rate': 0.19783891199821788, 'max_depth': 12, 'alpha': 0.0007338384136515236, 'gamma': 0.0003921284819921057, 'reg_alpha': 0.16937504796519395, 'reg_lambda': 0.03552546511699745, 'colsample_bytree': 0.35023259145435137, 'subsample': 0.7401107483469697}. Best is trial 341 with value: 0.8471760797342193.\n",
      "[I 2024-02-22 14:57:17,025] Trial 512 finished with value: 0.8307174887892378 and parameters: {'n_estimators': 360, 'learning_rate': 0.1835500715175567, 'max_depth': 11, 'alpha': 0.00022583108798266915, 'gamma': 0.00030543705426152803, 'reg_alpha': 0.2282878344362178, 'reg_lambda': 0.08036220697329521, 'colsample_bytree': 0.39535827411779867, 'subsample': 0.7094761370155352}. Best is trial 341 with value: 0.8471760797342193.\n",
      "[I 2024-02-22 14:57:28,051] Trial 513 finished with value: 0.8389224848818032 and parameters: {'n_estimators': 684, 'learning_rate': 0.4930778335680931, 'max_depth': 12, 'alpha': 0.002027031349283101, 'gamma': 0.00033623008919250275, 'reg_alpha': 0.14239430056627592, 'reg_lambda': 0.03160876049960762, 'colsample_bytree': 0.2979586952787153, 'subsample': 0.7913292658552691}. Best is trial 341 with value: 0.8471760797342193.\n",
      "[I 2024-02-22 14:57:41,193] Trial 514 finished with value: 0.8411214953271028 and parameters: {'n_estimators': 943, 'learning_rate': 0.16267583968077648, 'max_depth': 10, 'alpha': 0.00016541302176112794, 'gamma': 0.0002604149452169788, 'reg_alpha': 0.11990292783975623, 'reg_lambda': 0.03868606057522222, 'colsample_bytree': 0.265983079515849, 'subsample': 0.7249140688695187}. Best is trial 341 with value: 0.8471760797342193.\n",
      "[I 2024-02-22 14:57:49,294] Trial 515 finished with value: 0.8391061452513966 and parameters: {'n_estimators': 397, 'learning_rate': 0.2057190623064438, 'max_depth': 11, 'alpha': 0.0033321501921224385, 'gamma': 0.00037065387575613404, 'reg_alpha': 0.19042371740678474, 'reg_lambda': 0.04249756797950879, 'colsample_bytree': 0.3182868216220488, 'subsample': 0.7003061379964953}. Best is trial 341 with value: 0.8471760797342193.\n",
      "[I 2024-02-22 14:57:59,019] Trial 516 finished with value: 0.8356239692138537 and parameters: {'n_estimators': 636, 'learning_rate': 0.46154411866728473, 'max_depth': 12, 'alpha': 0.00017990552767426627, 'gamma': 0.0004464852334881117, 'reg_alpha': 0.21845956598290425, 'reg_lambda': 0.032965899787472414, 'colsample_bytree': 0.34757188523380883, 'subsample': 0.7480456647221702}. Best is trial 341 with value: 0.8471760797342193.\n",
      "[I 2024-02-22 14:58:05,955] Trial 517 finished with value: 0.8397115917914586 and parameters: {'n_estimators': 379, 'learning_rate': 0.19013155712052573, 'max_depth': 11, 'alpha': 0.0006022421798700917, 'gamma': 0.00028950568054504335, 'reg_alpha': 0.18191232308011548, 'reg_lambda': 0.03708745174581882, 'colsample_bytree': 0.2997532693177742, 'subsample': 0.770071217715393}. Best is trial 341 with value: 0.8471760797342193.\n",
      "[I 2024-02-22 14:58:16,471] Trial 518 finished with value: 0.8372352285395763 and parameters: {'n_estimators': 416, 'learning_rate': 0.1763055852383806, 'max_depth': 12, 'alpha': 0.00025441629568800483, 'gamma': 0.00022922551549058346, 'reg_alpha': 0.16271780729401553, 'reg_lambda': 0.03371768753923132, 'colsample_bytree': 0.3731311988354783, 'subsample': 0.6983572577637482}. Best is trial 341 with value: 0.8471760797342193.\n",
      "[I 2024-02-22 14:58:20,379] Trial 519 finished with value: 0.834540389972145 and parameters: {'n_estimators': 340, 'learning_rate': 0.20829987524071472, 'max_depth': 6, 'alpha': 0.001649221431898666, 'gamma': 0.0003157951542355501, 'reg_alpha': 0.14345180558482828, 'reg_lambda': 0.04101770101368754, 'colsample_bytree': 0.2839166209866581, 'subsample': 0.7138417561418745}. Best is trial 341 with value: 0.8471760797342193.\n",
      "[I 2024-02-22 14:58:27,585] Trial 520 finished with value: 0.8303769401330376 and parameters: {'n_estimators': 321, 'learning_rate': 0.26461403169635433, 'max_depth': 12, 'alpha': 0.0007294182405444786, 'gamma': 0.0002441839434485892, 'reg_alpha': 0.19808233188686158, 'reg_lambda': 0.03093439686766381, 'colsample_bytree': 0.42939946512994226, 'subsample': 0.6493513319033153}. Best is trial 341 with value: 0.8471760797342193.\n",
      "[I 2024-02-22 14:58:38,538] Trial 521 finished with value: 0.8357380688124306 and parameters: {'n_estimators': 612, 'learning_rate': 0.22231838608395385, 'max_depth': 11, 'alpha': 0.008548485792431941, 'gamma': 0.0003433973972816349, 'reg_alpha': 0.12091398623334698, 'reg_lambda': 0.035294118434527136, 'colsample_bytree': 0.33692205478469656, 'subsample': 0.7355899250968557}. Best is trial 341 with value: 0.8471760797342193.\n",
      "[I 2024-02-22 14:58:48,689] Trial 522 finished with value: 0.8447412353923206 and parameters: {'n_estimators': 632, 'learning_rate': 0.19827678360107517, 'max_depth': 12, 'alpha': 0.0001465785548206184, 'gamma': 0.00041441563938655337, 'reg_alpha': 0.16054172300659256, 'reg_lambda': 0.033742966157942436, 'colsample_bytree': 0.322060989471424, 'subsample': 0.6918017628694555}. Best is trial 341 with value: 0.8471760797342193.\n",
      "[I 2024-02-22 14:58:54,464] Trial 523 finished with value: 0.8348978464936498 and parameters: {'n_estimators': 368, 'learning_rate': 0.4852891961003642, 'max_depth': 10, 'alpha': 0.00014605758451282397, 'gamma': 0.0005263666163360665, 'reg_alpha': 0.21078459924619175, 'reg_lambda': 0.0323607599775824, 'colsample_bytree': 0.3211779815254542, 'subsample': 0.6949219723674849}. Best is trial 341 with value: 0.8471760797342193.\n",
      "[I 2024-02-22 14:59:06,846] Trial 524 finished with value: 0.8413488114980653 and parameters: {'n_estimators': 773, 'learning_rate': 0.2133316193344004, 'max_depth': 13, 'alpha': 0.00017801464950148582, 'gamma': 0.00042175608863272265, 'reg_alpha': 0.24678870256680466, 'reg_lambda': 0.030217900867109487, 'colsample_bytree': 0.358419792288596, 'subsample': 0.6894458257528769}. Best is trial 341 with value: 0.8471760797342193.\n",
      "[I 2024-02-22 14:59:17,134] Trial 525 finished with value: 0.8413488114980653 and parameters: {'n_estimators': 604, 'learning_rate': 0.19855625259160875, 'max_depth': 12, 'alpha': 0.00016154108393501865, 'gamma': 0.00041177453520854605, 'reg_alpha': 0.17760898624179886, 'reg_lambda': 0.03703235895232686, 'colsample_bytree': 0.31305614316538705, 'subsample': 0.71554404936347}. Best is trial 341 with value: 0.8471760797342193.\n",
      "[I 2024-02-22 14:59:28,893] Trial 526 finished with value: 0.845303867403315 and parameters: {'n_estimators': 622, 'learning_rate': 0.2103193144407794, 'max_depth': 14, 'alpha': 0.00019292796470343323, 'gamma': 0.00046644962590784993, 'reg_alpha': 0.16178315247753747, 'reg_lambda': 0.04341906924971248, 'colsample_bytree': 0.33299764469528753, 'subsample': 0.6543384943483042}. Best is trial 341 with value: 0.8471760797342193.\n",
      "[I 2024-02-22 14:59:39,544] Trial 527 finished with value: 0.8353863381858901 and parameters: {'n_estimators': 613, 'learning_rate': 0.2111965368295761, 'max_depth': 14, 'alpha': 0.00019882706793712467, 'gamma': 0.00038971271646026163, 'reg_alpha': 0.1582716869697964, 'reg_lambda': 0.04371583193822059, 'colsample_bytree': 0.339235778241224, 'subsample': 0.6546641048167202}. Best is trial 341 with value: 0.8471760797342193.\n",
      "[I 2024-02-22 14:59:51,228] Trial 528 finished with value: 0.8361204013377926 and parameters: {'n_estimators': 629, 'learning_rate': 0.20017528219868536, 'max_depth': 14, 'alpha': 0.00022735882171234808, 'gamma': 0.0006061381198767147, 'reg_alpha': 0.17006179213483774, 'reg_lambda': 0.03306488770281978, 'colsample_bytree': 0.35705983069247205, 'subsample': 0.6601422523182671}. Best is trial 341 with value: 0.8471760797342193.\n",
      "[I 2024-02-22 15:00:03,071] Trial 529 finished with value: 0.8393152954168966 and parameters: {'n_estimators': 635, 'learning_rate': 0.21849424214729019, 'max_depth': 14, 'alpha': 0.00018654084115157945, 'gamma': 0.0004914751586674408, 'reg_alpha': 0.1327415649896701, 'reg_lambda': 0.031213608616309174, 'colsample_bytree': 0.32971366593437185, 'subsample': 0.6420476430795284}. Best is trial 341 with value: 0.8471760797342193.\n",
      "[I 2024-02-22 15:00:14,652] Trial 530 finished with value: 0.8311258278145696 and parameters: {'n_estimators': 593, 'learning_rate': 0.19332734909877183, 'max_depth': 13, 'alpha': 0.0028291705836653346, 'gamma': 0.000538475971759598, 'reg_alpha': 0.10091653145043786, 'reg_lambda': 0.034519406606519955, 'colsample_bytree': 0.38013073986012924, 'subsample': 0.6684157763100081}. Best is trial 341 with value: 0.8471760797342193.\n",
      "[I 2024-02-22 15:00:26,821] Trial 531 finished with value: 0.8369264787175233 and parameters: {'n_estimators': 650, 'learning_rate': 0.21078330263772782, 'max_depth': 13, 'alpha': 0.0001754006888958137, 'gamma': 0.0004280499190277911, 'reg_alpha': 0.18892185005868475, 'reg_lambda': 0.039502802125178385, 'colsample_bytree': 0.31183671944267444, 'subsample': 0.6823953001470119}. Best is trial 341 with value: 0.8471760797342193.\n",
      "[I 2024-02-22 15:00:38,988] Trial 532 finished with value: 0.8397365532381998 and parameters: {'n_estimators': 674, 'learning_rate': 0.197607960806958, 'max_depth': 10, 'alpha': 0.0001927875446204504, 'gamma': 0.0004872633005234896, 'reg_alpha': 0.16289015068743515, 'reg_lambda': 0.03388974783416979, 'colsample_bytree': 0.3413882020037938, 'subsample': 0.6321871009813502}. Best is trial 341 with value: 0.8471760797342193.\n",
      "[I 2024-02-22 15:00:48,363] Trial 533 finished with value: 0.8302300109529025 and parameters: {'n_estimators': 620, 'learning_rate': 0.22637179637458496, 'max_depth': 14, 'alpha': 0.00016352530548382045, 'gamma': 0.00041913209681231734, 'reg_alpha': 0.13679511452193113, 'reg_lambda': 0.043146853650304885, 'colsample_bytree': 0.3222307678993601, 'subsample': 0.2993909550371056}. Best is trial 341 with value: 0.8471760797342193.\n",
      "[I 2024-02-22 15:00:54,939] Trial 534 finished with value: 0.8325842696629214 and parameters: {'n_estimators': 290, 'learning_rate': 0.2056302653363806, 'max_depth': 12, 'alpha': 0.0002114390880106808, 'gamma': 0.0003906396424739823, 'reg_alpha': 0.20044818021615726, 'reg_lambda': 0.029858968192906007, 'colsample_bytree': 0.30256686639599173, 'subsample': 0.652446004769788}. Best is trial 341 with value: 0.8471760797342193.\n",
      "[I 2024-02-22 15:01:08,243] Trial 535 finished with value: 0.8398220244716351 and parameters: {'n_estimators': 599, 'learning_rate': 0.1903606085551428, 'max_depth': 11, 'alpha': 0.00014732127253404452, 'gamma': 0.00035717158916145014, 'reg_alpha': 0.22810444738370664, 'reg_lambda': 0.036436929990093646, 'colsample_bytree': 0.3630994458821435, 'subsample': 0.6896821023581148}. Best is trial 341 with value: 0.8471760797342193.\n",
      "[I 2024-02-22 15:01:20,688] Trial 536 finished with value: 0.834165280088741 and parameters: {'n_estimators': 664, 'learning_rate': 0.2178303225143987, 'max_depth': 13, 'alpha': 0.00017080617094910274, 'gamma': 0.00043014645593396627, 'reg_alpha': 0.15032823043072557, 'reg_lambda': 0.03298228697718914, 'colsample_bytree': 0.3357318294164483, 'subsample': 0.42061845300397077}. Best is trial 341 with value: 0.8471760797342193.\n",
      "[I 2024-02-22 15:01:32,522] Trial 537 finished with value: 0.837702175125488 and parameters: {'n_estimators': 629, 'learning_rate': 0.201487051196452, 'max_depth': 13, 'alpha': 0.0037631370082919164, 'gamma': 0.0004659776700066981, 'reg_alpha': 0.17734802597839264, 'reg_lambda': 0.031270801691884766, 'colsample_bytree': 0.29033540480975456, 'subsample': 0.667053615273224}. Best is trial 341 with value: 0.8471760797342193.\n",
      "[I 2024-02-22 15:01:38,632] Trial 538 finished with value: 0.8432132963988921 and parameters: {'n_estimators': 330, 'learning_rate': 0.18722252713875862, 'max_depth': 12, 'alpha': 0.0007885778064451809, 'gamma': 0.0004569835586848608, 'reg_alpha': 0.11623011881968465, 'reg_lambda': 0.037884568553674294, 'colsample_bytree': 0.3434290268435589, 'subsample': 0.622215982265742}. Best is trial 341 with value: 0.8471760797342193.\n",
      "[I 2024-02-22 15:01:43,403] Trial 539 finished with value: 0.8369504730105731 and parameters: {'n_estimators': 320, 'learning_rate': 0.1768370548454588, 'max_depth': 8, 'alpha': 0.0008320225769632961, 'gamma': 0.00046501946497555773, 'reg_alpha': 0.10102123980908434, 'reg_lambda': 0.041524213551818887, 'colsample_bytree': 0.3190867749399604, 'subsample': 0.6176389073485348}. Best is trial 341 with value: 0.8471760797342193.\n",
      "[I 2024-02-22 15:01:50,438] Trial 540 finished with value: 0.839176405119644 and parameters: {'n_estimators': 350, 'learning_rate': 0.18438577323275318, 'max_depth': 12, 'alpha': 0.00015306295426863723, 'gamma': 0.0005602940206645272, 'reg_alpha': 0.123463441147632, 'reg_lambda': 0.0392366804336325, 'colsample_bytree': 0.38531844225548456, 'subsample': 0.7046260433585403}. Best is trial 341 with value: 0.8471760797342193.\n",
      "[I 2024-02-22 15:01:59,182] Trial 541 finished with value: 0.8438724118634583 and parameters: {'n_estimators': 305, 'learning_rate': 0.16665636249740828, 'max_depth': 12, 'alpha': 0.0009072144006275192, 'gamma': 0.0005157492760864478, 'reg_alpha': 0.11746645308914758, 'reg_lambda': 0.037742226132104935, 'colsample_bytree': 0.35447114892451137, 'subsample': 0.623144414060427}. Best is trial 341 with value: 0.8471760797342193.\n",
      "[I 2024-02-22 15:02:04,889] Trial 542 finished with value: 0.8366666666666667 and parameters: {'n_estimators': 275, 'learning_rate': 0.14746944212661625, 'max_depth': 12, 'alpha': 0.0010115386175340872, 'gamma': 0.0004951139931299914, 'reg_alpha': 0.13214344776006487, 'reg_lambda': 0.0405228196975296, 'colsample_bytree': 0.40253706908360776, 'subsample': 0.8114532916402295}. Best is trial 341 with value: 0.8471760797342193.\n",
      "[I 2024-02-22 15:02:10,303] Trial 543 finished with value: 0.835287548855388 and parameters: {'n_estimators': 295, 'learning_rate': 0.13064863696788923, 'max_depth': 13, 'alpha': 0.0009255266870488617, 'gamma': 0.0005235910316372444, 'reg_alpha': 0.1472790729297729, 'reg_lambda': 0.04392044092182836, 'colsample_bytree': 0.370701880593967, 'subsample': 0.6863389225812713}. Best is trial 341 with value: 0.8471760797342193.\n",
      "[I 2024-02-22 15:02:17,187] Trial 544 finished with value: 0.8354712771890686 and parameters: {'n_estimators': 308, 'learning_rate': 0.15723505568306603, 'max_depth': 12, 'alpha': 0.0002461091520046974, 'gamma': 0.0003817196649639877, 'reg_alpha': 0.11759730270452141, 'reg_lambda': 0.03698086003158752, 'colsample_bytree': 0.3534433830014809, 'subsample': 0.6545209719711066}. Best is trial 341 with value: 0.8471760797342193.\n",
      "[I 2024-02-22 15:02:23,430] Trial 545 finished with value: 0.8338028169014085 and parameters: {'n_estimators': 304, 'learning_rate': 0.16480846314462058, 'max_depth': 13, 'alpha': 0.002227559082532837, 'gamma': 0.0006244293964384032, 'reg_alpha': 0.13604330091839958, 'reg_lambda': 0.038679967674741356, 'colsample_bytree': 0.2976840692237997, 'subsample': 0.6333834773861355}. Best is trial 341 with value: 0.8471760797342193.\n",
      "[I 2024-02-22 15:02:29,545] Trial 546 finished with value: 0.8456824512534818 and parameters: {'n_estimators': 274, 'learning_rate': 0.17364568089238672, 'max_depth': 12, 'alpha': 0.00019918047844635382, 'gamma': 0.0004550030338271506, 'reg_alpha': 0.16579462328516495, 'reg_lambda': 0.03548660634161974, 'colsample_bytree': 0.3267342861406454, 'subsample': 0.6074073101846076}. Best is trial 341 with value: 0.8471760797342193.\n",
      "[I 2024-02-22 15:02:37,446] Trial 547 finished with value: 0.8379578246392898 and parameters: {'n_estimators': 254, 'learning_rate': 0.15382619803474895, 'max_depth': 12, 'alpha': 0.00020318934923656637, 'gamma': 0.0005667801547754965, 'reg_alpha': 0.16917309420387944, 'reg_lambda': 0.03578857824044771, 'colsample_bytree': 0.9830116722101407, 'subsample': 0.7106462524606959}. Best is trial 341 with value: 0.8471760797342193.\n",
      "[I 2024-02-22 15:02:44,493] Trial 548 finished with value: 0.841340782122905 and parameters: {'n_estimators': 242, 'learning_rate': 0.16380456853631767, 'max_depth': 12, 'alpha': 0.00022682121221038085, 'gamma': 0.0004602402871238033, 'reg_alpha': 0.1533247761431475, 'reg_lambda': 0.0394740338916032, 'colsample_bytree': 0.32000710420852774, 'subsample': 0.6054664493037312}. Best is trial 341 with value: 0.8471760797342193.\n",
      "[I 2024-02-22 15:02:49,265] Trial 549 finished with value: 0.8316498316498318 and parameters: {'n_estimators': 267, 'learning_rate': 0.1434745156540655, 'max_depth': 10, 'alpha': 0.00016796644669200093, 'gamma': 0.0004899609010782065, 'reg_alpha': 0.16759312360773074, 'reg_lambda': 0.042094595815981226, 'colsample_bytree': 0.2869133311524422, 'subsample': 0.6720091362439481}. Best is trial 341 with value: 0.8471760797342193.\n",
      "[I 2024-02-22 15:02:55,050] Trial 550 finished with value: 0.8361204013377926 and parameters: {'n_estimators': 268, 'learning_rate': 0.17296637929605319, 'max_depth': 12, 'alpha': 0.00018179890522527402, 'gamma': 0.0004338274853218525, 'reg_alpha': 0.14067095634122945, 'reg_lambda': 0.03710339479532143, 'colsample_bytree': 0.30726564988147975, 'subsample': 0.7573938521533677}. Best is trial 341 with value: 0.8471760797342193.\n",
      "[I 2024-02-22 15:03:00,971] Trial 551 finished with value: 0.8354712771890686 and parameters: {'n_estimators': 285, 'learning_rate': 0.1704367478405223, 'max_depth': 13, 'alpha': 0.00018418652022531717, 'gamma': 0.0004116107866224854, 'reg_alpha': 0.1891702001902833, 'reg_lambda': 0.09344421849809367, 'colsample_bytree': 0.32314226655934003, 'subsample': 0.7891101558201638}. Best is trial 341 with value: 0.8471760797342193.\n",
      "[I 2024-02-22 15:03:05,736] Trial 552 finished with value: 0.8397976391231029 and parameters: {'n_estimators': 258, 'learning_rate': 0.1784226006221843, 'max_depth': 12, 'alpha': 0.0002037697766893678, 'gamma': 0.0004882256702178216, 'reg_alpha': 0.1604564427956302, 'reg_lambda': 0.03548470634349108, 'colsample_bytree': 0.2773047548837165, 'subsample': 0.6965831570467473}. Best is trial 341 with value: 0.8471760797342193.\n",
      "[I 2024-02-22 15:03:11,466] Trial 553 finished with value: 0.8320441988950277 and parameters: {'n_estimators': 289, 'learning_rate': 0.15515424044641035, 'max_depth': 12, 'alpha': 0.00019225687131823498, 'gamma': 0.0005584175667630743, 'reg_alpha': 0.12003077595585279, 'reg_lambda': 0.03803509255713739, 'colsample_bytree': 0.35409030895899546, 'subsample': 0.43187942057691775}. Best is trial 341 with value: 0.8471760797342193.\n",
      "[I 2024-02-22 15:03:15,933] Trial 554 finished with value: 0.8328675237562884 and parameters: {'n_estimators': 230, 'learning_rate': 0.1689776872973841, 'max_depth': 13, 'alpha': 0.00015670985604582564, 'gamma': 0.00036358393011869713, 'reg_alpha': 0.17633802057285777, 'reg_lambda': 0.040713284267230476, 'colsample_bytree': 0.3016997102429531, 'subsample': 0.7299994903168507}. Best is trial 341 with value: 0.8471760797342193.\n",
      "[I 2024-02-22 15:03:23,813] Trial 555 finished with value: 0.8388176240936978 and parameters: {'n_estimators': 310, 'learning_rate': 0.18780235386431116, 'max_depth': 14, 'alpha': 0.00021109542790136572, 'gamma': 0.0004574837430452477, 'reg_alpha': 0.14413377514931888, 'reg_lambda': 0.03460111096227689, 'colsample_bytree': 0.33239789408020964, 'subsample': 0.6470774900799071}. Best is trial 341 with value: 0.8471760797342193.\n",
      "[I 2024-02-22 15:03:29,979] Trial 556 finished with value: 0.842809364548495 and parameters: {'n_estimators': 293, 'learning_rate': 0.18003287171944263, 'max_depth': 12, 'alpha': 0.00014222097910106127, 'gamma': 0.0005160343542416769, 'reg_alpha': 0.2010314443124126, 'reg_lambda': 0.0363755620530685, 'colsample_bytree': 0.30833820285682495, 'subsample': 0.6675793992586019}. Best is trial 341 with value: 0.8471760797342193.\n",
      "[I 2024-02-22 15:03:35,647] Trial 557 finished with value: 0.8352745424292846 and parameters: {'n_estimators': 281, 'learning_rate': 0.19263690590741375, 'max_depth': 13, 'alpha': 0.0002249509189169066, 'gamma': 0.00039965143084526436, 'reg_alpha': 0.180405002517393, 'reg_lambda': 0.028874643146455423, 'colsample_bytree': 0.3650856883503296, 'subsample': 0.40536274575718395}. Best is trial 341 with value: 0.8471760797342193.\n",
      "[I 2024-02-22 15:03:41,107] Trial 558 finished with value: 0.8360380526021265 and parameters: {'n_estimators': 315, 'learning_rate': 0.16736193839122832, 'max_depth': 9, 'alpha': 0.00026178735538338725, 'gamma': 0.00034836988646131463, 'reg_alpha': 0.1563040516728757, 'reg_lambda': 0.03818029803113979, 'colsample_bytree': 0.3315792288802532, 'subsample': 0.7172859008282604}. Best is trial 341 with value: 0.8471760797342193.\n",
      "[I 2024-02-22 15:03:47,926] Trial 559 finished with value: 0.8341765036537381 and parameters: {'n_estimators': 275, 'learning_rate': 0.1791768025883018, 'max_depth': 10, 'alpha': 0.00019213298898174247, 'gamma': 0.00037686972425033863, 'reg_alpha': 0.12987897880163768, 'reg_lambda': 0.04289701662943768, 'colsample_bytree': 0.289215776375785, 'subsample': 0.7779819991423029}. Best is trial 341 with value: 0.8471760797342193.\n",
      "[I 2024-02-22 15:03:53,566] Trial 560 finished with value: 0.8354712771890686 and parameters: {'n_estimators': 246, 'learning_rate': 0.19658319005330852, 'max_depth': 12, 'alpha': 0.0001729296431239098, 'gamma': 0.00044314932906155925, 'reg_alpha': 0.11365562011402906, 'reg_lambda': 0.03193147607769806, 'colsample_bytree': 0.3450238596286824, 'subsample': 0.6913729409916752}. Best is trial 341 with value: 0.8471760797342193.\n",
      "[I 2024-02-22 15:04:01,255] Trial 561 finished with value: 0.8456824512534818 and parameters: {'n_estimators': 334, 'learning_rate': 0.18763608194247197, 'max_depth': 13, 'alpha': 0.000154404280468452, 'gamma': 0.00033240608337819984, 'reg_alpha': 0.14844690404825647, 'reg_lambda': 0.02736278030611743, 'colsample_bytree': 0.3184368986060299, 'subsample': 0.6093706745975933}. Best is trial 341 with value: 0.8471760797342193.\n",
      "[I 2024-02-22 15:04:13,189] Trial 562 finished with value: 0.8370288248337029 and parameters: {'n_estimators': 726, 'learning_rate': 0.18892202152428636, 'max_depth': 13, 'alpha': 0.00013831669470373503, 'gamma': 0.00033054466050688405, 'reg_alpha': 0.1893341579924277, 'reg_lambda': 0.02557879331799528, 'colsample_bytree': 0.27649669339452443, 'subsample': 0.6056311608738748}. Best is trial 341 with value: 0.8471760797342193.\n",
      "[I 2024-02-22 15:04:20,276] Trial 563 finished with value: 0.8422222222222222 and parameters: {'n_estimators': 344, 'learning_rate': 0.19766769496528136, 'max_depth': 14, 'alpha': 0.0001508965273849381, 'gamma': 0.00031105734823477587, 'reg_alpha': 0.16116604227757458, 'reg_lambda': 0.026859433391845374, 'colsample_bytree': 0.30700960548893674, 'subsample': 0.6134526800905515}. Best is trial 341 with value: 0.8471760797342193.\n",
      "[I 2024-02-22 15:04:30,143] Trial 564 finished with value: 0.8395751816657351 and parameters: {'n_estimators': 396, 'learning_rate': 0.20225737647783196, 'max_depth': 13, 'alpha': 0.00012884730007747868, 'gamma': 0.00035599623977971607, 'reg_alpha': 0.20539072401844763, 'reg_lambda': 0.02789355426972601, 'colsample_bytree': 0.32128552510033803, 'subsample': 0.6214597555730939}. Best is trial 341 with value: 0.8471760797342193.\n",
      "[I 2024-02-22 15:04:39,769] Trial 565 finished with value: 0.8378076062639822 and parameters: {'n_estimators': 334, 'learning_rate': 0.18759023797885344, 'max_depth': 13, 'alpha': 0.0032198334600425133, 'gamma': 0.0003279250914392961, 'reg_alpha': 0.170972421411082, 'reg_lambda': 0.028156505466364643, 'colsample_bytree': 0.2935949844266555, 'subsample': 0.5925080226655827}. Best is trial 341 with value: 0.8471760797342193.\n",
      "[I 2024-02-22 15:04:49,081] Trial 566 finished with value: 0.8379888268156425 and parameters: {'n_estimators': 362, 'learning_rate': 0.20811464097685306, 'max_depth': 13, 'alpha': 0.0001568177530538356, 'gamma': 0.0001950237510904746, 'reg_alpha': 0.13686425240016628, 'reg_lambda': 0.025181482022109555, 'colsample_bytree': 0.2632298295952028, 'subsample': 0.6343634150925728}. Best is trial 341 with value: 0.8471760797342193.\n",
      "[I 2024-02-22 15:04:56,629] Trial 567 finished with value: 0.846325167037862 and parameters: {'n_estimators': 371, 'learning_rate': 0.18004869843579685, 'max_depth': 13, 'alpha': 0.0002979662219096083, 'gamma': 0.0002889141382636511, 'reg_alpha': 0.1817219097429418, 'reg_lambda': 0.030029783927631344, 'colsample_bytree': 0.31824562819276875, 'subsample': 0.583957796391268}. Best is trial 341 with value: 0.8471760797342193.\n",
      "[I 2024-02-22 15:05:05,400] Trial 568 finished with value: 0.8438724118634583 and parameters: {'n_estimators': 373, 'learning_rate': 0.17587678928392217, 'max_depth': 13, 'alpha': 0.00013823408905267847, 'gamma': 0.00036151576151844273, 'reg_alpha': 0.21284496769440056, 'reg_lambda': 0.03015246772677628, 'colsample_bytree': 0.3061886366469178, 'subsample': 0.6132900623586223}. Best is trial 341 with value: 0.8471760797342193.\n",
      "[I 2024-02-22 15:05:14,054] Trial 569 finished with value: 0.8396436525612473 and parameters: {'n_estimators': 370, 'learning_rate': 0.17329315621714633, 'max_depth': 14, 'alpha': 0.000138399384743201, 'gamma': 0.0003616069473411534, 'reg_alpha': 0.21260027351370442, 'reg_lambda': 0.029742194048738582, 'colsample_bytree': 0.2861319337723599, 'subsample': 0.5814150266474093}. Best is trial 341 with value: 0.8471760797342193.\n",
      "[I 2024-02-22 15:05:21,261] Trial 570 finished with value: 0.8389972144846797 and parameters: {'n_estimators': 383, 'learning_rate': 0.1772445875950587, 'max_depth': 14, 'alpha': 0.0001322274353831551, 'gamma': 0.0003750389910811763, 'reg_alpha': 0.21677699882675855, 'reg_lambda': 0.0268164801452758, 'colsample_bytree': 0.3132776232272486, 'subsample': 0.6018499635541213}. Best is trial 341 with value: 0.8471760797342193.\n",
      "[I 2024-02-22 15:05:28,227] Trial 571 finished with value: 0.8411005053340819 and parameters: {'n_estimators': 351, 'learning_rate': 0.17058849342425295, 'max_depth': 13, 'alpha': 0.00014371748091604494, 'gamma': 0.0003987425215987058, 'reg_alpha': 0.22066235269709333, 'reg_lambda': 0.03085420783158125, 'colsample_bytree': 0.2777894223060144, 'subsample': 0.5703438584163315}. Best is trial 341 with value: 0.8471760797342193.\n",
      "[I 2024-02-22 15:05:38,108] Trial 572 finished with value: 0.8423398328690808 and parameters: {'n_estimators': 350, 'learning_rate': 0.18262651549444947, 'max_depth': 13, 'alpha': 0.0003288246695153601, 'gamma': 0.00032983761025749225, 'reg_alpha': 0.1969313970385997, 'reg_lambda': 0.029823810931087262, 'colsample_bytree': 0.30135522294206135, 'subsample': 0.6118362003642103}. Best is trial 341 with value: 0.8471760797342193.\n",
      "[I 2024-02-22 15:05:46,490] Trial 573 finished with value: 0.8383500557413601 and parameters: {'n_estimators': 376, 'learning_rate': 0.1613316579044132, 'max_depth': 13, 'alpha': 0.00030217308348880347, 'gamma': 0.00029938000212523827, 'reg_alpha': 0.22779419522288238, 'reg_lambda': 0.03157005219577626, 'colsample_bytree': 0.32725225650127787, 'subsample': 0.5824176785756107}. Best is trial 341 with value: 0.8471760797342193.\n",
      "[I 2024-02-22 15:05:53,884] Trial 574 finished with value: 0.8408071748878924 and parameters: {'n_estimators': 336, 'learning_rate': 0.17808506508788685, 'max_depth': 13, 'alpha': 0.00027793464447812524, 'gamma': 0.00039874161604444813, 'reg_alpha': 0.19026069813957505, 'reg_lambda': 0.028888802532311016, 'colsample_bytree': 0.2935349876535277, 'subsample': 0.6067887795188455}. Best is trial 341 with value: 0.8471760797342193.\n",
      "[I 2024-02-22 15:06:01,130] Trial 575 finished with value: 0.8419282511210762 and parameters: {'n_estimators': 387, 'learning_rate': 0.18661012811781558, 'max_depth': 14, 'alpha': 0.00015448786112327411, 'gamma': 0.00034466027167351625, 'reg_alpha': 0.20387497755528283, 'reg_lambda': 0.02658595220160566, 'colsample_bytree': 0.2622923920399409, 'subsample': 0.6248346014141748}. Best is trial 341 with value: 0.8471760797342193.\n",
      "[I 2024-02-22 15:06:09,830] Trial 576 finished with value: 0.8398891966759002 and parameters: {'n_estimators': 361, 'learning_rate': 0.17091205564315984, 'max_depth': 13, 'alpha': 0.00016531462807709333, 'gamma': 0.0002925984092035237, 'reg_alpha': 0.18287064687688118, 'reg_lambda': 0.032627228172206556, 'colsample_bytree': 0.31954335576416043, 'subsample': 0.5628274830390712}. Best is trial 341 with value: 0.8471760797342193.\n",
      "[I 2024-02-22 15:06:16,758] Trial 577 finished with value: 0.8358375069560379 and parameters: {'n_estimators': 326, 'learning_rate': 0.18395800244438293, 'max_depth': 14, 'alpha': 0.00012602018603680932, 'gamma': 0.00031961123120251945, 'reg_alpha': 0.23640916323655514, 'reg_lambda': 0.030815713081670124, 'colsample_bytree': 0.3325238643151248, 'subsample': 0.5854558784208392}. Best is trial 341 with value: 0.8471760797342193.\n",
      "[I 2024-02-22 15:06:22,467] Trial 578 finished with value: 0.8381696428571428 and parameters: {'n_estimators': 301, 'learning_rate': 0.19054881627904027, 'max_depth': 13, 'alpha': 0.00014168303620683574, 'gamma': 0.0003639857121528634, 'reg_alpha': 0.26956917556466914, 'reg_lambda': 0.024892668302762457, 'colsample_bytree': 0.268800085959251, 'subsample': 0.5912456376942516}. Best is trial 341 with value: 0.8471760797342193.\n",
      "[I 2024-02-22 15:06:29,538] Trial 579 finished with value: 0.8460255697609783 and parameters: {'n_estimators': 366, 'learning_rate': 0.17711209664429248, 'max_depth': 12, 'alpha': 0.00016768443873523966, 'gamma': 0.0004124462898330594, 'reg_alpha': 0.18173965583054377, 'reg_lambda': 0.03391769273362591, 'colsample_bytree': 0.3027014909211571, 'subsample': 0.5950793415610727}. Best is trial 341 with value: 0.8471760797342193.\n",
      "[I 2024-02-22 15:06:36,026] Trial 580 finished with value: 0.8429844097995545 and parameters: {'n_estimators': 370, 'learning_rate': 0.16339467586863832, 'max_depth': 12, 'alpha': 0.00015892439970645892, 'gamma': 0.00042512712929743053, 'reg_alpha': 0.20227595392353245, 'reg_lambda': 0.032577986115190506, 'colsample_bytree': 0.29532871922826687, 'subsample': 0.5798906772281008}. Best is trial 341 with value: 0.8471760797342193.\n",
      "[I 2024-02-22 15:06:46,279] Trial 581 finished with value: 0.8390677025527192 and parameters: {'n_estimators': 384, 'learning_rate': 0.17683816597244653, 'max_depth': 12, 'alpha': 0.00013353732401723994, 'gamma': 0.000415084726821723, 'reg_alpha': 0.21530955696130635, 'reg_lambda': 0.027849586425544345, 'colsample_bytree': 0.2760170915159882, 'subsample': 0.5982573899268736}. Best is trial 341 with value: 0.8471760797342193.\n",
      "[I 2024-02-22 15:06:52,634] Trial 582 finished with value: 0.830631637786473 and parameters: {'n_estimators': 347, 'learning_rate': 0.15547596856797083, 'max_depth': 12, 'alpha': 0.00014590073254072767, 'gamma': 0.00033199431337822344, 'reg_alpha': 0.18988264428109247, 'reg_lambda': 0.03381173328381534, 'colsample_bytree': 0.2519384359731435, 'subsample': 0.5982342964422921}. Best is trial 341 with value: 0.8471760797342193.\n",
      "[I 2024-02-22 15:07:00,010] Trial 583 finished with value: 0.842809364548495 and parameters: {'n_estimators': 368, 'learning_rate': 0.17102260493162652, 'max_depth': 12, 'alpha': 0.00017068593764080854, 'gamma': 0.00029618071288389433, 'reg_alpha': 0.18021668287658027, 'reg_lambda': 0.029754023706394836, 'colsample_bytree': 0.308774705142533, 'subsample': 0.6052197580554726}. Best is trial 341 with value: 0.8471760797342193.\n",
      "[I 2024-02-22 15:07:07,074] Trial 584 finished with value: 0.8338945005611672 and parameters: {'n_estimators': 355, 'learning_rate': 0.18187008244252048, 'max_depth': 13, 'alpha': 0.00010055596520179619, 'gamma': 0.0006788235009777373, 'reg_alpha': 0.24205027755835706, 'reg_lambda': 0.03142114570790368, 'colsample_bytree': 0.28601692479539687, 'subsample': 0.5515310728641588}. Best is trial 341 with value: 0.8471760797342193.\n",
      "[I 2024-02-22 15:07:17,096] Trial 585 finished with value: 0.8445682451253481 and parameters: {'n_estimators': 402, 'learning_rate': 0.19108225085098118, 'max_depth': 12, 'alpha': 0.00011280219772216867, 'gamma': 0.0002795634360770177, 'reg_alpha': 0.21620414658844364, 'reg_lambda': 0.03388213217331638, 'colsample_bytree': 0.30811958592763705, 'subsample': 0.6236187799949658}. Best is trial 341 with value: 0.8471760797342193.\n",
      "[I 2024-02-22 15:07:27,378] Trial 586 finished with value: 0.8434540389972145 and parameters: {'n_estimators': 403, 'learning_rate': 0.19431192903887765, 'max_depth': 12, 'alpha': 0.00012072980379547677, 'gamma': 0.00025812030672942027, 'reg_alpha': 0.17681440180365976, 'reg_lambda': 0.03469046875388918, 'colsample_bytree': 0.32094029669189733, 'subsample': 0.6405125815692777}. Best is trial 341 with value: 0.8471760797342193.\n",
      "[I 2024-02-22 15:07:35,059] Trial 587 finished with value: 0.8472299944040292 and parameters: {'n_estimators': 416, 'learning_rate': 0.19951371589544611, 'max_depth': 12, 'alpha': 0.00010845407775812668, 'gamma': 0.000266521843888921, 'reg_alpha': 0.2526804921384703, 'reg_lambda': 0.03235125214214459, 'colsample_bytree': 0.29227039350344286, 'subsample': 0.6268120859373454}. Best is trial 587 with value: 0.8472299944040292.\n",
      "[I 2024-02-22 15:07:41,580] Trial 588 finished with value: 0.8364042434394193 and parameters: {'n_estimators': 406, 'learning_rate': 0.20236382309366333, 'max_depth': 12, 'alpha': 0.00010000948656827631, 'gamma': 0.00027590101212303993, 'reg_alpha': 0.24454264087995548, 'reg_lambda': 0.03273535337900145, 'colsample_bytree': 0.2705858310817968, 'subsample': 0.6516593625753145}. Best is trial 587 with value: 0.8472299944040292.\n",
      "[I 2024-02-22 15:07:49,480] Trial 589 finished with value: 0.8361204013377926 and parameters: {'n_estimators': 418, 'learning_rate': 0.19295175082285, 'max_depth': 12, 'alpha': 0.00011435203826686717, 'gamma': 0.00024580164585744833, 'reg_alpha': 0.2605281127071062, 'reg_lambda': 0.03305071079340376, 'colsample_bytree': 0.28920656289403607, 'subsample': 0.6269408337694904}. Best is trial 587 with value: 0.8472299944040292.\n",
      "[I 2024-02-22 15:07:57,433] Trial 590 finished with value: 0.8378076062639822 and parameters: {'n_estimators': 430, 'learning_rate': 0.2030909361126977, 'max_depth': 12, 'alpha': 0.00011180825390274296, 'gamma': 0.0002698835322580032, 'reg_alpha': 0.280697002470637, 'reg_lambda': 0.0340199674282483, 'colsample_bytree': 0.25307745156286227, 'subsample': 0.5760826363420345}. Best is trial 587 with value: 0.8472299944040292.\n",
      "[I 2024-02-22 15:08:05,107] Trial 591 finished with value: 0.8379888268156425 and parameters: {'n_estimators': 400, 'learning_rate': 0.1935139905051337, 'max_depth': 12, 'alpha': 0.00011016394696952117, 'gamma': 0.00029740771803860136, 'reg_alpha': 0.22862070244567487, 'reg_lambda': 0.03432862387777199, 'colsample_bytree': 0.30248940876079294, 'subsample': 0.5885666724776103}. Best is trial 587 with value: 0.8472299944040292.\n",
      "[I 2024-02-22 15:08:12,274] Trial 592 finished with value: 0.8406931246506429 and parameters: {'n_estimators': 393, 'learning_rate': 0.20232152010024831, 'max_depth': 11, 'alpha': 0.00010637354112136582, 'gamma': 0.00025403718371620754, 'reg_alpha': 0.2576984135677983, 'reg_lambda': 0.03173619503265028, 'colsample_bytree': 0.27758862367722453, 'subsample': 0.6262440530415936}. Best is trial 587 with value: 0.8472299944040292.\n",
      "[I 2024-02-22 15:08:20,024] Trial 593 finished with value: 0.8409343715239155 and parameters: {'n_estimators': 410, 'learning_rate': 0.18749491796180828, 'max_depth': 12, 'alpha': 0.00012363186011121976, 'gamma': 0.0002797216917142423, 'reg_alpha': 0.23104519748510466, 'reg_lambda': 0.02309079324104827, 'colsample_bytree': 0.2978448542902734, 'subsample': 0.6447241555890025}. Best is trial 587 with value: 0.8472299944040292.\n",
      "[I 2024-02-22 15:08:32,766] Trial 594 finished with value: 0.840946615299945 and parameters: {'n_estimators': 424, 'learning_rate': 0.21087076083102624, 'max_depth': 11, 'alpha': 0.00010434348166863152, 'gamma': 0.0003133233305283305, 'reg_alpha': 0.2092652422000338, 'reg_lambda': 0.03366513376463419, 'colsample_bytree': 0.26866034048778553, 'subsample': 0.45864317805947225}. Best is trial 587 with value: 0.8472299944040292.\n",
      "[I 2024-02-22 15:08:39,798] Trial 595 finished with value: 0.8450860632981676 and parameters: {'n_estimators': 391, 'learning_rate': 0.2209935983411863, 'max_depth': 12, 'alpha': 0.0001160612277022051, 'gamma': 0.0002470013090318187, 'reg_alpha': 0.28265625129717753, 'reg_lambda': 0.03150048402510522, 'colsample_bytree': 0.318270740311429, 'subsample': 0.608807317020283}. Best is trial 587 with value: 0.8472299944040292.\n",
      "[I 2024-02-22 15:08:46,906] Trial 596 finished with value: 0.8382434685936632 and parameters: {'n_estimators': 419, 'learning_rate': 0.23018339681663433, 'max_depth': 12, 'alpha': 0.00011514549507701092, 'gamma': 0.00023473716971245101, 'reg_alpha': 0.2852631395103117, 'reg_lambda': 0.028480640557134538, 'colsample_bytree': 0.2880696890212163, 'subsample': 0.6058049278207965}. Best is trial 587 with value: 0.8472299944040292.\n",
      "[I 2024-02-22 15:08:54,305] Trial 597 finished with value: 0.8335195530726257 and parameters: {'n_estimators': 388, 'learning_rate': 0.21944595095235736, 'max_depth': 12, 'alpha': 0.00012168559359255338, 'gamma': 0.00022897068488023477, 'reg_alpha': 0.27527648554382267, 'reg_lambda': 0.032030819547019716, 'colsample_bytree': 0.30950514254173983, 'subsample': 0.5611650663822128}. Best is trial 587 with value: 0.8472299944040292.\n",
      "[I 2024-02-22 15:09:01,370] Trial 598 finished with value: 0.837883008356546 and parameters: {'n_estimators': 398, 'learning_rate': 0.22415555192987252, 'max_depth': 13, 'alpha': 0.00011693126676629038, 'gamma': 0.0002589071960385246, 'reg_alpha': 0.2523239770992332, 'reg_lambda': 0.030986798325245188, 'colsample_bytree': 0.2552667819677318, 'subsample': 0.5948224801727009}. Best is trial 587 with value: 0.8472299944040292.\n",
      "[I 2024-02-22 15:09:09,143] Trial 599 finished with value: 0.8439755691282621 and parameters: {'n_estimators': 391, 'learning_rate': 0.214798384576121, 'max_depth': 12, 'alpha': 0.00010465363636237072, 'gamma': 0.00021691954509903366, 'reg_alpha': 0.2783624575140215, 'reg_lambda': 0.02983770684491173, 'colsample_bytree': 0.31469031185884117, 'subsample': 0.6165226299911171}. Best is trial 587 with value: 0.8472299944040292.\n",
      "[I 2024-02-22 15:09:18,021] Trial 600 finished with value: 0.842809364548495 and parameters: {'n_estimators': 436, 'learning_rate': 0.2075043815783529, 'max_depth': 13, 'alpha': 0.00012913958710686872, 'gamma': 0.00025014137476690615, 'reg_alpha': 0.26125100335920204, 'reg_lambda': 0.027883296416823963, 'colsample_bytree': 0.2874785290360975, 'subsample': 0.6386574781668231}. Best is trial 587 with value: 0.8472299944040292.\n",
      "[I 2024-02-22 15:09:25,999] Trial 601 finished with value: 0.8458542014468559 and parameters: {'n_estimators': 405, 'learning_rate': 0.22521701333653232, 'max_depth': 12, 'alpha': 0.00011278683799958602, 'gamma': 0.00028084190465784776, 'reg_alpha': 0.29135616909386414, 'reg_lambda': 0.03201793610059316, 'colsample_bytree': 0.30062282249477196, 'subsample': 0.614367995014745}. Best is trial 587 with value: 0.8472299944040292.\n",
      "[I 2024-02-22 15:09:33,900] Trial 602 finished with value: 0.8385300668151447 and parameters: {'n_estimators': 417, 'learning_rate': 0.22547909109071898, 'max_depth': 12, 'alpha': 0.00011684524357737653, 'gamma': 0.00027263178668958767, 'reg_alpha': 0.29395890529151947, 'reg_lambda': 0.03067834441129865, 'colsample_bytree': 0.2771440762176454, 'subsample': 0.5924698426730509}. Best is trial 587 with value: 0.8472299944040292.\n",
      "[I 2024-02-22 15:09:40,741] Trial 603 finished with value: 0.8359201773835921 and parameters: {'n_estimators': 437, 'learning_rate': 0.24056781752290704, 'max_depth': 12, 'alpha': 0.00010025305533579266, 'gamma': 0.00022281022297962458, 'reg_alpha': 0.2828728806825743, 'reg_lambda': 0.03148388708843647, 'colsample_bytree': 0.2596693641150498, 'subsample': 0.6124057825303367}. Best is trial 587 with value: 0.8472299944040292.\n",
      "[I 2024-02-22 15:09:48,635] Trial 604 finished with value: 0.8338870431893689 and parameters: {'n_estimators': 412, 'learning_rate': 0.2299206733986653, 'max_depth': 12, 'alpha': 0.00011054649753598037, 'gamma': 0.000246479173928019, 'reg_alpha': 0.26072148279318585, 'reg_lambda': 0.028500208917151895, 'colsample_bytree': 0.29604089807885425, 'subsample': 0.5806746595892329}. Best is trial 587 with value: 0.8472299944040292.\n",
      "[I 2024-02-22 15:09:55,314] Trial 605 finished with value: 0.8359375 and parameters: {'n_estimators': 390, 'learning_rate': 0.23230649685162286, 'max_depth': 12, 'alpha': 0.00012548434937371684, 'gamma': 0.0002855917041036973, 'reg_alpha': 0.3006997354974365, 'reg_lambda': 0.03213560865785439, 'colsample_bytree': 0.30168170848228315, 'subsample': 0.6346365956233264}. Best is trial 587 with value: 0.8472299944040292.\n",
      "[I 2024-02-22 15:10:02,536] Trial 606 finished with value: 0.8436282693377851 and parameters: {'n_estimators': 405, 'learning_rate': 0.21818924533485975, 'max_depth': 13, 'alpha': 0.00011114142512560906, 'gamma': 0.0002705353785450502, 'reg_alpha': 0.28211610303593126, 'reg_lambda': 0.060453272688523185, 'colsample_bytree': 0.27357253358719996, 'subsample': 0.6030532182308299}. Best is trial 587 with value: 0.8472299944040292.\n",
      "[I 2024-02-22 15:10:09,984] Trial 607 finished with value: 0.8371572467823168 and parameters: {'n_estimators': 379, 'learning_rate': 0.21857372770502376, 'max_depth': 12, 'alpha': 0.00012986333744963098, 'gamma': 0.00023549820197500256, 'reg_alpha': 0.24917781370794703, 'reg_lambda': 0.030019470021072046, 'colsample_bytree': 0.2472172941432383, 'subsample': 0.617866662786153}. Best is trial 587 with value: 0.8472299944040292.\n",
      "[I 2024-02-22 15:10:18,518] Trial 608 finished with value: 0.839176405119644 and parameters: {'n_estimators': 431, 'learning_rate': 0.21115284190166028, 'max_depth': 13, 'alpha': 0.00012220140225611988, 'gamma': 0.0002950193616922895, 'reg_alpha': 0.2663713594946363, 'reg_lambda': 0.02637529818765874, 'colsample_bytree': 0.31449803341378746, 'subsample': 0.6571440372376811}. Best is trial 587 with value: 0.8472299944040292.\n",
      "[I 2024-02-22 15:10:26,674] Trial 609 finished with value: 0.8365867261572782 and parameters: {'n_estimators': 418, 'learning_rate': 0.232722946807398, 'max_depth': 12, 'alpha': 0.00010290886644449144, 'gamma': 0.0002743882531345601, 'reg_alpha': 0.23136660753640653, 'reg_lambda': 0.03292958976865015, 'colsample_bytree': 0.2859353156021292, 'subsample': 0.6356043186441565}. Best is trial 587 with value: 0.8472299944040292.\n",
      "[I 2024-02-22 15:10:35,649] Trial 610 finished with value: 0.8396694214876034 and parameters: {'n_estimators': 449, 'learning_rate': 0.2021096050704261, 'max_depth': 13, 'alpha': 0.00011261344592653151, 'gamma': 0.00023530456986091153, 'reg_alpha': 0.2908397280804324, 'reg_lambda': 0.033819585231797886, 'colsample_bytree': 0.30256452726849553, 'subsample': 0.5694305721090772}. Best is trial 587 with value: 0.8472299944040292.\n",
      "[I 2024-02-22 15:10:42,540] Trial 611 finished with value: 0.8327759197324415 and parameters: {'n_estimators': 400, 'learning_rate': 0.22313906958777188, 'max_depth': 12, 'alpha': 0.00011137111730286363, 'gamma': 0.00020408578649305025, 'reg_alpha': 0.2216116908066668, 'reg_lambda': 0.029233892884545937, 'colsample_bytree': 0.24146018813918818, 'subsample': 0.5349089034431354}. Best is trial 587 with value: 0.8472299944040292.\n",
      "[I 2024-02-22 15:10:55,314] Trial 612 finished with value: 0.8457269700332962 and parameters: {'n_estimators': 584, 'learning_rate': 0.2069072303511117, 'max_depth': 13, 'alpha': 0.00012723810275737916, 'gamma': 0.0002611263476134736, 'reg_alpha': 0.24610687848911417, 'reg_lambda': 0.03203679545104715, 'colsample_bytree': 0.3161396512053112, 'subsample': 0.5884313146674547}. Best is trial 587 with value: 0.8472299944040292.\n",
      "[I 2024-02-22 15:11:07,185] Trial 613 finished with value: 0.8365650969529087 and parameters: {'n_estimators': 583, 'learning_rate': 0.20468781521764495, 'max_depth': 14, 'alpha': 0.00013186627839490385, 'gamma': 0.0003000629462113843, 'reg_alpha': 0.2435143784609068, 'reg_lambda': 0.03084508140649861, 'colsample_bytree': 0.32244408109873984, 'subsample': 0.550148586684976}. Best is trial 587 with value: 0.8472299944040292.\n",
      "[I 2024-02-22 15:11:16,916] Trial 614 finished with value: 0.837702175125488 and parameters: {'n_estimators': 585, 'learning_rate': 0.21021626002542154, 'max_depth': 13, 'alpha': 0.00013258131581523426, 'gamma': 0.0002664266735258369, 'reg_alpha': 0.2676966548887777, 'reg_lambda': 0.026860115823234033, 'colsample_bytree': 0.33200582418106195, 'subsample': 0.584219410795467}. Best is trial 587 with value: 0.8472299944040292.\n",
      "[I 2024-02-22 15:11:29,597] Trial 615 finished with value: 0.8318485523385301 and parameters: {'n_estimators': 579, 'learning_rate': 0.1958839631848322, 'max_depth': 14, 'alpha': 0.00012770276332929855, 'gamma': 0.0002527268031691133, 'reg_alpha': 0.2521153463718743, 'reg_lambda': 0.024438240123475303, 'colsample_bytree': 0.31539169993962457, 'subsample': 0.5935762986192199}. Best is trial 587 with value: 0.8472299944040292.\n",
      "[I 2024-02-22 15:11:39,051] Trial 616 finished with value: 0.8338907469342252 and parameters: {'n_estimators': 558, 'learning_rate': 0.19850968449890133, 'max_depth': 13, 'alpha': 0.00011950498245835431, 'gamma': 0.00030565898029234333, 'reg_alpha': 0.22821909107494479, 'reg_lambda': 0.03129933787277341, 'colsample_bytree': 0.26702319119437573, 'subsample': 0.5818069536899777}. Best is trial 587 with value: 0.8472299944040292.\n",
      "[I 2024-02-22 15:11:49,875] Trial 617 finished with value: 0.8410485220301172 and parameters: {'n_estimators': 565, 'learning_rate': 0.20882305051091365, 'max_depth': 13, 'alpha': 0.00011044068134346306, 'gamma': 0.00028431432400246784, 'reg_alpha': 0.26976061937485846, 'reg_lambda': 0.028742677704420763, 'colsample_bytree': 0.28796546098457826, 'subsample': 0.5576773733868315}. Best is trial 587 with value: 0.8472299944040292.\n",
      "[I 2024-02-22 15:11:58,400] Trial 618 finished with value: 0.8343627175743964 and parameters: {'n_estimators': 601, 'learning_rate': 0.19480500247259094, 'max_depth': 13, 'alpha': 0.0001387227833945127, 'gamma': 0.0002523250300367324, 'reg_alpha': 0.24931171737460373, 'reg_lambda': 0.032411952274298376, 'colsample_bytree': 0.1147173329546664, 'subsample': 0.6657622432982205}. Best is trial 587 with value: 0.8472299944040292.\n",
      "[I 2024-02-22 15:12:11,157] Trial 619 finished with value: 0.835005574136009 and parameters: {'n_estimators': 749, 'learning_rate': 0.20325731563140997, 'max_depth': 14, 'alpha': 0.0001132034555116999, 'gamma': 0.0003060943024095645, 'reg_alpha': 0.28615109825095025, 'reg_lambda': 0.029857158957263614, 'colsample_bytree': 0.3204603564577925, 'subsample': 0.6498941970081191}. Best is trial 587 with value: 0.8472299944040292.\n",
      "[I 2024-02-22 15:12:19,689] Trial 620 finished with value: 0.841225626740947 and parameters: {'n_estimators': 387, 'learning_rate': 0.21374053675684088, 'max_depth': 13, 'alpha': 0.00012522594460559084, 'gamma': 0.0002672539196639384, 'reg_alpha': 0.23632821396716394, 'reg_lambda': 0.03457810014236402, 'colsample_bytree': 0.331502283161842, 'subsample': 0.6066979685792662}. Best is trial 587 with value: 0.8472299944040292.\n",
      "[I 2024-02-22 15:12:30,810] Trial 621 finished with value: 0.8383167220376523 and parameters: {'n_estimators': 376, 'learning_rate': 0.18995232315018312, 'max_depth': 13, 'alpha': 0.00010032693072670124, 'gamma': 0.000316966187310448, 'reg_alpha': 0.20080800000557217, 'reg_lambda': 0.03219318359015989, 'colsample_bytree': 0.30370396105211317, 'subsample': 0.5698441140273334}. Best is trial 587 with value: 0.8472299944040292.\n",
      "[I 2024-02-22 15:12:41,467] Trial 622 finished with value: 0.841225626740947 and parameters: {'n_estimators': 601, 'learning_rate': 0.19904974358162736, 'max_depth': 14, 'alpha': 0.00014149932677130585, 'gamma': 0.0002939764163489227, 'reg_alpha': 0.2155478529123163, 'reg_lambda': 0.02761698426016894, 'colsample_bytree': 0.2788413153661947, 'subsample': 0.6260660778595974}. Best is trial 587 with value: 0.8472299944040292.\n",
      "[I 2024-02-22 15:12:52,606] Trial 623 finished with value: 0.8386023294509151 and parameters: {'n_estimators': 578, 'learning_rate': 0.1889253034640943, 'max_depth': 13, 'alpha': 0.0001207674370158458, 'gamma': 0.00025055269620632276, 'reg_alpha': 0.2644626893431835, 'reg_lambda': 0.03460898382392765, 'colsample_bytree': 0.33636675049407877, 'subsample': 0.6709259977549592}. Best is trial 587 with value: 0.8472299944040292.\n",
      "[I 2024-02-22 15:12:59,676] Trial 624 finished with value: 0.8367919237240605 and parameters: {'n_estimators': 411, 'learning_rate': 0.21490261238016625, 'max_depth': 13, 'alpha': 0.00014620773161390694, 'gamma': 0.000278454806840751, 'reg_alpha': 0.3042447537417316, 'reg_lambda': 0.02983531733942891, 'colsample_bytree': 0.25271953986201806, 'subsample': 0.5935535067643526}. Best is trial 587 with value: 0.8472299944040292.\n",
      "[I 2024-02-22 15:13:07,558] Trial 625 finished with value: 0.8360200111172874 and parameters: {'n_estimators': 385, 'learning_rate': 0.22576272496468958, 'max_depth': 12, 'alpha': 0.00998019145332296, 'gamma': 0.00031050466219231576, 'reg_alpha': 0.19918357666002184, 'reg_lambda': 0.03269054797035855, 'colsample_bytree': 0.30946090401757637, 'subsample': 0.6489902081746091}. Best is trial 587 with value: 0.8472299944040292.\n",
      "[I 2024-02-22 15:13:15,142] Trial 626 finished with value: 0.8261351052048727 and parameters: {'n_estimators': 427, 'learning_rate': 0.2051429079407634, 'max_depth': 13, 'alpha': 0.00011014809517099388, 'gamma': 0.00022550865826317243, 'reg_alpha': 0.23671785701458015, 'reg_lambda': 0.022628557267259635, 'colsample_bytree': 0.2902184232167951, 'subsample': 0.4232490539991372}. Best is trial 587 with value: 0.8472299944040292.\n",
      "[I 2024-02-22 15:13:22,507] Trial 627 finished with value: 0.8434540389972145 and parameters: {'n_estimators': 394, 'learning_rate': 0.19056236304717653, 'max_depth': 12, 'alpha': 0.0001217626826941056, 'gamma': 0.000328255059630607, 'reg_alpha': 0.29366808262271116, 'reg_lambda': 0.03101884153293719, 'colsample_bytree': 0.31673755733644765, 'subsample': 0.5675714683451945}. Best is trial 587 with value: 0.8472299944040292.\n",
      "[I 2024-02-22 15:13:31,255] Trial 628 finished with value: 0.8385650224215246 and parameters: {'n_estimators': 368, 'learning_rate': 0.19801469999168891, 'max_depth': 12, 'alpha': 0.00013555340772933555, 'gamma': 0.00026046956242230745, 'reg_alpha': 0.21977839196237392, 'reg_lambda': 0.02616229119993371, 'colsample_bytree': 0.26584205886004425, 'subsample': 0.6122128292482396}. Best is trial 587 with value: 0.8472299944040292.\n",
      "[I 2024-02-22 15:13:39,791] Trial 629 finished with value: 0.8425153032832499 and parameters: {'n_estimators': 407, 'learning_rate': 0.21189576749973066, 'max_depth': 14, 'alpha': 0.0001529102284605995, 'gamma': 0.0002863525692500392, 'reg_alpha': 0.2502665716417326, 'reg_lambda': 0.035208329991779835, 'colsample_bytree': 0.3357098012108638, 'subsample': 0.6323049899567434}. Best is trial 587 with value: 0.8472299944040292.\n",
      "[I 2024-02-22 15:13:50,325] Trial 630 finished with value: 0.8372352285395763 and parameters: {'n_estimators': 591, 'learning_rate': 0.18792976122158553, 'max_depth': 13, 'alpha': 0.00011854066254120979, 'gamma': 0.00025523609464787634, 'reg_alpha': 0.19546464534333782, 'reg_lambda': 0.03372533076541267, 'colsample_bytree': 0.29126798136091586, 'subsample': 0.6667611191913914}. Best is trial 587 with value: 0.8472299944040292.\n",
      "[I 2024-02-22 15:13:58,440] Trial 631 finished with value: 0.8430393788130893 and parameters: {'n_estimators': 443, 'learning_rate': 0.2209915117251302, 'max_depth': 12, 'alpha': 0.00010692570736822779, 'gamma': 0.00028607075888871676, 'reg_alpha': 0.277351567810832, 'reg_lambda': 0.028844577477760897, 'colsample_bytree': 0.3143299480989339, 'subsample': 0.6054238286804721}. Best is trial 587 with value: 0.8472299944040292.\n",
      "[I 2024-02-22 15:14:08,104] Trial 632 finished with value: 0.8390677025527192 and parameters: {'n_estimators': 607, 'learning_rate': 0.20344389897018675, 'max_depth': 13, 'alpha': 0.0001349769748887264, 'gamma': 0.0003323461578958498, 'reg_alpha': 0.21409452621350764, 'reg_lambda': 0.03237526273492455, 'colsample_bytree': 0.24078348404658434, 'subsample': 0.6810624901517971}. Best is trial 587 with value: 0.8472299944040292.\n",
      "[I 2024-02-22 15:14:22,806] Trial 633 finished with value: 0.8318584070796461 and parameters: {'n_estimators': 771, 'learning_rate': 0.23896857325639248, 'max_depth': 12, 'alpha': 0.00010063264821872718, 'gamma': 0.00023339719935829361, 'reg_alpha': 0.1827034335431125, 'reg_lambda': 0.030515750626145643, 'colsample_bytree': 0.33125698190902675, 'subsample': 0.636124766132636}. Best is trial 587 with value: 0.8472299944040292.\n",
      "[I 2024-02-22 15:14:29,274] Trial 634 finished with value: 0.8326848249027238 and parameters: {'n_estimators': 373, 'learning_rate': 0.18310994516143783, 'max_depth': 14, 'alpha': 0.00015235710880966637, 'gamma': 0.0002995800110831856, 'reg_alpha': 0.23534665921478382, 'reg_lambda': 0.03483853063567613, 'colsample_bytree': 0.2779248733374635, 'subsample': 0.28168699403111824}. Best is trial 587 with value: 0.8472299944040292.\n",
      "[I 2024-02-22 15:14:36,544] Trial 635 finished with value: 0.8398220244716351 and parameters: {'n_estimators': 363, 'learning_rate': 0.1974866719013227, 'max_depth': 13, 'alpha': 0.000126111513741374, 'gamma': 0.00033073951957586284, 'reg_alpha': 0.25763660540893424, 'reg_lambda': 0.033055218824968625, 'colsample_bytree': 0.3456214585235737, 'subsample': 0.4457843054131517}. Best is trial 587 with value: 0.8472299944040292.\n",
      "[I 2024-02-22 15:14:44,143] Trial 636 finished with value: 0.8408208541320022 and parameters: {'n_estimators': 394, 'learning_rate': 0.21098607121381932, 'max_depth': 12, 'alpha': 0.00011180816522630974, 'gamma': 0.0002748347417819348, 'reg_alpha': 0.20047508805113018, 'reg_lambda': 0.02435119159550195, 'colsample_bytree': 0.30029966455421686, 'subsample': 0.587940054452475}. Best is trial 587 with value: 0.8472299944040292.\n",
      "[I 2024-02-22 15:14:51,340] Trial 637 finished with value: 0.8397543271915132 and parameters: {'n_estimators': 426, 'learning_rate': 0.23025498747790973, 'max_depth': 13, 'alpha': 0.00013765087725365696, 'gamma': 0.0002339458963342216, 'reg_alpha': 0.4639668261137792, 'reg_lambda': 0.027909524255005164, 'colsample_bytree': 0.3183117994515068, 'subsample': 0.656658644897871}. Best is trial 587 with value: 0.8472299944040292.\n",
      "[I 2024-02-22 15:14:59,186] Trial 638 finished with value: 0.8381696428571428 and parameters: {'n_estimators': 383, 'learning_rate': 0.18585986367431703, 'max_depth': 12, 'alpha': 0.00011989910740276156, 'gamma': 0.0003389156574441696, 'reg_alpha': 0.2941547038880258, 'reg_lambda': 0.03146835394871866, 'colsample_bytree': 0.2632499433586343, 'subsample': 0.6217997855692474}. Best is trial 587 with value: 0.8472299944040292.\n",
      "[I 2024-02-22 15:15:09,923] Trial 639 finished with value: 0.831672203765227 and parameters: {'n_estimators': 611, 'learning_rate': 0.218767969357627, 'max_depth': 12, 'alpha': 0.00015230977483373162, 'gamma': 0.00026048329627774105, 'reg_alpha': 0.185359408964714, 'reg_lambda': 0.035432025409013156, 'colsample_bytree': 0.29592833331343327, 'subsample': 0.3892403747756141}. Best is trial 587 with value: 0.8472299944040292.\n",
      "[I 2024-02-22 15:15:25,561] Trial 640 finished with value: 0.8369504730105731 and parameters: {'n_estimators': 886, 'learning_rate': 0.1967693319859615, 'max_depth': 14, 'alpha': 0.00013367226582499268, 'gamma': 0.00030691308433526644, 'reg_alpha': 0.27289219346186094, 'reg_lambda': 0.029963344778568216, 'colsample_bytree': 0.34052660435675103, 'subsample': 0.6812958409676328}. Best is trial 587 with value: 0.8472299944040292.\n",
      "[I 2024-02-22 15:15:36,938] Trial 641 finished with value: 0.8386023294509151 and parameters: {'n_estimators': 574, 'learning_rate': 0.2046141518650666, 'max_depth': 13, 'alpha': 0.00011617183308289096, 'gamma': 0.0002487400975573022, 'reg_alpha': 0.21057489463343412, 'reg_lambda': 0.03342466461898026, 'colsample_bytree': 0.3160829854321612, 'subsample': 0.6454893025164227}. Best is trial 587 with value: 0.8472299944040292.\n",
      "[I 2024-02-22 15:15:40,833] Trial 642 finished with value: 0.8317388857625211 and parameters: {'n_estimators': 194, 'learning_rate': 0.1878978794436197, 'max_depth': 11, 'alpha': 0.00010031628242081658, 'gamma': 0.00021026535184315602, 'reg_alpha': 0.23264295008883212, 'reg_lambda': 0.031549542374030314, 'colsample_bytree': 0.27708179315088577, 'subsample': 0.6017531841150312}. Best is trial 587 with value: 0.8472299944040292.\n",
      "[I 2024-02-22 15:15:49,750] Trial 643 finished with value: 0.8349944629014396 and parameters: {'n_estimators': 358, 'learning_rate': 0.21119156540342834, 'max_depth': 13, 'alpha': 0.009019754511631384, 'gamma': 0.00029038550151719246, 'reg_alpha': 0.3226088406714929, 'reg_lambda': 0.027217480898819518, 'colsample_bytree': 0.24055669708932947, 'subsample': 0.47087421045186606}. Best is trial 587 with value: 0.8472299944040292.\n",
      "[I 2024-02-22 15:15:57,415] Trial 644 finished with value: 0.8323119777158775 and parameters: {'n_estimators': 408, 'learning_rate': 0.2238071886188528, 'max_depth': 12, 'alpha': 0.00012529050729445746, 'gamma': 0.0003200843069190711, 'reg_alpha': 0.1890436170438641, 'reg_lambda': 0.03540438003700071, 'colsample_bytree': 0.3010315402504379, 'subsample': 0.5435112576102772}. Best is trial 587 with value: 0.8472299944040292.\n",
      "[I 2024-02-22 15:16:06,727] Trial 645 finished with value: 0.8372093023255814 and parameters: {'n_estimators': 378, 'learning_rate': 0.2440094537300112, 'max_depth': 12, 'alpha': 0.00014491699797519847, 'gamma': 0.0003562007821996205, 'reg_alpha': 0.24871642647312953, 'reg_lambda': 0.029430568553788405, 'colsample_bytree': 0.3479381125662225, 'subsample': 0.5750442269718677}. Best is trial 587 with value: 0.8472299944040292.\n",
      "[I 2024-02-22 15:16:15,622] Trial 646 finished with value: 0.8430393788130893 and parameters: {'n_estimators': 447, 'learning_rate': 0.19183706909461198, 'max_depth': 13, 'alpha': 0.00016142513203419503, 'gamma': 0.0002861280791213194, 'reg_alpha': 0.1756168611487119, 'reg_lambda': 0.032746572155434125, 'colsample_bytree': 0.32635936205469984, 'subsample': 0.6213663662002553}. Best is trial 587 with value: 0.8472299944040292.\n",
      "[I 2024-02-22 15:16:26,012] Trial 647 finished with value: 0.8374930671103716 and parameters: {'n_estimators': 615, 'learning_rate': 0.18183823044924294, 'max_depth': 11, 'alpha': 0.0003505423758557657, 'gamma': 0.00024379761095048936, 'reg_alpha': 0.21183579974510164, 'reg_lambda': 0.034007026387317854, 'colsample_bytree': 0.28584873947279416, 'subsample': 0.6628474004333819}. Best is trial 587 with value: 0.8472299944040292.\n",
      "[I 2024-02-22 15:16:35,579] Trial 648 finished with value: 0.8337053571428571 and parameters: {'n_estimators': 591, 'learning_rate': 0.20374804694789747, 'max_depth': 14, 'alpha': 0.00010864053334918478, 'gamma': 0.00026952614573637844, 'reg_alpha': 0.21945281396211658, 'reg_lambda': 0.03151138150246898, 'colsample_bytree': 0.26434075359250764, 'subsample': 0.590450895486597}. Best is trial 587 with value: 0.8472299944040292.\n",
      "[I 2024-02-22 15:16:43,325] Trial 649 finished with value: 0.8340707964601769 and parameters: {'n_estimators': 400, 'learning_rate': 0.21416729124109243, 'max_depth': 12, 'alpha': 0.0001434039875212074, 'gamma': 0.0006476126396493784, 'reg_alpha': 0.27723347623864497, 'reg_lambda': 0.02603407781105295, 'colsample_bytree': 0.3095707645662306, 'subsample': 0.40566806220195434}. Best is trial 587 with value: 0.8472299944040292.\n",
      "[I 2024-02-22 15:16:51,955] Trial 650 finished with value: 0.8432794199665365 and parameters: {'n_estimators': 415, 'learning_rate': 0.19953800812921696, 'max_depth': 13, 'alpha': 0.00012913769586444648, 'gamma': 0.00031261841428622725, 'reg_alpha': 0.17617240055959643, 'reg_lambda': 0.06354188703586935, 'colsample_bytree': 0.3276958740512024, 'subsample': 0.6405068562078182}. Best is trial 587 with value: 0.8472299944040292.\n",
      "[I 2024-02-22 15:17:00,373] Trial 651 finished with value: 0.8436807095343681 and parameters: {'n_estimators': 375, 'learning_rate': 0.22991483268940036, 'max_depth': 14, 'alpha': 0.00011008519669448552, 'gamma': 0.0003544213702398733, 'reg_alpha': 0.252389354258037, 'reg_lambda': 0.028873669271423565, 'colsample_bytree': 0.35516412545277126, 'subsample': 0.6809838323686651}. Best is trial 587 with value: 0.8472299944040292.\n",
      "[I 2024-02-22 15:17:08,008] Trial 652 finished with value: 0.8362213527110117 and parameters: {'n_estimators': 390, 'learning_rate': 0.1810169102149247, 'max_depth': 12, 'alpha': 0.00011863651035073496, 'gamma': 0.00022071686314126824, 'reg_alpha': 0.3001469495908262, 'reg_lambda': 0.03564136596885147, 'colsample_bytree': 0.2949287842953853, 'subsample': 0.6185180121014087}. Best is trial 587 with value: 0.8472299944040292.\n",
      "[I 2024-02-22 15:17:18,185] Trial 653 finished with value: 0.8349082823790995 and parameters: {'n_estimators': 426, 'learning_rate': 0.1933619212547242, 'max_depth': 13, 'alpha': 0.00016189023250034936, 'gamma': 0.00027026248423535685, 'reg_alpha': 0.19645744747593236, 'reg_lambda': 0.031096023403672644, 'colsample_bytree': 0.33884310200785966, 'subsample': 0.6023424828609969}. Best is trial 587 with value: 0.8472299944040292.\n",
      "[I 2024-02-22 15:17:24,410] Trial 654 finished with value: 0.8358375069560379 and parameters: {'n_estimators': 362, 'learning_rate': 0.2087843372722227, 'max_depth': 12, 'alpha': 0.00014456857794595395, 'gamma': 0.0003228929315461547, 'reg_alpha': 0.2305585788855651, 'reg_lambda': 0.03303536620028446, 'colsample_bytree': 0.3145328434280031, 'subsample': 0.6980727811002401}. Best is trial 587 with value: 0.8472299944040292.\n",
      "[I 2024-02-22 15:17:35,339] Trial 655 finished with value: 0.8388176240936978 and parameters: {'n_estimators': 598, 'learning_rate': 0.19641553410891285, 'max_depth': 13, 'alpha': 0.00012855675638315584, 'gamma': 0.00039469372622274963, 'reg_alpha': 0.2679677260867384, 'reg_lambda': 0.020348899388730447, 'colsample_bytree': 0.25578857251699616, 'subsample': 0.6575798498663984}. Best is trial 587 with value: 0.8472299944040292.\n",
      "[I 2024-02-22 15:17:45,289] Trial 656 finished with value: 0.8361204013377926 and parameters: {'n_estimators': 562, 'learning_rate': 0.22061224684350864, 'max_depth': 11, 'alpha': 0.00011666901306375956, 'gamma': 0.00029977687795649204, 'reg_alpha': 0.17028145734058447, 'reg_lambda': 0.021896437529389357, 'colsample_bytree': 0.275266337084144, 'subsample': 0.6340495990636287}. Best is trial 587 with value: 0.8472299944040292.\n",
      "[I 2024-02-22 15:17:50,919] Trial 657 finished with value: 0.8394366197183099 and parameters: {'n_estimators': 353, 'learning_rate': 0.18462477244605469, 'max_depth': 12, 'alpha': 0.00010028855265630036, 'gamma': 0.00024189151513146447, 'reg_alpha': 0.19634080543524, 'reg_lambda': 0.034178010762284466, 'colsample_bytree': 0.15207078384790093, 'subsample': 0.686602762707998}. Best is trial 587 with value: 0.8472299944040292.\n",
      "[I 2024-02-22 15:18:01,873] Trial 658 finished with value: 0.8402893711741791 and parameters: {'n_estimators': 622, 'learning_rate': 0.17393621936217654, 'max_depth': 13, 'alpha': 0.00016394145991037668, 'gamma': 0.0002637377908771049, 'reg_alpha': 0.23985767315006692, 'reg_lambda': 0.02393112418583952, 'colsample_bytree': 0.23584845750581473, 'subsample': 0.5658396302575021}. Best is trial 587 with value: 0.8472299944040292.\n",
      "[I 2024-02-22 15:18:08,886] Trial 659 finished with value: 0.8278915329275042 and parameters: {'n_estimators': 401, 'learning_rate': 0.2068647905244147, 'max_depth': 12, 'alpha': 0.00024813130570556385, 'gamma': 0.00035392211287151547, 'reg_alpha': 0.22035047601312638, 'reg_lambda': 0.0864658947155112, 'colsample_bytree': 0.3025413242265795, 'subsample': 0.2383275284162938}. Best is trial 587 with value: 0.8472299944040292.\n",
      "[I 2024-02-22 15:18:16,524] Trial 660 finished with value: 0.8406440866185453 and parameters: {'n_estimators': 382, 'learning_rate': 0.23154562212108679, 'max_depth': 13, 'alpha': 0.00013855848496030994, 'gamma': 0.00021130471643927788, 'reg_alpha': 0.16682547085432087, 'reg_lambda': 0.029954517157238646, 'colsample_bytree': 0.3380290157551815, 'subsample': 0.6120701077974829}. Best is trial 587 with value: 0.8472299944040292.\n",
      "[I 2024-02-22 15:18:26,921] Trial 661 finished with value: 0.8348214285714286 and parameters: {'n_estimators': 577, 'learning_rate': 0.21687321041882895, 'max_depth': 14, 'alpha': 0.00010943918384253532, 'gamma': 0.00029840865439340617, 'reg_alpha': 0.28558796953064824, 'reg_lambda': 0.03614369390912561, 'colsample_bytree': 0.32179811368064853, 'subsample': 0.5851427397358059}. Best is trial 587 with value: 0.8472299944040292.\n",
      "[I 2024-02-22 15:18:34,532] Trial 662 finished with value: 0.837883008356546 and parameters: {'n_estimators': 415, 'learning_rate': 0.19214665682634452, 'max_depth': 11, 'alpha': 0.00012637417065573727, 'gamma': 0.0004402252438451927, 'reg_alpha': 0.1909963728436269, 'reg_lambda': 0.027922708871987792, 'colsample_bytree': 0.29054745275728394, 'subsample': 0.6685833130096066}. Best is trial 587 with value: 0.8472299944040292.\n",
      "[I 2024-02-22 15:18:43,290] Trial 663 finished with value: 0.8371317398554753 and parameters: {'n_estimators': 441, 'learning_rate': 0.20325567961823054, 'max_depth': 12, 'alpha': 0.0001648348371299334, 'gamma': 0.0003346820926282039, 'reg_alpha': 0.24802685561917118, 'reg_lambda': 0.03138697208626852, 'colsample_bytree': 0.35775230780932105, 'subsample': 0.6440178792251462}. Best is trial 587 with value: 0.8472299944040292.\n",
      "[I 2024-02-22 15:18:49,886] Trial 664 finished with value: 0.8353726362625139 and parameters: {'n_estimators': 362, 'learning_rate': 0.17630038866809009, 'max_depth': 13, 'alpha': 0.00014913187291512752, 'gamma': 0.00027645929681530536, 'reg_alpha': 0.20507402430925986, 'reg_lambda': 0.03298077528112226, 'colsample_bytree': 0.27069813676314824, 'subsample': 0.4280049361465014}. Best is trial 587 with value: 0.8472299944040292.\n",
      "[I 2024-02-22 15:19:04,995] Trial 665 finished with value: 0.8339811215991114 and parameters: {'n_estimators': 613, 'learning_rate': 0.18520761511498182, 'max_depth': 12, 'alpha': 0.00013229674110565472, 'gamma': 0.0007084279075386039, 'reg_alpha': 0.2670639507699373, 'reg_lambda': 0.03568335082536299, 'colsample_bytree': 0.8416425600411119, 'subsample': 0.6254063128234513}. Best is trial 587 with value: 0.8472299944040292.\n",
      "[I 2024-02-22 15:19:12,369] Trial 666 finished with value: 0.8358375069560379 and parameters: {'n_estimators': 398, 'learning_rate': 0.196516254296124, 'max_depth': 13, 'alpha': 0.00028302884625775495, 'gamma': 0.00023631650963733825, 'reg_alpha': 0.3167421014939311, 'reg_lambda': 0.025266755417917917, 'colsample_bytree': 0.32919037093098125, 'subsample': 0.5175685392515323}. Best is trial 587 with value: 0.8472299944040292.\n",
      "[I 2024-02-22 15:19:19,563] Trial 667 finished with value: 0.8348115299334813 and parameters: {'n_estimators': 372, 'learning_rate': 0.2129914317102625, 'max_depth': 12, 'alpha': 0.00833680510229816, 'gamma': 0.0003933907823187462, 'reg_alpha': 0.16820218888057048, 'reg_lambda': 0.030399837783958324, 'colsample_bytree': 0.3098560025076076, 'subsample': 0.7007918061231061}. Best is trial 587 with value: 0.8472299944040292.\n",
      "[I 2024-02-22 15:19:30,042] Trial 668 finished with value: 0.8433333333333335 and parameters: {'n_estimators': 591, 'learning_rate': 0.20235024336341098, 'max_depth': 13, 'alpha': 0.00011549211812016358, 'gamma': 0.00025704899894224236, 'reg_alpha': 0.1833073627583177, 'reg_lambda': 0.03432820056446359, 'colsample_bytree': 0.2502828975678077, 'subsample': 0.6580542652585175}. Best is trial 587 with value: 0.8472299944040292.\n",
      "[I 2024-02-22 15:19:41,799] Trial 669 finished with value: 0.8367459878251244 and parameters: {'n_estimators': 628, 'learning_rate': 0.22310528899233228, 'max_depth': 14, 'alpha': 0.0004089656700921288, 'gamma': 0.00031762894734358794, 'reg_alpha': 0.22805245570863986, 'reg_lambda': 0.03228038918623209, 'colsample_bytree': 0.28682569285700327, 'subsample': 0.6031254777209113}. Best is trial 587 with value: 0.8472299944040292.\n",
      "[I 2024-02-22 15:19:48,965] Trial 670 finished with value: 0.8409343715239155 and parameters: {'n_estimators': 354, 'learning_rate': 0.18802439231882062, 'max_depth': 11, 'alpha': 0.00932984540817349, 'gamma': 0.0003580770444383173, 'reg_alpha': 0.337648450450341, 'reg_lambda': 0.028613270154471685, 'colsample_bytree': 0.34656253527703434, 'subsample': 0.679553763293743}. Best is trial 587 with value: 0.8472299944040292.\n",
      "[I 2024-02-22 15:19:58,280] Trial 671 finished with value: 0.8340707964601769 and parameters: {'n_estimators': 549, 'learning_rate': 0.2356705815972281, 'max_depth': 12, 'alpha': 0.00010825451820469112, 'gamma': 0.00028324752337044814, 'reg_alpha': 0.3056867222543331, 'reg_lambda': 0.03416995518532182, 'colsample_bytree': 0.3067107818123434, 'subsample': 0.5396669376433435}. Best is trial 587 with value: 0.8472299944040292.\n",
      "[I 2024-02-22 15:20:04,086] Trial 672 finished with value: 0.827896512935883 and parameters: {'n_estimators': 384, 'learning_rate': 0.16968082825873246, 'max_depth': 14, 'alpha': 0.00012182222431268525, 'gamma': 0.00022107669223436383, 'reg_alpha': 0.21028813194426996, 'reg_lambda': 0.032023108507986515, 'colsample_bytree': 0.13061203095339985, 'subsample': 0.5866766841265952}. Best is trial 587 with value: 0.8472299944040292.\n",
      "[I 2024-02-22 15:20:12,861] Trial 673 finished with value: 0.8384230982787341 and parameters: {'n_estimators': 405, 'learning_rate': 0.21119384029696137, 'max_depth': 13, 'alpha': 0.00014010079306433343, 'gamma': 0.00030779660335942806, 'reg_alpha': 0.2567180253021131, 'reg_lambda': 0.036476517685557784, 'colsample_bytree': 0.3211594394081517, 'subsample': 0.6371117436026316}. Best is trial 587 with value: 0.8472299944040292.\n",
      "[I 2024-02-22 15:20:19,406] Trial 674 finished with value: 0.8341708542713567 and parameters: {'n_estimators': 347, 'learning_rate': 0.18207510780769615, 'max_depth': 12, 'alpha': 0.00010058909125278473, 'gamma': 0.0002496355391344162, 'reg_alpha': 0.1684409133999802, 'reg_lambda': 0.029930862384314322, 'colsample_bytree': 0.2777447956077802, 'subsample': 0.6163984724929956}. Best is trial 587 with value: 0.8472299944040292.\n",
      "[I 2024-02-22 15:20:27,563] Trial 675 finished with value: 0.8400447427293064 and parameters: {'n_estimators': 386, 'learning_rate': 0.19788525919138786, 'max_depth': 13, 'alpha': 0.00015521088733705905, 'gamma': 0.0005892070909205105, 'reg_alpha': 0.28799675825608473, 'reg_lambda': 0.027040873435214777, 'colsample_bytree': 0.2969968363818344, 'subsample': 0.5667017435265228}. Best is trial 587 with value: 0.8472299944040292.\n",
      "[I 2024-02-22 15:20:35,110] Trial 676 finished with value: 0.8368479467258602 and parameters: {'n_estimators': 369, 'learning_rate': 0.22161914148459277, 'max_depth': 12, 'alpha': 0.00012306692217572176, 'gamma': 0.0004084898589359085, 'reg_alpha': 0.18956609889330586, 'reg_lambda': 0.08169360857983857, 'colsample_bytree': 0.33959222606915795, 'subsample': 0.7086918251661977}. Best is trial 587 with value: 0.8472299944040292.\n",
      "[I 2024-02-22 15:20:39,264] Trial 677 finished with value: 0.8361391694725028 and parameters: {'n_estimators': 215, 'learning_rate': 0.19096025646547812, 'max_depth': 11, 'alpha': 0.00016809100479761975, 'gamma': 0.00028514656902043094, 'reg_alpha': 0.22707452715372117, 'reg_lambda': 0.03335289008471032, 'colsample_bytree': 0.2286570954899756, 'subsample': 0.6511037532861765}. Best is trial 587 with value: 0.8472299944040292.\n",
      "[I 2024-02-22 15:20:47,966] Trial 678 finished with value: 0.8404669260700388 and parameters: {'n_estimators': 435, 'learning_rate': 0.20649186631140282, 'max_depth': 13, 'alpha': 0.00010900388108657192, 'gamma': 0.00032939196355074235, 'reg_alpha': 0.16544503542680797, 'reg_lambda': 0.03577102621358549, 'colsample_bytree': 0.36090205631596645, 'subsample': 0.6736502920913043}. Best is trial 587 with value: 0.8472299944040292.\n",
      "[I 2024-02-22 15:20:55,247] Trial 679 finished with value: 0.8329621380846326 and parameters: {'n_estimators': 417, 'learning_rate': 0.17508108064894862, 'max_depth': 12, 'alpha': 0.00021411429116224644, 'gamma': 0.00026021555881801855, 'reg_alpha': 0.2453034763374973, 'reg_lambda': 0.0310421365049586, 'colsample_bytree': 0.2602942750121621, 'subsample': 0.5983970492932518}. Best is trial 587 with value: 0.8472299944040292.\n",
      "[I 2024-02-22 15:21:05,910] Trial 680 finished with value: 0.8350916157690171 and parameters: {'n_estimators': 620, 'learning_rate': 0.19907818008164022, 'max_depth': 12, 'alpha': 0.000131947562746726, 'gamma': 0.0003705843238937041, 'reg_alpha': 0.20250859826795148, 'reg_lambda': 0.03407337905612864, 'colsample_bytree': 0.3243206369531049, 'subsample': 0.6280577333297588}. Best is trial 587 with value: 0.8472299944040292.\n",
      "[I 2024-02-22 15:21:17,742] Trial 681 finished with value: 0.835005574136009 and parameters: {'n_estimators': 569, 'learning_rate': 0.2159620486495696, 'max_depth': 11, 'alpha': 0.00017454371904877737, 'gamma': 0.00034891862290659163, 'reg_alpha': 0.17725107574894022, 'reg_lambda': 0.028392179830112295, 'colsample_bytree': 0.30355273216502726, 'subsample': 0.6881375785439094}. Best is trial 587 with value: 0.8472299944040292.\n",
      "[I 2024-02-22 15:21:28,728] Trial 682 finished with value: 0.835820895522388 and parameters: {'n_estimators': 608, 'learning_rate': 0.18525876116638043, 'max_depth': 13, 'alpha': 0.0003161075032674686, 'gamma': 0.00023122333459099208, 'reg_alpha': 0.27450542332974864, 'reg_lambda': 0.02252483431577887, 'colsample_bytree': 0.28531786586778507, 'subsample': 0.44462414556236135}. Best is trial 587 with value: 0.8472299944040292.\n",
      "[I 2024-02-22 15:21:36,620] Trial 683 finished with value: 0.8374930671103716 and parameters: {'n_estimators': 401, 'learning_rate': 0.24299711837499227, 'max_depth': 13, 'alpha': 0.0001512534775355499, 'gamma': 0.0003024006838948566, 'reg_alpha': 0.21722666421926162, 'reg_lambda': 0.03217308836552932, 'colsample_bytree': 0.3351157912497583, 'subsample': 0.6642363775772561}. Best is trial 587 with value: 0.8472299944040292.\n",
      "[I 2024-02-22 15:21:50,340] Trial 684 finished with value: 0.8374655647382919 and parameters: {'n_estimators': 585, 'learning_rate': 0.16789019612108746, 'max_depth': 14, 'alpha': 0.00011868924428023054, 'gamma': 0.0004528715664083964, 'reg_alpha': 0.1608971434606828, 'reg_lambda': 0.030120669079006943, 'colsample_bytree': 0.31734440785701007, 'subsample': 0.4145696915136995}. Best is trial 587 with value: 0.8472299944040292.\n",
      "[I 2024-02-22 15:22:03,658] Trial 685 finished with value: 0.8451327433628318 and parameters: {'n_estimators': 637, 'learning_rate': 0.23090305118896523, 'max_depth': 12, 'alpha': 0.0001423647365176886, 'gamma': 0.00027569327215391245, 'reg_alpha': 0.18469400625229335, 'reg_lambda': 0.02549722316061582, 'colsample_bytree': 0.3525863821264678, 'subsample': 0.6081353666262569}. Best is trial 587 with value: 0.8472299944040292.\n",
      "[I 2024-02-22 15:22:14,329] Trial 686 finished with value: 0.8350799779371207 and parameters: {'n_estimators': 657, 'learning_rate': 0.22858863092997916, 'max_depth': 12, 'alpha': 0.00014240363995453268, 'gamma': 0.0001962165885246894, 'reg_alpha': 0.2614301372942454, 'reg_lambda': 0.024829219048766043, 'colsample_bytree': 0.37207448254746406, 'subsample': 0.5804321613071577}. Best is trial 587 with value: 0.8472299944040292.\n",
      "[I 2024-02-22 15:22:25,173] Trial 687 finished with value: 0.8365650969529087 and parameters: {'n_estimators': 634, 'learning_rate': 0.23790209098362144, 'max_depth': 13, 'alpha': 0.0001337692706318745, 'gamma': 0.00023850518667458708, 'reg_alpha': 0.43963257652700366, 'reg_lambda': 0.02368219761215581, 'colsample_bytree': 0.3549584669932097, 'subsample': 0.6040012204235089}. Best is trial 587 with value: 0.8472299944040292.\n",
      "[I 2024-02-22 15:22:35,106] Trial 688 finished with value: 0.8312119535141117 and parameters: {'n_estimators': 635, 'learning_rate': 0.24601810726028708, 'max_depth': 12, 'alpha': 0.00015245774512505182, 'gamma': 0.00027043235594766113, 'reg_alpha': 0.23435596193342934, 'reg_lambda': 0.02510886087280425, 'colsample_bytree': 0.248165591707496, 'subsample': 0.6160976412109721}. Best is trial 587 with value: 0.8472299944040292.\n",
      "[I 2024-02-22 15:22:45,478] Trial 689 finished with value: 0.8408208541320022 and parameters: {'n_estimators': 620, 'learning_rate': 0.2321835595252121, 'max_depth': 13, 'alpha': 0.0001685492346177027, 'gamma': 0.0002516195330885967, 'reg_alpha': 0.1960654115742674, 'reg_lambda': 0.02593575125546326, 'colsample_bytree': 0.26883999661260793, 'subsample': 0.5580096259882115}. Best is trial 587 with value: 0.8472299944040292.\n",
      "[I 2024-02-22 15:22:56,797] Trial 690 finished with value: 0.8346281908990011 and parameters: {'n_estimators': 603, 'learning_rate': 0.24823505443341176, 'max_depth': 14, 'alpha': 0.00013208713328652607, 'gamma': 0.00021747791213774827, 'reg_alpha': 0.29752661861154667, 'reg_lambda': 0.02743808925910849, 'colsample_bytree': 0.30316606384471895, 'subsample': 0.5933657432634196}. Best is trial 587 with value: 0.8472299944040292.\n",
      "[I 2024-02-22 15:23:10,323] Trial 691 finished with value: 0.8359030837004405 and parameters: {'n_estimators': 650, 'learning_rate': 0.22653301376297777, 'max_depth': 12, 'alpha': 0.00014353302773658817, 'gamma': 0.0002824053340331226, 'reg_alpha': 0.21337031365866105, 'reg_lambda': 0.022037382189052646, 'colsample_bytree': 0.38879081171197827, 'subsample': 0.626984164418269}. Best is trial 587 with value: 0.8472299944040292.\n",
      "[I 2024-02-22 15:23:21,269] Trial 692 finished with value: 0.8349944629014396 and parameters: {'n_estimators': 641, 'learning_rate': 0.21896454017272787, 'max_depth': 11, 'alpha': 0.00012139076646426894, 'gamma': 0.000264404101332274, 'reg_alpha': 0.1871625181631931, 'reg_lambda': 0.01972475313772618, 'colsample_bytree': 0.291670236360657, 'subsample': 0.580320664620993}. Best is trial 587 with value: 0.8472299944040292.\n",
      "[I 2024-02-22 15:23:31,176] Trial 693 finished with value: 0.8339811215991114 and parameters: {'n_estimators': 597, 'learning_rate': 0.25337852315266934, 'max_depth': 13, 'alpha': 0.0002372046070016979, 'gamma': 0.0001012645887416449, 'reg_alpha': 0.3250769422840709, 'reg_lambda': 0.025379567469544933, 'colsample_bytree': 0.36431498272601254, 'subsample': 0.6032256699922153}. Best is trial 587 with value: 0.8472299944040292.\n",
      "[I 2024-02-22 15:23:42,805] Trial 694 finished with value: 0.8340707964601769 and parameters: {'n_estimators': 696, 'learning_rate': 0.237637245539056, 'max_depth': 12, 'alpha': 0.0001569232932019503, 'gamma': 0.00024063962798221973, 'reg_alpha': 0.15820791398036313, 'reg_lambda': 0.027471967792465714, 'colsample_bytree': 0.3237216043077979, 'subsample': 0.6360997327633817}. Best is trial 587 with value: 0.8472299944040292.\n",
      "[I 2024-02-22 15:23:53,496] Trial 695 finished with value: 0.8325892857142858 and parameters: {'n_estimators': 612, 'learning_rate': 0.2129587675474407, 'max_depth': 11, 'alpha': 0.00012892171845623075, 'gamma': 0.00028215890587219845, 'reg_alpha': 0.27802621850337794, 'reg_lambda': 0.023545042846638036, 'colsample_bytree': 0.2755871520464364, 'subsample': 0.6148164936787813}. Best is trial 587 with value: 0.8472299944040292.\n",
      "[I 2024-02-22 15:24:06,034] Trial 696 finished with value: 0.83646408839779 and parameters: {'n_estimators': 681, 'learning_rate': 0.224747259891481, 'max_depth': 14, 'alpha': 0.00017690275181030482, 'gamma': 0.00020627530180260102, 'reg_alpha': 0.2511996014090025, 'reg_lambda': 0.026004394109987564, 'colsample_bytree': 0.34801114773642905, 'subsample': 0.643692592197774}. Best is trial 587 with value: 0.8472299944040292.\n",
      "[I 2024-02-22 15:24:18,965] Trial 697 finished with value: 0.8383894098179813 and parameters: {'n_estimators': 666, 'learning_rate': 0.2079219519633356, 'max_depth': 12, 'alpha': 0.007400978645952313, 'gamma': 0.0003079255155910305, 'reg_alpha': 0.23676065036702973, 'reg_lambda': 0.029328990824307975, 'colsample_bytree': 0.31407796516700737, 'subsample': 0.56504515899697}. Best is trial 587 with value: 0.8472299944040292.\n",
      "[I 2024-02-22 15:24:31,608] Trial 698 finished with value: 0.825587752870421 and parameters: {'n_estimators': 623, 'learning_rate': 0.218702232029677, 'max_depth': 13, 'alpha': 0.0001113889951106416, 'gamma': 0.00042523428123091955, 'reg_alpha': 0.20453005871589755, 'reg_lambda': 0.02691660102542671, 'colsample_bytree': 0.25369809732316, 'subsample': 0.20600954514392206}. Best is trial 587 with value: 0.8472299944040292.\n",
      "[I 2024-02-22 15:24:39,281] Trial 699 finished with value: 0.8403547671840356 and parameters: {'n_estimators': 453, 'learning_rate': 0.23346334041211925, 'max_depth': 13, 'alpha': 0.00014446218708835207, 'gamma': 0.0002488701811625946, 'reg_alpha': 0.18510814993358995, 'reg_lambda': 0.017902637655283674, 'colsample_bytree': 0.3357249554171776, 'subsample': 0.6161945105961896}. Best is trial 587 with value: 0.8472299944040292.\n",
      "[I 2024-02-22 15:24:51,734] Trial 700 finished with value: 0.8358375069560379 and parameters: {'n_estimators': 718, 'learning_rate': 0.20571754428384262, 'max_depth': 12, 'alpha': 0.008949314753512537, 'gamma': 0.00028627839883651633, 'reg_alpha': 0.22412709641829304, 'reg_lambda': 0.028290332270205398, 'colsample_bytree': 0.29492443425480264, 'subsample': 0.6015416253357211}. Best is trial 587 with value: 0.8472299944040292.\n",
      "[I 2024-02-22 15:25:06,614] Trial 701 finished with value: 0.8265193370165747 and parameters: {'n_estimators': 630, 'learning_rate': 0.19749273102557743, 'max_depth': 12, 'alpha': 0.00020289218788663752, 'gamma': 0.0021743538755671556, 'reg_alpha': 0.1596225613058004, 'reg_lambda': 0.02093833936903679, 'colsample_bytree': 0.7712293607183682, 'subsample': 0.6460041317163119}. Best is trial 587 with value: 0.8472299944040292.\n",
      "[I 2024-02-22 15:25:22,113] Trial 702 finished with value: 0.8366666666666667 and parameters: {'n_estimators': 599, 'learning_rate': 0.21512246569897728, 'max_depth': 13, 'alpha': 0.00011921137889788944, 'gamma': 0.00033503022737110377, 'reg_alpha': 0.26265691686852577, 'reg_lambda': 0.030367750753294082, 'colsample_bytree': 0.22960030322285474, 'subsample': 0.5849940721905842}. Best is trial 587 with value: 0.8472299944040292.\n",
      "[I 2024-02-22 15:25:34,183] Trial 703 finished with value: 0.8382434685936632 and parameters: {'n_estimators': 651, 'learning_rate': 0.227811538111516, 'max_depth': 14, 'alpha': 0.00016523829483336102, 'gamma': 0.0006281967857522138, 'reg_alpha': 0.30632058557477604, 'reg_lambda': 0.036103730962341804, 'colsample_bytree': 0.27732836850453846, 'subsample': 0.6339512154667072}. Best is trial 587 with value: 0.8472299944040292.\n",
      "[I 2024-02-22 15:25:45,995] Trial 704 finished with value: 0.8444936358605424 and parameters: {'n_estimators': 574, 'learning_rate': 0.20580657908630232, 'max_depth': 13, 'alpha': 0.00013680223313159259, 'gamma': 0.0002229139814500748, 'reg_alpha': 0.1735922304788647, 'reg_lambda': 0.029057874340110593, 'colsample_bytree': 0.31185787301377577, 'subsample': 0.6216851094396207}. Best is trial 587 with value: 0.8472299944040292.\n",
      "[I 2024-02-22 15:25:56,896] Trial 705 finished with value: 0.8387096774193548 and parameters: {'n_estimators': 633, 'learning_rate': 0.1959313065880754, 'max_depth': 11, 'alpha': 0.00011015808674846713, 'gamma': 0.00048438344537951014, 'reg_alpha': 0.2864185611513498, 'reg_lambda': 0.0740070396931374, 'colsample_bytree': 0.3501616121324484, 'subsample': 0.5975573020763885}. Best is trial 587 with value: 0.8472299944040292.\n",
      "[I 2024-02-22 15:26:04,632] Trial 706 finished with value: 0.8405797101449275 and parameters: {'n_estimators': 433, 'learning_rate': 0.19196807880374953, 'max_depth': 12, 'alpha': 0.00015445110925651302, 'gamma': 0.0003861345785075952, 'reg_alpha': 0.2009469786904698, 'reg_lambda': 0.023378319010692136, 'colsample_bytree': 0.33060485768064984, 'subsample': 0.6595465634190139}. Best is trial 587 with value: 0.8472299944040292.\n",
      "[I 2024-02-22 15:26:12,836] Trial 707 finished with value: 0.8317601332593003 and parameters: {'n_estimators': 420, 'learning_rate': 0.21538907777858907, 'max_depth': 12, 'alpha': 0.00012179873141833383, 'gamma': 0.0002601400110579941, 'reg_alpha': 0.24103880424907906, 'reg_lambda': 0.03230361422268194, 'colsample_bytree': 0.2882103896882116, 'subsample': 0.32585461465943605}. Best is trial 587 with value: 0.8472299944040292.\n",
      "[I 2024-02-22 15:26:24,217] Trial 708 finished with value: 0.8324986087924319 and parameters: {'n_estimators': 588, 'learning_rate': 0.1793818982868216, 'max_depth': 13, 'alpha': 0.00019449103255055026, 'gamma': 0.0005450154534957224, 'reg_alpha': 0.2183423392847509, 'reg_lambda': 0.03507886343535304, 'colsample_bytree': 0.37136023763283954, 'subsample': 0.5591933184356959}. Best is trial 587 with value: 0.8472299944040292.\n",
      "[I 2024-02-22 15:26:35,354] Trial 709 finished with value: 0.8361018826135105 and parameters: {'n_estimators': 556, 'learning_rate': 0.2030512187474296, 'max_depth': 14, 'alpha': 0.00013388650823605724, 'gamma': 0.000710363087604101, 'reg_alpha': 0.1534607668538442, 'reg_lambda': 0.05808803961249254, 'colsample_bytree': 0.41738044569519567, 'subsample': 0.5805645814459753}. Best is trial 587 with value: 0.8472299944040292.\n",
      "[I 2024-02-22 15:26:46,677] Trial 710 finished with value: 0.8372862658576945 and parameters: {'n_estimators': 618, 'learning_rate': 0.25839370732288297, 'max_depth': 12, 'alpha': 0.009873589573633382, 'gamma': 0.0003054938793981741, 'reg_alpha': 0.18085760479303356, 'reg_lambda': 0.030661352929153833, 'colsample_bytree': 0.31219441721238284, 'subsample': 0.6261157596225696}. Best is trial 587 with value: 0.8472299944040292.\n",
      "[I 2024-02-22 15:26:53,643] Trial 711 finished with value: 0.8303769401330376 and parameters: {'n_estimators': 354, 'learning_rate': 0.2377593008473339, 'max_depth': 13, 'alpha': 0.00010102690431263479, 'gamma': 0.0003386622548422405, 'reg_alpha': 0.26718240197962484, 'reg_lambda': 0.026503401469169192, 'colsample_bytree': 0.2651190600106078, 'subsample': 0.38986895950861783}. Best is trial 587 with value: 0.8472299944040292.\n",
      "[I 2024-02-22 15:27:02,002] Trial 712 finished with value: 0.8368479467258602 and parameters: {'n_estimators': 384, 'learning_rate': 0.22556734897596117, 'max_depth': 12, 'alpha': 0.00017883682470863055, 'gamma': 0.00027184419184207335, 'reg_alpha': 0.3439135607348777, 'reg_lambda': 0.03345188078909376, 'colsample_bytree': 0.30286494008082604, 'subsample': 0.6489429141656679}. Best is trial 587 with value: 0.8472299944040292.\n",
      "[I 2024-02-22 15:27:13,930] Trial 713 finished with value: 0.8398458998348927 and parameters: {'n_estimators': 669, 'learning_rate': 0.19047206687823695, 'max_depth': 11, 'alpha': 0.00010965246231897739, 'gamma': 0.00023624852056383346, 'reg_alpha': 0.1981286431322814, 'reg_lambda': 0.031789378305574226, 'colsample_bytree': 0.3291423245510488, 'subsample': 0.6063368051653772}. Best is trial 587 with value: 0.8472299944040292.\n",
      "[I 2024-02-22 15:27:20,564] Trial 714 finished with value: 0.8421639709983268 and parameters: {'n_estimators': 398, 'learning_rate': 0.2055238960124318, 'max_depth': 13, 'alpha': 0.008075833104639496, 'gamma': 0.00028896720614263985, 'reg_alpha': 0.16992081479497437, 'reg_lambda': 0.024540198183418665, 'colsample_bytree': 0.24130676972203063, 'subsample': 0.6678645538052157}. Best is trial 587 with value: 0.8472299944040292.\n",
      "[I 2024-02-22 15:27:31,501] Trial 715 finished with value: 0.8361018826135105 and parameters: {'n_estimators': 610, 'learning_rate': 0.2173333893557818, 'max_depth': 13, 'alpha': 0.00014769900979900977, 'gamma': 0.0003780284916695394, 'reg_alpha': 0.2429901070538655, 'reg_lambda': 0.03668462253528386, 'colsample_bytree': 0.3451287776755031, 'subsample': 0.6344521468107815}. Best is trial 587 with value: 0.8472299944040292.\n",
      "[I 2024-02-22 15:27:38,558] Trial 716 finished with value: 0.8376259798432251 and parameters: {'n_estimators': 367, 'learning_rate': 0.17961820310704707, 'max_depth': 12, 'alpha': 0.00012784441533012585, 'gamma': 0.0003102972154290279, 'reg_alpha': 0.15154031704626686, 'reg_lambda': 0.028620267410114864, 'colsample_bytree': 0.29559234284127095, 'subsample': 0.582313075048378}. Best is trial 587 with value: 0.8472299944040292.\n",
      "[I 2024-02-22 15:27:54,730] Trial 717 finished with value: 0.8302094818081588 and parameters: {'n_estimators': 640, 'learning_rate': 0.19588204434294804, 'max_depth': 12, 'alpha': 0.0001174632427668874, 'gamma': 0.0004596611843633114, 'reg_alpha': 0.3223524626667919, 'reg_lambda': 0.045236561757039606, 'colsample_bytree': 0.8805526975558362, 'subsample': 0.47000719879578584}. Best is trial 587 with value: 0.8472299944040292.\n",
      "[I 2024-02-22 15:28:02,040] Trial 718 finished with value: 0.8416340235030778 and parameters: {'n_estimators': 343, 'learning_rate': 0.21084172156357459, 'max_depth': 14, 'alpha': 0.0001568937366845234, 'gamma': 0.0002596102973756542, 'reg_alpha': 0.22585988693023476, 'reg_lambda': 0.0349500284243488, 'colsample_bytree': 0.2824106299994701, 'subsample': 0.6150847621177435}. Best is trial 587 with value: 0.8472299944040292.\n",
      "[I 2024-02-22 15:28:10,468] Trial 719 finished with value: 0.8396436525612473 and parameters: {'n_estimators': 420, 'learning_rate': 0.1654175419282899, 'max_depth': 13, 'alpha': 0.00014167750403010397, 'gamma': 0.00035826330744733484, 'reg_alpha': 0.4111612994242233, 'reg_lambda': 0.03145661663585791, 'colsample_bytree': 0.3168485825313661, 'subsample': 0.5490352971774788}. Best is trial 587 with value: 0.8472299944040292.\n",
      "[I 2024-02-22 15:28:21,061] Trial 720 finished with value: 0.8401775804661488 and parameters: {'n_estimators': 598, 'learning_rate': 0.18748569990427977, 'max_depth': 11, 'alpha': 0.0001764676124080887, 'gamma': 0.0001995349159721629, 'reg_alpha': 0.185417362987977, 'reg_lambda': 0.033385724721880124, 'colsample_bytree': 0.26077069578195683, 'subsample': 0.6528780162164415}. Best is trial 587 with value: 0.8472299944040292.\n",
      "[I 2024-02-22 15:28:28,762] Trial 721 finished with value: 0.8398220244716351 and parameters: {'n_estimators': 407, 'learning_rate': 0.2218912136293317, 'max_depth': 12, 'alpha': 0.00011070732075302525, 'gamma': 0.00041511203795761983, 'reg_alpha': 0.29343596786009735, 'reg_lambda': 0.03745270881860051, 'colsample_bytree': 0.3336234763680782, 'subsample': 0.5947552917159836}. Best is trial 587 with value: 0.8472299944040292.\n",
      "[I 2024-02-22 15:28:36,586] Trial 722 finished with value: 0.839355197331851 and parameters: {'n_estimators': 452, 'learning_rate': 0.24206005546306505, 'max_depth': 13, 'alpha': 0.00012858361878603908, 'gamma': 0.00022141268218953835, 'reg_alpha': 0.20795684530041894, 'reg_lambda': 0.022458424615530485, 'colsample_bytree': 0.35461496445031976, 'subsample': 0.43778424723569764}. Best is trial 587 with value: 0.8472299944040292.\n",
      "[I 2024-02-22 15:28:48,557] Trial 723 finished with value: 0.8401775804661488 and parameters: {'n_estimators': 701, 'learning_rate': 0.20204792280962283, 'max_depth': 12, 'alpha': 0.00022467413587064423, 'gamma': 0.0003260593637263922, 'reg_alpha': 0.25061181811841143, 'reg_lambda': 0.02723809174972929, 'colsample_bytree': 0.3146397182529438, 'subsample': 0.5306465004461142}. Best is trial 587 with value: 0.8472299944040292.\n",
      "[I 2024-02-22 15:28:56,433] Trial 724 finished with value: 0.8337996642417459 and parameters: {'n_estimators': 391, 'learning_rate': 0.18381312856342338, 'max_depth': 13, 'alpha': 0.00025436086433179073, 'gamma': 0.00028274201619045105, 'reg_alpha': 0.2771947120314008, 'reg_lambda': 0.030400074548904074, 'colsample_bytree': 0.2871722799298833, 'subsample': 0.6825402464816935}. Best is trial 587 with value: 0.8472299944040292.\n",
      "[I 2024-02-22 15:29:07,723] Trial 725 finished with value: 0.8349834983498349 and parameters: {'n_estimators': 646, 'learning_rate': 0.1726192220118988, 'max_depth': 11, 'alpha': 0.00015763494553397287, 'gamma': 0.0002449964854349907, 'reg_alpha': 0.16131359025166916, 'reg_lambda': 0.03458979747418156, 'colsample_bytree': 0.366579932528385, 'subsample': 0.6292547389680629}. Best is trial 587 with value: 0.8472299944040292.\n",
      "[I 2024-02-22 15:29:21,104] Trial 726 finished with value: 0.8288387451843697 and parameters: {'n_estimators': 918, 'learning_rate': 0.20923554483139806, 'max_depth': 12, 'alpha': 0.00010096924387039609, 'gamma': 0.00017448906554550143, 'reg_alpha': 0.1844186874074679, 'reg_lambda': 0.032490528399433775, 'colsample_bytree': 0.23404687698867263, 'subsample': 0.4093480663626093}. Best is trial 587 with value: 0.8472299944040292.\n",
      "[I 2024-02-22 15:29:32,847] Trial 727 finished with value: 0.8365650969529087 and parameters: {'n_estimators': 580, 'learning_rate': 0.19497444045803441, 'max_depth': 14, 'alpha': 0.0040226561182497575, 'gamma': 0.000293263890209175, 'reg_alpha': 0.21795649399027875, 'reg_lambda': 0.028569458846541232, 'colsample_bytree': 0.26965613579297637, 'subsample': 0.6069167289986485}. Best is trial 587 with value: 0.8472299944040292.\n",
      "[I 2024-02-22 15:29:40,813] Trial 728 finished with value: 0.836644591611479 and parameters: {'n_estimators': 368, 'learning_rate': 0.23028092235319444, 'max_depth': 13, 'alpha': 0.00012062037111320384, 'gamma': 0.00026011371651289233, 'reg_alpha': 0.14854454392844754, 'reg_lambda': 0.09163696300727212, 'colsample_bytree': 0.3837743087487024, 'subsample': 0.5734782837610586}. Best is trial 587 with value: 0.8472299944040292.\n",
      "[I 2024-02-22 15:29:52,197] Trial 729 finished with value: 0.8422818791946309 and parameters: {'n_estimators': 621, 'learning_rate': 0.19953989202198294, 'max_depth': 12, 'alpha': 0.0001670139816377803, 'gamma': 0.0003453062508949416, 'reg_alpha': 0.1993073828345639, 'reg_lambda': 0.03669277985846125, 'colsample_bytree': 0.3049184909819002, 'subsample': 0.37515045506583816}. Best is trial 587 with value: 0.8472299944040292.\n",
      "[I 2024-02-22 15:29:58,160] Trial 730 finished with value: 0.8432132963988921 and parameters: {'n_estimators': 345, 'learning_rate': 0.21480106599469753, 'max_depth': 12, 'alpha': 0.00014121172467020622, 'gamma': 0.00030308706622808335, 'reg_alpha': 0.2579830236962869, 'reg_lambda': 0.025266282307750108, 'colsample_bytree': 0.33024401609585574, 'subsample': 0.6437407147241263}. Best is trial 587 with value: 0.8472299944040292.\n",
      "[I 2024-02-22 15:30:06,606] Trial 731 finished with value: 0.8404017857142858 and parameters: {'n_estimators': 437, 'learning_rate': 0.15845802118489466, 'max_depth': 13, 'alpha': 0.000108881495798499, 'gamma': 0.00037695260892924373, 'reg_alpha': 0.2332421232289514, 'reg_lambda': 0.0298559041940648, 'colsample_bytree': 0.34470919392440985, 'subsample': 0.6712909131305794}. Best is trial 587 with value: 0.8472299944040292.\n",
      "[I 2024-02-22 15:30:14,072] Trial 732 finished with value: 0.8355704697986578 and parameters: {'n_estimators': 379, 'learning_rate': 0.1774693232273823, 'max_depth': 13, 'alpha': 0.00019654707752319914, 'gamma': 0.00023272385122539302, 'reg_alpha': 0.3072909261680063, 'reg_lambda': 0.033868596387380295, 'colsample_bytree': 0.2989218230709274, 'subsample': 0.6990503711125519}. Best is trial 587 with value: 0.8472299944040292.\n",
      "[I 2024-02-22 15:30:25,606] Trial 733 finished with value: 0.8454293628808864 and parameters: {'n_estimators': 664, 'learning_rate': 0.1896279799632367, 'max_depth': 11, 'alpha': 0.00012779208749607337, 'gamma': 0.0004196335056192067, 'reg_alpha': 0.17180448012102736, 'reg_lambda': 0.03187885615174424, 'colsample_bytree': 0.3215723331623974, 'subsample': 0.6161147737083649}. Best is trial 587 with value: 0.8472299944040292.\n",
      "[I 2024-02-22 15:30:38,221] Trial 734 finished with value: 0.8428650749583565 and parameters: {'n_estimators': 675, 'learning_rate': 0.20799939443929713, 'max_depth': 11, 'alpha': 0.00013335500324736178, 'gamma': 0.0004243726377212407, 'reg_alpha': 0.1677213568782932, 'reg_lambda': 0.030747679153408418, 'colsample_bytree': 0.32404196946798386, 'subsample': 0.6125416383151606}. Best is trial 587 with value: 0.8472299944040292.\n",
      "[I 2024-02-22 15:30:45,069] Trial 735 finished with value: 0.8365437534397359 and parameters: {'n_estimators': 333, 'learning_rate': 0.2245371865889943, 'max_depth': 11, 'alpha': 0.0001247985739442592, 'gamma': 0.0005226308981815884, 'reg_alpha': 0.1733916726165801, 'reg_lambda': 0.028212628305067346, 'colsample_bytree': 0.3514150110807693, 'subsample': 0.5926827846890832}. Best is trial 587 with value: 0.8472299944040292.\n",
      "[I 2024-02-22 15:30:57,821] Trial 736 finished with value: 0.8383167220376523 and parameters: {'n_estimators': 666, 'learning_rate': 0.1900098158014224, 'max_depth': 11, 'alpha': 0.00014338895934297853, 'gamma': 0.0004619168142864623, 'reg_alpha': 0.14407246500379298, 'reg_lambda': 0.03155504920181077, 'colsample_bytree': 0.3324362949631883, 'subsample': 0.6252701810455191}. Best is trial 587 with value: 0.8472299944040292.\n",
      "[I 2024-02-22 15:31:08,059] Trial 737 finished with value: 0.8396436525612473 and parameters: {'n_estimators': 692, 'learning_rate': 0.20008660241769366, 'max_depth': 11, 'alpha': 0.00012331527295426475, 'gamma': 0.0004632085806946633, 'reg_alpha': 0.1813433845371099, 'reg_lambda': 0.026838509109136637, 'colsample_bytree': 0.31896940865188705, 'subsample': 0.6173129086820976}. Best is trial 587 with value: 0.8472299944040292.\n",
      "[I 2024-02-22 15:31:20,072] Trial 738 finished with value: 0.8392070484581499 and parameters: {'n_estimators': 686, 'learning_rate': 0.21662886613680324, 'max_depth': 11, 'alpha': 0.0001115123091757578, 'gamma': 0.0005009953874242914, 'reg_alpha': 0.16079983461332548, 'reg_lambda': 0.02934088526549905, 'colsample_bytree': 0.3600042359257494, 'subsample': 0.6369354486316317}. Best is trial 587 with value: 0.8472299944040292.\n",
      "[I 2024-02-22 15:31:32,088] Trial 739 finished with value: 0.8351769911504424 and parameters: {'n_estimators': 660, 'learning_rate': 0.19591207230472446, 'max_depth': 11, 'alpha': 0.00013903334158539484, 'gamma': 0.0004086606902131698, 'reg_alpha': 0.19070217061910613, 'reg_lambda': 0.03223562995447467, 'colsample_bytree': 0.3411672875390207, 'subsample': 0.3491475381207617}. Best is trial 587 with value: 0.8472299944040292.\n",
      "[I 2024-02-22 15:31:43,554] Trial 740 finished with value: 0.8320441988950277 and parameters: {'n_estimators': 650, 'learning_rate': 0.20935578587912415, 'max_depth': 11, 'alpha': 0.0001149549891412412, 'gamma': 0.00040104490203512013, 'reg_alpha': 0.1465480067460492, 'reg_lambda': 0.019330369374151404, 'colsample_bytree': 0.30687976792781446, 'subsample': 0.593587780695311}. Best is trial 587 with value: 0.8472299944040292.\n",
      "[I 2024-02-22 15:31:55,290] Trial 741 finished with value: 0.8375411635565312 and parameters: {'n_estimators': 709, 'learning_rate': 0.24626244098829897, 'max_depth': 11, 'alpha': 0.0001507711306237684, 'gamma': 0.0005775027676343392, 'reg_alpha': 0.17338488033200808, 'reg_lambda': 0.044367096625954165, 'colsample_bytree': 0.32086250779599534, 'subsample': 0.6503524488501008}. Best is trial 587 with value: 0.8472299944040292.\n",
      "[I 2024-02-22 15:32:05,711] Trial 742 finished with value: 0.8379578246392898 and parameters: {'n_estimators': 676, 'learning_rate': 0.23087562379002174, 'max_depth': 12, 'alpha': 0.00013285152398912747, 'gamma': 0.00046361646458443773, 'reg_alpha': 0.15387338439762185, 'reg_lambda': 0.023397127115614633, 'colsample_bytree': 0.17296688458982842, 'subsample': 0.5778990675041131}. Best is trial 587 with value: 0.8472299944040292.\n",
      "[I 2024-02-22 15:32:12,778] Trial 743 finished with value: 0.8423373759647189 and parameters: {'n_estimators': 409, 'learning_rate': 0.1931002968849596, 'max_depth': 12, 'alpha': 0.00016988824330454685, 'gamma': 0.000761939444531695, 'reg_alpha': 0.1857918410608848, 'reg_lambda': 0.02983302741823178, 'colsample_bytree': 0.3409787550030486, 'subsample': 0.6043217833808238}. Best is trial 587 with value: 0.8472299944040292.\n",
      "[I 2024-02-22 15:32:24,083] Trial 744 finished with value: 0.8406440866185453 and parameters: {'n_estimators': 661, 'learning_rate': 0.18168085700713818, 'max_depth': 12, 'alpha': 0.00012444690323231737, 'gamma': 0.00043738838174995503, 'reg_alpha': 0.19743415656196617, 'reg_lambda': 0.03250744984587479, 'colsample_bytree': 0.3833119478168177, 'subsample': 0.6228026362954933}. Best is trial 587 with value: 0.8472299944040292.\n",
      "[I 2024-02-22 15:32:30,825] Trial 745 finished with value: 0.8421052631578948 and parameters: {'n_estimators': 364, 'learning_rate': 0.2042097013975955, 'max_depth': 11, 'alpha': 0.00010129451058800206, 'gamma': 0.0003718583402448106, 'reg_alpha': 0.166837947502343, 'reg_lambda': 0.027099997332399175, 'colsample_bytree': 0.3035380615219241, 'subsample': 0.6557847995211524}. Best is trial 587 with value: 0.8472299944040292.\n",
      "[I 2024-02-22 15:32:41,601] Trial 746 finished with value: 0.8369504730105731 and parameters: {'n_estimators': 395, 'learning_rate': 0.22023143373240847, 'max_depth': 12, 'alpha': 0.00015061290753058508, 'gamma': 0.0004128831173977906, 'reg_alpha': 0.2056784354362147, 'reg_lambda': 0.09863217233441862, 'colsample_bytree': 0.3314287532425611, 'subsample': 0.6336125728410325}. Best is trial 587 with value: 0.8472299944040292.\n",
      "[I 2024-02-22 15:32:50,266] Trial 747 finished with value: 0.8429290106204584 and parameters: {'n_estimators': 419, 'learning_rate': 0.1724342042885408, 'max_depth': 12, 'alpha': 0.00011519975307545614, 'gamma': 0.0005048371086535867, 'reg_alpha': 0.14904341296076262, 'reg_lambda': 0.031032505395889313, 'colsample_bytree': 0.3598197232095124, 'subsample': 0.5633496815981589}. Best is trial 587 with value: 0.8472299944040292.\n",
      "[I 2024-02-22 15:32:57,693] Trial 748 finished with value: 0.8438021122846026 and parameters: {'n_estimators': 358, 'learning_rate': 0.18748588262525803, 'max_depth': 15, 'alpha': 0.000132606691928326, 'gamma': 0.0002199264313985948, 'reg_alpha': 0.3856881144053148, 'reg_lambda': 0.025129630016061034, 'colsample_bytree': 0.313152503178029, 'subsample': 0.598747703363424}. Best is trial 587 with value: 0.8472299944040292.\n",
      "[I 2024-02-22 15:33:12,265] Trial 749 finished with value: 0.8390297684674752 and parameters: {'n_estimators': 693, 'learning_rate': 0.20624251371641172, 'max_depth': 12, 'alpha': 0.0001215582679140991, 'gamma': 0.0002035127482529157, 'reg_alpha': 0.17822966137584528, 'reg_lambda': 0.02164779738862756, 'colsample_bytree': 0.2882999873610579, 'subsample': 0.6131709027916254}. Best is trial 587 with value: 0.8472299944040292.\n",
      "[I 2024-02-22 15:33:19,336] Trial 750 finished with value: 0.8382434685936632 and parameters: {'n_estimators': 384, 'learning_rate': 0.23549780033181283, 'max_depth': 12, 'alpha': 0.00018360502349276005, 'gamma': 0.0006384127791573878, 'reg_alpha': 0.35158021018646185, 'reg_lambda': 0.035286036297833875, 'colsample_bytree': 0.32199481885966735, 'subsample': 0.66906323405256}. Best is trial 587 with value: 0.8472299944040292.\n",
      "[I 2024-02-22 15:33:29,136] Trial 751 finished with value: 0.8372862658576945 and parameters: {'n_estimators': 645, 'learning_rate': 0.19718727101882644, 'max_depth': 11, 'alpha': 0.00015259027222141026, 'gamma': 0.0002690124201137783, 'reg_alpha': 0.19632229470538592, 'reg_lambda': 0.06663239704136982, 'colsample_bytree': 0.3474398632925072, 'subsample': 0.6416989880665018}. Best is trial 587 with value: 0.8472299944040292.\n",
      "[I 2024-02-22 15:33:36,274] Trial 752 finished with value: 0.8367459878251244 and parameters: {'n_estimators': 346, 'learning_rate': 0.21730874348027926, 'max_depth': 14, 'alpha': 0.00010832877115768096, 'gamma': 0.0003570994468044003, 'reg_alpha': 0.3291701941446037, 'reg_lambda': 0.03351694542614421, 'colsample_bytree': 0.4396132968015081, 'subsample': 0.620056096067681}. Best is trial 587 with value: 0.8472299944040292.\n",
      "[I 2024-02-22 15:33:42,840] Trial 753 finished with value: 0.828798185941043 and parameters: {'n_estimators': 396, 'learning_rate': 0.187638075150622, 'max_depth': 12, 'alpha': 0.00014124148177276487, 'gamma': 0.00025045388140062456, 'reg_alpha': 0.1599064724383069, 'reg_lambda': 0.029026165036993144, 'colsample_bytree': 0.10109813029521014, 'subsample': 0.4849720578557693}. Best is trial 587 with value: 0.8472299944040292.\n",
      "[I 2024-02-22 15:33:50,692] Trial 754 finished with value: 0.8375690607734807 and parameters: {'n_estimators': 434, 'learning_rate': 0.1765333056085512, 'max_depth': 11, 'alpha': 0.00016548217567065242, 'gamma': 0.0003976342348885664, 'reg_alpha': 0.1722193082300862, 'reg_lambda': 0.03176524796640703, 'colsample_bytree': 0.2938960996008771, 'subsample': 0.5845606393986859}. Best is trial 587 with value: 0.8472299944040292.\n",
      "[I 2024-02-22 15:34:00,011] Trial 755 finished with value: 0.8360022087244616 and parameters: {'n_estimators': 374, 'learning_rate': 0.2099234957370014, 'max_depth': 12, 'alpha': 0.0001296359990124967, 'gamma': 0.0004462627969860471, 'reg_alpha': 0.2164271521755891, 'reg_lambda': 0.030221497594475143, 'colsample_bytree': 0.3665988075414334, 'subsample': 0.6550982447053697}. Best is trial 587 with value: 0.8472299944040292.\n",
      "[I 2024-02-22 15:34:08,104] Trial 756 finished with value: 0.835820895522388 and parameters: {'n_estimators': 325, 'learning_rate': 0.22560278528926256, 'max_depth': 13, 'alpha': 0.00020848068946821753, 'gamma': 0.0003340589845485651, 'reg_alpha': 0.28843167933482833, 'reg_lambda': 0.035790935907069894, 'colsample_bytree': 0.3078691200051182, 'subsample': 0.570428990492322}. Best is trial 587 with value: 0.8472299944040292.\n",
      "[I 2024-02-22 15:34:19,443] Trial 757 finished with value: 0.8436807095343681 and parameters: {'n_estimators': 634, 'learning_rate': 0.20000272099879005, 'max_depth': 12, 'alpha': 0.00011602587553074856, 'gamma': 0.00027564380245908416, 'reg_alpha': 0.14749145520835644, 'reg_lambda': 0.016936012085775585, 'colsample_bytree': 0.3280491548524056, 'subsample': 0.6057650765010064}. Best is trial 587 with value: 0.8472299944040292.\n",
      "[I 2024-02-22 15:34:27,732] Trial 758 finished with value: 0.8445682451253481 and parameters: {'n_estimators': 413, 'learning_rate': 0.16673959371311067, 'max_depth': 12, 'alpha': 0.00013873540787774904, 'gamma': 0.00024019274751547253, 'reg_alpha': 0.18807496492343492, 'reg_lambda': 0.0330817190341298, 'colsample_bytree': 0.2852875486611052, 'subsample': 0.5444576000571063}. Best is trial 587 with value: 0.8472299944040292.\n",
      "[I 2024-02-22 15:34:41,272] Trial 759 finished with value: 0.8372093023255814 and parameters: {'n_estimators': 660, 'learning_rate': 0.25383864393245076, 'max_depth': 14, 'alpha': 0.00010968049620652335, 'gamma': 0.0005439798075233556, 'reg_alpha': 0.216899293204047, 'reg_lambda': 0.0371666718550986, 'colsample_bytree': 0.3474538616937174, 'subsample': 0.630583484810841}. Best is trial 587 with value: 0.8472299944040292.\n",
      "[I 2024-02-22 15:34:50,748] Trial 760 finished with value: 0.8353591160220994 and parameters: {'n_estimators': 550, 'learning_rate': 0.18691308255076935, 'max_depth': 11, 'alpha': 0.0001751552233376256, 'gamma': 0.00032152943879590215, 'reg_alpha': 0.17552079708262058, 'reg_lambda': 0.02780571014489107, 'colsample_bytree': 0.40013825941089837, 'subsample': 0.6814268750246363}. Best is trial 587 with value: 0.8472299944040292.\n",
      "[I 2024-02-22 15:34:58,169] Trial 761 finished with value: 0.8424581005586592 and parameters: {'n_estimators': 377, 'learning_rate': 0.21149577064356562, 'max_depth': 13, 'alpha': 0.00033652693200762296, 'gamma': 0.0002873455405727545, 'reg_alpha': 0.13922143607632567, 'reg_lambda': 0.03870167429573515, 'colsample_bytree': 0.30715023905025335, 'subsample': 0.659832952980971}. Best is trial 587 with value: 0.8472299944040292.\n",
      "[I 2024-02-22 15:35:06,958] Trial 762 finished with value: 0.8381374722838136 and parameters: {'n_estimators': 459, 'learning_rate': 0.1963876701544884, 'max_depth': 12, 'alpha': 0.000156426876170443, 'gamma': 0.0019982930259315247, 'reg_alpha': 0.3057192860185577, 'reg_lambda': 0.03391820114773283, 'colsample_bytree': 0.32911309076980994, 'subsample': 0.5920000056486658}. Best is trial 587 with value: 0.8472299944040292.\n",
      "[I 2024-02-22 15:35:15,943] Trial 763 finished with value: 0.8395751816657351 and parameters: {'n_estimators': 400, 'learning_rate': 0.1782231464305293, 'max_depth': 15, 'alpha': 0.0003742746509206289, 'gamma': 0.00018564025150475243, 'reg_alpha': 0.20305142100655107, 'reg_lambda': 0.02618325988932545, 'colsample_bytree': 0.2814292501726777, 'subsample': 0.6352523725351242}. Best is trial 587 with value: 0.8472299944040292.\n",
      "[I 2024-02-22 15:35:28,121] Trial 764 finished with value: 0.8409972299168975 and parameters: {'n_estimators': 681, 'learning_rate': 0.23815540521062292, 'max_depth': 11, 'alpha': 0.00010078864394896122, 'gamma': 0.0003921954894276771, 'reg_alpha': 0.16189717663124367, 'reg_lambda': 0.07024292849842147, 'colsample_bytree': 0.3750088195636249, 'subsample': 0.45020977071385165}. Best is trial 587 with value: 0.8472299944040292.\n",
      "[I 2024-02-22 15:35:38,225] Trial 765 finished with value: 0.8299168975069253 and parameters: {'n_estimators': 608, 'learning_rate': 0.22295211018975664, 'max_depth': 13, 'alpha': 0.00027762361736895783, 'gamma': 0.00035052602438364635, 'reg_alpha': 0.1860410601966543, 'reg_lambda': 0.031305904994992265, 'colsample_bytree': 0.30105973250251566, 'subsample': 0.42868836437778984}. Best is trial 587 with value: 0.8472299944040292.\n",
      "[I 2024-02-22 15:35:49,266] Trial 766 finished with value: 0.8349944629014396 and parameters: {'n_estimators': 638, 'learning_rate': 0.2053673821942462, 'max_depth': 14, 'alpha': 0.00012432395750125636, 'gamma': 0.00025553340031900473, 'reg_alpha': 0.2616000149042727, 'reg_lambda': 0.030017781785807163, 'colsample_bytree': 0.3224238601938674, 'subsample': 0.5875764834796947}. Best is trial 587 with value: 0.8472299944040292.\n",
      "[I 2024-02-22 15:35:56,902] Trial 767 finished with value: 0.8422800221361373 and parameters: {'n_estimators': 344, 'learning_rate': 0.19228450800586003, 'max_depth': 12, 'alpha': 0.0017615630423849892, 'gamma': 0.0002193614211803991, 'reg_alpha': 0.2278836265009496, 'reg_lambda': 0.03529325244822386, 'colsample_bytree': 0.35068846388914293, 'subsample': 0.6054807555036624}. Best is trial 587 with value: 0.8472299944040292.\n",
      "[I 2024-02-22 15:36:05,102] Trial 768 finished with value: 0.8393839383938393 and parameters: {'n_estimators': 361, 'learning_rate': 0.215970396580648, 'max_depth': 13, 'alpha': 0.00018893427564955115, 'gamma': 0.0003157913196345802, 'reg_alpha': 0.20509423600701443, 'reg_lambda': 0.024458180854273086, 'colsample_bytree': 0.3392314205383632, 'subsample': 0.644245507223129}. Best is trial 587 with value: 0.8472299944040292.\n",
      "[I 2024-02-22 15:36:13,026] Trial 769 finished with value: 0.841225626740947 and parameters: {'n_estimators': 422, 'learning_rate': 0.2031891874125005, 'max_depth': 12, 'alpha': 0.005583553967252154, 'gamma': 0.00043463165641030783, 'reg_alpha': 0.2834071893070886, 'reg_lambda': 0.03252268417895133, 'colsample_bytree': 0.2771108008830661, 'subsample': 0.6206306067778288}. Best is trial 587 with value: 0.8472299944040292.\n",
      "[I 2024-02-22 15:36:22,748] Trial 770 finished with value: 0.8256983240223463 and parameters: {'n_estimators': 733, 'learning_rate': 0.16079921460749907, 'max_depth': 11, 'alpha': 0.00011741708420053788, 'gamma': 0.00037097052472504736, 'reg_alpha': 0.16334403643274784, 'reg_lambda': 0.028717675094213465, 'colsample_bytree': 0.14594609824860974, 'subsample': 0.6777418913377605}. Best is trial 587 with value: 0.8472299944040292.\n",
      "[I 2024-02-22 15:36:30,780] Trial 771 finished with value: 0.8372093023255814 and parameters: {'n_estimators': 387, 'learning_rate': 0.18733437044382772, 'max_depth': 13, 'alpha': 0.00014486308727154935, 'gamma': 0.0002854266306292284, 'reg_alpha': 0.3640762875417759, 'reg_lambda': 0.04003669563380525, 'colsample_bytree': 0.31672815827811707, 'subsample': 0.567427672450354}. Best is trial 587 with value: 0.8472299944040292.\n",
      "[I 2024-02-22 15:36:41,033] Trial 772 finished with value: 0.838781163434903 and parameters: {'n_estimators': 567, 'learning_rate': 0.22848490434504604, 'max_depth': 12, 'alpha': 0.0005645257609147136, 'gamma': 0.0006892783437707675, 'reg_alpha': 0.18695040535316462, 'reg_lambda': 0.02050080321907834, 'colsample_bytree': 0.3039484961359358, 'subsample': 0.6542742780119154}. Best is trial 587 with value: 0.8472299944040292.\n",
      "[I 2024-02-22 15:36:51,561] Trial 773 finished with value: 0.8339726027397261 and parameters: {'n_estimators': 624, 'learning_rate': 0.178339779151458, 'max_depth': 13, 'alpha': 0.0001301226256214985, 'gamma': 0.00023951158360474976, 'reg_alpha': 0.15181231214522045, 'reg_lambda': 0.03457700947313835, 'colsample_bytree': 0.2942250990981323, 'subsample': 0.4033846608193404}. Best is trial 587 with value: 0.8472299944040292.\n",
      "[I 2024-02-22 15:37:01,077] Trial 774 finished with value: 0.8397790055248618 and parameters: {'n_estimators': 592, 'learning_rate': 0.1975650369142075, 'max_depth': 12, 'alpha': 0.00023086321140858298, 'gamma': 0.00026572220018926065, 'reg_alpha': 0.3248144226668451, 'reg_lambda': 0.031983988875390224, 'colsample_bytree': 0.2551264083859209, 'subsample': 0.6122920222701348}. Best is trial 587 with value: 0.8472299944040292.\n",
      "[I 2024-02-22 15:37:08,488] Trial 775 finished with value: 0.8344444444444444 and parameters: {'n_estimators': 328, 'learning_rate': 0.20884438903993827, 'max_depth': 14, 'alpha': 0.00010749161363165468, 'gamma': 0.0003045479802589435, 'reg_alpha': 0.13747242115993713, 'reg_lambda': 0.03727137637587287, 'colsample_bytree': 0.33139885126153545, 'subsample': 0.6903331929705165}. Best is trial 587 with value: 0.8472299944040292.\n",
      "[I 2024-02-22 15:37:15,700] Trial 776 finished with value: 0.8354712771890686 and parameters: {'n_estimators': 360, 'learning_rate': 0.21871463422211332, 'max_depth': 13, 'alpha': 0.00013727173445052542, 'gamma': 0.0004900160252188035, 'reg_alpha': 0.2716342692253232, 'reg_lambda': 0.028856695148901993, 'colsample_bytree': 0.2742917218423645, 'subsample': 0.6662992068494884}. Best is trial 587 with value: 0.8472299944040292.\n",
      "[I 2024-02-22 15:37:26,654] Trial 777 finished with value: 0.8370288248337029 and parameters: {'n_estimators': 435, 'learning_rate': 0.17027476395306637, 'max_depth': 11, 'alpha': 0.0001655551483084508, 'gamma': 0.00033814159144133045, 'reg_alpha': 0.20873305821193597, 'reg_lambda': 0.04323678740813896, 'colsample_bytree': 0.35817932870396463, 'subsample': 0.6342497148981521}. Best is trial 587 with value: 0.8472299944040292.\n",
      "[I 2024-02-22 15:37:34,770] Trial 778 finished with value: 0.8418141592920353 and parameters: {'n_estimators': 401, 'learning_rate': 0.19068251327832234, 'max_depth': 12, 'alpha': 0.00020173322096991029, 'gamma': 0.00020624324526155474, 'reg_alpha': 0.24036599750957013, 'reg_lambda': 0.030692228892424928, 'colsample_bytree': 0.3161293667221408, 'subsample': 0.5903212892997141}. Best is trial 587 with value: 0.8472299944040292.\n",
      "[I 2024-02-22 15:37:45,078] Trial 779 finished with value: 0.842809364548495 and parameters: {'n_estimators': 654, 'learning_rate': 0.20117696063486296, 'max_depth': 13, 'alpha': 0.00012499016355673733, 'gamma': 0.00026770450765886607, 'reg_alpha': 0.17552368418342137, 'reg_lambda': 0.03332320739641672, 'colsample_bytree': 0.22053131033525664, 'subsample': 0.6171516512111909}. Best is trial 587 with value: 0.8472299944040292.\n",
      "[I 2024-02-22 15:37:51,720] Trial 780 finished with value: 0.8403083700440529 and parameters: {'n_estimators': 376, 'learning_rate': 0.24286678907523745, 'max_depth': 12, 'alpha': 0.0011000078420120357, 'gamma': 0.0003753065936724719, 'reg_alpha': 0.2218397712199207, 'reg_lambda': 0.026857089781512317, 'colsample_bytree': 0.33908695963216107, 'subsample': 0.6485090820282833}. Best is trial 587 with value: 0.8472299944040292.\n",
      "[I 2024-02-22 15:38:04,078] Trial 781 finished with value: 0.8436282693377851 and parameters: {'n_estimators': 608, 'learning_rate': 0.1812034916718482, 'max_depth': 13, 'alpha': 0.00015418097861493927, 'gamma': 0.009909142348357193, 'reg_alpha': 0.1953066682978849, 'reg_lambda': 0.03562492464231339, 'colsample_bytree': 0.2953813625671775, 'subsample': 0.5769675359246542}. Best is trial 587 with value: 0.8472299944040292.\n",
      "[I 2024-02-22 15:38:12,495] Trial 782 finished with value: 0.8455555555555555 and parameters: {'n_estimators': 412, 'learning_rate': 0.21310322369024645, 'max_depth': 12, 'alpha': 0.00011833646140210474, 'gamma': 0.0002261823127883299, 'reg_alpha': 0.16127902515706083, 'reg_lambda': 0.022407105610330526, 'colsample_bytree': 0.3196911620096168, 'subsample': 0.668797220099395}. Best is trial 587 with value: 0.8472299944040292.\n",
      "[I 2024-02-22 15:38:21,776] Trial 783 finished with value: 0.8380634390651086 and parameters: {'n_estimators': 457, 'learning_rate': 0.23124682592229798, 'max_depth': 14, 'alpha': 0.000298854348394154, 'gamma': 0.00019202395918320236, 'reg_alpha': 0.15491563062316288, 'reg_lambda': 0.022236222407060875, 'colsample_bytree': 0.38222767835831356, 'subsample': 0.6902520035721482}. Best is trial 587 with value: 0.8472299944040292.\n",
      "[I 2024-02-22 15:38:28,096] Trial 784 finished with value: 0.8383500557413601 and parameters: {'n_estimators': 419, 'learning_rate': 0.2201992883207504, 'max_depth': 11, 'alpha': 0.0001451014549302795, 'gamma': 0.00022995795194662115, 'reg_alpha': 0.1362405806550461, 'reg_lambda': 0.01890236910162063, 'colsample_bytree': 0.18415377597754928, 'subsample': 0.7005586517687009}. Best is trial 587 with value: 0.8472299944040292.\n",
      "[I 2024-02-22 15:38:40,649] Trial 785 finished with value: 0.8343490304709141 and parameters: {'n_estimators': 711, 'learning_rate': 0.21441763927420035, 'max_depth': 12, 'alpha': 0.00013055186932889272, 'gamma': 0.00020712962277185174, 'reg_alpha': 0.14089912595079213, 'reg_lambda': 0.023036644420588302, 'colsample_bytree': 0.35334463540772765, 'subsample': 0.6891674368697743}. Best is trial 587 with value: 0.8472299944040292.\n",
      "[I 2024-02-22 15:38:53,256] Trial 786 finished with value: 0.8377483443708609 and parameters: {'n_estimators': 637, 'learning_rate': 0.22062176877015707, 'max_depth': 13, 'alpha': 0.00017161972910347724, 'gamma': 0.00022563255898330924, 'reg_alpha': 0.15938843293909888, 'reg_lambda': 0.02149707972434973, 'colsample_bytree': 0.3344096945452053, 'subsample': 0.7155545773313257}. Best is trial 587 with value: 0.8472299944040292.\n",
      "[I 2024-02-22 15:39:03,898] Trial 787 finished with value: 0.8342541436464088 and parameters: {'n_estimators': 677, 'learning_rate': 0.2321860882840175, 'max_depth': 12, 'alpha': 0.004282319978240054, 'gamma': 0.00016506657948589507, 'reg_alpha': 0.16172762706336127, 'reg_lambda': 0.02029224770020905, 'colsample_bytree': 0.3701401651860994, 'subsample': 0.6765465354670038}. Best is trial 587 with value: 0.8472299944040292.\n",
      "[I 2024-02-22 15:39:14,086] Trial 788 finished with value: 0.8366666666666667 and parameters: {'n_estimators': 586, 'learning_rate': 0.21015297843990183, 'max_depth': 13, 'alpha': 0.003669024211064919, 'gamma': 0.0001897547059376257, 'reg_alpha': 0.13559731439635492, 'reg_lambda': 0.023322611525553812, 'colsample_bytree': 0.3211411649747825, 'subsample': 0.6688274933224323}. Best is trial 587 with value: 0.8472299944040292.\n",
      "[I 2024-02-22 15:39:21,986] Trial 789 finished with value: 0.8377777777777778 and parameters: {'n_estimators': 443, 'learning_rate': 0.2245778798363059, 'max_depth': 12, 'alpha': 0.0013265874731498261, 'gamma': 0.000913683300793276, 'reg_alpha': 0.17588266944890743, 'reg_lambda': 0.02415843441239612, 'colsample_bytree': 0.32053501934863454, 'subsample': 0.6659587257760647}. Best is trial 587 with value: 0.8472299944040292.\n",
      "[I 2024-02-22 15:39:28,825] Trial 790 finished with value: 0.8380634390651086 and parameters: {'n_estimators': 338, 'learning_rate': 0.24080541743904726, 'max_depth': 14, 'alpha': 0.0009622074629098709, 'gamma': 0.00020678184510471015, 'reg_alpha': 0.1717978691360032, 'reg_lambda': 0.02442727798117546, 'colsample_bytree': 0.34288651530008374, 'subsample': 0.6819848548708922}. Best is trial 587 with value: 0.8472299944040292.\n",
      "[I 2024-02-22 15:39:38,606] Trial 791 finished with value: 0.84 and parameters: {'n_estimators': 619, 'learning_rate': 0.2116756710102728, 'max_depth': 11, 'alpha': 0.00012030102381787049, 'gamma': 0.00024387236227660838, 'reg_alpha': 0.3017359004348752, 'reg_lambda': 0.02101436521857238, 'colsample_bytree': 0.2881836281667859, 'subsample': 0.6480061720682516}. Best is trial 587 with value: 0.8472299944040292.\n",
      "[I 2024-02-22 15:39:45,698] Trial 792 finished with value: 0.8419282511210762 and parameters: {'n_estimators': 384, 'learning_rate': 0.20547541951198658, 'max_depth': 13, 'alpha': 0.00015929194988524055, 'gamma': 0.0004196708849248382, 'reg_alpha': 0.1511057307765638, 'reg_lambda': 0.01737969420827018, 'colsample_bytree': 0.2496370388209142, 'subsample': 0.7077085766591671}. Best is trial 587 with value: 0.8472299944040292.\n",
      "[I 2024-02-22 15:39:53,695] Trial 793 finished with value: 0.8368479467258602 and parameters: {'n_estimators': 412, 'learning_rate': 0.22763344611865138, 'max_depth': 12, 'alpha': 0.00021855371348233533, 'gamma': 0.00022560524303238863, 'reg_alpha': 0.12648388443956535, 'reg_lambda': 0.021952634087266318, 'colsample_bytree': 0.30475644469897006, 'subsample': 0.6671738979106239}. Best is trial 587 with value: 0.8472299944040292.\n",
      "[I 2024-02-22 15:40:00,653] Trial 794 finished with value: 0.8342541436464088 and parameters: {'n_estimators': 356, 'learning_rate': 0.2144398319599332, 'max_depth': 13, 'alpha': 0.00013909638919658337, 'gamma': 0.000749891507564042, 'reg_alpha': 0.17323585275479655, 'reg_lambda': 0.02649714162479329, 'colsample_bytree': 0.3431583945057311, 'subsample': 0.42511087266415}. Best is trial 587 with value: 0.8472299944040292.\n",
      "[I 2024-02-22 15:40:08,208] Trial 795 finished with value: 0.8339811215991114 and parameters: {'n_estimators': 423, 'learning_rate': 0.19994267347574268, 'max_depth': 12, 'alpha': 0.00011771239172043299, 'gamma': 0.00024087828466288287, 'reg_alpha': 0.1921399564319237, 'reg_lambda': 0.024189260422205667, 'colsample_bytree': 0.3628140640469794, 'subsample': 0.5036285239824103}. Best is trial 587 with value: 0.8472299944040292.\n",
      "[I 2024-02-22 15:40:17,800] Trial 796 finished with value: 0.8332403792526493 and parameters: {'n_estimators': 390, 'learning_rate': 0.15141723484617217, 'max_depth': 11, 'alpha': 0.0008430925345898805, 'gamma': 0.0004648294952521996, 'reg_alpha': 0.15166769419133755, 'reg_lambda': 0.026675732997222836, 'colsample_bytree': 0.27717738655619817, 'subsample': 0.54510339100479}. Best is trial 587 with value: 0.8472299944040292.\n",
      "[I 2024-02-22 15:40:33,842] Trial 797 finished with value: 0.839355197331851 and parameters: {'n_estimators': 644, 'learning_rate': 0.25126712793215283, 'max_depth': 14, 'alpha': 0.000181731151030282, 'gamma': 0.0005559909847013081, 'reg_alpha': 0.1683021015304084, 'reg_lambda': 0.019523493874134483, 'colsample_bytree': 0.31913600033127354, 'subsample': 0.6560582327283728}. Best is trial 587 with value: 0.8472299944040292.\n",
      "[I 2024-02-22 15:40:44,651] Trial 798 finished with value: 0.8349944629014396 and parameters: {'n_estimators': 667, 'learning_rate': 0.20937142186979682, 'max_depth': 12, 'alpha': 0.00013229460098068704, 'gamma': 0.000176632063416196, 'reg_alpha': 0.3133274258763001, 'reg_lambda': 0.01849752834807847, 'colsample_bytree': 0.3339596761682298, 'subsample': 0.6943401848170787}. Best is trial 587 with value: 0.8472299944040292.\n",
      "[I 2024-02-22 15:40:50,640] Trial 799 finished with value: 0.8444444444444444 and parameters: {'n_estimators': 368, 'learning_rate': 0.23433640372480705, 'max_depth': 13, 'alpha': 0.0001489416890006111, 'gamma': 0.0004264258339673696, 'reg_alpha': 0.2870586229503949, 'reg_lambda': 0.022666863617878556, 'colsample_bytree': 0.26394201600500256, 'subsample': 0.6413737787776618}. Best is trial 587 with value: 0.8472299944040292.\n",
      "[I 2024-02-22 15:40:56,568] Trial 800 finished with value: 0.840223463687151 and parameters: {'n_estimators': 315, 'learning_rate': 0.1964619297479133, 'max_depth': 13, 'alpha': 0.0001969835277132732, 'gamma': 0.0002520121665701467, 'reg_alpha': 0.3430883879943556, 'reg_lambda': 0.025992265037120516, 'colsample_bytree': 0.29836400139573854, 'subsample': 0.6020191696608479}. Best is trial 587 with value: 0.8472299944040292.\n",
      "[I 2024-02-22 15:41:07,149] Trial 801 finished with value: 0.8356391809629221 and parameters: {'n_estimators': 602, 'learning_rate': 0.2200376079510939, 'max_depth': 11, 'alpha': 0.00011461431498619556, 'gamma': 0.0010186073052723225, 'reg_alpha': 0.13406415015388656, 'reg_lambda': 0.028447382477612405, 'colsample_bytree': 0.3124731417226861, 'subsample': 0.6794783967486627}. Best is trial 587 with value: 0.8472299944040292.\n",
      "[I 2024-02-22 15:41:17,432] Trial 802 finished with value: 0.8401775804661488 and parameters: {'n_estimators': 572, 'learning_rate': 0.2025825968665609, 'max_depth': 12, 'alpha': 0.00010130699965174957, 'gamma': 0.00021370343728048484, 'reg_alpha': 0.18497474110500314, 'reg_lambda': 0.025358586804675384, 'colsample_bytree': 0.3581553510146933, 'subsample': 0.5621916951080103}. Best is trial 587 with value: 0.8472299944040292.\n",
      "[I 2024-02-22 15:41:25,770] Trial 803 finished with value: 0.8430393788130893 and parameters: {'n_estimators': 545, 'learning_rate': 0.18437358692376377, 'max_depth': 12, 'alpha': 0.00012591132229007455, 'gamma': 0.0003982659907063337, 'reg_alpha': 0.4003582202979378, 'reg_lambda': 0.01578660101227521, 'colsample_bytree': 0.2244397724393676, 'subsample': 0.4595494766311034}. Best is trial 587 with value: 0.8472299944040292.\n",
      "[I 2024-02-22 15:41:36,365] Trial 804 finished with value: 0.8404017857142858 and parameters: {'n_estimators': 620, 'learning_rate': 0.22602016466140654, 'max_depth': 13, 'alpha': 0.00015790229138141443, 'gamma': 0.0003301783219868787, 'reg_alpha': 0.1613123349380078, 'reg_lambda': 0.04483022751294238, 'colsample_bytree': 0.28492967110387313, 'subsample': 0.7133232151311124}. Best is trial 587 with value: 0.8472299944040292.\n",
      "[I 2024-02-22 15:41:41,178] Trial 805 finished with value: 0.8398656215005599 and parameters: {'n_estimators': 231, 'learning_rate': 0.21181875311766019, 'max_depth': 14, 'alpha': 0.00014147827291601916, 'gamma': 0.0002974841960657643, 'reg_alpha': 0.18556468213257962, 'reg_lambda': 0.02957664517976112, 'colsample_bytree': 0.3272075408948075, 'subsample': 0.37576515008185474}. Best is trial 587 with value: 0.8472299944040292.\n",
      "[I 2024-02-22 15:41:48,590] Trial 806 finished with value: 0.8356545961002786 and parameters: {'n_estimators': 401, 'learning_rate': 0.1726219387682591, 'max_depth': 12, 'alpha': 0.00010845405953781179, 'gamma': 0.0004996360918402868, 'reg_alpha': 0.2718029056076299, 'reg_lambda': 0.041015536169489615, 'colsample_bytree': 0.30085720300847996, 'subsample': 0.6353369631913812}. Best is trial 587 with value: 0.8472299944040292.\n",
      "[I 2024-02-22 15:41:56,038] Trial 807 finished with value: 0.8398220244716351 and parameters: {'n_estimators': 375, 'learning_rate': 0.19270394013235598, 'max_depth': 13, 'alpha': 0.00013393148741641444, 'gamma': 0.00035504436781515463, 'reg_alpha': 0.1411272719909498, 'reg_lambda': 0.031501241282584844, 'colsample_bytree': 0.34291236095891675, 'subsample': 0.664383494217572}. Best is trial 587 with value: 0.8472299944040292.\n",
      "[I 2024-02-22 15:42:07,632] Trial 808 finished with value: 0.8409972299168975 and parameters: {'n_estimators': 695, 'learning_rate': 0.20487529304750043, 'max_depth': 11, 'alpha': 0.00017957369809464617, 'gamma': 0.0006395931731409198, 'reg_alpha': 0.49929152005925026, 'reg_lambda': 0.030345911367656395, 'colsample_bytree': 0.2732092070081942, 'subsample': 0.5913336530828577}. Best is trial 587 with value: 0.8472299944040292.\n",
      "[I 2024-02-22 15:42:13,409] Trial 809 finished with value: 0.8423973362930078 and parameters: {'n_estimators': 345, 'learning_rate': 0.2202313262270534, 'max_depth': 12, 'alpha': 0.00011768625293777474, 'gamma': 0.00026218703811919534, 'reg_alpha': 0.2581112236278265, 'reg_lambda': 0.027780156358698477, 'colsample_bytree': 0.24096453801974263, 'subsample': 0.6241253960470549}. Best is trial 587 with value: 0.8472299944040292.\n",
      "[I 2024-02-22 15:42:22,808] Trial 810 finished with value: 0.8155446086480569 and parameters: {'n_estimators': 653, 'learning_rate': 0.16158545473848399, 'max_depth': 13, 'alpha': 0.00025221201184456356, 'gamma': 0.00030692539341180345, 'reg_alpha': 0.20087655198869653, 'reg_lambda': 0.03909107977904139, 'colsample_bytree': 0.3933286293848071, 'subsample': 0.13105043738951422}. Best is trial 587 with value: 0.8472299944040292.\n",
      "[I 2024-02-22 15:42:34,662] Trial 811 finished with value: 0.8407079646017699 and parameters: {'n_estimators': 626, 'learning_rate': 0.1935276287049379, 'max_depth': 15, 'alpha': 0.000165126485968978, 'gamma': 0.0002399280177601907, 'reg_alpha': 0.2956584445894178, 'reg_lambda': 0.02050530031091448, 'colsample_bytree': 0.31788221327734634, 'subsample': 0.605075291213285}. Best is trial 587 with value: 0.8472299944040292.\n",
      "[I 2024-02-22 15:42:42,719] Trial 812 finished with value: 0.8359201773835921 and parameters: {'n_estimators': 425, 'learning_rate': 0.23946790479538707, 'max_depth': 12, 'alpha': 0.00014835626798552533, 'gamma': 0.00037027623265027643, 'reg_alpha': 0.1706340683065663, 'reg_lambda': 0.025222242180172237, 'colsample_bytree': 0.3721850273921371, 'subsample': 0.6480389923692387}. Best is trial 587 with value: 0.8472299944040292.\n",
      "[I 2024-02-22 15:42:51,771] Trial 813 finished with value: 0.8406285072951739 and parameters: {'n_estimators': 442, 'learning_rate': 0.1837358573616163, 'max_depth': 14, 'alpha': 0.0019538837785055096, 'gamma': 0.0002726604986786397, 'reg_alpha': 0.1485755435056963, 'reg_lambda': 0.03268678894108186, 'colsample_bytree': 0.29289504352400725, 'subsample': 0.6952991563148764}. Best is trial 587 with value: 0.8472299944040292.\n",
      "[I 2024-02-22 15:42:59,092] Trial 814 finished with value: 0.8388176240936978 and parameters: {'n_estimators': 323, 'learning_rate': 0.2045219905850339, 'max_depth': 13, 'alpha': 0.0001003336609315211, 'gamma': 0.0004586254025391789, 'reg_alpha': 0.18098648993407174, 'reg_lambda': 0.02823919070155959, 'colsample_bytree': 0.3318007224084144, 'subsample': 0.5793874019132996}. Best is trial 587 with value: 0.8472299944040292.\n",
      "[I 2024-02-22 15:43:07,815] Trial 815 finished with value: 0.8381374722838136 and parameters: {'n_estimators': 590, 'learning_rate': 0.21544244039576516, 'max_depth': 12, 'alpha': 0.0026321123660716056, 'gamma': 0.0008001352755073113, 'reg_alpha': 0.3685652978042702, 'reg_lambda': 0.03063321825037188, 'colsample_bytree': 0.1661042071586038, 'subsample': 0.6275671896277153}. Best is trial 587 with value: 0.8472299944040292.\n",
      "[I 2024-02-22 15:43:15,063] Trial 816 finished with value: 0.8397115917914586 and parameters: {'n_estimators': 353, 'learning_rate': 0.19735059145505968, 'max_depth': 11, 'alpha': 0.0001231815566874547, 'gamma': 0.00021689082383823295, 'reg_alpha': 0.1601786056384092, 'reg_lambda': 0.022737537752953577, 'colsample_bytree': 0.2594175492221737, 'subsample': 0.6754348151736846}. Best is trial 587 with value: 0.8472299944040292.\n",
      "[I 2024-02-22 15:43:22,745] Trial 817 finished with value: 0.8419877163595757 and parameters: {'n_estimators': 390, 'learning_rate': 0.17579933849657622, 'max_depth': 14, 'alpha': 0.00019375274885694436, 'gamma': 0.000393394728189466, 'reg_alpha': 0.2390851670251786, 'reg_lambda': 0.04262899446102462, 'colsample_bytree': 0.3117167077171847, 'subsample': 0.6573314974077002}. Best is trial 587 with value: 0.8472299944040292.\n",
      "[I 2024-02-22 15:43:30,063] Trial 818 finished with value: 0.8473829201101929 and parameters: {'n_estimators': 409, 'learning_rate': 0.2289726991158809, 'max_depth': 13, 'alpha': 0.005837809501563116, 'gamma': 0.0002912857042436941, 'reg_alpha': 0.33156921121162036, 'reg_lambda': 0.036729945045555684, 'colsample_bytree': 0.34558515804730106, 'subsample': 0.6051223597787302}. Best is trial 818 with value: 0.8473829201101929.\n",
      "[I 2024-02-22 15:43:38,139] Trial 819 finished with value: 0.8324986087924319 and parameters: {'n_estimators': 432, 'learning_rate': 0.24243335253080608, 'max_depth': 13, 'alpha': 0.005351846519436279, 'gamma': 0.0002887845487299601, 'reg_alpha': 0.3528707790790089, 'reg_lambda': 0.03890228625847507, 'colsample_bytree': 0.4062861425205816, 'subsample': 0.5556606087760891}. Best is trial 818 with value: 0.8473829201101929.\n",
      "[I 2024-02-22 15:43:46,412] Trial 820 finished with value: 0.8337028824833703 and parameters: {'n_estimators': 460, 'learning_rate': 0.2321225680645585, 'max_depth': 13, 'alpha': 0.005447894758785925, 'gamma': 0.00027281930154702833, 'reg_alpha': 0.3510925379480576, 'reg_lambda': 0.04130807161158076, 'colsample_bytree': 0.3706437856361303, 'subsample': 0.6003566399716967}. Best is trial 818 with value: 0.8473829201101929.\n",
      "[I 2024-02-22 15:43:54,283] Trial 821 finished with value: 0.8354712771890686 and parameters: {'n_estimators': 419, 'learning_rate': 0.25269875378758994, 'max_depth': 14, 'alpha': 0.004824568499495189, 'gamma': 0.00025139531245345185, 'reg_alpha': 0.3251934714081258, 'reg_lambda': 0.03836350747436442, 'colsample_bytree': 0.3600748254162687, 'subsample': 0.5803879176009527}. Best is trial 818 with value: 0.8473829201101929.\n",
      "[I 2024-02-22 15:44:02,284] Trial 822 finished with value: 0.8414023372287146 and parameters: {'n_estimators': 413, 'learning_rate': 0.23302505304980803, 'max_depth': 13, 'alpha': 0.00479255555050148, 'gamma': 0.00030888570820904377, 'reg_alpha': 0.3335227843944075, 'reg_lambda': 0.037288980418117096, 'colsample_bytree': 0.38403133931772965, 'subsample': 0.5978899526059376}. Best is trial 818 with value: 0.8473829201101929.\n",
      "[I 2024-02-22 15:44:09,365] Trial 823 finished with value: 0.8321329639889196 and parameters: {'n_estimators': 409, 'learning_rate': 0.2647913508179404, 'max_depth': 14, 'alpha': 0.0059172402784238715, 'gamma': 0.0002916492792168875, 'reg_alpha': 0.3290258987962815, 'reg_lambda': 0.040421142345516095, 'colsample_bytree': 0.35281731525170457, 'subsample': 0.6065933424687193}. Best is trial 818 with value: 0.8473829201101929.\n",
      "[I 2024-02-22 15:44:16,111] Trial 824 finished with value: 0.830631637786473 and parameters: {'n_estimators': 393, 'learning_rate': 0.22497143457641888, 'max_depth': 13, 'alpha': 0.006144742247077057, 'gamma': 0.0002277407251037548, 'reg_alpha': 0.37085683633422895, 'reg_lambda': 0.036559934914342805, 'colsample_bytree': 0.20258373948028277, 'subsample': 0.6159510677651149}. Best is trial 818 with value: 0.8473829201101929.\n",
      "[I 2024-02-22 15:44:24,340] Trial 825 finished with value: 0.8326848249027238 and parameters: {'n_estimators': 438, 'learning_rate': 0.23431413844373045, 'max_depth': 13, 'alpha': 0.006207223273299437, 'gamma': 0.0003232202010955512, 'reg_alpha': 0.31735513081542294, 'reg_lambda': 0.035665214669860563, 'colsample_bytree': 0.3448097937680245, 'subsample': 0.5675936189751055}. Best is trial 818 with value: 0.8473829201101929.\n",
      "[I 2024-02-22 15:44:31,298] Trial 826 finished with value: 0.8362831858407079 and parameters: {'n_estimators': 372, 'learning_rate': 0.24671425643541933, 'max_depth': 13, 'alpha': 0.0050305026118506735, 'gamma': 0.00025546477777314207, 'reg_alpha': 0.3069741876396873, 'reg_lambda': 0.025671047806458833, 'colsample_bytree': 0.34089062669920356, 'subsample': 0.529816970778879}. Best is trial 818 with value: 0.8473829201101929.\n",
      "[I 2024-02-22 15:44:39,110] Trial 827 finished with value: 0.8361831218974075 and parameters: {'n_estimators': 407, 'learning_rate': 0.22185492218037853, 'max_depth': 14, 'alpha': 0.004872375370459772, 'gamma': 0.0002830224402286652, 'reg_alpha': 0.3364790514880797, 'reg_lambda': 0.03878304689731903, 'colsample_bytree': 0.36044190131816, 'subsample': 0.6241526147343055}. Best is trial 818 with value: 0.8473829201101929.\n",
      "[I 2024-02-22 15:44:47,330] Trial 828 finished with value: 0.8325041459369819 and parameters: {'n_estimators': 392, 'learning_rate': 0.2446211913812272, 'max_depth': 13, 'alpha': 0.006787623699947905, 'gamma': 0.0003264563036230676, 'reg_alpha': 0.32122149844831205, 'reg_lambda': 0.036928812716108, 'colsample_bytree': 0.3306704614948199, 'subsample': 0.5886051858640431}. Best is trial 818 with value: 0.8473829201101929.\n",
      "[I 2024-02-22 15:44:55,532] Trial 829 finished with value: 0.8398220244716351 and parameters: {'n_estimators': 378, 'learning_rate': 0.22854001500539217, 'max_depth': 13, 'alpha': 0.005664618449965224, 'gamma': 0.0002516730591640795, 'reg_alpha': 0.36378739946941463, 'reg_lambda': 0.03439918479960794, 'colsample_bytree': 0.29220922632304974, 'subsample': 0.6355726272185164}. Best is trial 818 with value: 0.8473829201101929.\n",
      "[I 2024-02-22 15:45:03,584] Trial 830 finished with value: 0.8407572383073497 and parameters: {'n_estimators': 428, 'learning_rate': 0.21558146583705223, 'max_depth': 13, 'alpha': 0.005291422125609709, 'gamma': 0.00027028622877804735, 'reg_alpha': 0.2921445882112016, 'reg_lambda': 0.04360655379962955, 'colsample_bytree': 0.3108915182852993, 'subsample': 0.6129314706986303}. Best is trial 818 with value: 0.8473829201101929.\n",
      "[I 2024-02-22 15:45:11,519] Trial 831 finished with value: 0.8342541436464088 and parameters: {'n_estimators': 453, 'learning_rate': 0.22128047134860623, 'max_depth': 14, 'alpha': 0.004272603750960395, 'gamma': 0.0024034156074289634, 'reg_alpha': 0.38297298099195226, 'reg_lambda': 0.02788780809210946, 'colsample_bytree': 0.2491073028723564, 'subsample': 0.3970783171121861}. Best is trial 818 with value: 0.8473829201101929.\n",
      "[I 2024-02-22 15:45:17,835] Trial 832 finished with value: 0.8389261744966442 and parameters: {'n_estimators': 355, 'learning_rate': 0.2135440297644808, 'max_depth': 13, 'alpha': 0.0069532085621759705, 'gamma': 0.0002000541022637129, 'reg_alpha': 0.31052269086241036, 'reg_lambda': 0.0316112464449934, 'colsample_bytree': 0.2728113081701365, 'subsample': 0.5780521900481261}. Best is trial 818 with value: 0.8473829201101929.\n",
      "[I 2024-02-22 15:45:25,065] Trial 833 finished with value: 0.841340782122905 and parameters: {'n_estimators': 396, 'learning_rate': 0.13834600573220923, 'max_depth': 12, 'alpha': 0.00575494094352784, 'gamma': 0.0003020121398613131, 'reg_alpha': 0.3564316344018749, 'reg_lambda': 0.024168701037164828, 'colsample_bytree': 0.34771964938167366, 'subsample': 0.6090231033936558}. Best is trial 818 with value: 0.8473829201101929.\n",
      "[I 2024-02-22 15:45:32,731] Trial 834 finished with value: 0.8418708240534521 and parameters: {'n_estimators': 373, 'learning_rate': 0.2583653367761543, 'max_depth': 13, 'alpha': 0.0009282282115559971, 'gamma': 0.00023950613690441107, 'reg_alpha': 0.3463413723033517, 'reg_lambda': 0.021308609465886336, 'colsample_bytree': 0.37636736763419415, 'subsample': 0.636688720141279}. Best is trial 818 with value: 0.8473829201101929.\n",
      "[I 2024-02-22 15:45:44,546] Trial 835 finished with value: 0.8311258278145696 and parameters: {'n_estimators': 410, 'learning_rate': 0.23142713703465898, 'max_depth': 12, 'alpha': 0.00010020738250342666, 'gamma': 0.0002749036359445585, 'reg_alpha': 0.3370829107961168, 'reg_lambda': 0.041526401115299164, 'colsample_bytree': 0.9473652790275605, 'subsample': 0.591436923949682}. Best is trial 818 with value: 0.8473829201101929.\n",
      "[I 2024-02-22 15:45:48,529] Trial 836 finished with value: 0.8370535714285714 and parameters: {'n_estimators': 176, 'learning_rate': 0.20778105913716072, 'max_depth': 13, 'alpha': 0.004579554382351859, 'gamma': 0.0003297394273497716, 'reg_alpha': 0.28140479550499314, 'reg_lambda': 0.029383383885284737, 'colsample_bytree': 0.328458640969522, 'subsample': 0.6209538891549369}. Best is trial 818 with value: 0.8473829201101929.\n",
      "[I 2024-02-22 15:45:56,659] Trial 837 finished with value: 0.8435754189944135 and parameters: {'n_estimators': 345, 'learning_rate': 0.16541803642802347, 'max_depth': 14, 'alpha': 0.0004226930007099628, 'gamma': 0.0002295364144396717, 'reg_alpha': 0.2722613748424539, 'reg_lambda': 0.03279434593872037, 'colsample_bytree': 0.3053970214523164, 'subsample': 0.5494085680578563}. Best is trial 818 with value: 0.8473829201101929.\n",
      "[I 2024-02-22 15:46:03,695] Trial 838 finished with value: 0.8364849833147942 and parameters: {'n_estimators': 365, 'learning_rate': 0.24232404532611976, 'max_depth': 12, 'alpha': 0.0010264823561925143, 'gamma': 0.0008733446705542921, 'reg_alpha': 0.295847923480711, 'reg_lambda': 0.03512926208218183, 'colsample_bytree': 0.27967243349896226, 'subsample': 0.41839223634079103}. Best is trial 818 with value: 0.8473829201101929.\n",
      "[I 2024-02-22 15:46:11,313] Trial 839 finished with value: 0.8365867261572782 and parameters: {'n_estimators': 385, 'learning_rate': 0.22346380650953204, 'max_depth': 13, 'alpha': 0.00011710447031498187, 'gamma': 0.00030670004548637164, 'reg_alpha': 0.25771843760142066, 'reg_lambda': 0.030145164232498786, 'colsample_bytree': 0.32827544284395094, 'subsample': 0.6373081259087371}. Best is trial 818 with value: 0.8473829201101929.\n",
      "[I 2024-02-22 15:46:20,722] Trial 840 finished with value: 0.8325991189427313 and parameters: {'n_estimators': 335, 'learning_rate': 0.1878783279195519, 'max_depth': 15, 'alpha': 0.0002165884763741048, 'gamma': 0.00034433563768305293, 'reg_alpha': 0.30855052155927365, 'reg_lambda': 0.03748842489412587, 'colsample_bytree': 0.7922973352913663, 'subsample': 0.5656651114677265}. Best is trial 818 with value: 0.8473829201101929.\n",
      "[I 2024-02-22 15:46:27,143] Trial 841 finished with value: 0.8381696428571428 and parameters: {'n_estimators': 404, 'learning_rate': 0.20722874731692142, 'max_depth': 11, 'alpha': 0.0008517378351304295, 'gamma': 0.00026045849178149013, 'reg_alpha': 0.20486457202388608, 'reg_lambda': 0.026897517290003933, 'colsample_bytree': 0.23341981641158435, 'subsample': 0.5990370036734661}. Best is trial 818 with value: 0.8473829201101929.\n",
      "[I 2024-02-22 15:46:35,182] Trial 842 finished with value: 0.8334255672385169 and parameters: {'n_estimators': 434, 'learning_rate': 0.21498832741432508, 'max_depth': 12, 'alpha': 0.00011055547036248778, 'gamma': 0.00021471007189027784, 'reg_alpha': 0.3359184490417948, 'reg_lambda': 0.045177766628728966, 'colsample_bytree': 0.29660370976509665, 'subsample': 0.6160093905231332}. Best is trial 818 with value: 0.8473829201101929.\n",
      "[I 2024-02-22 15:46:49,471] Trial 843 finished with value: 0.8324145534729879 and parameters: {'n_estimators': 844, 'learning_rate': 0.20032792388842302, 'max_depth': 13, 'alpha': 0.0006575832474629052, 'gamma': 0.00014342424935817063, 'reg_alpha': 0.22856755158510428, 'reg_lambda': 0.019012969942280036, 'colsample_bytree': 0.35774071456638246, 'subsample': 0.4376292840074121}. Best is trial 818 with value: 0.8473829201101929.\n",
      "[I 2024-02-22 15:46:57,191] Trial 844 finished with value: 0.8426339285714286 and parameters: {'n_estimators': 421, 'learning_rate': 0.18155591074916783, 'max_depth': 14, 'alpha': 0.0002379530041254278, 'gamma': 0.0012027836028208532, 'reg_alpha': 0.2489647208871128, 'reg_lambda': 0.03208093768491718, 'colsample_bytree': 0.26191954246222066, 'subsample': 0.647959043979944}. Best is trial 818 with value: 0.8473829201101929.\n",
      "[I 2024-02-22 15:47:05,603] Trial 845 finished with value: 0.835754189944134 and parameters: {'n_estimators': 388, 'learning_rate': 0.23643506475204892, 'max_depth': 12, 'alpha': 0.0001263723023045346, 'gamma': 0.0002876145514050433, 'reg_alpha': 0.2869657165899464, 'reg_lambda': 0.03954077281065998, 'colsample_bytree': 0.31451950170083653, 'subsample': 0.5817235115960729}. Best is trial 818 with value: 0.8473829201101929.\n",
      "[I 2024-02-22 15:47:12,043] Trial 846 finished with value: 0.8369747899159663 and parameters: {'n_estimators': 364, 'learning_rate': 0.22514283128644055, 'max_depth': 13, 'alpha': 0.00010888490609616172, 'gamma': 0.0002411738005369471, 'reg_alpha': 0.18950085554513083, 'reg_lambda': 0.034458393399111754, 'colsample_bytree': 0.19191254038118868, 'subsample': 0.5987735177167172}. Best is trial 818 with value: 0.8473829201101929.\n",
      "[I 2024-02-22 15:47:22,636] Trial 847 finished with value: 0.8437843784378438 and parameters: {'n_estimators': 564, 'learning_rate': 0.19243886159435053, 'max_depth': 12, 'alpha': 0.00012719204873749856, 'gamma': 0.0001807081793427438, 'reg_alpha': 0.2707651472990453, 'reg_lambda': 0.022863603569518793, 'colsample_bytree': 0.3413162166097549, 'subsample': 0.6301525903048752}. Best is trial 818 with value: 0.8473829201101929.\n",
      "[I 2024-02-22 15:47:28,851] Trial 848 finished with value: 0.8440265486725664 and parameters: {'n_estimators': 325, 'learning_rate': 0.17268000795480473, 'max_depth': 11, 'alpha': 0.0015143426862569568, 'gamma': 0.0006062291141616088, 'reg_alpha': 0.2072283851686905, 'reg_lambda': 0.029638651321702403, 'colsample_bytree': 0.283141877040339, 'subsample': 0.6505648196677863}. Best is trial 818 with value: 0.8473829201101929.\n",
      "[I 2024-02-22 15:47:36,736] Trial 849 finished with value: 0.8458980044345897 and parameters: {'n_estimators': 402, 'learning_rate': 0.21145936001221893, 'max_depth': 14, 'alpha': 0.004513176906084521, 'gamma': 0.0018132158717539554, 'reg_alpha': 0.3165326168560933, 'reg_lambda': 0.03336081762823976, 'colsample_bytree': 0.31833526212703206, 'subsample': 0.6151664337334039}. Best is trial 818 with value: 0.8473829201101929.\n",
      "[I 2024-02-22 15:47:43,776] Trial 850 finished with value: 0.8345323741007193 and parameters: {'n_estimators': 447, 'learning_rate': 0.22081461901191082, 'max_depth': 15, 'alpha': 0.005355895724338383, 'gamma': 0.0015870019139980348, 'reg_alpha': 0.29774298539751676, 'reg_lambda': 0.035859398952985566, 'colsample_bytree': 0.32807296647983697, 'subsample': 0.27060271042506545}. Best is trial 818 with value: 0.8473829201101929.\n",
      "[I 2024-02-22 15:47:52,122] Trial 851 finished with value: 0.8414634146341463 and parameters: {'n_estimators': 412, 'learning_rate': 0.2129401387584125, 'max_depth': 15, 'alpha': 0.0001069816463056785, 'gamma': 0.0019000465312701321, 'reg_alpha': 0.2811882910952093, 'reg_lambda': 0.033287112813787385, 'colsample_bytree': 0.34337940085684293, 'subsample': 0.6140814894565896}. Best is trial 818 with value: 0.8473829201101929.\n",
      "[I 2024-02-22 15:48:00,538] Trial 852 finished with value: 0.8386376326074818 and parameters: {'n_estimators': 399, 'learning_rate': 0.23017784732391974, 'max_depth': 14, 'alpha': 0.004342356125435594, 'gamma': 0.0012716654628439899, 'reg_alpha': 0.31013596869305815, 'reg_lambda': 0.033515645778508865, 'colsample_bytree': 0.3872476104558663, 'subsample': 0.5908514402834425}. Best is trial 818 with value: 0.8473829201101929.\n",
      "[I 2024-02-22 15:48:10,591] Trial 853 finished with value: 0.8407079646017699 and parameters: {'n_estimators': 473, 'learning_rate': 0.21264472505297982, 'max_depth': 14, 'alpha': 0.005803257094464062, 'gamma': 0.0017082923525409337, 'reg_alpha': 0.30089929201117666, 'reg_lambda': 0.03169019749873298, 'colsample_bytree': 0.3176755779370834, 'subsample': 0.6247853044626721}. Best is trial 818 with value: 0.8473829201101929.\n",
      "[I 2024-02-22 15:48:19,495] Trial 854 finished with value: 0.8350916157690171 and parameters: {'n_estimators': 429, 'learning_rate': 0.2286109499957734, 'max_depth': 14, 'alpha': 0.005325845379717874, 'gamma': 0.0002565530612202895, 'reg_alpha': 0.25976519459255853, 'reg_lambda': 0.035516703786356525, 'colsample_bytree': 0.36624008698751565, 'subsample': 0.6083290101789106}. Best is trial 818 with value: 0.8473829201101929.\n",
      "[I 2024-02-22 15:48:27,128] Trial 855 finished with value: 0.8356545961002786 and parameters: {'n_estimators': 392, 'learning_rate': 0.20490342461995437, 'max_depth': 15, 'alpha': 0.004985819282617397, 'gamma': 0.001827508323062893, 'reg_alpha': 0.27143782358199964, 'reg_lambda': 0.03131837555419251, 'colsample_bytree': 0.3334331494331025, 'subsample': 0.5736840109824053}. Best is trial 818 with value: 0.8473829201101929.\n",
      "[I 2024-02-22 15:48:35,151] Trial 856 finished with value: 0.8419301164725458 and parameters: {'n_estimators': 376, 'learning_rate': 0.24111493974391243, 'max_depth': 14, 'alpha': 0.004687548688295198, 'gamma': 0.001668917368515152, 'reg_alpha': 0.25217189081720676, 'reg_lambda': 0.03714495200538089, 'colsample_bytree': 0.3070627765847178, 'subsample': 0.6301356594321479}. Best is trial 818 with value: 0.8473829201101929.\n",
      "[I 2024-02-22 15:48:44,506] Trial 857 finished with value: 0.8396436525612473 and parameters: {'n_estimators': 412, 'learning_rate': 0.21940049251810895, 'max_depth': 14, 'alpha': 0.006137086707274839, 'gamma': 0.0007036042433319958, 'reg_alpha': 0.22811448707815685, 'reg_lambda': 0.034040923647544796, 'colsample_bytree': 0.3549797610524996, 'subsample': 0.6468058427036056}. Best is trial 818 with value: 0.8473829201101929.\n",
      "[I 2024-02-22 15:48:54,136] Trial 858 finished with value: 0.8303964757709251 and parameters: {'n_estimators': 380, 'learning_rate': 0.20817641530603537, 'max_depth': 14, 'alpha': 0.005394184906072764, 'gamma': 0.00022402503668238506, 'reg_alpha': 0.3116747227751971, 'reg_lambda': 0.03288325781454391, 'colsample_bytree': 0.6977773031076177, 'subsample': 0.6026074233337049}. Best is trial 818 with value: 0.8473829201101929.\n",
      "[I 2024-02-22 15:49:02,198] Trial 859 finished with value: 0.8404669260700388 and parameters: {'n_estimators': 432, 'learning_rate': 0.23444791228140455, 'max_depth': 11, 'alpha': 0.0038553461208596807, 'gamma': 0.0016554626519819432, 'reg_alpha': 0.19205449992944823, 'reg_lambda': 0.031013498968565346, 'colsample_bytree': 0.32336429265837807, 'subsample': 0.5573509636070291}. Best is trial 818 with value: 0.8473829201101929.\n",
      "[I 2024-02-22 15:49:09,721] Trial 860 finished with value: 0.8396436525612473 and parameters: {'n_estimators': 356, 'learning_rate': 0.25245588768656063, 'max_depth': 14, 'alpha': 0.005644901197865433, 'gamma': 0.0002823370162912843, 'reg_alpha': 0.2839892051897043, 'reg_lambda': 0.03513545040401415, 'colsample_bytree': 0.3061887358623652, 'subsample': 0.6618215684399977}. Best is trial 818 with value: 0.8473829201101929.\n",
      "[I 2024-02-22 15:49:17,236] Trial 861 finished with value: 0.8335195530726257 and parameters: {'n_estimators': 396, 'learning_rate': 0.22145180633687062, 'max_depth': 12, 'alpha': 0.004703710220394189, 'gamma': 0.0019335863394546484, 'reg_alpha': 0.2162364398639136, 'reg_lambda': 0.02915809395345462, 'colsample_bytree': 0.33957025575700184, 'subsample': 0.5839902123315716}. Best is trial 818 with value: 0.8473829201101929.\n",
      "[I 2024-02-22 15:49:25,150] Trial 862 finished with value: 0.8475711892797321 and parameters: {'n_estimators': 414, 'learning_rate': 0.20046808426888615, 'max_depth': 11, 'alpha': 0.004365542651458743, 'gamma': 0.00025712949731685885, 'reg_alpha': 0.17168922089033928, 'reg_lambda': 0.03881395024846057, 'colsample_bytree': 0.32031741412326675, 'subsample': 0.6269215430592496}. Best is trial 862 with value: 0.8475711892797321.\n",
      "[I 2024-02-22 15:49:33,804] Trial 863 finished with value: 0.8391376451077944 and parameters: {'n_estimators': 447, 'learning_rate': 0.2112043399498204, 'max_depth': 11, 'alpha': 0.003509469190690673, 'gamma': 0.001974771485586438, 'reg_alpha': 0.17256974039442802, 'reg_lambda': 0.03890247940599501, 'colsample_bytree': 0.34835851699684184, 'subsample': 0.6185102332642369}. Best is trial 862 with value: 0.8475711892797321.\n",
      "[I 2024-02-22 15:49:38,596] Trial 864 finished with value: 0.8039757040309221 and parameters: {'n_estimators': 416, 'learning_rate': 0.20275042073142593, 'max_depth': 11, 'alpha': 0.004370143430674054, 'gamma': 0.002107182652688382, 'reg_alpha': 0.13207640390868194, 'reg_lambda': 0.04095805987887086, 'colsample_bytree': 0.12884439436044337, 'subsample': 0.15977094056521224}. Best is trial 862 with value: 0.8475711892797321.\n",
      "[I 2024-02-22 15:49:47,087] Trial 865 finished with value: 0.8314732142857142 and parameters: {'n_estimators': 467, 'learning_rate': 0.21624070711119944, 'max_depth': 11, 'alpha': 0.004909679673830842, 'gamma': 0.0014871435719570137, 'reg_alpha': 0.17967049829889467, 'reg_lambda': 0.03982331899117324, 'colsample_bytree': 0.31958301037758485, 'subsample': 0.6354585298202475}. Best is trial 862 with value: 0.8475711892797321.\n",
      "[I 2024-02-22 15:49:56,385] Trial 866 finished with value: 0.8361018826135105 and parameters: {'n_estimators': 420, 'learning_rate': 0.20103178592683862, 'max_depth': 11, 'alpha': 0.005275447824481396, 'gamma': 0.0001957324683443108, 'reg_alpha': 0.14972418445862223, 'reg_lambda': 0.037960742747815385, 'colsample_bytree': 0.3711228934517335, 'subsample': 0.6428394851479975}. Best is trial 862 with value: 0.8475711892797321.\n",
      "[I 2024-02-22 15:50:04,137] Trial 867 finished with value: 0.8402893711741791 and parameters: {'n_estimators': 433, 'learning_rate': 0.2265381001124918, 'max_depth': 11, 'alpha': 0.005228952715304184, 'gamma': 0.0018353264087924354, 'reg_alpha': 0.1927408203727401, 'reg_lambda': 0.04134688631203456, 'colsample_bytree': 0.329713504945017, 'subsample': 0.6113131099951442}. Best is trial 862 with value: 0.8475711892797321.\n",
      "[I 2024-02-22 15:50:10,831] Trial 868 finished with value: 0.8373126041088284 and parameters: {'n_estimators': 404, 'learning_rate': 0.21181833417930726, 'max_depth': 11, 'alpha': 0.0039937707893763445, 'gamma': 0.0002292912488594514, 'reg_alpha': 0.15968891745392566, 'reg_lambda': 0.03720346493439505, 'colsample_bytree': 0.30763988526296143, 'subsample': 0.6244088836413029}. Best is trial 862 with value: 0.8475711892797321.\n",
      "[I 2024-02-22 15:50:17,427] Trial 869 finished with value: 0.8383500557413601 and parameters: {'n_estimators': 403, 'learning_rate': 0.20286035243980607, 'max_depth': 11, 'alpha': 0.004363878983368566, 'gamma': 0.0021773917546950477, 'reg_alpha': 0.1790364691424531, 'reg_lambda': 0.03907011389896136, 'colsample_bytree': 0.34862300903013554, 'subsample': 0.6558990265541355}. Best is trial 862 with value: 0.8475711892797321.\n",
      "[I 2024-02-22 15:50:25,570] Trial 870 finished with value: 0.8402432283029297 and parameters: {'n_estimators': 446, 'learning_rate': 0.2211655814575158, 'max_depth': 11, 'alpha': 0.0008247600864168017, 'gamma': 0.00025298642812625864, 'reg_alpha': 0.19914654570537993, 'reg_lambda': 0.04320427700214482, 'colsample_bytree': 0.41341441263099726, 'subsample': 0.6384991264532638}. Best is trial 862 with value: 0.8475711892797321.\n",
      "[I 2024-02-22 15:50:33,970] Trial 871 finished with value: 0.830546265328874 and parameters: {'n_estimators': 389, 'learning_rate': 0.23802783062414193, 'max_depth': 11, 'alpha': 0.0042244527870450065, 'gamma': 0.002165577926920072, 'reg_alpha': 0.12957680755515152, 'reg_lambda': 0.036257091847631755, 'colsample_bytree': 0.323178655224414, 'subsample': 0.5944235783280256}. Best is trial 862 with value: 0.8475711892797321.\n",
      "[I 2024-02-22 15:50:42,641] Trial 872 finished with value: 0.8390677025527192 and parameters: {'n_estimators': 369, 'learning_rate': 0.19549769343928428, 'max_depth': 12, 'alpha': 0.004564765409576563, 'gamma': 0.00020446062791895935, 'reg_alpha': 0.17396317936948202, 'reg_lambda': 0.039874257733477005, 'colsample_bytree': 0.30424474318364514, 'subsample': 0.6088649345868727}. Best is trial 862 with value: 0.8475711892797321.\n",
      "[I 2024-02-22 15:50:52,145] Trial 873 finished with value: 0.8432132963988921 and parameters: {'n_estimators': 429, 'learning_rate': 0.21326075973835787, 'max_depth': 15, 'alpha': 0.006584567577913304, 'gamma': 0.0002653095837978286, 'reg_alpha': 0.15230165160830292, 'reg_lambda': 0.03782262484273067, 'colsample_bytree': 0.3395649089296954, 'subsample': 0.6648176822181949}. Best is trial 862 with value: 0.8475711892797321.\n",
      "[I 2024-02-22 15:51:00,054] Trial 874 finished with value: 0.8423973362930078 and parameters: {'n_estimators': 407, 'learning_rate': 0.22584168616585346, 'max_depth': 11, 'alpha': 0.0038202271312872045, 'gamma': 0.0002556169754824536, 'reg_alpha': 0.21087217914474818, 'reg_lambda': 0.03582947789419896, 'colsample_bytree': 0.36538914979025267, 'subsample': 0.5946595111347741}. Best is trial 862 with value: 0.8475711892797321.\n",
      "[I 2024-02-22 15:51:07,212] Trial 875 finished with value: 0.8438021122846026 and parameters: {'n_estimators': 380, 'learning_rate': 0.20572721823677698, 'max_depth': 12, 'alpha': 0.004888050555681134, 'gamma': 0.0017495787074280936, 'reg_alpha': 0.23642937084137536, 'reg_lambda': 0.03420727444679185, 'colsample_bytree': 0.3197562841640801, 'subsample': 0.6236853122167888}. Best is trial 862 with value: 0.8475711892797321.\n",
      "[I 2024-02-22 15:51:15,482] Trial 876 finished with value: 0.8426903835464146 and parameters: {'n_estimators': 421, 'learning_rate': 0.19836173437488092, 'max_depth': 12, 'alpha': 0.0029806881023340644, 'gamma': 0.0002380792707020624, 'reg_alpha': 0.16909763266132452, 'reg_lambda': 0.042575093641520234, 'colsample_bytree': 0.29718183670029663, 'subsample': 0.5796760376742277}. Best is trial 862 with value: 0.8475711892797321.\n",
      "[I 2024-02-22 15:51:23,019] Trial 877 finished with value: 0.8404196576477084 and parameters: {'n_estimators': 454, 'learning_rate': 0.21477150429614267, 'max_depth': 11, 'alpha': 0.0049296739971934215, 'gamma': 0.0002827218542552449, 'reg_alpha': 0.19411608956216858, 'reg_lambda': 0.033257577127899035, 'colsample_bytree': 0.351785127227049, 'subsample': 0.643263932168407}. Best is trial 862 with value: 0.8475711892797321.\n",
      "[I 2024-02-22 15:51:29,973] Trial 878 finished with value: 0.842809364548495 and parameters: {'n_estimators': 389, 'learning_rate': 0.24807424124018168, 'max_depth': 12, 'alpha': 0.004150827847711334, 'gamma': 0.002339065995830219, 'reg_alpha': 0.1502111970571374, 'reg_lambda': 0.0767225315202845, 'colsample_bytree': 0.33150774537500094, 'subsample': 0.611277364764327}. Best is trial 862 with value: 0.8475711892797321.\n",
      "[I 2024-02-22 15:51:36,735] Trial 879 finished with value: 0.8369504730105731 and parameters: {'n_estimators': 353, 'learning_rate': 0.2357852384057519, 'max_depth': 12, 'alpha': 0.005408657145427734, 'gamma': 0.000219428869802259, 'reg_alpha': 0.12720391787531976, 'reg_lambda': 0.036251873983032284, 'colsample_bytree': 0.3093076136763902, 'subsample': 0.6279362556930773}. Best is trial 862 with value: 0.8475711892797321.\n",
      "[I 2024-02-22 15:51:44,245] Trial 880 finished with value: 0.8354570637119114 and parameters: {'n_estimators': 408, 'learning_rate': 0.19125172267574028, 'max_depth': 11, 'alpha': 0.003907433215854513, 'gamma': 0.00027513805433475536, 'reg_alpha': 0.21641679275693176, 'reg_lambda': 0.03223119204616496, 'colsample_bytree': 0.39489112943684807, 'subsample': 0.6647055443498482}. Best is trial 862 with value: 0.8475711892797321.\n",
      "[I 2024-02-22 15:51:51,349] Trial 881 finished with value: 0.8324145534729879 and parameters: {'n_estimators': 308, 'learning_rate': 0.2069119003195234, 'max_depth': 12, 'alpha': 0.004634250962217556, 'gamma': 0.0002445612620548162, 'reg_alpha': 0.1839512200321398, 'reg_lambda': 0.03808859987741838, 'colsample_bytree': 0.2940189282631192, 'subsample': 0.5725005552206099}. Best is trial 862 with value: 0.8475711892797321.\n",
      "[I 2024-02-22 15:51:58,693] Trial 882 finished with value: 0.841111111111111 and parameters: {'n_estimators': 335, 'learning_rate': 0.2252817663254136, 'max_depth': 12, 'alpha': 0.004690261942642453, 'gamma': 0.00029640828634010523, 'reg_alpha': 0.16407458316458157, 'reg_lambda': 0.03527746744125347, 'colsample_bytree': 0.3319811345416432, 'subsample': 0.601770035794184}. Best is trial 862 with value: 0.8475711892797321.\n",
      "[I 2024-02-22 15:52:05,486] Trial 883 finished with value: 0.8247305728871243 and parameters: {'n_estimators': 394, 'learning_rate': 0.19714665727997832, 'max_depth': 12, 'alpha': 0.005937050237558793, 'gamma': 0.00023469926470002034, 'reg_alpha': 0.20500100332902643, 'reg_lambda': 0.0402370083791744, 'colsample_bytree': 0.102599043601877, 'subsample': 0.6477155503676044}. Best is trial 862 with value: 0.8475711892797321.\n",
      "[I 2024-02-22 15:52:12,627] Trial 884 finished with value: 0.8372862658576945 and parameters: {'n_estimators': 364, 'learning_rate': 0.21569081289233122, 'max_depth': 11, 'alpha': 0.005955603255964892, 'gamma': 0.00026903498739741077, 'reg_alpha': 0.2389867300752698, 'reg_lambda': 0.045919932700476666, 'colsample_bytree': 0.3161569208250062, 'subsample': 0.6241607717430168}. Best is trial 862 with value: 0.8475711892797321.\n",
      "[I 2024-02-22 15:52:22,154] Trial 885 finished with value: 0.8375209380234505 and parameters: {'n_estimators': 427, 'learning_rate': 0.20761754400580465, 'max_depth': 14, 'alpha': 0.006539556285950698, 'gamma': 0.0003073341955805589, 'reg_alpha': 0.14593618097141503, 'reg_lambda': 0.030685844516307813, 'colsample_bytree': 0.35912293240924886, 'subsample': 0.5941038749111233}. Best is trial 862 with value: 0.8475711892797321.\n",
      "[I 2024-02-22 15:52:30,289] Trial 886 finished with value: 0.8405315614617941 and parameters: {'n_estimators': 443, 'learning_rate': 0.23130728031163822, 'max_depth': 12, 'alpha': 0.00735851530675318, 'gamma': 0.00021351621865683268, 'reg_alpha': 0.19054299222787358, 'reg_lambda': 0.03387946958919364, 'colsample_bytree': 0.3785424216278361, 'subsample': 0.6724131273362516}. Best is trial 862 with value: 0.8475711892797321.\n",
      "[I 2024-02-22 15:52:35,897] Trial 887 finished with value: 0.8254665203073546 and parameters: {'n_estimators': 377, 'learning_rate': 0.18807120625808454, 'max_depth': 11, 'alpha': 0.0005894850915367699, 'gamma': 0.00025830767533026983, 'reg_alpha': 0.1726382593121159, 'reg_lambda': 0.056397615366510875, 'colsample_bytree': 0.3432341167552025, 'subsample': 0.2168625385807907}. Best is trial 862 with value: 0.8475711892797321.\n",
      "[I 2024-02-22 15:52:43,825] Trial 888 finished with value: 0.8348115299334813 and parameters: {'n_estimators': 408, 'learning_rate': 0.21903840873957756, 'max_depth': 12, 'alpha': 0.0010976951287040193, 'gamma': 0.00029452384203622426, 'reg_alpha': 0.226239884750364, 'reg_lambda': 0.061718263424297364, 'colsample_bytree': 0.30332057228358056, 'subsample': 0.6348004376481592}. Best is trial 862 with value: 0.8475711892797321.\n",
      "[I 2024-02-22 15:52:51,505] Trial 889 finished with value: 0.8423973362930078 and parameters: {'n_estimators': 378, 'learning_rate': 0.20044320318029968, 'max_depth': 12, 'alpha': 0.0003238971663877252, 'gamma': 0.002026365744843935, 'reg_alpha': 0.1619200435288623, 'reg_lambda': 0.029087916587752744, 'colsample_bytree': 0.32198874424038987, 'subsample': 0.65207694669089}. Best is trial 862 with value: 0.8475711892797321.\n",
      "[I 2024-02-22 15:52:58,358] Trial 890 finished with value: 0.8340707964601769 and parameters: {'n_estimators': 351, 'learning_rate': 0.1924076159234452, 'max_depth': 12, 'alpha': 0.005220999355314954, 'gamma': 0.0002298734115701811, 'reg_alpha': 0.2050686163684732, 'reg_lambda': 0.03226020634673814, 'colsample_bytree': 0.28757404197345254, 'subsample': 0.556018465993835}. Best is trial 862 with value: 0.8475711892797321.\n",
      "[I 2024-02-22 15:53:07,524] Trial 891 finished with value: 0.8352617079889807 and parameters: {'n_estimators': 529, 'learning_rate': 0.20461128049386937, 'max_depth': 10, 'alpha': 0.004346328417893857, 'gamma': 0.0013570611429741019, 'reg_alpha': 0.12077614559538208, 'reg_lambda': 0.0376980953934473, 'colsample_bytree': 0.34043551549323714, 'subsample': 0.6131261614044137}. Best is trial 862 with value: 0.8475711892797321.\n",
      "[I 2024-02-22 15:53:15,927] Trial 892 finished with value: 0.8351893095768375 and parameters: {'n_estimators': 419, 'learning_rate': 0.22562960878201938, 'max_depth': 13, 'alpha': 0.0009024941059968874, 'gamma': 0.0002694450559619034, 'reg_alpha': 0.14416441635952632, 'reg_lambda': 0.0416597511453965, 'colsample_bytree': 0.31297663665286324, 'subsample': 0.6833888658508019}. Best is trial 862 with value: 0.8475711892797321.\n",
      "[I 2024-02-22 15:53:21,370] Trial 893 finished with value: 0.8523862375138737 and parameters: {'n_estimators': 204, 'learning_rate': 0.21131295954390397, 'max_depth': 11, 'alpha': 0.0059739204722356306, 'gamma': 0.00019522623637056446, 'reg_alpha': 0.18394995343909318, 'reg_lambda': 0.03445466061965917, 'colsample_bytree': 0.3560557949368405, 'subsample': 0.5876797209836141}. Best is trial 893 with value: 0.8523862375138737.\n",
      "[I 2024-02-22 15:53:25,516] Trial 894 finished with value: 0.834540389972145 and parameters: {'n_estimators': 212, 'learning_rate': 0.18454603256621632, 'max_depth': 10, 'alpha': 0.006298988208358745, 'gamma': 0.0001945994511389214, 'reg_alpha': 0.47546020907341846, 'reg_lambda': 0.036307067605679914, 'colsample_bytree': 0.4020072736265814, 'subsample': 0.5797803168667529}. Best is trial 893 with value: 0.8523862375138737.\n",
      "[I 2024-02-22 15:53:28,931] Trial 895 finished with value: 0.8403547671840356 and parameters: {'n_estimators': 168, 'learning_rate': 0.19588454032547814, 'max_depth': 10, 'alpha': 0.005883408240714935, 'gamma': 0.00016617118825026965, 'reg_alpha': 0.18462957371934124, 'reg_lambda': 0.03472933018482049, 'colsample_bytree': 0.3647609419746288, 'subsample': 0.542466776920219}. Best is trial 893 with value: 0.8523862375138737.\n",
      "[I 2024-02-22 15:53:31,733] Trial 896 finished with value: 0.839617332583005 and parameters: {'n_estimators': 131, 'learning_rate': 0.20868942531668436, 'max_depth': 11, 'alpha': 0.007438215677142256, 'gamma': 0.00018252346727812312, 'reg_alpha': 0.18338780383729852, 'reg_lambda': 0.03877743788470059, 'colsample_bytree': 0.353045869556286, 'subsample': 0.567259585967254}. Best is trial 893 with value: 0.8523862375138737.\n",
      "[I 2024-02-22 15:53:35,829] Trial 897 finished with value: 0.839176405119644 and parameters: {'n_estimators': 228, 'learning_rate': 0.1991214306925166, 'max_depth': 11, 'alpha': 0.005536648066204335, 'gamma': 0.00020940996815720024, 'reg_alpha': 0.19984159770964757, 'reg_lambda': 0.036677610044385016, 'colsample_bytree': 0.38475028222830665, 'subsample': 0.5891192455870425}. Best is trial 893 with value: 0.8523862375138737.\n",
      "[I 2024-02-22 15:53:50,940] Trial 898 finished with value: 0.8367459878251244 and parameters: {'n_estimators': 973, 'learning_rate': 0.21108025973072783, 'max_depth': 11, 'alpha': 0.0070141077389543486, 'gamma': 0.00014664183869814412, 'reg_alpha': 0.17128187634249165, 'reg_lambda': 0.03493671935773307, 'colsample_bytree': 0.36543549933530906, 'subsample': 0.5303016714964736}. Best is trial 893 with value: 0.8523862375138737.\n",
      "[I 2024-02-22 15:53:55,785] Trial 899 finished with value: 0.8356545961002786 and parameters: {'n_estimators': 198, 'learning_rate': 0.2722609926455823, 'max_depth': 11, 'alpha': 0.006335688871342386, 'gamma': 0.0001812826563969158, 'reg_alpha': 0.16323685626162993, 'reg_lambda': 0.04392322493924216, 'colsample_bytree': 0.38737796555565684, 'subsample': 0.5731947090321313}. Best is trial 893 with value: 0.8523862375138737.\n",
      "[I 2024-02-22 15:54:00,747] Trial 900 finished with value: 0.8390677025527192 and parameters: {'n_estimators': 247, 'learning_rate': 0.18321516705111307, 'max_depth': 10, 'alpha': 0.006386199471428047, 'gamma': 0.00020159597213410333, 'reg_alpha': 0.21546238376699967, 'reg_lambda': 0.03350950708073578, 'colsample_bytree': 0.369745340892835, 'subsample': 0.5946004577525282}. Best is trial 893 with value: 0.8523862375138737.\n",
      "[I 2024-02-22 15:54:05,562] Trial 901 finished with value: 0.8380634390651086 and parameters: {'n_estimators': 244, 'learning_rate': 0.18972078459238406, 'max_depth': 11, 'alpha': 0.005067731067661861, 'gamma': 0.00017696383391567017, 'reg_alpha': 0.18927353436192013, 'reg_lambda': 0.03941515111204389, 'colsample_bytree': 0.34865567741299763, 'subsample': 0.5562802412015775}. Best is trial 893 with value: 0.8523862375138737.\n",
      "[I 2024-02-22 15:54:12,342] Trial 902 finished with value: 0.8415786548082268 and parameters: {'n_estimators': 295, 'learning_rate': 0.20146405249547514, 'max_depth': 15, 'alpha': 0.005053931613735944, 'gamma': 0.00015278068370239492, 'reg_alpha': 0.1480621139307972, 'reg_lambda': 0.03686230899138422, 'colsample_bytree': 0.42527743427176845, 'subsample': 0.672127879640898}. Best is trial 893 with value: 0.8523862375138737.\n",
      "[I 2024-02-22 15:54:15,519] Trial 903 finished with value: 0.8295136948015651 and parameters: {'n_estimators': 153, 'learning_rate': 0.21530340673728227, 'max_depth': 11, 'alpha': 0.006964702856302258, 'gamma': 0.00018583452886362733, 'reg_alpha': 0.17697233631130152, 'reg_lambda': 0.03478671035176431, 'colsample_bytree': 0.3390351805954662, 'subsample': 0.7061187642910743}. Best is trial 893 with value: 0.8523862375138737.\n",
      "[I 2024-02-22 15:54:22,624] Trial 904 finished with value: 0.8337053571428571 and parameters: {'n_estimators': 321, 'learning_rate': 0.2051515873173758, 'max_depth': 11, 'alpha': 0.005755318228555742, 'gamma': 0.0003141280429039901, 'reg_alpha': 0.2007479486327709, 'reg_lambda': 0.03302195781451431, 'colsample_bytree': 0.37598458133379337, 'subsample': 0.6279475546169965}. Best is trial 893 with value: 0.8523862375138737.\n",
      "[I 2024-02-22 15:54:27,388] Trial 905 finished with value: 0.8382022471910112 and parameters: {'n_estimators': 204, 'learning_rate': 0.17821204668354165, 'max_depth': 14, 'alpha': 0.005945166068700194, 'gamma': 0.00020642744912380853, 'reg_alpha': 0.13501824883919072, 'reg_lambda': 0.03796431868496235, 'colsample_bytree': 0.33314454212068373, 'subsample': 0.65399833591433}. Best is trial 893 with value: 0.8523862375138737.\n",
      "[I 2024-02-22 15:54:31,873] Trial 906 finished with value: 0.8376259798432251 and parameters: {'n_estimators': 193, 'learning_rate': 0.19067006876701384, 'max_depth': 14, 'alpha': 0.005551362576779101, 'gamma': 0.0003253540051642131, 'reg_alpha': 0.1621916623570341, 'reg_lambda': 0.0351363872188643, 'colsample_bytree': 0.353036396802318, 'subsample': 0.6071621308239197}. Best is trial 893 with value: 0.8523862375138737.\n",
      "[I 2024-02-22 15:54:35,546] Trial 907 finished with value: 0.8251670378619153 and parameters: {'n_estimators': 177, 'learning_rate': 0.21538494050860824, 'max_depth': 11, 'alpha': 0.007839312992387812, 'gamma': 0.0018850967518068017, 'reg_alpha': 0.21786657507476095, 'reg_lambda': 0.031110360971933138, 'colsample_bytree': 0.3273527896851903, 'subsample': 0.5779902163514116}. Best is trial 893 with value: 0.8523862375138737.\n",
      "[I 2024-02-22 15:54:41,639] Trial 908 finished with value: 0.8379136287156477 and parameters: {'n_estimators': 342, 'learning_rate': 0.19687367435238953, 'max_depth': 14, 'alpha': 0.005136770863432983, 'gamma': 0.0015059879622905511, 'reg_alpha': 0.19184887701723793, 'reg_lambda': 0.032284700190873684, 'colsample_bytree': 0.29649271119170245, 'subsample': 0.6867850118442946}. Best is trial 893 with value: 0.8523862375138737.\n",
      "[I 2024-02-22 15:54:45,210] Trial 909 finished with value: 0.8250276854928017 and parameters: {'n_estimators': 224, 'learning_rate': 0.20902985347915456, 'max_depth': 11, 'alpha': 0.006491236182834953, 'gamma': 0.00029662558873015963, 'reg_alpha': 0.9815976536193451, 'reg_lambda': 0.0413850102757663, 'colsample_bytree': 0.3517226256284855, 'subsample': 0.29350489631275795}. Best is trial 893 with value: 0.8523862375138737.\n",
      "[I 2024-02-22 15:54:50,904] Trial 910 finished with value: 0.8370535714285714 and parameters: {'n_estimators': 255, 'learning_rate': 0.23435442374459806, 'max_depth': 10, 'alpha': 0.0002628786127482376, 'gamma': 0.002624402483625852, 'reg_alpha': 0.16879017933161564, 'reg_lambda': 0.03666959816494978, 'colsample_bytree': 0.33220907661959237, 'subsample': 0.6397738233829978}. Best is trial 893 with value: 0.8523862375138737.\n",
      "[I 2024-02-22 15:55:02,722] Trial 911 finished with value: 0.8368479467258602 and parameters: {'n_estimators': 453, 'learning_rate': 0.17334422644753747, 'max_depth': 13, 'alpha': 0.004225850309654817, 'gamma': 0.00022391871096372266, 'reg_alpha': 0.1845815664263758, 'reg_lambda': 0.03455051829930259, 'colsample_bytree': 0.4549755439197166, 'subsample': 0.5927550452441047}. Best is trial 893 with value: 0.8523862375138737.\n",
      "[I 2024-02-22 15:55:10,052] Trial 912 finished with value: 0.8398656215005599 and parameters: {'n_estimators': 361, 'learning_rate': 0.22113460516234307, 'max_depth': 13, 'alpha': 0.004487837131331599, 'gamma': 0.00032968593302481894, 'reg_alpha': 0.1468314901702049, 'reg_lambda': 0.027719304412418176, 'colsample_bytree': 0.29323583530191333, 'subsample': 0.6276612100410999}. Best is trial 893 with value: 0.8523862375138737.\n",
      "[I 2024-02-22 15:55:16,034] Trial 913 finished with value: 0.8315492957746479 and parameters: {'n_estimators': 277, 'learning_rate': 0.15210542475039668, 'max_depth': 12, 'alpha': 0.00588216423819152, 'gamma': 0.0017715827636473095, 'reg_alpha': 0.11927109000642472, 'reg_lambda': 0.03937296618180236, 'colsample_bytree': 0.31972233259438915, 'subsample': 0.6616424275866168}. Best is trial 893 with value: 0.8523862375138737.\n",
      "[I 2024-02-22 15:55:22,581] Trial 914 finished with value: 0.840223463687151 and parameters: {'n_estimators': 341, 'learning_rate': 0.19118002752565907, 'max_depth': 11, 'alpha': 0.004842177343736991, 'gamma': 0.0002851649345558583, 'reg_alpha': 0.22760348415258025, 'reg_lambda': 0.03012198275128943, 'colsample_bytree': 0.37420865534804365, 'subsample': 0.607696768108694}. Best is trial 893 with value: 0.8523862375138737.\n",
      "[I 2024-02-22 15:55:37,492] Trial 915 finished with value: 0.8383500557413601 and parameters: {'n_estimators': 468, 'learning_rate': 0.20180055260477828, 'max_depth': 14, 'alpha': 0.0003781623810988736, 'gamma': 0.00019115526038628706, 'reg_alpha': 0.15901372248286788, 'reg_lambda': 0.033292332874678816, 'colsample_bytree': 0.30365483364033624, 'subsample': 0.7242564503878549}. Best is trial 893 with value: 0.8523862375138737.\n",
      "[I 2024-02-22 15:55:50,757] Trial 916 finished with value: 0.8439755691282621 and parameters: {'n_estimators': 721, 'learning_rate': 0.18178386928684095, 'max_depth': 15, 'alpha': 0.0012356247482996055, 'gamma': 0.00024971944728791084, 'reg_alpha': 0.20480884830450566, 'reg_lambda': 0.03602999515090252, 'colsample_bytree': 0.3523315936891597, 'subsample': 0.6179100167897315}. Best is trial 893 with value: 0.8523862375138737.\n",
      "[I 2024-02-22 15:55:59,150] Trial 917 finished with value: 0.8363228699551569 and parameters: {'n_estimators': 436, 'learning_rate': 0.21517683701758453, 'max_depth': 13, 'alpha': 0.0007669602843881754, 'gamma': 0.0003070382695694304, 'reg_alpha': 0.1786689116505659, 'reg_lambda': 0.03072801319613742, 'colsample_bytree': 0.33260100343182497, 'subsample': 0.5644390928200562}. Best is trial 893 with value: 0.8523862375138737.\n",
      "[I 2024-02-22 15:56:04,687] Trial 918 finished with value: 0.8343558282208589 and parameters: {'n_estimators': 188, 'learning_rate': 0.2281408231793364, 'max_depth': 12, 'alpha': 0.0001997513955287841, 'gamma': 0.00023231377021335178, 'reg_alpha': 0.13479662675513654, 'reg_lambda': 0.03254425119985899, 'colsample_bytree': 0.2875814757220191, 'subsample': 0.6442873313192796}. Best is trial 893 with value: 0.8523862375138737.\n",
      "[I 2024-02-22 15:56:11,904] Trial 919 finished with value: 0.8318485523385301 and parameters: {'n_estimators': 397, 'learning_rate': 0.24197745519353067, 'max_depth': 11, 'alpha': 0.0002161446669228786, 'gamma': 0.00016643099123339324, 'reg_alpha': 0.22168206989416472, 'reg_lambda': 0.042607765671813756, 'colsample_bytree': 0.3165421893967384, 'subsample': 0.6731418903453484}. Best is trial 893 with value: 0.8523862375138737.\n",
      "[I 2024-02-22 15:56:15,958] Trial 920 finished with value: 0.8139269406392693 and parameters: {'n_estimators': 315, 'learning_rate': 0.1662657901749319, 'max_depth': 4, 'alpha': 0.0010266943575665969, 'gamma': 0.0002776249743609181, 'reg_alpha': 0.195458010628788, 'reg_lambda': 0.02849094191019599, 'colsample_bytree': 0.3396970756956152, 'subsample': 0.586917769074879}. Best is trial 893 with value: 0.8523862375138737.\n",
      "[I 2024-02-22 15:56:25,360] Trial 921 finished with value: 0.8411633109619687 and parameters: {'n_estimators': 376, 'learning_rate': 0.20449252582339184, 'max_depth': 13, 'alpha': 0.007117994568811883, 'gamma': 0.00021622340053153115, 'reg_alpha': 0.1600478389634063, 'reg_lambda': 0.03826390686410396, 'colsample_bytree': 0.3913036740531571, 'subsample': 0.700457407221255}. Best is trial 893 with value: 0.8523862375138737.\n",
      "[I 2024-02-22 15:56:38,113] Trial 922 finished with value: 0.8467475192943771 and parameters: {'n_estimators': 698, 'learning_rate': 0.19283811791777153, 'max_depth': 12, 'alpha': 0.004589775004578634, 'gamma': 0.0002611078287221708, 'reg_alpha': 0.24239122899254162, 'reg_lambda': 0.03436580732660157, 'colsample_bytree': 0.3633788780356367, 'subsample': 0.6069600914681601}. Best is trial 893 with value: 0.8523862375138737.\n",
      "[I 2024-02-22 15:56:50,045] Trial 923 finished with value: 0.834540389972145 and parameters: {'n_estimators': 726, 'learning_rate': 0.18403909102303756, 'max_depth': 12, 'alpha': 0.003934825819387058, 'gamma': 0.0002551461242627528, 'reg_alpha': 0.2486551895316856, 'reg_lambda': 0.08376812799498379, 'colsample_bytree': 0.40561456846105093, 'subsample': 0.6085557592004509}. Best is trial 893 with value: 0.8523862375138737.\n",
      "[I 2024-02-22 15:57:05,358] Trial 924 finished with value: 0.8351648351648352 and parameters: {'n_estimators': 704, 'learning_rate': 0.19182091448073754, 'max_depth': 11, 'alpha': 0.00023495752266648878, 'gamma': 0.00022695976803636597, 'reg_alpha': 0.2403526345395726, 'reg_lambda': 0.03387280829232485, 'colsample_bytree': 0.3765045624625503, 'subsample': 0.5971813039680316}. Best is trial 893 with value: 0.8523862375138737.\n",
      "[I 2024-02-22 15:57:20,472] Trial 925 finished with value: 0.8350916157690171 and parameters: {'n_estimators': 735, 'learning_rate': 0.17685146442776528, 'max_depth': 12, 'alpha': 0.0039401558653020825, 'gamma': 0.0002010361880857822, 'reg_alpha': 0.22261262066550777, 'reg_lambda': 0.03098589790140783, 'colsample_bytree': 0.3708453037045997, 'subsample': 0.5790620671638841}. Best is trial 893 with value: 0.8523862375138737.\n",
      "[I 2024-02-22 15:57:34,584] Trial 926 finished with value: 0.834165280088741 and parameters: {'n_estimators': 751, 'learning_rate': 0.18834542818776512, 'max_depth': 12, 'alpha': 0.0044317789165682535, 'gamma': 0.0002499666248618213, 'reg_alpha': 0.24132621434705706, 'reg_lambda': 0.033159340629697304, 'colsample_bytree': 0.3686779519021316, 'subsample': 0.6192895453033626}. Best is trial 893 with value: 0.8523862375138737.\n",
      "[I 2024-02-22 15:57:50,310] Trial 927 finished with value: 0.8418732782369145 and parameters: {'n_estimators': 687, 'learning_rate': 0.19763513286377607, 'max_depth': 12, 'alpha': 0.0001819301776246129, 'gamma': 0.00023643037698055258, 'reg_alpha': 0.2618446559366986, 'reg_lambda': 0.03228392135850453, 'colsample_bytree': 0.3593221242041252, 'subsample': 0.5493991754662402}. Best is trial 893 with value: 0.8523862375138737.\n",
      "[I 2024-02-22 15:58:01,311] Trial 928 finished with value: 0.8397790055248618 and parameters: {'n_estimators': 694, 'learning_rate': 0.19394967276648203, 'max_depth': 11, 'alpha': 0.004646622309298271, 'gamma': 0.00026659457460386464, 'reg_alpha': 0.2506926278535574, 'reg_lambda': 0.03454686509988313, 'colsample_bytree': 0.3989024901326035, 'subsample': 0.5982706755539705}. Best is trial 893 with value: 0.8523862375138737.\n",
      "[I 2024-02-22 15:58:12,848] Trial 929 finished with value: 0.8419877163595757 and parameters: {'n_estimators': 692, 'learning_rate': 0.1731034961778063, 'max_depth': 12, 'alpha': 0.0007038562287731059, 'gamma': 0.0002162505966973808, 'reg_alpha': 0.2324362381048441, 'reg_lambda': 0.02958403771674219, 'colsample_bytree': 0.30901460336338027, 'subsample': 0.6256745418877282}. Best is trial 893 with value: 0.8523862375138737.\n",
      "[I 2024-02-22 15:58:16,017] Trial 930 finished with value: 0.8275084554678692 and parameters: {'n_estimators': 154, 'learning_rate': 0.1614790165436095, 'max_depth': 11, 'alpha': 0.0036147747798939197, 'gamma': 0.00027083151800406534, 'reg_alpha': 0.24736768031847572, 'reg_lambda': 0.031481853054264916, 'colsample_bytree': 0.279354961172567, 'subsample': 0.567161027573451}. Best is trial 893 with value: 0.8523862375138737.\n",
      "[I 2024-02-22 15:58:29,341] Trial 931 finished with value: 0.8368479467258602 and parameters: {'n_estimators': 708, 'learning_rate': 0.18425163022623503, 'max_depth': 12, 'alpha': 0.003572377838937372, 'gamma': 0.00025413988973737976, 'reg_alpha': 0.4527205779166711, 'reg_lambda': 0.03574546316862647, 'colsample_bytree': 0.3537793066576679, 'subsample': 0.5865848211273894}. Best is trial 893 with value: 0.8523862375138737.\n",
      "[I 2024-02-22 15:58:41,231] Trial 932 finished with value: 0.8418708240534521 and parameters: {'n_estimators': 692, 'learning_rate': 0.20124506981154147, 'max_depth': 12, 'alpha': 0.004818753770818183, 'gamma': 0.00024033361735803795, 'reg_alpha': 0.21112314093080994, 'reg_lambda': 0.03374036725646858, 'colsample_bytree': 0.30049135835728646, 'subsample': 0.6072852196608064}. Best is trial 893 with value: 0.8523862375138737.\n",
      "[I 2024-02-22 15:58:51,677] Trial 933 finished with value: 0.830461367426348 and parameters: {'n_estimators': 792, 'learning_rate': 0.19495982611393967, 'max_depth': 11, 'alpha': 0.0009824487914330698, 'gamma': 0.00019556171867858688, 'reg_alpha': 0.2665329527043566, 'reg_lambda': 0.028093589589955538, 'colsample_bytree': 0.14514560761860695, 'subsample': 0.631982083343955}. Best is trial 893 with value: 0.8523862375138737.\n",
      "[I 2024-02-22 15:58:59,232] Trial 934 finished with value: 0.8389596015495296 and parameters: {'n_estimators': 414, 'learning_rate': 0.20542985552462034, 'max_depth': 10, 'alpha': 0.004187695600299918, 'gamma': 0.00028731998817540713, 'reg_alpha': 0.22861015004252225, 'reg_lambda': 0.03216289768971883, 'colsample_bytree': 0.3251550976244233, 'subsample': 0.6069815174697125}. Best is trial 893 with value: 0.8523862375138737.\n",
      "[I 2024-02-22 15:59:10,907] Trial 935 finished with value: 0.840021990104453 and parameters: {'n_estimators': 686, 'learning_rate': 0.18128090575797717, 'max_depth': 12, 'alpha': 0.0003031943044903053, 'gamma': 0.0002324803480895649, 'reg_alpha': 0.2567813986913781, 'reg_lambda': 0.029713289846622023, 'colsample_bytree': 0.33607604316521095, 'subsample': 0.6372801187456892}. Best is trial 893 with value: 0.8523862375138737.\n",
      "[I 2024-02-22 15:59:28,524] Trial 936 finished with value: 0.827050997782705 and parameters: {'n_estimators': 709, 'learning_rate': 0.19014080726184227, 'max_depth': 11, 'alpha': 0.0008416926909588411, 'gamma': 0.00027122033457456735, 'reg_alpha': 0.20835578495116738, 'reg_lambda': 0.03476175115157873, 'colsample_bytree': 0.9211232004143113, 'subsample': 0.5169249766415411}. Best is trial 893 with value: 0.8523862375138737.\n",
      "[I 2024-02-22 15:59:40,725] Trial 937 finished with value: 0.8415841584158416 and parameters: {'n_estimators': 678, 'learning_rate': 0.20769914506668669, 'max_depth': 12, 'alpha': 0.0002010054580753638, 'gamma': 0.0001666189416937849, 'reg_alpha': 0.14261647150562132, 'reg_lambda': 0.02616643407304413, 'colsample_bytree': 0.2862163761823543, 'subsample': 0.5745255582586387}. Best is trial 893 with value: 0.8523862375138737.\n",
      "[I 2024-02-22 15:59:48,031] Trial 938 finished with value: 0.8394648829431438 and parameters: {'n_estimators': 361, 'learning_rate': 0.17379836626850748, 'max_depth': 12, 'alpha': 0.00017825247459418058, 'gamma': 0.00021308283560152498, 'reg_alpha': 0.23697913913385685, 'reg_lambda': 0.0313260669174196, 'colsample_bytree': 0.31532109694664523, 'subsample': 0.6187012532200512}. Best is trial 893 with value: 0.8523862375138737.\n",
      "[I 2024-02-22 15:59:58,741] Trial 939 finished with value: 0.8348978464936498 and parameters: {'n_estimators': 395, 'learning_rate': 0.19974197282084227, 'max_depth': 12, 'alpha': 0.00045008860780348497, 'gamma': 0.00029677153092929335, 'reg_alpha': 0.7457653154461152, 'reg_lambda': 0.03580898676185513, 'colsample_bytree': 0.3825415306388656, 'subsample': 0.5963195454994888}. Best is trial 893 with value: 0.8523862375138737.\n",
      "[I 2024-02-22 16:00:11,318] Trial 940 finished with value: 0.835820895522388 and parameters: {'n_estimators': 708, 'learning_rate': 0.21056413241366886, 'max_depth': 11, 'alpha': 0.003258218160491351, 'gamma': 0.0002495256883692039, 'reg_alpha': 0.16900690074261035, 'reg_lambda': 0.03331714215749462, 'colsample_bytree': 0.3542597038309144, 'subsample': 0.6458226611729777}. Best is trial 893 with value: 0.8523862375138737.\n",
      "[I 2024-02-22 16:00:19,638] Trial 941 finished with value: 0.8452115812917596 and parameters: {'n_estimators': 420, 'learning_rate': 0.1895946755807196, 'max_depth': 12, 'alpha': 0.001817999872557549, 'gamma': 0.00027474548769862987, 'reg_alpha': 0.12014107502240266, 'reg_lambda': 0.029526992619866382, 'colsample_bytree': 0.30267626595614955, 'subsample': 0.5866208151737096}. Best is trial 893 with value: 0.8523862375138737.\n",
      "[I 2024-02-22 16:00:26,858] Trial 942 finished with value: 0.837883008356546 and parameters: {'n_estimators': 433, 'learning_rate': 0.16728943241160038, 'max_depth': 11, 'alpha': 0.0016226955276215664, 'gamma': 0.0002290719216534381, 'reg_alpha': 0.12023078594035225, 'reg_lambda': 0.08917889212672749, 'colsample_bytree': 0.28515408145268967, 'subsample': 0.5621358257221186}. Best is trial 893 with value: 0.8523862375138737.\n",
      "[I 2024-02-22 16:00:34,664] Trial 943 finished with value: 0.8401570386988223 and parameters: {'n_estimators': 428, 'learning_rate': 0.18111334870258472, 'max_depth': 12, 'alpha': 0.001152620091281809, 'gamma': 0.00030031518557582505, 'reg_alpha': 0.13015445781207483, 'reg_lambda': 0.030804646813190582, 'colsample_bytree': 0.2990680095099729, 'subsample': 0.5571963012810383}. Best is trial 893 with value: 0.8523862375138737.\n",
      "[I 2024-02-22 16:00:40,138] Trial 944 finished with value: 0.8024083196496989 and parameters: {'n_estimators': 457, 'learning_rate': 0.18681973868619953, 'max_depth': 12, 'alpha': 0.0005333066820463035, 'gamma': 0.000262847264666544, 'reg_alpha': 0.1163664507301213, 'reg_lambda': 0.03250526462919882, 'colsample_bytree': 0.27236652731610694, 'subsample': 0.10169811019776909}. Best is trial 893 with value: 0.8523862375138737.\n",
      "[I 2024-02-22 16:00:51,504] Trial 945 finished with value: 0.8390677025527192 and parameters: {'n_estimators': 483, 'learning_rate': 0.19233094224263717, 'max_depth': 11, 'alpha': 0.0018267895335902827, 'gamma': 0.00018831141611816492, 'reg_alpha': 0.11110703714908476, 'reg_lambda': 0.02989049139468183, 'colsample_bytree': 0.3051207929246886, 'subsample': 0.5741744619173628}. Best is trial 893 with value: 0.8523862375138737.\n",
      "[I 2024-02-22 16:00:59,727] Trial 946 finished with value: 0.842809364548495 and parameters: {'n_estimators': 417, 'learning_rate': 0.1766035466942401, 'max_depth': 12, 'alpha': 0.0023935717912518003, 'gamma': 0.0002472130545436344, 'reg_alpha': 0.11823905306608545, 'reg_lambda': 0.028937499939288257, 'colsample_bytree': 0.28881610598653645, 'subsample': 0.539906717843916}. Best is trial 893 with value: 0.8523862375138737.\n",
      "[I 2024-02-22 16:01:10,134] Trial 947 finished with value: 0.8405956977385549 and parameters: {'n_estimators': 446, 'learning_rate': 0.19428579215944966, 'max_depth': 14, 'alpha': 0.0006388309274956757, 'gamma': 0.00033659896298464024, 'reg_alpha': 0.10107222329863419, 'reg_lambda': 0.033536749538954455, 'colsample_bytree': 0.31580681605840605, 'subsample': 0.5876703721046785}. Best is trial 893 with value: 0.8523862375138737.\n",
      "[I 2024-02-22 16:01:19,011] Trial 948 finished with value: 0.8418110676355507 and parameters: {'n_estimators': 410, 'learning_rate': 0.1817006746233326, 'max_depth': 15, 'alpha': 0.0008005897798265484, 'gamma': 0.0005233243376746001, 'reg_alpha': 0.14021425569492746, 'reg_lambda': 0.0309814820707511, 'colsample_bytree': 0.29713760922842897, 'subsample': 0.5910934046212513}. Best is trial 893 with value: 0.8523862375138737.\n",
      "[I 2024-02-22 16:01:27,889] Trial 949 finished with value: 0.83867341202923 and parameters: {'n_estimators': 429, 'learning_rate': 0.15879662113037032, 'max_depth': 13, 'alpha': 0.0009460206609698695, 'gamma': 0.0017229343061491813, 'reg_alpha': 0.12318585279693416, 'reg_lambda': 0.031948481911330213, 'colsample_bytree': 0.27325281972057175, 'subsample': 0.6244159875138389}. Best is trial 893 with value: 0.8523862375138737.\n",
      "[I 2024-02-22 16:01:35,368] Trial 950 finished with value: 0.8392461197339246 and parameters: {'n_estimators': 404, 'learning_rate': 0.1700148249434051, 'max_depth': 12, 'alpha': 0.0016841364962297148, 'gamma': 0.00021446244537543752, 'reg_alpha': 0.14108998755618263, 'reg_lambda': 0.03453887343646789, 'colsample_bytree': 0.32333741250794035, 'subsample': 0.5399324655631791}. Best is trial 893 with value: 0.8523862375138737.\n",
      "[I 2024-02-22 16:01:42,599] Trial 951 finished with value: 0.8408710217755444 and parameters: {'n_estimators': 384, 'learning_rate': 0.198286661540538, 'max_depth': 11, 'alpha': 0.0014836358882859807, 'gamma': 0.0002736986467622052, 'reg_alpha': 0.13197606704428247, 'reg_lambda': 0.03667946424986891, 'colsample_bytree': 0.3051155350614805, 'subsample': 0.5757296697496523}. Best is trial 893 with value: 0.8523862375138737.\n",
      "[I 2024-02-22 16:01:51,292] Trial 952 finished with value: 0.8410485220301172 and parameters: {'n_estimators': 444, 'learning_rate': 0.18619038309996322, 'max_depth': 13, 'alpha': 0.0012177057520606147, 'gamma': 0.00031063935547825244, 'reg_alpha': 0.14979880834864723, 'reg_lambda': 0.046702895717299936, 'colsample_bytree': 0.28177361693421477, 'subsample': 0.602454398068878}. Best is trial 893 with value: 0.8523862375138737.\n",
      "[I 2024-02-22 16:02:04,687] Trial 953 finished with value: 0.8398220244716351 and parameters: {'n_estimators': 723, 'learning_rate': 0.1971696607496004, 'max_depth': 12, 'alpha': 0.0019864771259399247, 'gamma': 0.0002910158773090778, 'reg_alpha': 0.15027755214527877, 'reg_lambda': 0.02922702463719952, 'colsample_bytree': 0.31941048840312103, 'subsample': 0.6544465505212418}. Best is trial 893 with value: 0.8523862375138737.\n",
      "[I 2024-02-22 16:02:20,850] Trial 954 finished with value: 0.8388176240936978 and parameters: {'n_estimators': 760, 'learning_rate': 0.18799192934844666, 'max_depth': 11, 'alpha': 0.0013957080131420134, 'gamma': 0.007018267377528454, 'reg_alpha': 0.11856373092029525, 'reg_lambda': 0.03287029481740313, 'colsample_bytree': 0.2955447069762747, 'subsample': 0.6181093209143084}. Best is trial 893 with value: 0.8523862375138737.\n",
      "[I 2024-02-22 16:02:31,907] Trial 955 finished with value: 0.831946755407654 and parameters: {'n_estimators': 393, 'learning_rate': 0.20173814313763458, 'max_depth': 10, 'alpha': 0.0009049286210363375, 'gamma': 0.00160852080609397, 'reg_alpha': 0.25870090398778633, 'reg_lambda': 0.03524970696993431, 'colsample_bytree': 0.3113084067653015, 'subsample': 0.5908200079730173}. Best is trial 893 with value: 0.8523862375138737.\n",
      "[I 2024-02-22 16:02:40,506] Trial 956 finished with value: 0.8470066518847006 and parameters: {'n_estimators': 425, 'learning_rate': 0.17785648762510214, 'max_depth': 13, 'alpha': 0.0010943001146677374, 'gamma': 0.00034593122642288056, 'reg_alpha': 0.15711186321919818, 'reg_lambda': 0.030821783030965968, 'colsample_bytree': 0.33824295603768584, 'subsample': 0.5636196446528458}. Best is trial 893 with value: 0.8523862375138737.\n",
      "[I 2024-02-22 16:02:50,690] Trial 957 finished with value: 0.8384230982787341 and parameters: {'n_estimators': 460, 'learning_rate': 0.16039194747194085, 'max_depth': 14, 'alpha': 0.0010211744590385178, 'gamma': 0.0003548277672073303, 'reg_alpha': 0.11604018194409715, 'reg_lambda': 0.028148303631681637, 'colsample_bytree': 0.3273640779996274, 'subsample': 0.5378433763600179}. Best is trial 893 with value: 0.8523862375138737.\n",
      "[I 2024-02-22 16:03:00,089] Trial 958 finished with value: 0.8406440866185453 and parameters: {'n_estimators': 440, 'learning_rate': 0.14537112136029456, 'max_depth': 13, 'alpha': 0.0011108715583421041, 'gamma': 0.0003564130981848064, 'reg_alpha': 0.13194878326902615, 'reg_lambda': 0.03043404968637938, 'colsample_bytree': 0.28939114438034763, 'subsample': 0.5520452344451289}. Best is trial 893 with value: 0.8523862375138737.\n",
      "[I 2024-02-22 16:03:10,103] Trial 959 finished with value: 0.8371317398554753 and parameters: {'n_estimators': 483, 'learning_rate': 0.16849439855438703, 'max_depth': 13, 'alpha': 0.0011354085095945858, 'gamma': 0.00038811018822454516, 'reg_alpha': 0.13260181115057762, 'reg_lambda': 0.02776859621438764, 'colsample_bytree': 0.33470193003774473, 'subsample': 0.5142752275264744}. Best is trial 893 with value: 0.8523862375138737.\n",
      "[I 2024-02-22 16:03:20,011] Trial 960 finished with value: 0.8467561521252795 and parameters: {'n_estimators': 447, 'learning_rate': 0.17411816334702995, 'max_depth': 14, 'alpha': 0.0020554937824813976, 'gamma': 0.0003411916380652676, 'reg_alpha': 0.11056219306652737, 'reg_lambda': 0.030842275271573925, 'colsample_bytree': 0.3078945769929322, 'subsample': 0.5374227833364542}. Best is trial 893 with value: 0.8523862375138737.\n",
      "[I 2024-02-22 16:03:29,310] Trial 961 finished with value: 0.8461538461538461 and parameters: {'n_estimators': 462, 'learning_rate': 0.16239150372240588, 'max_depth': 14, 'alpha': 0.001225480499563751, 'gamma': 0.0003768974298317999, 'reg_alpha': 0.15484671935648833, 'reg_lambda': 0.03164040493931389, 'colsample_bytree': 0.32026896749590017, 'subsample': 0.5571152375053966}. Best is trial 893 with value: 0.8523862375138737.\n",
      "[I 2024-02-22 16:03:39,084] Trial 962 finished with value: 0.8392461197339246 and parameters: {'n_estimators': 468, 'learning_rate': 0.1655323136012522, 'max_depth': 15, 'alpha': 0.001238843371193208, 'gamma': 0.00036951508708236834, 'reg_alpha': 0.1534125337938828, 'reg_lambda': 0.031367042779280624, 'colsample_bytree': 0.33536656783875357, 'subsample': 0.5511532122203031}. Best is trial 893 with value: 0.8523862375138737.\n",
      "[I 2024-02-22 16:03:49,264] Trial 963 finished with value: 0.8486547085201793 and parameters: {'n_estimators': 485, 'learning_rate': 0.15080541198519762, 'max_depth': 14, 'alpha': 0.0013464243803154438, 'gamma': 0.00011541374440140091, 'reg_alpha': 0.1485417675245693, 'reg_lambda': 0.030457873523788544, 'colsample_bytree': 0.319399114995905, 'subsample': 0.5331909973604025}. Best is trial 893 with value: 0.8523862375138737.\n",
      "[I 2024-02-22 16:03:58,407] Trial 964 finished with value: 0.8476084538375973 and parameters: {'n_estimators': 497, 'learning_rate': 0.14798944479206724, 'max_depth': 15, 'alpha': 0.0013518456706184143, 'gamma': 0.00011406025023428123, 'reg_alpha': 0.10199190666585965, 'reg_lambda': 0.029998799052743646, 'colsample_bytree': 0.3142437649819015, 'subsample': 0.5351374081487454}. Best is trial 893 with value: 0.8523862375138737.\n",
      "[I 2024-02-22 16:04:08,935] Trial 965 finished with value: 0.837702175125488 and parameters: {'n_estimators': 506, 'learning_rate': 0.14432356278684375, 'max_depth': 16, 'alpha': 0.0013349700571174928, 'gamma': 0.00011888670172947077, 'reg_alpha': 0.10938081681366789, 'reg_lambda': 0.029290545917151523, 'colsample_bytree': 0.31876506096755025, 'subsample': 0.5288731711578173}. Best is trial 893 with value: 0.8523862375138737.\n",
      "[I 2024-02-22 16:04:20,796] Trial 966 finished with value: 0.8415786548082268 and parameters: {'n_estimators': 495, 'learning_rate': 0.13549177293569586, 'max_depth': 15, 'alpha': 0.0013010367120327249, 'gamma': 0.00010881153729443404, 'reg_alpha': 0.10579882068789072, 'reg_lambda': 0.02862361316746726, 'colsample_bytree': 0.33497228636448934, 'subsample': 0.5296570485997778}. Best is trial 893 with value: 0.8523862375138737.\n",
      "[I 2024-02-22 16:04:30,928] Trial 967 finished with value: 0.8478140564471499 and parameters: {'n_estimators': 479, 'learning_rate': 0.1661931745528363, 'max_depth': 15, 'alpha': 0.0011559255628323215, 'gamma': 0.00011063887146374894, 'reg_alpha': 0.10076622677071093, 'reg_lambda': 0.030720120242519335, 'colsample_bytree': 0.32235969088770433, 'subsample': 0.5487767481894195}. Best is trial 893 with value: 0.8523862375138737.\n",
      "[I 2024-02-22 16:04:40,518] Trial 968 finished with value: 0.8437499999999999 and parameters: {'n_estimators': 494, 'learning_rate': 0.15249515997199323, 'max_depth': 15, 'alpha': 0.0013513238309455062, 'gamma': 0.00012012160356408051, 'reg_alpha': 0.11570995399728964, 'reg_lambda': 0.0301206350111288, 'colsample_bytree': 0.3159569715758988, 'subsample': 0.5173226354053665}. Best is trial 893 with value: 0.8523862375138737.\n",
      "[I 2024-02-22 16:04:51,537] Trial 969 finished with value: 0.8409972299168975 and parameters: {'n_estimators': 477, 'learning_rate': 0.12980421952295515, 'max_depth': 16, 'alpha': 0.0015008550538930835, 'gamma': 0.00012659213383890377, 'reg_alpha': 0.1064257919151991, 'reg_lambda': 0.027765755298124303, 'colsample_bytree': 0.33406428187673953, 'subsample': 0.48783943423025145}. Best is trial 893 with value: 0.8523862375138737.\n",
      "[I 2024-02-22 16:05:00,898] Trial 970 finished with value: 0.8416945373467112 and parameters: {'n_estimators': 501, 'learning_rate': 0.13963983492311752, 'max_depth': 15, 'alpha': 0.0012794208735547705, 'gamma': 0.00010381406784206205, 'reg_alpha': 0.10383911210942073, 'reg_lambda': 0.02748351134692569, 'colsample_bytree': 0.3425109410658023, 'subsample': 0.49479270097479433}. Best is trial 893 with value: 0.8523862375138737.\n",
      "[I 2024-02-22 16:05:10,511] Trial 971 finished with value: 0.8380634390651086 and parameters: {'n_estimators': 468, 'learning_rate': 0.12616253136991407, 'max_depth': 15, 'alpha': 0.0010395539880817845, 'gamma': 0.00011187853958353503, 'reg_alpha': 0.1020545411497056, 'reg_lambda': 0.02978554690538341, 'colsample_bytree': 0.32063940783938044, 'subsample': 0.538346201555888}. Best is trial 893 with value: 0.8523862375138737.\n",
      "[I 2024-02-22 16:05:20,681] Trial 972 finished with value: 0.8393258426966294 and parameters: {'n_estimators': 484, 'learning_rate': 0.13935306727670715, 'max_depth': 15, 'alpha': 0.001346482145003599, 'gamma': 0.00012144897999651125, 'reg_alpha': 0.11443851503791991, 'reg_lambda': 0.030786514998330555, 'colsample_bytree': 0.31246777228208944, 'subsample': 0.5029903097258327}. Best is trial 893 with value: 0.8523862375138737.\n",
      "[I 2024-02-22 16:05:30,893] Trial 973 finished with value: 0.838888888888889 and parameters: {'n_estimators': 467, 'learning_rate': 0.14743455891717996, 'max_depth': 15, 'alpha': 0.001176731557496404, 'gamma': 0.0001126942785182814, 'reg_alpha': 0.10323838484494238, 'reg_lambda': 0.026974615146510804, 'colsample_bytree': 0.3421399381679981, 'subsample': 0.5273706688308967}. Best is trial 893 with value: 0.8523862375138737.\n",
      "[I 2024-02-22 16:05:41,164] Trial 974 finished with value: 0.8424581005586592 and parameters: {'n_estimators': 487, 'learning_rate': 0.15220976183558502, 'max_depth': 15, 'alpha': 0.0012124465075509588, 'gamma': 0.00010285761904589095, 'reg_alpha': 0.10002160463138901, 'reg_lambda': 0.030211977002463638, 'colsample_bytree': 0.31554681644381644, 'subsample': 0.5123405781645536}. Best is trial 893 with value: 0.8523862375138737.\n",
      "[I 2024-02-22 16:05:52,544] Trial 975 finished with value: 0.8406440866185453 and parameters: {'n_estimators': 474, 'learning_rate': 0.15463570998235418, 'max_depth': 16, 'alpha': 0.0012686449387750336, 'gamma': 0.00034539466796948567, 'reg_alpha': 0.10294291967303001, 'reg_lambda': 0.03192119087265364, 'colsample_bytree': 0.3417395711235182, 'subsample': 0.5243956369245696}. Best is trial 893 with value: 0.8523862375138737.\n",
      "[I 2024-02-22 16:06:03,970] Trial 976 finished with value: 0.8422222222222222 and parameters: {'n_estimators': 520, 'learning_rate': 0.14129509055958014, 'max_depth': 16, 'alpha': 0.0012902180018228677, 'gamma': 0.00013047432938727735, 'reg_alpha': 0.1286538014110785, 'reg_lambda': 0.028619100308841544, 'colsample_bytree': 0.30405859771020094, 'subsample': 0.5047666873380383}. Best is trial 893 with value: 0.8523862375138737.\n",
      "[I 2024-02-22 16:06:16,425] Trial 977 finished with value: 0.8376731301939059 and parameters: {'n_estimators': 511, 'learning_rate': 0.14753341242472062, 'max_depth': 15, 'alpha': 0.0011745188878993435, 'gamma': 0.0001350099576825568, 'reg_alpha': 0.11581447096986891, 'reg_lambda': 0.030794976086763914, 'colsample_bytree': 0.7318999978212248, 'subsample': 0.5114515911571536}. Best is trial 893 with value: 0.8523862375138737.\n",
      "[I 2024-02-22 16:06:26,287] Trial 978 finished with value: 0.843559977888336 and parameters: {'n_estimators': 479, 'learning_rate': 0.13172058927564864, 'max_depth': 15, 'alpha': 0.001618985410478316, 'gamma': 0.00010030683307474165, 'reg_alpha': 0.11740358415175595, 'reg_lambda': 0.02688345390200389, 'colsample_bytree': 0.3285733552739982, 'subsample': 0.5318266551537163}. Best is trial 893 with value: 0.8523862375138737.\n",
      "[I 2024-02-22 16:06:38,447] Trial 979 finished with value: 0.8426903835464146 and parameters: {'n_estimators': 501, 'learning_rate': 0.15738836354398875, 'max_depth': 15, 'alpha': 0.001380673023083163, 'gamma': 0.0001230775609830342, 'reg_alpha': 0.1018703171890766, 'reg_lambda': 0.03225246116337805, 'colsample_bytree': 0.34753276423164725, 'subsample': 0.5384984332474828}. Best is trial 893 with value: 0.8523862375138737.\n",
      "[I 2024-02-22 16:06:48,996] Trial 980 finished with value: 0.8405797101449275 and parameters: {'n_estimators': 520, 'learning_rate': 0.15798064910567014, 'max_depth': 15, 'alpha': 0.0011944611065566333, 'gamma': 0.00011253575793988492, 'reg_alpha': 0.11365003569721543, 'reg_lambda': 0.0289533219910247, 'colsample_bytree': 0.30449601001382764, 'subsample': 0.5210036499856707}. Best is trial 893 with value: 0.8523862375138737.\n",
      "[I 2024-02-22 16:06:58,966] Trial 981 finished with value: 0.841111111111111 and parameters: {'n_estimators': 487, 'learning_rate': 0.15231258679022164, 'max_depth': 15, 'alpha': 0.0013834987133887469, 'gamma': 0.00011024454423944572, 'reg_alpha': 0.10006596534538215, 'reg_lambda': 0.032966787945042424, 'colsample_bytree': 0.3149842245174151, 'subsample': 0.5448815808161078}. Best is trial 893 with value: 0.8523862375138737.\n",
      "[I 2024-02-22 16:07:08,662] Trial 982 finished with value: 0.8367919237240605 and parameters: {'n_estimators': 467, 'learning_rate': 0.14670577062491677, 'max_depth': 14, 'alpha': 0.001145737279602067, 'gamma': 0.00014169133284245165, 'reg_alpha': 0.12929509235023884, 'reg_lambda': 0.030322172967738363, 'colsample_bytree': 0.32742723478497276, 'subsample': 0.513276073365679}. Best is trial 893 with value: 0.8523862375138737.\n",
      "[I 2024-02-22 16:07:17,649] Trial 983 finished with value: 0.8389261744966442 and parameters: {'n_estimators': 466, 'learning_rate': 0.13527730863148255, 'max_depth': 15, 'alpha': 0.0010823446988921636, 'gamma': 0.00011518065454593059, 'reg_alpha': 0.13383675236920348, 'reg_lambda': 0.032386380276017784, 'colsample_bytree': 0.3005575465838383, 'subsample': 0.5481221693975454}. Best is trial 893 with value: 0.8523862375138737.\n",
      "[I 2024-02-22 16:07:27,594] Trial 984 finished with value: 0.8367459878251244 and parameters: {'n_estimators': 491, 'learning_rate': 0.14859022222941543, 'max_depth': 16, 'alpha': 0.0029284886327681807, 'gamma': 0.00011604745611093928, 'reg_alpha': 0.1254600341505439, 'reg_lambda': 0.02724114901375488, 'colsample_bytree': 0.3567228616634035, 'subsample': 0.5472841010239883}. Best is trial 893 with value: 0.8523862375138737.\n",
      "[I 2024-02-22 16:07:39,685] Trial 985 finished with value: 0.8389596015495296 and parameters: {'n_estimators': 509, 'learning_rate': 0.15586245516659744, 'max_depth': 14, 'alpha': 0.001591343310578022, 'gamma': 0.00012156307163070248, 'reg_alpha': 0.10055398291495571, 'reg_lambda': 0.029221182474970783, 'colsample_bytree': 0.4349583994656485, 'subsample': 0.5501727771741013}. Best is trial 893 with value: 0.8523862375138737.\n",
      "[I 2024-02-22 16:07:49,820] Trial 986 finished with value: 0.8386376326074818 and parameters: {'n_estimators': 458, 'learning_rate': 0.1192554746613631, 'max_depth': 14, 'alpha': 0.0012052334974904599, 'gamma': 0.00013586630526979577, 'reg_alpha': 0.12727900212377524, 'reg_lambda': 0.031153081269196276, 'colsample_bytree': 0.3263707924279171, 'subsample': 0.49307123921131246}. Best is trial 893 with value: 0.8523862375138737.\n",
      "[I 2024-02-22 16:08:05,635] Trial 987 finished with value: 0.8372352285395763 and parameters: {'n_estimators': 797, 'learning_rate': 0.15555019041736362, 'max_depth': 15, 'alpha': 0.001542087554018865, 'gamma': 0.00011095935600534693, 'reg_alpha': 0.13924331631735, 'reg_lambda': 0.03345651050383307, 'colsample_bytree': 0.34443647740565786, 'subsample': 0.5582542756631004}. Best is trial 893 with value: 0.8523862375138737.\n",
      "[I 2024-02-22 16:08:15,167] Trial 988 finished with value: 0.8428650749583565 and parameters: {'n_estimators': 465, 'learning_rate': 0.16312139713958165, 'max_depth': 14, 'alpha': 0.0011539209107710201, 'gamma': 0.00013004526326923716, 'reg_alpha': 0.12395812348022031, 'reg_lambda': 0.03391451485840859, 'colsample_bytree': 0.30261369967812696, 'subsample': 0.5337942330692448}. Best is trial 893 with value: 0.8523862375138737.\n",
      "[I 2024-02-22 16:08:25,351] Trial 989 finished with value: 0.8419877163595757 and parameters: {'n_estimators': 490, 'learning_rate': 0.16117686880203513, 'max_depth': 14, 'alpha': 0.0013497129454508353, 'gamma': 0.00014920478806682732, 'reg_alpha': 0.13370792337464424, 'reg_lambda': 0.03043949147109967, 'colsample_bytree': 0.3243868689028819, 'subsample': 0.528006897576473}. Best is trial 893 with value: 0.8523862375138737.\n",
      "[I 2024-02-22 16:08:34,068] Trial 990 finished with value: 0.8429844097995545 and parameters: {'n_estimators': 457, 'learning_rate': 0.14317919408194882, 'max_depth': 14, 'alpha': 0.0013978227288608104, 'gamma': 0.00014050468370333145, 'reg_alpha': 0.12445632870645862, 'reg_lambda': 0.028141725186777197, 'colsample_bytree': 0.3617720865086739, 'subsample': 0.552489941626087}. Best is trial 893 with value: 0.8523862375138737.\n",
      "[I 2024-02-22 16:08:44,685] Trial 991 finished with value: 0.8401775804661488 and parameters: {'n_estimators': 518, 'learning_rate': 0.15669341550105584, 'max_depth': 15, 'alpha': 0.0010823507495730618, 'gamma': 0.00010305882612180036, 'reg_alpha': 0.14880371833405087, 'reg_lambda': 0.0317675324602394, 'colsample_bytree': 0.29489827569196964, 'subsample': 0.564061822293311}. Best is trial 893 with value: 0.8523862375138737.\n",
      "[I 2024-02-22 16:08:56,102] Trial 992 finished with value: 0.8426903835464146 and parameters: {'n_estimators': 528, 'learning_rate': 0.10859707260887577, 'max_depth': 14, 'alpha': 0.001516853288932523, 'gamma': 0.00013053256836632508, 'reg_alpha': 0.14260062352861255, 'reg_lambda': 0.03414369716071058, 'colsample_bytree': 0.33819277119975394, 'subsample': 0.5274871914806504}. Best is trial 893 with value: 0.8523862375138737.\n",
      "[I 2024-02-22 16:09:06,001] Trial 993 finished with value: 0.834540389972145 and parameters: {'n_estimators': 454, 'learning_rate': 0.15373357723675302, 'max_depth': 14, 'alpha': 0.0009649585327114008, 'gamma': 0.00011762368015983456, 'reg_alpha': 0.11936791921619457, 'reg_lambda': 0.026254608892505735, 'colsample_bytree': 0.4688404184000866, 'subsample': 0.5465263410248906}. Best is trial 893 with value: 0.8523862375138737.\n",
      "[I 2024-02-22 16:09:16,302] Trial 994 finished with value: 0.8440265486725664 and parameters: {'n_estimators': 475, 'learning_rate': 0.1635510957913657, 'max_depth': 16, 'alpha': 0.0014700078698684901, 'gamma': 0.00010565172755505559, 'reg_alpha': 0.13793837165831813, 'reg_lambda': 0.029322670744893524, 'colsample_bytree': 0.3146822481633185, 'subsample': 0.5171888361586175}. Best is trial 893 with value: 0.8523862375138737.\n",
      "[I 2024-02-22 16:09:26,769] Trial 995 finished with value: 0.8366890380313199 and parameters: {'n_estimators': 446, 'learning_rate': 0.14067958835657718, 'max_depth': 15, 'alpha': 0.0012486288221227315, 'gamma': 0.00014024542263670674, 'reg_alpha': 0.10218579231824636, 'reg_lambda': 0.031861921924695634, 'colsample_bytree': 0.34873705288571183, 'subsample': 0.5612876215470348}. Best is trial 893 with value: 0.8523862375138737.\n",
      "[I 2024-02-22 16:09:38,152] Trial 996 finished with value: 0.8362021099389227 and parameters: {'n_estimators': 493, 'learning_rate': 0.1275480782592054, 'max_depth': 15, 'alpha': 0.0010878305080898054, 'gamma': 0.0001230690475665197, 'reg_alpha': 0.14064935922979643, 'reg_lambda': 0.030678249563543612, 'colsample_bytree': 0.31239661635945015, 'subsample': 0.5619177056236224}. Best is trial 893 with value: 0.8523862375138737.\n",
      "[I 2024-02-22 16:09:48,202] Trial 997 finished with value: 0.8336115748469672 and parameters: {'n_estimators': 479, 'learning_rate': 0.16816037997787464, 'max_depth': 14, 'alpha': 0.002135124253270889, 'gamma': 0.00010636236021428247, 'reg_alpha': 0.1230458938729771, 'reg_lambda': 0.033838349308359585, 'colsample_bytree': 0.3287563908646647, 'subsample': 0.5429703105062107}. Best is trial 893 with value: 0.8523862375138737.\n",
      "[I 2024-02-22 16:09:58,685] Trial 998 finished with value: 0.8403547671840356 and parameters: {'n_estimators': 457, 'learning_rate': 0.16316315209065232, 'max_depth': 14, 'alpha': 0.0014142151020765984, 'gamma': 0.00011120261262225805, 'reg_alpha': 0.14000789552035708, 'reg_lambda': 0.028369053921634413, 'colsample_bytree': 0.28970381909706827, 'subsample': 0.5571239901939107}. Best is trial 893 with value: 0.8523862375138737.\n",
      "[I 2024-02-22 16:10:08,018] Trial 999 finished with value: 0.8397543271915132 and parameters: {'n_estimators': 475, 'learning_rate': 0.1437032297884642, 'max_depth': 14, 'alpha': 0.0011821796422536548, 'gamma': 0.0001561800709513748, 'reg_alpha': 0.10180021821970689, 'reg_lambda': 0.03247869038466275, 'colsample_bytree': 0.3017212582027575, 'subsample': 0.49782247651164546}. Best is trial 893 with value: 0.8523862375138737.\n"
     ]
    },
    {
     "name": "stdout",
     "output_type": "stream",
     "text": [
      "Best trial: score 0.8523862375138737, \n",
      "params {'n_estimators': 204, 'learning_rate': 0.21131295954390397, 'max_depth': 11, 'alpha': 0.0059739204722356306, 'gamma': 0.00019522623637056446, 'reg_alpha': 0.18394995343909318, 'reg_lambda': 0.03445466061965917, 'colsample_bytree': 0.3560557949368405, 'subsample': 0.5876797209836141}\n"
     ]
    }
   ],
   "source": [
    "import optuna\n",
    "from xgboost import XGBClassifier\n",
    "from sklearn.model_selection import train_test_split\n",
    "from sklearn.metrics import f1_score\n",
    "\n",
    "def objectiveXGB(trial, x_tr, y_tr, x_val, y_val):\n",
    "    param = {\n",
    "        'n_estimators': trial.suggest_int('n_estimators', 100, 1000)\n",
    "        , 'learning_rate': trial.suggest_float('learning_rate', 0.005, 0.5)\n",
    "        , 'max_depth': trial.suggest_int('max_depth', 3, 20)\n",
    "\n",
    "        , 'alpha': trial.suggest_loguniform('alpha', 0.0001, 0.01)\n",
    "        , 'gamma': trial.suggest_loguniform('gamma', 0.0001, 0.01)\n",
    "\n",
    "        , 'reg_alpha' : trial.suggest_float('reg_alpha', 0.1, 1)\n",
    "        , 'reg_lambda' : trial.suggest_float('reg_lambda', 0.01, 0.1)\n",
    "        \n",
    "        , 'colsample_bytree' : trial.suggest_float('colsample_bytree', 0.1, 1)\n",
    "        , 'subsample' : trial.suggest_float('subsample', 0.1, 1)\n",
    "        , 'objective': 'binary:logistic'  # 이진 분류\n",
    "        , 'tree_method' : \"exact\"        \n",
    "        , 'random_state': 0\n",
    "    }\n",
    "    \n",
    "    model = XGBClassifier(**param)\n",
    "    model.fit(x_tr, y_tr)\n",
    "    pred = model.predict(x_val)\n",
    "    score = f1_score(y_val, pred, average=\"binary\")\n",
    "    \n",
    "    return score\n",
    "\n",
    "# 데이터셋 분할\n",
    "x_train, x_val, y_train, y_val = train_test_split(\n",
    "    df_train_encoded.drop(\"is_converted\", axis=1),\n",
    "    df_train_encoded[\"is_converted\"].astype(int),\n",
    "    test_size=0.2,\n",
    "    shuffle=True,\n",
    "    random_state=400,\n",
    ")\n",
    "\n",
    "# 하이퍼 파라미터 튜닝\n",
    "study = optuna.create_study(direction='maximize', sampler=optuna.samplers.TPESampler(seed=0))\n",
    "study.optimize(lambda trial: objectiveXGB(trial, x_train, y_train, x_val, y_val), n_trials=1000)\n",
    "\n",
    "print('Best trial: score {}, \\nparams {}'.format(study.best_trial.value, study.best_trial.params))"
   ]
  },
  {
   "cell_type": "markdown",
   "metadata": {},
   "source": [
    "### 모델 성능확인"
   ]
  },
  {
   "cell_type": "code",
   "execution_count": 80,
   "metadata": {},
   "outputs": [],
   "source": [
    "from sklearn.metrics import (\n",
    "    accuracy_score,\n",
    "    confusion_matrix,\n",
    "    f1_score,\n",
    "    precision_score,\n",
    "    recall_score,\n",
    ")\n",
    "\n",
    "def get_clf_eval(y_test, y_pred=None):\n",
    "    confusion = confusion_matrix(y_test, y_pred, labels=[True, False])\n",
    "    accuracy = accuracy_score(y_test, y_pred)\n",
    "    precision = precision_score(y_test, y_pred, labels=[True, False])\n",
    "    recall = recall_score(y_test, y_pred)\n",
    "    F1 = f1_score(y_test, y_pred, labels=[True, False])\n",
    "    weighted_F1 = f1_score(y_test, y_pred, average='weighted')\n",
    "\n",
    "    metrics = pd.DataFrame({\n",
    "        '정확도': [accuracy],\n",
    "        '정밀도': [precision],\n",
    "        '재현율': [recall],\n",
    "        'F1 Score': [F1],\n",
    "        'Weighted F1': [weighted_F1]\n",
    "    })\n",
    "\n",
    "    confusion_df = pd.DataFrame(confusion, index=['True', 'False'], columns=['True', 'False'])\n",
    "\n",
    "    print(\"\\n오차행렬:\")\n",
    "    display(confusion_df)\n",
    "    print(\"평가 지표:\")\n",
    "    display(metrics)"
   ]
  },
  {
   "cell_type": "markdown",
   "metadata": {},
   "source": [
    "### 모델 정의"
   ]
  },
  {
   "cell_type": "markdown",
   "metadata": {},
   "source": [
    "Optuna를 이용하여 파라미터를 구함"
   ]
  },
  {
   "cell_type": "markdown",
   "metadata": {},
   "source": [
    "Optuna를 이용해서 구한 하이퍼 파라미터 값중 f1기준 두번째로 높다고 뽑아낸 수치값이 성능 좋음"
   ]
  },
  {
   "cell_type": "code",
   "execution_count": 106,
   "metadata": {},
   "outputs": [],
   "source": [
    "# XGBoost \n",
    "model = XGBClassifier(\n",
    "    n_estimators=414\n",
    "    , learning_rate=0.20046808426888615\n",
    "    , max_depth=11\n",
    "\n",
    "    , alpha=0.004365542651458743\n",
    "    , gamma=0.00025712949731685885\n",
    "\n",
    "    , reg_alpha=0.17168922089033928\n",
    "    , reg_lambda=0.03881395024846057\n",
    "    \n",
    "    , colsample_bytree=0.32031741412326675\n",
    "    , subsample=0.6269215430592496\n",
    "    , objective='binary:logistic'  # 이진 분류\n",
    "    , tree_method=\"exact\"        \n",
    "    , random_state=0\n",
    ")"
   ]
  },
  {
   "cell_type": "markdown",
   "metadata": {},
   "source": [
    "### 모델 학습"
   ]
  },
  {
   "cell_type": "code",
   "execution_count": 107,
   "metadata": {},
   "outputs": [
    {
     "data": {
      "text/html": [
       "<style>#sk-container-id-11 {color: black;}#sk-container-id-11 pre{padding: 0;}#sk-container-id-11 div.sk-toggleable {background-color: white;}#sk-container-id-11 label.sk-toggleable__label {cursor: pointer;display: block;width: 100%;margin-bottom: 0;padding: 0.3em;box-sizing: border-box;text-align: center;}#sk-container-id-11 label.sk-toggleable__label-arrow:before {content: \"▸\";float: left;margin-right: 0.25em;color: #696969;}#sk-container-id-11 label.sk-toggleable__label-arrow:hover:before {color: black;}#sk-container-id-11 div.sk-estimator:hover label.sk-toggleable__label-arrow:before {color: black;}#sk-container-id-11 div.sk-toggleable__content {max-height: 0;max-width: 0;overflow: hidden;text-align: left;background-color: #f0f8ff;}#sk-container-id-11 div.sk-toggleable__content pre {margin: 0.2em;color: black;border-radius: 0.25em;background-color: #f0f8ff;}#sk-container-id-11 input.sk-toggleable__control:checked~div.sk-toggleable__content {max-height: 200px;max-width: 100%;overflow: auto;}#sk-container-id-11 input.sk-toggleable__control:checked~label.sk-toggleable__label-arrow:before {content: \"▾\";}#sk-container-id-11 div.sk-estimator input.sk-toggleable__control:checked~label.sk-toggleable__label {background-color: #d4ebff;}#sk-container-id-11 div.sk-label input.sk-toggleable__control:checked~label.sk-toggleable__label {background-color: #d4ebff;}#sk-container-id-11 input.sk-hidden--visually {border: 0;clip: rect(1px 1px 1px 1px);clip: rect(1px, 1px, 1px, 1px);height: 1px;margin: -1px;overflow: hidden;padding: 0;position: absolute;width: 1px;}#sk-container-id-11 div.sk-estimator {font-family: monospace;background-color: #f0f8ff;border: 1px dotted black;border-radius: 0.25em;box-sizing: border-box;margin-bottom: 0.5em;}#sk-container-id-11 div.sk-estimator:hover {background-color: #d4ebff;}#sk-container-id-11 div.sk-parallel-item::after {content: \"\";width: 100%;border-bottom: 1px solid gray;flex-grow: 1;}#sk-container-id-11 div.sk-label:hover label.sk-toggleable__label {background-color: #d4ebff;}#sk-container-id-11 div.sk-serial::before {content: \"\";position: absolute;border-left: 1px solid gray;box-sizing: border-box;top: 0;bottom: 0;left: 50%;z-index: 0;}#sk-container-id-11 div.sk-serial {display: flex;flex-direction: column;align-items: center;background-color: white;padding-right: 0.2em;padding-left: 0.2em;position: relative;}#sk-container-id-11 div.sk-item {position: relative;z-index: 1;}#sk-container-id-11 div.sk-parallel {display: flex;align-items: stretch;justify-content: center;background-color: white;position: relative;}#sk-container-id-11 div.sk-item::before, #sk-container-id-11 div.sk-parallel-item::before {content: \"\";position: absolute;border-left: 1px solid gray;box-sizing: border-box;top: 0;bottom: 0;left: 50%;z-index: -1;}#sk-container-id-11 div.sk-parallel-item {display: flex;flex-direction: column;z-index: 1;position: relative;background-color: white;}#sk-container-id-11 div.sk-parallel-item:first-child::after {align-self: flex-end;width: 50%;}#sk-container-id-11 div.sk-parallel-item:last-child::after {align-self: flex-start;width: 50%;}#sk-container-id-11 div.sk-parallel-item:only-child::after {width: 0;}#sk-container-id-11 div.sk-dashed-wrapped {border: 1px dashed gray;margin: 0 0.4em 0.5em 0.4em;box-sizing: border-box;padding-bottom: 0.4em;background-color: white;}#sk-container-id-11 div.sk-label label {font-family: monospace;font-weight: bold;display: inline-block;line-height: 1.2em;}#sk-container-id-11 div.sk-label-container {text-align: center;}#sk-container-id-11 div.sk-container {/* jupyter's `normalize.less` sets `[hidden] { display: none; }` but bootstrap.min.css set `[hidden] { display: none !important; }` so we also need the `!important` here to be able to override the default hidden behavior on the sphinx rendered scikit-learn.org. See: https://github.com/scikit-learn/scikit-learn/issues/21755 */display: inline-block !important;position: relative;}#sk-container-id-11 div.sk-text-repr-fallback {display: none;}</style><div id=\"sk-container-id-11\" class=\"sk-top-container\"><div class=\"sk-text-repr-fallback\"><pre>XGBClassifier(alpha=0.004365542651458743, base_score=None, booster=None,\n",
       "              callbacks=None, colsample_bylevel=None, colsample_bynode=None,\n",
       "              colsample_bytree=0.32031741412326675, device=None,\n",
       "              early_stopping_rounds=None, enable_categorical=False,\n",
       "              eval_metric=None, feature_types=None,\n",
       "              gamma=0.00025712949731685885, grow_policy=None,\n",
       "              importance_type=None, interaction_constraints=None,\n",
       "              learning_rate=0.20046808426888615, max_bin=None,\n",
       "              max_cat_threshold=None, max_cat_to_onehot=None,\n",
       "              max_delta_step=None, max_depth=11, max_leaves=None,\n",
       "              min_child_weight=None, missing=nan, monotone_constraints=None,\n",
       "              multi_strategy=None, n_estimators=414, n_jobs=None,\n",
       "              num_parallel_tree=None, ...)</pre><b>In a Jupyter environment, please rerun this cell to show the HTML representation or trust the notebook. <br />On GitHub, the HTML representation is unable to render, please try loading this page with nbviewer.org.</b></div><div class=\"sk-container\" hidden><div class=\"sk-item\"><div class=\"sk-estimator sk-toggleable\"><input class=\"sk-toggleable__control sk-hidden--visually\" id=\"sk-estimator-id-11\" type=\"checkbox\" checked><label for=\"sk-estimator-id-11\" class=\"sk-toggleable__label sk-toggleable__label-arrow\">XGBClassifier</label><div class=\"sk-toggleable__content\"><pre>XGBClassifier(alpha=0.004365542651458743, base_score=None, booster=None,\n",
       "              callbacks=None, colsample_bylevel=None, colsample_bynode=None,\n",
       "              colsample_bytree=0.32031741412326675, device=None,\n",
       "              early_stopping_rounds=None, enable_categorical=False,\n",
       "              eval_metric=None, feature_types=None,\n",
       "              gamma=0.00025712949731685885, grow_policy=None,\n",
       "              importance_type=None, interaction_constraints=None,\n",
       "              learning_rate=0.20046808426888615, max_bin=None,\n",
       "              max_cat_threshold=None, max_cat_to_onehot=None,\n",
       "              max_delta_step=None, max_depth=11, max_leaves=None,\n",
       "              min_child_weight=None, missing=nan, monotone_constraints=None,\n",
       "              multi_strategy=None, n_estimators=414, n_jobs=None,\n",
       "              num_parallel_tree=None, ...)</pre></div></div></div></div></div>"
      ],
      "text/plain": [
       "XGBClassifier(alpha=0.004365542651458743, base_score=None, booster=None,\n",
       "              callbacks=None, colsample_bylevel=None, colsample_bynode=None,\n",
       "              colsample_bytree=0.32031741412326675, device=None,\n",
       "              early_stopping_rounds=None, enable_categorical=False,\n",
       "              eval_metric=None, feature_types=None,\n",
       "              gamma=0.00025712949731685885, grow_policy=None,\n",
       "              importance_type=None, interaction_constraints=None,\n",
       "              learning_rate=0.20046808426888615, max_bin=None,\n",
       "              max_cat_threshold=None, max_cat_to_onehot=None,\n",
       "              max_delta_step=None, max_depth=11, max_leaves=None,\n",
       "              min_child_weight=None, missing=nan, monotone_constraints=None,\n",
       "              multi_strategy=None, n_estimators=414, n_jobs=None,\n",
       "              num_parallel_tree=None, ...)"
      ]
     },
     "execution_count": 107,
     "metadata": {},
     "output_type": "execute_result"
    }
   ],
   "source": [
    "model.fit(x_train, y_train)"
   ]
  },
  {
   "cell_type": "code",
   "execution_count": 109,
   "metadata": {},
   "outputs": [
    {
     "name": "stdout",
     "output_type": "stream",
     "text": [
      "\n",
      "오차행렬:\n"
     ]
    },
    {
     "data": {
      "text/html": [
       "<div>\n",
       "<style scoped>\n",
       "    .dataframe tbody tr th:only-of-type {\n",
       "        vertical-align: middle;\n",
       "    }\n",
       "\n",
       "    .dataframe tbody tr th {\n",
       "        vertical-align: top;\n",
       "    }\n",
       "\n",
       "    .dataframe thead th {\n",
       "        text-align: right;\n",
       "    }\n",
       "</style>\n",
       "<table border=\"1\" class=\"dataframe\">\n",
       "  <thead>\n",
       "    <tr style=\"text-align: right;\">\n",
       "      <th></th>\n",
       "      <th>True</th>\n",
       "      <th>False</th>\n",
       "    </tr>\n",
       "  </thead>\n",
       "  <tbody>\n",
       "    <tr>\n",
       "      <th>True</th>\n",
       "      <td>817</td>\n",
       "      <td>177</td>\n",
       "    </tr>\n",
       "    <tr>\n",
       "      <th>False</th>\n",
       "      <td>126</td>\n",
       "      <td>10740</td>\n",
       "    </tr>\n",
       "  </tbody>\n",
       "</table>\n",
       "</div>"
      ],
      "text/plain": [
       "       True  False\n",
       "True    817    177\n",
       "False   126  10740"
      ]
     },
     "metadata": {},
     "output_type": "display_data"
    },
    {
     "name": "stdout",
     "output_type": "stream",
     "text": [
      "평가 지표:\n"
     ]
    },
    {
     "data": {
      "text/html": [
       "<div>\n",
       "<style scoped>\n",
       "    .dataframe tbody tr th:only-of-type {\n",
       "        vertical-align: middle;\n",
       "    }\n",
       "\n",
       "    .dataframe tbody tr th {\n",
       "        vertical-align: top;\n",
       "    }\n",
       "\n",
       "    .dataframe thead th {\n",
       "        text-align: right;\n",
       "    }\n",
       "</style>\n",
       "<table border=\"1\" class=\"dataframe\">\n",
       "  <thead>\n",
       "    <tr style=\"text-align: right;\">\n",
       "      <th></th>\n",
       "      <th>정확도</th>\n",
       "      <th>정밀도</th>\n",
       "      <th>재현율</th>\n",
       "      <th>F1 Score</th>\n",
       "      <th>Weighted F1</th>\n",
       "    </tr>\n",
       "  </thead>\n",
       "  <tbody>\n",
       "    <tr>\n",
       "      <th>0</th>\n",
       "      <td>0.974452</td>\n",
       "      <td>0.866384</td>\n",
       "      <td>0.821932</td>\n",
       "      <td>0.843573</td>\n",
       "      <td>0.974146</td>\n",
       "    </tr>\n",
       "  </tbody>\n",
       "</table>\n",
       "</div>"
      ],
      "text/plain": [
       "        정확도       정밀도       재현율  F1 Score  Weighted F1\n",
       "0  0.974452  0.866384  0.821932  0.843573     0.974146"
      ]
     },
     "metadata": {},
     "output_type": "display_data"
    }
   ],
   "source": [
    "pred = model.predict(x_val)\n",
    "get_clf_eval(y_val, pred)"
   ]
  },
  {
   "cell_type": "code",
   "execution_count": 110,
   "metadata": {},
   "outputs": [
    {
     "data": {
      "text/plain": [
       "872"
      ]
     },
     "execution_count": 110,
     "metadata": {},
     "output_type": "execute_result"
    }
   ],
   "source": [
    "# 예측에 필요한 데이터 분리\n",
    "x_test = df_test_encoded.drop([\"is_converted\", \"id\"], axis=1)\n",
    "\n",
    "test_pred = model.predict(x_test)\n",
    "sum(test_pred) # True로 예측된 개수"
   ]
  },
  {
   "cell_type": "markdown",
   "metadata": {},
   "source": [
    "### 제출파일 생성"
   ]
  },
  {
   "cell_type": "code",
   "execution_count": 71,
   "metadata": {},
   "outputs": [],
   "source": [
    "# 제출 데이터 읽어오기 (df_test는 전처리된 데이터가 저장됨)\n",
    "df_sub = pd.read_csv(\"./data/submission.csv\")\n",
    "df_sub[\"is_converted\"] = test_pred\n",
    "\n",
    "# 제출 파일 저장\n",
    "df_sub.to_csv(\"submission_xgb_optuna.csv\", index=False)"
   ]
  },
  {
   "cell_type": "markdown",
   "metadata": {},
   "source": [
    "."
   ]
  }
 ],
 "metadata": {
  "kernelspec": {
   "display_name": "Python 3",
   "language": "python",
   "name": "python3"
  },
  "language_info": {
   "codemirror_mode": {
    "name": "ipython",
    "version": 3
   },
   "file_extension": ".py",
   "mimetype": "text/x-python",
   "name": "python",
   "nbconvert_exporter": "python",
   "pygments_lexer": "ipython3",
   "version": "3.10.4"
  }
 },
 "nbformat": 4,
 "nbformat_minor": 2
}
