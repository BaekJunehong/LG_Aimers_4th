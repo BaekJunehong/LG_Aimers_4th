{
 "cells": [
  {
   "cell_type": "markdown",
   "metadata": {},
   "source": [
    "### 모델 라이브러리"
   ]
  },
  {
   "cell_type": "code",
   "execution_count": 1,
   "metadata": {},
   "outputs": [],
   "source": [
    "# 모델 라이브러리\n",
    "from lightgbm import LGBMClassifier\n",
    "from catboost import CatBoostClassifier\n",
    "from xgboost import XGBClassifier\n",
    "from sklearn.tree import DecisionTreeClassifier\n",
    "from sklearn.ensemble import RandomForestClassifier, ExtraTreesClassifier, GradientBoostingClassifier, AdaBoostClassifier\n",
    "\n",
    "# 보팅\n",
    "from sklearn.ensemble import VotingClassifier\n",
    "\n",
    "# 스테킹\n",
    "from sklearn.ensemble import StackingClassifier"
   ]
  },
  {
   "cell_type": "code",
   "execution_count": null,
   "metadata": {},
   "outputs": [
    {
     "name": "stderr",
     "output_type": "stream",
     "text": [
      "[I 2024-02-25 02:50:36,719] A new study created in memory with name: no-name-d0ee3272-0993-4a0c-8ff7-d3dc6d22f1c0\n",
      "[I 2024-02-25 02:52:12,781] Trial 0 finished with value: 0.8134642356241234 and parameters: {'n_estimators': 1549, 'max_depth': 45, 'min_samples_split': 7, 'min_samples_leaf': 6, 'criterion': 'entropy', 'class_weight': 'balanced'}. Best is trial 0 with value: 0.8134642356241234.\n",
      "[I 2024-02-25 02:53:39,533] Trial 1 finished with value: 0.8186968838526912 and parameters: {'n_estimators': 1438, 'max_depth': 48, 'min_samples_split': 10, 'min_samples_leaf': 4, 'criterion': 'gini', 'class_weight': 'balanced'}. Best is trial 1 with value: 0.8186968838526912.\n",
      "[I 2024-02-25 02:55:25,185] Trial 2 finished with value: 0.8376753507014028 and parameters: {'n_estimators': 1568, 'max_depth': 49, 'min_samples_split': 2, 'min_samples_leaf': 1, 'criterion': 'entropy', 'class_weight': 'balanced'}. Best is trial 2 with value: 0.8376753507014028.\n",
      "[I 2024-02-25 02:57:14,792] Trial 3 finished with value: 0.8054794520547945 and parameters: {'n_estimators': 1778, 'max_depth': 48, 'min_samples_split': 10, 'min_samples_leaf': 8, 'criterion': 'entropy', 'class_weight': 'balanced'}. Best is trial 2 with value: 0.8376753507014028.\n",
      "[I 2024-02-25 02:58:23,852] Trial 4 finished with value: 0.7955257270693512 and parameters: {'n_estimators': 1118, 'max_depth': 43, 'min_samples_split': 3, 'min_samples_leaf': 10, 'criterion': 'gini', 'class_weight': 'balanced'}. Best is trial 2 with value: 0.8376753507014028.\n",
      "[I 2024-02-25 02:59:42,394] Trial 5 finished with value: 0.8149532710280374 and parameters: {'n_estimators': 1264, 'max_depth': 46, 'min_samples_split': 6, 'min_samples_leaf': 6, 'criterion': 'entropy', 'class_weight': 'balanced'}. Best is trial 2 with value: 0.8376753507014028.\n",
      "[I 2024-02-25 03:01:22,011] Trial 6 finished with value: 0.8081180811808119 and parameters: {'n_estimators': 1612, 'max_depth': 42, 'min_samples_split': 10, 'min_samples_leaf': 7, 'criterion': 'entropy', 'class_weight': 'balanced'}. Best is trial 2 with value: 0.8376753507014028.\n",
      "[I 2024-02-25 03:02:59,904] Trial 7 finished with value: 0.8067765567765568 and parameters: {'n_estimators': 1698, 'max_depth': 31, 'min_samples_split': 8, 'min_samples_leaf': 7, 'criterion': 'gini', 'class_weight': 'balanced'}. Best is trial 2 with value: 0.8376753507014028.\n",
      "[I 2024-02-25 03:04:17,943] Trial 8 finished with value: 0.8166510757717493 and parameters: {'n_estimators': 1315, 'max_depth': 37, 'min_samples_split': 7, 'min_samples_leaf': 5, 'criterion': 'gini', 'class_weight': 'balanced'}. Best is trial 2 with value: 0.8376753507014028.\n",
      "[I 2024-02-25 03:05:30,975] Trial 9 finished with value: 0.8193579300431241 and parameters: {'n_estimators': 1209, 'max_depth': 33, 'min_samples_split': 7, 'min_samples_leaf': 3, 'criterion': 'gini', 'class_weight': 'balanced'}. Best is trial 2 with value: 0.8376753507014028.\n",
      "[I 2024-02-25 03:07:41,862] Trial 10 finished with value: 0.8378378378378378 and parameters: {'n_estimators': 1941, 'max_depth': 38, 'min_samples_split': 2, 'min_samples_leaf': 1, 'criterion': 'entropy', 'class_weight': 'balanced'}. Best is trial 10 with value: 0.8378378378378378.\n",
      "[I 2024-02-25 03:09:55,345] Trial 11 finished with value: 0.8385155466399198 and parameters: {'n_estimators': 1989, 'max_depth': 38, 'min_samples_split': 2, 'min_samples_leaf': 1, 'criterion': 'entropy', 'class_weight': 'balanced'}. Best is trial 11 with value: 0.8385155466399198.\n",
      "[I 2024-02-25 03:12:05,751] Trial 12 finished with value: 0.8350100603621731 and parameters: {'n_estimators': 1955, 'max_depth': 38, 'min_samples_split': 4, 'min_samples_leaf': 1, 'criterion': 'entropy', 'class_weight': 'balanced'}. Best is trial 11 with value: 0.8385155466399198.\n",
      "[I 2024-02-25 03:14:17,850] Trial 13 finished with value: 0.8307994114762138 and parameters: {'n_estimators': 1996, 'max_depth': 35, 'min_samples_split': 4, 'min_samples_leaf': 2, 'criterion': 'entropy', 'class_weight': 'balanced'}. Best is trial 11 with value: 0.8385155466399198.\n",
      "[I 2024-02-25 03:16:15,896] Trial 14 finished with value: 0.8227360308285164 and parameters: {'n_estimators': 1824, 'max_depth': 40, 'min_samples_split': 2, 'min_samples_leaf': 3, 'criterion': 'entropy', 'class_weight': 'balanced'}. Best is trial 11 with value: 0.8385155466399198.\n",
      "[I 2024-02-25 03:18:18,544] Trial 15 finished with value: 0.8371859296482412 and parameters: {'n_estimators': 1853, 'max_depth': 39, 'min_samples_split': 4, 'min_samples_leaf': 1, 'criterion': 'entropy', 'class_weight': 'balanced'}. Best is trial 11 with value: 0.8385155466399198.\n",
      "[I 2024-02-25 03:20:22,160] Trial 16 finished with value: 0.8188824662813102 and parameters: {'n_estimators': 1907, 'max_depth': 36, 'min_samples_split': 5, 'min_samples_leaf': 3, 'criterion': 'entropy', 'class_weight': 'balanced'}. Best is trial 11 with value: 0.8385155466399198.\n",
      "[I 2024-02-25 03:21:27,887] Trial 17 finished with value: 0.8306332842415317 and parameters: {'n_estimators': 1004, 'max_depth': 34, 'min_samples_split': 2, 'min_samples_leaf': 2, 'criterion': 'entropy', 'class_weight': 'balanced'}. Best is trial 11 with value: 0.8385155466399198.\n",
      "[I 2024-02-25 03:23:16,794] Trial 18 finished with value: 0.8165007112375533 and parameters: {'n_estimators': 1707, 'max_depth': 30, 'min_samples_split': 3, 'min_samples_leaf': 4, 'criterion': 'entropy', 'class_weight': 'balanced'}. Best is trial 11 with value: 0.8385155466399198.\n",
      "[I 2024-02-25 03:25:27,618] Trial 19 finished with value: 0.8315377081292851 and parameters: {'n_estimators': 1988, 'max_depth': 42, 'min_samples_split': 3, 'min_samples_leaf': 2, 'criterion': 'entropy', 'class_weight': 'balanced'}. Best is trial 11 with value: 0.8385155466399198.\n",
      "[I 2024-02-25 03:26:57,159] Trial 20 finished with value: 0.8030852994555354 and parameters: {'n_estimators': 1466, 'max_depth': 32, 'min_samples_split': 2, 'min_samples_leaf': 9, 'criterion': 'entropy', 'class_weight': 'balanced'}. Best is trial 11 with value: 0.8385155466399198.\n",
      "[I 2024-02-25 03:28:50,044] Trial 21 finished with value: 0.8367654445002511 and parameters: {'n_estimators': 1690, 'max_depth': 41, 'min_samples_split': 2, 'min_samples_leaf': 1, 'criterion': 'entropy', 'class_weight': 'balanced'}. Best is trial 11 with value: 0.8385155466399198.\n",
      "[I 2024-02-25 03:30:21,612] Trial 22 finished with value: 0.8385155466399198 and parameters: {'n_estimators': 1376, 'max_depth': 44, 'min_samples_split': 3, 'min_samples_leaf': 1, 'criterion': 'entropy', 'class_weight': 'balanced'}. Best is trial 11 with value: 0.8385155466399198.\n",
      "[I 2024-02-25 03:31:49,673] Trial 23 finished with value: 0.8303921568627451 and parameters: {'n_estimators': 1341, 'max_depth': 44, 'min_samples_split': 3, 'min_samples_leaf': 2, 'criterion': 'entropy', 'class_weight': 'balanced'}. Best is trial 11 with value: 0.8385155466399198.\n",
      "[I 2024-02-25 03:33:18,028] Trial 24 finished with value: 0.8171021377672208 and parameters: {'n_estimators': 1382, 'max_depth': 39, 'min_samples_split': 5, 'min_samples_leaf': 4, 'criterion': 'entropy', 'class_weight': 'balanced'}. Best is trial 11 with value: 0.8385155466399198.\n",
      "[I 2024-02-25 03:35:24,252] Trial 25 finished with value: 0.8363453815261044 and parameters: {'n_estimators': 1908, 'max_depth': 37, 'min_samples_split': 3, 'min_samples_leaf': 1, 'criterion': 'entropy', 'class_weight': 'balanced'}. Best is trial 11 with value: 0.8385155466399198.\n",
      "[I 2024-02-25 03:37:11,978] Trial 26 finished with value: 0.8203650336215178 and parameters: {'n_estimators': 1773, 'max_depth': 41, 'min_samples_split': 5, 'min_samples_leaf': 3, 'criterion': 'gini', 'class_weight': 'balanced'}. Best is trial 11 with value: 0.8385155466399198.\n",
      "[I 2024-02-25 03:38:29,503] Trial 27 finished with value: 0.8325171400587659 and parameters: {'n_estimators': 1183, 'max_depth': 46, 'min_samples_split': 4, 'min_samples_leaf': 2, 'criterion': 'entropy', 'class_weight': 'balanced'}. Best is trial 11 with value: 0.8385155466399198.\n",
      "[I 2024-02-25 03:40:12,357] Trial 28 finished with value: 0.8130004710315591 and parameters: {'n_estimators': 1634, 'max_depth': 35, 'min_samples_split': 2, 'min_samples_leaf': 5, 'criterion': 'entropy', 'class_weight': 'balanced'}. Best is trial 11 with value: 0.8385155466399198.\n",
      "[I 2024-02-25 03:41:54,339] Trial 29 finished with value: 0.8364182091045522 and parameters: {'n_estimators': 1529, 'max_depth': 45, 'min_samples_split': 3, 'min_samples_leaf': 1, 'criterion': 'entropy', 'class_weight': 'balanced'}. Best is trial 11 with value: 0.8385155466399198.\n",
      "[I 2024-02-25 03:43:26,561] Trial 30 finished with value: 0.8291015625 and parameters: {'n_estimators': 1412, 'max_depth': 40, 'min_samples_split': 6, 'min_samples_leaf': 2, 'criterion': 'entropy', 'class_weight': 'balanced'}. Best is trial 11 with value: 0.8385155466399198.\n",
      "[I 2024-02-25 03:45:12,943] Trial 31 finished with value: 0.8370927318295739 and parameters: {'n_estimators': 1579, 'max_depth': 50, 'min_samples_split': 2, 'min_samples_leaf': 1, 'criterion': 'entropy', 'class_weight': 'balanced'}. Best is trial 11 with value: 0.8385155466399198.\n",
      "[I 2024-02-25 03:46:52,889] Trial 32 finished with value: 0.8375125376128385 and parameters: {'n_estimators': 1489, 'max_depth': 50, 'min_samples_split': 2, 'min_samples_leaf': 1, 'criterion': 'entropy', 'class_weight': 'balanced'}. Best is trial 11 with value: 0.8385155466399198.\n",
      "[I 2024-02-25 03:48:55,463] Trial 33 finished with value: 0.8210323203087313 and parameters: {'n_estimators': 1896, 'max_depth': 48, 'min_samples_split': 3, 'min_samples_leaf': 3, 'criterion': 'entropy', 'class_weight': 'balanced'}. Best is trial 11 with value: 0.8385155466399198.\n",
      "[I 2024-02-25 03:50:47,664] Trial 34 finished with value: 0.8268101761252447 and parameters: {'n_estimators': 1817, 'max_depth': 48, 'min_samples_split': 2, 'min_samples_leaf': 2, 'criterion': 'gini', 'class_weight': 'balanced'}. Best is trial 11 with value: 0.8385155466399198.\n",
      "[I 2024-02-25 03:52:40,234] Trial 35 finished with value: 0.8165007112375533 and parameters: {'n_estimators': 1767, 'max_depth': 43, 'min_samples_split': 3, 'min_samples_leaf': 4, 'criterion': 'entropy', 'class_weight': 'balanced'}. Best is trial 11 with value: 0.8385155466399198.\n",
      "[I 2024-02-25 03:54:08,309] Trial 36 finished with value: 0.8359257400903161 and parameters: {'n_estimators': 1333, 'max_depth': 46, 'min_samples_split': 4, 'min_samples_leaf': 1, 'criterion': 'entropy', 'class_weight': 'balanced'}. Best is trial 11 with value: 0.8385155466399198.\n",
      "[I 2024-02-25 03:55:19,862] Trial 37 finished with value: 0.829985301322881 and parameters: {'n_estimators': 1106, 'max_depth': 49, 'min_samples_split': 2, 'min_samples_leaf': 2, 'criterion': 'entropy', 'class_weight': 'balanced'}. Best is trial 11 with value: 0.8385155466399198.\n",
      "[I 2024-02-25 03:56:30,826] Trial 38 finished with value: 0.7969520394441955 and parameters: {'n_estimators': 1261, 'max_depth': 38, 'min_samples_split': 3, 'min_samples_leaf': 10, 'criterion': 'gini', 'class_weight': 'balanced'}. Best is trial 11 with value: 0.8385155466399198.\n",
      "[I 2024-02-25 03:58:05,251] Trial 39 finished with value: 0.8058474189127456 and parameters: {'n_estimators': 1549, 'max_depth': 44, 'min_samples_split': 9, 'min_samples_leaf': 8, 'criterion': 'entropy', 'class_weight': 'balanced'}. Best is trial 11 with value: 0.8385155466399198.\n",
      "[I 2024-02-25 03:59:58,014] Trial 40 finished with value: 0.8126159554730983 and parameters: {'n_estimators': 1953, 'max_depth': 46, 'min_samples_split': 8, 'min_samples_leaf': 6, 'criterion': 'gini', 'class_weight': 'balanced'}. Best is trial 11 with value: 0.8385155466399198.\n",
      "[I 2024-02-25 04:01:35,941] Trial 41 finished with value: 0.8380952380952381 and parameters: {'n_estimators': 1480, 'max_depth': 50, 'min_samples_split': 2, 'min_samples_leaf': 1, 'criterion': 'entropy', 'class_weight': 'balanced'}. Best is trial 11 with value: 0.8385155466399198.\n",
      "[I 2024-02-25 04:03:11,459] Trial 42 finished with value: 0.8365095285857572 and parameters: {'n_estimators': 1436, 'max_depth': 49, 'min_samples_split': 2, 'min_samples_leaf': 1, 'criterion': 'entropy', 'class_weight': 'balanced'}. Best is trial 11 with value: 0.8385155466399198.\n",
      "[I 2024-02-25 04:05:04,039] Trial 43 finished with value: 0.8390977443609022 and parameters: {'n_estimators': 1649, 'max_depth': 47, 'min_samples_split': 2, 'min_samples_leaf': 1, 'criterion': 'entropy', 'class_weight': 'balanced'}. Best is trial 43 with value: 0.8390977443609022.\n",
      "[I 2024-02-25 04:06:51,115] Trial 44 finished with value: 0.8295788442703232 and parameters: {'n_estimators': 1640, 'max_depth': 47, 'min_samples_split': 2, 'min_samples_leaf': 2, 'criterion': 'entropy', 'class_weight': 'balanced'}. Best is trial 43 with value: 0.8390977443609022.\n",
      "[I 2024-02-25 04:08:23,275] Trial 45 finished with value: 0.8373493975903614 and parameters: {'n_estimators': 1378, 'max_depth': 49, 'min_samples_split': 3, 'min_samples_leaf': 1, 'criterion': 'entropy', 'class_weight': 'balanced'}. Best is trial 43 with value: 0.8390977443609022.\n",
      "[I 2024-02-25 04:09:46,805] Trial 46 finished with value: 0.8194980694980695 and parameters: {'n_estimators': 1284, 'max_depth': 47, 'min_samples_split': 4, 'min_samples_leaf': 3, 'criterion': 'entropy', 'class_weight': 'balanced'}. Best is trial 43 with value: 0.8390977443609022.\n",
      "[I 2024-02-25 04:11:42,702] Trial 47 finished with value: 0.835506519558676 and parameters: {'n_estimators': 1732, 'max_depth': 37, 'min_samples_split': 2, 'min_samples_leaf': 1, 'criterion': 'entropy', 'class_weight': 'balanced'}. Best is trial 43 with value: 0.8390977443609022.\n",
      "[I 2024-02-25 04:13:21,806] Trial 48 finished with value: 0.8278567925453654 and parameters: {'n_estimators': 1507, 'max_depth': 47, 'min_samples_split': 3, 'min_samples_leaf': 2, 'criterion': 'entropy', 'class_weight': 'balanced'}. Best is trial 43 with value: 0.8390977443609022.\n",
      "[I 2024-02-25 04:15:21,659] Trial 49 finished with value: 0.8391959798994975 and parameters: {'n_estimators': 1868, 'max_depth': 39, 'min_samples_split': 2, 'min_samples_leaf': 1, 'criterion': 'gini', 'class_weight': 'balanced'}. Best is trial 49 with value: 0.8391959798994975.\n",
      "[I 2024-02-25 04:17:08,765] Trial 50 finished with value: 0.8049564020192749 and parameters: {'n_estimators': 1860, 'max_depth': 44, 'min_samples_split': 4, 'min_samples_leaf': 7, 'criterion': 'gini', 'class_weight': 'balanced'}. Best is trial 49 with value: 0.8391959798994975.\n",
      "[I 2024-02-25 04:19:14,126] Trial 51 finished with value: 0.8380281690140845 and parameters: {'n_estimators': 1958, 'max_depth': 39, 'min_samples_split': 2, 'min_samples_leaf': 1, 'criterion': 'gini', 'class_weight': 'balanced'}. Best is trial 49 with value: 0.8391959798994975.\n",
      "[I 2024-02-25 04:21:21,148] Trial 52 finished with value: 0.8350100603621731 and parameters: {'n_estimators': 1996, 'max_depth': 39, 'min_samples_split': 2, 'min_samples_leaf': 1, 'criterion': 'gini', 'class_weight': 'balanced'}. Best is trial 49 with value: 0.8391959798994975.\n",
      "[I 2024-02-25 04:23:16,578] Trial 53 finished with value: 0.8288639687957094 and parameters: {'n_estimators': 1867, 'max_depth': 40, 'min_samples_split': 2, 'min_samples_leaf': 2, 'criterion': 'gini', 'class_weight': 'balanced'}. Best is trial 49 with value: 0.8391959798994975.\n",
      "[I 2024-02-25 04:25:19,117] Trial 54 finished with value: 0.8350100603621731 and parameters: {'n_estimators': 1935, 'max_depth': 41, 'min_samples_split': 3, 'min_samples_leaf': 1, 'criterion': 'gini', 'class_weight': 'balanced'}. Best is trial 49 with value: 0.8391959798994975.\n",
      "[I 2024-02-25 04:26:55,852] Trial 55 finished with value: 0.8228516562650025 and parameters: {'n_estimators': 1587, 'max_depth': 42, 'min_samples_split': 2, 'min_samples_leaf': 3, 'criterion': 'gini', 'class_weight': 'balanced'}. Best is trial 49 with value: 0.8391959798994975.\n",
      "[I 2024-02-25 04:28:51,923] Trial 56 finished with value: 0.8364368394564671 and parameters: {'n_estimators': 1814, 'max_depth': 38, 'min_samples_split': 2, 'min_samples_leaf': 1, 'criterion': 'gini', 'class_weight': 'balanced'}. Best is trial 49 with value: 0.8391959798994975.\n",
      "[I 2024-02-25 04:30:54,309] Trial 57 finished with value: 0.8279569892473119 and parameters: {'n_estimators': 1967, 'max_depth': 36, 'min_samples_split': 3, 'min_samples_leaf': 2, 'criterion': 'gini', 'class_weight': 'balanced'}. Best is trial 49 with value: 0.8391959798994975.\n",
      "[I 2024-02-25 04:32:55,642] Trial 58 finished with value: 0.8355957767722474 and parameters: {'n_estimators': 1904, 'max_depth': 36, 'min_samples_split': 2, 'min_samples_leaf': 1, 'criterion': 'gini', 'class_weight': 'balanced'}. Best is trial 49 with value: 0.8391959798994975.\n",
      "[I 2024-02-25 04:34:38,775] Trial 59 finished with value: 0.8222328701485385 and parameters: {'n_estimators': 1683, 'max_depth': 43, 'min_samples_split': 3, 'min_samples_leaf': 3, 'criterion': 'gini', 'class_weight': 'balanced'}. Best is trial 49 with value: 0.8391959798994975.\n",
      "[I 2024-02-25 04:36:08,985] Trial 60 finished with value: 0.8262135922330097 and parameters: {'n_estimators': 1466, 'max_depth': 45, 'min_samples_split': 7, 'min_samples_leaf': 2, 'criterion': 'gini', 'class_weight': 'balanced'}. Best is trial 49 with value: 0.8391959798994975.\n",
      "[I 2024-02-25 04:38:19,507] Trial 61 finished with value: 0.8355957767722474 and parameters: {'n_estimators': 1935, 'max_depth': 39, 'min_samples_split': 2, 'min_samples_leaf': 1, 'criterion': 'entropy', 'class_weight': 'balanced'}. Best is trial 49 with value: 0.8391959798994975.\n",
      "[I 2024-02-25 04:40:26,471] Trial 62 finished with value: 0.8390977443609022 and parameters: {'n_estimators': 1879, 'max_depth': 40, 'min_samples_split': 2, 'min_samples_leaf': 1, 'criterion': 'entropy', 'class_weight': 'balanced'}. Best is trial 49 with value: 0.8391959798994975.\n",
      "[I 2024-02-25 04:42:33,563] Trial 63 finished with value: 0.839518555667001 and parameters: {'n_estimators': 1877, 'max_depth': 40, 'min_samples_split': 2, 'min_samples_leaf': 1, 'criterion': 'entropy', 'class_weight': 'balanced'}. Best is trial 63 with value: 0.839518555667001.\n",
      "[I 2024-02-25 04:44:30,927] Trial 64 finished with value: 0.8365095285857572 and parameters: {'n_estimators': 1746, 'max_depth': 41, 'min_samples_split': 3, 'min_samples_leaf': 1, 'criterion': 'entropy', 'class_weight': 'balanced'}. Best is trial 63 with value: 0.839518555667001.\n",
      "[I 2024-02-25 04:46:32,105] Trial 65 finished with value: 0.8319451249387555 and parameters: {'n_estimators': 1836, 'max_depth': 40, 'min_samples_split': 2, 'min_samples_leaf': 2, 'criterion': 'entropy', 'class_weight': 'balanced'}. Best is trial 63 with value: 0.839518555667001.\n",
      "[I 2024-02-25 04:48:30,461] Trial 66 finished with value: 0.8307994114762138 and parameters: {'n_estimators': 1797, 'max_depth': 42, 'min_samples_split': 2, 'min_samples_leaf': 2, 'criterion': 'entropy', 'class_weight': 'balanced'}. Best is trial 63 with value: 0.839518555667001.\n",
      "[I 2024-02-25 04:50:35,534] Trial 67 finished with value: 0.8366013071895425 and parameters: {'n_estimators': 1880, 'max_depth': 37, 'min_samples_split': 3, 'min_samples_leaf': 1, 'criterion': 'entropy', 'class_weight': 'balanced'}. Best is trial 63 with value: 0.839518555667001.\n",
      "[I 2024-02-25 04:52:05,823] Trial 68 finished with value: 0.8294117647058824 and parameters: {'n_estimators': 1397, 'max_depth': 40, 'min_samples_split': 2, 'min_samples_leaf': 2, 'criterion': 'entropy', 'class_weight': 'balanced'}. Best is trial 63 with value: 0.839518555667001.\n",
      "[I 2024-02-25 04:53:54,385] Trial 69 finished with value: 0.8355957767722474 and parameters: {'n_estimators': 1649, 'max_depth': 50, 'min_samples_split': 3, 'min_samples_leaf': 1, 'criterion': 'entropy', 'class_weight': 'balanced'}. Best is trial 63 with value: 0.839518555667001.\n",
      "[I 2024-02-25 04:56:01,770] Trial 70 finished with value: 0.8339187155042649 and parameters: {'n_estimators': 1916, 'max_depth': 38, 'min_samples_split': 5, 'min_samples_leaf': 1, 'criterion': 'entropy', 'class_weight': 'balanced'}. Best is trial 63 with value: 0.839518555667001.\n",
      "[I 2024-02-25 04:58:15,461] Trial 71 finished with value: 0.8386773547094188 and parameters: {'n_estimators': 1977, 'max_depth': 39, 'min_samples_split': 2, 'min_samples_leaf': 1, 'criterion': 'entropy', 'class_weight': 'balanced'}. Best is trial 63 with value: 0.839518555667001.\n",
      "[I 2024-02-25 05:00:29,784] Trial 72 finished with value: 0.8365095285857572 and parameters: {'n_estimators': 1994, 'max_depth': 38, 'min_samples_split': 2, 'min_samples_leaf': 1, 'criterion': 'entropy', 'class_weight': 'balanced'}. Best is trial 63 with value: 0.839518555667001.\n",
      "[I 2024-02-25 05:02:34,023] Trial 73 finished with value: 0.8382573860791187 and parameters: {'n_estimators': 1839, 'max_depth': 39, 'min_samples_split': 2, 'min_samples_leaf': 1, 'criterion': 'entropy', 'class_weight': 'balanced'}. Best is trial 63 with value: 0.839518555667001.\n",
      "[I 2024-02-25 05:04:39,316] Trial 74 finished with value: 0.8309652131308183 and parameters: {'n_estimators': 1889, 'max_depth': 39, 'min_samples_split': 2, 'min_samples_leaf': 2, 'criterion': 'entropy', 'class_weight': 'balanced'}. Best is trial 63 with value: 0.839518555667001.\n",
      "[I 2024-02-25 05:06:42,175] Trial 75 finished with value: 0.8363453815261044 and parameters: {'n_estimators': 1845, 'max_depth': 40, 'min_samples_split': 3, 'min_samples_leaf': 1, 'criterion': 'entropy', 'class_weight': 'balanced'}. Best is trial 63 with value: 0.839518555667001.\n",
      "[I 2024-02-25 05:08:46,769] Trial 76 finished with value: 0.8162111215834119 and parameters: {'n_estimators': 1970, 'max_depth': 41, 'min_samples_split': 2, 'min_samples_leaf': 5, 'criterion': 'entropy', 'class_weight': 'balanced'}. Best is trial 63 with value: 0.839518555667001.\n",
      "[I 2024-02-25 05:10:52,482] Trial 77 finished with value: 0.830225711481845 and parameters: {'n_estimators': 1917, 'max_depth': 35, 'min_samples_split': 3, 'min_samples_leaf': 2, 'criterion': 'entropy', 'class_weight': 'balanced'}. Best is trial 63 with value: 0.839518555667001.\n",
      "[I 2024-02-25 05:12:54,698] Trial 78 finished with value: 0.8384192096048024 and parameters: {'n_estimators': 1797, 'max_depth': 37, 'min_samples_split': 2, 'min_samples_leaf': 1, 'criterion': 'entropy', 'class_weight': 'balanced'}. Best is trial 63 with value: 0.839518555667001.\n",
      "[I 2024-02-25 05:14:51,023] Trial 79 finished with value: 0.8277208394338702 and parameters: {'n_estimators': 1784, 'max_depth': 37, 'min_samples_split': 8, 'min_samples_leaf': 2, 'criterion': 'entropy', 'class_weight': 'balanced'}. Best is trial 63 with value: 0.839518555667001.\n",
      "[I 2024-02-25 05:16:45,544] Trial 80 finished with value: 0.8389362769693929 and parameters: {'n_estimators': 1717, 'max_depth': 36, 'min_samples_split': 3, 'min_samples_leaf': 1, 'criterion': 'entropy', 'class_weight': 'balanced'}. Best is trial 63 with value: 0.839518555667001.\n",
      "[I 2024-02-25 05:18:46,682] Trial 81 finished with value: 0.8371859296482412 and parameters: {'n_estimators': 1705, 'max_depth': 36, 'min_samples_split': 3, 'min_samples_leaf': 1, 'criterion': 'entropy', 'class_weight': 'balanced'}. Best is trial 63 with value: 0.839518555667001.\n",
      "[I 2024-02-25 05:20:42,703] Trial 82 finished with value: 0.8373493975903614 and parameters: {'n_estimators': 1745, 'max_depth': 34, 'min_samples_split': 4, 'min_samples_leaf': 1, 'criterion': 'entropy', 'class_weight': 'balanced'}. Best is trial 63 with value: 0.839518555667001.\n",
      "[I 2024-02-25 05:22:58,101] Trial 83 finished with value: 0.8362543815723585 and parameters: {'n_estimators': 1878, 'max_depth': 37, 'min_samples_split': 2, 'min_samples_leaf': 1, 'criterion': 'entropy', 'class_weight': 'balanced'}. Best is trial 63 with value: 0.839518555667001.\n",
      "[I 2024-02-25 05:24:47,364] Trial 84 finished with value: 0.8289345063538612 and parameters: {'n_estimators': 1667, 'max_depth': 38, 'min_samples_split': 2, 'min_samples_leaf': 2, 'criterion': 'entropy', 'class_weight': 'balanced'}. Best is trial 63 with value: 0.839518555667001.\n",
      "[I 2024-02-25 05:26:48,756] Trial 85 finished with value: 0.838774485183325 and parameters: {'n_estimators': 1728, 'max_depth': 35, 'min_samples_split': 3, 'min_samples_leaf': 1, 'criterion': 'entropy', 'class_weight': 'balanced'}. Best is trial 63 with value: 0.839518555667001.\n",
      "[I 2024-02-25 05:29:05,413] Trial 86 finished with value: 0.8390977443609022 and parameters: {'n_estimators': 1722, 'max_depth': 34, 'min_samples_split': 3, 'min_samples_leaf': 1, 'criterion': 'entropy', 'class_weight': 'balanced'}. Best is trial 63 with value: 0.839518555667001.\n",
      "[I 2024-02-25 05:30:58,859] Trial 87 finished with value: 0.8236434108527132 and parameters: {'n_estimators': 1620, 'max_depth': 32, 'min_samples_split': 10, 'min_samples_leaf': 2, 'criterion': 'entropy', 'class_weight': 'balanced'}. Best is trial 63 with value: 0.839518555667001.\n",
      "[I 2024-02-25 05:32:56,813] Trial 88 finished with value: 0.8366013071895425 and parameters: {'n_estimators': 1726, 'max_depth': 33, 'min_samples_split': 3, 'min_samples_leaf': 1, 'criterion': 'entropy', 'class_weight': 'balanced'}. Best is trial 63 with value: 0.839518555667001.\n",
      "[I 2024-02-25 05:34:48,448] Trial 89 finished with value: 0.837769964841788 and parameters: {'n_estimators': 1675, 'max_depth': 34, 'min_samples_split': 4, 'min_samples_leaf': 1, 'criterion': 'entropy', 'class_weight': 'balanced'}. Best is trial 63 with value: 0.839518555667001.\n",
      "[I 2024-02-25 05:36:45,242] Trial 90 finished with value: 0.8335005015045135 and parameters: {'n_estimators': 1759, 'max_depth': 34, 'min_samples_split': 6, 'min_samples_leaf': 1, 'criterion': 'entropy', 'class_weight': 'balanced'}. Best is trial 63 with value: 0.839518555667001.\n",
      "[I 2024-02-25 05:38:32,575] Trial 91 finished with value: 0.8369292523833417 and parameters: {'n_estimators': 1593, 'max_depth': 35, 'min_samples_split': 4, 'min_samples_leaf': 1, 'criterion': 'entropy', 'class_weight': 'balanced'}. Best is trial 63 with value: 0.839518555667001.\n",
      "[I 2024-02-25 05:40:28,346] Trial 92 finished with value: 0.8370927318295739 and parameters: {'n_estimators': 1729, 'max_depth': 33, 'min_samples_split': 3, 'min_samples_leaf': 1, 'criterion': 'entropy', 'class_weight': 'balanced'}. Best is trial 63 with value: 0.839518555667001.\n",
      "[I 2024-02-25 05:42:28,614] Trial 93 finished with value: 0.8294840294840294 and parameters: {'n_estimators': 1818, 'max_depth': 36, 'min_samples_split': 3, 'min_samples_leaf': 2, 'criterion': 'entropy', 'class_weight': 'balanced'}. Best is trial 63 with value: 0.839518555667001.\n",
      "[I 2024-02-25 05:44:40,067] Trial 94 finished with value: 0.8373493975903614 and parameters: {'n_estimators': 1972, 'max_depth': 42, 'min_samples_split': 3, 'min_samples_leaf': 1, 'criterion': 'entropy', 'class_weight': 'balanced'}. Best is trial 63 with value: 0.839518555667001.\n",
      "[I 2024-02-25 05:46:50,606] Trial 95 finished with value: 0.8402603905858789 and parameters: {'n_estimators': 1935, 'max_depth': 32, 'min_samples_split': 2, 'min_samples_leaf': 1, 'criterion': 'entropy', 'class_weight': 'balanced'}. Best is trial 95 with value: 0.8402603905858789.\n",
      "[I 2024-02-25 05:48:54,663] Trial 96 finished with value: 0.8161520190023753 and parameters: {'n_estimators': 1938, 'max_depth': 33, 'min_samples_split': 2, 'min_samples_leaf': 4, 'criterion': 'entropy', 'class_weight': 'balanced'}. Best is trial 95 with value: 0.8402603905858789.\n",
      "[I 2024-02-25 05:50:52,560] Trial 97 finished with value: 0.8029130632680929 and parameters: {'n_estimators': 1918, 'max_depth': 32, 'min_samples_split': 2, 'min_samples_leaf': 8, 'criterion': 'entropy', 'class_weight': 'balanced'}. Best is trial 95 with value: 0.8402603905858789.\n",
      "[I 2024-02-25 05:52:57,483] Trial 98 finished with value: 0.8307994114762138 and parameters: {'n_estimators': 1853, 'max_depth': 35, 'min_samples_split': 2, 'min_samples_leaf': 2, 'criterion': 'entropy', 'class_weight': 'balanced'}. Best is trial 95 with value: 0.8402603905858789.\n",
      "[I 2024-02-25 05:55:12,215] Trial 99 finished with value: 0.8366733466933868 and parameters: {'n_estimators': 1979, 'max_depth': 30, 'min_samples_split': 2, 'min_samples_leaf': 1, 'criterion': 'entropy', 'class_weight': 'balanced'}. Best is trial 95 with value: 0.8402603905858789.\n"
     ]
    },
    {
     "name": "stdout",
     "output_type": "stream",
     "text": [
      "Best trial: score 0.8402603905858789, \n",
      "params {'n_estimators': 1935, 'max_depth': 32, 'min_samples_split': 2, 'min_samples_leaf': 1, 'criterion': 'entropy', 'class_weight': 'balanced'}\n"
     ]
    }
   ],
   "source": [
    "import optuna\n",
    "from sklearn.ensemble import RandomForestClassifier\n",
    "from sklearn.model_selection import train_test_split\n",
    "from sklearn.metrics import f1_score\n",
    "import numpy as np\n",
    "\n",
    "def objectiveRF(trial, x_tr, y_tr, x_val, y_val):\n",
    "    param = {\n",
    "    'n_estimators' : trial.suggest_int('n_estimators', 1000, 2000),\n",
    "    'max_depth' : trial.suggest_int('max_depth', 30, 50),\n",
    "    'min_samples_split' : trial.suggest_int('min_samples_split', 2, 10),\n",
    "    'min_samples_leaf' : trial.suggest_int('min_samples_leaf', 1, 10),\n",
    "    'criterion' : trial.suggest_categorical(\"criterion\", [\"gini\", \"entropy\",]),\n",
    "    'class_weight' : trial.suggest_categorical(\"class_weight\", [\"balanced\"]),\n",
    "    }\n",
    "    \n",
    "    model = RandomForestClassifier(**param)\n",
    "    model.fit(x_tr, y_tr)\n",
    "    pred = model.predict(x_val)\n",
    "    score = f1_score(y_val, pred, average=\"binary\")\n",
    "    \n",
    "    return score\n",
    "\n",
    "# 데이터셋 분할\n",
    "x_train, x_val, y_train, y_val = train_test_split(\n",
    "    df_train_encoded.drop(\"is_converted\", axis=1),\n",
    "    df_train_encoded[\"is_converted\"].astype(int),\n",
    "    test_size=0.2,\n",
    "    shuffle=True,\n",
    "    random_state=400,\n",
    ")\n",
    "\n",
    "# 하이퍼 파라미터 튜닝\n",
    "study = optuna.create_study(direction='maximize', sampler=optuna.samplers.TPESampler(seed=0))\n",
    "study.optimize(lambda trial: objectiveRF(trial, x_train, y_train, x_val, y_val), n_trials=100)\n",
    "\n",
    "print('Best trial: score {}, \\nparams {}'.format(study.best_trial.value, study.best_trial.params))\n"
   ]
  },
  {
   "cell_type": "markdown",
   "metadata": {},
   "source": [
    "### 모델 성능확인"
   ]
  },
  {
   "cell_type": "code",
   "execution_count": 3,
   "metadata": {},
   "outputs": [],
   "source": [
    "from sklearn.metrics import (\n",
    "    accuracy_score,\n",
    "    confusion_matrix,\n",
    "    f1_score,\n",
    "    precision_score,\n",
    "    recall_score,\n",
    ")\n",
    "\n",
    "def get_clf_eval(y_test, y_pred=None):\n",
    "    confusion = confusion_matrix(y_test, y_pred, labels=[True, False])\n",
    "    accuracy = accuracy_score(y_test, y_pred)\n",
    "    precision = precision_score(y_test, y_pred, labels=[True, False])\n",
    "    recall = recall_score(y_test, y_pred)\n",
    "    F1 = f1_score(y_test, y_pred, labels=[True, False])\n",
    "    weighted_F1 = f1_score(y_test, y_pred, average='weighted')\n",
    "\n",
    "    metrics = pd.DataFrame({\n",
    "        '정확도': [accuracy],\n",
    "        '정밀도': [precision],\n",
    "        '재현율': [recall],\n",
    "        'F1 Score': [F1],\n",
    "        'Weighted F1': [weighted_F1]\n",
    "    })\n",
    "\n",
    "    confusion_df = pd.DataFrame(confusion, index=['True', 'False'], columns=['True', 'False'])\n",
    "\n",
    "    print(\"\\n오차행렬:\")\n",
    "    display(confusion_df)\n",
    "    print(\"평가 지표:\")\n",
    "    display(metrics)"
   ]
  },
  {
   "cell_type": "markdown",
   "metadata": {},
   "source": [
    "### 모델 정의"
   ]
  },
  {
   "cell_type": "markdown",
   "metadata": {},
   "source": [
    "Optuna를 이용하여 파라미터를 구함"
   ]
  },
  {
   "cell_type": "code",
   "execution_count": 2,
   "metadata": {},
   "outputs": [],
   "source": [
    "# CatBoost\n",
    "model = RandomForestClassifier(\n",
    "    n_estimators=1935\n",
    "    , max_depth=32\n",
    "    , min_samples_split=2\n",
    "    , min_samples_leaf=1   \n",
    "    , bootstrap=True\n",
    "    , criterion='entropy'\n",
    "    , class_weight='balanced'\n",
    "    , random_state=0\n",
    ")"
   ]
  },
  {
   "cell_type": "markdown",
   "metadata": {},
   "source": [
    "### 모델 학습"
   ]
  },
  {
   "cell_type": "code",
   "execution_count": 72,
   "metadata": {},
   "outputs": [
    {
     "data": {
      "text/plain": [
       "<catboost.core.CatBoostClassifier at 0x1950cc65150>"
      ]
     },
     "execution_count": 72,
     "metadata": {},
     "output_type": "execute_result"
    }
   ],
   "source": [
    "model.fit(x_train, y_train)"
   ]
  },
  {
   "cell_type": "code",
   "execution_count": 73,
   "metadata": {},
   "outputs": [
    {
     "name": "stdout",
     "output_type": "stream",
     "text": [
      "\n",
      "오차행렬:\n"
     ]
    },
    {
     "data": {
      "text/html": [
       "<div>\n",
       "<style scoped>\n",
       "    .dataframe tbody tr th:only-of-type {\n",
       "        vertical-align: middle;\n",
       "    }\n",
       "\n",
       "    .dataframe tbody tr th {\n",
       "        vertical-align: top;\n",
       "    }\n",
       "\n",
       "    .dataframe thead th {\n",
       "        text-align: right;\n",
       "    }\n",
       "</style>\n",
       "<table border=\"1\" class=\"dataframe\">\n",
       "  <thead>\n",
       "    <tr style=\"text-align: right;\">\n",
       "      <th></th>\n",
       "      <th>True</th>\n",
       "      <th>False</th>\n",
       "    </tr>\n",
       "  </thead>\n",
       "  <tbody>\n",
       "    <tr>\n",
       "      <th>True</th>\n",
       "      <td>747</td>\n",
       "      <td>200</td>\n",
       "    </tr>\n",
       "    <tr>\n",
       "      <th>False</th>\n",
       "      <td>78</td>\n",
       "      <td>10835</td>\n",
       "    </tr>\n",
       "  </tbody>\n",
       "</table>\n",
       "</div>"
      ],
      "text/plain": [
       "       True  False\n",
       "True    747    200\n",
       "False    78  10835"
      ]
     },
     "metadata": {},
     "output_type": "display_data"
    },
    {
     "name": "stdout",
     "output_type": "stream",
     "text": [
      "평가 지표:\n"
     ]
    },
    {
     "data": {
      "text/html": [
       "<div>\n",
       "<style scoped>\n",
       "    .dataframe tbody tr th:only-of-type {\n",
       "        vertical-align: middle;\n",
       "    }\n",
       "\n",
       "    .dataframe tbody tr th {\n",
       "        vertical-align: top;\n",
       "    }\n",
       "\n",
       "    .dataframe thead th {\n",
       "        text-align: right;\n",
       "    }\n",
       "</style>\n",
       "<table border=\"1\" class=\"dataframe\">\n",
       "  <thead>\n",
       "    <tr style=\"text-align: right;\">\n",
       "      <th></th>\n",
       "      <th>정확도</th>\n",
       "      <th>정밀도</th>\n",
       "      <th>재현율</th>\n",
       "      <th>F1 Score</th>\n",
       "      <th>Weighted F1</th>\n",
       "    </tr>\n",
       "  </thead>\n",
       "  <tbody>\n",
       "    <tr>\n",
       "      <th>0</th>\n",
       "      <td>0.97656</td>\n",
       "      <td>0.905455</td>\n",
       "      <td>0.788807</td>\n",
       "      <td>0.843115</td>\n",
       "      <td>0.975818</td>\n",
       "    </tr>\n",
       "  </tbody>\n",
       "</table>\n",
       "</div>"
      ],
      "text/plain": [
       "       정확도       정밀도       재현율  F1 Score  Weighted F1\n",
       "0  0.97656  0.905455  0.788807  0.843115     0.975818"
      ]
     },
     "metadata": {},
     "output_type": "display_data"
    }
   ],
   "source": [
    "pred = model.predict(x_val)\n",
    "get_clf_eval(y_val, pred)"
   ]
  },
  {
   "cell_type": "code",
   "execution_count": 74,
   "metadata": {},
   "outputs": [
    {
     "data": {
      "text/plain": [
       "598"
      ]
     },
     "execution_count": 74,
     "metadata": {},
     "output_type": "execute_result"
    }
   ],
   "source": [
    "# 예측에 필요한 데이터 분리\n",
    "x_test = df_test_encoded.drop([\"is_converted\", \"id\"], axis=1)\n",
    "\n",
    "test_pred = model.predict(x_test)\n",
    "sum(test_pred) # True로 예측된 개수"
   ]
  },
  {
   "cell_type": "markdown",
   "metadata": {},
   "source": [
    "### 제출파일 생성"
   ]
  },
  {
   "cell_type": "code",
   "execution_count": 75,
   "metadata": {},
   "outputs": [],
   "source": [
    "# 제출 데이터 읽어오기 (df_test는 전처리된 데이터가 저장됨)\n",
    "df_sub = pd.read_csv(\"./data/submission.csv\")\n",
    "df_sub[\"is_converted\"] = test_pred\n",
    "\n",
    "# 제출 파일 저장\n",
    "df_sub.to_csv(\"submission_rf_optuna.csv\", index=False)"
   ]
  },
  {
   "cell_type": "markdown",
   "metadata": {},
   "source": [
    "."
   ]
  }
 ],
 "metadata": {
  "kernelspec": {
   "display_name": "Python 3",
   "language": "python",
   "name": "python3"
  },
  "language_info": {
   "codemirror_mode": {
    "name": "ipython",
    "version": 3
   },
   "file_extension": ".py",
   "mimetype": "text/x-python",
   "name": "python",
   "nbconvert_exporter": "python",
   "pygments_lexer": "ipython3",
   "version": "3.11.8"
  }
 },
 "nbformat": 4,
 "nbformat_minor": 2
}
