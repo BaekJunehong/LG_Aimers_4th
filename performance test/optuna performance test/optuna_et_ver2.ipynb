{
 "cells": [
  {
   "cell_type": "markdown",
   "metadata": {},
   "source": [
    "### 모델 라이브러리"
   ]
  },
  {
   "cell_type": "code",
   "execution_count": 57,
   "metadata": {},
   "outputs": [],
   "source": [
    "# 모델 라이브러리\n",
    "from lightgbm import LGBMClassifier\n",
    "from catboost import CatBoostClassifier\n",
    "from xgboost import XGBClassifier\n",
    "from sklearn.tree import DecisionTreeClassifier\n",
    "from sklearn.ensemble import RandomForestClassifier, ExtraTreesClassifier, GradientBoostingClassifier, AdaBoostClassifier\n",
    "\n",
    "# 보팅\n",
    "from sklearn.ensemble import VotingClassifier\n",
    "\n",
    "# 스테킹\n",
    "from sklearn.ensemble import StackingClassifier"
   ]
  },
  {
   "cell_type": "markdown",
   "metadata": {},
   "source": [
    "### 모델 성능확인"
   ]
  },
  {
   "cell_type": "code",
   "execution_count": 58,
   "metadata": {},
   "outputs": [],
   "source": [
    "from sklearn.metrics import (\n",
    "    accuracy_score,\n",
    "    confusion_matrix,\n",
    "    f1_score,\n",
    "    precision_score,\n",
    "    recall_score,\n",
    ")\n",
    "\n",
    "def get_clf_eval(y_test, y_pred=None):\n",
    "    confusion = confusion_matrix(y_test, y_pred, labels=[True, False])\n",
    "    accuracy = accuracy_score(y_test, y_pred)\n",
    "    precision = precision_score(y_test, y_pred, labels=[True, False])\n",
    "    recall = recall_score(y_test, y_pred)\n",
    "    F1 = f1_score(y_test, y_pred, labels=[True, False])\n",
    "    weighted_F1 = f1_score(y_test, y_pred, average='weighted')\n",
    "\n",
    "    metrics = pd.DataFrame({\n",
    "        '정확도': [accuracy],\n",
    "        '정밀도': [precision],\n",
    "        '재현율': [recall],\n",
    "        'F1 Score': [F1],\n",
    "        'Weighted F1': [weighted_F1]\n",
    "    })\n",
    "\n",
    "    confusion_df = pd.DataFrame(confusion, index=['True', 'False'], columns=['True', 'False'])\n",
    "\n",
    "    print(\"\\n오차행렬:\")\n",
    "    display(confusion_df)\n",
    "    print(\"평가 지표:\")\n",
    "    display(metrics)"
   ]
  },
  {
   "cell_type": "markdown",
   "metadata": {},
   "source": [
    "### 모델 정의"
   ]
  },
  {
   "cell_type": "markdown",
   "metadata": {},
   "source": [
    "Optuna를 이용하여 파라미터를 구함"
   ]
  },
  {
   "cell_type": "code",
   "execution_count": 59,
   "metadata": {},
   "outputs": [
    {
     "name": "stderr",
     "output_type": "stream",
     "text": [
      "[I 2024-02-24 12:38:59,464] A new study created in memory with name: no-name-7eb99c3a-7549-4ca2-a15e-282b7a1c52bf\n"
     ]
    },
    {
     "name": "stderr",
     "output_type": "stream",
     "text": [
      "[I 2024-02-24 12:39:33,169] Trial 0 finished with value: 0.7916666666666666 and parameters: {'n_estimators': 594, 'max_depth': 49, 'min_samples_split': 4, 'min_samples_leaf': 3, 'criterion': 'entropy', 'bootstrap': False}. Best is trial 0 with value: 0.7916666666666666.\n",
      "[I 2024-02-24 12:42:38,608] Trial 1 finished with value: 0.7907817442385903 and parameters: {'n_estimators': 968, 'max_depth': 35, 'min_samples_split': 5, 'min_samples_leaf': 3, 'criterion': 'entropy', 'bootstrap': False}. Best is trial 0 with value: 0.7916666666666666.\n",
      "[I 2024-02-24 12:43:00,750] Trial 2 finished with value: 0.7727272727272727 and parameters: {'n_estimators': 118, 'max_depth': 54, 'min_samples_split': 5, 'min_samples_leaf': 5, 'criterion': 'gini', 'bootstrap': False}. Best is trial 0 with value: 0.7916666666666666.\n",
      "[I 2024-02-24 12:43:45,121] Trial 3 finished with value: 0.77191452245966 and parameters: {'n_estimators': 206, 'max_depth': 46, 'min_samples_split': 2, 'min_samples_leaf': 5, 'criterion': 'gini', 'bootstrap': False}. Best is trial 0 with value: 0.7916666666666666.\n",
      "[I 2024-02-24 12:45:08,185] Trial 4 finished with value: 0.7713665943600868 and parameters: {'n_estimators': 510, 'max_depth': 43, 'min_samples_split': 2, 'min_samples_leaf': 4, 'criterion': 'entropy', 'bootstrap': True}. Best is trial 0 with value: 0.7916666666666666.\n",
      "[I 2024-02-24 12:46:22,549] Trial 5 finished with value: 0.8243243243243243 and parameters: {'n_estimators': 423, 'max_depth': 37, 'min_samples_split': 4, 'min_samples_leaf': 1, 'criterion': 'entropy', 'bootstrap': True}. Best is trial 5 with value: 0.8243243243243243.\n",
      "[I 2024-02-24 12:47:31,526] Trial 6 finished with value: 0.7782685512367492 and parameters: {'n_estimators': 384, 'max_depth': 34, 'min_samples_split': 4, 'min_samples_leaf': 3, 'criterion': 'gini', 'bootstrap': True}. Best is trial 5 with value: 0.8243243243243243.\n",
      "[I 2024-02-24 12:49:50,773] Trial 7 finished with value: 0.7943840579710144 and parameters: {'n_estimators': 688, 'max_depth': 30, 'min_samples_split': 3, 'min_samples_leaf': 2, 'criterion': 'gini', 'bootstrap': True}. Best is trial 5 with value: 0.8243243243243243.\n",
      "[I 2024-02-24 12:50:21,161] Trial 8 finished with value: 0.8213769860375542 and parameters: {'n_estimators': 277, 'max_depth': 35, 'min_samples_split': 5, 'min_samples_leaf': 1, 'criterion': 'gini', 'bootstrap': True}. Best is trial 5 with value: 0.8243243243243243.\n",
      "[I 2024-02-24 12:53:00,186] Trial 9 finished with value: 0.8260447035957239 and parameters: {'n_estimators': 980, 'max_depth': 44, 'min_samples_split': 4, 'min_samples_leaf': 1, 'criterion': 'gini', 'bootstrap': True}. Best is trial 9 with value: 0.8260447035957239.\n",
      "[I 2024-02-24 12:55:19,013] Trial 10 finished with value: 0.7873873873873873 and parameters: {'n_estimators': 970, 'max_depth': 24, 'min_samples_split': 3, 'min_samples_leaf': 2, 'criterion': 'gini', 'bootstrap': True}. Best is trial 9 with value: 0.8260447035957239.\n",
      "[I 2024-02-24 12:57:26,973] Trial 11 finished with value: 0.8287671232876712 and parameters: {'n_estimators': 794, 'max_depth': 58, 'min_samples_split': 4, 'min_samples_leaf': 1, 'criterion': 'entropy', 'bootstrap': True}. Best is trial 11 with value: 0.8287671232876712.\n",
      "[I 2024-02-24 12:59:51,708] Trial 12 finished with value: 0.8281250000000001 and parameters: {'n_estimators': 801, 'max_depth': 60, 'min_samples_split': 4, 'min_samples_leaf': 1, 'criterion': 'entropy', 'bootstrap': True}. Best is trial 11 with value: 0.8287671232876712.\n",
      "[I 2024-02-24 13:02:04,413] Trial 13 finished with value: 0.7939972714870397 and parameters: {'n_estimators': 779, 'max_depth': 60, 'min_samples_split': 3, 'min_samples_leaf': 2, 'criterion': 'entropy', 'bootstrap': True}. Best is trial 11 with value: 0.8287671232876712.\n",
      "[I 2024-02-24 13:04:28,906] Trial 14 finished with value: 0.828696925329429 and parameters: {'n_estimators': 814, 'max_depth': 59, 'min_samples_split': 4, 'min_samples_leaf': 1, 'criterion': 'entropy', 'bootstrap': True}. Best is trial 11 with value: 0.8287671232876712.\n",
      "[I 2024-02-24 13:06:41,690] Trial 15 finished with value: 0.7952684258416742 and parameters: {'n_estimators': 821, 'max_depth': 54, 'min_samples_split': 3, 'min_samples_leaf': 2, 'criterion': 'entropy', 'bootstrap': True}. Best is trial 11 with value: 0.8287671232876712.\n",
      "[I 2024-02-24 13:08:41,381] Trial 16 finished with value: 0.8284883720930233 and parameters: {'n_estimators': 684, 'max_depth': 53, 'min_samples_split': 5, 'min_samples_leaf': 1, 'criterion': 'entropy', 'bootstrap': True}. Best is trial 11 with value: 0.8287671232876712.\n",
      "[I 2024-02-24 13:10:51,623] Trial 17 finished with value: 0.7710320901994797 and parameters: {'n_estimators': 873, 'max_depth': 56, 'min_samples_split': 4, 'min_samples_leaf': 4, 'criterion': 'entropy', 'bootstrap': True}. Best is trial 11 with value: 0.8287671232876712.\n",
      "[I 2024-02-24 13:13:02,353] Trial 18 finished with value: 0.8071328015016423 and parameters: {'n_estimators': 640, 'max_depth': 48, 'min_samples_split': 3, 'min_samples_leaf': 2, 'criterion': 'entropy', 'bootstrap': False}. Best is trial 11 with value: 0.8287671232876712.\n",
      "[I 2024-02-24 13:15:08,323] Trial 19 finished with value: 0.8277535177098496 and parameters: {'n_estimators': 732, 'max_depth': 51, 'min_samples_split': 5, 'min_samples_leaf': 1, 'criterion': 'entropy', 'bootstrap': True}. Best is trial 11 with value: 0.8287671232876712.\n",
      "[I 2024-02-24 13:17:14,516] Trial 20 finished with value: 0.7706978760294756 and parameters: {'n_estimators': 865, 'max_depth': 57, 'min_samples_split': 4, 'min_samples_leaf': 4, 'criterion': 'entropy', 'bootstrap': True}. Best is trial 11 with value: 0.8287671232876712.\n",
      "[I 2024-02-24 13:19:14,856] Trial 21 finished with value: 0.8263183357522979 and parameters: {'n_estimators': 682, 'max_depth': 52, 'min_samples_split': 5, 'min_samples_leaf': 1, 'criterion': 'entropy', 'bootstrap': True}. Best is trial 11 with value: 0.8287671232876712.\n",
      "[I 2024-02-24 13:20:44,962] Trial 22 finished with value: 0.8296224588576961 and parameters: {'n_estimators': 530, 'max_depth': 59, 'min_samples_split': 5, 'min_samples_leaf': 1, 'criterion': 'entropy', 'bootstrap': True}. Best is trial 22 with value: 0.8296224588576961.\n",
      "[I 2024-02-24 13:22:03,434] Trial 23 finished with value: 0.7943713118474807 and parameters: {'n_estimators': 495, 'max_depth': 59, 'min_samples_split': 4, 'min_samples_leaf': 2, 'criterion': 'entropy', 'bootstrap': True}. Best is trial 22 with value: 0.8296224588576961.\n",
      "[I 2024-02-24 13:23:46,575] Trial 24 finished with value: 0.8284883720930233 and parameters: {'n_estimators': 599, 'max_depth': 57, 'min_samples_split': 5, 'min_samples_leaf': 1, 'criterion': 'entropy', 'bootstrap': True}. Best is trial 22 with value: 0.8296224588576961.\n",
      "[I 2024-02-24 13:24:47,833] Trial 25 finished with value: 0.7822944896115629 and parameters: {'n_estimators': 436, 'max_depth': 21, 'min_samples_split': 4, 'min_samples_leaf': 2, 'criterion': 'entropy', 'bootstrap': True}. Best is trial 22 with value: 0.8296224588576961.\n",
      "[I 2024-02-24 13:27:52,569] Trial 26 finished with value: 0.8280318091451292 and parameters: {'n_estimators': 879, 'max_depth': 41, 'min_samples_split': 5, 'min_samples_leaf': 1, 'criterion': 'entropy', 'bootstrap': False}. Best is trial 22 with value: 0.8296224588576961.\n",
      "[I 2024-02-24 13:29:25,024] Trial 27 finished with value: 0.7934634589196551 and parameters: {'n_estimators': 546, 'max_depth': 56, 'min_samples_split': 4, 'min_samples_leaf': 2, 'criterion': 'entropy', 'bootstrap': True}. Best is trial 22 with value: 0.8296224588576961.\n",
      "[I 2024-02-24 13:31:47,070] Trial 28 finished with value: 0.8330885952031327 and parameters: {'n_estimators': 747, 'max_depth': 50, 'min_samples_split': 3, 'min_samples_leaf': 1, 'criterion': 'entropy', 'bootstrap': True}. Best is trial 28 with value: 0.8330885952031327.\n",
      "[I 2024-02-24 13:33:53,758] Trial 29 finished with value: 0.7927437641723356 and parameters: {'n_estimators': 611, 'max_depth': 49, 'min_samples_split': 2, 'min_samples_leaf': 3, 'criterion': 'entropy', 'bootstrap': False}. Best is trial 28 with value: 0.8330885952031327.\n",
      "[I 2024-02-24 13:36:00,701] Trial 30 finished with value: 0.7950931394820536 and parameters: {'n_estimators': 740, 'max_depth': 49, 'min_samples_split': 3, 'min_samples_leaf': 2, 'criterion': 'entropy', 'bootstrap': True}. Best is trial 28 with value: 0.8330885952031327.\n",
      "[I 2024-02-24 13:38:45,031] Trial 31 finished with value: 0.8329250367466928 and parameters: {'n_estimators': 915, 'max_depth': 58, 'min_samples_split': 3, 'min_samples_leaf': 1, 'criterion': 'entropy', 'bootstrap': True}. Best is trial 28 with value: 0.8330885952031327.\n",
      "[I 2024-02-24 13:41:30,883] Trial 32 finished with value: 0.8304836345872009 and parameters: {'n_estimators': 930, 'max_depth': 55, 'min_samples_split': 3, 'min_samples_leaf': 1, 'criterion': 'entropy', 'bootstrap': True}. Best is trial 28 with value: 0.8330885952031327.\n",
      "[I 2024-02-24 13:44:14,442] Trial 33 finished with value: 0.8304836345872009 and parameters: {'n_estimators': 926, 'max_depth': 55, 'min_samples_split': 3, 'min_samples_leaf': 1, 'criterion': 'entropy', 'bootstrap': True}. Best is trial 28 with value: 0.8330885952031327.\n",
      "[I 2024-02-24 13:48:40,811] Trial 34 finished with value: 0.8335847159376572 and parameters: {'n_estimators': 947, 'max_depth': 54, 'min_samples_split': 3, 'min_samples_leaf': 1, 'criterion': 'entropy', 'bootstrap': False}. Best is trial 34 with value: 0.8335847159376572.\n",
      "[I 2024-02-24 13:52:52,703] Trial 35 finished with value: 0.7939972714870397 and parameters: {'n_estimators': 908, 'max_depth': 52, 'min_samples_split': 2, 'min_samples_leaf': 3, 'criterion': 'entropy', 'bootstrap': False}. Best is trial 34 with value: 0.8335847159376572.\n",
      "[I 2024-02-24 13:57:50,053] Trial 36 finished with value: 0.8332498748122185 and parameters: {'n_estimators': 1000, 'max_depth': 46, 'min_samples_split': 3, 'min_samples_leaf': 1, 'criterion': 'entropy', 'bootstrap': False}. Best is trial 34 with value: 0.8335847159376572.\n",
      "[I 2024-02-24 14:02:04,341] Trial 37 finished with value: 0.8319116909182137 and parameters: {'n_estimators': 1000, 'max_depth': 45, 'min_samples_split': 2, 'min_samples_leaf': 1, 'criterion': 'entropy', 'bootstrap': False}. Best is trial 34 with value: 0.8335847159376572.\n",
      "[I 2024-02-24 14:04:52,554] Trial 38 finished with value: 0.7768522577816747 and parameters: {'n_estimators': 938, 'max_depth': 46, 'min_samples_split': 3, 'min_samples_leaf': 5, 'criterion': 'gini', 'bootstrap': False}. Best is trial 34 with value: 0.8335847159376572.\n",
      "[I 2024-02-24 14:07:55,937] Trial 39 finished with value: 0.8052434456928839 and parameters: {'n_estimators': 847, 'max_depth': 40, 'min_samples_split': 3, 'min_samples_leaf': 2, 'criterion': 'entropy', 'bootstrap': False}. Best is trial 34 with value: 0.8335847159376572.\n",
      "[I 2024-02-24 14:11:32,134] Trial 40 finished with value: 0.7823008849557522 and parameters: {'n_estimators': 997, 'max_depth': 50, 'min_samples_split': 2, 'min_samples_leaf': 4, 'criterion': 'gini', 'bootstrap': False}. Best is trial 34 with value: 0.8335847159376572.\n",
      "[I 2024-02-24 14:15:37,022] Trial 41 finished with value: 0.8319116909182137 and parameters: {'n_estimators': 989, 'max_depth': 45, 'min_samples_split': 2, 'min_samples_leaf': 1, 'criterion': 'entropy', 'bootstrap': False}. Best is trial 34 with value: 0.8335847159376572.\n",
      "[I 2024-02-24 14:20:09,742] Trial 42 finished with value: 0.8323293172690762 and parameters: {'n_estimators': 953, 'max_depth': 47, 'min_samples_split': 2, 'min_samples_leaf': 1, 'criterion': 'entropy', 'bootstrap': False}. Best is trial 34 with value: 0.8335847159376572.\n",
      "[I 2024-02-24 14:24:23,357] Trial 43 finished with value: 0.8312468703054582 and parameters: {'n_estimators': 896, 'max_depth': 47, 'min_samples_split': 3, 'min_samples_leaf': 1, 'criterion': 'entropy', 'bootstrap': False}. Best is trial 34 with value: 0.8335847159376572.\n",
      "[I 2024-02-24 14:28:31,151] Trial 44 finished with value: 0.8262817322050772 and parameters: {'n_estimators': 942, 'max_depth': 37, 'min_samples_split': 3, 'min_samples_leaf': 1, 'criterion': 'entropy', 'bootstrap': False}. Best is trial 34 with value: 0.8335847159376572.\n",
      "[I 2024-02-24 14:31:16,296] Trial 45 finished with value: 0.8298298298298298 and parameters: {'n_estimators': 953, 'max_depth': 42, 'min_samples_split': 2, 'min_samples_leaf': 1, 'criterion': 'entropy', 'bootstrap': False}. Best is trial 34 with value: 0.8335847159376572.\n",
      "[I 2024-02-24 14:33:17,464] Trial 46 finished with value: 0.8273453093812374 and parameters: {'n_estimators': 749, 'max_depth': 39, 'min_samples_split': 3, 'min_samples_leaf': 1, 'criterion': 'gini', 'bootstrap': False}. Best is trial 34 with value: 0.8335847159376572.\n",
      "[I 2024-02-24 14:35:22,110] Trial 47 finished with value: 0.8071161048689139 and parameters: {'n_estimators': 836, 'max_depth': 43, 'min_samples_split': 2, 'min_samples_leaf': 2, 'criterion': 'entropy', 'bootstrap': False}. Best is trial 34 with value: 0.8335847159376572.\n",
      "[I 2024-02-24 14:38:15,505] Trial 48 finished with value: 0.8345902463549523 and parameters: {'n_estimators': 900, 'max_depth': 51, 'min_samples_split': 3, 'min_samples_leaf': 1, 'criterion': 'entropy', 'bootstrap': False}. Best is trial 48 with value: 0.8345902463549523.\n",
      "[I 2024-02-24 14:38:53,053] Trial 49 finished with value: 0.8093896713615023 and parameters: {'n_estimators': 243, 'max_depth': 51, 'min_samples_split': 3, 'min_samples_leaf': 2, 'criterion': 'gini', 'bootstrap': False}. Best is trial 48 with value: 0.8345902463549523.\n",
      "[I 2024-02-24 14:41:22,444] Trial 50 finished with value: 0.8355957767722474 and parameters: {'n_estimators': 784, 'max_depth': 53, 'min_samples_split': 3, 'min_samples_leaf': 1, 'criterion': 'entropy', 'bootstrap': False}. Best is trial 50 with value: 0.8355957767722474.\n",
      "[I 2024-02-24 14:43:47,512] Trial 51 finished with value: 0.8355957767722474 and parameters: {'n_estimators': 784, 'max_depth': 53, 'min_samples_split': 3, 'min_samples_leaf': 1, 'criterion': 'entropy', 'bootstrap': False}. Best is trial 50 with value: 0.8355957767722474.\n",
      "[I 2024-02-24 14:46:05,240] Trial 52 finished with value: 0.8355957767722474 and parameters: {'n_estimators': 781, 'max_depth': 53, 'min_samples_split': 3, 'min_samples_leaf': 1, 'criterion': 'entropy', 'bootstrap': False}. Best is trial 50 with value: 0.8355957767722474.\n",
      "[I 2024-02-24 14:48:36,054] Trial 53 finished with value: 0.8355957767722474 and parameters: {'n_estimators': 795, 'max_depth': 53, 'min_samples_split': 3, 'min_samples_leaf': 1, 'criterion': 'entropy', 'bootstrap': False}. Best is trial 50 with value: 0.8355957767722474.\n",
      "[I 2024-02-24 14:51:35,298] Trial 54 finished with value: 0.8354302969300453 and parameters: {'n_estimators': 709, 'max_depth': 53, 'min_samples_split': 3, 'min_samples_leaf': 1, 'criterion': 'entropy', 'bootstrap': False}. Best is trial 50 with value: 0.8355957767722474.\n",
      "[I 2024-02-24 14:54:50,653] Trial 55 finished with value: 0.8337518834756404 and parameters: {'n_estimators': 709, 'max_depth': 52, 'min_samples_split': 3, 'min_samples_leaf': 1, 'criterion': 'entropy', 'bootstrap': False}. Best is trial 50 with value: 0.8355957767722474.\n",
      "[I 2024-02-24 14:58:08,045] Trial 56 finished with value: 0.8073136427566806 and parameters: {'n_estimators': 785, 'max_depth': 54, 'min_samples_split': 3, 'min_samples_leaf': 2, 'criterion': 'entropy', 'bootstrap': False}. Best is trial 50 with value: 0.8355957767722474.\n",
      "[I 2024-02-24 15:01:08,329] Trial 57 finished with value: 0.8350100603621731 and parameters: {'n_estimators': 659, 'max_depth': 53, 'min_samples_split': 3, 'min_samples_leaf': 1, 'criterion': 'entropy', 'bootstrap': False}. Best is trial 50 with value: 0.8355957767722474.\n",
      "[I 2024-02-24 15:04:26,359] Trial 58 finished with value: 0.806375996249414 and parameters: {'n_estimators': 673, 'max_depth': 53, 'min_samples_split': 3, 'min_samples_leaf': 2, 'criterion': 'entropy', 'bootstrap': False}. Best is trial 50 with value: 0.8355957767722474.\n",
      "[I 2024-02-24 15:07:53,662] Trial 59 finished with value: 0.8238747553816047 and parameters: {'n_estimators': 644, 'max_depth': 29, 'min_samples_split': 3, 'min_samples_leaf': 1, 'criterion': 'entropy', 'bootstrap': False}. Best is trial 50 with value: 0.8355957767722474.\n",
      "[I 2024-02-24 15:11:56,164] Trial 60 finished with value: 0.834256926952141 and parameters: {'n_estimators': 716, 'max_depth': 56, 'min_samples_split': 3, 'min_samples_leaf': 1, 'criterion': 'gini', 'bootstrap': False}. Best is trial 50 with value: 0.8355957767722474.\n",
      "[I 2024-02-24 15:16:14,409] Trial 61 finished with value: 0.8355957767722474 and parameters: {'n_estimators': 774, 'max_depth': 53, 'min_samples_split': 3, 'min_samples_leaf': 1, 'criterion': 'entropy', 'bootstrap': False}. Best is trial 50 with value: 0.8355957767722474.\n",
      "[I 2024-02-24 15:20:18,755] Trial 62 finished with value: 0.8360160965794768 and parameters: {'n_estimators': 773, 'max_depth': 53, 'min_samples_split': 3, 'min_samples_leaf': 1, 'criterion': 'entropy', 'bootstrap': False}. Best is trial 62 with value: 0.8360160965794768.\n",
      "[I 2024-02-24 15:23:45,434] Trial 63 finished with value: 0.8356854838709676 and parameters: {'n_estimators': 767, 'max_depth': 55, 'min_samples_split': 3, 'min_samples_leaf': 1, 'criterion': 'entropy', 'bootstrap': False}. Best is trial 62 with value: 0.8360160965794768.\n",
      "[I 2024-02-24 15:26:17,526] Trial 64 finished with value: 0.8354302969300453 and parameters: {'n_estimators': 774, 'max_depth': 57, 'min_samples_split': 3, 'min_samples_leaf': 1, 'criterion': 'entropy', 'bootstrap': False}. Best is trial 62 with value: 0.8360160965794768.\n",
      "[I 2024-02-24 15:29:52,387] Trial 65 finished with value: 0.8361069087241554 and parameters: {'n_estimators': 763, 'max_depth': 55, 'min_samples_split': 3, 'min_samples_leaf': 1, 'criterion': 'entropy', 'bootstrap': False}. Best is trial 65 with value: 0.8361069087241554.\n",
      "[I 2024-02-24 15:32:36,552] Trial 66 finished with value: 0.8080713280150164 and parameters: {'n_estimators': 816, 'max_depth': 55, 'min_samples_split': 3, 'min_samples_leaf': 2, 'criterion': 'entropy', 'bootstrap': False}. Best is trial 65 with value: 0.8361069087241554.\n",
      "[I 2024-02-24 15:35:43,559] Trial 67 finished with value: 0.8344172086043021 and parameters: {'n_estimators': 807, 'max_depth': 58, 'min_samples_split': 4, 'min_samples_leaf': 1, 'criterion': 'entropy', 'bootstrap': False}. Best is trial 65 with value: 0.8361069087241554.\n",
      "[I 2024-02-24 15:39:12,002] Trial 68 finished with value: 0.8328328328328328 and parameters: {'n_estimators': 849, 'max_depth': 50, 'min_samples_split': 3, 'min_samples_leaf': 1, 'criterion': 'entropy', 'bootstrap': False}. Best is trial 65 with value: 0.8361069087241554.\n",
      "[I 2024-02-24 15:39:39,225] Trial 69 finished with value: 0.8080336291452591 and parameters: {'n_estimators': 152, 'max_depth': 48, 'min_samples_split': 3, 'min_samples_leaf': 2, 'criterion': 'entropy', 'bootstrap': False}. Best is trial 65 with value: 0.8361069087241554.\n",
      "[I 2024-02-24 15:42:09,225] Trial 70 finished with value: 0.8333333333333334 and parameters: {'n_estimators': 772, 'max_depth': 56, 'min_samples_split': 3, 'min_samples_leaf': 1, 'criterion': 'entropy', 'bootstrap': False}. Best is trial 65 with value: 0.8361069087241554.\n",
      "[I 2024-02-24 15:44:57,317] Trial 71 finished with value: 0.8338368580060423 and parameters: {'n_estimators': 759, 'max_depth': 60, 'min_samples_split': 3, 'min_samples_leaf': 1, 'criterion': 'entropy', 'bootstrap': False}. Best is trial 65 with value: 0.8361069087241554.\n",
      "[I 2024-02-24 15:47:28,083] Trial 72 finished with value: 0.8361069087241554 and parameters: {'n_estimators': 795, 'max_depth': 55, 'min_samples_split': 3, 'min_samples_leaf': 1, 'criterion': 'entropy', 'bootstrap': False}. Best is trial 65 with value: 0.8361069087241554.\n",
      "[I 2024-02-24 15:49:46,454] Trial 73 finished with value: 0.8361069087241554 and parameters: {'n_estimators': 803, 'max_depth': 55, 'min_samples_split': 3, 'min_samples_leaf': 1, 'criterion': 'entropy', 'bootstrap': False}. Best is trial 65 with value: 0.8361069087241554.\n",
      "[I 2024-02-24 15:51:57,555] Trial 74 finished with value: 0.8352644836272041 and parameters: {'n_estimators': 723, 'max_depth': 55, 'min_samples_split': 3, 'min_samples_leaf': 1, 'criterion': 'entropy', 'bootstrap': False}. Best is trial 65 with value: 0.8361069087241554.\n",
      "[I 2024-02-24 15:54:33,987] Trial 75 finished with value: 0.8346774193548387 and parameters: {'n_estimators': 874, 'max_depth': 58, 'min_samples_split': 3, 'min_samples_leaf': 1, 'criterion': 'entropy', 'bootstrap': False}. Best is trial 65 with value: 0.8361069087241554.\n",
      "[I 2024-02-24 15:57:09,707] Trial 76 finished with value: 0.8362720403022671 and parameters: {'n_estimators': 826, 'max_depth': 57, 'min_samples_split': 3, 'min_samples_leaf': 1, 'criterion': 'entropy', 'bootstrap': False}. Best is trial 76 with value: 0.8362720403022671.\n",
      "[I 2024-02-24 15:59:59,234] Trial 77 finished with value: 0.8349222277972905 and parameters: {'n_estimators': 830, 'max_depth': 57, 'min_samples_split': 4, 'min_samples_leaf': 1, 'criterion': 'entropy', 'bootstrap': False}. Best is trial 76 with value: 0.8362720403022671.\n",
      "[I 2024-02-24 16:02:14,236] Trial 78 finished with value: 0.8352644836272041 and parameters: {'n_estimators': 627, 'max_depth': 55, 'min_samples_split': 3, 'min_samples_leaf': 1, 'criterion': 'entropy', 'bootstrap': False}. Best is trial 76 with value: 0.8362720403022671.\n",
      "[I 2024-02-24 16:04:01,637] Trial 79 finished with value: 0.7833407177669474 and parameters: {'n_estimators': 567, 'max_depth': 51, 'min_samples_split': 3, 'min_samples_leaf': 4, 'criterion': 'entropy', 'bootstrap': False}. Best is trial 76 with value: 0.8362720403022671.\n",
      "[I 2024-02-24 16:07:41,594] Trial 80 finished with value: 0.8328298086606243 and parameters: {'n_estimators': 858, 'max_depth': 59, 'min_samples_split': 3, 'min_samples_leaf': 1, 'criterion': 'gini', 'bootstrap': False}. Best is trial 76 with value: 0.8362720403022671.\n",
      "[I 2024-02-24 16:11:34,059] Trial 81 finished with value: 0.8340040241448692 and parameters: {'n_estimators': 804, 'max_depth': 54, 'min_samples_split': 3, 'min_samples_leaf': 1, 'criterion': 'entropy', 'bootstrap': False}. Best is trial 76 with value: 0.8362720403022671.\n",
      "[I 2024-02-24 16:15:05,009] Trial 82 finished with value: 0.8341708542713568 and parameters: {'n_estimators': 698, 'max_depth': 57, 'min_samples_split': 3, 'min_samples_leaf': 1, 'criterion': 'entropy', 'bootstrap': False}. Best is trial 76 with value: 0.8362720403022671.\n",
      "[I 2024-02-24 16:18:37,615] Trial 83 finished with value: 0.7756886751202449 and parameters: {'n_estimators': 741, 'max_depth': 52, 'min_samples_split': 3, 'min_samples_leaf': 5, 'criterion': 'entropy', 'bootstrap': False}. Best is trial 76 with value: 0.8362720403022671.\n",
      "[I 2024-02-24 16:20:28,990] Trial 84 finished with value: 0.8334172118772017 and parameters: {'n_estimators': 334, 'max_depth': 56, 'min_samples_split': 3, 'min_samples_leaf': 1, 'criterion': 'entropy', 'bootstrap': False}. Best is trial 76 with value: 0.8362720403022671.\n",
      "[I 2024-02-24 16:25:08,412] Trial 85 finished with value: 0.833922261484099 and parameters: {'n_estimators': 836, 'max_depth': 58, 'min_samples_split': 3, 'min_samples_leaf': 1, 'criterion': 'entropy', 'bootstrap': False}. Best is trial 76 with value: 0.8362720403022671.\n",
      "[I 2024-02-24 16:29:17,054] Trial 86 finished with value: 0.8344237544036235 and parameters: {'n_estimators': 757, 'max_depth': 54, 'min_samples_split': 3, 'min_samples_leaf': 1, 'criterion': 'entropy', 'bootstrap': False}. Best is trial 76 with value: 0.8362720403022671.\n",
      "[I 2024-02-24 16:33:28,256] Trial 87 finished with value: 0.8262586377097729 and parameters: {'n_estimators': 796, 'max_depth': 31, 'min_samples_split': 3, 'min_samples_leaf': 1, 'criterion': 'entropy', 'bootstrap': False}. Best is trial 76 with value: 0.8362720403022671.\n",
      "[I 2024-02-24 16:37:22,387] Trial 88 finished with value: 0.8328328328328328 and parameters: {'n_estimators': 876, 'max_depth': 50, 'min_samples_split': 4, 'min_samples_leaf': 1, 'criterion': 'entropy', 'bootstrap': False}. Best is trial 76 with value: 0.8362720403022671.\n",
      "[I 2024-02-24 16:40:36,237] Trial 89 finished with value: 0.8080713280150164 and parameters: {'n_estimators': 816, 'max_depth': 55, 'min_samples_split': 3, 'min_samples_leaf': 2, 'criterion': 'entropy', 'bootstrap': False}. Best is trial 76 with value: 0.8362720403022671.\n",
      "[I 2024-02-24 16:43:25,818] Trial 90 finished with value: 0.8338368580060423 and parameters: {'n_estimators': 675, 'max_depth': 60, 'min_samples_split': 3, 'min_samples_leaf': 1, 'criterion': 'entropy', 'bootstrap': False}. Best is trial 76 with value: 0.8362720403022671.\n",
      "[I 2024-02-24 16:46:39,420] Trial 91 finished with value: 0.8323293172690762 and parameters: {'n_estimators': 792, 'max_depth': 52, 'min_samples_split': 3, 'min_samples_leaf': 1, 'criterion': 'entropy', 'bootstrap': False}. Best is trial 76 with value: 0.8362720403022671.\n",
      "[I 2024-02-24 16:49:38,161] Trial 92 finished with value: 0.8344237544036235 and parameters: {'n_estimators': 740, 'max_depth': 54, 'min_samples_split': 3, 'min_samples_leaf': 1, 'criterion': 'entropy', 'bootstrap': False}. Best is trial 76 with value: 0.8362720403022671.\n",
      "[I 2024-02-24 16:53:10,094] Trial 93 finished with value: 0.8333333333333334 and parameters: {'n_estimators': 767, 'max_depth': 56, 'min_samples_split': 3, 'min_samples_leaf': 1, 'criterion': 'entropy', 'bootstrap': False}. Best is trial 76 with value: 0.8362720403022671.\n",
      "[I 2024-02-24 16:57:05,552] Trial 94 finished with value: 0.8366013071895425 and parameters: {'n_estimators': 729, 'max_depth': 53, 'min_samples_split': 3, 'min_samples_leaf': 1, 'criterion': 'entropy', 'bootstrap': False}. Best is trial 94 with value: 0.8366013071895425.\n",
      "[I 2024-02-24 17:00:56,318] Trial 95 finished with value: 0.8330827067669173 and parameters: {'n_estimators': 734, 'max_depth': 48, 'min_samples_split': 3, 'min_samples_leaf': 1, 'criterion': 'entropy', 'bootstrap': False}. Best is trial 94 with value: 0.8366013071895425.\n",
      "[I 2024-02-24 17:04:41,261] Trial 96 finished with value: 0.833249370277078 and parameters: {'n_estimators': 694, 'max_depth': 51, 'min_samples_split': 3, 'min_samples_leaf': 1, 'criterion': 'entropy', 'bootstrap': False}. Best is trial 94 with value: 0.8366013071895425.\n",
      "[I 2024-02-24 17:09:14,067] Trial 97 finished with value: 0.8313253012048193 and parameters: {'n_estimators': 836, 'max_depth': 49, 'min_samples_split': 3, 'min_samples_leaf': 1, 'criterion': 'gini', 'bootstrap': False}. Best is trial 94 with value: 0.8366013071895425.\n",
      "[I 2024-02-24 17:13:27,739] Trial 98 finished with value: 0.7930877671668939 and parameters: {'n_estimators': 858, 'max_depth': 59, 'min_samples_split': 3, 'min_samples_leaf': 3, 'criterion': 'entropy', 'bootstrap': False}. Best is trial 94 with value: 0.8366013071895425.\n"
     ]
    },
    {
     "ename": "",
     "evalue": "",
     "output_type": "error",
     "traceback": [
      "\u001b[1;31m현재 셀 또는 이전 셀에서 코드를 실행하는 동안 Kernel이 충돌했습니다. \n",
      "\u001b[1;31m셀의 코드를 검토하여 가능한 오류 원인을 식별하세요. \n",
      "\u001b[1;31m자세한 내용을 보려면 <a href='https://aka.ms/vscodeJupyterKernelCrash'>여기</a>를 클릭하세요. \n",
      "\u001b[1;31m자세한 내용은 Jupyter <a href='command:jupyter.viewOutput'>로그</a>를 참조하세요."
     ]
    }
   ],
   "source": [
    "import optuna\n",
    "from sklearn.metrics import f1_score\n",
    "\n",
    "def objectiveExtraTrees(trial, x_tr, y_tr, x_val, y_val):\n",
    "    param = {\n",
    "        'n_estimators': trial.suggest_int('n_estimators', 100, 1000)\n",
    "        , 'max_depth': trial.suggest_int('max_depth', 20, 60)\n",
    "        , 'min_samples_split': trial.suggest_int('min_samples_split', 2, 5)\n",
    "        , 'min_samples_leaf': trial.suggest_int('min_samples_leaf', 1, 5)\n",
    "        , 'criterion': trial.suggest_categorical('criterion', ['gini', 'entropy'])\n",
    "        , 'bootstrap': trial.suggest_categorical('bootstrap', [True, False])\n",
    "        , 'random_state': 0\n",
    "    }\n",
    "    \n",
    "    model = ExtraTreesClassifier(**param)\n",
    "    model.fit(x_tr, y_tr)\n",
    "    pred = model.predict(x_val)\n",
    "    score = f1_score(y_val, pred, average=\"binary\")\n",
    "    \n",
    "    return score\n",
    "\n",
    "# 하이퍼 파라미터 튜닝\n",
    "study = optuna.create_study(direction='maximize', sampler=optuna.samplers.TPESampler(seed=0))\n",
    "study.optimize(lambda trial: objectiveExtraTrees(trial, x_train, y_train, x_val, y_val), n_trials=500)\n",
    "\n",
    "print('Best trial: score {}, \\nparams {}'.format(study.best_trial.value, study.best_trial.params))"
   ]
  },
  {
   "cell_type": "code",
   "execution_count": 59,
   "metadata": {},
   "outputs": [
    {
     "name": "stdout",
     "output_type": "stream",
     "text": [
      "\n",
      "오차행렬:\n"
     ]
    },
    {
     "data": {
      "text/html": [
       "<div>\n",
       "<style scoped>\n",
       "    .dataframe tbody tr th:only-of-type {\n",
       "        vertical-align: middle;\n",
       "    }\n",
       "\n",
       "    .dataframe tbody tr th {\n",
       "        vertical-align: top;\n",
       "    }\n",
       "\n",
       "    .dataframe thead th {\n",
       "        text-align: right;\n",
       "    }\n",
       "</style>\n",
       "<table border=\"1\" class=\"dataframe\">\n",
       "  <thead>\n",
       "    <tr style=\"text-align: right;\">\n",
       "      <th></th>\n",
       "      <th>True</th>\n",
       "      <th>False</th>\n",
       "    </tr>\n",
       "  </thead>\n",
       "  <tbody>\n",
       "    <tr>\n",
       "      <th>True</th>\n",
       "      <td>831</td>\n",
       "      <td>163</td>\n",
       "    </tr>\n",
       "    <tr>\n",
       "      <th>False</th>\n",
       "      <td>171</td>\n",
       "      <td>10695</td>\n",
       "    </tr>\n",
       "  </tbody>\n",
       "</table>\n",
       "</div>"
      ],
      "text/plain": [
       "       True  False\n",
       "True    831    163\n",
       "False   171  10695"
      ]
     },
     "metadata": {},
     "output_type": "display_data"
    },
    {
     "name": "stdout",
     "output_type": "stream",
     "text": [
      "평가 지표:\n"
     ]
    },
    {
     "data": {
      "text/html": [
       "<div>\n",
       "<style scoped>\n",
       "    .dataframe tbody tr th:only-of-type {\n",
       "        vertical-align: middle;\n",
       "    }\n",
       "\n",
       "    .dataframe tbody tr th {\n",
       "        vertical-align: top;\n",
       "    }\n",
       "\n",
       "    .dataframe thead th {\n",
       "        text-align: right;\n",
       "    }\n",
       "</style>\n",
       "<table border=\"1\" class=\"dataframe\">\n",
       "  <thead>\n",
       "    <tr style=\"text-align: right;\">\n",
       "      <th></th>\n",
       "      <th>정확도</th>\n",
       "      <th>정밀도</th>\n",
       "      <th>재현율</th>\n",
       "      <th>F1 Score</th>\n",
       "      <th>Weighted F1</th>\n",
       "    </tr>\n",
       "  </thead>\n",
       "  <tbody>\n",
       "    <tr>\n",
       "      <th>0</th>\n",
       "      <td>0.971838</td>\n",
       "      <td>0.829341</td>\n",
       "      <td>0.836016</td>\n",
       "      <td>0.832665</td>\n",
       "      <td>0.971889</td>\n",
       "    </tr>\n",
       "  </tbody>\n",
       "</table>\n",
       "</div>"
      ],
      "text/plain": [
       "        정확도       정밀도       재현율  F1 Score  Weighted F1\n",
       "0  0.971838  0.829341  0.836016  0.832665     0.971889"
      ]
     },
     "metadata": {},
     "output_type": "display_data"
    },
    {
     "data": {
      "text/plain": [
       "813.0"
      ]
     },
     "execution_count": 59,
     "metadata": {},
     "output_type": "execute_result"
    }
   ],
   "source": [
    "# ExtraTrees \n",
    "et_model = ExtraTreesClassifier(\n",
    "    n_estimators=747\n",
    "    , max_depth=50\n",
    "    , min_samples_split=3\n",
    "    , min_samples_leaf=1\n",
    "    , criterion='entropy'\n",
    "    , random_state=0\n",
    ") \n",
    "\n",
    "et_model.fit(x_train, y_train)\n",
    "\n",
    "pred = et_model.predict(x_val)\n",
    "get_clf_eval(y_val, pred)\n",
    "\n",
    "# 예측에 필요한 데이터 분리\n",
    "x_test = df_test_encoded.drop([\"is_converted\", \"id\"], axis=1)\n",
    "\n",
    "test_pred = et_model.predict(x_test)\n",
    "sum(test_pred) # True로 예측된 개수"
   ]
  },
  {
   "cell_type": "code",
   "execution_count": 60,
   "metadata": {},
   "outputs": [
    {
     "name": "stdout",
     "output_type": "stream",
     "text": [
      "\n",
      "오차행렬:\n"
     ]
    },
    {
     "data": {
      "text/html": [
       "<div>\n",
       "<style scoped>\n",
       "    .dataframe tbody tr th:only-of-type {\n",
       "        vertical-align: middle;\n",
       "    }\n",
       "\n",
       "    .dataframe tbody tr th {\n",
       "        vertical-align: top;\n",
       "    }\n",
       "\n",
       "    .dataframe thead th {\n",
       "        text-align: right;\n",
       "    }\n",
       "</style>\n",
       "<table border=\"1\" class=\"dataframe\">\n",
       "  <thead>\n",
       "    <tr style=\"text-align: right;\">\n",
       "      <th></th>\n",
       "      <th>True</th>\n",
       "      <th>False</th>\n",
       "    </tr>\n",
       "  </thead>\n",
       "  <tbody>\n",
       "    <tr>\n",
       "      <th>True</th>\n",
       "      <td>829</td>\n",
       "      <td>165</td>\n",
       "    </tr>\n",
       "    <tr>\n",
       "      <th>False</th>\n",
       "      <td>166</td>\n",
       "      <td>10700</td>\n",
       "    </tr>\n",
       "  </tbody>\n",
       "</table>\n",
       "</div>"
      ],
      "text/plain": [
       "       True  False\n",
       "True    829    165\n",
       "False   166  10700"
      ]
     },
     "metadata": {},
     "output_type": "display_data"
    },
    {
     "name": "stdout",
     "output_type": "stream",
     "text": [
      "평가 지표:\n"
     ]
    },
    {
     "data": {
      "text/html": [
       "<div>\n",
       "<style scoped>\n",
       "    .dataframe tbody tr th:only-of-type {\n",
       "        vertical-align: middle;\n",
       "    }\n",
       "\n",
       "    .dataframe tbody tr th {\n",
       "        vertical-align: top;\n",
       "    }\n",
       "\n",
       "    .dataframe thead th {\n",
       "        text-align: right;\n",
       "    }\n",
       "</style>\n",
       "<table border=\"1\" class=\"dataframe\">\n",
       "  <thead>\n",
       "    <tr style=\"text-align: right;\">\n",
       "      <th></th>\n",
       "      <th>정확도</th>\n",
       "      <th>정밀도</th>\n",
       "      <th>재현율</th>\n",
       "      <th>F1 Score</th>\n",
       "      <th>Weighted F1</th>\n",
       "    </tr>\n",
       "  </thead>\n",
       "  <tbody>\n",
       "    <tr>\n",
       "      <th>0</th>\n",
       "      <td>0.972091</td>\n",
       "      <td>0.833166</td>\n",
       "      <td>0.834004</td>\n",
       "      <td>0.833585</td>\n",
       "      <td>0.972097</td>\n",
       "    </tr>\n",
       "  </tbody>\n",
       "</table>\n",
       "</div>"
      ],
      "text/plain": [
       "        정확도       정밀도       재현율  F1 Score  Weighted F1\n",
       "0  0.972091  0.833166  0.834004  0.833585     0.972097"
      ]
     },
     "metadata": {},
     "output_type": "display_data"
    },
    {
     "data": {
      "text/plain": [
       "814.0"
      ]
     },
     "execution_count": 60,
     "metadata": {},
     "output_type": "execute_result"
    }
   ],
   "source": [
    "# ExtraTrees \n",
    "et_model = ExtraTreesClassifier(\n",
    "    n_estimators=947\n",
    "    , max_depth=54\n",
    "    , min_samples_split=3\n",
    "    , min_samples_leaf=1\n",
    "    , criterion='entropy'\n",
    "    , random_state=0\n",
    ") \n",
    "\n",
    "et_model.fit(x_train, y_train)\n",
    "\n",
    "pred = et_model.predict(x_val)\n",
    "get_clf_eval(y_val, pred)\n",
    "\n",
    "# 예측에 필요한 데이터 분리\n",
    "x_test = df_test_encoded.drop([\"is_converted\", \"id\"], axis=1)\n",
    "\n",
    "test_pred = et_model.predict(x_test)\n",
    "sum(test_pred) # True로 예측된 개수"
   ]
  },
  {
   "cell_type": "code",
   "execution_count": 67,
   "metadata": {},
   "outputs": [
    {
     "name": "stdout",
     "output_type": "stream",
     "text": [
      "\n",
      "오차행렬:\n"
     ]
    },
    {
     "data": {
      "text/html": [
       "<div>\n",
       "<style scoped>\n",
       "    .dataframe tbody tr th:only-of-type {\n",
       "        vertical-align: middle;\n",
       "    }\n",
       "\n",
       "    .dataframe tbody tr th {\n",
       "        vertical-align: top;\n",
       "    }\n",
       "\n",
       "    .dataframe thead th {\n",
       "        text-align: right;\n",
       "    }\n",
       "</style>\n",
       "<table border=\"1\" class=\"dataframe\">\n",
       "  <thead>\n",
       "    <tr style=\"text-align: right;\">\n",
       "      <th></th>\n",
       "      <th>True</th>\n",
       "      <th>False</th>\n",
       "    </tr>\n",
       "  </thead>\n",
       "  <tbody>\n",
       "    <tr>\n",
       "      <th>True</th>\n",
       "      <td>832</td>\n",
       "      <td>162</td>\n",
       "    </tr>\n",
       "    <tr>\n",
       "      <th>False</th>\n",
       "      <td>163</td>\n",
       "      <td>10703</td>\n",
       "    </tr>\n",
       "  </tbody>\n",
       "</table>\n",
       "</div>"
      ],
      "text/plain": [
       "       True  False\n",
       "True    832    162\n",
       "False   163  10703"
      ]
     },
     "metadata": {},
     "output_type": "display_data"
    },
    {
     "name": "stdout",
     "output_type": "stream",
     "text": [
      "평가 지표:\n"
     ]
    },
    {
     "data": {
      "text/html": [
       "<div>\n",
       "<style scoped>\n",
       "    .dataframe tbody tr th:only-of-type {\n",
       "        vertical-align: middle;\n",
       "    }\n",
       "\n",
       "    .dataframe tbody tr th {\n",
       "        vertical-align: top;\n",
       "    }\n",
       "\n",
       "    .dataframe thead th {\n",
       "        text-align: right;\n",
       "    }\n",
       "</style>\n",
       "<table border=\"1\" class=\"dataframe\">\n",
       "  <thead>\n",
       "    <tr style=\"text-align: right;\">\n",
       "      <th></th>\n",
       "      <th>정확도</th>\n",
       "      <th>정밀도</th>\n",
       "      <th>재현율</th>\n",
       "      <th>F1 Score</th>\n",
       "      <th>Weighted F1</th>\n",
       "    </tr>\n",
       "  </thead>\n",
       "  <tbody>\n",
       "    <tr>\n",
       "      <th>0</th>\n",
       "      <td>0.972597</td>\n",
       "      <td>0.836181</td>\n",
       "      <td>0.837022</td>\n",
       "      <td>0.836601</td>\n",
       "      <td>0.972603</td>\n",
       "    </tr>\n",
       "  </tbody>\n",
       "</table>\n",
       "</div>"
      ],
      "text/plain": [
       "        정확도       정밀도       재현율  F1 Score  Weighted F1\n",
       "0  0.972597  0.836181  0.837022  0.836601     0.972603"
      ]
     },
     "metadata": {},
     "output_type": "display_data"
    },
    {
     "data": {
      "text/plain": [
       "811.0"
      ]
     },
     "execution_count": 67,
     "metadata": {},
     "output_type": "execute_result"
    }
   ],
   "source": [
    "# ExtraTrees \n",
    "et_model = ExtraTreesClassifier(\n",
    "    n_estimators=729\n",
    "    , max_depth=53\n",
    "    , min_samples_split=3\n",
    "    , min_samples_leaf=1\n",
    "    , criterion='entropy'\n",
    "    , random_state=0\n",
    ") \n",
    "\n",
    "et_model.fit(x_train, y_train)\n",
    "\n",
    "pred = et_model.predict(x_val)\n",
    "get_clf_eval(y_val, pred)\n",
    "\n",
    "# 예측에 필요한 데이터 분리\n",
    "x_test = df_test_encoded.drop([\"is_converted\", \"id\"], axis=1)\n",
    "\n",
    "test_pred = et_model.predict(x_test)\n",
    "sum(test_pred) # True로 예측된 개수"
   ]
  },
  {
   "cell_type": "markdown",
   "metadata": {},
   "source": [
    "아래는 이전에 쓰던 하이퍼 파라미터 수치"
   ]
  },
  {
   "cell_type": "code",
   "execution_count": 69,
   "metadata": {},
   "outputs": [
    {
     "name": "stdout",
     "output_type": "stream",
     "text": [
      "\n",
      "오차행렬:\n"
     ]
    },
    {
     "data": {
      "text/html": [
       "<div>\n",
       "<style scoped>\n",
       "    .dataframe tbody tr th:only-of-type {\n",
       "        vertical-align: middle;\n",
       "    }\n",
       "\n",
       "    .dataframe tbody tr th {\n",
       "        vertical-align: top;\n",
       "    }\n",
       "\n",
       "    .dataframe thead th {\n",
       "        text-align: right;\n",
       "    }\n",
       "</style>\n",
       "<table border=\"1\" class=\"dataframe\">\n",
       "  <thead>\n",
       "    <tr style=\"text-align: right;\">\n",
       "      <th></th>\n",
       "      <th>True</th>\n",
       "      <th>False</th>\n",
       "    </tr>\n",
       "  </thead>\n",
       "  <tbody>\n",
       "    <tr>\n",
       "      <th>True</th>\n",
       "      <td>827</td>\n",
       "      <td>167</td>\n",
       "    </tr>\n",
       "    <tr>\n",
       "      <th>False</th>\n",
       "      <td>165</td>\n",
       "      <td>10701</td>\n",
       "    </tr>\n",
       "  </tbody>\n",
       "</table>\n",
       "</div>"
      ],
      "text/plain": [
       "       True  False\n",
       "True    827    167\n",
       "False   165  10701"
      ]
     },
     "metadata": {},
     "output_type": "display_data"
    },
    {
     "name": "stdout",
     "output_type": "stream",
     "text": [
      "평가 지표:\n"
     ]
    },
    {
     "data": {
      "text/html": [
       "<div>\n",
       "<style scoped>\n",
       "    .dataframe tbody tr th:only-of-type {\n",
       "        vertical-align: middle;\n",
       "    }\n",
       "\n",
       "    .dataframe tbody tr th {\n",
       "        vertical-align: top;\n",
       "    }\n",
       "\n",
       "    .dataframe thead th {\n",
       "        text-align: right;\n",
       "    }\n",
       "</style>\n",
       "<table border=\"1\" class=\"dataframe\">\n",
       "  <thead>\n",
       "    <tr style=\"text-align: right;\">\n",
       "      <th></th>\n",
       "      <th>정확도</th>\n",
       "      <th>정밀도</th>\n",
       "      <th>재현율</th>\n",
       "      <th>F1 Score</th>\n",
       "      <th>Weighted F1</th>\n",
       "    </tr>\n",
       "  </thead>\n",
       "  <tbody>\n",
       "    <tr>\n",
       "      <th>0</th>\n",
       "      <td>0.972007</td>\n",
       "      <td>0.833669</td>\n",
       "      <td>0.831992</td>\n",
       "      <td>0.83283</td>\n",
       "      <td>0.971994</td>\n",
       "    </tr>\n",
       "  </tbody>\n",
       "</table>\n",
       "</div>"
      ],
      "text/plain": [
       "        정확도       정밀도       재현율  F1 Score  Weighted F1\n",
       "0  0.972007  0.833669  0.831992   0.83283     0.971994"
      ]
     },
     "metadata": {},
     "output_type": "display_data"
    },
    {
     "data": {
      "text/plain": [
       "791.0"
      ]
     },
     "execution_count": 69,
     "metadata": {},
     "output_type": "execute_result"
    }
   ],
   "source": [
    "# ExtraTrees\n",
    "et_model = ExtraTreesClassifier(\n",
    "    n_estimators=100\n",
    "    , max_depth=48\n",
    "    , min_samples_split=3\n",
    "    , min_samples_leaf=1\n",
    "    , criterion='gini'\n",
    "    , random_state=0\n",
    ")\n",
    "\n",
    "et_model.fit(x_train, y_train)\n",
    "\n",
    "pred = et_model.predict(x_val)\n",
    "get_clf_eval(y_val, pred)\n",
    "\n",
    "# 예측에 필요한 데이터 분리\n",
    "x_test = df_test_encoded.drop([\"is_converted\", \"id\"], axis=1)\n",
    "\n",
    "test_pred = et_model.predict(x_test)\n",
    "sum(test_pred) # True로 예측된 개수"
   ]
  },
  {
   "cell_type": "markdown",
   "metadata": {},
   "source": [
    "."
   ]
  }
 ],
 "metadata": {
  "kernelspec": {
   "display_name": "Python 3",
   "language": "python",
   "name": "python3"
  },
  "language_info": {
   "codemirror_mode": {
    "name": "ipython",
    "version": 3
   },
   "file_extension": ".py",
   "mimetype": "text/x-python",
   "name": "python",
   "nbconvert_exporter": "python",
   "pygments_lexer": "ipython3",
   "version": "3.10.4"
  }
 },
 "nbformat": 4,
 "nbformat_minor": 2
}
