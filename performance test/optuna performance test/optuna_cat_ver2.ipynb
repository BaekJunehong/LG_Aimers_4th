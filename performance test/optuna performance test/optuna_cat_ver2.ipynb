{
 "cells": [
  {
   "cell_type": "markdown",
   "metadata": {},
   "source": [
    "## 1. 데이터 확인"
   ]
  },
  {
   "cell_type": "markdown",
   "metadata": {},
   "source": [
    "설치안되어있는경우 설치 필요"
   ]
  },
  {
   "cell_type": "code",
   "execution_count": 1,
   "metadata": {},
   "outputs": [],
   "source": [
    "# %pip install category_encoders"
   ]
  },
  {
   "cell_type": "markdown",
   "metadata": {},
   "source": [
    "라이브러리 불러오기"
   ]
  },
  {
   "cell_type": "code",
   "execution_count": 2,
   "metadata": {},
   "outputs": [],
   "source": [
    "import pandas as pd\n",
    "import numpy as np\n",
    "\n",
    "import warnings\n",
    "warnings.filterwarnings('ignore') # 경고 메세지 무시"
   ]
  },
  {
   "cell_type": "markdown",
   "metadata": {},
   "source": [
    "데이터 불러오기"
   ]
  },
  {
   "cell_type": "code",
   "execution_count": 3,
   "metadata": {},
   "outputs": [],
   "source": [
    "df_train = pd.read_csv(\"./data/train.csv\") # 학습용 데이터\n",
    "df_test = pd.read_csv(\"./data/submission.csv\") # 테스트 데이터(제출파일의 데이터)"
   ]
  },
  {
   "cell_type": "code",
   "execution_count": 4,
   "metadata": {},
   "outputs": [
    {
     "name": "stdout",
     "output_type": "stream",
     "text": [
      "<class 'pandas.core.frame.DataFrame'>\n",
      "RangeIndex: 59299 entries, 0 to 59298\n",
      "Data columns (total 29 columns):\n",
      " #   Column                   Non-Null Count  Dtype  \n",
      "---  ------                   --------------  -----  \n",
      " 0   bant_submit              59299 non-null  float64\n",
      " 1   customer_country         58317 non-null  object \n",
      " 2   business_unit            59299 non-null  object \n",
      " 3   com_reg_ver_win_rate     14568 non-null  float64\n",
      " 4   customer_idx             59299 non-null  int64  \n",
      " 5   customer_type            15338 non-null  object \n",
      " 6   enterprise               59299 non-null  object \n",
      " 7   historical_existing_cnt  13756 non-null  float64\n",
      " 8   id_strategic_ver         3444 non-null   float64\n",
      " 9   it_strategic_ver         1121 non-null   float64\n",
      " 10  idit_strategic_ver       4565 non-null   float64\n",
      " 11  customer_job             40566 non-null  object \n",
      " 12  lead_desc_length         59299 non-null  int64  \n",
      " 13  inquiry_type             58358 non-null  object \n",
      " 14  product_category         39925 non-null  object \n",
      " 15  product_subcategory      9235 non-null   object \n",
      " 16  product_modelname        9229 non-null   object \n",
      " 17  customer_country.1       58317 non-null  object \n",
      " 18  customer_position        59299 non-null  object \n",
      " 19  response_corporate       59299 non-null  object \n",
      " 20  expected_timeline        28436 non-null  object \n",
      " 21  ver_cus                  59299 non-null  int64  \n",
      " 22  ver_pro                  59299 non-null  int64  \n",
      " 23  ver_win_rate_x           18417 non-null  float64\n",
      " 24  ver_win_ratio_per_bu     15304 non-null  float64\n",
      " 25  business_area            18417 non-null  object \n",
      " 26  business_subarea         5526 non-null   object \n",
      " 27  lead_owner               59299 non-null  int64  \n",
      " 28  is_converted             59299 non-null  bool   \n",
      "dtypes: bool(1), float64(8), int64(5), object(15)\n",
      "memory usage: 12.7+ MB\n"
     ]
    }
   ],
   "source": [
    "df_train.info()"
   ]
  },
  {
   "cell_type": "markdown",
   "metadata": {},
   "source": [
    "## 2. 데이터 전처리"
   ]
  },
  {
   "cell_type": "markdown",
   "metadata": {},
   "source": [
    "### bant_submit, business_unit, enterprise 변수"
   ]
  },
  {
   "cell_type": "markdown",
   "metadata": {},
   "source": [
    "따로 처리한 부분 없음"
   ]
  },
  {
   "cell_type": "markdown",
   "metadata": {},
   "source": [
    "### customer_country, customer_country.1 변수"
   ]
  },
  {
   "cell_type": "code",
   "execution_count": 5,
   "metadata": {},
   "outputs": [],
   "source": [
    "def process_customer_country_tokenized(df, column_name):\n",
    "    for i, entry in enumerate(df[column_name]):\n",
    "        if isinstance(entry, str):\n",
    "            tokens = [token.strip() for token in entry.replace('/', ',').split(',') if token.strip() != '']\n",
    "            if tokens:\n",
    "                df.at[i, column_name] = tokens[-1]\n",
    "            else:\n",
    "                df.at[i, column_name] = np.nan\n",
    "        else:\n",
    "            df.at[i, column_name] = np.nan\n",
    "    return df"
   ]
  },
  {
   "cell_type": "markdown",
   "metadata": {},
   "source": [
    "customer_country, customer_country.1 값을 토큰화 하여 말단 단어 추출"
   ]
  },
  {
   "cell_type": "code",
   "execution_count": 6,
   "metadata": {},
   "outputs": [],
   "source": [
    "df_train = process_customer_country_tokenized(df_train, 'customer_country')\n",
    "df_train = process_customer_country_tokenized(df_train, 'customer_country.1')\n",
    "\n",
    "df_test = process_customer_country_tokenized(df_test, 'customer_country')\n",
    "df_test = process_customer_country_tokenized(df_test, 'customer_country.1')"
   ]
  },
  {
   "cell_type": "code",
   "execution_count": 7,
   "metadata": {},
   "outputs": [],
   "source": [
    "# 미국 주 이름 카테고리화\n",
    "us_states = ['AL', 'AK', 'AZ', 'AR', 'CA', 'CO', 'CT', 'DE', 'DC', 'FL', 'GA', 'HI', 'ID', 'IL', 'IN', 'IA', 'KS', 'KY', 'LA', 'ME', 'MD', 'MA', 'MI', 'MN', 'MS', 'MO', 'MT', 'NE', 'NV', 'NH', 'NJ', 'NM', 'NY', 'NC', 'ND', 'OH', 'OK', 'OR', 'PA', 'RI', 'SC', 'SD', 'TN', 'TX', 'UT', 'VT', 'VA', 'WA', 'WV', 'WI', 'WY']\n",
    "\n",
    "df_train['customer_country'] = df_train['customer_country'].replace(us_states, 'United States')\n",
    "df_train['customer_country.1'] = df_train['customer_country.1'].replace(us_states, 'United States')\n",
    "\n",
    "df_test['customer_country'] = df_test['customer_country'].replace(us_states, 'United States')\n",
    "df_test['customer_country.1'] = df_test['customer_country.1'].replace(us_states, 'United States')"
   ]
  },
  {
   "cell_type": "markdown",
   "metadata": {},
   "source": [
    "LG 사이트에서 작성된 나라정보를 리스트화"
   ]
  },
  {
   "cell_type": "markdown",
   "metadata": {},
   "source": [
    "이때 Test데이터셋 값중 Corporate은 특정 국가나 지역을 나타내는 것이 아니라,  \n",
    "보통 기업이나 조직을 나타내는 용어로 국가 리스트에 따로 포함시키지 않음"
   ]
  },
  {
   "cell_type": "code",
   "execution_count": 8,
   "metadata": {},
   "outputs": [],
   "source": [
    "asia = ['Australia', 'Bangladesh', 'Brunei', 'Cambodia', 'China', 'Fiji', 'Hong Kong', 'India', 'Indonesia', 'Laos', 'Malaysia', 'Maldives', 'Myanmar', 'Nepal', 'New Zealand', 'Papula New Guinea', 'Philippines', 'Singapore', 'Sri Lanka', 'Taiwan', 'Thailand', 'Vietnam', 'Japan', 'South Korea']\n",
    "cis = ['Belarus', 'Kazakhstan', 'Mongolia', 'Russia', 'Turkmenistan', 'Ukraine', 'Uzbekistan']\n",
    "europe = ['Albania', 'Austria', 'Belgium', 'Bosnia and Herzegovina', 'Bulgaria', 'Croatia', 'Cyprus', 'Czech', 'Denmark', 'Estonia', 'Finland', 'France', 'Germany', 'Greece', 'Hungary', 'Iceland', 'Ireland', 'Italy', 'Kosovo', 'Latvia', 'Lithuania', 'Luxembourg', 'Macedonia', 'Montenegro', 'Netherlands', 'Norway', 'Poland', 'Portugal', 'Romania', 'Serbia', 'Slovakia', 'Slovenia', 'Spain', 'Sweden', 'Switzerland', 'United Kingdom', 'Isle of Man', 'Malta']\n",
    "latin_america_and_the_caribbean = ['Anguilla', 'Antigua', 'Argentina', 'Aruba', 'Bahamas', 'Barbados', 'Belize', 'Bermuda', 'Bolivia', 'Brazil', 'British Virgin Islands', 'Cayman Islands', 'Chile', 'Colombia', 'COLOMBIA', 'Costa Rica', 'Cuba', 'Curacao', 'Dominican Republic', 'Ecuador', 'El Salvador', 'Grenada', 'Guatemala', 'Guyana Haiti', 'Honduras', 'Jamaica', 'Mexico', 'Netherlands Antilles', 'Nicaragua', 'Panama', 'Paraguay', 'Peru', 'Puerto Rico', 'Saint Lucia', 'St Kitts', 'St Maarten', 'St Vincent', 'Suriname', 'Trinidad and Tobago', 'Turks and Caicos Islands', 'Uruguay', 'US Virgin Islands', 'Venezuela', 'Antigua and Barbuda', 'Saint Kitts and Nevis']\n",
    "middle_east_and_africa = ['Afghanistan', 'Algeria', 'Angola', 'Armenia', 'Azerbaijan', 'Bahrain', 'Benin', 'Botswana', 'Burkina Faso Cameroon', 'Central African Republic', 'Congo', \"Cote d'Ivoire\", 'Democratic Republic of the Congo', 'Djibouti', 'Egypt', 'EGYPT', 'Equatorial Guinea', 'Ethiopia', 'Gabon', 'Gambia', 'Georgia', 'Ghana', 'Guinea Iran', 'Iraq', 'Israel', 'Ivory Coast', 'Jordan', 'Kenya', 'Kuwait', 'Lebanon', 'Liberia', 'Mali', 'Mauritania', 'Mauritius', 'Morocco', 'Mozambique', 'Namibia', 'Nigeria', 'Oman', 'Pakistan', 'Palestine', 'Qatar', 'Rwanda', 'Sao Tome and Principe', 'Saudi Arabia', 'Senegal', 'Sierra Leone', 'Somalia', 'South Africa', 'Sudan', 'Swaziland', 'Syria', 'Togo', 'Tunisia', 'Türkiye', 'Turkey', 'U.A.E', 'Uganda', 'United Republic of Tanzania', 'Yemen', 'Zambia', 'Eritrea', 'Libya Malawi', 'Zimbabwe']\n",
    "north_america = ['Canada', 'United States', 'UNITED STATES']"
   ]
  },
  {
   "cell_type": "code",
   "execution_count": 9,
   "metadata": {},
   "outputs": [],
   "source": [
    "def update_country(country):\n",
    "    if country in asia:\n",
    "        return country\n",
    "    elif country in cis:\n",
    "        return country\n",
    "    elif country in europe:\n",
    "        return country\n",
    "    elif country in latin_america_and_the_caribbean:\n",
    "        return country\n",
    "    elif country in middle_east_and_africa:\n",
    "        return country\n",
    "    elif country in north_america:\n",
    "        return country\n",
    "    else:\n",
    "        return 'Unknown'\n",
    "\n",
    "df_train['customer_country'] = df_train['customer_country'].apply(update_country)\n",
    "df_test['customer_country'] = df_test['customer_country'].apply(update_country)"
   ]
  },
  {
   "cell_type": "code",
   "execution_count": 10,
   "metadata": {},
   "outputs": [],
   "source": [
    "continent_dict = {country: 'Asia' for country in asia}\n",
    "continent_dict.update({country: 'CIS' for country in cis})\n",
    "continent_dict.update({country: 'Europe' for country in europe})\n",
    "continent_dict.update({country: 'Latin America and the Caribbean' for country in latin_america_and_the_caribbean})\n",
    "continent_dict.update({country: 'Middle East & Africa' for country in middle_east_and_africa})\n",
    "continent_dict.update({country: 'North America' for country in north_america})\n",
    "\n",
    "df_train['customer_country.1'] = df_train['customer_country.1'].replace(continent_dict)\n",
    "df_test['customer_country.1'] = df_test['customer_country.1'].replace(continent_dict)"
   ]
  },
  {
   "cell_type": "markdown",
   "metadata": {},
   "source": [
    "customer_country.1 빈도수이하값 및 결측값에 대한 처리"
   ]
  },
  {
   "cell_type": "code",
   "execution_count": 11,
   "metadata": {},
   "outputs": [],
   "source": [
    "# 'customer_country.1'의 빈도 계산\n",
    "counts_train = df_train['customer_country.1'].value_counts()\n",
    "counts_test = df_test['customer_country.1'].value_counts()\n",
    "\n",
    "# 일정 빈도 이하 unknown 처리\n",
    "find_count_train = counts_train[counts_train <= 30].index\n",
    "find_count_test = counts_test[counts_test <= 2].index\n",
    "\n",
    "# 일정 빈도 이하인 국가를 'Unknown'으로 설정\n",
    "df_train.loc[df_train['customer_country.1'].isin(find_count_train), 'customer_country.1'] = 'Other'\n",
    "df_test.loc[df_test['customer_country.1'].isin(find_count_test), 'customer_country.1'] = 'Other'\n",
    "\n",
    "# 결측값에 대한 처리\n",
    "df_train['customer_country.1'] = df_train['customer_country.1'].fillna('Unknown')\n",
    "df_test['customer_country.1'] = df_test['customer_country.1'].fillna('Unknown')"
   ]
  },
  {
   "cell_type": "code",
   "execution_count": 12,
   "metadata": {},
   "outputs": [],
   "source": [
    "# train 데이터셋에 없는 test 데이터셋에 대한 처리\n",
    "## {'Corporate'} 값이 test 데이터셋에는 존재하는 반면 train 데이터셋에는 없음\n",
    "def replace_unknown_values(row, unique):\n",
    "    if row not in unique:\n",
    "        return 'Other'\n",
    "    else:\n",
    "        return row\n",
    "\n",
    "unique_train_values = df_train['customer_country.1'].unique()\n",
    "df_test['customer_country.1'] = df_test['customer_country.1'].apply(lambda x: replace_unknown_values(x, unique_train_values))"
   ]
  },
  {
   "cell_type": "markdown",
   "metadata": {},
   "source": [
    "### customer_idx 변수"
   ]
  },
  {
   "cell_type": "markdown",
   "metadata": {},
   "source": [
    "특정값에 대한 처리"
   ]
  },
  {
   "cell_type": "code",
   "execution_count": 13,
   "metadata": {},
   "outputs": [],
   "source": [
    "# 'customer_idx'의 빈도 계산\n",
    "counts_train = df_train['customer_idx'].value_counts()\n",
    "\n",
    "# 일정 빈도 이하 처리\n",
    "find_count_train = counts_train[counts_train <= 10].index\n",
    "\n",
    "# 일정 빈도 이하인 customer_idx를 '-1'으로 설정\n",
    "df_train.loc[df_train['customer_idx'].isin(find_count_train), 'customer_idx'] = -1"
   ]
  },
  {
   "cell_type": "code",
   "execution_count": 14,
   "metadata": {},
   "outputs": [],
   "source": [
    "# train 데이터셋에 없는 test 데이터셋에 대한 처리\n",
    "def replace_unknown_values(row, unique):\n",
    "    if row not in unique:\n",
    "        return -1\n",
    "    else:\n",
    "        return row\n",
    "\n",
    "unique_train_values = df_train['customer_idx'].unique()\n",
    "df_test['customer_idx'] = df_test['customer_idx'].apply(lambda x: replace_unknown_values(x, unique_train_values))"
   ]
  },
  {
   "cell_type": "markdown",
   "metadata": {},
   "source": [
    "customer_idx의 값에 대해서 is_converted에 대한 비율 계산"
   ]
  },
  {
   "cell_type": "code",
   "execution_count": 15,
   "metadata": {},
   "outputs": [],
   "source": [
    "# 'customer_idx' 카테고리별로 'is_converted'의 평균과 갯수를 계산\n",
    "idx_target = df_train.groupby('customer_idx')['is_converted'].agg(['mean', 'count']).sort_values(by='mean', ascending=False)"
   ]
  },
  {
   "cell_type": "markdown",
   "metadata": {},
   "source": [
    "계산한 비율에 대해서 customer_idx 값을 특정범위에 대한 범주화"
   ]
  },
  {
   "cell_type": "code",
   "execution_count": 16,
   "metadata": {},
   "outputs": [],
   "source": [
    "# 'mean' 값이 0.9보다 크면 1, 아니면 0을 부여\n",
    "idx_target['label'] = ((idx_target['mean'] > 0.99) & (idx_target['count'] >= 10)).astype(int)\n",
    "\n",
    "# 'idx_target'를 기준으로 'label' 값을 매핑\n",
    "idx_map = idx_target['label'].to_dict()\n",
    "\n",
    "# 'customer_idx' 열을 업데이트\n",
    "df_train['customer_idx_99'] = df_train['customer_idx'].map(idx_map)\n",
    "df_test['customer_idx_99'] = df_test['customer_idx'].map(idx_map)"
   ]
  },
  {
   "cell_type": "code",
   "execution_count": 17,
   "metadata": {},
   "outputs": [],
   "source": [
    "# 'mean' 값이 0.01보다 작으면 1, 아니면 0을 부여\n",
    "idx_target['label'] = ((idx_target['mean'] < 0.01)& (idx_target['count'] >= 10)).astype(int)\n",
    "\n",
    "# 'idx_target'를 기준으로 'label' 값을 매핑\n",
    "idx_map = idx_target['label'].to_dict()\n",
    "\n",
    "# 'customer_idx' 열을 업데이트\n",
    "df_train['customer_idx_001'] = df_train['customer_idx'].map(idx_map)\n",
    "df_test['customer_idx_001'] = df_test['customer_idx'].map(idx_map)"
   ]
  },
  {
   "cell_type": "markdown",
   "metadata": {},
   "source": [
    "### customer_type 변수"
   ]
  },
  {
   "cell_type": "markdown",
   "metadata": {},
   "source": [
    "오타나 연관 단어에 대해서 관련 값으로 변환"
   ]
  },
  {
   "cell_type": "code",
   "execution_count": 18,
   "metadata": {},
   "outputs": [],
   "source": [
    "# 카테고리 재할당\n",
    "df_train['customer_type'] = df_train['customer_type'].replace({\n",
    "    'Others': 'Other',\n",
    "    'Etc.': 'Other',\n",
    "    'Software / Solution Provider': 'Software/Solution Provider',\n",
    "    'Specifier/ Influencer': 'Specifier/Influencer',\n",
    "    'Specifier / Influencer': 'Specifier/Influencer',\n",
    "    'Distributor': 'Dealer/Distributor',\n",
    "    'Homeowner': 'Home Owner',\n",
    "    'Manager / Director' : 'Manager/Director',\n",
    "    'Commercial end-user': 'End-user',\n",
    "    'End-Customer': 'End Customer',\n",
    "    'Consultant': 'Architect/Consultant',\n",
    "    'Installer': 'Specifier/Influencer',\n",
    "    'Installer/Contractor': 'Specifier/Influencer',\n",
    "    \n",
    "    # LG 카테고리 참고함\n",
    "    'Corporate' : 'End Customer',\n",
    "    'Dealer/Distributor' : 'Channel Partner',\n",
    "    'Reseller' : 'Channel Partner',\n",
    "    'Technician': 'Specifier/Influencer',\n",
    "    'Architect/Consultant': 'Specifier/Influencer',\n",
    "    'Developer': 'End Customer',  \n",
    "})\n",
    "\n",
    "df_test['customer_type'] = df_test['customer_type'].replace({\n",
    "    'Specifier/ Influencer': 'Specifier/Influencer',\n",
    "    'End-Customer': 'End Customer',\n",
    "\n",
    "    # LG 카테고리 참고함\n",
    "    'Developer': 'End Customer',\n",
    "})"
   ]
  },
  {
   "cell_type": "markdown",
   "metadata": {},
   "source": [
    "결측값 대체"
   ]
  },
  {
   "cell_type": "code",
   "execution_count": 19,
   "metadata": {},
   "outputs": [],
   "source": [
    "# 'customer_type' 변수에서 NaN 값을 'Unknown' 으로 대체\n",
    "df_train['customer_type'] = df_train['customer_type'].fillna('Unknown')\n",
    "df_test['customer_type'] = df_test['customer_type'].fillna('Unknown')"
   ]
  },
  {
   "cell_type": "markdown",
   "metadata": {},
   "source": [
    "이때 customer_type 값을 처리하는 과정에서  \n",
    "End Customer가 End-user에 해당한다는것을 알수 있음으로 값을 바꿔줌"
   ]
  },
  {
   "cell_type": "code",
   "execution_count": 20,
   "metadata": {},
   "outputs": [],
   "source": [
    "# 카테고리 재할당\n",
    "df_train['customer_type'] = df_train['customer_type'].replace({\n",
    "    'End Customer': 'End-user'\n",
    "})\n",
    "df_test['customer_type'] = df_test['customer_type'].replace({\n",
    "    'End Customer': 'End-user'\n",
    "})"
   ]
  },
  {
   "cell_type": "markdown",
   "metadata": {},
   "source": [
    "### historical_existing_cnt 변수"
   ]
  },
  {
   "cell_type": "markdown",
   "metadata": {},
   "source": [
    "결측값 대체"
   ]
  },
  {
   "cell_type": "code",
   "execution_count": 21,
   "metadata": {},
   "outputs": [],
   "source": [
    "# median 값으로 대체(이때 median값은 4)\n",
    "cnt_train_med = df_train['historical_existing_cnt'].median()\n",
    "cnt_test_med = df_test['historical_existing_cnt'].median()\n",
    "\n",
    "# median 값으로 결측값 대체\n",
    "df_train['historical_existing_cnt'] = df_train['historical_existing_cnt'].fillna(cnt_train_med)\n",
    "df_test['historical_existing_cnt'] = df_test['historical_existing_cnt'].fillna(cnt_test_med)"
   ]
  },
  {
   "cell_type": "markdown",
   "metadata": {},
   "source": [
    "Min-Max 스케일링"
   ]
  },
  {
   "cell_type": "code",
   "execution_count": 22,
   "metadata": {},
   "outputs": [],
   "source": [
    "# Min-Max 스케일링 \n",
    "min_value = df_train['historical_existing_cnt'].min()\n",
    "max_value = df_train['historical_existing_cnt'].max()\n",
    "\n",
    "\n",
    "df_train['historical_existing_cnt'] = (df_train['historical_existing_cnt'] - min_value) / (max_value - min_value)\n",
    "df_test['historical_existing_cnt'] = (df_test['historical_existing_cnt'] - min_value) / (max_value - min_value)\n"
   ]
  },
  {
   "cell_type": "markdown",
   "metadata": {},
   "source": [
    "### id_strategic_ver, it_strategic_ver, idit_strategic_ver 변수"
   ]
  },
  {
   "cell_type": "markdown",
   "metadata": {},
   "source": [
    "결측값 대체"
   ]
  },
  {
   "cell_type": "code",
   "execution_count": 23,
   "metadata": {},
   "outputs": [],
   "source": [
    "# 누락된 값을 0으로 채우기\n",
    "df_train['id_strategic_ver'].fillna(0, inplace=True)\n",
    "df_train['it_strategic_ver'].fillna(0, inplace=True)\n",
    "df_train['idit_strategic_ver'].fillna(0, inplace=True)\n",
    "\n",
    "df_test['id_strategic_ver'].fillna(0, inplace=True)\n",
    "df_test['it_strategic_ver'].fillna(0, inplace=True)\n",
    "df_test['idit_strategic_ver'].fillna(0, inplace=True)"
   ]
  },
  {
   "cell_type": "markdown",
   "metadata": {},
   "source": [
    "### customer_job 변수"
   ]
  },
  {
   "cell_type": "markdown",
   "metadata": {},
   "source": [
    "오타관련 값에 대한 변환  \n",
    "LG 홈페이지에서 제공된 job 리스트에 해당 안되는 값에 대한 변환"
   ]
  },
  {
   "cell_type": "code",
   "execution_count": 24,
   "metadata": {},
   "outputs": [],
   "source": [
    "def search_job(customer_job):\n",
    "    # LG list 참고\n",
    "    job = ['accounting','administrative','arts and design','business development','community and social services','consulting','curation','education','engineering', 'entrepreneurship','finance','healthcare services','human resources','information technology','legal','marketing','media and communication','military and protective services operations','product management', 'program and project management','purchasing','quality assurance','real estate','research','sales','support','others']\n",
    "\n",
    "    # (오타변환)'media and communications'를 'media and communication'으로 변환\n",
    "    if customer_job == 'media and communications':\n",
    "        customer_job = 'media and communication'\n",
    "    \n",
    "    if not customer_job:\n",
    "        return 'others'\n",
    "    elif customer_job in job:\n",
    "        return customer_job\n",
    "    else:\n",
    "        return 'unknown'\n",
    "\n",
    "df_train['customer_job'] = df_train['customer_job'].apply(search_job)\n",
    "df_test['customer_job'] = df_test['customer_job'].apply(search_job)"
   ]
  },
  {
   "cell_type": "markdown",
   "metadata": {},
   "source": [
    "### lead_desc_length 변수"
   ]
  },
  {
   "cell_type": "markdown",
   "metadata": {},
   "source": [
    "Min-Max 스케일링"
   ]
  },
  {
   "cell_type": "code",
   "execution_count": 25,
   "metadata": {},
   "outputs": [],
   "source": [
    "# Min-Max 스케일링 \n",
    "min_value = df_train['lead_desc_length'].min()\n",
    "max_value = df_train['lead_desc_length'].max()\n",
    "\n",
    "df_train['lead_desc_length'] = (df_train['lead_desc_length'] - min_value) / (max_value - min_value)\n",
    "df_test['lead_desc_length'] = (df_test['lead_desc_length'] - min_value) / (max_value - min_value)"
   ]
  },
  {
   "cell_type": "markdown",
   "metadata": {},
   "source": [
    "결측값 대체"
   ]
  },
  {
   "cell_type": "code",
   "execution_count": 26,
   "metadata": {},
   "outputs": [],
   "source": [
    "# 누락된 값을 0으로 채우기\n",
    "df_train['lead_desc_length'].fillna(0, inplace=True)\n",
    "df_test['lead_desc_length'].fillna(0, inplace=True)"
   ]
  },
  {
   "cell_type": "markdown",
   "metadata": {},
   "source": [
    "### inquiry_type 변수"
   ]
  },
  {
   "cell_type": "markdown",
   "metadata": {},
   "source": [
    "오타나 연관 단어에 대해서 관련 값으로 변환"
   ]
  },
  {
   "cell_type": "code",
   "execution_count": 27,
   "metadata": {},
   "outputs": [],
   "source": [
    "# 'inquiry_type' 열의 철자오류에 대해 일관된 값으로 변환\n",
    "df_train['inquiry_type'] = df_train['inquiry_type'].replace({\n",
    "\n",
    "    'Quotation or purchase consultation': 'Quotation or Purchase Consultation',\n",
    "    'Request for quotation or purchase': 'Quotation or Purchase Consultation',\n",
    "    'quotation_or_purchase_consultation': 'Quotation or Purchase Consultation',\n",
    "    'quotation_': 'Quotation or Purchase Consultation',\n",
    "    'Purchase or Quotation': 'Quotation or Purchase Consultation',\n",
    "    'Quotation or Purchase consultation': 'Quotation or Purchase Consultation',\n",
    "    'Purchase': 'Quotation or Purchase Consultation',\n",
    "    'quotation_or_purchase_consultation': 'Quotation or Purchase Consultation',\n",
    "    'quotation_': 'Quotation or Purchase Consultation',\n",
    "    'quotation_': 'Quotation or Purchase Consultation',\n",
    "\n",
    "    'Usage or technical consultation': 'Usage or Technical Consultation',\n",
    "    'Technical Consultation': 'Usage or Technical Consultation',\n",
    "    'usage or technical consultation': 'Usage or Technical Consultation',\n",
    "    'usage_or_technical_consultation': 'Usage or Technical Consultation',\n",
    "    'Request for technical consulting': 'Usage or Technical Consultation',\n",
    "    'technical_consultation': 'Usage or Technical Consultation',\n",
    "    'technical': 'Usage or Technical Consultation',\n",
    "\n",
    "    'sales':'Sales Inquiry',\n",
    "    'Sales inquiry':'Sales Inquiry',\n",
    "\n",
    "    'other': 'Other',\n",
    "    'other_': 'Other',\n",
    "    'others': 'Other',\n",
    "    'Others' : 'Other',\n",
    "    'Etc.': 'Other',\n",
    "    'ETC.': 'Other'\n",
    "\n",
    "})\n",
    "\n",
    "df_test['inquiry_type'] = df_test['inquiry_type'].replace({\n",
    "\n",
    "    'Technical Consultation': 'Usage or Technical Consultation',\n",
    "\n",
    "    'other_': 'Other',\n",
    "    'Others' : 'Other',\n",
    "\n",
    "})"
   ]
  },
  {
   "cell_type": "markdown",
   "metadata": {},
   "source": [
    "특정값에 대한 처리('Other' 값으로 변환)"
   ]
  },
  {
   "cell_type": "code",
   "execution_count": 28,
   "metadata": {},
   "outputs": [],
   "source": [
    "# 'inquiry_type' 열의 값별 개수를 계산합니다.\n",
    "value_counts = df_train['inquiry_type'].value_counts()\n",
    "\n",
    "# 2개 이하인 값들의 리스트를 만듭니다.\n",
    "to_replace = value_counts[value_counts <= 2].index\n",
    "\n",
    "# 2개 이하인 값들을 'Other'로 업데이트합니다.\n",
    "df_train['inquiry_type'] = df_train['inquiry_type'].replace(to_replace, 'Other')"
   ]
  },
  {
   "cell_type": "code",
   "execution_count": 29,
   "metadata": {},
   "outputs": [],
   "source": [
    "# train 데이터셋에 없는 test 데이터셋에 대한 처리\n",
    "## test 데이터셋 값중 {'Media Inquiry'} 값에 대한 처리\n",
    "def replace_unknown_values(row, unique):\n",
    "    if row not in unique:\n",
    "        return 'Other'\n",
    "    else:\n",
    "        return row\n",
    "\n",
    "unique_train_values = df_train['inquiry_type'].unique()\n",
    "df_test['inquiry_type'] = df_test['inquiry_type'].apply(lambda x: replace_unknown_values(x, unique_train_values))"
   ]
  },
  {
   "cell_type": "markdown",
   "metadata": {},
   "source": [
    "결측값 대체('Unknown' 값으로 변환)"
   ]
  },
  {
   "cell_type": "code",
   "execution_count": 30,
   "metadata": {},
   "outputs": [],
   "source": [
    "# 'inquiry_type' 변수에서 NaN 값을 'Unknown' 으로 대체\n",
    "df_train['inquiry_type'] = df_train['inquiry_type'].fillna('Unknown')\n",
    "df_test['inquiry_type'] = df_test['inquiry_type'].fillna('Unknown')"
   ]
  },
  {
   "cell_type": "markdown",
   "metadata": {},
   "source": [
    "### product_category 변수"
   ]
  },
  {
   "cell_type": "markdown",
   "metadata": {},
   "source": [
    "특정값에 대해서 관련 값으로 변환"
   ]
  },
  {
   "cell_type": "code",
   "execution_count": 31,
   "metadata": {},
   "outputs": [],
   "source": [
    "df_train['product_category'] = df_train['product_category'].replace({\n",
    "    'notebook': 'laptop',\n",
    "    'others': 'other',\n",
    "    'ess': 'other',\n",
    "    'signage care solution': 'other',\n",
    "})\n",
    "\n",
    "df_test['product_category'] = df_test['product_category'].replace({\n",
    "    'notebook': 'laptop',\n",
    "    'others': 'other',\n",
    "    'ess': 'other',\n",
    "    'signage care solution': 'other',\n",
    "})"
   ]
  },
  {
   "cell_type": "markdown",
   "metadata": {},
   "source": [
    "특정 빈도수 이하 값대체"
   ]
  },
  {
   "cell_type": "code",
   "execution_count": 32,
   "metadata": {},
   "outputs": [],
   "source": [
    "# 'product_category'의 빈도 계산\n",
    "counts_train = df_train['product_category'].value_counts()\n",
    "\n",
    "# 빈도가 특정수치 이하인 product_category 를 찾음\n",
    "find_count_train = counts_train[counts_train <= 15].index\n",
    "\n",
    "# 빈도가 특정수치 이하값 \n",
    "df_train.loc[df_train['product_category'].isin(find_count_train), 'product_category'] = 'other'"
   ]
  },
  {
   "cell_type": "markdown",
   "metadata": {},
   "source": [
    "결측값 대체"
   ]
  },
  {
   "cell_type": "code",
   "execution_count": 33,
   "metadata": {},
   "outputs": [],
   "source": [
    "# 'product_category' 변수에서 NaN 값을 'Unknown' 으로 대체\n",
    "df_train['product_category'] = df_train['product_category'].fillna('unknown')\n",
    "df_test['product_category'] = df_test['product_category'].fillna('unknown')"
   ]
  },
  {
   "cell_type": "markdown",
   "metadata": {},
   "source": [
    "### product_subcategory, product_modelname 변수"
   ]
  },
  {
   "cell_type": "markdown",
   "metadata": {},
   "source": [
    "train 데이터셋에 없는 데이터에 대한 처리"
   ]
  },
  {
   "cell_type": "code",
   "execution_count": 34,
   "metadata": {},
   "outputs": [],
   "source": [
    "# train 데이터셋에 없는 test 데이터셋에 대한 처리\n",
    "def replace_unknown(row, unique):\n",
    "    if row not in unique:\n",
    "        return 'Unknown'\n",
    "    else:\n",
    "        return row\n",
    "\n",
    "# product_subcategory 결측값 대체\n",
    "unique_subcategory = df_train['product_subcategory'].unique()\n",
    "df_test['product_subcategory'] = df_test['product_subcategory'].apply(lambda x: replace_unknown(x, unique_subcategory))\n",
    "\n",
    "# product_modelname 결측값 대체\n",
    "unique_modelname = df_train['product_modelname'].unique()\n",
    "df_test['product_modelname'] = df_test['product_modelname'].apply(lambda x: replace_unknown(x, unique_modelname))"
   ]
  },
  {
   "cell_type": "markdown",
   "metadata": {},
   "source": [
    "결측값 대체"
   ]
  },
  {
   "cell_type": "code",
   "execution_count": 35,
   "metadata": {},
   "outputs": [],
   "source": [
    "# 'product_subcategory' 변수에서 NaN 값을 'Unknown' 으로 대체\n",
    "df_train['product_subcategory'] = df_train['product_subcategory'].fillna('Unknown')\n",
    "df_test['product_subcategory'] = df_test['product_subcategory'].fillna('Unknown')\n",
    "\n",
    "# 'product_modelname' 변수에서 NaN 값을 'Unknown' 으로 대체\n",
    "df_train['product_modelname'] = df_train['product_modelname'].fillna('Unknown')\n",
    "df_test['product_modelname'] = df_test['product_modelname'].fillna('Unknown')"
   ]
  },
  {
   "cell_type": "markdown",
   "metadata": {},
   "source": [
    "### customer_position 변수"
   ]
  },
  {
   "cell_type": "markdown",
   "metadata": {},
   "source": [
    "오타에 대한 값이나 관련값으로 대체가능한 값에 대한 처리"
   ]
  },
  {
   "cell_type": "code",
   "execution_count": 36,
   "metadata": {},
   "outputs": [],
   "source": [
    "df_train['customer_position'] = df_train['customer_position'].replace({\n",
    "    'vicepresident': 'vice president',\n",
    "    'vp': 'vice president',\n",
    "    'entrylevel': 'entry level',\n",
    "    'c-levelexecutive': 'c-level executive',\n",
    "    'founder': 'ceo/founder',\n",
    "    'ceo/fundador': 'ceo/founder',\n",
    "    'commercial consultant': 'consultant',\n",
    "    'architect/consultant': 'consultant',\n",
    "    'architecture/consult': 'consultant',\n",
    "    'business unit director': 'director',\n",
    "    'no influence': 'none',\n",
    "    'not applicable': 'none',\n",
    "    'commercial end-user': 'end-user',\n",
    "    'exhibitiontv': 'exhibition',\n",
    "    'decision-influencer': 'decision influencer',\n",
    "    'sales': 'business development/sales',\n",
    "    'subsidiary sales (ise)': 'business development/sales',\n",
    "    'business development': 'business development/sales',\n",
    "    'medical device manufacturer': 'manufacturer',\n",
    "    'assistant professor of enlish': 'assistant professor',\n",
    "    'asst prof.': 'assistant professor',\n",
    "    'prof.': 'professor',\n",
    "    'professor of mathematics': 'professor',\n",
    "    'principal & director': 'director',\n",
    "    'others': 'other',\n",
    "    'decision-maker': 'decision maker',\n",
    "})\n",
    "\n",
    "df_test['customer_position'] = df_test['customer_position'].replace({\n",
    "    'vicepresident': 'vice president',\n",
    "    'vp': 'vice president',\n",
    "    'entrylevel': 'entry level',\n",
    "    'c-levelexecutive': 'c-level executive',\n",
    "    'founder': 'ceo/founder',\n",
    "    'ceo/fundador': 'ceo/founder',\n",
    "    'commercial consultant': 'consultant',\n",
    "    'architect/consultant': 'consultant',\n",
    "    'architecture/consult': 'consultant',\n",
    "    'business unit director': 'director',\n",
    "    'no influence': 'none',\n",
    "    'not applicable': 'none',\n",
    "    'commercial end-user': 'end-user',\n",
    "    'exhibitiontv': 'exhibition',\n",
    "    'decision-influencer': 'decision influencer',\n",
    "    'sales': 'business development/sales',\n",
    "    'subsidiary sales (ise)': 'business development/sales',\n",
    "    'business development': 'business development/sales',\n",
    "    'medical device manufacturer': 'manufacturer',\n",
    "    'assistant professor of enlish': 'assistant professor',\n",
    "    'asst prof.': 'assistant professor',\n",
    "    'prof.': 'professor',\n",
    "    'professor of mathematics': 'professor',\n",
    "    'principal & director': 'director',\n",
    "    'others': 'other'\n",
    "})"
   ]
  },
  {
   "cell_type": "markdown",
   "metadata": {},
   "source": [
    "특정 범주이하의 값에 대한 처리"
   ]
  },
  {
   "cell_type": "code",
   "execution_count": 37,
   "metadata": {},
   "outputs": [],
   "source": [
    "## train\n",
    "# 'inquiry_type' 열의 값별 개수 계산\n",
    "counts_train = df_train['customer_position'].value_counts()\n",
    "counts_test = df_test['customer_position'].value_counts()\n",
    "\n",
    "# 특정수 이하인 값들의 리스트로 만듬\n",
    "replace_train = counts_train[counts_train <= 40].index\n",
    "replace_test = counts_test[counts_test <= 2].index\n",
    "\n",
    "# 특정수 이하인 값들을 'other'로 업데이트\n",
    "df_train['customer_position'] = df_train['customer_position'].replace(replace_train, 'other')\n",
    "df_test['customer_position'] = df_test['customer_position'].replace(replace_test, 'other')"
   ]
  },
  {
   "cell_type": "markdown",
   "metadata": {},
   "source": [
    "### response_corporate 변수"
   ]
  },
  {
   "cell_type": "markdown",
   "metadata": {},
   "source": [
    "특정 범주이하 값 처리"
   ]
  },
  {
   "cell_type": "code",
   "execution_count": 38,
   "metadata": {},
   "outputs": [],
   "source": [
    "# 'response_corporate'의 빈도 계산\n",
    "counts_train = df_train['response_corporate'].value_counts()\n",
    "\n",
    "# 빈도가 특정수치 이하인 product_category 를 찾음\n",
    "find_count_train = counts_train[counts_train <= 5].index\n",
    "\n",
    "# 빈도가 특정수치 이하값 \n",
    "df_train.loc[df_train['response_corporate'].isin(find_count_train), 'response_corporate'] = 'other'"
   ]
  },
  {
   "cell_type": "markdown",
   "metadata": {},
   "source": [
    "train 데이터셋에 없는 값에 대한 처리"
   ]
  },
  {
   "cell_type": "code",
   "execution_count": 39,
   "metadata": {},
   "outputs": [],
   "source": [
    "# train 데이터셋에 없는 test 데이터셋에 대한 처리\n",
    "def replace_unknown_values(row, unique):\n",
    "    if row not in unique:\n",
    "        return 'other'\n",
    "    else:\n",
    "        return row\n",
    "\n",
    "unique_train_values = df_train['response_corporate'].unique()\n",
    "df_test['response_corporate'] = df_test['response_corporate'].apply(lambda x: replace_unknown_values(x, unique_train_values))"
   ]
  },
  {
   "cell_type": "markdown",
   "metadata": {},
   "source": [
    "### expected_timeline 변수"
   ]
  },
  {
   "cell_type": "markdown",
   "metadata": {},
   "source": [
    "'months' , 'year'를 포함하는 값을 추출  \n",
    "(이때 해당안되는 값에 대해서는 etc 값으로 변환)"
   ]
  },
  {
   "cell_type": "code",
   "execution_count": 40,
   "metadata": {},
   "outputs": [],
   "source": [
    "# 'months' , 'year' 포함하는 값 추출(아닌경우 'etc' 값으로 변환)\n",
    "df_train['expected_timeline'] = np.where(df_train['expected_timeline'].str.contains('months|year', na=False), df_train['expected_timeline'], 'etc.')\n",
    "df_test['expected_timeline'] = np.where(df_test['expected_timeline'].str.contains('months|year', na=False), df_test['expected_timeline'], 'etc.')"
   ]
  },
  {
   "cell_type": "markdown",
   "metadata": {},
   "source": [
    "추출한 값에 대해서 관련 값으로 변환"
   ]
  },
  {
   "cell_type": "code",
   "execution_count": 41,
   "metadata": {},
   "outputs": [],
   "source": [
    "df_train['expected_timeline'] = df_train['expected_timeline'].replace({\n",
    "    'less_than_3_months': 'less than 3 months',\n",
    "    '3_months_~_6_months': '3 months ~ 6 months',\n",
    "    '9_months_~_1_year': '9 months ~ 1 year',\n",
    "    'more_than_a_year': 'more than a year',\n",
    "    '6_months_~_9_months': '6 months ~ 9 months',\n",
    "    '9 months - 1 year': '9 months ~ 1 year',\n",
    "    'duplicate lead - il220100042906. less than 3 months': 'less than 3 months',\n",
    "    'less than 3 months ,meeting with the customer for the more details and tentative boq will ne 32 and 43': 'less than 3 months',\n",
    "\n",
    "    'less_than_3_months': 'less than 3 months',\n",
    "    'less than 3 months- outdoor led requiment': 'less than 3 months',\n",
    "    'need to discuss with client in next two months. they need to check the product and accridngly proceed for personal use.': 'less than 3 months',\n",
    "    'quotation sent – 75tr3dj , work in progress, he will buy after 2 months. he has not even seen the quote yet.': 'less than 3 months',\n",
    "    'quote shared with customer, he will confirm after 2 months. lead shared with partner.': 'less than 3 months',\n",
    "    'less than 3 months- outdoor led requiment': 'less than 3 months',\n",
    "    'less than 3 months. customer not answered . to call back': 'less than 3 months',\n",
    "\n",
    "    'purchase planning after 3 months': '3 months ~ 6 months',\n",
    "    'needs hotel tv after 4 months, will call us.': '3 months ~ 6 months',\n",
    "\n",
    "    'we are already in touch with this cutsomer from last 2 years, he has never purchased any product till date. i called him up twice but no reponse.' : 'etc.',\n",
    "    'very abrupt customer. said the inquiry was made months ago and was rude enough. closing in the system as the client behaviour has no scope to discuss on requirement. need marketing team to check if the case was received in dec or jan as per client.' : 'etc.',\n",
    "\n",
    "    # 아래 값들은 근사 기간으로 넣어줌\n",
    "    'more then 3 months': '3 months ~ 6 months',\n",
    "    'less than 5 months': '3 months ~ 6 months',\n",
    "    'less than 6 months': '3 months ~ 6 months',\n",
    "    'less then 6 months': '3 months ~ 6 months',\n",
    "    '3 months': '3 months ~ 6 months',\n",
    "    '4/8 months': '3 months ~ 6 months',\n",
    "\n",
    "})\n",
    "df_test['customer_position'] = df_test['customer_position'].replace({\n",
    "    'less_than_3_months': 'less than 3 months',\n",
    "    '3_months_~_6_months': '3 months ~ 6 months',\n",
    "    '9_months_~_1_year': '9 months ~ 1 year',\n",
    "    'more_than_a_year': 'more than a year',\n",
    "    '6_months_~_9_months': '6 months ~ 9 months'\n",
    "})\n"
   ]
  },
  {
   "cell_type": "markdown",
   "metadata": {},
   "source": [
    "### ver_cus, ver_pro 변수"
   ]
  },
  {
   "cell_type": "markdown",
   "metadata": {},
   "source": [
    "따로처리할 부분 없음"
   ]
  },
  {
   "cell_type": "markdown",
   "metadata": {},
   "source": [
    "### ver_win_rate_x 변수"
   ]
  },
  {
   "cell_type": "markdown",
   "metadata": {},
   "source": [
    "결측값 대체"
   ]
  },
  {
   "cell_type": "code",
   "execution_count": 42,
   "metadata": {},
   "outputs": [],
   "source": [
    "# 'ver_win_rate_x' 변수에서 NaN 값을 0으로 대체\n",
    "df_train['ver_win_rate_x'] = df_train['ver_win_rate_x'].fillna(0)\n",
    "df_test['ver_win_rate_x'] = df_test['ver_win_rate_x'].fillna(0)"
   ]
  },
  {
   "cell_type": "markdown",
   "metadata": {},
   "source": [
    "### ver_win_ratio_per_bu 변수"
   ]
  },
  {
   "cell_type": "markdown",
   "metadata": {},
   "source": [
    "business_area, business_unit 의 변수로 그룹화 진행  \n",
    "해당하는 그룹에서 'ver_win_ratio_per_bu' 의 결측값에 대한 예측"
   ]
  },
  {
   "cell_type": "code",
   "execution_count": 43,
   "metadata": {},
   "outputs": [],
   "source": [
    "grouped = df_train.groupby([\"business_area\",\"business_unit\"])\n",
    "\n",
    "# business_area, business_unit 그룹화하여 샘플 수 계산\n",
    "grouped_counts = df_train.groupby(['business_area', 'business_unit']).size()\n",
    "\n",
    "# business_area, business_unit, is_converted 그룹화하여 영업 전환된(is_converted) 샘플 수 계산\n",
    "converted_counts = df_train[df_train['is_converted']].groupby(['business_area', 'business_unit']).size()\n",
    "\n",
    "# business_area, business_unit별 샘플 수 대비 영업 전환된(is_converted) 샘플 수의 비율 계산\n",
    "conversion_rates = converted_counts / grouped_counts"
   ]
  },
  {
   "cell_type": "markdown",
   "metadata": {},
   "source": [
    "위의 코드를 통해 구한 값에 대해서 해당하는 부분의 값이 결측값인 경우 값대체"
   ]
  },
  {
   "cell_type": "code",
   "execution_count": 44,
   "metadata": {},
   "outputs": [],
   "source": [
    "# 그룹별 값을 딕셔너리로 정의\n",
    "group_values = {\n",
    "    ('corporate / office', 'AS'): 0.029734,\n",
    "    ('corporate / office', 'ID'): 0.088618,\n",
    "    ('corporate / office', 'IT'): 0.033333,\n",
    "    ('corporate / office', 'Solution'): 0.034483,\n",
    "    ('education', 'AS'): 0.066667,\n",
    "    ('education', 'ID'): 0.064897,\n",
    "    ('education', 'IT'): 0.046667,\n",
    "    ('education', 'Solution'): None,\n",
    "    ('factory', 'AS'): 0.059553,\n",
    "    ('factory', 'ID'): 0.068519,\n",
    "    ('factory', 'IT'): 0.337349,\n",
    "    ('factory', 'Solution'): None,\n",
    "    ('government department', 'AS'): 0.040462,\n",
    "    ('government department', 'ID'): 0.076010,\n",
    "    ('government department', 'IT'): None,\n",
    "    ('government department', 'Solution'): None,\n",
    "    ('hospital & health care', 'AS'): 0.096154,\n",
    "    ('hospital & health care', 'ID'): 0.128378,\n",
    "    ('hospital & health care', 'IT'): 0.378771,\n",
    "    ('hotel & accommodation', 'AS'): 0.004831,\n",
    "    ('hotel & accommodation', 'ID'): 0.118902,\n",
    "    ('hotel & accommodation', 'IT'): 0.002528,\n",
    "    ('hotel & accommodation', 'Solution'): None,\n",
    "    ('power plant / renewable energy', 'AS'): 0.129032,\n",
    "    ('power plant / renewable energy', 'ID'): 0.279070,\n",
    "    ('power plant / renewable energy', 'IT'): None,\n",
    "    ('public facility', 'AS'): 0.030000,\n",
    "    ('public facility', 'ID'): 0.099631,\n",
    "    ('public facility', 'IT'): 0.025000,\n",
    "    ('public facility', 'Solution'): None,\n",
    "    ('residential (home)', 'AS'): 0.017582,\n",
    "    ('residential (home)', 'ID'): 0.038961,\n",
    "    ('residential (home)', 'IT'): 0.142857,\n",
    "    ('residential (home)', 'Solution'): None,\n",
    "    ('retail', 'AS'): 0.026650,\n",
    "    ('retail', 'ID'): 0.061637,\n",
    "    ('retail', 'IT'): 0.073620,\n",
    "    ('retail', 'Solution'): None,\n",
    "    ('special purpose', 'AS'): 0.028050,\n",
    "    ('special purpose', 'ID'): 0.070698,\n",
    "    ('special purpose', 'IT'): 0.046296,\n",
    "    ('special purpose', 'Solution'): None,\n",
    "    ('transportation', 'AS'): 0.037736,\n",
    "    ('transportation', 'ID'): 0.064815,\n",
    "    ('transportation', 'IT'): 0.060606,\n",
    "    ('transportation', 'Solution'): None,\n",
    "}\n",
    "\n",
    "# 'business_area'와 'business_unit'에 해당하는 그룹별 값을 'ver_win_ratio_per_bu' 변수에 적용\n",
    "df_train['ver_win_ratio_per_bu'] = df_train.apply(lambda row: group_values.get((row['business_area'], row['business_unit'])), axis=1)\n",
    "df_test['ver_win_ratio_per_bu'] = df_test.apply(lambda row: group_values.get((row['business_area'], row['business_unit'])), axis=1)"
   ]
  },
  {
   "cell_type": "markdown",
   "metadata": {},
   "source": [
    "결측값 대체"
   ]
  },
  {
   "cell_type": "code",
   "execution_count": 45,
   "metadata": {},
   "outputs": [],
   "source": [
    "# 결측값 0값으로 대체\n",
    "df_train['ver_win_ratio_per_bu'].fillna(0, inplace=True)\n",
    "df_test['ver_win_ratio_per_bu'].fillna(0, inplace=True)"
   ]
  },
  {
   "cell_type": "markdown",
   "metadata": {},
   "source": [
    "### business_area, business_subarea 변수"
   ]
  },
  {
   "cell_type": "markdown",
   "metadata": {},
   "source": [
    "결측값 대체"
   ]
  },
  {
   "cell_type": "code",
   "execution_count": 46,
   "metadata": {},
   "outputs": [],
   "source": [
    "# 결측값 'unknown' 값으로 대체\n",
    "df_train['business_area'].fillna('unknown', inplace=True)\n",
    "df_test['business_area'].fillna('unknown', inplace=True)\n",
    "\n",
    "# 결측값 'Unknown' 값으로 대체\n",
    "df_train['business_subarea'].fillna('Unknown', inplace=True)\n",
    "df_test['business_subarea'].fillna('Unknown', inplace=True)"
   ]
  },
  {
   "cell_type": "markdown",
   "metadata": {},
   "source": [
    "### lead_owner 변수"
   ]
  },
  {
   "cell_type": "markdown",
   "metadata": {},
   "source": [
    "특정 빈도수 이하 값에 대한 처리"
   ]
  },
  {
   "cell_type": "code",
   "execution_count": 47,
   "metadata": {},
   "outputs": [],
   "source": [
    "# 'lead_owner'의 빈도 계산\n",
    "counts_train = df_train['lead_owner'].value_counts()\n",
    "\n",
    "# 빈도가 특정수치 이하인 lead_owner 를 찾음\n",
    "find_count_train = counts_train[counts_train <= 10].index\n",
    "\n",
    "# 빈도가 특정수치 이하값 \n",
    "df_train.loc[df_train['lead_owner'].isin(find_count_train), 'lead_owner'] = -1"
   ]
  },
  {
   "cell_type": "markdown",
   "metadata": {},
   "source": [
    "결측값 대체"
   ]
  },
  {
   "cell_type": "code",
   "execution_count": 48,
   "metadata": {},
   "outputs": [],
   "source": [
    "# train 데이터셋에 없는 test 데이터셋에 대한 처리\n",
    "def replace_unknown_values(row, unique):\n",
    "    if row not in unique:\n",
    "        return -1\n",
    "    else:\n",
    "        return row\n",
    "\n",
    "unique_train_values = df_train['lead_owner'].unique()\n",
    "df_test['lead_owner'] = df_test['lead_owner'].apply(lambda x: replace_unknown_values(x, unique_train_values))"
   ]
  },
  {
   "cell_type": "markdown",
   "metadata": {},
   "source": [
    "lead_owner에 대하여 카테고리화하여 is_converted의 비율을 계산  \n",
    "계산한 값에대해서 특정 비율에 해당하는 값에대해서 범주화 진행"
   ]
  },
  {
   "cell_type": "code",
   "execution_count": 49,
   "metadata": {},
   "outputs": [],
   "source": [
    "# 'customer_idx' 카테고리별로 'is_converted'의 평균과 갯수를 계산\n",
    "owner_target = df_train.groupby('lead_owner')['is_converted'].agg(['mean', 'count']).sort_values(by='mean', ascending=False)\n",
    "\n",
    "# 'mean' 값이 특정 값보다 크면 1, 아니면 0을 부여\n",
    "owner_target['label_09'] = (owner_target['mean'] > 0.9).astype(int)\n",
    "owner_target['label_07'] = ((0.9 >= owner_target['mean']) & (owner_target['mean'] > 0.7)).astype(int)\n",
    "owner_target['label_05'] = ((0.7 >= owner_target['mean']) & (owner_target['mean'] > 0.5)).astype(int)\n",
    "owner_target['label_03'] = ((0.5 >= owner_target['mean']) & (owner_target['mean'] > 0.3)).astype(int)\n",
    "owner_target['label_00'] = ((0.001 >= owner_target['mean']) & (owner_target['count'] <= 100)).astype(int)\n",
    "\n",
    "\n",
    "# 'owner_target'를 기준으로 'label' 값을 매핑\n",
    "label_map_09 = owner_target['label_09'].to_dict()\n",
    "label_map_07 = owner_target['label_07'].to_dict()\n",
    "label_map_05 = owner_target['label_05'].to_dict()\n",
    "label_map_03 = owner_target['label_03'].to_dict()\n",
    "label_map_00 = owner_target['label_00'].to_dict()\n",
    "\n",
    "\n",
    "# 'lead_owner' 열을 업데이트\n",
    "df_train['lead_owner_09'] = df_train['lead_owner'].map(label_map_09)\n",
    "df_train['lead_owner_07'] = df_train['lead_owner'].map(label_map_07)\n",
    "df_train['lead_owner_05'] = df_train['lead_owner'].map(label_map_05)\n",
    "df_train['lead_owner_03'] = df_train['lead_owner'].map(label_map_03)\n",
    "df_train['lead_owner_00'] = df_train['lead_owner'].map(label_map_00)\n",
    "\n",
    "df_test['lead_owner_09'] = df_test['lead_owner'].map(label_map_09)\n",
    "df_test['lead_owner_07'] = df_test['lead_owner'].map(label_map_07)\n",
    "df_test['lead_owner_05'] = df_test['lead_owner'].map(label_map_05)\n",
    "df_test['lead_owner_03'] = df_test['lead_owner'].map(label_map_03)\n",
    "df_test['lead_owner_00'] = df_test['lead_owner'].map(label_map_00)"
   ]
  },
  {
   "cell_type": "markdown",
   "metadata": {},
   "source": [
    "## 3. 레이블 인코딩"
   ]
  },
  {
   "cell_type": "code",
   "execution_count": 50,
   "metadata": {},
   "outputs": [],
   "source": [
    "# 인코딩할 컬럼 목록\n",
    "columns_to_encode = [\"customer_country\",\n",
    "                     \"business_subarea\",\n",
    "                     \"business_area\",\n",
    "                     \"business_unit\",\n",
    "                     \"customer_type\",\n",
    "                     \"enterprise\",\n",
    "                     \"customer_job\",\n",
    "                     \"inquiry_type\",\n",
    "                     \"product_category\",\n",
    "                     \"product_subcategory\",\n",
    "                     \"product_modelname\",\n",
    "                     \"customer_country.1\",\n",
    "                     \"customer_position\",\n",
    "                     \"response_corporate\",\n",
    "                     \"expected_timeline\",\n",
    "                     \"customer_idx\",\n",
    "                     \"lead_owner\"\n",
    "                     ]\n",
    "\n",
    "df_train_encoded = df_train.copy()\n",
    "df_test_encoded = df_test.copy()\n",
    "\n",
    "for col in columns_to_encode:\n",
    "    df_train_encoded[col] = df_train_encoded[col].astype('category')\n",
    "    df_test_encoded[col] = df_test_encoded[col].astype('category')"
   ]
  },
  {
   "cell_type": "markdown",
   "metadata": {},
   "source": [
    "타겟인코딩을 통해 범주형 변수들 수치형으로 변환"
   ]
  },
  {
   "cell_type": "code",
   "execution_count": 51,
   "metadata": {},
   "outputs": [],
   "source": [
    "from category_encoders import TargetEncoder\n",
    "\n",
    "smoothing1_list = ['enterprise','response_corporate','business_unit','business_area', 'customer_country.1']\n",
    "smoothing2_list = ['lead_owner', 'customer_idx', 'customer_country']\n",
    "smoothing3_list = [item for item in columns_to_encode if item not in smoothing1_list + smoothing2_list]\n",
    "\n",
    "for col in smoothing1_list:\n",
    "    encoders = {col: TargetEncoder(smoothing=1) for col in smoothing1_list}\n",
    "    df_train_encoded[col] = encoders[col].fit_transform(df_train_encoded[col], df_train['is_converted'])\n",
    "    df_test_encoded[col] = encoders[col].transform(df_test_encoded[col])\n",
    "\n",
    "for col in smoothing2_list:\n",
    "    encoders = {col: TargetEncoder(smoothing=5) for col in smoothing2_list}\n",
    "    df_train_encoded[col] = encoders[col].fit_transform(df_train_encoded[col], df_train['is_converted'])\n",
    "    df_test_encoded[col] = encoders[col].transform(df_test_encoded[col])\n",
    "\n",
    "for col in smoothing3_list:\n",
    "    encoders = {col: TargetEncoder(smoothing=10) for col in smoothing3_list}\n",
    "    df_train_encoded[col] = encoders[col].fit_transform(df_train_encoded[col], df_train['is_converted'])\n",
    "    df_test_encoded[col] = encoders[col].transform(df_test_encoded[col])\n"
   ]
  },
  {
   "cell_type": "markdown",
   "metadata": {},
   "source": [
    "### com_reg_ver_win_rate 변수"
   ]
  },
  {
   "cell_type": "markdown",
   "metadata": {},
   "source": [
    "범주형 데이터에 대해서 수치형으로 변환을 함  \n",
    "이에 com_reg_ver_win_rate 결측값에 대한 예측이 가능해짐"
   ]
  },
  {
   "cell_type": "markdown",
   "metadata": {},
   "source": [
    "랜덤포레스트의 회귀모델을 이용하여 결측값을 예측하여 결측값 대체"
   ]
  },
  {
   "cell_type": "code",
   "execution_count": 52,
   "metadata": {},
   "outputs": [],
   "source": [
    "from sklearn.ensemble import RandomForestRegressor\n",
    "\n",
    "def fill_missing_values(df):\n",
    "    # 데이터에서 결측치가 없는 행과 결측치가 있는 행 분리\n",
    "    train_data = df[df['com_reg_ver_win_rate'].notna()]\n",
    "    test_data = df[df['com_reg_ver_win_rate'].isna()]\n",
    "\n",
    "    # 'com_reg_ver_win_rate'를 예측하는 데 사용할 피처 선택\n",
    "    features = ['business_area', 'business_unit', 'customer_country.1']   \n",
    "\n",
    "    # 훈련 데이터와 테스트 데이터 준비\n",
    "    X_train = train_data[features]\n",
    "    y_train = train_data['com_reg_ver_win_rate']\n",
    "    X_test = test_data[features]\n",
    "\n",
    "    # 랜덤 포레스트 모델 생성 및 훈련\n",
    "    model = RandomForestRegressor(random_state=0)\n",
    "    model.fit(X_train, y_train)\n",
    "\n",
    "    # 모델을 사용해 결측치 예측\n",
    "    predicted_values = model.predict(X_test)\n",
    "\n",
    "    # 예측값으로 결측치 대체\n",
    "    df.loc[df['com_reg_ver_win_rate'].isna(), 'com_reg_ver_win_rate'] = predicted_values\n",
    "\n",
    "\n",
    "# df_train_encoded에 대한 데이터 처리\n",
    "fill_missing_values(df_train_encoded)\n",
    "\n",
    "# df_test_encoded에 대한 데이터 처리\n",
    "fill_missing_values(df_test_encoded)"
   ]
  },
  {
   "cell_type": "markdown",
   "metadata": {},
   "source": [
    "상관관계와 다중공산성을 판단하여 결측값이 많은 product_modelname 변수와  \n",
    "의미없는 변수라고 생각되는 customer_country 변수에 대해서 drop을 진행"
   ]
  },
  {
   "cell_type": "code",
   "execution_count": 53,
   "metadata": {},
   "outputs": [],
   "source": [
    "df_train_encoded = df_train_encoded.drop(['customer_country','product_modelname'], axis=1)\n",
    "df_test_encoded = df_test_encoded.drop(['customer_country','product_modelname'], axis=1) "
   ]
  },
  {
   "cell_type": "code",
   "execution_count": 54,
   "metadata": {},
   "outputs": [
    {
     "name": "stdout",
     "output_type": "stream",
     "text": [
      "<class 'pandas.core.frame.DataFrame'>\n",
      "RangeIndex: 59299 entries, 0 to 59298\n",
      "Data columns (total 34 columns):\n",
      " #   Column                   Non-Null Count  Dtype  \n",
      "---  ------                   --------------  -----  \n",
      " 0   bant_submit              59299 non-null  float64\n",
      " 1   business_unit            59299 non-null  float64\n",
      " 2   com_reg_ver_win_rate     59299 non-null  float64\n",
      " 3   customer_idx             59299 non-null  float64\n",
      " 4   customer_type            59299 non-null  float64\n",
      " 5   enterprise               59299 non-null  float64\n",
      " 6   historical_existing_cnt  59299 non-null  float64\n",
      " 7   id_strategic_ver         59299 non-null  float64\n",
      " 8   it_strategic_ver         59299 non-null  float64\n",
      " 9   idit_strategic_ver       59299 non-null  float64\n",
      " 10  customer_job             59299 non-null  float64\n",
      " 11  lead_desc_length         59299 non-null  float64\n",
      " 12  inquiry_type             59299 non-null  float64\n",
      " 13  product_category         59299 non-null  float64\n",
      " 14  product_subcategory      59299 non-null  float64\n",
      " 15  customer_country.1       59299 non-null  float64\n",
      " 16  customer_position        59299 non-null  float64\n",
      " 17  response_corporate       59299 non-null  float64\n",
      " 18  expected_timeline        59299 non-null  float64\n",
      " 19  ver_cus                  59299 non-null  int64  \n",
      " 20  ver_pro                  59299 non-null  int64  \n",
      " 21  ver_win_rate_x           59299 non-null  float64\n",
      " 22  ver_win_ratio_per_bu     59299 non-null  float64\n",
      " 23  business_area            59299 non-null  float64\n",
      " 24  business_subarea         59299 non-null  float64\n",
      " 25  lead_owner               59299 non-null  float64\n",
      " 26  is_converted             59299 non-null  bool   \n",
      " 27  customer_idx_99          59299 non-null  int64  \n",
      " 28  customer_idx_001         59299 non-null  int64  \n",
      " 29  lead_owner_09            59299 non-null  int64  \n",
      " 30  lead_owner_07            59299 non-null  int64  \n",
      " 31  lead_owner_05            59299 non-null  int64  \n",
      " 32  lead_owner_03            59299 non-null  int64  \n",
      " 33  lead_owner_00            59299 non-null  int64  \n",
      "dtypes: bool(1), float64(24), int64(9)\n",
      "memory usage: 15.0 MB\n"
     ]
    }
   ],
   "source": [
    "df_train_encoded.info()"
   ]
  },
  {
   "cell_type": "markdown",
   "metadata": {},
   "source": [
    "## 4. 모델링"
   ]
  },
  {
   "cell_type": "markdown",
   "metadata": {},
   "source": [
    "### 오버샘플링 및 언더샘플링"
   ]
  },
  {
   "cell_type": "markdown",
   "metadata": {},
   "source": [
    "타겟변수에 대한 값을 변환  \n",
    "(데이터의 오버샘플링과 언더샘플링을 적용하기 위함)"
   ]
  },
  {
   "cell_type": "code",
   "execution_count": 55,
   "metadata": {},
   "outputs": [],
   "source": [
    "from sklearn.model_selection import train_test_split\n",
    "\n",
    "# 타겟변수에 대한 값 변환\n",
    "df_train_encoded.loc[df_train_encoded['is_converted'] == True, 'is_converted'] = 1\n",
    "df_train_encoded.loc[df_train_encoded['is_converted'] == False, 'is_converted'] = 0\n",
    "\n",
    "df_train_encoded['is_converted'] = df_train_encoded['is_converted'].astype(float)\n",
    "\n",
    "X = df_train_encoded[df_train_encoded.columns.drop('is_converted')]\n",
    "Y = df_train_encoded['is_converted']\n",
    "\n",
    "# X와 Y로 나누기\n",
    "x_train, x_val, y_train, y_val = train_test_split(X, Y, test_size=0.2, random_state=0, shuffle=True)\n",
    "\n",
    "# 예측에 필요한 데이터 분리\n",
    "x_test = df_test_encoded.drop([\"is_converted\"], axis=1)"
   ]
  },
  {
   "cell_type": "code",
   "execution_count": 56,
   "metadata": {},
   "outputs": [],
   "source": [
    "from imblearn.over_sampling import SMOTE\n",
    "from imblearn.under_sampling import RandomUnderSampler\n",
    "from imblearn.pipeline import Pipeline\n",
    "\n",
    "# 오버샘플링과 언더샘플링\n",
    "# SMOTE와 RandomUnderSampler를 파이프라인으로 결합\n",
    "resample = Pipeline([('SMOTE', SMOTE(random_state=0)), \n",
    "                     ('RandomUnderSampler', RandomUnderSampler(random_state=0))])\n",
    "\n",
    "# 데이터에 오버샘플링과 언더샘플링 적용\n",
    "x_train, y_train = resample.fit_resample(x_train, y_train)"
   ]
  },
  {
   "cell_type": "markdown",
   "metadata": {},
   "source": [
    "### 모델 라이브러리"
   ]
  },
  {
   "cell_type": "code",
   "execution_count": 57,
   "metadata": {},
   "outputs": [],
   "source": [
    "# 모델 라이브러리\n",
    "from lightgbm import LGBMClassifier\n",
    "from catboost import CatBoostClassifier\n",
    "from xgboost import XGBClassifier\n",
    "from sklearn.tree import DecisionTreeClassifier\n",
    "from sklearn.ensemble import RandomForestClassifier, ExtraTreesClassifier, GradientBoostingClassifier, AdaBoostClassifier\n",
    "\n",
    "# 보팅\n",
    "from sklearn.ensemble import VotingClassifier\n",
    "\n",
    "# 스테킹\n",
    "from sklearn.ensemble import StackingClassifier"
   ]
  },
  {
   "cell_type": "markdown",
   "metadata": {},
   "source": [
    "### 모델 성능확인"
   ]
  },
  {
   "cell_type": "code",
   "execution_count": 58,
   "metadata": {},
   "outputs": [],
   "source": [
    "from sklearn.metrics import (\n",
    "    accuracy_score,\n",
    "    confusion_matrix,\n",
    "    f1_score,\n",
    "    precision_score,\n",
    "    recall_score,\n",
    ")\n",
    "\n",
    "def get_clf_eval(y_test, y_pred=None):\n",
    "    confusion = confusion_matrix(y_test, y_pred, labels=[True, False])\n",
    "    accuracy = accuracy_score(y_test, y_pred)\n",
    "    precision = precision_score(y_test, y_pred, labels=[True, False])\n",
    "    recall = recall_score(y_test, y_pred)\n",
    "    F1 = f1_score(y_test, y_pred, labels=[True, False])\n",
    "    weighted_F1 = f1_score(y_test, y_pred, average='weighted')\n",
    "\n",
    "    metrics = pd.DataFrame({\n",
    "        '정확도': [accuracy],\n",
    "        '정밀도': [precision],\n",
    "        '재현율': [recall],\n",
    "        'F1 Score': [F1],\n",
    "        'Weighted F1': [weighted_F1]\n",
    "    })\n",
    "\n",
    "    confusion_df = pd.DataFrame(confusion, index=['True', 'False'], columns=['True', 'False'])\n",
    "\n",
    "    print(\"\\n오차행렬:\")\n",
    "    display(confusion_df)\n",
    "    print(\"평가 지표:\")\n",
    "    display(metrics)"
   ]
  },
  {
   "cell_type": "markdown",
   "metadata": {},
   "source": [
    "### 모델 정의"
   ]
  },
  {
   "cell_type": "markdown",
   "metadata": {},
   "source": [
    "Optuna를 이용하여 파라미터를 구함"
   ]
  },
  {
   "cell_type": "code",
   "execution_count": 59,
   "metadata": {},
   "outputs": [
    {
     "name": "stderr",
     "output_type": "stream",
     "text": [
      "[I 2024-02-24 12:50:17,822] A new study created in memory with name: no-name-82ee072e-91cf-4479-82d0-ea38857db68d\n",
      "[I 2024-02-24 12:51:56,763] Trial 0 finished with value: 0.8308934881373045 and parameters: {'iterations': 484, 'depth': 12, 'learning_rate': 0.12452504145361233, 'l2_leaf_reg': 0.4311710058685491, 'border_count': 198}. Best is trial 0 with value: 0.8308934881373045.\n",
      "[I 2024-02-24 12:52:09,018] Trial 1 finished with value: 0.8242424242424243 and parameters: {'iterations': 552, 'depth': 8, 'learning_rate': 0.17943687014859516, 'l2_leaf_reg': 7.780155576901417, 'border_count': 184}. Best is trial 0 with value: 0.8308934881373045.\n",
      "[I 2024-02-24 12:52:24,078] Trial 2 finished with value: 0.8287013643254169 and parameters: {'iterations': 654, 'depth': 9, 'learning_rate': 0.11792846660784713, 'l2_leaf_reg': 5.981221901152554, 'border_count': 74}. Best is trial 0 with value: 0.8308934881373045.\n",
      "[I 2024-02-24 12:52:25,648] Trial 3 finished with value: 0.7608994951812759 and parameters: {'iterations': 161, 'depth': 2, 'learning_rate': 0.16819777065410824, 'l2_leaf_reg': 2.1600820741402047, 'border_count': 355}. Best is trial 0 with value: 0.8308934881373045.\n",
      "[I 2024-02-24 12:55:16,570] Trial 4 finished with value: 0.8271356783919599 and parameters: {'iterations': 786, 'depth': 13, 'learning_rate': 0.09768107882805704, 'l2_leaf_reg': 2.195773446539456, 'border_count': 91}. Best is trial 0 with value: 0.8308934881373045.\n",
      "[I 2024-02-24 12:55:23,833] Trial 5 finished with value: 0.8116658428077114 and parameters: {'iterations': 548, 'depth': 4, 'learning_rate': 0.18948709423942095, 'l2_leaf_reg': 0.36774346621052145, 'border_count': 195}. Best is trial 0 with value: 0.8308934881373045.\n",
      "[I 2024-02-24 12:56:22,336] Trial 6 finished with value: 0.8314833501513622 and parameters: {'iterations': 285, 'depth': 13, 'learning_rate': 0.09666856312114422, 'l2_leaf_reg': 0.5073432032394334, 'border_count': 56}. Best is trial 6 with value: 0.8314833501513622.\n",
      "[I 2024-02-24 12:57:36,893] Trial 7 finished with value: 0.8242971887550201 and parameters: {'iterations': 532, 'depth': 11, 'learning_rate': 0.12721745940620383, 'l2_leaf_reg': 6.780227021579833, 'border_count': 289}. Best is trial 6 with value: 0.8314833501513622.\n",
      "[I 2024-02-24 12:57:46,559] Trial 8 finished with value: 0.8349318525996973 and parameters: {'iterations': 352, 'depth': 8, 'learning_rate': 0.14254992722618035, 'l2_leaf_reg': 0.015159204611384718, 'border_count': 284}. Best is trial 8 with value: 0.8349318525996973.\n",
      "[I 2024-02-24 12:57:54,998] Trial 9 finished with value: 0.8009501187648457 and parameters: {'iterations': 570, 'depth': 5, 'learning_rate': 0.03449599655442213, 'l2_leaf_reg': 0.08836597074694356, 'border_count': 177}. Best is trial 8 with value: 0.8349318525996973.\n",
      "[I 2024-02-24 13:28:00,972] Trial 10 finished with value: 0.8200192492781522 and parameters: {'iterations': 316, 'depth': 16, 'learning_rate': 0.013946078605717324, 'l2_leaf_reg': 0.011485172688183689, 'border_count': 383}. Best is trial 8 with value: 0.8349318525996973.\n",
      "[I 2024-02-24 13:32:35,096] Trial 11 finished with value: 0.8200501253132833 and parameters: {'iterations': 282, 'depth': 14, 'learning_rate': 0.07781936576268399, 'l2_leaf_reg': 0.06714003493277598, 'border_count': 272}. Best is trial 8 with value: 0.8349318525996973.\n",
      "[I 2024-02-24 13:32:42,812] Trial 12 finished with value: 0.823943661971831 and parameters: {'iterations': 346, 'depth': 7, 'learning_rate': 0.15048500119594396, 'l2_leaf_reg': 0.01609601036007206, 'border_count': 286}. Best is trial 8 with value: 0.8349318525996973.\n",
      "[I 2024-02-24 13:32:47,886] Trial 13 finished with value: 0.7981176470588235 and parameters: {'iterations': 100, 'depth': 10, 'learning_rate': 0.07217612466014418, 'l2_leaf_reg': 0.10503533449916409, 'border_count': 124}. Best is trial 8 with value: 0.8349318525996973.\n",
      "[I 2024-02-24 14:01:11,753] Trial 14 finished with value: 0.8304914744232699 and parameters: {'iterations': 389, 'depth': 16, 'learning_rate': 0.14836518917004188, 'l2_leaf_reg': 0.8430117343579698, 'border_count': 324}. Best is trial 8 with value: 0.8349318525996973.\n",
      "[I 2024-02-24 14:01:17,204] Trial 15 finished with value: 0.8107331097268807 and parameters: {'iterations': 231, 'depth': 6, 'learning_rate': 0.08681692460832234, 'l2_leaf_reg': 0.03370063199157322, 'border_count': 236}. Best is trial 8 with value: 0.8349318525996973.\n",
      "[I 2024-02-24 14:05:30,604] Trial 16 finished with value: 0.823943661971831 and parameters: {'iterations': 405, 'depth': 14, 'learning_rate': 0.06042809833168181, 'l2_leaf_reg': 0.14540303810067215, 'border_count': 131}. Best is trial 8 with value: 0.8349318525996973.\n",
      "[I 2024-02-24 14:05:45,825] Trial 17 finished with value: 0.8263052208835342 and parameters: {'iterations': 214, 'depth': 10, 'learning_rate': 0.1473149219709095, 'l2_leaf_reg': 0.9568957680561907, 'border_count': 242}. Best is trial 8 with value: 0.8349318525996973.\n",
      "[I 2024-02-24 14:05:55,524] Trial 18 finished with value: 0.8279022403258656 and parameters: {'iterations': 446, 'depth': 8, 'learning_rate': 0.1068553517363531, 'l2_leaf_reg': 0.033506908181818326, 'border_count': 51}. Best is trial 8 with value: 0.8349318525996973.\n",
      "[I 2024-02-24 14:07:21,413] Trial 19 finished with value: 0.8303030303030302 and parameters: {'iterations': 274, 'depth': 12, 'learning_rate': 0.13640594227453962, 'l2_leaf_reg': 0.1617667041204471, 'border_count': 326}. Best is trial 8 with value: 0.8349318525996973.\n",
      "[I 2024-02-24 14:07:24,171] Trial 20 finished with value: 0.7563825183903072 and parameters: {'iterations': 179, 'depth': 3, 'learning_rate': 0.04776590346741771, 'l2_leaf_reg': 0.2473275350843466, 'border_count': 399}. Best is trial 8 with value: 0.8349318525996973.\n",
      "[I 2024-02-24 14:08:40,865] Trial 21 finished with value: 0.8269913749365805 and parameters: {'iterations': 473, 'depth': 12, 'learning_rate': 0.10987715127673497, 'l2_leaf_reg': 0.5911183372994865, 'border_count': 124}. Best is trial 8 with value: 0.8349318525996973.\n",
      "[I 2024-02-24 14:13:11,090] Trial 22 finished with value: 0.8278976417461114 and parameters: {'iterations': 362, 'depth': 14, 'learning_rate': 0.12870001114466606, 'l2_leaf_reg': 0.3656339327356631, 'border_count': 204}. Best is trial 8 with value: 0.8349318525996973.\n",
      "[I 2024-02-24 14:14:16,619] Trial 23 finished with value: 0.830226700251889 and parameters: {'iterations': 651, 'depth': 11, 'learning_rate': 0.09199878518112088, 'l2_leaf_reg': 1.8145265533030295, 'border_count': 153}. Best is trial 8 with value: 0.8349318525996973.\n",
      "[I 2024-02-24 14:14:36,476] Trial 24 finished with value: 0.8297119757453258 and parameters: {'iterations': 478, 'depth': 9, 'learning_rate': 0.16555757448559147, 'l2_leaf_reg': 0.04662061082201064, 'border_count': 243}. Best is trial 8 with value: 0.8349318525996973.\n",
      "[I 2024-02-24 14:18:42,842] Trial 25 finished with value: 0.8279678068410464 and parameters: {'iterations': 427, 'depth': 13, 'learning_rate': 0.12020158148245974, 'l2_leaf_reg': 0.5586945149372302, 'border_count': 320}. Best is trial 8 with value: 0.8349318525996973.\n",
      "[I 2024-02-24 14:26:51,852] Trial 26 finished with value: 0.8234117058529264 and parameters: {'iterations': 268, 'depth': 15, 'learning_rate': 0.19863398181094719, 'l2_leaf_reg': 0.21743022230594816, 'border_count': 262}. Best is trial 8 with value: 0.8349318525996973.\n",
      "[I 2024-02-24 14:27:34,829] Trial 27 finished with value: 0.8251256281407036 and parameters: {'iterations': 330, 'depth': 11, 'learning_rate': 0.13918105942647388, 'l2_leaf_reg': 1.4131639094419597, 'border_count': 214}. Best is trial 8 with value: 0.8349318525996973.\n",
      "[I 2024-02-24 14:27:46,071] Trial 28 finished with value: 0.8229376257545271 and parameters: {'iterations': 502, 'depth': 7, 'learning_rate': 0.10522263666517585, 'l2_leaf_reg': 0.5027391940288384, 'border_count': 95}. Best is trial 8 with value: 0.8349318525996973.\n",
      "[I 2024-02-24 14:28:06,255] Trial 29 finished with value: 0.8333333333333334 and parameters: {'iterations': 598, 'depth': 9, 'learning_rate': 0.16780412883695595, 'l2_leaf_reg': 0.02315938925894673, 'border_count': 171}. Best is trial 8 with value: 0.8349318525996973.\n",
      "[I 2024-02-24 14:28:27,073] Trial 30 finished with value: 0.8374936321956189 and parameters: {'iterations': 628, 'depth': 9, 'learning_rate': 0.15969576473215213, 'l2_leaf_reg': 0.02016777824287572, 'border_count': 160}. Best is trial 30 with value: 0.8374936321956189.\n",
      "[I 2024-02-24 14:28:47,884] Trial 31 finished with value: 0.8383172833248859 and parameters: {'iterations': 650, 'depth': 9, 'learning_rate': 0.1628656915939138, 'l2_leaf_reg': 0.020222100142839153, 'border_count': 152}. Best is trial 31 with value: 0.8383172833248859.\n",
      "[I 2024-02-24 14:29:04,382] Trial 32 finished with value: 0.8385786802030457 and parameters: {'iterations': 627, 'depth': 8, 'learning_rate': 0.16672163155553238, 'l2_leaf_reg': 0.019556805887189933, 'border_count': 163}. Best is trial 32 with value: 0.8385786802030457.\n",
      "[I 2024-02-24 14:29:20,026] Trial 33 finished with value: 0.83248730964467 and parameters: {'iterations': 748, 'depth': 7, 'learning_rate': 0.1798645923489901, 'l2_leaf_reg': 0.010429502037492327, 'border_count': 147}. Best is trial 32 with value: 0.8385786802030457.\n",
      "[I 2024-02-24 14:29:37,985] Trial 34 finished with value: 0.8292929292929294 and parameters: {'iterations': 701, 'depth': 8, 'learning_rate': 0.16293809970592574, 'l2_leaf_reg': 0.019366696220847315, 'border_count': 160}. Best is trial 32 with value: 0.8385786802030457.\n",
      "[I 2024-02-24 14:29:51,179] Trial 35 finished with value: 0.834510595358224 and parameters: {'iterations': 670, 'depth': 6, 'learning_rate': 0.18321003657852328, 'l2_leaf_reg': 0.026997844725799393, 'border_count': 102}. Best is trial 32 with value: 0.8385786802030457.\n",
      "[I 2024-02-24 14:30:31,973] Trial 36 finished with value: 0.8256227758007119 and parameters: {'iterations': 612, 'depth': 10, 'learning_rate': 0.157737118699522, 'l2_leaf_reg': 0.04929984972377595, 'border_count': 194}. Best is trial 32 with value: 0.8385786802030457.\n",
      "[I 2024-02-24 14:30:52,260] Trial 37 finished with value: 0.8307383224510296 and parameters: {'iterations': 706, 'depth': 8, 'learning_rate': 0.1977428052676259, 'l2_leaf_reg': 0.01482784340520811, 'border_count': 223}. Best is trial 32 with value: 0.8385786802030457.\n",
      "[I 2024-02-24 14:31:08,336] Trial 38 finished with value: 0.8365287588294651 and parameters: {'iterations': 765, 'depth': 6, 'learning_rate': 0.17612200846816364, 'l2_leaf_reg': 0.049196379456573874, 'border_count': 141}. Best is trial 32 with value: 0.8385786802030457.\n",
      "[I 2024-02-24 14:31:23,239] Trial 39 finished with value: 0.8327473631341035 and parameters: {'iterations': 799, 'depth': 5, 'learning_rate': 0.17279911570015094, 'l2_leaf_reg': 0.04718875080525738, 'border_count': 114}. Best is trial 32 with value: 0.8385786802030457.\n",
      "[I 2024-02-24 14:31:37,705] Trial 40 finished with value: 0.8324050632911392 and parameters: {'iterations': 738, 'depth': 6, 'learning_rate': 0.18756960258471417, 'l2_leaf_reg': 0.06930241159784493, 'border_count': 72}. Best is trial 32 with value: 0.8385786802030457.\n",
      "[I 2024-02-24 14:31:57,960] Trial 41 finished with value: 0.829689883070666 and parameters: {'iterations': 627, 'depth': 9, 'learning_rate': 0.17326970265711805, 'l2_leaf_reg': 0.0139408745539021, 'border_count': 145}. Best is trial 32 with value: 0.8385786802030457.\n",
      "[I 2024-02-24 14:32:15,940] Trial 42 finished with value: 0.8267477203647416 and parameters: {'iterations': 758, 'depth': 7, 'learning_rate': 0.15593061598090985, 'l2_leaf_reg': 0.027220744772154755, 'border_count': 190}. Best is trial 32 with value: 0.8385786802030457.\n",
      "[I 2024-02-24 14:32:26,670] Trial 43 finished with value: 0.8246492985971945 and parameters: {'iterations': 562, 'depth': 5, 'learning_rate': 0.13801572891014635, 'l2_leaf_reg': 0.019718492200996487, 'border_count': 178}. Best is trial 32 with value: 0.8385786802030457.\n",
      "[I 2024-02-24 14:32:44,706] Trial 44 finished with value: 0.8326572008113591 and parameters: {'iterations': 700, 'depth': 8, 'learning_rate': 0.1755295606572511, 'l2_leaf_reg': 0.010051063990814828, 'border_count': 167}. Best is trial 32 with value: 0.8385786802030457.\n",
      "[I 2024-02-24 14:32:53,237] Trial 45 finished with value: 0.81463173504696 and parameters: {'iterations': 513, 'depth': 4, 'learning_rate': 0.16020600511838415, 'l2_leaf_reg': 0.03645795143874924, 'border_count': 138}. Best is trial 32 with value: 0.8385786802030457.\n",
      "[I 2024-02-24 14:33:22,530] Trial 46 finished with value: 0.8290208016235414 and parameters: {'iterations': 665, 'depth': 10, 'learning_rate': 0.15123427179928692, 'l2_leaf_reg': 0.019219418299463713, 'border_count': 77}. Best is trial 32 with value: 0.8385786802030457.\n",
      "[I 2024-02-24 14:33:44,542] Trial 47 finished with value: 0.834355828220859 and parameters: {'iterations': 585, 'depth': 9, 'learning_rate': 0.18781002530203378, 'l2_leaf_reg': 0.014450132911787174, 'border_count': 207}. Best is trial 32 with value: 0.8385786802030457.\n",
      "[I 2024-02-24 14:33:57,021] Trial 48 finished with value: 0.8222891566265061 and parameters: {'iterations': 536, 'depth': 7, 'learning_rate': 0.14346369851261184, 'l2_leaf_reg': 3.852631671678355, 'border_count': 110}. Best is trial 32 with value: 0.8385786802030457.\n",
      "[I 2024-02-24 14:34:15,497] Trial 49 finished with value: 0.8335015136226034 and parameters: {'iterations': 777, 'depth': 6, 'learning_rate': 0.13180544108064884, 'l2_leaf_reg': 0.06645600037531843, 'border_count': 356}. Best is trial 32 with value: 0.8385786802030457.\n",
      "[I 2024-02-24 14:34:34,146] Trial 50 finished with value: 0.8340943683409437 and parameters: {'iterations': 638, 'depth': 8, 'learning_rate': 0.15507029131852473, 'l2_leaf_reg': 0.10216024035737825, 'border_count': 182}. Best is trial 32 with value: 0.8385786802030457.\n",
      "[I 2024-02-24 14:34:48,096] Trial 51 finished with value: 0.8283544303797468 and parameters: {'iterations': 665, 'depth': 6, 'learning_rate': 0.1821019086981301, 'l2_leaf_reg': 0.028101876081871455, 'border_count': 110}. Best is trial 32 with value: 0.8385786802030457.\n",
      "[I 2024-02-24 14:34:59,928] Trial 52 finished with value: 0.8189526184538652 and parameters: {'iterations': 685, 'depth': 4, 'learning_rate': 0.18256059607768702, 'l2_leaf_reg': 0.02405963167688489, 'border_count': 98}. Best is trial 32 with value: 0.8385786802030457.\n",
      "[I 2024-02-24 14:35:14,472] Trial 53 finished with value: 0.8293428425878756 and parameters: {'iterations': 623, 'depth': 7, 'learning_rate': 0.16897686327384817, 'l2_leaf_reg': 0.04282342903225042, 'border_count': 131}. Best is trial 32 with value: 0.8385786802030457.\n",
      "[I 2024-02-24 14:35:28,261] Trial 54 finished with value: 0.8302453680520782 and parameters: {'iterations': 729, 'depth': 5, 'learning_rate': 0.19158890515354748, 'l2_leaf_reg': 0.01327805441990929, 'border_count': 79}. Best is trial 32 with value: 0.8385786802030457.\n",
      "[I 2024-02-24 14:36:00,759] Trial 55 finished with value: 0.8308635666836997 and parameters: {'iterations': 722, 'depth': 9, 'learning_rate': 0.16324819457300704, 'l2_leaf_reg': 0.03261532709394507, 'border_count': 305}. Best is trial 32 with value: 0.8385786802030457.\n",
      "[I 2024-02-24 14:36:14,504] Trial 56 finished with value: 0.8323170731707318 and parameters: {'iterations': 678, 'depth': 6, 'learning_rate': 0.1761414730747878, 'l2_leaf_reg': 0.05999873127069984, 'border_count': 159}. Best is trial 32 with value: 0.8385786802030457.\n",
      "[I 2024-02-24 14:36:24,546] Trial 57 finished with value: 0.786463298379409 and parameters: {'iterations': 768, 'depth': 2, 'learning_rate': 0.1155199187047338, 'l2_leaf_reg': 0.01953178445513078, 'border_count': 124}. Best is trial 32 with value: 0.8385786802030457.\n",
      "[I 2024-02-24 14:37:12,346] Trial 58 finished with value: 0.8333333333333334 and parameters: {'iterations': 635, 'depth': 10, 'learning_rate': 0.1933580913360252, 'l2_leaf_reg': 0.026481461195469215, 'border_count': 262}. Best is trial 32 with value: 0.8385786802030457.\n",
      "[I 2024-02-24 14:37:23,362] Trial 59 finished with value: 0.8348439073514602 and parameters: {'iterations': 388, 'depth': 8, 'learning_rate': 0.1438263276212322, 'l2_leaf_reg': 0.017794864235935248, 'border_count': 148}. Best is trial 32 with value: 0.8385786802030457.\n",
      "[I 2024-02-24 14:38:01,982] Trial 60 finished with value: 0.8342625443487076 and parameters: {'iterations': 368, 'depth': 11, 'learning_rate': 0.14434639535084312, 'l2_leaf_reg': 0.016893257805398552, 'border_count': 152}. Best is trial 32 with value: 0.8385786802030457.\n",
      "[I 2024-02-24 14:38:10,567] Trial 61 finished with value: 0.8309716599190283 and parameters: {'iterations': 309, 'depth': 8, 'learning_rate': 0.1511848731428832, 'l2_leaf_reg': 0.034338507050339154, 'border_count': 136}. Best is trial 32 with value: 0.8385786802030457.\n",
      "[I 2024-02-24 14:38:20,224] Trial 62 finished with value: 0.8250758341759354 and parameters: {'iterations': 396, 'depth': 7, 'learning_rate': 0.17079019413542673, 'l2_leaf_reg': 0.01163440420328626, 'border_count': 168}. Best is trial 32 with value: 0.8385786802030457.\n",
      "[I 2024-02-24 14:38:35,031] Trial 63 finished with value: 0.8291203235591507 and parameters: {'iterations': 451, 'depth': 9, 'learning_rate': 0.12642591291203056, 'l2_leaf_reg': 0.023983046716089154, 'border_count': 103}. Best is trial 32 with value: 0.8385786802030457.\n",
      "[I 2024-02-24 14:38:46,373] Trial 64 finished with value: 0.8275164390490642 and parameters: {'iterations': 422, 'depth': 8, 'learning_rate': 0.1642576517470759, 'l2_leaf_reg': 0.012839816861591715, 'border_count': 117}. Best is trial 32 with value: 0.8385786802030457.\n",
      "[I 2024-02-24 14:39:19,321] Trial 65 finished with value: 0.8254288597376387 and parameters: {'iterations': 579, 'depth': 10, 'learning_rate': 0.13394612993681876, 'l2_leaf_reg': 0.016434472029997683, 'border_count': 139}. Best is trial 32 with value: 0.8385786802030457.\n",
      "[I 2024-02-24 14:39:32,504] Trial 66 finished with value: 0.8286004056795132 and parameters: {'iterations': 596, 'depth': 6, 'learning_rate': 0.18227881253024708, 'l2_leaf_reg': 0.039159109564843364, 'border_count': 63}. Best is trial 32 with value: 0.8385786802030457.\n",
      "[I 2024-02-24 14:39:44,681] Trial 67 finished with value: 0.833164812942366 and parameters: {'iterations': 360, 'depth': 9, 'learning_rate': 0.1424127904660921, 'l2_leaf_reg': 0.05471144206190427, 'border_count': 90}. Best is trial 32 with value: 0.8385786802030457.\n",
      "[I 2024-02-24 14:40:46,212] Trial 68 finished with value: 0.8276563294356888 and parameters: {'iterations': 652, 'depth': 11, 'learning_rate': 0.1570267887747531, 'l2_leaf_reg': 0.021644288754559454, 'border_count': 159}. Best is trial 32 with value: 0.8385786802030457.\n",
      "[I 2024-02-24 14:40:51,619] Trial 69 finished with value: 0.8114953726254261 and parameters: {'iterations': 250, 'depth': 5, 'learning_rate': 0.15091109899054744, 'l2_leaf_reg': 0.030992304776463333, 'border_count': 184}. Best is trial 32 with value: 0.8385786802030457.\n",
      "[I 2024-02-24 14:41:01,574] Trial 70 finished with value: 0.832241813602015 and parameters: {'iterations': 307, 'depth': 8, 'learning_rate': 0.11978263147351899, 'l2_leaf_reg': 0.08271654016274402, 'border_count': 223}. Best is trial 32 with value: 0.8385786802030457.\n",
      "[I 2024-02-24 14:41:24,077] Trial 71 finished with value: 0.8340990301174069 and parameters: {'iterations': 589, 'depth': 9, 'learning_rate': 0.18764838220557453, 'l2_leaf_reg': 0.015457931586359348, 'border_count': 204}. Best is trial 32 with value: 0.8385786802030457.\n",
      "[I 2024-02-24 14:41:38,477] Trial 72 finished with value: 0.8313008130081301 and parameters: {'iterations': 552, 'depth': 7, 'learning_rate': 0.18793737974897523, 'l2_leaf_reg': 0.01227074495520039, 'border_count': 205}. Best is trial 32 with value: 0.8385786802030457.\n",
      "[I 2024-02-24 14:42:06,506] Trial 73 finished with value: 0.8272727272727273 and parameters: {'iterations': 681, 'depth': 9, 'learning_rate': 0.17906914868197524, 'l2_leaf_reg': 0.01682379703686355, 'border_count': 238}. Best is trial 32 with value: 0.8385786802030457.\n",
      "[I 2024-02-24 14:42:55,605] Trial 74 finished with value: 0.8228228228228227 and parameters: {'iterations': 611, 'depth': 10, 'learning_rate': 0.025173781795967118, 'l2_leaf_reg': 0.022372775356847775, 'border_count': 252}. Best is trial 32 with value: 0.8385786802030457.\n",
      "[I 2024-02-24 14:43:12,962] Trial 75 finished with value: 0.8269913749365805 and parameters: {'iterations': 523, 'depth': 8, 'learning_rate': 0.1946515956983758, 'l2_leaf_reg': 0.027766449979670545, 'border_count': 278}. Best is trial 32 with value: 0.8385786802030457.\n",
      "[I 2024-02-24 14:43:22,215] Trial 76 finished with value: 0.8109181141439207 and parameters: {'iterations': 493, 'depth': 4, 'learning_rate': 0.17187859099464187, 'l2_leaf_reg': 0.010463161620791053, 'border_count': 171}. Best is trial 32 with value: 0.8385786802030457.\n",
      "[I 2024-02-24 14:43:41,646] Trial 77 finished with value: 0.8290468986384267 and parameters: {'iterations': 564, 'depth': 9, 'learning_rate': 0.1997957667800095, 'l2_leaf_reg': 0.017430082865211048, 'border_count': 147}. Best is trial 32 with value: 0.8385786802030457.\n",
      "[I 2024-02-24 14:43:50,280] Trial 78 finished with value: 0.8242424242424243 and parameters: {'iterations': 336, 'depth': 7, 'learning_rate': 0.1602085599428436, 'l2_leaf_reg': 0.014667909907228681, 'border_count': 211}. Best is trial 32 with value: 0.8385786802030457.\n",
      "[I 2024-02-24 14:44:21,047] Trial 79 finished with value: 0.8276209677419354 and parameters: {'iterations': 461, 'depth': 10, 'learning_rate': 0.1674715697747926, 'l2_leaf_reg': 0.14746909716576165, 'border_count': 196}. Best is trial 32 with value: 0.8385786802030457.\n",
      "[I 2024-02-24 14:44:41,554] Trial 80 finished with value: 0.8360160965794768 and parameters: {'iterations': 706, 'depth': 8, 'learning_rate': 0.17673305403978976, 'l2_leaf_reg': 0.021222050343600963, 'border_count': 188}. Best is trial 32 with value: 0.8385786802030457.\n",
      "[I 2024-02-24 14:45:01,872] Trial 81 finished with value: 0.833164812942366 and parameters: {'iterations': 706, 'depth': 8, 'learning_rate': 0.17720315853104296, 'l2_leaf_reg': 0.02059364967300453, 'border_count': 176}. Best is trial 32 with value: 0.8385786802030457.\n",
      "[I 2024-02-24 14:45:29,650] Trial 82 finished with value: 0.821446636317653 and parameters: {'iterations': 750, 'depth': 9, 'learning_rate': 0.185834830248215, 'l2_leaf_reg': 0.038084192706382136, 'border_count': 188}. Best is trial 32 with value: 0.8385786802030457.\n",
      "[I 2024-02-24 14:45:42,097] Trial 83 finished with value: 0.8031496062992127 and parameters: {'iterations': 791, 'depth': 3, 'learning_rate': 0.1665228240117698, 'l2_leaf_reg': 0.029329710358918612, 'border_count': 159}. Best is trial 32 with value: 0.8385786802030457.\n",
      "[I 2024-02-24 14:46:01,431] Trial 84 finished with value: 0.8318227593152063 and parameters: {'iterations': 722, 'depth': 8, 'learning_rate': 0.1542477764016113, 'l2_leaf_reg': 0.014144559008825266, 'border_count': 123}. Best is trial 32 with value: 0.8385786802030457.\n",
      "[I 2024-02-24 14:46:18,318] Trial 85 finished with value: 0.8320649416539827 and parameters: {'iterations': 653, 'depth': 7, 'learning_rate': 0.1737504455451288, 'l2_leaf_reg': 0.02353717341712077, 'border_count': 231}. Best is trial 32 with value: 0.8385786802030457.\n",
      "[I 2024-02-24 14:46:27,743] Trial 86 finished with value: 0.826720241084882 and parameters: {'iterations': 418, 'depth': 6, 'learning_rate': 0.18254819272306458, 'l2_leaf_reg': 0.011941039710391075, 'border_count': 144}. Best is trial 32 with value: 0.8385786802030457.\n",
      "[I 2024-02-24 14:46:40,950] Trial 87 finished with value: 0.8303571428571429 and parameters: {'iterations': 378, 'depth': 8, 'learning_rate': 0.1606050939963977, 'l2_leaf_reg': 9.779397591765116, 'border_count': 363}. Best is trial 32 with value: 0.8385786802030457.\n",
      "[I 2024-02-24 14:47:01,104] Trial 88 finished with value: 0.8308786185881157 and parameters: {'iterations': 616, 'depth': 9, 'learning_rate': 0.14722620384073737, 'l2_leaf_reg': 0.019219391137788325, 'border_count': 131}. Best is trial 32 with value: 0.8385786802030457.\n",
      "[I 2024-02-24 14:47:49,017] Trial 89 finished with value: 0.8331627430910952 and parameters: {'iterations': 690, 'depth': 10, 'learning_rate': 0.09979939261377255, 'l2_leaf_reg': 0.04460259339024176, 'border_count': 218}. Best is trial 32 with value: 0.8385786802030457.\n",
      "[I 2024-02-24 14:48:05,744] Trial 90 finished with value: 0.8292929292929294 and parameters: {'iterations': 714, 'depth': 6, 'learning_rate': 0.19438501381656503, 'l2_leaf_reg': 0.027503048183809563, 'border_count': 166}. Best is trial 32 with value: 0.8385786802030457.\n",
      "[I 2024-02-24 14:48:48,811] Trial 91 finished with value: 0.829979879275654 and parameters: {'iterations': 367, 'depth': 11, 'learning_rate': 0.14481080669137092, 'l2_leaf_reg': 0.015605509959696935, 'border_count': 177}. Best is trial 32 with value: 0.8385786802030457.\n",
      "[I 2024-02-24 14:52:15,193] Trial 92 finished with value: 0.8230576441102757 and parameters: {'iterations': 671, 'depth': 13, 'learning_rate': 0.1398182041824759, 'l2_leaf_reg': 0.017010906267443494, 'border_count': 150}. Best is trial 32 with value: 0.8385786802030457.\n",
      "[I 2024-02-24 14:52:23,974] Trial 93 finished with value: 0.8316532258064516 and parameters: {'iterations': 353, 'depth': 7, 'learning_rate': 0.177480724682068, 'l2_leaf_reg': 0.024681909640643578, 'border_count': 154}. Best is trial 32 with value: 0.8385786802030457.\n",
      "[I 2024-02-24 14:55:45,330] Trial 94 finished with value: 0.8351870576339736 and parameters: {'iterations': 638, 'depth': 12, 'learning_rate': 0.1334253544571367, 'l2_leaf_reg': 0.017979536670742785, 'border_count': 339}. Best is trial 32 with value: 0.8385786802030457.\n",
      "[I 2024-02-24 14:56:07,849] Trial 95 finished with value: 0.8354430379746837 and parameters: {'iterations': 641, 'depth': 8, 'learning_rate': 0.1341883368275646, 'l2_leaf_reg': 0.01009610769876025, 'border_count': 338}. Best is trial 32 with value: 0.8385786802030457.\n",
      "[I 2024-02-24 15:19:43,439] Trial 96 finished with value: 0.8194444444444445 and parameters: {'iterations': 643, 'depth': 15, 'learning_rate': 0.12331244434138165, 'l2_leaf_reg': 0.010177886945623417, 'border_count': 336}. Best is trial 32 with value: 0.8385786802030457.\n",
      "[I 2024-02-24 15:23:14,976] Trial 97 finished with value: 0.8312342569269523 and parameters: {'iterations': 740, 'depth': 12, 'learning_rate': 0.1293830401253599, 'l2_leaf_reg': 0.019179959447156482, 'border_count': 304}. Best is trial 32 with value: 0.8385786802030457.\n",
      "[I 2024-02-24 15:23:39,689] Trial 98 finished with value: 0.8319755600814663 and parameters: {'iterations': 697, 'depth': 8, 'learning_rate': 0.11167644634580678, 'l2_leaf_reg': 0.012109421480158904, 'border_count': 342}. Best is trial 32 with value: 0.8385786802030457.\n",
      "[I 2024-02-24 15:24:01,243] Trial 99 finished with value: 0.8341810783316378 and parameters: {'iterations': 630, 'depth': 8, 'learning_rate': 0.13610002694201062, 'l2_leaf_reg': 0.0312958996412176, 'border_count': 314}. Best is trial 32 with value: 0.8385786802030457.\n",
      "[I 2024-02-24 15:24:18,242] Trial 100 finished with value: 0.8328267477203647 and parameters: {'iterations': 606, 'depth': 7, 'learning_rate': 0.15345249388174612, 'l2_leaf_reg': 0.0134969254618081, 'border_count': 351}. Best is trial 32 with value: 0.8385786802030457.\n",
      "[I 2024-02-24 15:24:48,896] Trial 101 finished with value: 0.8329938900203666 and parameters: {'iterations': 663, 'depth': 9, 'learning_rate': 0.13267003404883632, 'l2_leaf_reg': 0.0214372505786149, 'border_count': 295}. Best is trial 32 with value: 0.8385786802030457.\n",
      "[I 2024-02-24 15:25:18,917] Trial 102 finished with value: 0.8315629742033384 and parameters: {'iterations': 573, 'depth': 9, 'learning_rate': 0.16983777819217113, 'l2_leaf_reg': 0.013681821202112436, 'border_count': 390}. Best is trial 32 with value: 0.8385786802030457.\n",
      "[I 2024-02-24 15:25:39,785] Trial 103 finished with value: 0.8256227758007119 and parameters: {'iterations': 590, 'depth': 8, 'learning_rate': 0.1630452786877351, 'l2_leaf_reg': 0.01130203074360807, 'border_count': 373}. Best is trial 32 with value: 0.8385786802030457.\n",
      "[I 2024-02-24 15:26:24,082] Trial 104 finished with value: 0.8348439073514602 and parameters: {'iterations': 640, 'depth': 10, 'learning_rate': 0.14718957268529184, 'l2_leaf_reg': 0.017999035306193394, 'border_count': 199}. Best is trial 32 with value: 0.8385786802030457.\n",
      "[I 2024-02-24 15:29:42,466] Trial 105 finished with value: 0.8335847159376572 and parameters: {'iterations': 646, 'depth': 12, 'learning_rate': 0.14729765377385193, 'l2_leaf_reg': 0.01847437032781049, 'border_count': 333}. Best is trial 32 with value: 0.8385786802030457.\n",
      "[I 2024-02-24 15:29:45,578] Trial 106 finished with value: 0.8084493518963034 and parameters: {'iterations': 109, 'depth': 7, 'learning_rate': 0.14046279630189867, 'l2_leaf_reg': 0.024281288588834778, 'border_count': 189}. Best is trial 32 with value: 0.8385786802030457.\n",
      "[I 2024-02-24 15:30:24,157] Trial 107 finished with value: 0.8329126703685008 and parameters: {'iterations': 623, 'depth': 10, 'learning_rate': 0.1576569063303419, 'l2_leaf_reg': 0.038574190455010676, 'border_count': 164}. Best is trial 32 with value: 0.8385786802030457.\n",
      "[I 2024-02-24 15:30:39,928] Trial 108 finished with value: 0.8176850471932439 and parameters: {'iterations': 767, 'depth': 5, 'learning_rate': 0.07141071650299886, 'l2_leaf_reg': 0.02145660068132435, 'border_count': 86}. Best is trial 32 with value: 0.8385786802030457.\n",
      "[I 2024-02-24 15:30:59,542] Trial 109 finished with value: 0.8306288032454361 and parameters: {'iterations': 675, 'depth': 8, 'learning_rate': 0.14662716342492518, 'l2_leaf_reg': 0.03270940363099682, 'border_count': 138}. Best is trial 32 with value: 0.8385786802030457.\n",
      "[I 2024-02-24 15:32:44,977] Trial 110 finished with value: 0.8244274809160305 and parameters: {'iterations': 662, 'depth': 11, 'learning_rate': 0.15225229813677274, 'l2_leaf_reg': 0.05269980998815158, 'border_count': 317}. Best is trial 32 with value: 0.8385786802030457.\n",
      "[I 2024-02-24 15:33:09,707] Trial 111 finished with value: 0.8298086606243706 and parameters: {'iterations': 610, 'depth': 9, 'learning_rate': 0.18595722150805793, 'l2_leaf_reg': 0.015290854794831513, 'border_count': 201}. Best is trial 32 with value: 0.8385786802030457.\n",
      "[I 2024-02-24 15:33:35,722] Trial 112 finished with value: 0.8284263959390863 and parameters: {'iterations': 635, 'depth': 9, 'learning_rate': 0.13516690072406623, 'l2_leaf_reg': 0.01679672648644387, 'border_count': 209}. Best is trial 32 with value: 0.8385786802030457.\n",
      "[I 2024-02-24 15:37:31,400] Trial 113 finished with value: 0.8286140089418778 and parameters: {'iterations': 685, 'depth': 13, 'learning_rate': 0.18996031937707458, 'l2_leaf_reg': 0.012946699962926468, 'border_count': 182}. Best is trial 32 with value: 0.8385786802030457.\n",
      "[I 2024-02-24 15:37:54,380] Trial 114 finished with value: 0.8307066598881545 and parameters: {'iterations': 321, 'depth': 10, 'learning_rate': 0.12261635745230373, 'l2_leaf_reg': 0.010039942564283547, 'border_count': 196}. Best is trial 32 with value: 0.8385786802030457.\n",
      "[I 2024-02-24 15:38:11,983] Trial 115 finished with value: 0.8334177215189874 and parameters: {'iterations': 581, 'depth': 8, 'learning_rate': 0.1295144716181308, 'l2_leaf_reg': 0.25093730620862786, 'border_count': 173}. Best is trial 32 with value: 0.8385786802030457.\n",
      "[I 2024-02-24 15:38:24,789] Trial 116 finished with value: 0.8321464903357069 and parameters: {'iterations': 295, 'depth': 9, 'learning_rate': 0.16579326686444473, 'l2_leaf_reg': 0.01773988703839106, 'border_count': 229}. Best is trial 32 with value: 0.8385786802030457.\n",
      "[I 2024-02-24 15:39:26,642] Trial 117 finished with value: 0.8291203235591507 and parameters: {'iterations': 648, 'depth': 10, 'learning_rate': 0.1736320135346268, 'l2_leaf_reg': 0.8259524962448941, 'border_count': 327}. Best is trial 32 with value: 0.8385786802030457.\n",
      "[I 2024-02-24 15:39:39,680] Trial 118 finished with value: 0.8298086606243706 and parameters: {'iterations': 545, 'depth': 6, 'learning_rate': 0.15889723615548948, 'l2_leaf_reg': 0.027568375989171275, 'border_count': 102}. Best is trial 32 with value: 0.8385786802030457.\n",
      "[I 2024-02-24 15:39:58,781] Trial 119 finished with value: 0.8329959514170041 and parameters: {'iterations': 599, 'depth': 8, 'learning_rate': 0.1817028569151065, 'l2_leaf_reg': 0.014452358729844003, 'border_count': 219}. Best is trial 32 with value: 0.8385786802030457.\n",
      "[I 2024-02-24 15:40:18,219] Trial 120 finished with value: 0.8341708542713568 and parameters: {'iterations': 730, 'depth': 7, 'learning_rate': 0.14205834973070564, 'l2_leaf_reg': 0.022285700716032218, 'border_count': 144}. Best is trial 32 with value: 0.8385786802030457.\n",
      "[I 2024-02-24 15:40:57,828] Trial 121 finished with value: 0.824419778002018 and parameters: {'iterations': 372, 'depth': 11, 'learning_rate': 0.15000667039440208, 'l2_leaf_reg': 0.017529913782535517, 'border_count': 154}. Best is trial 32 with value: 0.8385786802030457.\n",
      "[I 2024-02-24 15:41:40,341] Trial 122 finished with value: 0.8304742684157417 and parameters: {'iterations': 386, 'depth': 11, 'learning_rate': 0.13698815589337449, 'l2_leaf_reg': 0.01163136529175433, 'border_count': 158}. Best is trial 32 with value: 0.8385786802030457.\n",
      "[I 2024-02-24 15:43:07,960] Trial 123 finished with value: 0.8262626262626263 and parameters: {'iterations': 622, 'depth': 12, 'learning_rate': 0.14221965485355395, 'l2_leaf_reg': 0.015623105564508863, 'border_count': 119}. Best is trial 32 with value: 0.8385786802030457.\n",
      "[I 2024-02-24 15:44:15,125] Trial 124 finished with value: 0.8222891566265061 and parameters: {'iterations': 345, 'depth': 12, 'learning_rate': 0.1624477447890572, 'l2_leaf_reg': 2.882712572002176, 'border_count': 164}. Best is trial 32 with value: 0.8385786802030457.\n",
      "[I 2024-02-24 15:44:41,184] Trial 125 finished with value: 0.8301507537688443 and parameters: {'iterations': 411, 'depth': 10, 'learning_rate': 0.15520030162222428, 'l2_leaf_reg': 0.02037551994743667, 'border_count': 134}. Best is trial 32 with value: 0.8385786802030457.\n",
      "[I 2024-02-24 15:45:18,873] Trial 126 finished with value: 0.8273779567186713 and parameters: {'iterations': 397, 'depth': 11, 'learning_rate': 0.1687350025641142, 'l2_leaf_reg': 0.024120778923260595, 'border_count': 127}. Best is trial 32 with value: 0.8385786802030457.\n",
      "[I 2024-02-24 15:45:44,017] Trial 127 finished with value: 0.8292929292929294 and parameters: {'iterations': 663, 'depth': 9, 'learning_rate': 0.17578203912661527, 'l2_leaf_reg': 0.014165476525730017, 'border_count': 181}. Best is trial 32 with value: 0.8385786802030457.\n",
      "[I 2024-02-24 15:46:03,546] Trial 128 finished with value: 0.8322351748606183 and parameters: {'iterations': 439, 'depth': 9, 'learning_rate': 0.14552141389755469, 'l2_leaf_reg': 0.01832314672711389, 'border_count': 246}. Best is trial 32 with value: 0.8385786802030457.\n",
      "[I 2024-02-24 15:46:47,048] Trial 129 finished with value: 0.8305513404147699 and parameters: {'iterations': 632, 'depth': 10, 'learning_rate': 0.18432514468193784, 'l2_leaf_reg': 0.02653664998527046, 'border_count': 192}. Best is trial 32 with value: 0.8385786802030457.\n",
      "[I 2024-02-24 15:47:13,305] Trial 130 finished with value: 0.8364556962025316 and parameters: {'iterations': 705, 'depth': 8, 'learning_rate': 0.1147287391579471, 'l2_leaf_reg': 0.012436609948466047, 'border_count': 347}. Best is trial 32 with value: 0.8385786802030457.\n",
      "[I 2024-02-24 15:47:39,101] Trial 131 finished with value: 0.8336713995943205 and parameters: {'iterations': 706, 'depth': 8, 'learning_rate': 0.11550099681243375, 'l2_leaf_reg': 0.01198458981404998, 'border_count': 339}. Best is trial 32 with value: 0.8385786802030457.\n",
      "[I 2024-02-24 15:48:05,103] Trial 132 finished with value: 0.8349318525996973 and parameters: {'iterations': 687, 'depth': 8, 'learning_rate': 0.1268828771407193, 'l2_leaf_reg': 0.015172643188413484, 'border_count': 367}. Best is trial 32 with value: 0.8385786802030457.\n",
      "[I 2024-02-24 15:48:26,320] Trial 133 finished with value: 0.8345177664974619 and parameters: {'iterations': 696, 'depth': 7, 'learning_rate': 0.12561911058559216, 'l2_leaf_reg': 0.013171619926422308, 'border_count': 366}. Best is trial 32 with value: 0.8385786802030457.\n",
      "[I 2024-02-24 15:48:47,004] Trial 134 finished with value: 0.8371154815935451 and parameters: {'iterations': 690, 'depth': 7, 'learning_rate': 0.11614569290069954, 'l2_leaf_reg': 0.011178604249150818, 'border_count': 372}. Best is trial 32 with value: 0.8385786802030457.\n",
      "[I 2024-02-24 15:49:08,603] Trial 135 finished with value: 0.8280773143438455 and parameters: {'iterations': 717, 'depth': 7, 'learning_rate': 0.10929078441883568, 'l2_leaf_reg': 0.010969498392539148, 'border_count': 378}. Best is trial 32 with value: 0.8385786802030457.\n",
      "[I 2024-02-24 15:49:34,999] Trial 136 finished with value: 0.8318227593152063 and parameters: {'iterations': 695, 'depth': 8, 'learning_rate': 0.12638487822700084, 'l2_leaf_reg': 0.012887193659337218, 'border_count': 370}. Best is trial 32 with value: 0.8385786802030457.\n",
      "[I 2024-02-24 15:49:57,389] Trial 137 finished with value: 0.8336713995943205 and parameters: {'iterations': 753, 'depth': 7, 'learning_rate': 0.11908761956418673, 'l2_leaf_reg': 0.01005405353817755, 'border_count': 345}. Best is trial 32 with value: 0.8385786802030457.\n",
      "[I 2024-02-24 15:50:24,977] Trial 138 finished with value: 0.8376327769347496 and parameters: {'iterations': 736, 'depth': 8, 'learning_rate': 0.11263362432249847, 'l2_leaf_reg': 0.01505311860879696, 'border_count': 359}. Best is trial 32 with value: 0.8385786802030457.\n",
      "[I 2024-02-24 15:50:53,338] Trial 139 finished with value: 0.8374936321956189 and parameters: {'iterations': 743, 'depth': 8, 'learning_rate': 0.10265590219977189, 'l2_leaf_reg': 0.01573557509692749, 'border_count': 395}. Best is trial 32 with value: 0.8385786802030457.\n",
      "[I 2024-02-24 15:51:23,157] Trial 140 finished with value: 0.829689883070666 and parameters: {'iterations': 770, 'depth': 8, 'learning_rate': 0.09605321035730303, 'l2_leaf_reg': 0.015311764585806284, 'border_count': 399}. Best is trial 32 with value: 0.8385786802030457.\n",
      "[I 2024-02-24 15:51:50,373] Trial 141 finished with value: 0.8340943683409437 and parameters: {'iterations': 738, 'depth': 8, 'learning_rate': 0.11246297607055115, 'l2_leaf_reg': 0.019975248140353265, 'border_count': 356}. Best is trial 32 with value: 0.8385786802030457.\n",
      "[I 2024-02-24 15:52:20,783] Trial 142 finished with value: 0.8318135764944277 and parameters: {'iterations': 800, 'depth': 8, 'learning_rate': 0.10194453745286748, 'l2_leaf_reg': 0.016028702690954737, 'border_count': 386}. Best is trial 32 with value: 0.8385786802030457.\n",
      "[I 2024-02-24 15:52:47,925] Trial 143 finished with value: 0.8348530901722391 and parameters: {'iterations': 733, 'depth': 8, 'learning_rate': 0.11650406872583532, 'l2_leaf_reg': 0.012131847981291612, 'border_count': 361}. Best is trial 32 with value: 0.8385786802030457.\n",
      "[I 2024-02-24 15:53:14,749] Trial 144 finished with value: 0.8357756442647801 and parameters: {'iterations': 727, 'depth': 8, 'learning_rate': 0.10352419263861162, 'l2_leaf_reg': 0.012846654765998266, 'border_count': 357}. Best is trial 32 with value: 0.8385786802030457.\n",
      "[I 2024-02-24 15:53:42,084] Trial 145 finished with value: 0.8308004052684903 and parameters: {'iterations': 735, 'depth': 8, 'learning_rate': 0.11448538085788788, 'l2_leaf_reg': 0.011296125021821741, 'border_count': 359}. Best is trial 32 with value: 0.8385786802030457.\n",
      "[I 2024-02-24 15:54:04,062] Trial 146 finished with value: 0.8342625443487076 and parameters: {'iterations': 760, 'depth': 7, 'learning_rate': 0.09197577426376788, 'l2_leaf_reg': 0.013339922732412964, 'border_count': 349}. Best is trial 32 with value: 0.8385786802030457.\n",
      "[I 2024-02-24 15:54:25,646] Trial 147 finished with value: 0.8282520325203252 and parameters: {'iterations': 725, 'depth': 7, 'learning_rate': 0.11805646053462235, 'l2_leaf_reg': 0.011850702788895627, 'border_count': 381}. Best is trial 32 with value: 0.8385786802030457.\n",
      "[I 2024-02-24 15:54:54,734] Trial 148 finished with value: 0.8348530901722391 and parameters: {'iterations': 785, 'depth': 8, 'learning_rate': 0.10735745251541404, 'l2_leaf_reg': 0.014613611272767961, 'border_count': 375}. Best is trial 32 with value: 0.8385786802030457.\n",
      "[I 2024-02-24 15:55:20,955] Trial 149 finished with value: 0.8279022403258656 and parameters: {'iterations': 713, 'depth': 8, 'learning_rate': 0.10316724185420302, 'l2_leaf_reg': 0.011036405354149499, 'border_count': 393}. Best is trial 32 with value: 0.8385786802030457.\n",
      "[I 2024-02-24 15:56:00,333] Trial 150 finished with value: 0.8335862417804754 and parameters: {'iterations': 747, 'depth': 9, 'learning_rate': 0.09657959509777948, 'l2_leaf_reg': 0.021151765970602684, 'border_count': 364}. Best is trial 32 with value: 0.8385786802030457.\n",
      "[I 2024-02-24 15:56:29,106] Trial 151 finished with value: 0.8314720812182742 and parameters: {'iterations': 782, 'depth': 8, 'learning_rate': 0.10992477790140574, 'l2_leaf_reg': 0.015447218768769583, 'border_count': 375}. Best is trial 32 with value: 0.8385786802030457.\n",
      "[I 2024-02-24 15:56:56,981] Trial 152 finished with value: 0.8348530901722391 and parameters: {'iterations': 774, 'depth': 8, 'learning_rate': 0.10725374357870206, 'l2_leaf_reg': 0.11502696834262122, 'border_count': 349}. Best is trial 32 with value: 0.8385786802030457.\n",
      "[I 2024-02-24 15:57:16,581] Trial 153 finished with value: 0.8334177215189874 and parameters: {'iterations': 682, 'depth': 7, 'learning_rate': 0.10405776055608583, 'l2_leaf_reg': 0.01369281004363286, 'border_count': 360}. Best is trial 32 with value: 0.8385786802030457.\n",
      "[I 2024-02-24 15:57:44,871] Trial 154 finished with value: 0.8320649416539827 and parameters: {'iterations': 784, 'depth': 8, 'learning_rate': 0.08802883897619376, 'l2_leaf_reg': 0.012710564452711372, 'border_count': 367}. Best is trial 32 with value: 0.8385786802030457.\n",
      "[I 2024-02-24 15:58:12,540] Trial 155 finished with value: 0.8383477817440081 and parameters: {'iterations': 746, 'depth': 8, 'learning_rate': 0.10752020218740696, 'l2_leaf_reg': 0.01580940039143942, 'border_count': 382}. Best is trial 32 with value: 0.8385786802030457.\n",
      "[I 2024-02-24 15:58:49,221] Trial 156 finished with value: 0.8329126703685008 and parameters: {'iterations': 750, 'depth': 9, 'learning_rate': 0.12172666276753459, 'l2_leaf_reg': 0.010004737823598968, 'border_count': 333}. Best is trial 32 with value: 0.8385786802030457.\n",
      "[I 2024-02-24 15:59:28,981] Trial 157 finished with value: 0.8367139959432048 and parameters: {'iterations': 721, 'depth': 9, 'learning_rate': 0.11316248622373441, 'l2_leaf_reg': 0.01630124221162118, 'border_count': 394}. Best is trial 32 with value: 0.8385786802030457.\n",
      "[I 2024-02-24 16:00:06,742] Trial 158 finished with value: 0.8361237950279047 and parameters: {'iterations': 713, 'depth': 9, 'learning_rate': 0.12050413807670991, 'l2_leaf_reg': 0.01864833229184472, 'border_count': 384}. Best is trial 32 with value: 0.8385786802030457.\n",
      "[I 2024-02-24 16:00:45,017] Trial 159 finished with value: 0.8351199591628381 and parameters: {'iterations': 714, 'depth': 9, 'learning_rate': 0.11250919128920689, 'l2_leaf_reg': 0.020150292067344033, 'border_count': 394}. Best is trial 32 with value: 0.8385786802030457.\n",
      "[I 2024-02-24 16:01:23,171] Trial 160 finished with value: 0.8343434343434344 and parameters: {'iterations': 713, 'depth': 9, 'learning_rate': 0.11353201910853365, 'l2_leaf_reg': 0.022930959276489263, 'border_count': 392}. Best is trial 32 with value: 0.8385786802030457.\n",
      "[I 2024-02-24 16:02:01,956] Trial 161 finished with value: 0.8326572008113591 and parameters: {'iterations': 724, 'depth': 9, 'learning_rate': 0.10532405031387483, 'l2_leaf_reg': 0.018567430890662085, 'border_count': 393}. Best is trial 32 with value: 0.8385786802030457.\n",
      "[I 2024-02-24 16:02:39,617] Trial 162 finished with value: 0.8234096692111958 and parameters: {'iterations': 701, 'depth': 9, 'learning_rate': 0.09886580185529606, 'l2_leaf_reg': 0.016831578626653902, 'border_count': 384}. Best is trial 32 with value: 0.8385786802030457.\n",
      "[I 2024-02-24 16:03:19,084] Trial 163 finished with value: 0.8304568527918782 and parameters: {'iterations': 747, 'depth': 9, 'learning_rate': 0.1101717007944835, 'l2_leaf_reg': 0.0208128862010112, 'border_count': 400}. Best is trial 32 with value: 0.8385786802030457.\n",
      "[I 2024-02-24 16:03:58,431] Trial 164 finished with value: 0.8297872340425531 and parameters: {'iterations': 760, 'depth': 9, 'learning_rate': 0.11934242130966823, 'l2_leaf_reg': 0.024561506585684238, 'border_count': 386}. Best is trial 32 with value: 0.8385786802030457.\n",
      "[I 2024-02-24 16:04:23,207] Trial 165 finished with value: 0.8288196218702095 and parameters: {'iterations': 713, 'depth': 8, 'learning_rate': 0.13032422375713762, 'l2_leaf_reg': 0.019095759925725805, 'border_count': 385}. Best is trial 32 with value: 0.8385786802030457.\n",
      "[I 2024-02-24 16:04:58,081] Trial 166 finished with value: 0.832574607991907 and parameters: {'iterations': 672, 'depth': 9, 'learning_rate': 0.10056947224951844, 'l2_leaf_reg': 0.017185179483179987, 'border_count': 379}. Best is trial 32 with value: 0.8385786802030457.\n",
      "[I 2024-02-24 16:36:07,766] Trial 167 finished with value: 0.8160237388724035 and parameters: {'iterations': 731, 'depth': 15, 'learning_rate': 0.12231612805408396, 'l2_leaf_reg': 0.028771555660557148, 'border_count': 394}. Best is trial 32 with value: 0.8385786802030457.\n",
      "[I 2024-02-24 16:36:26,720] Trial 168 finished with value: 0.8311291963377416 and parameters: {'iterations': 656, 'depth': 7, 'learning_rate': 0.11405572625107904, 'l2_leaf_reg': 0.01587443134556207, 'border_count': 400}. Best is trial 32 with value: 0.8385786802030457.\n",
      "[I 2024-02-24 16:37:02,396] Trial 169 finished with value: 0.8324050632911392 and parameters: {'iterations': 699, 'depth': 9, 'learning_rate': 0.10634161215606314, 'l2_leaf_reg': 0.02120136703105491, 'border_count': 354}. Best is trial 32 with value: 0.8385786802030457.\n"
     ]
    },
    {
     "ename": "",
     "evalue": "",
     "output_type": "error",
     "traceback": [
      "\u001b[1;31m현재 셀 또는 이전 셀에서 코드를 실행하는 동안 Kernel이 충돌했습니다. \n",
      "\u001b[1;31m셀의 코드를 검토하여 가능한 오류 원인을 식별하세요. \n",
      "\u001b[1;31m자세한 내용을 보려면 <a href='https://aka.ms/vscodeJupyterKernelCrash'>여기</a>를 클릭하세요. \n",
      "\u001b[1;31m자세한 내용은 Jupyter <a href='command:jupyter.viewOutput'>로그</a>를 참조하세요."
     ]
    }
   ],
   "source": [
    "import optuna\n",
    "from catboost import CatBoostClassifier\n",
    "from sklearn.metrics import f1_score\n",
    "\n",
    "def objectiveCatBoost(trial, x_tr, y_tr, x_val, y_val):\n",
    "    param = {\n",
    "        'iterations': trial.suggest_int('iterations', 100, 800)\n",
    "        , 'depth': trial.suggest_int('depth', 2, 16)\n",
    "        , 'learning_rate': trial.suggest_float('learning_rate', 0.01, 0.2)\n",
    "        , 'l2_leaf_reg': trial.suggest_loguniform('l2_leaf_reg', 0.01, 10.0)\n",
    "        , 'border_count': trial.suggest_int('border_count', 50, 400)\n",
    "\n",
    "        , 'random_seed': 0\n",
    "        , 'verbose': False\n",
    "    }\n",
    "    \n",
    "    model = CatBoostClassifier(**param)\n",
    "    model.fit(x_tr, y_tr)\n",
    "    pred = model.predict(x_val)\n",
    "    score = f1_score(y_val, pred, average=\"binary\")\n",
    "    \n",
    "    return score\n",
    "\n",
    "# 하이퍼 파라미터 튜닝\n",
    "study = optuna.create_study(direction='maximize', sampler=optuna.samplers.TPESampler(seed=0))\n",
    "study.optimize(lambda trial: objectiveCatBoost(trial, x_train, y_train, x_val, y_val), n_trials=500)\n",
    "\n",
    "print('Best trial: score {}, \\nparams {}'.format(study.best_trial.value, study.best_trial.params))"
   ]
  },
  {
   "cell_type": "code",
   "execution_count": null,
   "metadata": {},
   "outputs": [],
   "source": [
    "# CatBoost\n",
    "cat_model = CatBoostClassifier(\n",
    "    iterations=628\n",
    "    , depth=9\n",
    "    , learning_rate=0.15969576473215213\n",
    "    , l2_leaf_reg= 0.02016777824287572\n",
    "    , border_count = 160\n",
    "    , verbose=False\n",
    "    , random_state=0\n",
    ")\n",
    "\n",
    "cat_model.fit(x_train, y_train)\n",
    "\n",
    "pred = cat_model.predict(x_val)\n",
    "get_clf_eval(y_val, pred)\n",
    "\n",
    "# 예측에 필요한 데이터 분리\n",
    "x_test = df_test_encoded.drop([\"is_converted\", \"id\"], axis=1)\n",
    "\n",
    "test_pred = cat_model.predict(x_test)\n",
    "sum(test_pred) # True로 예측된 개수"
   ]
  },
  {
   "cell_type": "code",
   "execution_count": null,
   "metadata": {},
   "outputs": [],
   "source": [
    "# CatBoost\n",
    "cat_model = CatBoostClassifier(\n",
    "    iterations=650\n",
    "    , depth=9\n",
    "    , learning_rate=0.1628656915939138\n",
    "    , l2_leaf_reg= 0.020222100142839153\n",
    "    , border_count = 152\n",
    "    , verbose=False\n",
    "    , random_state=0\n",
    ")\n",
    "\n",
    "cat_model.fit(x_train, y_train)\n",
    "\n",
    "pred = cat_model.predict(x_val)\n",
    "get_clf_eval(y_val, pred)\n",
    "\n",
    "# 예측에 필요한 데이터 분리\n",
    "x_test = df_test_encoded.drop([\"is_converted\", \"id\"], axis=1)\n",
    "\n",
    "test_pred = cat_model.predict(x_test)\n",
    "sum(test_pred) # True로 예측된 개수"
   ]
  },
  {
   "cell_type": "code",
   "execution_count": 60,
   "metadata": {},
   "outputs": [
    {
     "name": "stdout",
     "output_type": "stream",
     "text": [
      "\n",
      "오차행렬:\n"
     ]
    },
    {
     "data": {
      "text/html": [
       "<div>\n",
       "<style scoped>\n",
       "    .dataframe tbody tr th:only-of-type {\n",
       "        vertical-align: middle;\n",
       "    }\n",
       "\n",
       "    .dataframe tbody tr th {\n",
       "        vertical-align: top;\n",
       "    }\n",
       "\n",
       "    .dataframe thead th {\n",
       "        text-align: right;\n",
       "    }\n",
       "</style>\n",
       "<table border=\"1\" class=\"dataframe\">\n",
       "  <thead>\n",
       "    <tr style=\"text-align: right;\">\n",
       "      <th></th>\n",
       "      <th>True</th>\n",
       "      <th>False</th>\n",
       "    </tr>\n",
       "  </thead>\n",
       "  <tbody>\n",
       "    <tr>\n",
       "      <th>True</th>\n",
       "      <td>817</td>\n",
       "      <td>177</td>\n",
       "    </tr>\n",
       "    <tr>\n",
       "      <th>False</th>\n",
       "      <td>126</td>\n",
       "      <td>10740</td>\n",
       "    </tr>\n",
       "  </tbody>\n",
       "</table>\n",
       "</div>"
      ],
      "text/plain": [
       "       True  False\n",
       "True    817    177\n",
       "False   126  10740"
      ]
     },
     "metadata": {},
     "output_type": "display_data"
    },
    {
     "name": "stdout",
     "output_type": "stream",
     "text": [
      "평가 지표:\n"
     ]
    },
    {
     "data": {
      "text/html": [
       "<div>\n",
       "<style scoped>\n",
       "    .dataframe tbody tr th:only-of-type {\n",
       "        vertical-align: middle;\n",
       "    }\n",
       "\n",
       "    .dataframe tbody tr th {\n",
       "        vertical-align: top;\n",
       "    }\n",
       "\n",
       "    .dataframe thead th {\n",
       "        text-align: right;\n",
       "    }\n",
       "</style>\n",
       "<table border=\"1\" class=\"dataframe\">\n",
       "  <thead>\n",
       "    <tr style=\"text-align: right;\">\n",
       "      <th></th>\n",
       "      <th>정확도</th>\n",
       "      <th>정밀도</th>\n",
       "      <th>재현율</th>\n",
       "      <th>F1 Score</th>\n",
       "      <th>Weighted F1</th>\n",
       "    </tr>\n",
       "  </thead>\n",
       "  <tbody>\n",
       "    <tr>\n",
       "      <th>0</th>\n",
       "      <td>0.974452</td>\n",
       "      <td>0.866384</td>\n",
       "      <td>0.821932</td>\n",
       "      <td>0.843573</td>\n",
       "      <td>0.974146</td>\n",
       "    </tr>\n",
       "  </tbody>\n",
       "</table>\n",
       "</div>"
      ],
      "text/plain": [
       "        정확도       정밀도       재현율  F1 Score  Weighted F1\n",
       "0  0.974452  0.866384  0.821932  0.843573     0.974146"
      ]
     },
     "metadata": {},
     "output_type": "display_data"
    },
    {
     "data": {
      "text/plain": [
       "872"
      ]
     },
     "execution_count": 60,
     "metadata": {},
     "output_type": "execute_result"
    }
   ],
   "source": [
    "# CatBoost\n",
    "cat_model = CatBoostClassifier(\n",
    "    iterations=627\n",
    "    , depth=8\n",
    "    , learning_rate=0.16672163155553238\n",
    "    , l2_leaf_reg= 0.019556805887189933\n",
    "    , border_count = 163\n",
    "    , verbose=False\n",
    "    , random_state=0\n",
    ")\n",
    "\n",
    "cat_model.fit(x_train, y_train)\n",
    "\n",
    "pred = cat_model.predict(x_val)\n",
    "get_clf_eval(y_val, pred)\n",
    "\n",
    "# 예측에 필요한 데이터 분리\n",
    "x_test = df_test_encoded.drop([\"is_converted\", \"id\"], axis=1)\n",
    "\n",
    "test_pred = cat_model.predict(x_test)\n",
    "sum(test_pred) # True로 예측된 개수"
   ]
  },
  {
   "cell_type": "markdown",
   "metadata": {},
   "source": [
    "."
   ]
  }
 ],
 "metadata": {
  "kernelspec": {
   "display_name": "Python 3",
   "language": "python",
   "name": "python3"
  },
  "language_info": {
   "codemirror_mode": {
    "name": "ipython",
    "version": 3
   },
   "file_extension": ".py",
   "mimetype": "text/x-python",
   "name": "python",
   "nbconvert_exporter": "python",
   "pygments_lexer": "ipython3",
   "version": "3.10.4"
  }
 },
 "nbformat": 4,
 "nbformat_minor": 2
}
