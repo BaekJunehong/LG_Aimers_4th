{
 "cells": [
  {
   "cell_type": "markdown",
   "metadata": {},
   "source": [
    "### 모델 라이브러리"
   ]
  },
  {
   "cell_type": "code",
   "execution_count": 57,
   "metadata": {},
   "outputs": [],
   "source": [
    "# 모델 라이브러리\n",
    "from lightgbm import LGBMClassifier\n",
    "from catboost import CatBoostClassifier\n",
    "from xgboost import XGBClassifier\n",
    "from sklearn.tree import DecisionTreeClassifier\n",
    "from sklearn.ensemble import RandomForestClassifier, ExtraTreesClassifier, GradientBoostingClassifier, AdaBoostClassifier\n",
    "\n",
    "# 보팅\n",
    "from sklearn.ensemble import VotingClassifier\n",
    "\n",
    "# 스테킹\n",
    "from sklearn.ensemble import StackingClassifier"
   ]
  },
  {
   "cell_type": "markdown",
   "metadata": {},
   "source": [
    "### 모델 성능확인"
   ]
  },
  {
   "cell_type": "code",
   "execution_count": 58,
   "metadata": {},
   "outputs": [],
   "source": [
    "from sklearn.metrics import (\n",
    "    accuracy_score,\n",
    "    confusion_matrix,\n",
    "    f1_score,\n",
    "    precision_score,\n",
    "    recall_score,\n",
    ")\n",
    "\n",
    "def get_clf_eval(y_test, y_pred=None):\n",
    "    confusion = confusion_matrix(y_test, y_pred, labels=[True, False])\n",
    "    accuracy = accuracy_score(y_test, y_pred)\n",
    "    precision = precision_score(y_test, y_pred, labels=[True, False])\n",
    "    recall = recall_score(y_test, y_pred)\n",
    "    F1 = f1_score(y_test, y_pred, labels=[True, False])\n",
    "    weighted_F1 = f1_score(y_test, y_pred, average='weighted')\n",
    "\n",
    "    metrics = pd.DataFrame({\n",
    "        '정확도': [accuracy],\n",
    "        '정밀도': [precision],\n",
    "        '재현율': [recall],\n",
    "        'F1 Score': [F1],\n",
    "        'Weighted F1': [weighted_F1]\n",
    "    })\n",
    "\n",
    "    confusion_df = pd.DataFrame(confusion, index=['True', 'False'], columns=['True', 'False'])\n",
    "\n",
    "    print(\"\\n오차행렬:\")\n",
    "    display(confusion_df)\n",
    "    print(\"평가 지표:\")\n",
    "    display(metrics)"
   ]
  },
  {
   "cell_type": "markdown",
   "metadata": {},
   "source": [
    "### 모델 정의"
   ]
  },
  {
   "cell_type": "markdown",
   "metadata": {},
   "source": [
    "Optuna를 이용하여 파라미터를 구함"
   ]
  },
  {
   "cell_type": "code",
   "execution_count": 59,
   "metadata": {},
   "outputs": [
    {
     "name": "stderr",
     "output_type": "stream",
     "text": [
      "[I 2024-02-24 12:41:19,563] A new study created in memory with name: no-name-dfe7fe09-b50b-4199-8547-2ec6974f12f7\n"
     ]
    },
    {
     "name": "stderr",
     "output_type": "stream",
     "text": [
      "[I 2024-02-24 12:42:31,449] Trial 0 finished with value: 0.8297338021094927 and parameters: {'n_estimators': 529, 'num_leaves': 629, 'max_depth': 19, 'learning_rate': 0.05494343511669279, 'min_child_samples': 10}. Best is trial 0 with value: 0.8297338021094927.\n",
      "[I 2024-02-24 12:44:02,742] Trial 1 finished with value: 0.8409785932721713 and parameters: {'n_estimators': 588, 'num_leaves': 462, 'max_depth': 27, 'learning_rate': 0.09640261328960191, 'min_child_samples': 9}. Best is trial 1 with value: 0.8409785932721713.\n",
      "[I 2024-02-24 12:45:42,347] Trial 2 finished with value: 0.8336713995943205 and parameters: {'n_estimators': 675, 'num_leaves': 517, 'max_depth': 18, 'learning_rate': 0.09263406719097345, 'min_child_samples': 3}. Best is trial 1 with value: 0.8409785932721713.\n",
      "[I 2024-02-24 12:45:53,478] Trial 3 finished with value: 0.8326693227091633 and parameters: {'n_estimators': 252, 'num_leaves': 212, 'max_depth': 26, 'learning_rate': 0.0780375183440352, 'min_child_samples': 18}. Best is trial 1 with value: 0.8409785932721713.\n",
      "[I 2024-02-24 12:49:05,660] Trial 4 finished with value: 0.8362156663275686 and parameters: {'n_estimators': 788, 'num_leaves': 680, 'max_depth': 15, 'learning_rate': 0.07827238845235909, 'min_child_samples': 4}. Best is trial 1 with value: 0.8409785932721713.\n",
      "[I 2024-02-24 12:50:10,003] Trial 5 finished with value: 0.8344237544036235 and parameters: {'n_estimators': 584, 'num_leaves': 286, 'max_depth': 29, 'learning_rate': 0.0526629838532571, 'min_child_samples': 9}. Best is trial 1 with value: 0.8409785932721713.\n",
      "[I 2024-02-24 12:50:48,384] Trial 6 finished with value: 0.8275520317145688 and parameters: {'n_estimators': 358, 'num_leaves': 665, 'max_depth': 15, 'learning_rate': 0.05727496093799621, 'min_child_samples': 2}. Best is trial 1 with value: 0.8409785932721713.\n",
      "[I 2024-02-24 12:52:18,573] Trial 7 finished with value: 0.8361237950279047 and parameters: {'n_estimators': 571, 'num_leaves': 567, 'max_depth': 20, 'learning_rate': 0.0944310597729478, 'min_child_samples': 14}. Best is trial 1 with value: 0.8409785932721713.\n",
      "[I 2024-02-24 12:52:53,942] Trial 8 finished with value: 0.7848218417399352 and parameters: {'n_estimators': 416, 'num_leaves': 462, 'max_depth': 22, 'learning_rate': 0.006962321691297714, 'min_child_samples': 14}. Best is trial 1 with value: 0.8409785932721713.\n",
      "[I 2024-02-24 12:53:26,131] Trial 9 finished with value: 0.7472616632860041 and parameters: {'n_estimators': 603, 'num_leaves': 326, 'max_depth': 6, 'learning_rate': 0.032227406741494206, 'min_child_samples': 8}. Best is trial 1 with value: 0.8409785932721713.\n",
      "[I 2024-02-24 12:53:47,317] Trial 10 finished with value: 0.6934523809523809 and parameters: {'n_estimators': 763, 'num_leaves': 765, 'max_depth': 3, 'learning_rate': 0.02395107984805277, 'min_child_samples': 20}. Best is trial 1 with value: 0.8409785932721713.\n",
      "[I 2024-02-24 12:55:52,602] Trial 11 finished with value: 0.8356854838709676 and parameters: {'n_estimators': 795, 'num_leaves': 424, 'max_depth': 11, 'learning_rate': 0.07775480505211718, 'min_child_samples': 5}. Best is trial 1 with value: 0.8409785932721713.\n",
      "[I 2024-02-24 12:58:10,347] Trial 12 finished with value: 0.8361237950279047 and parameters: {'n_estimators': 675, 'num_leaves': 788, 'max_depth': 12, 'learning_rate': 0.07863136375717028, 'min_child_samples': 6}. Best is trial 1 with value: 0.8409785932721713.\n",
      "[I 2024-02-24 13:00:50,827] Trial 13 finished with value: 0.8475609756097561 and parameters: {'n_estimators': 716, 'num_leaves': 677, 'max_depth': 24, 'learning_rate': 0.09716914697888186, 'min_child_samples': 12}. Best is trial 13 with value: 0.8475609756097561.\n",
      "[I 2024-02-24 13:02:46,861] Trial 14 finished with value: 0.8409785932721713 and parameters: {'n_estimators': 672, 'num_leaves': 400, 'max_depth': 25, 'learning_rate': 0.09850965644124471, 'min_child_samples': 13}. Best is trial 13 with value: 0.8475609756097561.\n",
      "[I 2024-02-24 13:03:57,663] Trial 15 finished with value: 0.8299046663321625 and parameters: {'n_estimators': 457, 'num_leaves': 559, 'max_depth': 30, 'learning_rate': 0.06576146335233375, 'min_child_samples': 12}. Best is trial 13 with value: 0.8475609756097561.\n",
      "[I 2024-02-24 13:06:32,760] Trial 16 finished with value: 0.8297553669495756 and parameters: {'n_estimators': 703, 'num_leaves': 715, 'max_depth': 24, 'learning_rate': 0.03587081134641241, 'min_child_samples': 16}. Best is trial 13 with value: 0.8475609756097561.\n",
      "[I 2024-02-24 13:08:00,580] Trial 17 finished with value: 0.8313008130081301 and parameters: {'n_estimators': 504, 'num_leaves': 582, 'max_depth': 28, 'learning_rate': 0.08640393118816268, 'min_child_samples': 7}. Best is trial 13 with value: 0.8475609756097561.\n",
      "[I 2024-02-24 13:09:33,282] Trial 18 finished with value: 0.8422649140546006 and parameters: {'n_estimators': 624, 'num_leaves': 367, 'max_depth': 23, 'learning_rate': 0.06706899261624934, 'min_child_samples': 11}. Best is trial 13 with value: 0.8475609756097561.\n",
      "[I 2024-02-24 13:11:27,013] Trial 19 finished with value: 0.8377968671045982 and parameters: {'n_estimators': 731, 'num_leaves': 353, 'max_depth': 22, 'learning_rate': 0.04241373861256686, 'min_child_samples': 11}. Best is trial 13 with value: 0.8475609756097561.\n",
      "[I 2024-02-24 13:12:46,546] Trial 20 finished with value: 0.8413654618473895 and parameters: {'n_estimators': 634, 'num_leaves': 211, 'max_depth': 22, 'learning_rate': 0.06364919767319265, 'min_child_samples': 16}. Best is trial 13 with value: 0.8475609756097561.\n",
      "[I 2024-02-24 13:14:03,772] Trial 21 finished with value: 0.8386123680241327 and parameters: {'n_estimators': 641, 'num_leaves': 216, 'max_depth': 22, 'learning_rate': 0.06573597801556795, 'min_child_samples': 17}. Best is trial 13 with value: 0.8475609756097561.\n",
      "[I 2024-02-24 13:15:59,550] Trial 22 finished with value: 0.8351090816844241 and parameters: {'n_estimators': 744, 'num_leaves': 281, 'max_depth': 24, 'learning_rate': 0.06567243326174059, 'min_child_samples': 15}. Best is trial 13 with value: 0.8475609756097561.\n",
      "[I 2024-02-24 13:17:15,734] Trial 23 finished with value: 0.8287292817679558 and parameters: {'n_estimators': 631, 'num_leaves': 257, 'max_depth': 21, 'learning_rate': 0.04360461305195308, 'min_child_samples': 11}. Best is trial 13 with value: 0.8475609756097561.\n",
      "[I 2024-02-24 13:18:25,437] Trial 24 finished with value: 0.8359999999999999 and parameters: {'n_estimators': 538, 'num_leaves': 340, 'max_depth': 16, 'learning_rate': 0.0682698405453956, 'min_child_samples': 19}. Best is trial 13 with value: 0.8475609756097561.\n",
      "[I 2024-02-24 13:20:19,567] Trial 25 finished with value: 0.8387755102040817 and parameters: {'n_estimators': 714, 'num_leaves': 384, 'max_depth': 24, 'learning_rate': 0.0846610981133423, 'min_child_samples': 13}. Best is trial 13 with value: 0.8475609756097561.\n",
      "[I 2024-02-24 13:21:43,443] Trial 26 finished with value: 0.8347650328448711 and parameters: {'n_estimators': 636, 'num_leaves': 254, 'max_depth': 18, 'learning_rate': 0.05950983122739553, 'min_child_samples': 16}. Best is trial 13 with value: 0.8475609756097561.\n",
      "[I 2024-02-24 13:22:47,969] Trial 27 finished with value: 0.8292191435768262 and parameters: {'n_estimators': 456, 'num_leaves': 500, 'max_depth': 27, 'learning_rate': 0.07195635373848658, 'min_child_samples': 12}. Best is trial 13 with value: 0.8475609756097561.\n",
      "[I 2024-02-24 13:23:15,802] Trial 28 finished with value: 0.7923147301006405 and parameters: {'n_estimators': 227, 'num_leaves': 738, 'max_depth': 12, 'learning_rate': 0.04620898505765119, 'min_child_samples': 15}. Best is trial 13 with value: 0.8475609756097561.\n",
      "[I 2024-02-24 13:24:55,248] Trial 29 finished with value: 0.8357756442647801 and parameters: {'n_estimators': 560, 'num_leaves': 617, 'max_depth': 19, 'learning_rate': 0.08652075322460623, 'min_child_samples': 9}. Best is trial 13 with value: 0.8475609756097561.\n",
      "[I 2024-02-24 13:25:55,581] Trial 30 finished with value: 0.8113844669561023 and parameters: {'n_estimators': 527, 'num_leaves': 310, 'max_depth': 23, 'learning_rate': 0.019262203685736265, 'min_child_samples': 11}. Best is trial 13 with value: 0.8475609756097561.\n",
      "[I 2024-02-24 13:27:33,671] Trial 31 finished with value: 0.8399592252803262 and parameters: {'n_estimators': 608, 'num_leaves': 450, 'max_depth': 28, 'learning_rate': 0.09808333868354244, 'min_child_samples': 9}. Best is trial 13 with value: 0.8475609756097561.\n",
      "[I 2024-02-24 13:29:32,509] Trial 32 finished with value: 0.8406537282941778 and parameters: {'n_estimators': 678, 'num_leaves': 490, 'max_depth': 26, 'learning_rate': 0.08710039472254114, 'min_child_samples': 7}. Best is trial 13 with value: 0.8475609756097561.\n",
      "[I 2024-02-24 13:31:28,769] Trial 33 finished with value: 0.8373035985808414 and parameters: {'n_estimators': 647, 'num_leaves': 526, 'max_depth': 26, 'learning_rate': 0.09123941775874858, 'min_child_samples': 10}. Best is trial 13 with value: 0.8475609756097561.\n",
      "[I 2024-02-24 13:32:52,105] Trial 34 finished with value: 0.8367139959432048 and parameters: {'n_estimators': 701, 'num_leaves': 200, 'max_depth': 20, 'learning_rate': 0.07279655280535922, 'min_child_samples': 10}. Best is trial 13 with value: 0.8475609756097561.\n",
      "[I 2024-02-24 13:34:36,238] Trial 35 finished with value: 0.8373035985808414 and parameters: {'n_estimators': 602, 'num_leaves': 431, 'max_depth': 30, 'learning_rate': 0.05933927107842523, 'min_child_samples': 18}. Best is trial 13 with value: 0.8475609756097561.\n",
      "[I 2024-02-24 13:36:56,241] Trial 36 finished with value: 0.8425878757004586 and parameters: {'n_estimators': 761, 'num_leaves': 382, 'max_depth': 27, 'learning_rate': 0.09990684727080743, 'min_child_samples': 12}. Best is trial 13 with value: 0.8475609756097561.\n",
      "[I 2024-02-24 13:38:57,857] Trial 37 finished with value: 0.8375378405650857 and parameters: {'n_estimators': 752, 'num_leaves': 384, 'max_depth': 25, 'learning_rate': 0.05096869108085894, 'min_child_samples': 13}. Best is trial 13 with value: 0.8475609756097561.\n",
      "[I 2024-02-24 13:40:52,971] Trial 38 finished with value: 0.8398576512455516 and parameters: {'n_estimators': 772, 'num_leaves': 236, 'max_depth': 27, 'learning_rate': 0.09271192771159198, 'min_child_samples': 12}. Best is trial 13 with value: 0.8475609756097561.\n",
      "[I 2024-02-24 13:43:39,041] Trial 39 finished with value: 0.8360488798370672 and parameters: {'n_estimators': 799, 'num_leaves': 641, 'max_depth': 17, 'learning_rate': 0.08031776538577254, 'min_child_samples': 14}. Best is trial 13 with value: 0.8475609756097561.\n",
      "[I 2024-02-24 13:44:09,493] Trial 40 finished with value: 0.8375378405650857 and parameters: {'n_estimators': 328, 'num_leaves': 301, 'max_depth': 20, 'learning_rate': 0.09963562434159551, 'min_child_samples': 15}. Best is trial 13 with value: 0.8475609756097561.\n",
      "[I 2024-02-24 13:45:32,935] Trial 41 finished with value: 0.8405501782985227 and parameters: {'n_estimators': 565, 'num_leaves': 365, 'max_depth': 28, 'learning_rate': 0.09126160530749787, 'min_child_samples': 8}. Best is trial 13 with value: 0.8475609756097561.\n",
      "[I 2024-02-24 13:49:04,489] Trial 42 finished with value: 0.8377551020408163 and parameters: {'n_estimators': 661, 'num_leaves': 469, 'max_depth': 23, 'learning_rate': 0.09383777525080694, 'min_child_samples': 9}. Best is trial 13 with value: 0.8475609756097561.\n",
      "[I 2024-02-24 13:52:54,828] Trial 43 finished with value: 0.8404471544715447 and parameters: {'n_estimators': 720, 'num_leaves': 421, 'max_depth': 25, 'learning_rate': 0.07398759741941778, 'min_child_samples': 11}. Best is trial 13 with value: 0.8475609756097561.\n",
      "[I 2024-02-24 13:56:16,169] Trial 44 finished with value: 0.8356234096692112 and parameters: {'n_estimators': 618, 'num_leaves': 521, 'max_depth': 29, 'learning_rate': 0.08188528433697034, 'min_child_samples': 3}. Best is trial 13 with value: 0.8475609756097561.\n",
      "[I 2024-02-24 13:58:53,949] Trial 45 finished with value: 0.8281407035175878 and parameters: {'n_estimators': 589, 'num_leaves': 543, 'max_depth': 26, 'learning_rate': 0.05632097099741195, 'min_child_samples': 10}. Best is trial 13 with value: 0.8475609756097561.\n",
      "[I 2024-02-24 14:01:33,079] Trial 46 finished with value: 0.8354559347936831 and parameters: {'n_estimators': 680, 'num_leaves': 474, 'max_depth': 21, 'learning_rate': 0.09663277826135665, 'min_child_samples': 8}. Best is trial 13 with value: 0.8475609756097561.\n",
      "[I 2024-02-24 14:03:42,969] Trial 47 finished with value: 0.8369510348308934 and parameters: {'n_estimators': 767, 'num_leaves': 682, 'max_depth': 23, 'learning_rate': 0.09142178187983549, 'min_child_samples': 5}. Best is trial 13 with value: 0.8475609756097561.\n",
      "[I 2024-02-24 14:05:10,131] Trial 48 finished with value: 0.8398576512455516 and parameters: {'n_estimators': 697, 'num_leaves': 409, 'max_depth': 30, 'learning_rate': 0.07567810122461303, 'min_child_samples': 13}. Best is trial 13 with value: 0.8475609756097561.\n",
      "[I 2024-02-24 14:06:24,986] Trial 49 finished with value: 0.833502538071066 and parameters: {'n_estimators': 547, 'num_leaves': 442, 'max_depth': 27, 'learning_rate': 0.0819101019163154, 'min_child_samples': 12}. Best is trial 13 with value: 0.8475609756097561.\n",
      "[I 2024-02-24 14:07:52,727] Trial 50 finished with value: 0.8336693548387096 and parameters: {'n_estimators': 493, 'num_leaves': 597, 'max_depth': 14, 'learning_rate': 0.08803924533650426, 'min_child_samples': 17}. Best is trial 13 with value: 0.8475609756097561.\n",
      "[I 2024-02-24 14:09:34,077] Trial 51 finished with value: 0.8425878757004586 and parameters: {'n_estimators': 663, 'num_leaves': 396, 'max_depth': 25, 'learning_rate': 0.09885348702260043, 'min_child_samples': 14}. Best is trial 13 with value: 0.8475609756097561.\n",
      "[I 2024-02-24 14:11:17,762] Trial 52 finished with value: 0.8399592252803262 and parameters: {'n_estimators': 658, 'num_leaves': 367, 'max_depth': 25, 'learning_rate': 0.0961584851698388, 'min_child_samples': 14}. Best is trial 13 with value: 0.8475609756097561.\n",
      "[I 2024-02-24 14:13:38,824] Trial 53 finished with value: 0.837920489296636 and parameters: {'n_estimators': 737, 'num_leaves': 326, 'max_depth': 24, 'learning_rate': 0.09987824066385886, 'min_child_samples': 16}. Best is trial 13 with value: 0.8475609756097561.\n",
      "[I 2024-02-24 14:14:22,273] Trial 54 finished with value: 0.7967032967032966 and parameters: {'n_estimators': 576, 'num_leaves': 393, 'max_depth': 7, 'learning_rate': 0.06231255383508348, 'min_child_samples': 14}. Best is trial 13 with value: 0.8475609756097561.\n",
      "[I 2024-02-24 14:16:04,753] Trial 55 finished with value: 0.8400203148806501 and parameters: {'n_estimators': 683, 'num_leaves': 279, 'max_depth': 21, 'learning_rate': 0.08919673757177335, 'min_child_samples': 12}. Best is trial 13 with value: 0.8475609756097561.\n",
      "[I 2024-02-24 14:18:07,081] Trial 56 finished with value: 0.8362156663275686 and parameters: {'n_estimators': 625, 'num_leaves': 348, 'max_depth': 29, 'learning_rate': 0.09514955657760575, 'min_child_samples': 15}. Best is trial 13 with value: 0.8475609756097561.\n",
      "[I 2024-02-24 14:21:36,746] Trial 57 finished with value: 0.8360323886639677 and parameters: {'n_estimators': 774, 'num_leaves': 792, 'max_depth': 22, 'learning_rate': 0.0838190499860249, 'min_child_samples': 13}. Best is trial 13 with value: 0.8475609756097561.\n",
      "[I 2024-02-24 14:24:15,821] Trial 58 finished with value: 0.8285714285714286 and parameters: {'n_estimators': 726, 'num_leaves': 487, 'max_depth': 27, 'learning_rate': 0.02178976860775539, 'min_child_samples': 11}. Best is trial 13 with value: 0.8475609756097561.\n",
      "[I 2024-02-24 14:26:51,393] Trial 59 finished with value: 0.8332503733200597 and parameters: {'n_estimators': 593, 'num_leaves': 327, 'max_depth': 25, 'learning_rate': 0.037387669944642515, 'min_child_samples': 17}. Best is trial 13 with value: 0.8475609756097561.\n",
      "[I 2024-02-24 14:27:52,534] Trial 60 finished with value: 0.8319919517102615 and parameters: {'n_estimators': 512, 'num_leaves': 453, 'max_depth': 23, 'learning_rate': 0.06960609267050379, 'min_child_samples': 10}. Best is trial 13 with value: 0.8475609756097561.\n",
      "[I 2024-02-24 14:29:06,307] Trial 61 finished with value: 0.8387423935091278 and parameters: {'n_estimators': 642, 'num_leaves': 406, 'max_depth': 24, 'learning_rate': 0.09626922219854255, 'min_child_samples': 13}. Best is trial 13 with value: 0.8475609756097561.\n",
      "[I 2024-02-24 14:30:25,326] Trial 62 finished with value: 0.8417302798982188 and parameters: {'n_estimators': 668, 'num_leaves': 395, 'max_depth': 28, 'learning_rate': 0.09833263949726143, 'min_child_samples': 12}. Best is trial 13 with value: 0.8475609756097561.\n",
      "[I 2024-02-24 14:31:26,041] Trial 63 finished with value: 0.7923112986404125 and parameters: {'n_estimators': 695, 'num_leaves': 370, 'max_depth': 29, 'learning_rate': 0.006062643127683093, 'min_child_samples': 14}. Best is trial 13 with value: 0.8475609756097561.\n",
      "[I 2024-02-24 14:32:33,846] Trial 64 finished with value: 0.8389398572884811 and parameters: {'n_estimators': 658, 'num_leaves': 418, 'max_depth': 28, 'learning_rate': 0.0894969622760939, 'min_child_samples': 12}. Best is trial 13 with value: 0.8475609756097561.\n",
      "[I 2024-02-24 14:33:49,157] Trial 65 finished with value: 0.8380566801619432 and parameters: {'n_estimators': 708, 'num_leaves': 379, 'max_depth': 26, 'learning_rate': 0.053889146041003616, 'min_child_samples': 9}. Best is trial 13 with value: 0.8475609756097561.\n",
      "[I 2024-02-24 14:34:39,620] Trial 66 finished with value: 0.8373983739837398 and parameters: {'n_estimators': 617, 'num_leaves': 262, 'max_depth': 26, 'learning_rate': 0.09994227293946333, 'min_child_samples': 16}. Best is trial 13 with value: 0.8475609756097561.\n",
      "[I 2024-02-24 14:36:03,622] Trial 67 finished with value: 0.8404471544715447 and parameters: {'n_estimators': 742, 'num_leaves': 436, 'max_depth': 28, 'learning_rate': 0.09349536402344254, 'min_child_samples': 10}. Best is trial 13 with value: 0.8475609756097561.\n",
      "[I 2024-02-24 14:37:36,085] Trial 68 finished with value: 0.8349415947181311 and parameters: {'n_estimators': 667, 'num_leaves': 506, 'max_depth': 27, 'learning_rate': 0.06274503945525939, 'min_child_samples': 12}. Best is trial 13 with value: 0.8475609756097561.\n",
      "[I 2024-02-24 14:38:55,231] Trial 69 finished with value: 0.8356997971602435 and parameters: {'n_estimators': 755, 'num_leaves': 337, 'max_depth': 25, 'learning_rate': 0.048173505151920544, 'min_child_samples': 11}. Best is trial 13 with value: 0.8475609756097561.\n",
      "[I 2024-02-24 14:39:56,020] Trial 70 finished with value: 0.8426395939086295 and parameters: {'n_estimators': 640, 'num_leaves': 304, 'max_depth': 19, 'learning_rate': 0.08513543422433711, 'min_child_samples': 11}. Best is trial 13 with value: 0.8475609756097561.\n",
      "[I 2024-02-24 14:41:06,736] Trial 71 finished with value: 0.8340897629853756 and parameters: {'n_estimators': 638, 'num_leaves': 306, 'max_depth': 18, 'learning_rate': 0.07734558321654583, 'min_child_samples': 11}. Best is trial 13 with value: 0.8475609756097561.\n",
      "[I 2024-02-24 14:42:08,613] Trial 72 finished with value: 0.8409785932721713 and parameters: {'n_estimators': 689, 'num_leaves': 228, 'max_depth': 20, 'learning_rate': 0.08525793974366738, 'min_child_samples': 13}. Best is trial 13 with value: 0.8475609756097561.\n",
      "[I 2024-02-24 14:43:18,436] Trial 73 finished with value: 0.8383477817440081 and parameters: {'n_estimators': 601, 'num_leaves': 347, 'max_depth': 22, 'learning_rate': 0.09702244453854204, 'min_child_samples': 15}. Best is trial 13 with value: 0.8475609756097561.\n",
      "[I 2024-02-24 14:44:12,277] Trial 74 finished with value: 0.772829509671615 and parameters: {'n_estimators': 650, 'num_leaves': 288, 'max_depth': 19, 'learning_rate': 0.0021987736275548703, 'min_child_samples': 8}. Best is trial 13 with value: 0.8475609756097561.\n",
      "[I 2024-02-24 14:45:30,514] Trial 75 finished with value: 0.8421588594704683 and parameters: {'n_estimators': 712, 'num_leaves': 395, 'max_depth': 24, 'learning_rate': 0.09380576345426218, 'min_child_samples': 10}. Best is trial 13 with value: 0.8475609756097561.\n",
      "[I 2024-02-24 14:46:41,301] Trial 76 finished with value: 0.8390045708481463 and parameters: {'n_estimators': 717, 'num_leaves': 394, 'max_depth': 23, 'learning_rate': 0.09365328965228079, 'min_child_samples': 11}. Best is trial 13 with value: 0.8475609756097561.\n",
      "[I 2024-02-24 14:48:21,508] Trial 77 finished with value: 0.8395939086294416 and parameters: {'n_estimators': 784, 'num_leaves': 362, 'max_depth': 21, 'learning_rate': 0.0919998355442494, 'min_child_samples': 10}. Best is trial 13 with value: 0.8475609756097561.\n",
      "[I 2024-02-24 14:48:55,695] Trial 78 finished with value: 0.8359414437152954 and parameters: {'n_estimators': 360, 'num_leaves': 317, 'max_depth': 24, 'learning_rate': 0.09006224037614, 'min_child_samples': 12}. Best is trial 13 with value: 0.8475609756097561.\n",
      "[I 2024-02-24 14:51:43,904] Trial 79 finished with value: 0.8354559347936831 and parameters: {'n_estimators': 733, 'num_leaves': 714, 'max_depth': 18, 'learning_rate': 0.08320638885211487, 'min_child_samples': 14}. Best is trial 13 with value: 0.8475609756097561.\n",
      "[I 2024-02-24 14:53:31,466] Trial 80 finished with value: 0.8395939086294416 and parameters: {'n_estimators': 708, 'num_leaves': 254, 'max_depth': 22, 'learning_rate': 0.0869347885934218, 'min_child_samples': 13}. Best is trial 13 with value: 0.8475609756097561.\n",
      "[I 2024-02-24 14:55:58,829] Trial 81 finished with value: 0.8404907975460123 and parameters: {'n_estimators': 668, 'num_leaves': 401, 'max_depth': 26, 'learning_rate': 0.09774985345773601, 'min_child_samples': 10}. Best is trial 13 with value: 0.8475609756097561.\n",
      "[I 2024-02-24 14:57:57,894] Trial 82 finished with value: 0.8363821138211383 and parameters: {'n_estimators': 626, 'num_leaves': 382, 'max_depth': 25, 'learning_rate': 0.09603089731965851, 'min_child_samples': 9}. Best is trial 13 with value: 0.8475609756097561.\n",
      "[I 2024-02-24 15:00:07,233] Trial 83 finished with value: 0.8334177215189874 and parameters: {'n_estimators': 608, 'num_leaves': 460, 'max_depth': 24, 'learning_rate': 0.079847094042691, 'min_child_samples': 12}. Best is trial 13 with value: 0.8475609756097561.\n",
      "[I 2024-02-24 15:02:31,917] Trial 84 finished with value: 0.8394308943089431 and parameters: {'n_estimators': 686, 'num_leaves': 423, 'max_depth': 15, 'learning_rate': 0.09331763674132346, 'min_child_samples': 9}. Best is trial 13 with value: 0.8475609756097561.\n",
      "[I 2024-02-24 15:04:54,443] Trial 85 finished with value: 0.8403446528129751 and parameters: {'n_estimators': 549, 'num_leaves': 355, 'max_depth': 28, 'learning_rate': 0.0886966894965251, 'min_child_samples': 7}. Best is trial 13 with value: 0.8475609756097561.\n",
      "[I 2024-02-24 15:07:51,627] Trial 86 finished with value: 0.8400203148806501 and parameters: {'n_estimators': 587, 'num_leaves': 294, 'max_depth': 27, 'learning_rate': 0.09935168060045174, 'min_child_samples': 11}. Best is trial 13 with value: 0.8475609756097561.\n",
      "[I 2024-02-24 15:11:50,828] Trial 87 finished with value: 0.831733198585144 and parameters: {'n_estimators': 647, 'num_leaves': 553, 'max_depth': 21, 'learning_rate': 0.0700846994532761, 'min_child_samples': 18}. Best is trial 13 with value: 0.8475609756097561.\n",
      "[I 2024-02-24 15:17:03,283] Trial 88 finished with value: 0.834349593495935 and parameters: {'n_estimators': 673, 'num_leaves': 770, 'max_depth': 23, 'learning_rate': 0.09504463690692697, 'min_child_samples': 20}. Best is trial 13 with value: 0.8475609756097561.\n",
      "[I 2024-02-24 15:19:29,587] Trial 89 finished with value: 0.8359573387506349 and parameters: {'n_estimators': 476, 'num_leaves': 479, 'max_depth': 30, 'learning_rate': 0.09142128190954063, 'min_child_samples': 10}. Best is trial 13 with value: 0.8475609756097561.\n",
      "[I 2024-02-24 15:21:01,586] Trial 90 finished with value: 0.8358817533129459 and parameters: {'n_estimators': 575, 'num_leaves': 440, 'max_depth': 22, 'learning_rate': 0.09817992699302049, 'min_child_samples': 13}. Best is trial 13 with value: 0.8475609756097561.\n",
      "[I 2024-02-24 15:23:47,862] Trial 91 finished with value: 0.8410360589131539 and parameters: {'n_estimators': 755, 'num_leaves': 418, 'max_depth': 25, 'learning_rate': 0.09450070623920298, 'min_child_samples': 12}. Best is trial 13 with value: 0.8475609756097561.\n",
      "[I 2024-02-24 15:25:26,374] Trial 92 finished with value: 0.8389398572884811 and parameters: {'n_estimators': 752, 'num_leaves': 421, 'max_depth': 27, 'learning_rate': 0.09384471691942117, 'min_child_samples': 11}. Best is trial 13 with value: 0.8475609756097561.\n",
      "[I 2024-02-24 15:27:43,849] Trial 93 finished with value: 0.8394308943089431 and parameters: {'n_estimators': 782, 'num_leaves': 410, 'max_depth': 25, 'learning_rate': 0.09750044857117585, 'min_child_samples': 12}. Best is trial 13 with value: 0.8475609756097561.\n",
      "[I 2024-02-24 15:30:18,205] Trial 94 finished with value: 0.837232960325534 and parameters: {'n_estimators': 724, 'num_leaves': 377, 'max_depth': 24, 'learning_rate': 0.08758502098768417, 'min_child_samples': 12}. Best is trial 13 with value: 0.8475609756097561.\n",
      "[I 2024-02-24 15:32:16,614] Trial 95 finished with value: 0.8355329949238578 and parameters: {'n_estimators': 800, 'num_leaves': 389, 'max_depth': 29, 'learning_rate': 0.09052572775096948, 'min_child_samples': 11}. Best is trial 13 with value: 0.8475609756097561.\n",
      "[I 2024-02-24 15:33:41,307] Trial 96 finished with value: 0.8453292496171516 and parameters: {'n_estimators': 764, 'num_leaves': 204, 'max_depth': 23, 'learning_rate': 0.09998510883209204, 'min_child_samples': 14}. Best is trial 13 with value: 0.8475609756097561.\n",
      "[I 2024-02-24 15:35:50,478] Trial 97 finished with value: 0.8386768447837151 and parameters: {'n_estimators': 764, 'num_leaves': 236, 'max_depth': 23, 'learning_rate': 0.09987099077606745, 'min_child_samples': 15}. Best is trial 13 with value: 0.8475609756097561.\n",
      "[I 2024-02-24 15:38:01,950] Trial 98 finished with value: 0.8392036753445636 and parameters: {'n_estimators': 744, 'num_leaves': 277, 'max_depth': 20, 'learning_rate': 0.09497089396278525, 'min_child_samples': 13}. Best is trial 13 with value: 0.8475609756097561.\n",
      "[I 2024-02-24 15:39:16,581] Trial 99 finished with value: 0.8246398410332837 and parameters: {'n_estimators': 711, 'num_leaves': 206, 'max_depth': 25, 'learning_rate': 0.029680832133418943, 'min_child_samples': 14}. Best is trial 13 with value: 0.8475609756097561.\n",
      "[I 2024-02-24 15:40:14,665] Trial 100 finished with value: 0.8432267884322678 and parameters: {'n_estimators': 698, 'num_leaves': 229, 'max_depth': 26, 'learning_rate': 0.08546436712632563, 'min_child_samples': 16}. Best is trial 13 with value: 0.8475609756097561.\n",
      "[I 2024-02-24 15:41:33,534] Trial 101 finished with value: 0.8391679350583461 and parameters: {'n_estimators': 701, 'num_leaves': 240, 'max_depth': 26, 'learning_rate': 0.09642595873482288, 'min_child_samples': 16}. Best is trial 13 with value: 0.8475609756097561.\n",
      "[I 2024-02-24 15:43:00,629] Trial 102 finished with value: 0.8356095093576125 and parameters: {'n_estimators': 733, 'num_leaves': 212, 'max_depth': 24, 'learning_rate': 0.08618208679625064, 'min_child_samples': 17}. Best is trial 13 with value: 0.8475609756097561.\n",
      "[I 2024-02-24 15:44:29,686] Trial 103 finished with value: 0.836807320793086 and parameters: {'n_estimators': 753, 'num_leaves': 228, 'max_depth': 22, 'learning_rate': 0.07474553556046519, 'min_child_samples': 15}. Best is trial 13 with value: 0.8475609756097561.\n",
      "[I 2024-02-24 15:45:45,432] Trial 104 finished with value: 0.8425832492431887 and parameters: {'n_estimators': 773, 'num_leaves': 223, 'max_depth': 26, 'learning_rate': 0.06444978714840927, 'min_child_samples': 16}. Best is trial 13 with value: 0.8475609756097561.\n",
      "[I 2024-02-24 15:47:00,361] Trial 105 finished with value: 0.8357756442647801 and parameters: {'n_estimators': 692, 'num_leaves': 265, 'max_depth': 26, 'learning_rate': 0.06339654151211084, 'min_child_samples': 16}. Best is trial 13 with value: 0.8475609756097561.\n",
      "[I 2024-02-24 15:47:19,394] Trial 106 finished with value: 0.7516722408026756 and parameters: {'n_estimators': 722, 'num_leaves': 246, 'max_depth': 3, 'learning_rate': 0.06939807834016413, 'min_child_samples': 17}. Best is trial 13 with value: 0.8475609756097561.\n",
      "[I 2024-02-24 15:48:26,845] Trial 107 finished with value: 0.8441295546558705 and parameters: {'n_estimators': 778, 'num_leaves': 219, 'max_depth': 23, 'learning_rate': 0.06666131256278093, 'min_child_samples': 18}. Best is trial 13 with value: 0.8475609756097561.\n",
      "[I 2024-02-24 15:49:31,745] Trial 108 finished with value: 0.8361237950279047 and parameters: {'n_estimators': 775, 'num_leaves': 217, 'max_depth': 23, 'learning_rate': 0.06655559399459371, 'min_child_samples': 18}. Best is trial 13 with value: 0.8475609756097561.\n",
      "[I 2024-02-24 15:50:32,225] Trial 109 finished with value: 0.819704433497537 and parameters: {'n_estimators': 786, 'num_leaves': 219, 'max_depth': 8, 'learning_rate': 0.0770090289539899, 'min_child_samples': 19}. Best is trial 13 with value: 0.8475609756097561.\n",
      "[I 2024-02-24 15:51:45,921] Trial 110 finished with value: 0.8395560040363269 and parameters: {'n_estimators': 770, 'num_leaves': 247, 'max_depth': 29, 'learning_rate': 0.0596333017162429, 'min_child_samples': 14}. Best is trial 13 with value: 0.8475609756097561.\n",
      "[I 2024-02-24 15:52:42,257] Trial 111 finished with value: 0.8373493975903614 and parameters: {'n_estimators': 678, 'num_leaves': 204, 'max_depth': 24, 'learning_rate': 0.06027654808526967, 'min_child_samples': 18}. Best is trial 13 with value: 0.8475609756097561.\n",
      "[I 2024-02-24 15:53:39,340] Trial 112 finished with value: 0.836858006042296 and parameters: {'n_estimators': 661, 'num_leaves': 225, 'max_depth': 21, 'learning_rate': 0.07145170403504499, 'min_child_samples': 15}. Best is trial 13 with value: 0.8475609756097561.\n",
      "[I 2024-02-24 15:54:51,106] Trial 113 finished with value: 0.8364556962025316 and parameters: {'n_estimators': 791, 'num_leaves': 270, 'max_depth': 23, 'learning_rate': 0.057701024364683266, 'min_child_samples': 19}. Best is trial 13 with value: 0.8475609756097561.\n",
      "[I 2024-02-24 15:56:19,301] Trial 114 finished with value: 0.8401221995926681 and parameters: {'n_estimators': 761, 'num_leaves': 336, 'max_depth': 17, 'learning_rate': 0.0819374667376663, 'min_child_samples': 16}. Best is trial 13 with value: 0.8475609756097561.\n",
      "[I 2024-02-24 15:57:21,593] Trial 115 finished with value: 0.8377281947261664 and parameters: {'n_estimators': 741, 'num_leaves': 200, 'max_depth': 28, 'learning_rate': 0.06729345083112745, 'min_child_samples': 16}. Best is trial 13 with value: 0.8475609756097561.\n",
      "[I 2024-02-24 15:58:17,146] Trial 116 finished with value: 0.8354302969300453 and parameters: {'n_estimators': 629, 'num_leaves': 232, 'max_depth': 26, 'learning_rate': 0.06518020451675698, 'min_child_samples': 17}. Best is trial 13 with value: 0.8475609756097561.\n",
      "[I 2024-02-24 15:59:29,018] Trial 117 finished with value: 0.8370221327967807 and parameters: {'n_estimators': 652, 'num_leaves': 253, 'max_depth': 27, 'learning_rate': 0.05302701616307392, 'min_child_samples': 14}. Best is trial 13 with value: 0.8475609756097561.\n",
      "[I 2024-02-24 16:00:58,912] Trial 118 finished with value: 0.8361981799797775 and parameters: {'n_estimators': 705, 'num_leaves': 317, 'max_depth': 25, 'learning_rate': 0.05004130518025654, 'min_child_samples': 13}. Best is trial 13 with value: 0.8475609756097561.\n",
      "[I 2024-02-24 16:02:32,613] Trial 119 finished with value: 0.8395313295975547 and parameters: {'n_estimators': 720, 'num_leaves': 298, 'max_depth': 19, 'learning_rate': 0.09825103590552535, 'min_child_samples': 15}. Best is trial 13 with value: 0.8475609756097561.\n",
      "[I 2024-02-24 16:03:51,396] Trial 120 finished with value: 0.8389702170620897 and parameters: {'n_estimators': 690, 'num_leaves': 217, 'max_depth': 22, 'learning_rate': 0.0732198860082652, 'min_child_samples': 12}. Best is trial 13 with value: 0.8475609756097561.\n",
      "[I 2024-02-24 16:06:01,018] Trial 121 finished with value: 0.8383477817440081 and parameters: {'n_estimators': 751, 'num_leaves': 362, 'max_depth': 25, 'learning_rate': 0.09256311905794756, 'min_child_samples': 12}. Best is trial 13 with value: 0.8475609756097561.\n",
      "[I 2024-02-24 16:09:06,668] Trial 122 finished with value: 0.8394308943089431 and parameters: {'n_estimators': 780, 'num_leaves': 397, 'max_depth': 24, 'learning_rate': 0.09543062974771252, 'min_child_samples': 11}. Best is trial 13 with value: 0.8475609756097561.\n",
      "[I 2024-02-24 16:11:38,275] Trial 123 finished with value: 0.8396560445118867 and parameters: {'n_estimators': 766, 'num_leaves': 240, 'max_depth': 25, 'learning_rate': 0.06466712597583864, 'min_child_samples': 10}. Best is trial 13 with value: 0.8475609756097561.\n",
      "[I 2024-02-24 16:14:48,655] Trial 124 finished with value: 0.8368794326241136 and parameters: {'n_estimators': 731, 'num_leaves': 411, 'max_depth': 24, 'learning_rate': 0.06162384520511287, 'min_child_samples': 12}. Best is trial 13 with value: 0.8475609756097561.\n",
      "[I 2024-02-24 16:19:05,145] Trial 125 finished with value: 0.8392315470171892 and parameters: {'n_estimators': 744, 'num_leaves': 372, 'max_depth': 26, 'learning_rate': 0.05554157195001747, 'min_child_samples': 19}. Best is trial 13 with value: 0.8475609756097561.\n",
      "[I 2024-02-24 16:22:47,550] Trial 126 finished with value: 0.8376590330788805 and parameters: {'n_estimators': 639, 'num_leaves': 433, 'max_depth': 27, 'learning_rate': 0.0980814826399467, 'min_child_samples': 11}. Best is trial 13 with value: 0.8475609756097561.\n",
      "[I 2024-02-24 16:25:59,531] Trial 127 finished with value: 0.839267548321465 and parameters: {'n_estimators': 613, 'num_leaves': 350, 'max_depth': 23, 'learning_rate': 0.09401759301094056, 'min_child_samples': 13}. Best is trial 13 with value: 0.8475609756097561.\n",
      "[I 2024-02-24 16:30:27,778] Trial 128 finished with value: 0.8366412213740458 and parameters: {'n_estimators': 761, 'num_leaves': 387, 'max_depth': 28, 'learning_rate': 0.08978316793559937, 'min_child_samples': 10}. Best is trial 13 with value: 0.8475609756097561.\n",
      "[I 2024-02-24 16:34:59,982] Trial 129 finished with value: 0.8337518834756404 and parameters: {'n_estimators': 670, 'num_leaves': 673, 'max_depth': 24, 'learning_rate': 0.04269757201614163, 'min_child_samples': 17}. Best is trial 13 with value: 0.8475609756097561.\n",
      "[I 2024-02-24 16:38:06,350] Trial 130 finished with value: 0.8398576512455516 and parameters: {'n_estimators': 797, 'num_leaves': 648, 'max_depth': 26, 'learning_rate': 0.0924695739515546, 'min_child_samples': 11}. Best is trial 13 with value: 0.8475609756097561.\n",
      "[I 2024-02-24 16:40:01,914] Trial 131 finished with value: 0.8386108273748724 and parameters: {'n_estimators': 630, 'num_leaves': 459, 'max_depth': 27, 'learning_rate': 0.099823208024682, 'min_child_samples': 9}. Best is trial 13 with value: 0.8475609756097561.\n",
      "[I 2024-02-24 16:42:10,063] Trial 132 finished with value: 0.8398576512455516 and parameters: {'n_estimators': 655, 'num_leaves': 450, 'max_depth': 22, 'learning_rate': 0.09599417777500022, 'min_child_samples': 18}. Best is trial 13 with value: 0.8475609756097561.\n",
      "[I 2024-02-24 16:42:38,665] Trial 133 finished with value: 0.8382573860791187 and parameters: {'n_estimators': 261, 'num_leaves': 405, 'max_depth': 26, 'learning_rate': 0.09139656946433869, 'min_child_samples': 10}. Best is trial 13 with value: 0.8475609756097561.\n",
      "[I 2024-02-24 16:43:59,567] Trial 134 finished with value: 0.8394308943089431 and parameters: {'n_estimators': 601, 'num_leaves': 201, 'max_depth': 25, 'learning_rate': 0.09769567350689644, 'min_child_samples': 20}. Best is trial 13 with value: 0.8475609756097561.\n",
      "[I 2024-02-24 16:46:11,079] Trial 135 finished with value: 0.8374936321956189 and parameters: {'n_estimators': 678, 'num_leaves': 508, 'max_depth': 23, 'learning_rate': 0.09521409759530736, 'min_child_samples': 9}. Best is trial 13 with value: 0.8475609756097561.\n",
      "[I 2024-02-24 16:47:57,564] Trial 136 finished with value: 0.8417302798982188 and parameters: {'n_estimators': 618, 'num_leaves': 422, 'max_depth': 27, 'learning_rate': 0.08886438149105669, 'min_child_samples': 12}. Best is trial 13 with value: 0.8475609756097561.\n",
      "[I 2024-02-24 16:50:03,826] Trial 137 finished with value: 0.8436067244014264 and parameters: {'n_estimators': 713, 'num_leaves': 426, 'max_depth': 27, 'learning_rate': 0.08439861957542069, 'min_child_samples': 12}. Best is trial 13 with value: 0.8475609756097561.\n",
      "[I 2024-02-24 16:51:12,401] Trial 138 finished with value: 0.8292191435768262 and parameters: {'n_estimators': 426, 'num_leaves': 591, 'max_depth': 28, 'learning_rate': 0.08517934060489876, 'min_child_samples': 13}. Best is trial 13 with value: 0.8475609756097561.\n",
      "[I 2024-02-24 16:55:01,066] Trial 139 finished with value: 0.828774062816616 and parameters: {'n_estimators': 699, 'num_leaves': 533, 'max_depth': 27, 'learning_rate': 0.08314409355564384, 'min_child_samples': 12}. Best is trial 13 with value: 0.8475609756097561.\n",
      "[I 2024-02-24 16:58:07,038] Trial 140 finished with value: 0.8381532217148655 and parameters: {'n_estimators': 711, 'num_leaves': 226, 'max_depth': 29, 'learning_rate': 0.0797395382302655, 'min_child_samples': 11}. Best is trial 13 with value: 0.8475609756097561.\n",
      "[I 2024-02-24 17:02:19,594] Trial 141 finished with value: 0.8403446528129751 and parameters: {'n_estimators': 735, 'num_leaves': 427, 'max_depth': 25, 'learning_rate': 0.08817043775285398, 'min_child_samples': 12}. Best is trial 13 with value: 0.8475609756097561.\n",
      "[I 2024-02-24 17:05:28,587] Trial 142 finished with value: 0.8319838056680161 and parameters: {'n_estimators': 619, 'num_leaves': 396, 'max_depth': 26, 'learning_rate': 0.06825624679101427, 'min_child_samples': 12}. Best is trial 13 with value: 0.8475609756097561.\n",
      "[I 2024-02-24 17:08:55,341] Trial 143 finished with value: 0.8381532217148655 and parameters: {'n_estimators': 642, 'num_leaves': 414, 'max_depth': 28, 'learning_rate': 0.08895857276112537, 'min_child_samples': 13}. Best is trial 13 with value: 0.8475609756097561.\n",
      "[I 2024-02-24 17:13:10,510] Trial 144 finished with value: 0.8391038696537678 and parameters: {'n_estimators': 723, 'num_leaves': 442, 'max_depth': 24, 'learning_rate': 0.0853639986069275, 'min_child_samples': 12}. Best is trial 13 with value: 0.8475609756097561.\n",
      "[I 2024-02-24 17:16:53,816] Trial 145 finished with value: 0.8388408744280632 and parameters: {'n_estimators': 664, 'num_leaves': 387, 'max_depth': 26, 'learning_rate': 0.09081118296841999, 'min_child_samples': 11}. Best is trial 13 with value: 0.8475609756097561.\n"
     ]
    },
    {
     "ename": "",
     "evalue": "",
     "output_type": "error",
     "traceback": [
      "\u001b[1;31m현재 셀 또는 이전 셀에서 코드를 실행하는 동안 Kernel이 충돌했습니다. \n",
      "\u001b[1;31m셀의 코드를 검토하여 가능한 오류 원인을 식별하세요. \n",
      "\u001b[1;31m자세한 내용을 보려면 <a href='https://aka.ms/vscodeJupyterKernelCrash'>여기</a>를 클릭하세요. \n",
      "\u001b[1;31m자세한 내용은 Jupyter <a href='command:jupyter.viewOutput'>로그</a>를 참조하세요."
     ]
    }
   ],
   "source": [
    "import optuna\n",
    "from lightgbm import LGBMClassifier\n",
    "from sklearn.model_selection import train_test_split\n",
    "from sklearn.metrics import f1_score\n",
    "\n",
    "def objectiveLGBM_dart(trial, x_tr, y_tr, x_val, y_val):\n",
    "    param = {\n",
    "        'n_estimators': trial.suggest_int('n_estimators', 200, 800)\n",
    "        , 'num_leaves': trial.suggest_int('num_leaves', 200, 800)\n",
    "        , 'max_depth': trial.suggest_int('max_depth', 3, 30)\n",
    "        , 'learning_rate': trial.suggest_float('learning_rate', 0.001, 0.1)\n",
    "        , 'min_child_samples': trial.suggest_int('min_child_samples', 2, 20)\n",
    "  \n",
    "        , 'boosting' : 'dart' # dart 사용\n",
    "        , 'random_state': 0\n",
    "        , 'verbose' : -1\n",
    "    }\n",
    "    \n",
    "    model = LGBMClassifier(**param)\n",
    "    model.fit(x_tr, y_tr)\n",
    "    pred = model.predict(x_val)\n",
    "    score = f1_score(y_val, pred, average=\"binary\")\n",
    "    \n",
    "    return score\n",
    "\n",
    "# 하이퍼 파라미터 튜닝\n",
    "study = optuna.create_study(direction='maximize', sampler=optuna.samplers.TPESampler(seed=0))\n",
    "study.optimize(lambda trial: objectiveLGBM_dart(trial, x_train, y_train, x_val, y_val), n_trials=500)\n",
    "\n",
    "print('Best trial: score {}, \\nparams {}'.format(study.best_trial.value, study.best_trial.params))"
   ]
  },
  {
   "cell_type": "code",
   "execution_count": 59,
   "metadata": {},
   "outputs": [
    {
     "name": "stdout",
     "output_type": "stream",
     "text": [
      "\n",
      "오차행렬:\n"
     ]
    },
    {
     "data": {
      "text/html": [
       "<div>\n",
       "<style scoped>\n",
       "    .dataframe tbody tr th:only-of-type {\n",
       "        vertical-align: middle;\n",
       "    }\n",
       "\n",
       "    .dataframe tbody tr th {\n",
       "        vertical-align: top;\n",
       "    }\n",
       "\n",
       "    .dataframe thead th {\n",
       "        text-align: right;\n",
       "    }\n",
       "</style>\n",
       "<table border=\"1\" class=\"dataframe\">\n",
       "  <thead>\n",
       "    <tr style=\"text-align: right;\">\n",
       "      <th></th>\n",
       "      <th>True</th>\n",
       "      <th>False</th>\n",
       "    </tr>\n",
       "  </thead>\n",
       "  <tbody>\n",
       "    <tr>\n",
       "      <th>True</th>\n",
       "      <td>834</td>\n",
       "      <td>160</td>\n",
       "    </tr>\n",
       "    <tr>\n",
       "      <th>False</th>\n",
       "      <td>140</td>\n",
       "      <td>10726</td>\n",
       "    </tr>\n",
       "  </tbody>\n",
       "</table>\n",
       "</div>"
      ],
      "text/plain": [
       "       True  False\n",
       "True    834    160\n",
       "False   140  10726"
      ]
     },
     "metadata": {},
     "output_type": "display_data"
    },
    {
     "name": "stdout",
     "output_type": "stream",
     "text": [
      "평가 지표:\n"
     ]
    },
    {
     "data": {
      "text/html": [
       "<div>\n",
       "<style scoped>\n",
       "    .dataframe tbody tr th:only-of-type {\n",
       "        vertical-align: middle;\n",
       "    }\n",
       "\n",
       "    .dataframe tbody tr th {\n",
       "        vertical-align: top;\n",
       "    }\n",
       "\n",
       "    .dataframe thead th {\n",
       "        text-align: right;\n",
       "    }\n",
       "</style>\n",
       "<table border=\"1\" class=\"dataframe\">\n",
       "  <thead>\n",
       "    <tr style=\"text-align: right;\">\n",
       "      <th></th>\n",
       "      <th>정확도</th>\n",
       "      <th>정밀도</th>\n",
       "      <th>재현율</th>\n",
       "      <th>F1 Score</th>\n",
       "      <th>Weighted F1</th>\n",
       "    </tr>\n",
       "  </thead>\n",
       "  <tbody>\n",
       "    <tr>\n",
       "      <th>0</th>\n",
       "      <td>0.974705</td>\n",
       "      <td>0.856263</td>\n",
       "      <td>0.839034</td>\n",
       "      <td>0.847561</td>\n",
       "      <td>0.974588</td>\n",
       "    </tr>\n",
       "  </tbody>\n",
       "</table>\n",
       "</div>"
      ],
      "text/plain": [
       "        정확도       정밀도       재현율  F1 Score  Weighted F1\n",
       "0  0.974705  0.856263  0.839034  0.847561     0.974588"
      ]
     },
     "metadata": {},
     "output_type": "display_data"
    },
    {
     "data": {
      "text/plain": [
       "776.0"
      ]
     },
     "execution_count": 59,
     "metadata": {},
     "output_type": "execute_result"
    }
   ],
   "source": [
    "# LightGBM_dart\n",
    "lgbm_dart_model = LGBMClassifier(\n",
    "    n_estimators=716\n",
    "    , num_leaves=677\n",
    "    , max_depth=24\n",
    "    , learning_rate=0.09716914697888186\n",
    "    , min_child_samples=12\n",
    "    , verbose=-1\n",
    "    , boosting='dart'  # dart 사용\n",
    "    , random_state=0\n",
    ")\n",
    "\n",
    "lgbm_dart_model.fit(x_train, y_train)\n",
    "\n",
    "pred = lgbm_dart_model.predict(x_val)\n",
    "get_clf_eval(y_val, pred)\n",
    "\n",
    "# 예측에 필요한 데이터 분리\n",
    "x_test = df_test_encoded.drop([\"is_converted\", \"id\"], axis=1)\n",
    "\n",
    "test_pred = lgbm_dart_model.predict(x_test)\n",
    "sum(test_pred) # True로 예측된 개수"
   ]
  },
  {
   "cell_type": "markdown",
   "metadata": {},
   "source": [
    "이전의 하이퍼 파라미터"
   ]
  },
  {
   "cell_type": "code",
   "execution_count": 60,
   "metadata": {},
   "outputs": [
    {
     "name": "stdout",
     "output_type": "stream",
     "text": [
      "\n",
      "오차행렬:\n"
     ]
    },
    {
     "data": {
      "text/html": [
       "<div>\n",
       "<style scoped>\n",
       "    .dataframe tbody tr th:only-of-type {\n",
       "        vertical-align: middle;\n",
       "    }\n",
       "\n",
       "    .dataframe tbody tr th {\n",
       "        vertical-align: top;\n",
       "    }\n",
       "\n",
       "    .dataframe thead th {\n",
       "        text-align: right;\n",
       "    }\n",
       "</style>\n",
       "<table border=\"1\" class=\"dataframe\">\n",
       "  <thead>\n",
       "    <tr style=\"text-align: right;\">\n",
       "      <th></th>\n",
       "      <th>True</th>\n",
       "      <th>False</th>\n",
       "    </tr>\n",
       "  </thead>\n",
       "  <tbody>\n",
       "    <tr>\n",
       "      <th>True</th>\n",
       "      <td>830</td>\n",
       "      <td>164</td>\n",
       "    </tr>\n",
       "    <tr>\n",
       "      <th>False</th>\n",
       "      <td>154</td>\n",
       "      <td>10712</td>\n",
       "    </tr>\n",
       "  </tbody>\n",
       "</table>\n",
       "</div>"
      ],
      "text/plain": [
       "       True  False\n",
       "True    830    164\n",
       "False   154  10712"
      ]
     },
     "metadata": {},
     "output_type": "display_data"
    },
    {
     "name": "stdout",
     "output_type": "stream",
     "text": [
      "평가 지표:\n"
     ]
    },
    {
     "data": {
      "text/html": [
       "<div>\n",
       "<style scoped>\n",
       "    .dataframe tbody tr th:only-of-type {\n",
       "        vertical-align: middle;\n",
       "    }\n",
       "\n",
       "    .dataframe tbody tr th {\n",
       "        vertical-align: top;\n",
       "    }\n",
       "\n",
       "    .dataframe thead th {\n",
       "        text-align: right;\n",
       "    }\n",
       "</style>\n",
       "<table border=\"1\" class=\"dataframe\">\n",
       "  <thead>\n",
       "    <tr style=\"text-align: right;\">\n",
       "      <th></th>\n",
       "      <th>정확도</th>\n",
       "      <th>정밀도</th>\n",
       "      <th>재현율</th>\n",
       "      <th>F1 Score</th>\n",
       "      <th>Weighted F1</th>\n",
       "    </tr>\n",
       "  </thead>\n",
       "  <tbody>\n",
       "    <tr>\n",
       "      <th>0</th>\n",
       "      <td>0.973187</td>\n",
       "      <td>0.843496</td>\n",
       "      <td>0.83501</td>\n",
       "      <td>0.839232</td>\n",
       "      <td>0.973126</td>\n",
       "    </tr>\n",
       "  </tbody>\n",
       "</table>\n",
       "</div>"
      ],
      "text/plain": [
       "        정확도       정밀도      재현율  F1 Score  Weighted F1\n",
       "0  0.973187  0.843496  0.83501  0.839232     0.973126"
      ]
     },
     "metadata": {},
     "output_type": "display_data"
    },
    {
     "data": {
      "text/plain": [
       "799.0"
      ]
     },
     "execution_count": 60,
     "metadata": {},
     "output_type": "execute_result"
    }
   ],
   "source": [
    "# LightGBM_dart\n",
    "lgbm_dart_model = LGBMClassifier(\n",
    "    n_estimators=1029\n",
    "    , num_leaves=167\n",
    "    , max_depth=30\n",
    "    , learning_rate=0.05767571715999541\n",
    "    , min_child_samples=25\n",
    "    , verbose=-1\n",
    "    , boosting='dart'  # dart 사용\n",
    "    , random_state=0\n",
    ")\n",
    "\n",
    "lgbm_dart_model.fit(x_train, y_train)\n",
    "\n",
    "pred = lgbm_dart_model.predict(x_val)\n",
    "get_clf_eval(y_val, pred)\n",
    "\n",
    "# 예측에 필요한 데이터 분리\n",
    "x_test = df_test_encoded.drop([\"is_converted\", \"id\"], axis=1)\n",
    "\n",
    "test_pred = lgbm_dart_model.predict(x_test)\n",
    "sum(test_pred) # True로 예측된 개수"
   ]
  },
  {
   "cell_type": "markdown",
   "metadata": {},
   "source": [
    "."
   ]
  }
 ],
 "metadata": {
  "kernelspec": {
   "display_name": "Python 3",
   "language": "python",
   "name": "python3"
  },
  "language_info": {
   "codemirror_mode": {
    "name": "ipython",
    "version": 3
   },
   "file_extension": ".py",
   "mimetype": "text/x-python",
   "name": "python",
   "nbconvert_exporter": "python",
   "pygments_lexer": "ipython3",
   "version": "3.10.4"
  }
 },
 "nbformat": 4,
 "nbformat_minor": 2
}
