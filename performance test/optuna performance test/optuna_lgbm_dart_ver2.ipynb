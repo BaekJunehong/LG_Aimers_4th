{
 "cells": [
  {
   "cell_type": "markdown",
   "metadata": {},
   "source": [
    "## 1. 데이터 확인"
   ]
  },
  {
   "cell_type": "markdown",
   "metadata": {},
   "source": [
    "설치안되어있는경우 설치 필요"
   ]
  },
  {
   "cell_type": "code",
   "execution_count": 1,
   "metadata": {},
   "outputs": [],
   "source": [
    "# %pip install category_encoders"
   ]
  },
  {
   "cell_type": "markdown",
   "metadata": {},
   "source": [
    "라이브러리 불러오기"
   ]
  },
  {
   "cell_type": "code",
   "execution_count": 2,
   "metadata": {},
   "outputs": [],
   "source": [
    "import pandas as pd\n",
    "import numpy as np\n",
    "\n",
    "import warnings\n",
    "warnings.filterwarnings('ignore') # 경고 메세지 무시"
   ]
  },
  {
   "cell_type": "markdown",
   "metadata": {},
   "source": [
    "데이터 불러오기"
   ]
  },
  {
   "cell_type": "code",
   "execution_count": 3,
   "metadata": {},
   "outputs": [],
   "source": [
    "df_train = pd.read_csv(\"./data/train.csv\") # 학습용 데이터\n",
    "df_test = pd.read_csv(\"./data/submission.csv\") # 테스트 데이터(제출파일의 데이터)"
   ]
  },
  {
   "cell_type": "code",
   "execution_count": 4,
   "metadata": {},
   "outputs": [
    {
     "name": "stdout",
     "output_type": "stream",
     "text": [
      "<class 'pandas.core.frame.DataFrame'>\n",
      "RangeIndex: 59299 entries, 0 to 59298\n",
      "Data columns (total 29 columns):\n",
      " #   Column                   Non-Null Count  Dtype  \n",
      "---  ------                   --------------  -----  \n",
      " 0   bant_submit              59299 non-null  float64\n",
      " 1   customer_country         58317 non-null  object \n",
      " 2   business_unit            59299 non-null  object \n",
      " 3   com_reg_ver_win_rate     14568 non-null  float64\n",
      " 4   customer_idx             59299 non-null  int64  \n",
      " 5   customer_type            15338 non-null  object \n",
      " 6   enterprise               59299 non-null  object \n",
      " 7   historical_existing_cnt  13756 non-null  float64\n",
      " 8   id_strategic_ver         3444 non-null   float64\n",
      " 9   it_strategic_ver         1121 non-null   float64\n",
      " 10  idit_strategic_ver       4565 non-null   float64\n",
      " 11  customer_job             40566 non-null  object \n",
      " 12  lead_desc_length         59299 non-null  int64  \n",
      " 13  inquiry_type             58358 non-null  object \n",
      " 14  product_category         39925 non-null  object \n",
      " 15  product_subcategory      9235 non-null   object \n",
      " 16  product_modelname        9229 non-null   object \n",
      " 17  customer_country.1       58317 non-null  object \n",
      " 18  customer_position        59299 non-null  object \n",
      " 19  response_corporate       59299 non-null  object \n",
      " 20  expected_timeline        28436 non-null  object \n",
      " 21  ver_cus                  59299 non-null  int64  \n",
      " 22  ver_pro                  59299 non-null  int64  \n",
      " 23  ver_win_rate_x           18417 non-null  float64\n",
      " 24  ver_win_ratio_per_bu     15304 non-null  float64\n",
      " 25  business_area            18417 non-null  object \n",
      " 26  business_subarea         5526 non-null   object \n",
      " 27  lead_owner               59299 non-null  int64  \n",
      " 28  is_converted             59299 non-null  bool   \n",
      "dtypes: bool(1), float64(8), int64(5), object(15)\n",
      "memory usage: 12.7+ MB\n"
     ]
    }
   ],
   "source": [
    "df_train.info()"
   ]
  },
  {
   "cell_type": "markdown",
   "metadata": {},
   "source": [
    "## 2. 데이터 전처리"
   ]
  },
  {
   "cell_type": "markdown",
   "metadata": {},
   "source": [
    "### bant_submit, business_unit, enterprise 변수"
   ]
  },
  {
   "cell_type": "markdown",
   "metadata": {},
   "source": [
    "따로 처리한 부분 없음"
   ]
  },
  {
   "cell_type": "markdown",
   "metadata": {},
   "source": [
    "### customer_country, customer_country.1 변수"
   ]
  },
  {
   "cell_type": "code",
   "execution_count": 5,
   "metadata": {},
   "outputs": [],
   "source": [
    "def process_customer_country_tokenized(df, column_name):\n",
    "    for i, entry in enumerate(df[column_name]):\n",
    "        if isinstance(entry, str):\n",
    "            tokens = [token.strip() for token in entry.replace('/', ',').split(',') if token.strip() != '']\n",
    "            if tokens:\n",
    "                df.at[i, column_name] = tokens[-1]\n",
    "            else:\n",
    "                df.at[i, column_name] = np.nan\n",
    "        else:\n",
    "            df.at[i, column_name] = np.nan\n",
    "    return df"
   ]
  },
  {
   "cell_type": "markdown",
   "metadata": {},
   "source": [
    "customer_country, customer_country.1 값을 토큰화 하여 말단 단어 추출"
   ]
  },
  {
   "cell_type": "code",
   "execution_count": 6,
   "metadata": {},
   "outputs": [],
   "source": [
    "df_train = process_customer_country_tokenized(df_train, 'customer_country')\n",
    "df_train = process_customer_country_tokenized(df_train, 'customer_country.1')\n",
    "\n",
    "df_test = process_customer_country_tokenized(df_test, 'customer_country')\n",
    "df_test = process_customer_country_tokenized(df_test, 'customer_country.1')"
   ]
  },
  {
   "cell_type": "code",
   "execution_count": 7,
   "metadata": {},
   "outputs": [],
   "source": [
    "# 미국 주 이름 카테고리화\n",
    "us_states = ['AL', 'AK', 'AZ', 'AR', 'CA', 'CO', 'CT', 'DE', 'DC', 'FL', 'GA', 'HI', 'ID', 'IL', 'IN', 'IA', 'KS', 'KY', 'LA', 'ME', 'MD', 'MA', 'MI', 'MN', 'MS', 'MO', 'MT', 'NE', 'NV', 'NH', 'NJ', 'NM', 'NY', 'NC', 'ND', 'OH', 'OK', 'OR', 'PA', 'RI', 'SC', 'SD', 'TN', 'TX', 'UT', 'VT', 'VA', 'WA', 'WV', 'WI', 'WY']\n",
    "\n",
    "df_train['customer_country'] = df_train['customer_country'].replace(us_states, 'United States')\n",
    "df_train['customer_country.1'] = df_train['customer_country.1'].replace(us_states, 'United States')\n",
    "\n",
    "df_test['customer_country'] = df_test['customer_country'].replace(us_states, 'United States')\n",
    "df_test['customer_country.1'] = df_test['customer_country.1'].replace(us_states, 'United States')"
   ]
  },
  {
   "cell_type": "markdown",
   "metadata": {},
   "source": [
    "LG 사이트에서 작성된 나라정보를 리스트화"
   ]
  },
  {
   "cell_type": "markdown",
   "metadata": {},
   "source": [
    "이때 Test데이터셋 값중 Corporate은 특정 국가나 지역을 나타내는 것이 아니라,  \n",
    "보통 기업이나 조직을 나타내는 용어로 국가 리스트에 따로 포함시키지 않음"
   ]
  },
  {
   "cell_type": "code",
   "execution_count": 8,
   "metadata": {},
   "outputs": [],
   "source": [
    "asia = ['Australia', 'Bangladesh', 'Brunei', 'Cambodia', 'China', 'Fiji', 'Hong Kong', 'India', 'Indonesia', 'Laos', 'Malaysia', 'Maldives', 'Myanmar', 'Nepal', 'New Zealand', 'Papula New Guinea', 'Philippines', 'Singapore', 'Sri Lanka', 'Taiwan', 'Thailand', 'Vietnam', 'Japan', 'South Korea']\n",
    "cis = ['Belarus', 'Kazakhstan', 'Mongolia', 'Russia', 'Turkmenistan', 'Ukraine', 'Uzbekistan']\n",
    "europe = ['Albania', 'Austria', 'Belgium', 'Bosnia and Herzegovina', 'Bulgaria', 'Croatia', 'Cyprus', 'Czech', 'Denmark', 'Estonia', 'Finland', 'France', 'Germany', 'Greece', 'Hungary', 'Iceland', 'Ireland', 'Italy', 'Kosovo', 'Latvia', 'Lithuania', 'Luxembourg', 'Macedonia', 'Montenegro', 'Netherlands', 'Norway', 'Poland', 'Portugal', 'Romania', 'Serbia', 'Slovakia', 'Slovenia', 'Spain', 'Sweden', 'Switzerland', 'United Kingdom', 'Isle of Man', 'Malta']\n",
    "latin_america_and_the_caribbean = ['Anguilla', 'Antigua', 'Argentina', 'Aruba', 'Bahamas', 'Barbados', 'Belize', 'Bermuda', 'Bolivia', 'Brazil', 'British Virgin Islands', 'Cayman Islands', 'Chile', 'Colombia', 'COLOMBIA', 'Costa Rica', 'Cuba', 'Curacao', 'Dominican Republic', 'Ecuador', 'El Salvador', 'Grenada', 'Guatemala', 'Guyana Haiti', 'Honduras', 'Jamaica', 'Mexico', 'Netherlands Antilles', 'Nicaragua', 'Panama', 'Paraguay', 'Peru', 'Puerto Rico', 'Saint Lucia', 'St Kitts', 'St Maarten', 'St Vincent', 'Suriname', 'Trinidad and Tobago', 'Turks and Caicos Islands', 'Uruguay', 'US Virgin Islands', 'Venezuela', 'Antigua and Barbuda', 'Saint Kitts and Nevis']\n",
    "middle_east_and_africa = ['Afghanistan', 'Algeria', 'Angola', 'Armenia', 'Azerbaijan', 'Bahrain', 'Benin', 'Botswana', 'Burkina Faso Cameroon', 'Central African Republic', 'Congo', \"Cote d'Ivoire\", 'Democratic Republic of the Congo', 'Djibouti', 'Egypt', 'EGYPT', 'Equatorial Guinea', 'Ethiopia', 'Gabon', 'Gambia', 'Georgia', 'Ghana', 'Guinea Iran', 'Iraq', 'Israel', 'Ivory Coast', 'Jordan', 'Kenya', 'Kuwait', 'Lebanon', 'Liberia', 'Mali', 'Mauritania', 'Mauritius', 'Morocco', 'Mozambique', 'Namibia', 'Nigeria', 'Oman', 'Pakistan', 'Palestine', 'Qatar', 'Rwanda', 'Sao Tome and Principe', 'Saudi Arabia', 'Senegal', 'Sierra Leone', 'Somalia', 'South Africa', 'Sudan', 'Swaziland', 'Syria', 'Togo', 'Tunisia', 'Türkiye', 'Turkey', 'U.A.E', 'Uganda', 'United Republic of Tanzania', 'Yemen', 'Zambia', 'Eritrea', 'Libya Malawi', 'Zimbabwe']\n",
    "north_america = ['Canada', 'United States', 'UNITED STATES']"
   ]
  },
  {
   "cell_type": "code",
   "execution_count": 9,
   "metadata": {},
   "outputs": [],
   "source": [
    "def update_country(country):\n",
    "    if country in asia:\n",
    "        return country\n",
    "    elif country in cis:\n",
    "        return country\n",
    "    elif country in europe:\n",
    "        return country\n",
    "    elif country in latin_america_and_the_caribbean:\n",
    "        return country\n",
    "    elif country in middle_east_and_africa:\n",
    "        return country\n",
    "    elif country in north_america:\n",
    "        return country\n",
    "    else:\n",
    "        return 'Unknown'\n",
    "\n",
    "df_train['customer_country'] = df_train['customer_country'].apply(update_country)\n",
    "df_test['customer_country'] = df_test['customer_country'].apply(update_country)"
   ]
  },
  {
   "cell_type": "code",
   "execution_count": 10,
   "metadata": {},
   "outputs": [],
   "source": [
    "continent_dict = {country: 'Asia' for country in asia}\n",
    "continent_dict.update({country: 'CIS' for country in cis})\n",
    "continent_dict.update({country: 'Europe' for country in europe})\n",
    "continent_dict.update({country: 'Latin America and the Caribbean' for country in latin_america_and_the_caribbean})\n",
    "continent_dict.update({country: 'Middle East & Africa' for country in middle_east_and_africa})\n",
    "continent_dict.update({country: 'North America' for country in north_america})\n",
    "\n",
    "df_train['customer_country.1'] = df_train['customer_country.1'].replace(continent_dict)\n",
    "df_test['customer_country.1'] = df_test['customer_country.1'].replace(continent_dict)"
   ]
  },
  {
   "cell_type": "markdown",
   "metadata": {},
   "source": [
    "customer_country.1 빈도수이하값 및 결측값에 대한 처리"
   ]
  },
  {
   "cell_type": "code",
   "execution_count": 11,
   "metadata": {},
   "outputs": [],
   "source": [
    "# 'customer_country.1'의 빈도 계산\n",
    "counts_train = df_train['customer_country.1'].value_counts()\n",
    "counts_test = df_test['customer_country.1'].value_counts()\n",
    "\n",
    "# 일정 빈도 이하 unknown 처리\n",
    "find_count_train = counts_train[counts_train <= 30].index\n",
    "find_count_test = counts_test[counts_test <= 2].index\n",
    "\n",
    "# 일정 빈도 이하인 국가를 'Unknown'으로 설정\n",
    "df_train.loc[df_train['customer_country.1'].isin(find_count_train), 'customer_country.1'] = 'Other'\n",
    "df_test.loc[df_test['customer_country.1'].isin(find_count_test), 'customer_country.1'] = 'Other'\n",
    "\n",
    "# 결측값에 대한 처리\n",
    "df_train['customer_country.1'] = df_train['customer_country.1'].fillna('Unknown')\n",
    "df_test['customer_country.1'] = df_test['customer_country.1'].fillna('Unknown')"
   ]
  },
  {
   "cell_type": "code",
   "execution_count": 12,
   "metadata": {},
   "outputs": [],
   "source": [
    "# train 데이터셋에 없는 test 데이터셋에 대한 처리\n",
    "## {'Corporate'} 값이 test 데이터셋에는 존재하는 반면 train 데이터셋에는 없음\n",
    "def replace_unknown_values(row, unique):\n",
    "    if row not in unique:\n",
    "        return 'Other'\n",
    "    else:\n",
    "        return row\n",
    "\n",
    "unique_train_values = df_train['customer_country.1'].unique()\n",
    "df_test['customer_country.1'] = df_test['customer_country.1'].apply(lambda x: replace_unknown_values(x, unique_train_values))"
   ]
  },
  {
   "cell_type": "markdown",
   "metadata": {},
   "source": [
    "### customer_idx 변수"
   ]
  },
  {
   "cell_type": "markdown",
   "metadata": {},
   "source": [
    "특정값에 대한 처리"
   ]
  },
  {
   "cell_type": "code",
   "execution_count": 13,
   "metadata": {},
   "outputs": [],
   "source": [
    "# 'customer_idx'의 빈도 계산\n",
    "counts_train = df_train['customer_idx'].value_counts()\n",
    "\n",
    "# 일정 빈도 이하 처리\n",
    "find_count_train = counts_train[counts_train <= 10].index\n",
    "\n",
    "# 일정 빈도 이하인 customer_idx를 '-1'으로 설정\n",
    "df_train.loc[df_train['customer_idx'].isin(find_count_train), 'customer_idx'] = -1"
   ]
  },
  {
   "cell_type": "code",
   "execution_count": 14,
   "metadata": {},
   "outputs": [],
   "source": [
    "# train 데이터셋에 없는 test 데이터셋에 대한 처리\n",
    "def replace_unknown_values(row, unique):\n",
    "    if row not in unique:\n",
    "        return -1\n",
    "    else:\n",
    "        return row\n",
    "\n",
    "unique_train_values = df_train['customer_idx'].unique()\n",
    "df_test['customer_idx'] = df_test['customer_idx'].apply(lambda x: replace_unknown_values(x, unique_train_values))"
   ]
  },
  {
   "cell_type": "markdown",
   "metadata": {},
   "source": [
    "customer_idx의 값에 대해서 is_converted에 대한 비율 계산"
   ]
  },
  {
   "cell_type": "code",
   "execution_count": 15,
   "metadata": {},
   "outputs": [],
   "source": [
    "# 'customer_idx' 카테고리별로 'is_converted'의 평균과 갯수를 계산\n",
    "idx_target = df_train.groupby('customer_idx')['is_converted'].agg(['mean', 'count']).sort_values(by='mean', ascending=False)"
   ]
  },
  {
   "cell_type": "markdown",
   "metadata": {},
   "source": [
    "계산한 비율에 대해서 customer_idx 값을 특정범위에 대한 범주화"
   ]
  },
  {
   "cell_type": "code",
   "execution_count": 16,
   "metadata": {},
   "outputs": [],
   "source": [
    "# 'mean' 값이 0.9보다 크면 1, 아니면 0을 부여\n",
    "idx_target['label'] = ((idx_target['mean'] > 0.99) & (idx_target['count'] >= 10)).astype(int)\n",
    "\n",
    "# 'idx_target'를 기준으로 'label' 값을 매핑\n",
    "idx_map = idx_target['label'].to_dict()\n",
    "\n",
    "# 'customer_idx' 열을 업데이트\n",
    "df_train['customer_idx_99'] = df_train['customer_idx'].map(idx_map)\n",
    "df_test['customer_idx_99'] = df_test['customer_idx'].map(idx_map)"
   ]
  },
  {
   "cell_type": "code",
   "execution_count": 17,
   "metadata": {},
   "outputs": [],
   "source": [
    "# 'mean' 값이 0.01보다 작으면 1, 아니면 0을 부여\n",
    "idx_target['label'] = ((idx_target['mean'] < 0.01)& (idx_target['count'] >= 10)).astype(int)\n",
    "\n",
    "# 'idx_target'를 기준으로 'label' 값을 매핑\n",
    "idx_map = idx_target['label'].to_dict()\n",
    "\n",
    "# 'customer_idx' 열을 업데이트\n",
    "df_train['customer_idx_001'] = df_train['customer_idx'].map(idx_map)\n",
    "df_test['customer_idx_001'] = df_test['customer_idx'].map(idx_map)"
   ]
  },
  {
   "cell_type": "markdown",
   "metadata": {},
   "source": [
    "### customer_type 변수"
   ]
  },
  {
   "cell_type": "markdown",
   "metadata": {},
   "source": [
    "오타나 연관 단어에 대해서 관련 값으로 변환"
   ]
  },
  {
   "cell_type": "code",
   "execution_count": 18,
   "metadata": {},
   "outputs": [],
   "source": [
    "# 카테고리 재할당\n",
    "df_train['customer_type'] = df_train['customer_type'].replace({\n",
    "    'Others': 'Other',\n",
    "    'Etc.': 'Other',\n",
    "    'Software / Solution Provider': 'Software/Solution Provider',\n",
    "    'Specifier/ Influencer': 'Specifier/Influencer',\n",
    "    'Specifier / Influencer': 'Specifier/Influencer',\n",
    "    'Distributor': 'Dealer/Distributor',\n",
    "    'Homeowner': 'Home Owner',\n",
    "    'Manager / Director' : 'Manager/Director',\n",
    "    'Commercial end-user': 'End-user',\n",
    "    'End-Customer': 'End Customer',\n",
    "    'Consultant': 'Architect/Consultant',\n",
    "    'Installer': 'Specifier/Influencer',\n",
    "    'Installer/Contractor': 'Specifier/Influencer',\n",
    "    \n",
    "    # LG 카테고리 참고함\n",
    "    'Corporate' : 'End Customer',\n",
    "    'Dealer/Distributor' : 'Channel Partner',\n",
    "    'Reseller' : 'Channel Partner',\n",
    "    'Technician': 'Specifier/Influencer',\n",
    "    'Architect/Consultant': 'Specifier/Influencer',\n",
    "    'Developer': 'End Customer',  \n",
    "})\n",
    "\n",
    "df_test['customer_type'] = df_test['customer_type'].replace({\n",
    "    'Specifier/ Influencer': 'Specifier/Influencer',\n",
    "    'End-Customer': 'End Customer',\n",
    "\n",
    "    # LG 카테고리 참고함\n",
    "    'Developer': 'End Customer',\n",
    "})"
   ]
  },
  {
   "cell_type": "markdown",
   "metadata": {},
   "source": [
    "결측값 대체"
   ]
  },
  {
   "cell_type": "code",
   "execution_count": 19,
   "metadata": {},
   "outputs": [],
   "source": [
    "# 'customer_type' 변수에서 NaN 값을 'Unknown' 으로 대체\n",
    "df_train['customer_type'] = df_train['customer_type'].fillna('Unknown')\n",
    "df_test['customer_type'] = df_test['customer_type'].fillna('Unknown')"
   ]
  },
  {
   "cell_type": "markdown",
   "metadata": {},
   "source": [
    "이때 customer_type 값을 처리하는 과정에서  \n",
    "End Customer가 End-user에 해당한다는것을 알수 있음으로 값을 바꿔줌"
   ]
  },
  {
   "cell_type": "code",
   "execution_count": 20,
   "metadata": {},
   "outputs": [],
   "source": [
    "# 카테고리 재할당\n",
    "df_train['customer_type'] = df_train['customer_type'].replace({\n",
    "    'End Customer': 'End-user'\n",
    "})\n",
    "df_test['customer_type'] = df_test['customer_type'].replace({\n",
    "    'End Customer': 'End-user'\n",
    "})"
   ]
  },
  {
   "cell_type": "markdown",
   "metadata": {},
   "source": [
    "### historical_existing_cnt 변수"
   ]
  },
  {
   "cell_type": "markdown",
   "metadata": {},
   "source": [
    "결측값 대체"
   ]
  },
  {
   "cell_type": "code",
   "execution_count": 21,
   "metadata": {},
   "outputs": [],
   "source": [
    "# median 값으로 대체(이때 median값은 4)\n",
    "cnt_train_med = df_train['historical_existing_cnt'].median()\n",
    "cnt_test_med = df_test['historical_existing_cnt'].median()\n",
    "\n",
    "# median 값으로 결측값 대체\n",
    "df_train['historical_existing_cnt'] = df_train['historical_existing_cnt'].fillna(cnt_train_med)\n",
    "df_test['historical_existing_cnt'] = df_test['historical_existing_cnt'].fillna(cnt_test_med)"
   ]
  },
  {
   "cell_type": "markdown",
   "metadata": {},
   "source": [
    "Min-Max 스케일링"
   ]
  },
  {
   "cell_type": "code",
   "execution_count": 22,
   "metadata": {},
   "outputs": [],
   "source": [
    "# Min-Max 스케일링 \n",
    "min_value = df_train['historical_existing_cnt'].min()\n",
    "max_value = df_train['historical_existing_cnt'].max()\n",
    "\n",
    "\n",
    "df_train['historical_existing_cnt'] = (df_train['historical_existing_cnt'] - min_value) / (max_value - min_value)\n",
    "df_test['historical_existing_cnt'] = (df_test['historical_existing_cnt'] - min_value) / (max_value - min_value)\n"
   ]
  },
  {
   "cell_type": "markdown",
   "metadata": {},
   "source": [
    "### id_strategic_ver, it_strategic_ver, idit_strategic_ver 변수"
   ]
  },
  {
   "cell_type": "markdown",
   "metadata": {},
   "source": [
    "결측값 대체"
   ]
  },
  {
   "cell_type": "code",
   "execution_count": 23,
   "metadata": {},
   "outputs": [],
   "source": [
    "# 누락된 값을 0으로 채우기\n",
    "df_train['id_strategic_ver'].fillna(0, inplace=True)\n",
    "df_train['it_strategic_ver'].fillna(0, inplace=True)\n",
    "df_train['idit_strategic_ver'].fillna(0, inplace=True)\n",
    "\n",
    "df_test['id_strategic_ver'].fillna(0, inplace=True)\n",
    "df_test['it_strategic_ver'].fillna(0, inplace=True)\n",
    "df_test['idit_strategic_ver'].fillna(0, inplace=True)"
   ]
  },
  {
   "cell_type": "markdown",
   "metadata": {},
   "source": [
    "### customer_job 변수"
   ]
  },
  {
   "cell_type": "markdown",
   "metadata": {},
   "source": [
    "오타관련 값에 대한 변환  \n",
    "LG 홈페이지에서 제공된 job 리스트에 해당 안되는 값에 대한 변환"
   ]
  },
  {
   "cell_type": "code",
   "execution_count": 24,
   "metadata": {},
   "outputs": [],
   "source": [
    "def search_job(customer_job):\n",
    "    # LG list 참고\n",
    "    job = ['accounting','administrative','arts and design','business development','community and social services','consulting','curation','education','engineering', 'entrepreneurship','finance','healthcare services','human resources','information technology','legal','marketing','media and communication','military and protective services operations','product management', 'program and project management','purchasing','quality assurance','real estate','research','sales','support','others']\n",
    "\n",
    "    # (오타변환)'media and communications'를 'media and communication'으로 변환\n",
    "    if customer_job == 'media and communications':\n",
    "        customer_job = 'media and communication'\n",
    "    \n",
    "    if not customer_job:\n",
    "        return 'others'\n",
    "    elif customer_job in job:\n",
    "        return customer_job\n",
    "    else:\n",
    "        return 'unknown'\n",
    "\n",
    "df_train['customer_job'] = df_train['customer_job'].apply(search_job)\n",
    "df_test['customer_job'] = df_test['customer_job'].apply(search_job)"
   ]
  },
  {
   "cell_type": "markdown",
   "metadata": {},
   "source": [
    "### lead_desc_length 변수"
   ]
  },
  {
   "cell_type": "markdown",
   "metadata": {},
   "source": [
    "Min-Max 스케일링"
   ]
  },
  {
   "cell_type": "code",
   "execution_count": 25,
   "metadata": {},
   "outputs": [],
   "source": [
    "# Min-Max 스케일링 \n",
    "min_value = df_train['lead_desc_length'].min()\n",
    "max_value = df_train['lead_desc_length'].max()\n",
    "\n",
    "df_train['lead_desc_length'] = (df_train['lead_desc_length'] - min_value) / (max_value - min_value)\n",
    "df_test['lead_desc_length'] = (df_test['lead_desc_length'] - min_value) / (max_value - min_value)"
   ]
  },
  {
   "cell_type": "markdown",
   "metadata": {},
   "source": [
    "결측값 대체"
   ]
  },
  {
   "cell_type": "code",
   "execution_count": 26,
   "metadata": {},
   "outputs": [],
   "source": [
    "# 누락된 값을 0으로 채우기\n",
    "df_train['lead_desc_length'].fillna(0, inplace=True)\n",
    "df_test['lead_desc_length'].fillna(0, inplace=True)"
   ]
  },
  {
   "cell_type": "markdown",
   "metadata": {},
   "source": [
    "### inquiry_type 변수"
   ]
  },
  {
   "cell_type": "markdown",
   "metadata": {},
   "source": [
    "오타나 연관 단어에 대해서 관련 값으로 변환"
   ]
  },
  {
   "cell_type": "code",
   "execution_count": 27,
   "metadata": {},
   "outputs": [],
   "source": [
    "# 'inquiry_type' 열의 철자오류에 대해 일관된 값으로 변환\n",
    "df_train['inquiry_type'] = df_train['inquiry_type'].replace({\n",
    "\n",
    "    'Quotation or purchase consultation': 'Quotation or Purchase Consultation',\n",
    "    'Request for quotation or purchase': 'Quotation or Purchase Consultation',\n",
    "    'quotation_or_purchase_consultation': 'Quotation or Purchase Consultation',\n",
    "    'quotation_': 'Quotation or Purchase Consultation',\n",
    "    'Purchase or Quotation': 'Quotation or Purchase Consultation',\n",
    "    'Quotation or Purchase consultation': 'Quotation or Purchase Consultation',\n",
    "    'Purchase': 'Quotation or Purchase Consultation',\n",
    "    'quotation_or_purchase_consultation': 'Quotation or Purchase Consultation',\n",
    "    'quotation_': 'Quotation or Purchase Consultation',\n",
    "    'quotation_': 'Quotation or Purchase Consultation',\n",
    "\n",
    "    'Usage or technical consultation': 'Usage or Technical Consultation',\n",
    "    'Technical Consultation': 'Usage or Technical Consultation',\n",
    "    'usage or technical consultation': 'Usage or Technical Consultation',\n",
    "    'usage_or_technical_consultation': 'Usage or Technical Consultation',\n",
    "    'Request for technical consulting': 'Usage or Technical Consultation',\n",
    "    'technical_consultation': 'Usage or Technical Consultation',\n",
    "    'technical': 'Usage or Technical Consultation',\n",
    "\n",
    "    'sales':'Sales Inquiry',\n",
    "    'Sales inquiry':'Sales Inquiry',\n",
    "\n",
    "    'other': 'Other',\n",
    "    'other_': 'Other',\n",
    "    'others': 'Other',\n",
    "    'Others' : 'Other',\n",
    "    'Etc.': 'Other',\n",
    "    'ETC.': 'Other'\n",
    "\n",
    "})\n",
    "\n",
    "df_test['inquiry_type'] = df_test['inquiry_type'].replace({\n",
    "\n",
    "    'Technical Consultation': 'Usage or Technical Consultation',\n",
    "\n",
    "    'other_': 'Other',\n",
    "    'Others' : 'Other',\n",
    "\n",
    "})"
   ]
  },
  {
   "cell_type": "markdown",
   "metadata": {},
   "source": [
    "특정값에 대한 처리('Other' 값으로 변환)"
   ]
  },
  {
   "cell_type": "code",
   "execution_count": 28,
   "metadata": {},
   "outputs": [],
   "source": [
    "# 'inquiry_type' 열의 값별 개수를 계산합니다.\n",
    "value_counts = df_train['inquiry_type'].value_counts()\n",
    "\n",
    "# 2개 이하인 값들의 리스트를 만듭니다.\n",
    "to_replace = value_counts[value_counts <= 2].index\n",
    "\n",
    "# 2개 이하인 값들을 'Other'로 업데이트합니다.\n",
    "df_train['inquiry_type'] = df_train['inquiry_type'].replace(to_replace, 'Other')"
   ]
  },
  {
   "cell_type": "code",
   "execution_count": 29,
   "metadata": {},
   "outputs": [],
   "source": [
    "# train 데이터셋에 없는 test 데이터셋에 대한 처리\n",
    "## test 데이터셋 값중 {'Media Inquiry'} 값에 대한 처리\n",
    "def replace_unknown_values(row, unique):\n",
    "    if row not in unique:\n",
    "        return 'Other'\n",
    "    else:\n",
    "        return row\n",
    "\n",
    "unique_train_values = df_train['inquiry_type'].unique()\n",
    "df_test['inquiry_type'] = df_test['inquiry_type'].apply(lambda x: replace_unknown_values(x, unique_train_values))"
   ]
  },
  {
   "cell_type": "markdown",
   "metadata": {},
   "source": [
    "결측값 대체('Unknown' 값으로 변환)"
   ]
  },
  {
   "cell_type": "code",
   "execution_count": 30,
   "metadata": {},
   "outputs": [],
   "source": [
    "# 'inquiry_type' 변수에서 NaN 값을 'Unknown' 으로 대체\n",
    "df_train['inquiry_type'] = df_train['inquiry_type'].fillna('Unknown')\n",
    "df_test['inquiry_type'] = df_test['inquiry_type'].fillna('Unknown')"
   ]
  },
  {
   "cell_type": "markdown",
   "metadata": {},
   "source": [
    "### product_category 변수"
   ]
  },
  {
   "cell_type": "markdown",
   "metadata": {},
   "source": [
    "특정값에 대해서 관련 값으로 변환"
   ]
  },
  {
   "cell_type": "code",
   "execution_count": 31,
   "metadata": {},
   "outputs": [],
   "source": [
    "df_train['product_category'] = df_train['product_category'].replace({\n",
    "    'notebook': 'laptop',\n",
    "    'others': 'other',\n",
    "    'ess': 'other',\n",
    "    'signage care solution': 'other',\n",
    "})\n",
    "\n",
    "df_test['product_category'] = df_test['product_category'].replace({\n",
    "    'notebook': 'laptop',\n",
    "    'others': 'other',\n",
    "    'ess': 'other',\n",
    "    'signage care solution': 'other',\n",
    "})"
   ]
  },
  {
   "cell_type": "markdown",
   "metadata": {},
   "source": [
    "특정 빈도수 이하 값대체"
   ]
  },
  {
   "cell_type": "code",
   "execution_count": 32,
   "metadata": {},
   "outputs": [],
   "source": [
    "# 'product_category'의 빈도 계산\n",
    "counts_train = df_train['product_category'].value_counts()\n",
    "\n",
    "# 빈도가 특정수치 이하인 product_category 를 찾음\n",
    "find_count_train = counts_train[counts_train <= 15].index\n",
    "\n",
    "# 빈도가 특정수치 이하값 \n",
    "df_train.loc[df_train['product_category'].isin(find_count_train), 'product_category'] = 'other'"
   ]
  },
  {
   "cell_type": "markdown",
   "metadata": {},
   "source": [
    "결측값 대체"
   ]
  },
  {
   "cell_type": "code",
   "execution_count": 33,
   "metadata": {},
   "outputs": [],
   "source": [
    "# 'product_category' 변수에서 NaN 값을 'Unknown' 으로 대체\n",
    "df_train['product_category'] = df_train['product_category'].fillna('unknown')\n",
    "df_test['product_category'] = df_test['product_category'].fillna('unknown')"
   ]
  },
  {
   "cell_type": "markdown",
   "metadata": {},
   "source": [
    "### product_subcategory, product_modelname 변수"
   ]
  },
  {
   "cell_type": "markdown",
   "metadata": {},
   "source": [
    "train 데이터셋에 없는 데이터에 대한 처리"
   ]
  },
  {
   "cell_type": "code",
   "execution_count": 34,
   "metadata": {},
   "outputs": [],
   "source": [
    "# train 데이터셋에 없는 test 데이터셋에 대한 처리\n",
    "def replace_unknown(row, unique):\n",
    "    if row not in unique:\n",
    "        return 'Unknown'\n",
    "    else:\n",
    "        return row\n",
    "\n",
    "# product_subcategory 결측값 대체\n",
    "unique_subcategory = df_train['product_subcategory'].unique()\n",
    "df_test['product_subcategory'] = df_test['product_subcategory'].apply(lambda x: replace_unknown(x, unique_subcategory))\n",
    "\n",
    "# product_modelname 결측값 대체\n",
    "unique_modelname = df_train['product_modelname'].unique()\n",
    "df_test['product_modelname'] = df_test['product_modelname'].apply(lambda x: replace_unknown(x, unique_modelname))"
   ]
  },
  {
   "cell_type": "markdown",
   "metadata": {},
   "source": [
    "결측값 대체"
   ]
  },
  {
   "cell_type": "code",
   "execution_count": 35,
   "metadata": {},
   "outputs": [],
   "source": [
    "# 'product_subcategory' 변수에서 NaN 값을 'Unknown' 으로 대체\n",
    "df_train['product_subcategory'] = df_train['product_subcategory'].fillna('Unknown')\n",
    "df_test['product_subcategory'] = df_test['product_subcategory'].fillna('Unknown')\n",
    "\n",
    "# 'product_modelname' 변수에서 NaN 값을 'Unknown' 으로 대체\n",
    "df_train['product_modelname'] = df_train['product_modelname'].fillna('Unknown')\n",
    "df_test['product_modelname'] = df_test['product_modelname'].fillna('Unknown')"
   ]
  },
  {
   "cell_type": "markdown",
   "metadata": {},
   "source": [
    "### customer_position 변수"
   ]
  },
  {
   "cell_type": "markdown",
   "metadata": {},
   "source": [
    "오타에 대한 값이나 관련값으로 대체가능한 값에 대한 처리"
   ]
  },
  {
   "cell_type": "code",
   "execution_count": 36,
   "metadata": {},
   "outputs": [],
   "source": [
    "df_train['customer_position'] = df_train['customer_position'].replace({\n",
    "    'vicepresident': 'vice president',\n",
    "    'vp': 'vice president',\n",
    "    'entrylevel': 'entry level',\n",
    "    'c-levelexecutive': 'c-level executive',\n",
    "    'founder': 'ceo/founder',\n",
    "    'ceo/fundador': 'ceo/founder',\n",
    "    'commercial consultant': 'consultant',\n",
    "    'architect/consultant': 'consultant',\n",
    "    'architecture/consult': 'consultant',\n",
    "    'business unit director': 'director',\n",
    "    'no influence': 'none',\n",
    "    'not applicable': 'none',\n",
    "    'commercial end-user': 'end-user',\n",
    "    'exhibitiontv': 'exhibition',\n",
    "    'decision-influencer': 'decision influencer',\n",
    "    'sales': 'business development/sales',\n",
    "    'subsidiary sales (ise)': 'business development/sales',\n",
    "    'business development': 'business development/sales',\n",
    "    'medical device manufacturer': 'manufacturer',\n",
    "    'assistant professor of enlish': 'assistant professor',\n",
    "    'asst prof.': 'assistant professor',\n",
    "    'prof.': 'professor',\n",
    "    'professor of mathematics': 'professor',\n",
    "    'principal & director': 'director',\n",
    "    'others': 'other',\n",
    "    'decision-maker': 'decision maker',\n",
    "})\n",
    "\n",
    "df_test['customer_position'] = df_test['customer_position'].replace({\n",
    "    'vicepresident': 'vice president',\n",
    "    'vp': 'vice president',\n",
    "    'entrylevel': 'entry level',\n",
    "    'c-levelexecutive': 'c-level executive',\n",
    "    'founder': 'ceo/founder',\n",
    "    'ceo/fundador': 'ceo/founder',\n",
    "    'commercial consultant': 'consultant',\n",
    "    'architect/consultant': 'consultant',\n",
    "    'architecture/consult': 'consultant',\n",
    "    'business unit director': 'director',\n",
    "    'no influence': 'none',\n",
    "    'not applicable': 'none',\n",
    "    'commercial end-user': 'end-user',\n",
    "    'exhibitiontv': 'exhibition',\n",
    "    'decision-influencer': 'decision influencer',\n",
    "    'sales': 'business development/sales',\n",
    "    'subsidiary sales (ise)': 'business development/sales',\n",
    "    'business development': 'business development/sales',\n",
    "    'medical device manufacturer': 'manufacturer',\n",
    "    'assistant professor of enlish': 'assistant professor',\n",
    "    'asst prof.': 'assistant professor',\n",
    "    'prof.': 'professor',\n",
    "    'professor of mathematics': 'professor',\n",
    "    'principal & director': 'director',\n",
    "    'others': 'other'\n",
    "})"
   ]
  },
  {
   "cell_type": "markdown",
   "metadata": {},
   "source": [
    "특정 범주이하의 값에 대한 처리"
   ]
  },
  {
   "cell_type": "code",
   "execution_count": 37,
   "metadata": {},
   "outputs": [],
   "source": [
    "## train\n",
    "# 'inquiry_type' 열의 값별 개수 계산\n",
    "counts_train = df_train['customer_position'].value_counts()\n",
    "counts_test = df_test['customer_position'].value_counts()\n",
    "\n",
    "# 특정수 이하인 값들의 리스트로 만듬\n",
    "replace_train = counts_train[counts_train <= 40].index\n",
    "replace_test = counts_test[counts_test <= 2].index\n",
    "\n",
    "# 특정수 이하인 값들을 'other'로 업데이트\n",
    "df_train['customer_position'] = df_train['customer_position'].replace(replace_train, 'other')\n",
    "df_test['customer_position'] = df_test['customer_position'].replace(replace_test, 'other')"
   ]
  },
  {
   "cell_type": "markdown",
   "metadata": {},
   "source": [
    "### response_corporate 변수"
   ]
  },
  {
   "cell_type": "markdown",
   "metadata": {},
   "source": [
    "특정 범주이하 값 처리"
   ]
  },
  {
   "cell_type": "code",
   "execution_count": 38,
   "metadata": {},
   "outputs": [],
   "source": [
    "# 'response_corporate'의 빈도 계산\n",
    "counts_train = df_train['response_corporate'].value_counts()\n",
    "\n",
    "# 빈도가 특정수치 이하인 product_category 를 찾음\n",
    "find_count_train = counts_train[counts_train <= 5].index\n",
    "\n",
    "# 빈도가 특정수치 이하값 \n",
    "df_train.loc[df_train['response_corporate'].isin(find_count_train), 'response_corporate'] = 'other'"
   ]
  },
  {
   "cell_type": "markdown",
   "metadata": {},
   "source": [
    "train 데이터셋에 없는 값에 대한 처리"
   ]
  },
  {
   "cell_type": "code",
   "execution_count": 39,
   "metadata": {},
   "outputs": [],
   "source": [
    "# train 데이터셋에 없는 test 데이터셋에 대한 처리\n",
    "def replace_unknown_values(row, unique):\n",
    "    if row not in unique:\n",
    "        return 'other'\n",
    "    else:\n",
    "        return row\n",
    "\n",
    "unique_train_values = df_train['response_corporate'].unique()\n",
    "df_test['response_corporate'] = df_test['response_corporate'].apply(lambda x: replace_unknown_values(x, unique_train_values))"
   ]
  },
  {
   "cell_type": "markdown",
   "metadata": {},
   "source": [
    "### expected_timeline 변수"
   ]
  },
  {
   "cell_type": "markdown",
   "metadata": {},
   "source": [
    "'months' , 'year'를 포함하는 값을 추출  \n",
    "(이때 해당안되는 값에 대해서는 etc 값으로 변환)"
   ]
  },
  {
   "cell_type": "code",
   "execution_count": 40,
   "metadata": {},
   "outputs": [],
   "source": [
    "# 'months' , 'year' 포함하는 값 추출(아닌경우 'etc' 값으로 변환)\n",
    "df_train['expected_timeline'] = np.where(df_train['expected_timeline'].str.contains('months|year', na=False), df_train['expected_timeline'], 'etc.')\n",
    "df_test['expected_timeline'] = np.where(df_test['expected_timeline'].str.contains('months|year', na=False), df_test['expected_timeline'], 'etc.')"
   ]
  },
  {
   "cell_type": "markdown",
   "metadata": {},
   "source": [
    "추출한 값에 대해서 관련 값으로 변환"
   ]
  },
  {
   "cell_type": "code",
   "execution_count": 41,
   "metadata": {},
   "outputs": [],
   "source": [
    "df_train['expected_timeline'] = df_train['expected_timeline'].replace({\n",
    "    'less_than_3_months': 'less than 3 months',\n",
    "    '3_months_~_6_months': '3 months ~ 6 months',\n",
    "    '9_months_~_1_year': '9 months ~ 1 year',\n",
    "    'more_than_a_year': 'more than a year',\n",
    "    '6_months_~_9_months': '6 months ~ 9 months',\n",
    "    '9 months - 1 year': '9 months ~ 1 year',\n",
    "    'duplicate lead - il220100042906. less than 3 months': 'less than 3 months',\n",
    "    'less than 3 months ,meeting with the customer for the more details and tentative boq will ne 32 and 43': 'less than 3 months',\n",
    "\n",
    "    'less_than_3_months': 'less than 3 months',\n",
    "    'less than 3 months- outdoor led requiment': 'less than 3 months',\n",
    "    'need to discuss with client in next two months. they need to check the product and accridngly proceed for personal use.': 'less than 3 months',\n",
    "    'quotation sent – 75tr3dj , work in progress, he will buy after 2 months. he has not even seen the quote yet.': 'less than 3 months',\n",
    "    'quote shared with customer, he will confirm after 2 months. lead shared with partner.': 'less than 3 months',\n",
    "    'less than 3 months- outdoor led requiment': 'less than 3 months',\n",
    "    'less than 3 months. customer not answered . to call back': 'less than 3 months',\n",
    "\n",
    "    'purchase planning after 3 months': '3 months ~ 6 months',\n",
    "    'needs hotel tv after 4 months, will call us.': '3 months ~ 6 months',\n",
    "\n",
    "    'we are already in touch with this cutsomer from last 2 years, he has never purchased any product till date. i called him up twice but no reponse.' : 'etc.',\n",
    "    'very abrupt customer. said the inquiry was made months ago and was rude enough. closing in the system as the client behaviour has no scope to discuss on requirement. need marketing team to check if the case was received in dec or jan as per client.' : 'etc.',\n",
    "\n",
    "    # 아래 값들은 근사 기간으로 넣어줌\n",
    "    'more then 3 months': '3 months ~ 6 months',\n",
    "    'less than 5 months': '3 months ~ 6 months',\n",
    "    'less than 6 months': '3 months ~ 6 months',\n",
    "    'less then 6 months': '3 months ~ 6 months',\n",
    "    '3 months': '3 months ~ 6 months',\n",
    "    '4/8 months': '3 months ~ 6 months',\n",
    "\n",
    "})\n",
    "df_test['customer_position'] = df_test['customer_position'].replace({\n",
    "    'less_than_3_months': 'less than 3 months',\n",
    "    '3_months_~_6_months': '3 months ~ 6 months',\n",
    "    '9_months_~_1_year': '9 months ~ 1 year',\n",
    "    'more_than_a_year': 'more than a year',\n",
    "    '6_months_~_9_months': '6 months ~ 9 months'\n",
    "})\n"
   ]
  },
  {
   "cell_type": "markdown",
   "metadata": {},
   "source": [
    "### ver_cus, ver_pro 변수"
   ]
  },
  {
   "cell_type": "markdown",
   "metadata": {},
   "source": [
    "따로처리할 부분 없음"
   ]
  },
  {
   "cell_type": "markdown",
   "metadata": {},
   "source": [
    "### ver_win_rate_x 변수"
   ]
  },
  {
   "cell_type": "markdown",
   "metadata": {},
   "source": [
    "결측값 대체"
   ]
  },
  {
   "cell_type": "code",
   "execution_count": 42,
   "metadata": {},
   "outputs": [],
   "source": [
    "# 'ver_win_rate_x' 변수에서 NaN 값을 0으로 대체\n",
    "df_train['ver_win_rate_x'] = df_train['ver_win_rate_x'].fillna(0)\n",
    "df_test['ver_win_rate_x'] = df_test['ver_win_rate_x'].fillna(0)"
   ]
  },
  {
   "cell_type": "markdown",
   "metadata": {},
   "source": [
    "### ver_win_ratio_per_bu 변수"
   ]
  },
  {
   "cell_type": "markdown",
   "metadata": {},
   "source": [
    "business_area, business_unit 의 변수로 그룹화 진행  \n",
    "해당하는 그룹에서 'ver_win_ratio_per_bu' 의 결측값에 대한 예측"
   ]
  },
  {
   "cell_type": "code",
   "execution_count": 43,
   "metadata": {},
   "outputs": [],
   "source": [
    "grouped = df_train.groupby([\"business_area\",\"business_unit\"])\n",
    "\n",
    "# business_area, business_unit 그룹화하여 샘플 수 계산\n",
    "grouped_counts = df_train.groupby(['business_area', 'business_unit']).size()\n",
    "\n",
    "# business_area, business_unit, is_converted 그룹화하여 영업 전환된(is_converted) 샘플 수 계산\n",
    "converted_counts = df_train[df_train['is_converted']].groupby(['business_area', 'business_unit']).size()\n",
    "\n",
    "# business_area, business_unit별 샘플 수 대비 영업 전환된(is_converted) 샘플 수의 비율 계산\n",
    "conversion_rates = converted_counts / grouped_counts"
   ]
  },
  {
   "cell_type": "markdown",
   "metadata": {},
   "source": [
    "위의 코드를 통해 구한 값에 대해서 해당하는 부분의 값이 결측값인 경우 값대체"
   ]
  },
  {
   "cell_type": "code",
   "execution_count": 44,
   "metadata": {},
   "outputs": [],
   "source": [
    "# 그룹별 값을 딕셔너리로 정의\n",
    "group_values = {\n",
    "    ('corporate / office', 'AS'): 0.029734,\n",
    "    ('corporate / office', 'ID'): 0.088618,\n",
    "    ('corporate / office', 'IT'): 0.033333,\n",
    "    ('corporate / office', 'Solution'): 0.034483,\n",
    "    ('education', 'AS'): 0.066667,\n",
    "    ('education', 'ID'): 0.064897,\n",
    "    ('education', 'IT'): 0.046667,\n",
    "    ('education', 'Solution'): None,\n",
    "    ('factory', 'AS'): 0.059553,\n",
    "    ('factory', 'ID'): 0.068519,\n",
    "    ('factory', 'IT'): 0.337349,\n",
    "    ('factory', 'Solution'): None,\n",
    "    ('government department', 'AS'): 0.040462,\n",
    "    ('government department', 'ID'): 0.076010,\n",
    "    ('government department', 'IT'): None,\n",
    "    ('government department', 'Solution'): None,\n",
    "    ('hospital & health care', 'AS'): 0.096154,\n",
    "    ('hospital & health care', 'ID'): 0.128378,\n",
    "    ('hospital & health care', 'IT'): 0.378771,\n",
    "    ('hotel & accommodation', 'AS'): 0.004831,\n",
    "    ('hotel & accommodation', 'ID'): 0.118902,\n",
    "    ('hotel & accommodation', 'IT'): 0.002528,\n",
    "    ('hotel & accommodation', 'Solution'): None,\n",
    "    ('power plant / renewable energy', 'AS'): 0.129032,\n",
    "    ('power plant / renewable energy', 'ID'): 0.279070,\n",
    "    ('power plant / renewable energy', 'IT'): None,\n",
    "    ('public facility', 'AS'): 0.030000,\n",
    "    ('public facility', 'ID'): 0.099631,\n",
    "    ('public facility', 'IT'): 0.025000,\n",
    "    ('public facility', 'Solution'): None,\n",
    "    ('residential (home)', 'AS'): 0.017582,\n",
    "    ('residential (home)', 'ID'): 0.038961,\n",
    "    ('residential (home)', 'IT'): 0.142857,\n",
    "    ('residential (home)', 'Solution'): None,\n",
    "    ('retail', 'AS'): 0.026650,\n",
    "    ('retail', 'ID'): 0.061637,\n",
    "    ('retail', 'IT'): 0.073620,\n",
    "    ('retail', 'Solution'): None,\n",
    "    ('special purpose', 'AS'): 0.028050,\n",
    "    ('special purpose', 'ID'): 0.070698,\n",
    "    ('special purpose', 'IT'): 0.046296,\n",
    "    ('special purpose', 'Solution'): None,\n",
    "    ('transportation', 'AS'): 0.037736,\n",
    "    ('transportation', 'ID'): 0.064815,\n",
    "    ('transportation', 'IT'): 0.060606,\n",
    "    ('transportation', 'Solution'): None,\n",
    "}\n",
    "\n",
    "# 'business_area'와 'business_unit'에 해당하는 그룹별 값을 'ver_win_ratio_per_bu' 변수에 적용\n",
    "df_train['ver_win_ratio_per_bu'] = df_train.apply(lambda row: group_values.get((row['business_area'], row['business_unit'])), axis=1)\n",
    "df_test['ver_win_ratio_per_bu'] = df_test.apply(lambda row: group_values.get((row['business_area'], row['business_unit'])), axis=1)"
   ]
  },
  {
   "cell_type": "markdown",
   "metadata": {},
   "source": [
    "결측값 대체"
   ]
  },
  {
   "cell_type": "code",
   "execution_count": 45,
   "metadata": {},
   "outputs": [],
   "source": [
    "# 결측값 0값으로 대체\n",
    "df_train['ver_win_ratio_per_bu'].fillna(0, inplace=True)\n",
    "df_test['ver_win_ratio_per_bu'].fillna(0, inplace=True)"
   ]
  },
  {
   "cell_type": "markdown",
   "metadata": {},
   "source": [
    "### business_area, business_subarea 변수"
   ]
  },
  {
   "cell_type": "markdown",
   "metadata": {},
   "source": [
    "결측값 대체"
   ]
  },
  {
   "cell_type": "code",
   "execution_count": 46,
   "metadata": {},
   "outputs": [],
   "source": [
    "# 결측값 'unknown' 값으로 대체\n",
    "df_train['business_area'].fillna('unknown', inplace=True)\n",
    "df_test['business_area'].fillna('unknown', inplace=True)\n",
    "\n",
    "# 결측값 'Unknown' 값으로 대체\n",
    "df_train['business_subarea'].fillna('Unknown', inplace=True)\n",
    "df_test['business_subarea'].fillna('Unknown', inplace=True)"
   ]
  },
  {
   "cell_type": "markdown",
   "metadata": {},
   "source": [
    "### lead_owner 변수"
   ]
  },
  {
   "cell_type": "markdown",
   "metadata": {},
   "source": [
    "특정 빈도수 이하 값에 대한 처리"
   ]
  },
  {
   "cell_type": "code",
   "execution_count": 47,
   "metadata": {},
   "outputs": [],
   "source": [
    "# 'lead_owner'의 빈도 계산\n",
    "counts_train = df_train['lead_owner'].value_counts()\n",
    "\n",
    "# 빈도가 특정수치 이하인 lead_owner 를 찾음\n",
    "find_count_train = counts_train[counts_train <= 10].index\n",
    "\n",
    "# 빈도가 특정수치 이하값 \n",
    "df_train.loc[df_train['lead_owner'].isin(find_count_train), 'lead_owner'] = -1"
   ]
  },
  {
   "cell_type": "markdown",
   "metadata": {},
   "source": [
    "결측값 대체"
   ]
  },
  {
   "cell_type": "code",
   "execution_count": 48,
   "metadata": {},
   "outputs": [],
   "source": [
    "# train 데이터셋에 없는 test 데이터셋에 대한 처리\n",
    "def replace_unknown_values(row, unique):\n",
    "    if row not in unique:\n",
    "        return -1\n",
    "    else:\n",
    "        return row\n",
    "\n",
    "unique_train_values = df_train['lead_owner'].unique()\n",
    "df_test['lead_owner'] = df_test['lead_owner'].apply(lambda x: replace_unknown_values(x, unique_train_values))"
   ]
  },
  {
   "cell_type": "markdown",
   "metadata": {},
   "source": [
    "lead_owner에 대하여 카테고리화하여 is_converted의 비율을 계산  \n",
    "계산한 값에대해서 특정 비율에 해당하는 값에대해서 범주화 진행"
   ]
  },
  {
   "cell_type": "code",
   "execution_count": 49,
   "metadata": {},
   "outputs": [],
   "source": [
    "# 'customer_idx' 카테고리별로 'is_converted'의 평균과 갯수를 계산\n",
    "owner_target = df_train.groupby('lead_owner')['is_converted'].agg(['mean', 'count']).sort_values(by='mean', ascending=False)\n",
    "\n",
    "# 'mean' 값이 특정 값보다 크면 1, 아니면 0을 부여\n",
    "owner_target['label_09'] = (owner_target['mean'] > 0.9).astype(int)\n",
    "owner_target['label_07'] = ((0.9 >= owner_target['mean']) & (owner_target['mean'] > 0.7)).astype(int)\n",
    "owner_target['label_05'] = ((0.7 >= owner_target['mean']) & (owner_target['mean'] > 0.5)).astype(int)\n",
    "owner_target['label_03'] = ((0.5 >= owner_target['mean']) & (owner_target['mean'] > 0.3)).astype(int)\n",
    "owner_target['label_00'] = ((0.001 >= owner_target['mean']) & (owner_target['count'] <= 100)).astype(int)\n",
    "\n",
    "\n",
    "# 'owner_target'를 기준으로 'label' 값을 매핑\n",
    "label_map_09 = owner_target['label_09'].to_dict()\n",
    "label_map_07 = owner_target['label_07'].to_dict()\n",
    "label_map_05 = owner_target['label_05'].to_dict()\n",
    "label_map_03 = owner_target['label_03'].to_dict()\n",
    "label_map_00 = owner_target['label_00'].to_dict()\n",
    "\n",
    "\n",
    "# 'lead_owner' 열을 업데이트\n",
    "df_train['lead_owner_09'] = df_train['lead_owner'].map(label_map_09)\n",
    "df_train['lead_owner_07'] = df_train['lead_owner'].map(label_map_07)\n",
    "df_train['lead_owner_05'] = df_train['lead_owner'].map(label_map_05)\n",
    "df_train['lead_owner_03'] = df_train['lead_owner'].map(label_map_03)\n",
    "df_train['lead_owner_00'] = df_train['lead_owner'].map(label_map_00)\n",
    "\n",
    "df_test['lead_owner_09'] = df_test['lead_owner'].map(label_map_09)\n",
    "df_test['lead_owner_07'] = df_test['lead_owner'].map(label_map_07)\n",
    "df_test['lead_owner_05'] = df_test['lead_owner'].map(label_map_05)\n",
    "df_test['lead_owner_03'] = df_test['lead_owner'].map(label_map_03)\n",
    "df_test['lead_owner_00'] = df_test['lead_owner'].map(label_map_00)"
   ]
  },
  {
   "cell_type": "markdown",
   "metadata": {},
   "source": [
    "## 3. 레이블 인코딩"
   ]
  },
  {
   "cell_type": "code",
   "execution_count": 50,
   "metadata": {},
   "outputs": [],
   "source": [
    "# 인코딩할 컬럼 목록\n",
    "columns_to_encode = [\"customer_country\",\n",
    "                     \"business_subarea\",\n",
    "                     \"business_area\",\n",
    "                     \"business_unit\",\n",
    "                     \"customer_type\",\n",
    "                     \"enterprise\",\n",
    "                     \"customer_job\",\n",
    "                     \"inquiry_type\",\n",
    "                     \"product_category\",\n",
    "                     \"product_subcategory\",\n",
    "                     \"product_modelname\",\n",
    "                     \"customer_country.1\",\n",
    "                     \"customer_position\",\n",
    "                     \"response_corporate\",\n",
    "                     \"expected_timeline\",\n",
    "                     \"customer_idx\",\n",
    "                     \"lead_owner\"\n",
    "                     ]\n",
    "\n",
    "df_train_encoded = df_train.copy()\n",
    "df_test_encoded = df_test.copy()\n",
    "\n",
    "for col in columns_to_encode:\n",
    "    df_train_encoded[col] = df_train_encoded[col].astype('category')\n",
    "    df_test_encoded[col] = df_test_encoded[col].astype('category')"
   ]
  },
  {
   "cell_type": "markdown",
   "metadata": {},
   "source": [
    "타겟인코딩을 통해 범주형 변수들 수치형으로 변환"
   ]
  },
  {
   "cell_type": "code",
   "execution_count": 51,
   "metadata": {},
   "outputs": [],
   "source": [
    "from category_encoders import TargetEncoder\n",
    "\n",
    "smoothing1_list = ['enterprise','response_corporate','business_unit','business_area', 'customer_country.1']\n",
    "smoothing2_list = ['lead_owner', 'customer_idx', 'customer_country']\n",
    "smoothing3_list = [item for item in columns_to_encode if item not in smoothing1_list + smoothing2_list]\n",
    "\n",
    "for col in smoothing1_list:\n",
    "    encoders = {col: TargetEncoder(smoothing=1) for col in smoothing1_list}\n",
    "    df_train_encoded[col] = encoders[col].fit_transform(df_train_encoded[col], df_train['is_converted'])\n",
    "    df_test_encoded[col] = encoders[col].transform(df_test_encoded[col])\n",
    "\n",
    "for col in smoothing2_list:\n",
    "    encoders = {col: TargetEncoder(smoothing=5) for col in smoothing2_list}\n",
    "    df_train_encoded[col] = encoders[col].fit_transform(df_train_encoded[col], df_train['is_converted'])\n",
    "    df_test_encoded[col] = encoders[col].transform(df_test_encoded[col])\n",
    "\n",
    "for col in smoothing3_list:\n",
    "    encoders = {col: TargetEncoder(smoothing=10) for col in smoothing3_list}\n",
    "    df_train_encoded[col] = encoders[col].fit_transform(df_train_encoded[col], df_train['is_converted'])\n",
    "    df_test_encoded[col] = encoders[col].transform(df_test_encoded[col])\n"
   ]
  },
  {
   "cell_type": "markdown",
   "metadata": {},
   "source": [
    "### com_reg_ver_win_rate 변수"
   ]
  },
  {
   "cell_type": "markdown",
   "metadata": {},
   "source": [
    "범주형 데이터에 대해서 수치형으로 변환을 함  \n",
    "이에 com_reg_ver_win_rate 결측값에 대한 예측이 가능해짐"
   ]
  },
  {
   "cell_type": "markdown",
   "metadata": {},
   "source": [
    "랜덤포레스트의 회귀모델을 이용하여 결측값을 예측하여 결측값 대체"
   ]
  },
  {
   "cell_type": "code",
   "execution_count": 52,
   "metadata": {},
   "outputs": [],
   "source": [
    "from sklearn.ensemble import RandomForestRegressor\n",
    "\n",
    "def fill_missing_values(df):\n",
    "    # 데이터에서 결측치가 없는 행과 결측치가 있는 행 분리\n",
    "    train_data = df[df['com_reg_ver_win_rate'].notna()]\n",
    "    test_data = df[df['com_reg_ver_win_rate'].isna()]\n",
    "\n",
    "    # 'com_reg_ver_win_rate'를 예측하는 데 사용할 피처 선택\n",
    "    features = ['business_area', 'business_unit', 'customer_country.1']   \n",
    "\n",
    "    # 훈련 데이터와 테스트 데이터 준비\n",
    "    X_train = train_data[features]\n",
    "    y_train = train_data['com_reg_ver_win_rate']\n",
    "    X_test = test_data[features]\n",
    "\n",
    "    # 랜덤 포레스트 모델 생성 및 훈련\n",
    "    model = RandomForestRegressor(random_state=0)\n",
    "    model.fit(X_train, y_train)\n",
    "\n",
    "    # 모델을 사용해 결측치 예측\n",
    "    predicted_values = model.predict(X_test)\n",
    "\n",
    "    # 예측값으로 결측치 대체\n",
    "    df.loc[df['com_reg_ver_win_rate'].isna(), 'com_reg_ver_win_rate'] = predicted_values\n",
    "\n",
    "\n",
    "# df_train_encoded에 대한 데이터 처리\n",
    "fill_missing_values(df_train_encoded)\n",
    "\n",
    "# df_test_encoded에 대한 데이터 처리\n",
    "fill_missing_values(df_test_encoded)"
   ]
  },
  {
   "cell_type": "markdown",
   "metadata": {},
   "source": [
    "상관관계와 다중공산성을 판단하여 결측값이 많은 product_modelname 변수와  \n",
    "의미없는 변수라고 생각되는 customer_country 변수에 대해서 drop을 진행"
   ]
  },
  {
   "cell_type": "code",
   "execution_count": 53,
   "metadata": {},
   "outputs": [],
   "source": [
    "df_train_encoded = df_train_encoded.drop(['customer_country','product_modelname'], axis=1)\n",
    "df_test_encoded = df_test_encoded.drop(['customer_country','product_modelname'], axis=1) "
   ]
  },
  {
   "cell_type": "code",
   "execution_count": 54,
   "metadata": {},
   "outputs": [
    {
     "name": "stdout",
     "output_type": "stream",
     "text": [
      "<class 'pandas.core.frame.DataFrame'>\n",
      "RangeIndex: 59299 entries, 0 to 59298\n",
      "Data columns (total 34 columns):\n",
      " #   Column                   Non-Null Count  Dtype  \n",
      "---  ------                   --------------  -----  \n",
      " 0   bant_submit              59299 non-null  float64\n",
      " 1   business_unit            59299 non-null  float64\n",
      " 2   com_reg_ver_win_rate     59299 non-null  float64\n",
      " 3   customer_idx             59299 non-null  float64\n",
      " 4   customer_type            59299 non-null  float64\n",
      " 5   enterprise               59299 non-null  float64\n",
      " 6   historical_existing_cnt  59299 non-null  float64\n",
      " 7   id_strategic_ver         59299 non-null  float64\n",
      " 8   it_strategic_ver         59299 non-null  float64\n",
      " 9   idit_strategic_ver       59299 non-null  float64\n",
      " 10  customer_job             59299 non-null  float64\n",
      " 11  lead_desc_length         59299 non-null  float64\n",
      " 12  inquiry_type             59299 non-null  float64\n",
      " 13  product_category         59299 non-null  float64\n",
      " 14  product_subcategory      59299 non-null  float64\n",
      " 15  customer_country.1       59299 non-null  float64\n",
      " 16  customer_position        59299 non-null  float64\n",
      " 17  response_corporate       59299 non-null  float64\n",
      " 18  expected_timeline        59299 non-null  float64\n",
      " 19  ver_cus                  59299 non-null  int64  \n",
      " 20  ver_pro                  59299 non-null  int64  \n",
      " 21  ver_win_rate_x           59299 non-null  float64\n",
      " 22  ver_win_ratio_per_bu     59299 non-null  float64\n",
      " 23  business_area            59299 non-null  float64\n",
      " 24  business_subarea         59299 non-null  float64\n",
      " 25  lead_owner               59299 non-null  float64\n",
      " 26  is_converted             59299 non-null  bool   \n",
      " 27  customer_idx_99          59299 non-null  int64  \n",
      " 28  customer_idx_001         59299 non-null  int64  \n",
      " 29  lead_owner_09            59299 non-null  int64  \n",
      " 30  lead_owner_07            59299 non-null  int64  \n",
      " 31  lead_owner_05            59299 non-null  int64  \n",
      " 32  lead_owner_03            59299 non-null  int64  \n",
      " 33  lead_owner_00            59299 non-null  int64  \n",
      "dtypes: bool(1), float64(24), int64(9)\n",
      "memory usage: 15.0 MB\n"
     ]
    }
   ],
   "source": [
    "df_train_encoded.info()"
   ]
  },
  {
   "cell_type": "markdown",
   "metadata": {},
   "source": [
    "## 4. 모델링"
   ]
  },
  {
   "cell_type": "markdown",
   "metadata": {},
   "source": [
    "### 오버샘플링 및 언더샘플링"
   ]
  },
  {
   "cell_type": "markdown",
   "metadata": {},
   "source": [
    "타겟변수에 대한 값을 변환  \n",
    "(데이터의 오버샘플링과 언더샘플링을 적용하기 위함)"
   ]
  },
  {
   "cell_type": "code",
   "execution_count": 55,
   "metadata": {},
   "outputs": [],
   "source": [
    "from sklearn.model_selection import train_test_split\n",
    "\n",
    "# 타겟변수에 대한 값 변환\n",
    "df_train_encoded.loc[df_train_encoded['is_converted'] == True, 'is_converted'] = 1\n",
    "df_train_encoded.loc[df_train_encoded['is_converted'] == False, 'is_converted'] = 0\n",
    "\n",
    "df_train_encoded['is_converted'] = df_train_encoded['is_converted'].astype(float)\n",
    "\n",
    "X = df_train_encoded[df_train_encoded.columns.drop('is_converted')]\n",
    "Y = df_train_encoded['is_converted']\n",
    "\n",
    "# X와 Y로 나누기\n",
    "x_train, x_val, y_train, y_val = train_test_split(X, Y, test_size=0.2, random_state=0, shuffle=True)\n",
    "\n",
    "# 예측에 필요한 데이터 분리\n",
    "x_test = df_test_encoded.drop([\"is_converted\"], axis=1)"
   ]
  },
  {
   "cell_type": "code",
   "execution_count": 56,
   "metadata": {},
   "outputs": [],
   "source": [
    "from imblearn.over_sampling import SMOTE\n",
    "from imblearn.under_sampling import RandomUnderSampler\n",
    "from imblearn.pipeline import Pipeline\n",
    "\n",
    "# 오버샘플링과 언더샘플링\n",
    "# SMOTE와 RandomUnderSampler를 파이프라인으로 결합\n",
    "resample = Pipeline([('SMOTE', SMOTE(random_state=0)), \n",
    "                     ('RandomUnderSampler', RandomUnderSampler(random_state=0))])\n",
    "\n",
    "# 데이터에 오버샘플링과 언더샘플링 적용\n",
    "x_train, y_train = resample.fit_resample(x_train, y_train)"
   ]
  },
  {
   "cell_type": "markdown",
   "metadata": {},
   "source": [
    "### 모델 라이브러리"
   ]
  },
  {
   "cell_type": "code",
   "execution_count": 57,
   "metadata": {},
   "outputs": [],
   "source": [
    "# 모델 라이브러리\n",
    "from lightgbm import LGBMClassifier\n",
    "from catboost import CatBoostClassifier\n",
    "from xgboost import XGBClassifier\n",
    "from sklearn.tree import DecisionTreeClassifier\n",
    "from sklearn.ensemble import RandomForestClassifier, ExtraTreesClassifier, GradientBoostingClassifier, AdaBoostClassifier\n",
    "\n",
    "# 보팅\n",
    "from sklearn.ensemble import VotingClassifier\n",
    "\n",
    "# 스테킹\n",
    "from sklearn.ensemble import StackingClassifier"
   ]
  },
  {
   "cell_type": "markdown",
   "metadata": {},
   "source": [
    "### 모델 성능확인"
   ]
  },
  {
   "cell_type": "code",
   "execution_count": 58,
   "metadata": {},
   "outputs": [],
   "source": [
    "from sklearn.metrics import (\n",
    "    accuracy_score,\n",
    "    confusion_matrix,\n",
    "    f1_score,\n",
    "    precision_score,\n",
    "    recall_score,\n",
    ")\n",
    "\n",
    "def get_clf_eval(y_test, y_pred=None):\n",
    "    confusion = confusion_matrix(y_test, y_pred, labels=[True, False])\n",
    "    accuracy = accuracy_score(y_test, y_pred)\n",
    "    precision = precision_score(y_test, y_pred, labels=[True, False])\n",
    "    recall = recall_score(y_test, y_pred)\n",
    "    F1 = f1_score(y_test, y_pred, labels=[True, False])\n",
    "    weighted_F1 = f1_score(y_test, y_pred, average='weighted')\n",
    "\n",
    "    metrics = pd.DataFrame({\n",
    "        '정확도': [accuracy],\n",
    "        '정밀도': [precision],\n",
    "        '재현율': [recall],\n",
    "        'F1 Score': [F1],\n",
    "        'Weighted F1': [weighted_F1]\n",
    "    })\n",
    "\n",
    "    confusion_df = pd.DataFrame(confusion, index=['True', 'False'], columns=['True', 'False'])\n",
    "\n",
    "    print(\"\\n오차행렬:\")\n",
    "    display(confusion_df)\n",
    "    print(\"평가 지표:\")\n",
    "    display(metrics)"
   ]
  },
  {
   "cell_type": "markdown",
   "metadata": {},
   "source": [
    "### 모델 정의"
   ]
  },
  {
   "cell_type": "markdown",
   "metadata": {},
   "source": [
    "Optuna를 이용하여 파라미터를 구함"
   ]
  },
  {
   "cell_type": "code",
   "execution_count": 59,
   "metadata": {},
   "outputs": [
    {
     "name": "stderr",
     "output_type": "stream",
     "text": [
      "[I 2024-02-24 12:41:19,563] A new study created in memory with name: no-name-dfe7fe09-b50b-4199-8547-2ec6974f12f7\n"
     ]
    },
    {
     "name": "stderr",
     "output_type": "stream",
     "text": [
      "[I 2024-02-24 12:42:31,449] Trial 0 finished with value: 0.8297338021094927 and parameters: {'n_estimators': 529, 'num_leaves': 629, 'max_depth': 19, 'learning_rate': 0.05494343511669279, 'min_child_samples': 10}. Best is trial 0 with value: 0.8297338021094927.\n",
      "[I 2024-02-24 12:44:02,742] Trial 1 finished with value: 0.8409785932721713 and parameters: {'n_estimators': 588, 'num_leaves': 462, 'max_depth': 27, 'learning_rate': 0.09640261328960191, 'min_child_samples': 9}. Best is trial 1 with value: 0.8409785932721713.\n",
      "[I 2024-02-24 12:45:42,347] Trial 2 finished with value: 0.8336713995943205 and parameters: {'n_estimators': 675, 'num_leaves': 517, 'max_depth': 18, 'learning_rate': 0.09263406719097345, 'min_child_samples': 3}. Best is trial 1 with value: 0.8409785932721713.\n",
      "[I 2024-02-24 12:45:53,478] Trial 3 finished with value: 0.8326693227091633 and parameters: {'n_estimators': 252, 'num_leaves': 212, 'max_depth': 26, 'learning_rate': 0.0780375183440352, 'min_child_samples': 18}. Best is trial 1 with value: 0.8409785932721713.\n",
      "[I 2024-02-24 12:49:05,660] Trial 4 finished with value: 0.8362156663275686 and parameters: {'n_estimators': 788, 'num_leaves': 680, 'max_depth': 15, 'learning_rate': 0.07827238845235909, 'min_child_samples': 4}. Best is trial 1 with value: 0.8409785932721713.\n",
      "[I 2024-02-24 12:50:10,003] Trial 5 finished with value: 0.8344237544036235 and parameters: {'n_estimators': 584, 'num_leaves': 286, 'max_depth': 29, 'learning_rate': 0.0526629838532571, 'min_child_samples': 9}. Best is trial 1 with value: 0.8409785932721713.\n",
      "[I 2024-02-24 12:50:48,384] Trial 6 finished with value: 0.8275520317145688 and parameters: {'n_estimators': 358, 'num_leaves': 665, 'max_depth': 15, 'learning_rate': 0.05727496093799621, 'min_child_samples': 2}. Best is trial 1 with value: 0.8409785932721713.\n",
      "[I 2024-02-24 12:52:18,573] Trial 7 finished with value: 0.8361237950279047 and parameters: {'n_estimators': 571, 'num_leaves': 567, 'max_depth': 20, 'learning_rate': 0.0944310597729478, 'min_child_samples': 14}. Best is trial 1 with value: 0.8409785932721713.\n",
      "[I 2024-02-24 12:52:53,942] Trial 8 finished with value: 0.7848218417399352 and parameters: {'n_estimators': 416, 'num_leaves': 462, 'max_depth': 22, 'learning_rate': 0.006962321691297714, 'min_child_samples': 14}. Best is trial 1 with value: 0.8409785932721713.\n",
      "[I 2024-02-24 12:53:26,131] Trial 9 finished with value: 0.7472616632860041 and parameters: {'n_estimators': 603, 'num_leaves': 326, 'max_depth': 6, 'learning_rate': 0.032227406741494206, 'min_child_samples': 8}. Best is trial 1 with value: 0.8409785932721713.\n",
      "[I 2024-02-24 12:53:47,317] Trial 10 finished with value: 0.6934523809523809 and parameters: {'n_estimators': 763, 'num_leaves': 765, 'max_depth': 3, 'learning_rate': 0.02395107984805277, 'min_child_samples': 20}. Best is trial 1 with value: 0.8409785932721713.\n",
      "[I 2024-02-24 12:55:52,602] Trial 11 finished with value: 0.8356854838709676 and parameters: {'n_estimators': 795, 'num_leaves': 424, 'max_depth': 11, 'learning_rate': 0.07775480505211718, 'min_child_samples': 5}. Best is trial 1 with value: 0.8409785932721713.\n",
      "[I 2024-02-24 12:58:10,347] Trial 12 finished with value: 0.8361237950279047 and parameters: {'n_estimators': 675, 'num_leaves': 788, 'max_depth': 12, 'learning_rate': 0.07863136375717028, 'min_child_samples': 6}. Best is trial 1 with value: 0.8409785932721713.\n",
      "[I 2024-02-24 13:00:50,827] Trial 13 finished with value: 0.8475609756097561 and parameters: {'n_estimators': 716, 'num_leaves': 677, 'max_depth': 24, 'learning_rate': 0.09716914697888186, 'min_child_samples': 12}. Best is trial 13 with value: 0.8475609756097561.\n",
      "[I 2024-02-24 13:02:46,861] Trial 14 finished with value: 0.8409785932721713 and parameters: {'n_estimators': 672, 'num_leaves': 400, 'max_depth': 25, 'learning_rate': 0.09850965644124471, 'min_child_samples': 13}. Best is trial 13 with value: 0.8475609756097561.\n",
      "[I 2024-02-24 13:03:57,663] Trial 15 finished with value: 0.8299046663321625 and parameters: {'n_estimators': 457, 'num_leaves': 559, 'max_depth': 30, 'learning_rate': 0.06576146335233375, 'min_child_samples': 12}. Best is trial 13 with value: 0.8475609756097561.\n",
      "[I 2024-02-24 13:06:32,760] Trial 16 finished with value: 0.8297553669495756 and parameters: {'n_estimators': 703, 'num_leaves': 715, 'max_depth': 24, 'learning_rate': 0.03587081134641241, 'min_child_samples': 16}. Best is trial 13 with value: 0.8475609756097561.\n",
      "[I 2024-02-24 13:08:00,580] Trial 17 finished with value: 0.8313008130081301 and parameters: {'n_estimators': 504, 'num_leaves': 582, 'max_depth': 28, 'learning_rate': 0.08640393118816268, 'min_child_samples': 7}. Best is trial 13 with value: 0.8475609756097561.\n",
      "[I 2024-02-24 13:09:33,282] Trial 18 finished with value: 0.8422649140546006 and parameters: {'n_estimators': 624, 'num_leaves': 367, 'max_depth': 23, 'learning_rate': 0.06706899261624934, 'min_child_samples': 11}. Best is trial 13 with value: 0.8475609756097561.\n",
      "[I 2024-02-24 13:11:27,013] Trial 19 finished with value: 0.8377968671045982 and parameters: {'n_estimators': 731, 'num_leaves': 353, 'max_depth': 22, 'learning_rate': 0.04241373861256686, 'min_child_samples': 11}. Best is trial 13 with value: 0.8475609756097561.\n",
      "[I 2024-02-24 13:12:46,546] Trial 20 finished with value: 0.8413654618473895 and parameters: {'n_estimators': 634, 'num_leaves': 211, 'max_depth': 22, 'learning_rate': 0.06364919767319265, 'min_child_samples': 16}. Best is trial 13 with value: 0.8475609756097561.\n",
      "[I 2024-02-24 13:14:03,772] Trial 21 finished with value: 0.8386123680241327 and parameters: {'n_estimators': 641, 'num_leaves': 216, 'max_depth': 22, 'learning_rate': 0.06573597801556795, 'min_child_samples': 17}. Best is trial 13 with value: 0.8475609756097561.\n",
      "[I 2024-02-24 13:15:59,550] Trial 22 finished with value: 0.8351090816844241 and parameters: {'n_estimators': 744, 'num_leaves': 281, 'max_depth': 24, 'learning_rate': 0.06567243326174059, 'min_child_samples': 15}. Best is trial 13 with value: 0.8475609756097561.\n",
      "[I 2024-02-24 13:17:15,734] Trial 23 finished with value: 0.8287292817679558 and parameters: {'n_estimators': 631, 'num_leaves': 257, 'max_depth': 21, 'learning_rate': 0.04360461305195308, 'min_child_samples': 11}. Best is trial 13 with value: 0.8475609756097561.\n",
      "[I 2024-02-24 13:18:25,437] Trial 24 finished with value: 0.8359999999999999 and parameters: {'n_estimators': 538, 'num_leaves': 340, 'max_depth': 16, 'learning_rate': 0.0682698405453956, 'min_child_samples': 19}. Best is trial 13 with value: 0.8475609756097561.\n",
      "[I 2024-02-24 13:20:19,567] Trial 25 finished with value: 0.8387755102040817 and parameters: {'n_estimators': 714, 'num_leaves': 384, 'max_depth': 24, 'learning_rate': 0.0846610981133423, 'min_child_samples': 13}. Best is trial 13 with value: 0.8475609756097561.\n",
      "[I 2024-02-24 13:21:43,443] Trial 26 finished with value: 0.8347650328448711 and parameters: {'n_estimators': 636, 'num_leaves': 254, 'max_depth': 18, 'learning_rate': 0.05950983122739553, 'min_child_samples': 16}. Best is trial 13 with value: 0.8475609756097561.\n",
      "[I 2024-02-24 13:22:47,969] Trial 27 finished with value: 0.8292191435768262 and parameters: {'n_estimators': 456, 'num_leaves': 500, 'max_depth': 27, 'learning_rate': 0.07195635373848658, 'min_child_samples': 12}. Best is trial 13 with value: 0.8475609756097561.\n",
      "[I 2024-02-24 13:23:15,802] Trial 28 finished with value: 0.7923147301006405 and parameters: {'n_estimators': 227, 'num_leaves': 738, 'max_depth': 12, 'learning_rate': 0.04620898505765119, 'min_child_samples': 15}. Best is trial 13 with value: 0.8475609756097561.\n",
      "[I 2024-02-24 13:24:55,248] Trial 29 finished with value: 0.8357756442647801 and parameters: {'n_estimators': 560, 'num_leaves': 617, 'max_depth': 19, 'learning_rate': 0.08652075322460623, 'min_child_samples': 9}. Best is trial 13 with value: 0.8475609756097561.\n",
      "[I 2024-02-24 13:25:55,581] Trial 30 finished with value: 0.8113844669561023 and parameters: {'n_estimators': 527, 'num_leaves': 310, 'max_depth': 23, 'learning_rate': 0.019262203685736265, 'min_child_samples': 11}. Best is trial 13 with value: 0.8475609756097561.\n",
      "[I 2024-02-24 13:27:33,671] Trial 31 finished with value: 0.8399592252803262 and parameters: {'n_estimators': 608, 'num_leaves': 450, 'max_depth': 28, 'learning_rate': 0.09808333868354244, 'min_child_samples': 9}. Best is trial 13 with value: 0.8475609756097561.\n",
      "[I 2024-02-24 13:29:32,509] Trial 32 finished with value: 0.8406537282941778 and parameters: {'n_estimators': 678, 'num_leaves': 490, 'max_depth': 26, 'learning_rate': 0.08710039472254114, 'min_child_samples': 7}. Best is trial 13 with value: 0.8475609756097561.\n",
      "[I 2024-02-24 13:31:28,769] Trial 33 finished with value: 0.8373035985808414 and parameters: {'n_estimators': 647, 'num_leaves': 526, 'max_depth': 26, 'learning_rate': 0.09123941775874858, 'min_child_samples': 10}. Best is trial 13 with value: 0.8475609756097561.\n",
      "[I 2024-02-24 13:32:52,105] Trial 34 finished with value: 0.8367139959432048 and parameters: {'n_estimators': 701, 'num_leaves': 200, 'max_depth': 20, 'learning_rate': 0.07279655280535922, 'min_child_samples': 10}. Best is trial 13 with value: 0.8475609756097561.\n",
      "[I 2024-02-24 13:34:36,238] Trial 35 finished with value: 0.8373035985808414 and parameters: {'n_estimators': 602, 'num_leaves': 431, 'max_depth': 30, 'learning_rate': 0.05933927107842523, 'min_child_samples': 18}. Best is trial 13 with value: 0.8475609756097561.\n",
      "[I 2024-02-24 13:36:56,241] Trial 36 finished with value: 0.8425878757004586 and parameters: {'n_estimators': 761, 'num_leaves': 382, 'max_depth': 27, 'learning_rate': 0.09990684727080743, 'min_child_samples': 12}. Best is trial 13 with value: 0.8475609756097561.\n",
      "[I 2024-02-24 13:38:57,857] Trial 37 finished with value: 0.8375378405650857 and parameters: {'n_estimators': 752, 'num_leaves': 384, 'max_depth': 25, 'learning_rate': 0.05096869108085894, 'min_child_samples': 13}. Best is trial 13 with value: 0.8475609756097561.\n",
      "[I 2024-02-24 13:40:52,971] Trial 38 finished with value: 0.8398576512455516 and parameters: {'n_estimators': 772, 'num_leaves': 236, 'max_depth': 27, 'learning_rate': 0.09271192771159198, 'min_child_samples': 12}. Best is trial 13 with value: 0.8475609756097561.\n",
      "[I 2024-02-24 13:43:39,041] Trial 39 finished with value: 0.8360488798370672 and parameters: {'n_estimators': 799, 'num_leaves': 641, 'max_depth': 17, 'learning_rate': 0.08031776538577254, 'min_child_samples': 14}. Best is trial 13 with value: 0.8475609756097561.\n",
      "[I 2024-02-24 13:44:09,493] Trial 40 finished with value: 0.8375378405650857 and parameters: {'n_estimators': 328, 'num_leaves': 301, 'max_depth': 20, 'learning_rate': 0.09963562434159551, 'min_child_samples': 15}. Best is trial 13 with value: 0.8475609756097561.\n",
      "[I 2024-02-24 13:45:32,935] Trial 41 finished with value: 0.8405501782985227 and parameters: {'n_estimators': 565, 'num_leaves': 365, 'max_depth': 28, 'learning_rate': 0.09126160530749787, 'min_child_samples': 8}. Best is trial 13 with value: 0.8475609756097561.\n",
      "[I 2024-02-24 13:49:04,489] Trial 42 finished with value: 0.8377551020408163 and parameters: {'n_estimators': 661, 'num_leaves': 469, 'max_depth': 23, 'learning_rate': 0.09383777525080694, 'min_child_samples': 9}. Best is trial 13 with value: 0.8475609756097561.\n",
      "[I 2024-02-24 13:52:54,828] Trial 43 finished with value: 0.8404471544715447 and parameters: {'n_estimators': 720, 'num_leaves': 421, 'max_depth': 25, 'learning_rate': 0.07398759741941778, 'min_child_samples': 11}. Best is trial 13 with value: 0.8475609756097561.\n",
      "[I 2024-02-24 13:56:16,169] Trial 44 finished with value: 0.8356234096692112 and parameters: {'n_estimators': 618, 'num_leaves': 521, 'max_depth': 29, 'learning_rate': 0.08188528433697034, 'min_child_samples': 3}. Best is trial 13 with value: 0.8475609756097561.\n",
      "[I 2024-02-24 13:58:53,949] Trial 45 finished with value: 0.8281407035175878 and parameters: {'n_estimators': 589, 'num_leaves': 543, 'max_depth': 26, 'learning_rate': 0.05632097099741195, 'min_child_samples': 10}. Best is trial 13 with value: 0.8475609756097561.\n",
      "[I 2024-02-24 14:01:33,079] Trial 46 finished with value: 0.8354559347936831 and parameters: {'n_estimators': 680, 'num_leaves': 474, 'max_depth': 21, 'learning_rate': 0.09663277826135665, 'min_child_samples': 8}. Best is trial 13 with value: 0.8475609756097561.\n",
      "[I 2024-02-24 14:03:42,969] Trial 47 finished with value: 0.8369510348308934 and parameters: {'n_estimators': 767, 'num_leaves': 682, 'max_depth': 23, 'learning_rate': 0.09142178187983549, 'min_child_samples': 5}. Best is trial 13 with value: 0.8475609756097561.\n",
      "[I 2024-02-24 14:05:10,131] Trial 48 finished with value: 0.8398576512455516 and parameters: {'n_estimators': 697, 'num_leaves': 409, 'max_depth': 30, 'learning_rate': 0.07567810122461303, 'min_child_samples': 13}. Best is trial 13 with value: 0.8475609756097561.\n",
      "[I 2024-02-24 14:06:24,986] Trial 49 finished with value: 0.833502538071066 and parameters: {'n_estimators': 547, 'num_leaves': 442, 'max_depth': 27, 'learning_rate': 0.0819101019163154, 'min_child_samples': 12}. Best is trial 13 with value: 0.8475609756097561.\n",
      "[I 2024-02-24 14:07:52,727] Trial 50 finished with value: 0.8336693548387096 and parameters: {'n_estimators': 493, 'num_leaves': 597, 'max_depth': 14, 'learning_rate': 0.08803924533650426, 'min_child_samples': 17}. Best is trial 13 with value: 0.8475609756097561.\n",
      "[I 2024-02-24 14:09:34,077] Trial 51 finished with value: 0.8425878757004586 and parameters: {'n_estimators': 663, 'num_leaves': 396, 'max_depth': 25, 'learning_rate': 0.09885348702260043, 'min_child_samples': 14}. Best is trial 13 with value: 0.8475609756097561.\n",
      "[I 2024-02-24 14:11:17,762] Trial 52 finished with value: 0.8399592252803262 and parameters: {'n_estimators': 658, 'num_leaves': 367, 'max_depth': 25, 'learning_rate': 0.0961584851698388, 'min_child_samples': 14}. Best is trial 13 with value: 0.8475609756097561.\n",
      "[I 2024-02-24 14:13:38,824] Trial 53 finished with value: 0.837920489296636 and parameters: {'n_estimators': 737, 'num_leaves': 326, 'max_depth': 24, 'learning_rate': 0.09987824066385886, 'min_child_samples': 16}. Best is trial 13 with value: 0.8475609756097561.\n",
      "[I 2024-02-24 14:14:22,273] Trial 54 finished with value: 0.7967032967032966 and parameters: {'n_estimators': 576, 'num_leaves': 393, 'max_depth': 7, 'learning_rate': 0.06231255383508348, 'min_child_samples': 14}. Best is trial 13 with value: 0.8475609756097561.\n",
      "[I 2024-02-24 14:16:04,753] Trial 55 finished with value: 0.8400203148806501 and parameters: {'n_estimators': 683, 'num_leaves': 279, 'max_depth': 21, 'learning_rate': 0.08919673757177335, 'min_child_samples': 12}. Best is trial 13 with value: 0.8475609756097561.\n",
      "[I 2024-02-24 14:18:07,081] Trial 56 finished with value: 0.8362156663275686 and parameters: {'n_estimators': 625, 'num_leaves': 348, 'max_depth': 29, 'learning_rate': 0.09514955657760575, 'min_child_samples': 15}. Best is trial 13 with value: 0.8475609756097561.\n",
      "[I 2024-02-24 14:21:36,746] Trial 57 finished with value: 0.8360323886639677 and parameters: {'n_estimators': 774, 'num_leaves': 792, 'max_depth': 22, 'learning_rate': 0.0838190499860249, 'min_child_samples': 13}. Best is trial 13 with value: 0.8475609756097561.\n",
      "[I 2024-02-24 14:24:15,821] Trial 58 finished with value: 0.8285714285714286 and parameters: {'n_estimators': 726, 'num_leaves': 487, 'max_depth': 27, 'learning_rate': 0.02178976860775539, 'min_child_samples': 11}. Best is trial 13 with value: 0.8475609756097561.\n",
      "[I 2024-02-24 14:26:51,393] Trial 59 finished with value: 0.8332503733200597 and parameters: {'n_estimators': 593, 'num_leaves': 327, 'max_depth': 25, 'learning_rate': 0.037387669944642515, 'min_child_samples': 17}. Best is trial 13 with value: 0.8475609756097561.\n",
      "[I 2024-02-24 14:27:52,534] Trial 60 finished with value: 0.8319919517102615 and parameters: {'n_estimators': 512, 'num_leaves': 453, 'max_depth': 23, 'learning_rate': 0.06960609267050379, 'min_child_samples': 10}. Best is trial 13 with value: 0.8475609756097561.\n",
      "[I 2024-02-24 14:29:06,307] Trial 61 finished with value: 0.8387423935091278 and parameters: {'n_estimators': 642, 'num_leaves': 406, 'max_depth': 24, 'learning_rate': 0.09626922219854255, 'min_child_samples': 13}. Best is trial 13 with value: 0.8475609756097561.\n",
      "[I 2024-02-24 14:30:25,326] Trial 62 finished with value: 0.8417302798982188 and parameters: {'n_estimators': 668, 'num_leaves': 395, 'max_depth': 28, 'learning_rate': 0.09833263949726143, 'min_child_samples': 12}. Best is trial 13 with value: 0.8475609756097561.\n",
      "[I 2024-02-24 14:31:26,041] Trial 63 finished with value: 0.7923112986404125 and parameters: {'n_estimators': 695, 'num_leaves': 370, 'max_depth': 29, 'learning_rate': 0.006062643127683093, 'min_child_samples': 14}. Best is trial 13 with value: 0.8475609756097561.\n",
      "[I 2024-02-24 14:32:33,846] Trial 64 finished with value: 0.8389398572884811 and parameters: {'n_estimators': 658, 'num_leaves': 418, 'max_depth': 28, 'learning_rate': 0.0894969622760939, 'min_child_samples': 12}. Best is trial 13 with value: 0.8475609756097561.\n",
      "[I 2024-02-24 14:33:49,157] Trial 65 finished with value: 0.8380566801619432 and parameters: {'n_estimators': 708, 'num_leaves': 379, 'max_depth': 26, 'learning_rate': 0.053889146041003616, 'min_child_samples': 9}. Best is trial 13 with value: 0.8475609756097561.\n",
      "[I 2024-02-24 14:34:39,620] Trial 66 finished with value: 0.8373983739837398 and parameters: {'n_estimators': 617, 'num_leaves': 262, 'max_depth': 26, 'learning_rate': 0.09994227293946333, 'min_child_samples': 16}. Best is trial 13 with value: 0.8475609756097561.\n",
      "[I 2024-02-24 14:36:03,622] Trial 67 finished with value: 0.8404471544715447 and parameters: {'n_estimators': 742, 'num_leaves': 436, 'max_depth': 28, 'learning_rate': 0.09349536402344254, 'min_child_samples': 10}. Best is trial 13 with value: 0.8475609756097561.\n",
      "[I 2024-02-24 14:37:36,085] Trial 68 finished with value: 0.8349415947181311 and parameters: {'n_estimators': 667, 'num_leaves': 506, 'max_depth': 27, 'learning_rate': 0.06274503945525939, 'min_child_samples': 12}. Best is trial 13 with value: 0.8475609756097561.\n",
      "[I 2024-02-24 14:38:55,231] Trial 69 finished with value: 0.8356997971602435 and parameters: {'n_estimators': 755, 'num_leaves': 337, 'max_depth': 25, 'learning_rate': 0.048173505151920544, 'min_child_samples': 11}. Best is trial 13 with value: 0.8475609756097561.\n",
      "[I 2024-02-24 14:39:56,020] Trial 70 finished with value: 0.8426395939086295 and parameters: {'n_estimators': 640, 'num_leaves': 304, 'max_depth': 19, 'learning_rate': 0.08513543422433711, 'min_child_samples': 11}. Best is trial 13 with value: 0.8475609756097561.\n",
      "[I 2024-02-24 14:41:06,736] Trial 71 finished with value: 0.8340897629853756 and parameters: {'n_estimators': 638, 'num_leaves': 306, 'max_depth': 18, 'learning_rate': 0.07734558321654583, 'min_child_samples': 11}. Best is trial 13 with value: 0.8475609756097561.\n",
      "[I 2024-02-24 14:42:08,613] Trial 72 finished with value: 0.8409785932721713 and parameters: {'n_estimators': 689, 'num_leaves': 228, 'max_depth': 20, 'learning_rate': 0.08525793974366738, 'min_child_samples': 13}. Best is trial 13 with value: 0.8475609756097561.\n",
      "[I 2024-02-24 14:43:18,436] Trial 73 finished with value: 0.8383477817440081 and parameters: {'n_estimators': 601, 'num_leaves': 347, 'max_depth': 22, 'learning_rate': 0.09702244453854204, 'min_child_samples': 15}. Best is trial 13 with value: 0.8475609756097561.\n",
      "[I 2024-02-24 14:44:12,277] Trial 74 finished with value: 0.772829509671615 and parameters: {'n_estimators': 650, 'num_leaves': 288, 'max_depth': 19, 'learning_rate': 0.0021987736275548703, 'min_child_samples': 8}. Best is trial 13 with value: 0.8475609756097561.\n",
      "[I 2024-02-24 14:45:30,514] Trial 75 finished with value: 0.8421588594704683 and parameters: {'n_estimators': 712, 'num_leaves': 395, 'max_depth': 24, 'learning_rate': 0.09380576345426218, 'min_child_samples': 10}. Best is trial 13 with value: 0.8475609756097561.\n",
      "[I 2024-02-24 14:46:41,301] Trial 76 finished with value: 0.8390045708481463 and parameters: {'n_estimators': 717, 'num_leaves': 394, 'max_depth': 23, 'learning_rate': 0.09365328965228079, 'min_child_samples': 11}. Best is trial 13 with value: 0.8475609756097561.\n",
      "[I 2024-02-24 14:48:21,508] Trial 77 finished with value: 0.8395939086294416 and parameters: {'n_estimators': 784, 'num_leaves': 362, 'max_depth': 21, 'learning_rate': 0.0919998355442494, 'min_child_samples': 10}. Best is trial 13 with value: 0.8475609756097561.\n",
      "[I 2024-02-24 14:48:55,695] Trial 78 finished with value: 0.8359414437152954 and parameters: {'n_estimators': 360, 'num_leaves': 317, 'max_depth': 24, 'learning_rate': 0.09006224037614, 'min_child_samples': 12}. Best is trial 13 with value: 0.8475609756097561.\n",
      "[I 2024-02-24 14:51:43,904] Trial 79 finished with value: 0.8354559347936831 and parameters: {'n_estimators': 733, 'num_leaves': 714, 'max_depth': 18, 'learning_rate': 0.08320638885211487, 'min_child_samples': 14}. Best is trial 13 with value: 0.8475609756097561.\n",
      "[I 2024-02-24 14:53:31,466] Trial 80 finished with value: 0.8395939086294416 and parameters: {'n_estimators': 708, 'num_leaves': 254, 'max_depth': 22, 'learning_rate': 0.0869347885934218, 'min_child_samples': 13}. Best is trial 13 with value: 0.8475609756097561.\n",
      "[I 2024-02-24 14:55:58,829] Trial 81 finished with value: 0.8404907975460123 and parameters: {'n_estimators': 668, 'num_leaves': 401, 'max_depth': 26, 'learning_rate': 0.09774985345773601, 'min_child_samples': 10}. Best is trial 13 with value: 0.8475609756097561.\n",
      "[I 2024-02-24 14:57:57,894] Trial 82 finished with value: 0.8363821138211383 and parameters: {'n_estimators': 626, 'num_leaves': 382, 'max_depth': 25, 'learning_rate': 0.09603089731965851, 'min_child_samples': 9}. Best is trial 13 with value: 0.8475609756097561.\n",
      "[I 2024-02-24 15:00:07,233] Trial 83 finished with value: 0.8334177215189874 and parameters: {'n_estimators': 608, 'num_leaves': 460, 'max_depth': 24, 'learning_rate': 0.079847094042691, 'min_child_samples': 12}. Best is trial 13 with value: 0.8475609756097561.\n",
      "[I 2024-02-24 15:02:31,917] Trial 84 finished with value: 0.8394308943089431 and parameters: {'n_estimators': 686, 'num_leaves': 423, 'max_depth': 15, 'learning_rate': 0.09331763674132346, 'min_child_samples': 9}. Best is trial 13 with value: 0.8475609756097561.\n",
      "[I 2024-02-24 15:04:54,443] Trial 85 finished with value: 0.8403446528129751 and parameters: {'n_estimators': 549, 'num_leaves': 355, 'max_depth': 28, 'learning_rate': 0.0886966894965251, 'min_child_samples': 7}. Best is trial 13 with value: 0.8475609756097561.\n",
      "[I 2024-02-24 15:07:51,627] Trial 86 finished with value: 0.8400203148806501 and parameters: {'n_estimators': 587, 'num_leaves': 294, 'max_depth': 27, 'learning_rate': 0.09935168060045174, 'min_child_samples': 11}. Best is trial 13 with value: 0.8475609756097561.\n",
      "[I 2024-02-24 15:11:50,828] Trial 87 finished with value: 0.831733198585144 and parameters: {'n_estimators': 647, 'num_leaves': 553, 'max_depth': 21, 'learning_rate': 0.0700846994532761, 'min_child_samples': 18}. Best is trial 13 with value: 0.8475609756097561.\n",
      "[I 2024-02-24 15:17:03,283] Trial 88 finished with value: 0.834349593495935 and parameters: {'n_estimators': 673, 'num_leaves': 770, 'max_depth': 23, 'learning_rate': 0.09504463690692697, 'min_child_samples': 20}. Best is trial 13 with value: 0.8475609756097561.\n",
      "[I 2024-02-24 15:19:29,587] Trial 89 finished with value: 0.8359573387506349 and parameters: {'n_estimators': 476, 'num_leaves': 479, 'max_depth': 30, 'learning_rate': 0.09142128190954063, 'min_child_samples': 10}. Best is trial 13 with value: 0.8475609756097561.\n",
      "[I 2024-02-24 15:21:01,586] Trial 90 finished with value: 0.8358817533129459 and parameters: {'n_estimators': 575, 'num_leaves': 440, 'max_depth': 22, 'learning_rate': 0.09817992699302049, 'min_child_samples': 13}. Best is trial 13 with value: 0.8475609756097561.\n",
      "[I 2024-02-24 15:23:47,862] Trial 91 finished with value: 0.8410360589131539 and parameters: {'n_estimators': 755, 'num_leaves': 418, 'max_depth': 25, 'learning_rate': 0.09450070623920298, 'min_child_samples': 12}. Best is trial 13 with value: 0.8475609756097561.\n",
      "[I 2024-02-24 15:25:26,374] Trial 92 finished with value: 0.8389398572884811 and parameters: {'n_estimators': 752, 'num_leaves': 421, 'max_depth': 27, 'learning_rate': 0.09384471691942117, 'min_child_samples': 11}. Best is trial 13 with value: 0.8475609756097561.\n",
      "[I 2024-02-24 15:27:43,849] Trial 93 finished with value: 0.8394308943089431 and parameters: {'n_estimators': 782, 'num_leaves': 410, 'max_depth': 25, 'learning_rate': 0.09750044857117585, 'min_child_samples': 12}. Best is trial 13 with value: 0.8475609756097561.\n",
      "[I 2024-02-24 15:30:18,205] Trial 94 finished with value: 0.837232960325534 and parameters: {'n_estimators': 724, 'num_leaves': 377, 'max_depth': 24, 'learning_rate': 0.08758502098768417, 'min_child_samples': 12}. Best is trial 13 with value: 0.8475609756097561.\n",
      "[I 2024-02-24 15:32:16,614] Trial 95 finished with value: 0.8355329949238578 and parameters: {'n_estimators': 800, 'num_leaves': 389, 'max_depth': 29, 'learning_rate': 0.09052572775096948, 'min_child_samples': 11}. Best is trial 13 with value: 0.8475609756097561.\n",
      "[I 2024-02-24 15:33:41,307] Trial 96 finished with value: 0.8453292496171516 and parameters: {'n_estimators': 764, 'num_leaves': 204, 'max_depth': 23, 'learning_rate': 0.09998510883209204, 'min_child_samples': 14}. Best is trial 13 with value: 0.8475609756097561.\n",
      "[I 2024-02-24 15:35:50,478] Trial 97 finished with value: 0.8386768447837151 and parameters: {'n_estimators': 764, 'num_leaves': 236, 'max_depth': 23, 'learning_rate': 0.09987099077606745, 'min_child_samples': 15}. Best is trial 13 with value: 0.8475609756097561.\n",
      "[I 2024-02-24 15:38:01,950] Trial 98 finished with value: 0.8392036753445636 and parameters: {'n_estimators': 744, 'num_leaves': 277, 'max_depth': 20, 'learning_rate': 0.09497089396278525, 'min_child_samples': 13}. Best is trial 13 with value: 0.8475609756097561.\n",
      "[I 2024-02-24 15:39:16,581] Trial 99 finished with value: 0.8246398410332837 and parameters: {'n_estimators': 711, 'num_leaves': 206, 'max_depth': 25, 'learning_rate': 0.029680832133418943, 'min_child_samples': 14}. Best is trial 13 with value: 0.8475609756097561.\n",
      "[I 2024-02-24 15:40:14,665] Trial 100 finished with value: 0.8432267884322678 and parameters: {'n_estimators': 698, 'num_leaves': 229, 'max_depth': 26, 'learning_rate': 0.08546436712632563, 'min_child_samples': 16}. Best is trial 13 with value: 0.8475609756097561.\n",
      "[I 2024-02-24 15:41:33,534] Trial 101 finished with value: 0.8391679350583461 and parameters: {'n_estimators': 701, 'num_leaves': 240, 'max_depth': 26, 'learning_rate': 0.09642595873482288, 'min_child_samples': 16}. Best is trial 13 with value: 0.8475609756097561.\n",
      "[I 2024-02-24 15:43:00,629] Trial 102 finished with value: 0.8356095093576125 and parameters: {'n_estimators': 733, 'num_leaves': 212, 'max_depth': 24, 'learning_rate': 0.08618208679625064, 'min_child_samples': 17}. Best is trial 13 with value: 0.8475609756097561.\n",
      "[I 2024-02-24 15:44:29,686] Trial 103 finished with value: 0.836807320793086 and parameters: {'n_estimators': 753, 'num_leaves': 228, 'max_depth': 22, 'learning_rate': 0.07474553556046519, 'min_child_samples': 15}. Best is trial 13 with value: 0.8475609756097561.\n",
      "[I 2024-02-24 15:45:45,432] Trial 104 finished with value: 0.8425832492431887 and parameters: {'n_estimators': 773, 'num_leaves': 223, 'max_depth': 26, 'learning_rate': 0.06444978714840927, 'min_child_samples': 16}. Best is trial 13 with value: 0.8475609756097561.\n",
      "[I 2024-02-24 15:47:00,361] Trial 105 finished with value: 0.8357756442647801 and parameters: {'n_estimators': 692, 'num_leaves': 265, 'max_depth': 26, 'learning_rate': 0.06339654151211084, 'min_child_samples': 16}. Best is trial 13 with value: 0.8475609756097561.\n",
      "[I 2024-02-24 15:47:19,394] Trial 106 finished with value: 0.7516722408026756 and parameters: {'n_estimators': 722, 'num_leaves': 246, 'max_depth': 3, 'learning_rate': 0.06939807834016413, 'min_child_samples': 17}. Best is trial 13 with value: 0.8475609756097561.\n",
      "[I 2024-02-24 15:48:26,845] Trial 107 finished with value: 0.8441295546558705 and parameters: {'n_estimators': 778, 'num_leaves': 219, 'max_depth': 23, 'learning_rate': 0.06666131256278093, 'min_child_samples': 18}. Best is trial 13 with value: 0.8475609756097561.\n",
      "[I 2024-02-24 15:49:31,745] Trial 108 finished with value: 0.8361237950279047 and parameters: {'n_estimators': 775, 'num_leaves': 217, 'max_depth': 23, 'learning_rate': 0.06655559399459371, 'min_child_samples': 18}. Best is trial 13 with value: 0.8475609756097561.\n",
      "[I 2024-02-24 15:50:32,225] Trial 109 finished with value: 0.819704433497537 and parameters: {'n_estimators': 786, 'num_leaves': 219, 'max_depth': 8, 'learning_rate': 0.0770090289539899, 'min_child_samples': 19}. Best is trial 13 with value: 0.8475609756097561.\n",
      "[I 2024-02-24 15:51:45,921] Trial 110 finished with value: 0.8395560040363269 and parameters: {'n_estimators': 770, 'num_leaves': 247, 'max_depth': 29, 'learning_rate': 0.0596333017162429, 'min_child_samples': 14}. Best is trial 13 with value: 0.8475609756097561.\n",
      "[I 2024-02-24 15:52:42,257] Trial 111 finished with value: 0.8373493975903614 and parameters: {'n_estimators': 678, 'num_leaves': 204, 'max_depth': 24, 'learning_rate': 0.06027654808526967, 'min_child_samples': 18}. Best is trial 13 with value: 0.8475609756097561.\n",
      "[I 2024-02-24 15:53:39,340] Trial 112 finished with value: 0.836858006042296 and parameters: {'n_estimators': 661, 'num_leaves': 225, 'max_depth': 21, 'learning_rate': 0.07145170403504499, 'min_child_samples': 15}. Best is trial 13 with value: 0.8475609756097561.\n",
      "[I 2024-02-24 15:54:51,106] Trial 113 finished with value: 0.8364556962025316 and parameters: {'n_estimators': 791, 'num_leaves': 270, 'max_depth': 23, 'learning_rate': 0.057701024364683266, 'min_child_samples': 19}. Best is trial 13 with value: 0.8475609756097561.\n",
      "[I 2024-02-24 15:56:19,301] Trial 114 finished with value: 0.8401221995926681 and parameters: {'n_estimators': 761, 'num_leaves': 336, 'max_depth': 17, 'learning_rate': 0.0819374667376663, 'min_child_samples': 16}. Best is trial 13 with value: 0.8475609756097561.\n",
      "[I 2024-02-24 15:57:21,593] Trial 115 finished with value: 0.8377281947261664 and parameters: {'n_estimators': 741, 'num_leaves': 200, 'max_depth': 28, 'learning_rate': 0.06729345083112745, 'min_child_samples': 16}. Best is trial 13 with value: 0.8475609756097561.\n",
      "[I 2024-02-24 15:58:17,146] Trial 116 finished with value: 0.8354302969300453 and parameters: {'n_estimators': 629, 'num_leaves': 232, 'max_depth': 26, 'learning_rate': 0.06518020451675698, 'min_child_samples': 17}. Best is trial 13 with value: 0.8475609756097561.\n",
      "[I 2024-02-24 15:59:29,018] Trial 117 finished with value: 0.8370221327967807 and parameters: {'n_estimators': 652, 'num_leaves': 253, 'max_depth': 27, 'learning_rate': 0.05302701616307392, 'min_child_samples': 14}. Best is trial 13 with value: 0.8475609756097561.\n",
      "[I 2024-02-24 16:00:58,912] Trial 118 finished with value: 0.8361981799797775 and parameters: {'n_estimators': 705, 'num_leaves': 317, 'max_depth': 25, 'learning_rate': 0.05004130518025654, 'min_child_samples': 13}. Best is trial 13 with value: 0.8475609756097561.\n",
      "[I 2024-02-24 16:02:32,613] Trial 119 finished with value: 0.8395313295975547 and parameters: {'n_estimators': 720, 'num_leaves': 298, 'max_depth': 19, 'learning_rate': 0.09825103590552535, 'min_child_samples': 15}. Best is trial 13 with value: 0.8475609756097561.\n",
      "[I 2024-02-24 16:03:51,396] Trial 120 finished with value: 0.8389702170620897 and parameters: {'n_estimators': 690, 'num_leaves': 217, 'max_depth': 22, 'learning_rate': 0.0732198860082652, 'min_child_samples': 12}. Best is trial 13 with value: 0.8475609756097561.\n",
      "[I 2024-02-24 16:06:01,018] Trial 121 finished with value: 0.8383477817440081 and parameters: {'n_estimators': 751, 'num_leaves': 362, 'max_depth': 25, 'learning_rate': 0.09256311905794756, 'min_child_samples': 12}. Best is trial 13 with value: 0.8475609756097561.\n",
      "[I 2024-02-24 16:09:06,668] Trial 122 finished with value: 0.8394308943089431 and parameters: {'n_estimators': 780, 'num_leaves': 397, 'max_depth': 24, 'learning_rate': 0.09543062974771252, 'min_child_samples': 11}. Best is trial 13 with value: 0.8475609756097561.\n",
      "[I 2024-02-24 16:11:38,275] Trial 123 finished with value: 0.8396560445118867 and parameters: {'n_estimators': 766, 'num_leaves': 240, 'max_depth': 25, 'learning_rate': 0.06466712597583864, 'min_child_samples': 10}. Best is trial 13 with value: 0.8475609756097561.\n",
      "[I 2024-02-24 16:14:48,655] Trial 124 finished with value: 0.8368794326241136 and parameters: {'n_estimators': 731, 'num_leaves': 411, 'max_depth': 24, 'learning_rate': 0.06162384520511287, 'min_child_samples': 12}. Best is trial 13 with value: 0.8475609756097561.\n",
      "[I 2024-02-24 16:19:05,145] Trial 125 finished with value: 0.8392315470171892 and parameters: {'n_estimators': 744, 'num_leaves': 372, 'max_depth': 26, 'learning_rate': 0.05554157195001747, 'min_child_samples': 19}. Best is trial 13 with value: 0.8475609756097561.\n",
      "[I 2024-02-24 16:22:47,550] Trial 126 finished with value: 0.8376590330788805 and parameters: {'n_estimators': 639, 'num_leaves': 433, 'max_depth': 27, 'learning_rate': 0.0980814826399467, 'min_child_samples': 11}. Best is trial 13 with value: 0.8475609756097561.\n",
      "[I 2024-02-24 16:25:59,531] Trial 127 finished with value: 0.839267548321465 and parameters: {'n_estimators': 613, 'num_leaves': 350, 'max_depth': 23, 'learning_rate': 0.09401759301094056, 'min_child_samples': 13}. Best is trial 13 with value: 0.8475609756097561.\n",
      "[I 2024-02-24 16:30:27,778] Trial 128 finished with value: 0.8366412213740458 and parameters: {'n_estimators': 761, 'num_leaves': 387, 'max_depth': 28, 'learning_rate': 0.08978316793559937, 'min_child_samples': 10}. Best is trial 13 with value: 0.8475609756097561.\n",
      "[I 2024-02-24 16:34:59,982] Trial 129 finished with value: 0.8337518834756404 and parameters: {'n_estimators': 670, 'num_leaves': 673, 'max_depth': 24, 'learning_rate': 0.04269757201614163, 'min_child_samples': 17}. Best is trial 13 with value: 0.8475609756097561.\n",
      "[I 2024-02-24 16:38:06,350] Trial 130 finished with value: 0.8398576512455516 and parameters: {'n_estimators': 797, 'num_leaves': 648, 'max_depth': 26, 'learning_rate': 0.0924695739515546, 'min_child_samples': 11}. Best is trial 13 with value: 0.8475609756097561.\n",
      "[I 2024-02-24 16:40:01,914] Trial 131 finished with value: 0.8386108273748724 and parameters: {'n_estimators': 630, 'num_leaves': 459, 'max_depth': 27, 'learning_rate': 0.099823208024682, 'min_child_samples': 9}. Best is trial 13 with value: 0.8475609756097561.\n",
      "[I 2024-02-24 16:42:10,063] Trial 132 finished with value: 0.8398576512455516 and parameters: {'n_estimators': 655, 'num_leaves': 450, 'max_depth': 22, 'learning_rate': 0.09599417777500022, 'min_child_samples': 18}. Best is trial 13 with value: 0.8475609756097561.\n",
      "[I 2024-02-24 16:42:38,665] Trial 133 finished with value: 0.8382573860791187 and parameters: {'n_estimators': 261, 'num_leaves': 405, 'max_depth': 26, 'learning_rate': 0.09139656946433869, 'min_child_samples': 10}. Best is trial 13 with value: 0.8475609756097561.\n",
      "[I 2024-02-24 16:43:59,567] Trial 134 finished with value: 0.8394308943089431 and parameters: {'n_estimators': 601, 'num_leaves': 201, 'max_depth': 25, 'learning_rate': 0.09769567350689644, 'min_child_samples': 20}. Best is trial 13 with value: 0.8475609756097561.\n",
      "[I 2024-02-24 16:46:11,079] Trial 135 finished with value: 0.8374936321956189 and parameters: {'n_estimators': 678, 'num_leaves': 508, 'max_depth': 23, 'learning_rate': 0.09521409759530736, 'min_child_samples': 9}. Best is trial 13 with value: 0.8475609756097561.\n",
      "[I 2024-02-24 16:47:57,564] Trial 136 finished with value: 0.8417302798982188 and parameters: {'n_estimators': 618, 'num_leaves': 422, 'max_depth': 27, 'learning_rate': 0.08886438149105669, 'min_child_samples': 12}. Best is trial 13 with value: 0.8475609756097561.\n",
      "[I 2024-02-24 16:50:03,826] Trial 137 finished with value: 0.8436067244014264 and parameters: {'n_estimators': 713, 'num_leaves': 426, 'max_depth': 27, 'learning_rate': 0.08439861957542069, 'min_child_samples': 12}. Best is trial 13 with value: 0.8475609756097561.\n",
      "[I 2024-02-24 16:51:12,401] Trial 138 finished with value: 0.8292191435768262 and parameters: {'n_estimators': 426, 'num_leaves': 591, 'max_depth': 28, 'learning_rate': 0.08517934060489876, 'min_child_samples': 13}. Best is trial 13 with value: 0.8475609756097561.\n",
      "[I 2024-02-24 16:55:01,066] Trial 139 finished with value: 0.828774062816616 and parameters: {'n_estimators': 699, 'num_leaves': 533, 'max_depth': 27, 'learning_rate': 0.08314409355564384, 'min_child_samples': 12}. Best is trial 13 with value: 0.8475609756097561.\n",
      "[I 2024-02-24 16:58:07,038] Trial 140 finished with value: 0.8381532217148655 and parameters: {'n_estimators': 711, 'num_leaves': 226, 'max_depth': 29, 'learning_rate': 0.0797395382302655, 'min_child_samples': 11}. Best is trial 13 with value: 0.8475609756097561.\n",
      "[I 2024-02-24 17:02:19,594] Trial 141 finished with value: 0.8403446528129751 and parameters: {'n_estimators': 735, 'num_leaves': 427, 'max_depth': 25, 'learning_rate': 0.08817043775285398, 'min_child_samples': 12}. Best is trial 13 with value: 0.8475609756097561.\n",
      "[I 2024-02-24 17:05:28,587] Trial 142 finished with value: 0.8319838056680161 and parameters: {'n_estimators': 619, 'num_leaves': 396, 'max_depth': 26, 'learning_rate': 0.06825624679101427, 'min_child_samples': 12}. Best is trial 13 with value: 0.8475609756097561.\n",
      "[I 2024-02-24 17:08:55,341] Trial 143 finished with value: 0.8381532217148655 and parameters: {'n_estimators': 642, 'num_leaves': 414, 'max_depth': 28, 'learning_rate': 0.08895857276112537, 'min_child_samples': 13}. Best is trial 13 with value: 0.8475609756097561.\n",
      "[I 2024-02-24 17:13:10,510] Trial 144 finished with value: 0.8391038696537678 and parameters: {'n_estimators': 723, 'num_leaves': 442, 'max_depth': 24, 'learning_rate': 0.0853639986069275, 'min_child_samples': 12}. Best is trial 13 with value: 0.8475609756097561.\n",
      "[I 2024-02-24 17:16:53,816] Trial 145 finished with value: 0.8388408744280632 and parameters: {'n_estimators': 664, 'num_leaves': 387, 'max_depth': 26, 'learning_rate': 0.09081118296841999, 'min_child_samples': 11}. Best is trial 13 with value: 0.8475609756097561.\n"
     ]
    },
    {
     "ename": "",
     "evalue": "",
     "output_type": "error",
     "traceback": [
      "\u001b[1;31m현재 셀 또는 이전 셀에서 코드를 실행하는 동안 Kernel이 충돌했습니다. \n",
      "\u001b[1;31m셀의 코드를 검토하여 가능한 오류 원인을 식별하세요. \n",
      "\u001b[1;31m자세한 내용을 보려면 <a href='https://aka.ms/vscodeJupyterKernelCrash'>여기</a>를 클릭하세요. \n",
      "\u001b[1;31m자세한 내용은 Jupyter <a href='command:jupyter.viewOutput'>로그</a>를 참조하세요."
     ]
    }
   ],
   "source": [
    "import optuna\n",
    "from lightgbm import LGBMClassifier\n",
    "from sklearn.model_selection import train_test_split\n",
    "from sklearn.metrics import f1_score\n",
    "\n",
    "def objectiveLGBM_dart(trial, x_tr, y_tr, x_val, y_val):\n",
    "    param = {\n",
    "        'n_estimators': trial.suggest_int('n_estimators', 200, 800)\n",
    "        , 'num_leaves': trial.suggest_int('num_leaves', 200, 800)\n",
    "        , 'max_depth': trial.suggest_int('max_depth', 3, 30)\n",
    "        , 'learning_rate': trial.suggest_float('learning_rate', 0.001, 0.1)\n",
    "        , 'min_child_samples': trial.suggest_int('min_child_samples', 2, 20)\n",
    "  \n",
    "        , 'boosting' : 'dart' # dart 사용\n",
    "        , 'random_state': 0\n",
    "        , 'verbose' : -1\n",
    "    }\n",
    "    \n",
    "    model = LGBMClassifier(**param)\n",
    "    model.fit(x_tr, y_tr)\n",
    "    pred = model.predict(x_val)\n",
    "    score = f1_score(y_val, pred, average=\"binary\")\n",
    "    \n",
    "    return score\n",
    "\n",
    "# 하이퍼 파라미터 튜닝\n",
    "study = optuna.create_study(direction='maximize', sampler=optuna.samplers.TPESampler(seed=0))\n",
    "study.optimize(lambda trial: objectiveLGBM_dart(trial, x_train, y_train, x_val, y_val), n_trials=500)\n",
    "\n",
    "print('Best trial: score {}, \\nparams {}'.format(study.best_trial.value, study.best_trial.params))"
   ]
  },
  {
   "cell_type": "code",
   "execution_count": 59,
   "metadata": {},
   "outputs": [
    {
     "name": "stdout",
     "output_type": "stream",
     "text": [
      "\n",
      "오차행렬:\n"
     ]
    },
    {
     "data": {
      "text/html": [
       "<div>\n",
       "<style scoped>\n",
       "    .dataframe tbody tr th:only-of-type {\n",
       "        vertical-align: middle;\n",
       "    }\n",
       "\n",
       "    .dataframe tbody tr th {\n",
       "        vertical-align: top;\n",
       "    }\n",
       "\n",
       "    .dataframe thead th {\n",
       "        text-align: right;\n",
       "    }\n",
       "</style>\n",
       "<table border=\"1\" class=\"dataframe\">\n",
       "  <thead>\n",
       "    <tr style=\"text-align: right;\">\n",
       "      <th></th>\n",
       "      <th>True</th>\n",
       "      <th>False</th>\n",
       "    </tr>\n",
       "  </thead>\n",
       "  <tbody>\n",
       "    <tr>\n",
       "      <th>True</th>\n",
       "      <td>830</td>\n",
       "      <td>164</td>\n",
       "    </tr>\n",
       "    <tr>\n",
       "      <th>False</th>\n",
       "      <td>154</td>\n",
       "      <td>10712</td>\n",
       "    </tr>\n",
       "  </tbody>\n",
       "</table>\n",
       "</div>"
      ],
      "text/plain": [
       "       True  False\n",
       "True    830    164\n",
       "False   154  10712"
      ]
     },
     "metadata": {},
     "output_type": "display_data"
    },
    {
     "name": "stdout",
     "output_type": "stream",
     "text": [
      "평가 지표:\n"
     ]
    },
    {
     "data": {
      "text/html": [
       "<div>\n",
       "<style scoped>\n",
       "    .dataframe tbody tr th:only-of-type {\n",
       "        vertical-align: middle;\n",
       "    }\n",
       "\n",
       "    .dataframe tbody tr th {\n",
       "        vertical-align: top;\n",
       "    }\n",
       "\n",
       "    .dataframe thead th {\n",
       "        text-align: right;\n",
       "    }\n",
       "</style>\n",
       "<table border=\"1\" class=\"dataframe\">\n",
       "  <thead>\n",
       "    <tr style=\"text-align: right;\">\n",
       "      <th></th>\n",
       "      <th>정확도</th>\n",
       "      <th>정밀도</th>\n",
       "      <th>재현율</th>\n",
       "      <th>F1 Score</th>\n",
       "      <th>Weighted F1</th>\n",
       "    </tr>\n",
       "  </thead>\n",
       "  <tbody>\n",
       "    <tr>\n",
       "      <th>0</th>\n",
       "      <td>0.973187</td>\n",
       "      <td>0.843496</td>\n",
       "      <td>0.83501</td>\n",
       "      <td>0.839232</td>\n",
       "      <td>0.973126</td>\n",
       "    </tr>\n",
       "  </tbody>\n",
       "</table>\n",
       "</div>"
      ],
      "text/plain": [
       "        정확도       정밀도      재현율  F1 Score  Weighted F1\n",
       "0  0.973187  0.843496  0.83501  0.839232     0.973126"
      ]
     },
     "metadata": {},
     "output_type": "display_data"
    },
    {
     "data": {
      "text/plain": [
       "799.0"
      ]
     },
     "execution_count": 59,
     "metadata": {},
     "output_type": "execute_result"
    }
   ],
   "source": [
    "# LightGBM_dart\n",
    "lgbm_dart_model = LGBMClassifier(\n",
    "    n_estimators=716\n",
    "    , num_leaves=677\n",
    "    , max_depth=24\n",
    "    , learning_rate=0.09716914697888186\n",
    "    , min_child_samples=12\n",
    "    , verbose=-1\n",
    "    , boosting='dart'  # dart 사용\n",
    "    , random_state=0\n",
    ")\n",
    "\n",
    "lgbm_dart_model.fit(x_train, y_train)\n",
    "\n",
    "pred = lgbm_dart_model.predict(x_val)\n",
    "get_clf_eval(y_val, pred)\n",
    "\n",
    "# 예측에 필요한 데이터 분리\n",
    "x_test = df_test_encoded.drop([\"is_converted\", \"id\"], axis=1)\n",
    "\n",
    "test_pred = lgbm_dart_model.predict(x_test)\n",
    "sum(test_pred) # True로 예측된 개수"
   ]
  },
  {
   "cell_type": "markdown",
   "metadata": {},
   "source": [
    "."
   ]
  }
 ],
 "metadata": {
  "kernelspec": {
   "display_name": "Python 3",
   "language": "python",
   "name": "python3"
  },
  "language_info": {
   "codemirror_mode": {
    "name": "ipython",
    "version": 3
   },
   "file_extension": ".py",
   "mimetype": "text/x-python",
   "name": "python",
   "nbconvert_exporter": "python",
   "pygments_lexer": "ipython3",
   "version": "3.10.4"
  }
 },
 "nbformat": 4,
 "nbformat_minor": 2
}
