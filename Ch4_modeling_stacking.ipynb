{
  "cells": [
    {
      "cell_type": "markdown",
      "id": "acdab431",
      "metadata": {
        "id": "acdab431"
      },
      "source": [
        "## 1. 데이터 확인"
      ]
    },
    {
      "cell_type": "markdown",
      "id": "2b8341e8",
      "metadata": {
        "id": "2b8341e8"
      },
      "source": [
        "### 필수 라이브러리"
      ]
    },
    {
      "cell_type": "code",
      "execution_count": 1,
      "id": "a315cc58",
      "metadata": {
        "id": "a315cc58"
      },
      "outputs": [],
      "source": [
        "import pandas as pd\n",
        "import numpy as np\n",
        "\n",
        "import matplotlib.pyplot as plt\n",
        "import seaborn as sns\n",
        "\n",
        "import warnings\n",
        "warnings.filterwarnings('ignore') # 경고 메세지 무시"
      ]
    },
    {
      "cell_type": "code",
      "execution_count": 2,
      "id": "38ccd6b1",
      "metadata": {},
      "outputs": [],
      "source": [
        "df_train_origin = pd.read_csv(\"./data/train.csv\") # 학습용 데이터\n",
        "df_test_origin = pd.read_csv(\"./data/submission.csv\") # 테스트 데이터(제출파일의 데이터)"
      ]
    },
    {
      "cell_type": "code",
      "execution_count": 3,
      "id": "0b323c11",
      "metadata": {},
      "outputs": [
        {
          "name": "stdout",
          "output_type": "stream",
          "text": [
            "<class 'pandas.core.frame.DataFrame'>\n",
            "RangeIndex: 59299 entries, 0 to 59298\n",
            "Data columns (total 29 columns):\n",
            " #   Column                   Non-Null Count  Dtype  \n",
            "---  ------                   --------------  -----  \n",
            " 0   bant_submit              59299 non-null  float64\n",
            " 1   customer_country         58317 non-null  object \n",
            " 2   business_unit            59299 non-null  object \n",
            " 3   com_reg_ver_win_rate     14568 non-null  float64\n",
            " 4   customer_idx             59299 non-null  int64  \n",
            " 5   customer_type            15338 non-null  object \n",
            " 6   enterprise               59299 non-null  object \n",
            " 7   historical_existing_cnt  13756 non-null  float64\n",
            " 8   id_strategic_ver         3444 non-null   float64\n",
            " 9   it_strategic_ver         1121 non-null   float64\n",
            " 10  idit_strategic_ver       4565 non-null   float64\n",
            " 11  customer_job             40566 non-null  object \n",
            " 12  lead_desc_length         59299 non-null  int64  \n",
            " 13  inquiry_type             58358 non-null  object \n",
            " 14  product_category         39925 non-null  object \n",
            " 15  product_subcategory      9235 non-null   object \n",
            " 16  product_modelname        9229 non-null   object \n",
            " 17  customer_country.1       58317 non-null  object \n",
            " 18  customer_position        59299 non-null  object \n",
            " 19  response_corporate       59299 non-null  object \n",
            " 20  expected_timeline        28436 non-null  object \n",
            " 21  ver_cus                  59299 non-null  int64  \n",
            " 22  ver_pro                  59299 non-null  int64  \n",
            " 23  ver_win_rate_x           18417 non-null  float64\n",
            " 24  ver_win_ratio_per_bu     15304 non-null  float64\n",
            " 25  business_area            18417 non-null  object \n",
            " 26  business_subarea         5526 non-null   object \n",
            " 27  lead_owner               59299 non-null  int64  \n",
            " 28  is_converted             59299 non-null  bool   \n",
            "dtypes: bool(1), float64(8), int64(5), object(15)\n",
            "memory usage: 12.7+ MB\n"
          ]
        }
      ],
      "source": [
        "df_train_origin.info()"
      ]
    },
    {
      "cell_type": "markdown",
      "id": "af526c13",
      "metadata": {
        "id": "af526c13"
      },
      "source": [
        "## 2. 데이터 전처리"
      ]
    },
    {
      "cell_type": "markdown",
      "id": "2cc30f10",
      "metadata": {
        "id": "2cc30f10"
      },
      "source": [
        "### 각 변수별 확인"
      ]
    },
    {
      "cell_type": "code",
      "execution_count": 4,
      "id": "596c0909",
      "metadata": {},
      "outputs": [],
      "source": [
        "df_train_process = pd.read_csv('./data/Ch2/df_train.csv')\n",
        "df_test_process = pd.read_csv('./data/Ch2/df_test.csv')"
      ]
    },
    {
      "cell_type": "code",
      "execution_count": 5,
      "id": "e0437e17",
      "metadata": {},
      "outputs": [
        {
          "name": "stdout",
          "output_type": "stream",
          "text": [
            "<class 'pandas.core.frame.DataFrame'>\n",
            "RangeIndex: 59299 entries, 0 to 59298\n",
            "Data columns (total 36 columns):\n",
            " #   Column                   Non-Null Count  Dtype  \n",
            "---  ------                   --------------  -----  \n",
            " 0   bant_submit              59299 non-null  float64\n",
            " 1   customer_country         59299 non-null  object \n",
            " 2   business_unit            59299 non-null  object \n",
            " 3   com_reg_ver_win_rate     14568 non-null  float64\n",
            " 4   customer_idx             59299 non-null  int64  \n",
            " 5   customer_type            59299 non-null  object \n",
            " 6   enterprise               59299 non-null  object \n",
            " 7   historical_existing_cnt  59299 non-null  float64\n",
            " 8   id_strategic_ver         59299 non-null  float64\n",
            " 9   it_strategic_ver         59299 non-null  float64\n",
            " 10  idit_strategic_ver       59299 non-null  float64\n",
            " 11  customer_job             59299 non-null  object \n",
            " 12  lead_desc_length         59299 non-null  float64\n",
            " 13  inquiry_type             59299 non-null  object \n",
            " 14  product_category         59299 non-null  object \n",
            " 15  product_subcategory      59299 non-null  object \n",
            " 16  product_modelname        59299 non-null  object \n",
            " 17  customer_country.1       59299 non-null  object \n",
            " 18  customer_position        59299 non-null  object \n",
            " 19  response_corporate       59299 non-null  object \n",
            " 20  expected_timeline        59299 non-null  object \n",
            " 21  ver_cus                  59299 non-null  int64  \n",
            " 22  ver_pro                  59299 non-null  int64  \n",
            " 23  ver_win_rate_x           59299 non-null  float64\n",
            " 24  ver_win_ratio_per_bu     59299 non-null  float64\n",
            " 25  business_area            59299 non-null  object \n",
            " 26  business_subarea         59299 non-null  object \n",
            " 27  lead_owner               59299 non-null  int64  \n",
            " 28  is_converted             59299 non-null  bool   \n",
            " 29  customer_idx_99          59299 non-null  int64  \n",
            " 30  customer_idx_001         59299 non-null  int64  \n",
            " 31  lead_owner_09            59299 non-null  int64  \n",
            " 32  lead_owner_07            59299 non-null  int64  \n",
            " 33  lead_owner_05            59299 non-null  int64  \n",
            " 34  lead_owner_03            59299 non-null  int64  \n",
            " 35  lead_owner_00            59299 non-null  int64  \n",
            "dtypes: bool(1), float64(9), int64(11), object(15)\n",
            "memory usage: 15.9+ MB\n"
          ]
        }
      ],
      "source": [
        "df_train_process.info()"
      ]
    },
    {
      "cell_type": "markdown",
      "id": "08efd9a3",
      "metadata": {},
      "source": [
        "## 3. 피처엔지니어링"
      ]
    },
    {
      "cell_type": "markdown",
      "id": "4bd47e00",
      "metadata": {
        "id": "4bd47e00"
      },
      "source": [
        "### 레이블 인코딩"
      ]
    },
    {
      "cell_type": "code",
      "execution_count": 6,
      "id": "b53d4d09",
      "metadata": {},
      "outputs": [],
      "source": [
        "df_train_encoded = pd.read_csv('./data/Ch3/df_train_encoded.csv')\n",
        "df_test_encoded = pd.read_csv('./data/Ch3/df_test_encoded.csv')"
      ]
    },
    {
      "cell_type": "code",
      "execution_count": 7,
      "id": "ca62d87e",
      "metadata": {},
      "outputs": [
        {
          "name": "stdout",
          "output_type": "stream",
          "text": [
            "<class 'pandas.core.frame.DataFrame'>\n",
            "RangeIndex: 59299 entries, 0 to 59298\n",
            "Data columns (total 32 columns):\n",
            " #   Column                   Non-Null Count  Dtype  \n",
            "---  ------                   --------------  -----  \n",
            " 0   bant_submit              59299 non-null  float64\n",
            " 1   business_unit            59299 non-null  float64\n",
            " 2   com_reg_ver_win_rate     59299 non-null  float64\n",
            " 3   customer_type            59299 non-null  float64\n",
            " 4   enterprise               59299 non-null  float64\n",
            " 5   historical_existing_cnt  59299 non-null  float64\n",
            " 6   id_strategic_ver         59299 non-null  float64\n",
            " 7   it_strategic_ver         59299 non-null  float64\n",
            " 8   idit_strategic_ver       59299 non-null  float64\n",
            " 9   customer_job             59299 non-null  float64\n",
            " 10  lead_desc_length         59299 non-null  float64\n",
            " 11  inquiry_type             59299 non-null  float64\n",
            " 12  product_category         59299 non-null  float64\n",
            " 13  product_subcategory      59299 non-null  float64\n",
            " 14  customer_country.1       59299 non-null  float64\n",
            " 15  customer_position        59299 non-null  float64\n",
            " 16  response_corporate       59299 non-null  float64\n",
            " 17  expected_timeline        59299 non-null  float64\n",
            " 18  ver_cus                  59299 non-null  int64  \n",
            " 19  ver_pro                  59299 non-null  int64  \n",
            " 20  ver_win_rate_x           59299 non-null  float64\n",
            " 21  ver_win_ratio_per_bu     59299 non-null  float64\n",
            " 22  business_area            59299 non-null  float64\n",
            " 23  business_subarea         59299 non-null  float64\n",
            " 24  is_converted             59299 non-null  bool   \n",
            " 25  customer_idx_99          59299 non-null  int64  \n",
            " 26  customer_idx_001         59299 non-null  int64  \n",
            " 27  lead_owner_09            59299 non-null  int64  \n",
            " 28  lead_owner_07            59299 non-null  int64  \n",
            " 29  lead_owner_05            59299 non-null  int64  \n",
            " 30  lead_owner_03            59299 non-null  int64  \n",
            " 31  lead_owner_00            59299 non-null  int64  \n",
            "dtypes: bool(1), float64(22), int64(9)\n",
            "memory usage: 14.1 MB\n"
          ]
        }
      ],
      "source": [
        "df_train_encoded.info()"
      ]
    },
    {
      "cell_type": "markdown",
      "id": "79ecfa9b",
      "metadata": {
        "id": "79ecfa9b"
      },
      "source": [
        "## 4. 모델 학습"
      ]
    },
    {
      "cell_type": "markdown",
      "id": "549e5839",
      "metadata": {},
      "source": [
        "### 데이터 분할"
      ]
    },
    {
      "cell_type": "markdown",
      "id": "260c49ec",
      "metadata": {},
      "source": [
        "학습, 검증 데이터 분리"
      ]
    },
    {
      "cell_type": "code",
      "execution_count": 8,
      "id": "49d3e487",
      "metadata": {},
      "outputs": [],
      "source": [
        "# !pip install imblearn"
      ]
    },
    {
      "cell_type": "code",
      "execution_count": 9,
      "id": "ce1a9711",
      "metadata": {},
      "outputs": [],
      "source": [
        "from sklearn.model_selection import train_test_split\n",
        "\n",
        "df_train_encoded.loc[df_train_encoded['is_converted'] == True, 'is_converted'] = 1\n",
        "df_train_encoded.loc[df_train_encoded['is_converted'] == False, 'is_converted'] = 0\n",
        "\n",
        "df_train_encoded['is_converted'] = df_train_encoded['is_converted'].astype(float)\n",
        "\n",
        "X = df_train_encoded[df_train_encoded.columns.drop('is_converted')]\n",
        "Y = df_train_encoded['is_converted']\n",
        "\n",
        "# X와 Y로 나누기\n",
        "x_train, x_val, y_train, y_val = train_test_split(X, Y, test_size=0.2, random_state=0, shuffle=True)\n",
        "\n",
        "# 예측에 필요한 데이터 분리\n",
        "x_test = df_test_encoded.drop([\"is_converted\"], axis=1)"
      ]
    },
    {
      "cell_type": "code",
      "execution_count": 10,
      "id": "77b2e47a",
      "metadata": {},
      "outputs": [],
      "source": [
        "from imblearn.over_sampling import SMOTE\n",
        "from imblearn.under_sampling import RandomUnderSampler\n",
        "from imblearn.pipeline import Pipeline\n",
        "\n",
        "# SMOTE와 RandomUnderSampler를 파이프라인으로 결합\n",
        "resample = Pipeline([('SMOTE', SMOTE(random_state=0)), \n",
        "                     ('RandomUnderSampler', RandomUnderSampler(random_state=0))])\n",
        "\n",
        "# 데이터에 오버샘플링과 언더샘플링 적용\n",
        "x_train, y_train = resample.fit_resample(x_train, y_train)\n"
      ]
    },
    {
      "cell_type": "markdown",
      "id": "295c9479",
      "metadata": {
        "id": "295c9479"
      },
      "source": [
        "### 모델 라이브러리"
      ]
    },
    {
      "cell_type": "markdown",
      "id": "2b97e189",
      "metadata": {
        "id": "2b97e189"
      },
      "source": [
        "단일모델 기준으로 사용할수 있는 모델들의 라이브러리를 불러오는 코드에 작성"
      ]
    },
    {
      "cell_type": "code",
      "execution_count": 11,
      "id": "b5be751e",
      "metadata": {
        "id": "b5be751e"
      },
      "outputs": [],
      "source": [
        "# 모델 라이브러리\n",
        "from lightgbm import LGBMClassifier\n",
        "from catboost import CatBoostClassifier\n",
        "from xgboost import XGBClassifier\n",
        "from sklearn.tree import DecisionTreeClassifier\n",
        "from sklearn.ensemble import RandomForestClassifier, ExtraTreesClassifier, GradientBoostingClassifier, AdaBoostClassifier\n",
        "\n",
        "# 보팅\n",
        "from sklearn.ensemble import VotingClassifier\n",
        "\n",
        "# 스테킹\n",
        "from sklearn.ensemble import StackingClassifier"
      ]
    },
    {
      "cell_type": "markdown",
      "id": "3caf257b",
      "metadata": {
        "id": "3caf257b"
      },
      "source": [
        "### 최적 하이퍼 파라미터 찾기"
      ]
    },
    {
      "cell_type": "markdown",
      "id": "c9bd19c1",
      "metadata": {
        "id": "c9bd19c1"
      },
      "source": [
        "optuna를 통한 최적의 파라미터 찾기"
      ]
    },
    {
      "cell_type": "code",
      "execution_count": 12,
      "id": "478def87",
      "metadata": {},
      "outputs": [],
      "source": [
        "## 파라미터 찾는 과정.. ##"
      ]
    },
    {
      "cell_type": "markdown",
      "id": "9793459e",
      "metadata": {
        "id": "9793459e"
      },
      "source": [
        "다시한번 optuna를 통한 최적의 파라미터 찾는과정"
      ]
    },
    {
      "cell_type": "markdown",
      "id": "3401ec15",
      "metadata": {
        "id": "3401ec15"
      },
      "source": [
        "### 모델 정의"
      ]
    },
    {
      "cell_type": "markdown",
      "id": "6b2257be",
      "metadata": {},
      "source": [
        "#### 단일 모델"
      ]
    },
    {
      "cell_type": "code",
      "execution_count": 13,
      "id": "9193fac9",
      "metadata": {
        "id": "9193fac9"
      },
      "outputs": [],
      "source": [
        "## hyper parameter -> Optuna (final EDA Lite ver)\n",
        "\n",
        "# RandomForest\n",
        "rf_model = RandomForestClassifier(\n",
        "    n_estimators=1260\n",
        "    , max_depth=41\n",
        "    , min_samples_split=2\n",
        "    , min_samples_leaf=1   \n",
        "    , bootstrap=True\n",
        "    , criterion='gini'\n",
        "    , random_state=0\n",
        ")\n",
        "\n",
        "# LightGBM\n",
        "lgbm_model = LGBMClassifier(\n",
        "    n_estimators=834\n",
        "    , max_depth=40\n",
        "    , num_leaves=85\n",
        "    , learning_rate=0.12303612733589961\n",
        "    , min_child_samples=30\n",
        "    , verbose=-1\n",
        "\t, random_state=0\n",
        ")\n",
        "\n",
        "# LightGBM_dart\n",
        "lgbm_dart_model = LGBMClassifier(\n",
        "    n_estimators=1029\n",
        "    , num_leaves=167\n",
        "    , max_depth=30\n",
        "    , learning_rate=0.05767571715999541\n",
        "    , min_child_samples=25\n",
        "    , verbose=-1\n",
        "    , boosting='dart'  # dart 사용\n",
        "    , random_state=0\n",
        ")\n",
        "\n",
        "# CatBoost\n",
        "cat_model = CatBoostClassifier(\n",
        "    iterations=3455\n",
        "    , learning_rate=0.32379048176316866\n",
        "    , depth=9\n",
        "    , verbose=False\n",
        "    , random_state=0\n",
        ")\n",
        "\n",
        "# XGBoost \n",
        "xgb_model = XGBClassifier(\n",
        "    n_estimators=2069\n",
        "    , learning_rate=0.07125304368155233\n",
        "    , max_depth=6\n",
        "    , objective='binary:logistic'\n",
        "    , eval_metric=\"auc\"\n",
        "    , random_state=0\n",
        ")\n",
        "\n",
        "# GradientBoosting\n",
        "gb_model = GradientBoostingClassifier(\n",
        "    n_estimators=851\n",
        "    , learning_rate=0.0752545884620923\n",
        "    , max_depth=11\n",
        "    , min_samples_leaf=11\n",
        "    , random_state=0\n",
        ")\n",
        "\n",
        "# ExtraTrees\n",
        "et_model = ExtraTreesClassifier(\n",
        "    n_estimators=1009\n",
        "    , max_depth=36\n",
        "    , min_samples_split=2\n",
        "    , min_samples_leaf=1\n",
        "    , criterion='entropy'\n",
        "    , random_state=0\n",
        ")  \n",
        "\n",
        "# DecisionTree\n",
        "dt_model = DecisionTreeClassifier(\n",
        "    max_depth=21\n",
        "    , min_samples_split=29  \n",
        "    , min_samples_leaf=8 \n",
        "    , criterion='entropy'\n",
        "    , random_state=0\n",
        ")  \n",
        "\n",
        "# AdaBoost\n",
        "ada_model = AdaBoostClassifier(\n",
        "    n_estimators=2998\n",
        "    , learning_rate=0.8670594137755283\n",
        "    , algorithm='SAMME.R'\n",
        "    , random_state=0\n",
        ")"
      ]
    },
    {
      "cell_type": "markdown",
      "id": "c2c32f9e",
      "metadata": {},
      "source": [
        "#### 보팅"
      ]
    },
    {
      "cell_type": "code",
      "execution_count": 14,
      "id": "1bc49c00",
      "metadata": {},
      "outputs": [],
      "source": [
        "### 보팅 분류기 생성 ###\n",
        "model = VotingClassifier(\n",
        "    estimators=[\n",
        "        # ('rf', rf_model),\n",
        "        ('cat', cat_model),\n",
        "        # ('lgb', lgbm_model),\n",
        "        ('lgb_dart',lgbm_dart_model),\n",
        "        ('xgb', xgb_model),\n",
        "        ('gb', gb_model),\n",
        "        ('ada', ada_model),\n",
        "        # ('dt', dt_model),\n",
        "        # ('et', et_model),\n",
        "    ],\n",
        "    voting='soft'  # 'hard'는 다수결 투표, 'soft'는 확률 평균\n",
        ")"
      ]
    },
    {
      "cell_type": "markdown",
      "id": "f64becb1",
      "metadata": {},
      "source": [
        "#### 스태킹"
      ]
    },
    {
      "cell_type": "code",
      "execution_count": 15,
      "id": "b6eb0d2f",
      "metadata": {},
      "outputs": [],
      "source": [
        "### 스태킹 분류기 생성 ###\n",
        "model = StackingClassifier(\n",
        "    estimators=[\n",
        "        ('rf', rf_model),\n",
        "        ('cat', cat_model),\n",
        "        # ('lgb', lgbm_model),\n",
        "        ('lgb_dart',lgbm_dart_model),\n",
        "        ('xgb', xgb_model),\n",
        "        # ('gb', gb_model),\n",
        "        # ('ada', ada_model),\n",
        "        # ('dt', dt_model),\n",
        "        ('et', et_model),\n",
        "    ],\n",
        "    final_estimator=lgbm_model  # 최종 메타 모델\n",
        ")"
      ]
    },
    {
      "cell_type": "code",
      "execution_count": 16,
      "id": "a5932502",
      "metadata": {},
      "outputs": [],
      "source": [
        "# # LightGBM_dart\n",
        "# model = LGBMClassifier(\n",
        "#     n_estimators=1029\n",
        "#     , num_leaves=167\n",
        "#     , max_depth=30\n",
        "#     , learning_rate=0.05767571715999541\n",
        "#     , min_child_samples=25\n",
        "#     , verbose=-1\n",
        "#     , boosting='dart'  # dart 사용\n",
        "#     , random_state=0\n",
        "# )"
      ]
    },
    {
      "cell_type": "markdown",
      "id": "cacd5ed8",
      "metadata": {
        "id": "cacd5ed8"
      },
      "source": [
        "### 모델 학습"
      ]
    },
    {
      "cell_type": "code",
      "execution_count": 17,
      "id": "9df5f040",
      "metadata": {
        "colab": {
          "base_uri": "https://localhost:8080/",
          "height": 110
        },
        "id": "9df5f040",
        "outputId": "a8b64c9c-5378-4f4b-d555-1213436c7e99"
      },
      "outputs": [
        {
          "data": {
            "text/html": [
              "<style>#sk-container-id-1 {color: black;}#sk-container-id-1 pre{padding: 0;}#sk-container-id-1 div.sk-toggleable {background-color: white;}#sk-container-id-1 label.sk-toggleable__label {cursor: pointer;display: block;width: 100%;margin-bottom: 0;padding: 0.3em;box-sizing: border-box;text-align: center;}#sk-container-id-1 label.sk-toggleable__label-arrow:before {content: \"▸\";float: left;margin-right: 0.25em;color: #696969;}#sk-container-id-1 label.sk-toggleable__label-arrow:hover:before {color: black;}#sk-container-id-1 div.sk-estimator:hover label.sk-toggleable__label-arrow:before {color: black;}#sk-container-id-1 div.sk-toggleable__content {max-height: 0;max-width: 0;overflow: hidden;text-align: left;background-color: #f0f8ff;}#sk-container-id-1 div.sk-toggleable__content pre {margin: 0.2em;color: black;border-radius: 0.25em;background-color: #f0f8ff;}#sk-container-id-1 input.sk-toggleable__control:checked~div.sk-toggleable__content {max-height: 200px;max-width: 100%;overflow: auto;}#sk-container-id-1 input.sk-toggleable__control:checked~label.sk-toggleable__label-arrow:before {content: \"▾\";}#sk-container-id-1 div.sk-estimator input.sk-toggleable__control:checked~label.sk-toggleable__label {background-color: #d4ebff;}#sk-container-id-1 div.sk-label input.sk-toggleable__control:checked~label.sk-toggleable__label {background-color: #d4ebff;}#sk-container-id-1 input.sk-hidden--visually {border: 0;clip: rect(1px 1px 1px 1px);clip: rect(1px, 1px, 1px, 1px);height: 1px;margin: -1px;overflow: hidden;padding: 0;position: absolute;width: 1px;}#sk-container-id-1 div.sk-estimator {font-family: monospace;background-color: #f0f8ff;border: 1px dotted black;border-radius: 0.25em;box-sizing: border-box;margin-bottom: 0.5em;}#sk-container-id-1 div.sk-estimator:hover {background-color: #d4ebff;}#sk-container-id-1 div.sk-parallel-item::after {content: \"\";width: 100%;border-bottom: 1px solid gray;flex-grow: 1;}#sk-container-id-1 div.sk-label:hover label.sk-toggleable__label {background-color: #d4ebff;}#sk-container-id-1 div.sk-serial::before {content: \"\";position: absolute;border-left: 1px solid gray;box-sizing: border-box;top: 0;bottom: 0;left: 50%;z-index: 0;}#sk-container-id-1 div.sk-serial {display: flex;flex-direction: column;align-items: center;background-color: white;padding-right: 0.2em;padding-left: 0.2em;position: relative;}#sk-container-id-1 div.sk-item {position: relative;z-index: 1;}#sk-container-id-1 div.sk-parallel {display: flex;align-items: stretch;justify-content: center;background-color: white;position: relative;}#sk-container-id-1 div.sk-item::before, #sk-container-id-1 div.sk-parallel-item::before {content: \"\";position: absolute;border-left: 1px solid gray;box-sizing: border-box;top: 0;bottom: 0;left: 50%;z-index: -1;}#sk-container-id-1 div.sk-parallel-item {display: flex;flex-direction: column;z-index: 1;position: relative;background-color: white;}#sk-container-id-1 div.sk-parallel-item:first-child::after {align-self: flex-end;width: 50%;}#sk-container-id-1 div.sk-parallel-item:last-child::after {align-self: flex-start;width: 50%;}#sk-container-id-1 div.sk-parallel-item:only-child::after {width: 0;}#sk-container-id-1 div.sk-dashed-wrapped {border: 1px dashed gray;margin: 0 0.4em 0.5em 0.4em;box-sizing: border-box;padding-bottom: 0.4em;background-color: white;}#sk-container-id-1 div.sk-label label {font-family: monospace;font-weight: bold;display: inline-block;line-height: 1.2em;}#sk-container-id-1 div.sk-label-container {text-align: center;}#sk-container-id-1 div.sk-container {/* jupyter's `normalize.less` sets `[hidden] { display: none; }` but bootstrap.min.css set `[hidden] { display: none !important; }` so we also need the `!important` here to be able to override the default hidden behavior on the sphinx rendered scikit-learn.org. See: https://github.com/scikit-learn/scikit-learn/issues/21755 */display: inline-block !important;position: relative;}#sk-container-id-1 div.sk-text-repr-fallback {display: none;}</style><div id=\"sk-container-id-1\" class=\"sk-top-container\"><div class=\"sk-text-repr-fallback\"><pre>StackingClassifier(estimators=[(&#x27;rf&#x27;,\n",
              "                                RandomForestClassifier(max_depth=41,\n",
              "                                                       n_estimators=1260,\n",
              "                                                       random_state=0)),\n",
              "                               (&#x27;cat&#x27;,\n",
              "                                &lt;catboost.core.CatBoostClassifier object at 0x000001C79AB3B790&gt;),\n",
              "                               (&#x27;lgb_dart&#x27;,\n",
              "                                LGBMClassifier(boosting=&#x27;dart&#x27;,\n",
              "                                               learning_rate=0.05767571715999541,\n",
              "                                               max_depth=30,\n",
              "                                               min_child_samples=25,\n",
              "                                               n_estimators=1029,\n",
              "                                               num_leaves=167, random_state=0,\n",
              "                                               verbose=-1)),\n",
              "                               (...\n",
              "                                              monotone_constraints=None,\n",
              "                                              multi_strategy=None,\n",
              "                                              n_estimators=2069, n_jobs=None,\n",
              "                                              num_parallel_tree=None,\n",
              "                                              random_state=0, ...)),\n",
              "                               (&#x27;et&#x27;,\n",
              "                                ExtraTreesClassifier(criterion=&#x27;entropy&#x27;,\n",
              "                                                     max_depth=36,\n",
              "                                                     n_estimators=1009,\n",
              "                                                     random_state=0))],\n",
              "                   final_estimator=LGBMClassifier(learning_rate=0.12303612733589961,\n",
              "                                                  max_depth=40,\n",
              "                                                  min_child_samples=30,\n",
              "                                                  n_estimators=834,\n",
              "                                                  num_leaves=85, random_state=0,\n",
              "                                                  verbose=-1))</pre><b>In a Jupyter environment, please rerun this cell to show the HTML representation or trust the notebook. <br />On GitHub, the HTML representation is unable to render, please try loading this page with nbviewer.org.</b></div><div class=\"sk-container\" hidden><div class=\"sk-item sk-dashed-wrapped\"><div class=\"sk-label-container\"><div class=\"sk-label sk-toggleable\"><input class=\"sk-toggleable__control sk-hidden--visually\" id=\"sk-estimator-id-1\" type=\"checkbox\" ><label for=\"sk-estimator-id-1\" class=\"sk-toggleable__label sk-toggleable__label-arrow\">StackingClassifier</label><div class=\"sk-toggleable__content\"><pre>StackingClassifier(estimators=[(&#x27;rf&#x27;,\n",
              "                                RandomForestClassifier(max_depth=41,\n",
              "                                                       n_estimators=1260,\n",
              "                                                       random_state=0)),\n",
              "                               (&#x27;cat&#x27;,\n",
              "                                &lt;catboost.core.CatBoostClassifier object at 0x000001C79AB3B790&gt;),\n",
              "                               (&#x27;lgb_dart&#x27;,\n",
              "                                LGBMClassifier(boosting=&#x27;dart&#x27;,\n",
              "                                               learning_rate=0.05767571715999541,\n",
              "                                               max_depth=30,\n",
              "                                               min_child_samples=25,\n",
              "                                               n_estimators=1029,\n",
              "                                               num_leaves=167, random_state=0,\n",
              "                                               verbose=-1)),\n",
              "                               (...\n",
              "                                              monotone_constraints=None,\n",
              "                                              multi_strategy=None,\n",
              "                                              n_estimators=2069, n_jobs=None,\n",
              "                                              num_parallel_tree=None,\n",
              "                                              random_state=0, ...)),\n",
              "                               (&#x27;et&#x27;,\n",
              "                                ExtraTreesClassifier(criterion=&#x27;entropy&#x27;,\n",
              "                                                     max_depth=36,\n",
              "                                                     n_estimators=1009,\n",
              "                                                     random_state=0))],\n",
              "                   final_estimator=LGBMClassifier(learning_rate=0.12303612733589961,\n",
              "                                                  max_depth=40,\n",
              "                                                  min_child_samples=30,\n",
              "                                                  n_estimators=834,\n",
              "                                                  num_leaves=85, random_state=0,\n",
              "                                                  verbose=-1))</pre></div></div></div><div class=\"sk-serial\"><div class=\"sk-item\"><div class=\"sk-parallel\"><div class=\"sk-parallel-item\"><div class=\"sk-item\"><div class=\"sk-label-container\"><div class=\"sk-label sk-toggleable\"><label>rf</label></div></div><div class=\"sk-serial\"><div class=\"sk-item\"><div class=\"sk-estimator sk-toggleable\"><input class=\"sk-toggleable__control sk-hidden--visually\" id=\"sk-estimator-id-2\" type=\"checkbox\" ><label for=\"sk-estimator-id-2\" class=\"sk-toggleable__label sk-toggleable__label-arrow\">RandomForestClassifier</label><div class=\"sk-toggleable__content\"><pre>RandomForestClassifier(max_depth=41, n_estimators=1260, random_state=0)</pre></div></div></div></div></div></div><div class=\"sk-parallel-item\"><div class=\"sk-item\"><div class=\"sk-label-container\"><div class=\"sk-label sk-toggleable\"><label>cat</label></div></div><div class=\"sk-serial\"><div class=\"sk-item\"><div class=\"sk-estimator sk-toggleable\"><input class=\"sk-toggleable__control sk-hidden--visually\" id=\"sk-estimator-id-3\" type=\"checkbox\" ><label for=\"sk-estimator-id-3\" class=\"sk-toggleable__label sk-toggleable__label-arrow\">CatBoostClassifier</label><div class=\"sk-toggleable__content\"><pre>&lt;catboost.core.CatBoostClassifier object at 0x000001C79AB3B790&gt;</pre></div></div></div></div></div></div><div class=\"sk-parallel-item\"><div class=\"sk-item\"><div class=\"sk-label-container\"><div class=\"sk-label sk-toggleable\"><label>lgb_dart</label></div></div><div class=\"sk-serial\"><div class=\"sk-item\"><div class=\"sk-estimator sk-toggleable\"><input class=\"sk-toggleable__control sk-hidden--visually\" id=\"sk-estimator-id-4\" type=\"checkbox\" ><label for=\"sk-estimator-id-4\" class=\"sk-toggleable__label sk-toggleable__label-arrow\">LGBMClassifier</label><div class=\"sk-toggleable__content\"><pre>LGBMClassifier(boosting=&#x27;dart&#x27;, learning_rate=0.05767571715999541, max_depth=30,\n",
              "               min_child_samples=25, n_estimators=1029, num_leaves=167,\n",
              "               random_state=0, verbose=-1)</pre></div></div></div></div></div></div><div class=\"sk-parallel-item\"><div class=\"sk-item\"><div class=\"sk-label-container\"><div class=\"sk-label sk-toggleable\"><label>xgb</label></div></div><div class=\"sk-serial\"><div class=\"sk-item\"><div class=\"sk-estimator sk-toggleable\"><input class=\"sk-toggleable__control sk-hidden--visually\" id=\"sk-estimator-id-5\" type=\"checkbox\" ><label for=\"sk-estimator-id-5\" class=\"sk-toggleable__label sk-toggleable__label-arrow\">XGBClassifier</label><div class=\"sk-toggleable__content\"><pre>XGBClassifier(base_score=None, booster=None, callbacks=None,\n",
              "              colsample_bylevel=None, colsample_bynode=None,\n",
              "              colsample_bytree=None, device=None, early_stopping_rounds=None,\n",
              "              enable_categorical=False, eval_metric=&#x27;auc&#x27;, feature_types=None,\n",
              "              gamma=None, grow_policy=None, importance_type=None,\n",
              "              interaction_constraints=None, learning_rate=0.07125304368155233,\n",
              "              max_bin=None, max_cat_threshold=None, max_cat_to_onehot=None,\n",
              "              max_delta_step=None, max_depth=6, max_leaves=None,\n",
              "              min_child_weight=None, missing=nan, monotone_constraints=None,\n",
              "              multi_strategy=None, n_estimators=2069, n_jobs=None,\n",
              "              num_parallel_tree=None, random_state=0, ...)</pre></div></div></div></div></div></div><div class=\"sk-parallel-item\"><div class=\"sk-item\"><div class=\"sk-label-container\"><div class=\"sk-label sk-toggleable\"><label>et</label></div></div><div class=\"sk-serial\"><div class=\"sk-item\"><div class=\"sk-estimator sk-toggleable\"><input class=\"sk-toggleable__control sk-hidden--visually\" id=\"sk-estimator-id-6\" type=\"checkbox\" ><label for=\"sk-estimator-id-6\" class=\"sk-toggleable__label sk-toggleable__label-arrow\">ExtraTreesClassifier</label><div class=\"sk-toggleable__content\"><pre>ExtraTreesClassifier(criterion=&#x27;entropy&#x27;, max_depth=36, n_estimators=1009,\n",
              "                     random_state=0)</pre></div></div></div></div></div></div></div></div><div class=\"sk-item\"><div class=\"sk-parallel\"><div class=\"sk-parallel-item\"><div class=\"sk-item\"><div class=\"sk-label-container\"><div class=\"sk-label sk-toggleable\"><label>final_estimator</label></div></div><div class=\"sk-serial\"><div class=\"sk-item\"><div class=\"sk-estimator sk-toggleable\"><input class=\"sk-toggleable__control sk-hidden--visually\" id=\"sk-estimator-id-7\" type=\"checkbox\" ><label for=\"sk-estimator-id-7\" class=\"sk-toggleable__label sk-toggleable__label-arrow\">LGBMClassifier</label><div class=\"sk-toggleable__content\"><pre>LGBMClassifier(learning_rate=0.12303612733589961, max_depth=40,\n",
              "               min_child_samples=30, n_estimators=834, num_leaves=85,\n",
              "               random_state=0, verbose=-1)</pre></div></div></div></div></div></div></div></div></div></div></div></div>"
            ],
            "text/plain": [
              "StackingClassifier(estimators=[('rf',\n",
              "                                RandomForestClassifier(max_depth=41,\n",
              "                                                       n_estimators=1260,\n",
              "                                                       random_state=0)),\n",
              "                               ('cat',\n",
              "                                <catboost.core.CatBoostClassifier object at 0x000001C79AB3B790>),\n",
              "                               ('lgb_dart',\n",
              "                                LGBMClassifier(boosting='dart',\n",
              "                                               learning_rate=0.05767571715999541,\n",
              "                                               max_depth=30,\n",
              "                                               min_child_samples=25,\n",
              "                                               n_estimators=1029,\n",
              "                                               num_leaves=167, random_state=0,\n",
              "                                               verbose=-1)),\n",
              "                               (...\n",
              "                                              monotone_constraints=None,\n",
              "                                              multi_strategy=None,\n",
              "                                              n_estimators=2069, n_jobs=None,\n",
              "                                              num_parallel_tree=None,\n",
              "                                              random_state=0, ...)),\n",
              "                               ('et',\n",
              "                                ExtraTreesClassifier(criterion='entropy',\n",
              "                                                     max_depth=36,\n",
              "                                                     n_estimators=1009,\n",
              "                                                     random_state=0))],\n",
              "                   final_estimator=LGBMClassifier(learning_rate=0.12303612733589961,\n",
              "                                                  max_depth=40,\n",
              "                                                  min_child_samples=30,\n",
              "                                                  n_estimators=834,\n",
              "                                                  num_leaves=85, random_state=0,\n",
              "                                                  verbose=-1))"
            ]
          },
          "execution_count": 17,
          "metadata": {},
          "output_type": "execute_result"
        }
      ],
      "source": [
        "model.fit(x_train, y_train)"
      ]
    },
    {
      "cell_type": "markdown",
      "id": "6bf2de5f",
      "metadata": {
        "id": "6bf2de5f"
      },
      "source": [
        "### 모델 성능 보기"
      ]
    },
    {
      "cell_type": "code",
      "execution_count": 18,
      "id": "c8871444",
      "metadata": {
        "id": "c8871444"
      },
      "outputs": [],
      "source": [
        "from sklearn.metrics import (\n",
        "    accuracy_score,\n",
        "    confusion_matrix,\n",
        "    f1_score,\n",
        "    precision_score,\n",
        "    recall_score,\n",
        ")\n",
        "\n",
        "def get_clf_eval(y_test, y_pred=None):\n",
        "    confusion = confusion_matrix(y_test, y_pred, labels=[True, False])\n",
        "    accuracy = accuracy_score(y_test, y_pred)\n",
        "    precision = precision_score(y_test, y_pred, labels=[True, False])\n",
        "    recall = recall_score(y_test, y_pred)\n",
        "    F1 = f1_score(y_test, y_pred, labels=[True, False])\n",
        "    weighted_F1 = f1_score(y_test, y_pred, average='weighted')\n",
        "\n",
        "    metrics = pd.DataFrame({\n",
        "        '정확도': [accuracy],\n",
        "        '정밀도': [precision],\n",
        "        '재현율': [recall],\n",
        "        'F1 Score': [F1],\n",
        "        'Weighted F1': [weighted_F1]\n",
        "    })\n",
        "\n",
        "    confusion_df = pd.DataFrame(confusion, index=['True', 'False'], columns=['True', 'False'])\n",
        "\n",
        "    print(\"\\n오차행렬:\")\n",
        "    display(confusion_df)\n",
        "    print(\"평가 지표:\")\n",
        "    display(metrics)\n"
      ]
    },
    {
      "cell_type": "code",
      "execution_count": 19,
      "id": "56a86373",
      "metadata": {
        "colab": {
          "base_uri": "https://localhost:8080/",
          "height": 231
        },
        "id": "56a86373",
        "outputId": "b0c0f95b-f5c0-4530-fdb2-a0ecc2b31b5a"
      },
      "outputs": [
        {
          "name": "stdout",
          "output_type": "stream",
          "text": [
            "\n",
            "오차행렬:\n"
          ]
        },
        {
          "data": {
            "text/html": [
              "<div>\n",
              "<style scoped>\n",
              "    .dataframe tbody tr th:only-of-type {\n",
              "        vertical-align: middle;\n",
              "    }\n",
              "\n",
              "    .dataframe tbody tr th {\n",
              "        vertical-align: top;\n",
              "    }\n",
              "\n",
              "    .dataframe thead th {\n",
              "        text-align: right;\n",
              "    }\n",
              "</style>\n",
              "<table border=\"1\" class=\"dataframe\">\n",
              "  <thead>\n",
              "    <tr style=\"text-align: right;\">\n",
              "      <th></th>\n",
              "      <th>True</th>\n",
              "      <th>False</th>\n",
              "    </tr>\n",
              "  </thead>\n",
              "  <tbody>\n",
              "    <tr>\n",
              "      <th>True</th>\n",
              "      <td>779</td>\n",
              "      <td>215</td>\n",
              "    </tr>\n",
              "    <tr>\n",
              "      <th>False</th>\n",
              "      <td>157</td>\n",
              "      <td>10709</td>\n",
              "    </tr>\n",
              "  </tbody>\n",
              "</table>\n",
              "</div>"
            ],
            "text/plain": [
              "       True  False\n",
              "True    779    215\n",
              "False   157  10709"
            ]
          },
          "metadata": {},
          "output_type": "display_data"
        },
        {
          "name": "stdout",
          "output_type": "stream",
          "text": [
            "평가 지표:\n"
          ]
        },
        {
          "data": {
            "text/html": [
              "<div>\n",
              "<style scoped>\n",
              "    .dataframe tbody tr th:only-of-type {\n",
              "        vertical-align: middle;\n",
              "    }\n",
              "\n",
              "    .dataframe tbody tr th {\n",
              "        vertical-align: top;\n",
              "    }\n",
              "\n",
              "    .dataframe thead th {\n",
              "        text-align: right;\n",
              "    }\n",
              "</style>\n",
              "<table border=\"1\" class=\"dataframe\">\n",
              "  <thead>\n",
              "    <tr style=\"text-align: right;\">\n",
              "      <th></th>\n",
              "      <th>정확도</th>\n",
              "      <th>정밀도</th>\n",
              "      <th>재현율</th>\n",
              "      <th>F1 Score</th>\n",
              "      <th>Weighted F1</th>\n",
              "    </tr>\n",
              "  </thead>\n",
              "  <tbody>\n",
              "    <tr>\n",
              "      <th>0</th>\n",
              "      <td>0.968634</td>\n",
              "      <td>0.832265</td>\n",
              "      <td>0.783702</td>\n",
              "      <td>0.807254</td>\n",
              "      <td>0.968205</td>\n",
              "    </tr>\n",
              "  </tbody>\n",
              "</table>\n",
              "</div>"
            ],
            "text/plain": [
              "        정확도       정밀도       재현율  F1 Score  Weighted F1\n",
              "0  0.968634  0.832265  0.783702  0.807254     0.968205"
            ]
          },
          "metadata": {},
          "output_type": "display_data"
        }
      ],
      "source": [
        "pred = model.predict(x_val)\n",
        "get_clf_eval(y_val, pred)"
      ]
    },
    {
      "cell_type": "markdown",
      "id": "7adf8300",
      "metadata": {
        "id": "7adf8300"
      },
      "source": [
        "## 4. 제출하기"
      ]
    },
    {
      "cell_type": "markdown",
      "id": "9d0b6e17",
      "metadata": {
        "id": "9d0b6e17"
      },
      "source": [
        "### 테스트 데이터 예측"
      ]
    },
    {
      "cell_type": "code",
      "execution_count": 20,
      "id": "43daa73c",
      "metadata": {
        "id": "43daa73c"
      },
      "outputs": [],
      "source": [
        "# 예측에 필요한 데이터 분리\n",
        "x_test = df_test_encoded.drop([\"is_converted\", \"id\"], axis=1)"
      ]
    },
    {
      "cell_type": "code",
      "execution_count": 21,
      "id": "d13f7a6e",
      "metadata": {
        "colab": {
          "base_uri": "https://localhost:8080/"
        },
        "id": "d13f7a6e",
        "outputId": "dcef4162-f5dc-4624-a9d8-b997299b4591"
      },
      "outputs": [
        {
          "data": {
            "text/plain": [
              "713.0"
            ]
          },
          "execution_count": 21,
          "metadata": {},
          "output_type": "execute_result"
        }
      ],
      "source": [
        "test_pred = model.predict(x_test)\n",
        "sum(test_pred) # True로 예측된 개수"
      ]
    },
    {
      "cell_type": "markdown",
      "id": "47f18e6a",
      "metadata": {
        "id": "47f18e6a"
      },
      "source": [
        "### 제출 파일 작성"
      ]
    },
    {
      "cell_type": "code",
      "execution_count": 22,
      "id": "3128a458",
      "metadata": {
        "id": "3128a458"
      },
      "outputs": [],
      "source": [
        "# 제출 데이터 읽어오기 (df_test는 전처리된 데이터가 저장됨)\n",
        "df_sub = pd.read_csv(\"./data/submission.csv\")\n",
        "df_sub[\"is_converted\"] = test_pred\n",
        "\n",
        "# 제출 파일 저장\n",
        "df_sub.to_csv(\"submission_ss2.csv\", index=False)"
      ]
    },
    {
      "cell_type": "markdown",
      "id": "ec7867ce",
      "metadata": {
        "id": "ec7867ce"
      },
      "source": [
        "**우측 상단의 제출 버튼을 클릭해 결과를 확인하세요**"
      ]
    },
    {
      "cell_type": "markdown",
      "id": "413b3cb9",
      "metadata": {},
      "source": [
        "."
      ]
    }
  ],
  "metadata": {
    "colab": {
      "provenance": []
    },
    "kernelspec": {
      "display_name": "Python 3 (ipykernel)",
      "language": "python",
      "name": "python3"
    },
    "language_info": {
      "codemirror_mode": {
        "name": "ipython",
        "version": 3
      },
      "file_extension": ".py",
      "mimetype": "text/x-python",
      "name": "python",
      "nbconvert_exporter": "python",
      "pygments_lexer": "ipython3",
      "version": "3.10.4"
    }
  },
  "nbformat": 4,
  "nbformat_minor": 5
}
